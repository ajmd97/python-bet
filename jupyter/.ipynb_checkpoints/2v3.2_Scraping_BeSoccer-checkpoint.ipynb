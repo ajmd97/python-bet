{
 "cells": [
  {
   "cell_type": "code",
   "execution_count": 1,
   "id": "ea42a0a0",
   "metadata": {},
   "outputs": [],
   "source": [
    "################################################################################################\n",
    "################################################################################################\n",
    "## REVISIÓN DE VERSIONES                                                                      ##\n",
    "##                                                                                            ##\n",
    "## v.3.2.                                                                                     ##\n",
    "##  -                                                                                         ##\n",
    "##                                                                                            ##\n",
    "## v.3.1.                                                                                     ##\n",
    "## - Menú para elegir si scrapear sólo competiciones, sólo partidos diarios o todo (VS Code)  ##\n",
    "## - limpieza de código                                                                       ##\n",
    "## - sustituido .append por pd.concat                                                         ##\n",
    "## - detecta automáticamente los tres días siguientes para escrapear partidos diarios         ##\n",
    "## - detecta automáticamente zona horaria para ajustar hora de los partidos                   ##\n",
    "##                                                                                            ##\n",
    "## v.3.0                                                                                      ##\n",
    "## - hace scraping de uns lista de competiciones y página de partidos diarios                 ##\n",
    "## - busca registros duplicados y los elimina                                                 ##\n",
    "## - añade columna con los porcentajes de partidos NoGoal                                     ##\n",
    "##                                                                                            ##\n",
    "## v.2.1                                                                                      ##\n",
    "## - añade la paginación de los partidos diarios                                              ##\n",
    "##                                                                                            ##\n",
    "## v.2.0                                                                                      ##\n",
    "## - scraping de una página específica de partidos diarios                                    ##\n",
    "## - crea dataframe y lo envía a archivo .csv                                                 ##\n",
    "##                                                                                            ##\n",
    "################################################################################################\n",
    "################################################################################################"
   ]
  },
  {
   "cell_type": "code",
   "execution_count": 2,
   "id": "9305ee57",
   "metadata": {},
   "outputs": [],
   "source": [
    "import requests\n",
    "from bs4 import BeautifulSoup\n",
    "import pandas as pd\n",
    "import numpy as np\n",
    "from tqdm import tqdm\n",
    "import datetime\n",
    "from datetime import datetime, date, timedelta, timezone\n",
    "import pytz as tz\n",
    "from pytz import timezone"
   ]
  },
  {
   "cell_type": "code",
   "execution_count": 3,
   "id": "ec7f6129",
   "metadata": {},
   "outputs": [],
   "source": [
    "def obtener_stats(func_stats):\n",
    "    stats_dict = {}\n",
    "    \n",
    "    date = func_stats.find('div', attrs={'class':'info match-link'})\n",
    "    if date:\n",
    "        stats_dict['date'] = date.get('starttime').replace('T',' ').replace(':00+00:00','')\n",
    "    else:\n",
    "        stats_dict['date'] = '-'\n",
    " \n",
    "    zerozero = func_stats.find('div', attrs={'class':'content-box draw'}).find('div', attrs={'class':'cont'})\n",
    "    if zerozero:\n",
    "        stats_dict['zerozero'] = zerozero.get_text('/',strip=True).replace('%','')[4:10]\n",
    "    else:\n",
    "        stats_dict['zerozero'] = '-' \n",
    "        \n",
    "    homeRank = func_stats.find('div', attrs={'class':'position t1'})\n",
    "    if homeRank:\n",
    "        stats_dict['homeRank'] = homeRank.get_text()\n",
    "    else:\n",
    "        stats_dict['homeRank'] = '-'    \n",
    "            \n",
    "    homeTeam = func_stats.find('p', attrs={'itemprop':'homeTeam'})\n",
    "    if homeTeam:\n",
    "        stats_dict['homeTeam'] = homeTeam.get_text('/', strip=True)\n",
    "    else:\n",
    "        stats_dict['homeTeam'] = '-'\n",
    "\n",
    "    homeVictory = func_stats.find('div', attrs={'class':'content-box t-1'}).find('div', attrs={'class':'poss-box'})\n",
    "    if homeVictory:\n",
    "        stats_dict['homeVictory'] = homeVictory.get_text('/', strip=True).replace('/Probabilidad gana/',' - ')[0:2].replace('.','').replace('%','')\n",
    "    else:\n",
    "        stats_dict['homeVictory'] = '-'     \n",
    "        \n",
    "    homeGoals = func_stats.find('div', attrs={'class':'content-box t-1'}).find('div', attrs={'class':'poss-box'})\n",
    "    if homeGoals:\n",
    "        stats_dict['homeGoals'] = homeGoals.get_text('/', strip=True).replace('/Probabilidad gana/',' - ').replace('/Goles esperados','')[6::].replace('-','').replace('%','')\n",
    "    else:\n",
    "        stats_dict['homeGoals'] = '-'   \n",
    "\n",
    "    awayGoals = func_stats.find('div', attrs={'class':'content-box t-2'}).find('div', attrs={'class':'poss-box'})\n",
    "    if awayGoals:\n",
    "        stats_dict['awayGoals'] = awayGoals.get_text('/', strip=True).replace('/Probabilidad gana/',' - ').replace('/Goles esperados','')[6::].replace('-','').replace('%','')\n",
    "    else:\n",
    "        stats_dict['awayGoals'] = '-'   \n",
    "        \n",
    "    awayVictory = func_stats.find('div', attrs={'class':'content-box t-2'}).find('div', attrs={'class':'poss-box'})\n",
    "    if awayVictory:\n",
    "        stats_dict['awayVictory'] = awayVictory.get_text('/', strip=True).replace('/Probabilidad gana/',' - ')[0:2].replace('.','').replace('%','')\n",
    "    else:\n",
    "        stats_dict['awayVictory'] = '-'     \n",
    "\n",
    "    awayTeam = func_stats.find('p', attrs={'itemprop':'awayTeam'})\n",
    "    if awayTeam:\n",
    "        stats_dict['awayTeam'] = awayTeam.get_text('/', strip=True)\n",
    "    else:\n",
    "        stats_dict['awayTeam'] = '-'     \n",
    "     \n",
    "    awayRank = func_stats.find('div', attrs={'class':'position t2'})\n",
    "    if awayRank:\n",
    "        stats_dict['awayRank'] = awayRank.get_text()\n",
    "    else:\n",
    "        stats_dict['awayRank'] = '-' \n",
    "        \n",
    "    competition = func_stats.find('h3', attrs={'class':'competition'})\n",
    "    if competition:\n",
    "        stats_dict['competition'] = competition.get_text('/', strip=True)\n",
    "    else:\n",
    "        stats_dict['competition'] = '-'\n",
    "   \n",
    "    return stats_dict"
   ]
  },
  {
   "cell_type": "code",
   "execution_count": 4,
   "id": "6903d754",
   "metadata": {
    "scrolled": true
   },
   "outputs": [],
   "source": [
    "df = pd.DataFrame()"
   ]
  },
  {
   "cell_type": "code",
   "execution_count": 5,
   "id": "04fa48cd",
   "metadata": {},
   "outputs": [],
   "source": [
    "lista_competiciones = [\n",
    "    'https://es.besoccer.com/competicion/ligue_1',\n",
    "    'https://es.besoccer.com/competicion/escocia',\n",
    "    'https://es.besoccer.com/competicion/portugal',\n",
    "    'https://es.besoccer.com/competicion/segunda_brasilena',\n",
    "    'https://es.besoccer.com/competicion/japon',\n",
    "    'https://es.besoccer.com/competicion/liga_republica_irlanda',\n",
    "    'https://es.besoccer.com/competicion/premier',\n",
    "    'https://es.besoccer.com/competicion/segunda',\n",
    "    'https://es.besoccer.com/competicion/bundesliga_2',\n",
    "    'https://es.besoccer.com/competicion/j_two_league',\n",
    "    'https://es.besoccer.com/competicion/brasil',\n",
    "    'https://es.besoccer.com/competicion/league_one',\n",
    "    'https://es.besoccer.com/competicion/ligue_2',\n",
    "    'https://es.besoccer.com/competicion/primera_division_argentina',\n",
    "    'https://es.besoccer.com/competicion/first_division',\n",
    "    'https://es.besoccer.com/competicion/vitalis',\n",
    "    'https://es.besoccer.com/competicion/serie_b',\n",
    "    'https://es.besoccer.com/competicion/suecia',\n",
    "    'https://es.besoccer.com/competicion/polonia',\n",
    "    'https://es.besoccer.com/competicion/resultados/1_league_polonia/2023',\n",
    "    'https://es.besoccer.com/competicion/resultados/2_league_polonia/2023',\n",
    "    'https://es.besoccer.com/competicion/resultados/3_league_polonia/2023/grupo1',\n",
    "    'https://es.besoccer.com/competicion/resultados/3_league_polonia/2023/grupo2',\n",
    "    'https://es.besoccer.com/competicion/resultados/3_league_polonia/2023/grupo3',\n",
    "    'https://es.besoccer.com/competicion/resultados/3_league_polonia/2023/grupo4',\n",
    "    'https://es.besoccer.com/competicion/corea',\n",
    "    'https://es.besoccer.com/competicion/k_league_corea',\n",
    "    'https://es.besoccer.com/competicion/national_league_corea',\n",
    "    'https://es.besoccer.com/competicion/apertura_mexico',\n",
    "    'https://es.besoccer.com/competicion/liga_de_expansion_mx_apertura',\n",
    "    'https://es.besoccer.com/competicion/usa'\n",
    "    'https://es.besoccer.com/competicion/japon',\n",
    "    'https://es.besoccer.com/competicion/j_two_league',\n",
    "    'https://es.besoccer.com/competicion/japon_league_3'\n",
    "    ]"
   ]
  },
  {
   "cell_type": "code",
   "execution_count": 6,
   "id": "53c355ae",
   "metadata": {},
   "outputs": [],
   "source": [
    "hoy = date.today()\n",
    "manana = (hoy + timedelta(days=1)).strftime('%Y-%m-%d')\n",
    "pasado = (hoy + timedelta(days=2)).strftime('%Y-%m-%d')\n",
    "elotro = (hoy + timedelta(days=3)).strftime('%Y-%m-%d')\n",
    "\n",
    "lista_diaria = []\n",
    "url_diaria1 = f'https://es.besoccer.com/livescore/{manana}'\n",
    "for i in range(1,5):\n",
    "    url = url_diaria1+f'/{i}'\n",
    "    lista_diaria.append(url)\n",
    "url_diaria2 = f'https://es.besoccer.com/livescore/{pasado}'\n",
    "for i in range(1,5):\n",
    "    url = url_diaria2+f'/{i}'\n",
    "    lista_diaria.append(url)\n",
    "url_diaria3 = f'https://es.besoccer.com/livescore/{elotro}'\n",
    "for i in range(1,5):\n",
    "    url = url_diaria3+f'/{i}'\n",
    "    lista_diaria.append(url)\n",
    "\n",
    "lista_diaria"
   ]
  },
  {
   "cell_type": "code",
   "execution_count": 7,
   "id": "caee7a99",
   "metadata": {},
   "outputs": [
    {
     "data": {
      "text/plain": [
       "['https://es.besoccer.com/competicion/vitalis']"
      ]
     },
     "execution_count": 7,
     "metadata": {},
     "output_type": "execute_result"
    }
   ],
   "source": [
    "lista_scrapear = lista_competiciones + lista_diaria\n",
    "lista_scrapear"
   ]
  },
  {
   "cell_type": "code",
   "execution_count": 8,
   "id": "6d04e96f",
   "metadata": {
    "scrolled": true
   },
   "outputs": [
    {
     "name": "stdout",
     "output_type": "stream",
     "text": [
      "0 .- Scrapeando https://es.besoccer.com/competicion/vitalis\n",
      "0 .- https://es.besoccer.com/partido/trofense/feirense/202396351/analisis\n"
     ]
    }
   ],
   "source": [
    "for url in lista_scrapear:\n",
    "    besoccer = requests.get(url)\n",
    "    s_besoccer = BeautifulSoup(besoccer.text, 'lxml')\n",
    "    try:\n",
    "        matches = s_besoccer.find('div', attrs={'class':'comp-matches'}).find_all('a', attrs={'data-status':'-1'})\n",
    "    except Exception as e1:\n",
    "        print(i,'.- La url ',url,' no se pudo scrapear')\n",
    "        print(i,'.-',e1)\n",
    "        print(i,'.- Probando otra configuración...')\n",
    "        try:\n",
    "            matches = s_besoccer.find('div', attrs={'class':'matches'}).find_all('a', attrs={'data-status':'-1'})\n",
    "        except Exception as e2:\n",
    "            print(i,'.- La url ',url,' no se pudo scrapear')\n",
    "            print(i,'.-',e2)\n",
    "\n",
    "    links_matches = [match.get('href') for match in matches]\n",
    "    for i in range(len(links_matches)):\n",
    "        list_analisis = []\n",
    "        r_match = requests.get(links_matches[i])\n",
    "        s_match = BeautifulSoup(r_match.text, 'lxml')\n",
    "        try:\n",
    "            find_analisis = s_match.find('div', attrs={'class':'menu-scroll'}).select('a[href*=\"analisis\"]')\n",
    "            analisis = find_analisis[0]\n",
    "            link_analisis = analisis.get('href')\n",
    "            r_link_analisis = requests.get(link_analisis)\n",
    "            s_link_analisis = BeautifulSoup(r_link_analisis.text, 'lxml')\n",
    "            list_iter = [obtener_stats(s_link_analisis)]\n",
    "            df_iter = pd.DataFrame(list_iter)\n",
    "            df = pd.concat([df, df_iter], axis = 0, ignore_index = True)\n",
    "            print(i,'.- Scrapeando',url)\n",
    "            print(i,'.-', link_analisis)\n",
    "        except Exception as e3:\n",
    "            print(i,'.- La url ',links_matches[i],' no tiene sección análisis')\n",
    "            print(i,'.-',e3)\n",
    "            \n"
   ]
  },
  {
   "cell_type": "code",
   "execution_count": 9,
   "id": "fbdfc741",
   "metadata": {},
   "outputs": [
    {
     "data": {
      "text/plain": [
       "1"
      ]
     },
     "execution_count": 9,
     "metadata": {},
     "output_type": "execute_result"
    }
   ],
   "source": [
    "# cuenta el número de registros encontrados\n",
    "\n",
    "len(df)"
   ]
  },
  {
   "cell_type": "code",
   "execution_count": 10,
   "id": "ae306fa6",
   "metadata": {},
   "outputs": [
    {
     "data": {
      "text/plain": [
       "0    False\n",
       "dtype: bool"
      ]
     },
     "execution_count": 10,
     "metadata": {},
     "output_type": "execute_result"
    }
   ],
   "source": [
    "# busca si hay registros duplicados\n",
    "\n",
    "df.duplicated()"
   ]
  },
  {
   "cell_type": "code",
   "execution_count": 11,
   "id": "4ddd649a",
   "metadata": {},
   "outputs": [],
   "source": [
    "# elimina los registros duplicados\n",
    "\n",
    "df = df.drop_duplicates()"
   ]
  },
  {
   "cell_type": "code",
   "execution_count": 12,
   "id": "1852f655",
   "metadata": {},
   "outputs": [
    {
     "data": {
      "text/plain": [
       "1"
      ]
     },
     "execution_count": 12,
     "metadata": {},
     "output_type": "execute_result"
    }
   ],
   "source": [
    "# cuenta el número de registros restantes después de eliminar duplicados\n",
    "\n",
    "len(df)"
   ]
  },
  {
   "cell_type": "code",
   "execution_count": 13,
   "id": "a746f2fc",
   "metadata": {},
   "outputs": [],
   "source": [
    "# df.loc[df.competition.str.contains('liga escocia', case = False), \"NoGoal%\"] = '92.85'\n",
    "# df.loc[df.competition.str.contains('serie b - brasil', case = False), \"NoGoal%\"] = '92.06'\n",
    "# df.loc[df.competition.str.contains('liga fútbol japón', case = False), \"NoGoal%\"] = '88.67'\n",
    "# df.loc[df.competition.str.contains('liga irlanda.', case = False), \"NoGoal%\"] = '87.67'\n",
    "# df.loc[df.competition.str.contains('segunda división.', case = False), \"NoGoal%\"] = '86.36'\n",
    "# df.loc[df.competition.str.contains('segunda japonesa j2', case = False), \"NoGoal%\"] = '84.72'\n",
    "# df.loc[df.competition.str.contains('league one.', case = False), \"NoGoal%\"] = '84.25'\n",
    "# df.loc[df.competition.str.contains('liga profesional argentina', case = False), \"NoGoal%\"] = '83.45'\n",
    "# df.loc[df.competition.str.contains('ligue 2', case = False), \"NoGoal%\"] = '83.14'"
   ]
  },
  {
   "cell_type": "code",
   "execution_count": 14,
   "id": "a98cf1ee",
   "metadata": {},
   "outputs": [],
   "source": [
    "######################################################################\n",
    "## métodos para trabajar con los datos de pandas                    ##\n",
    "##                                                                  ##\n",
    "## del(df['newcolumn'])  --- elimina una columna                    ##\n",
    "## df.rename(columns = {'NoGoal':'NoGoal%'}, inplace = True)        ##\n",
    "######################################################################"
   ]
  },
  {
   "cell_type": "code",
   "execution_count": 15,
   "id": "3c63c8a9",
   "metadata": {},
   "outputs": [],
   "source": [
    "df['draw'] = 100 - df['homeVictory'].astype(int) - df['awayVictory'].astype(int)\n",
    "df['zerozero'] = df['zerozero'].astype('float64')\n",
    "hora = '%H'\n",
    "ahora = datetime.now().strftime(hora)\n",
    "besoccerzone = timezone('Etc/Greenwich')\n",
    "besoccertime = datetime.now(besoccerzone).strftime(hora)\n",
    "diferencia_horaria = int(ahora) - int(besoccertime)\n",
    "df['date'] = pd.to_datetime(df[\"date\"]) + pd.Timedelta(hours=diferencia_horaria)\n",
    "df = df.reindex(columns=['date','zerozero','homeRank','homeTeam','homeGoals','homeVictory','draw','awayVictory','awayGoals','awayTeam','awayRank','competition'])   \n",
    "df = df.round(decimals = 3)"
   ]
  },
  {
   "cell_type": "code",
   "execution_count": 16,
   "id": "407c7d2b",
   "metadata": {},
   "outputs": [],
   "source": [
    "# ordena un DataFrame por columna\n",
    "# se puede ordenar por varias columnas añadiendo el nombre de la siguiente columna e.j. ('date', 'competition')\n",
    "\n",
    "df.sort_values(['date', 'competition']).to_csv('matches.csv', header = True)"
   ]
  },
  {
   "cell_type": "code",
   "execution_count": 17,
   "id": "e37117f5",
   "metadata": {
    "scrolled": true
   },
   "outputs": [
    {
     "data": {
      "text/html": [
       "<style type=\"text/css\">\n",
       "#T_1661e_row0_col0, #T_1661e_row0_col1, #T_1661e_row0_col2, #T_1661e_row0_col3, #T_1661e_row0_col4, #T_1661e_row0_col5, #T_1661e_row0_col6, #T_1661e_row0_col7, #T_1661e_row0_col8, #T_1661e_row0_col9, #T_1661e_row0_col10, #T_1661e_row0_col11 {\n",
       "  text-align: center;\n",
       "}\n",
       "</style>\n",
       "<table id=\"T_1661e\">\n",
       "  <thead>\n",
       "    <tr>\n",
       "      <th class=\"blank level0\" >&nbsp;</th>\n",
       "      <th id=\"T_1661e_level0_col0\" class=\"col_heading level0 col0\" >date</th>\n",
       "      <th id=\"T_1661e_level0_col1\" class=\"col_heading level0 col1\" >zerozero</th>\n",
       "      <th id=\"T_1661e_level0_col2\" class=\"col_heading level0 col2\" >homeRank</th>\n",
       "      <th id=\"T_1661e_level0_col3\" class=\"col_heading level0 col3\" >homeTeam</th>\n",
       "      <th id=\"T_1661e_level0_col4\" class=\"col_heading level0 col4\" >homeGoals</th>\n",
       "      <th id=\"T_1661e_level0_col5\" class=\"col_heading level0 col5\" >homeVictory</th>\n",
       "      <th id=\"T_1661e_level0_col6\" class=\"col_heading level0 col6\" >draw</th>\n",
       "      <th id=\"T_1661e_level0_col7\" class=\"col_heading level0 col7\" >awayVictory</th>\n",
       "      <th id=\"T_1661e_level0_col8\" class=\"col_heading level0 col8\" >awayGoals</th>\n",
       "      <th id=\"T_1661e_level0_col9\" class=\"col_heading level0 col9\" >awayTeam</th>\n",
       "      <th id=\"T_1661e_level0_col10\" class=\"col_heading level0 col10\" >awayRank</th>\n",
       "      <th id=\"T_1661e_level0_col11\" class=\"col_heading level0 col11\" >competition</th>\n",
       "    </tr>\n",
       "  </thead>\n",
       "  <tbody>\n",
       "    <tr>\n",
       "      <th id=\"T_1661e_level0_row0\" class=\"row_heading level0 row0\" >0</th>\n",
       "      <td id=\"T_1661e_row0_col0\" class=\"data row0 col0\" >2022-10-09 20:00:00</td>\n",
       "      <td id=\"T_1661e_row0_col1\" class=\"data row0 col1\" >7.300000</td>\n",
       "      <td id=\"T_1661e_row0_col2\" class=\"data row0 col2\" >13º</td>\n",
       "      <td id=\"T_1661e_row0_col3\" class=\"data row0 col3\" >Trofense</td>\n",
       "      <td id=\"T_1661e_row0_col4\" class=\"data row0 col4\" > 1.2</td>\n",
       "      <td id=\"T_1661e_row0_col5\" class=\"data row0 col5\" >31</td>\n",
       "      <td id=\"T_1661e_row0_col6\" class=\"data row0 col6\" >28</td>\n",
       "      <td id=\"T_1661e_row0_col7\" class=\"data row0 col7\" >41</td>\n",
       "      <td id=\"T_1661e_row0_col8\" class=\"data row0 col8\" > 1.41</td>\n",
       "      <td id=\"T_1661e_row0_col9\" class=\"data row0 col9\" >Feirense</td>\n",
       "      <td id=\"T_1661e_row0_col10\" class=\"data row0 col10\" >9º</td>\n",
       "      <td id=\"T_1661e_row0_col11\" class=\"data row0 col11\" >Segunda Liga.  Jornada 8</td>\n",
       "    </tr>\n",
       "  </tbody>\n",
       "</table>\n"
      ],
      "text/plain": [
       "<pandas.io.formats.style.Styler at 0x1acd1cf0c10>"
      ]
     },
     "execution_count": 17,
     "metadata": {},
     "output_type": "execute_result"
    }
   ],
   "source": [
    "df.style.set_properties(**{'text-align': 'center'})"
   ]
  },
  {
   "cell_type": "code",
   "execution_count": null,
   "id": "c7c3dcbe",
   "metadata": {},
   "outputs": [],
   "source": []
  }
 ],
 "metadata": {
  "kernelspec": {
   "display_name": "Python 3 (ipykernel)",
   "language": "python",
   "name": "python3"
  },
  "language_info": {
   "codemirror_mode": {
    "name": "ipython",
    "version": 3
   },
   "file_extension": ".py",
   "mimetype": "text/x-python",
   "name": "python",
   "nbconvert_exporter": "python",
   "pygments_lexer": "ipython3",
   "version": "3.9.12"
  }
 },
 "nbformat": 4,
 "nbformat_minor": 5
}
