{
 "cells": [
  {
   "cell_type": "code",
   "execution_count": null,
   "id": "6dbcda55",
   "metadata": {},
   "outputs": [],
   "source": [
    "################################################################################################\n",
    "################################################################################################\n",
    "## REVISIÓN DE VERSIONES                                                                      ##\n",
    "##                                                                                            ##\n",
    "## v.2.0                                                                                      ##\n",
    "## - scraping de una página específica de partidos diarios                                    ##\n",
    "## - crea dataframe y lo envía a archivo .csv                                                 ##\n",
    "##                                                                                            ##\n",
    "################################################################################################\n",
    "################################################################################################"
   ]
  },
  {
   "cell_type": "code",
   "execution_count": 1,
   "id": "9305ee57",
   "metadata": {},
   "outputs": [],
   "source": [
    "import requests\n",
    "from bs4 import BeautifulSoup\n",
    "import pandas as pd\n",
    "import numpy as np\n",
    "from tqdm import tqdm"
   ]
  },
  {
   "cell_type": "code",
   "execution_count": 2,
   "id": "41a83668",
   "metadata": {},
   "outputs": [],
   "source": [
    "# def obtener_analisis(soup):\n",
    "#     list_analisis = []\n",
    "    \n",
    "#     # ahora vamos a buscar \"analisis\" en toda la lista de matches, por lo tanto tenemos que poner de nuevo el código de búsqueda\n",
    "#     r_analisis = requests.get(soup)\n",
    "#     s_analisis = BeautifulSoup(r_analisis.text, 'lxml')\n",
    "#     find_analisis = s_analisis.find('div', attrs={'class':'menu-scroll'}).select('a[href*=\"analisis\"]')\n",
    "#     analisis = find_analisis[0]\n",
    "#     if analisis:\n",
    "#         list_analisis.append(analisis.get('href'))\n",
    "        \n",
    "#     return list_analisis    "
   ]
  },
  {
   "cell_type": "code",
   "execution_count": 3,
   "id": "ec7f6129",
   "metadata": {},
   "outputs": [],
   "source": [
    "def obtener_stats(func_stats):\n",
    "    stats_dict = {}\n",
    "    \n",
    "    date = func_stats.find('div', attrs={'class':'info match-link'})\n",
    "    if date:\n",
    "        stats_dict['date'] = date.get('starttime').replace('T',' ').replace(':00+00:00','')\n",
    "    else:\n",
    "        stats_dict['date'] = '-'\n",
    " \n",
    "    draw = func_stats.find('div', attrs={'class':'content-box draw'}).find('div', attrs={'class':'cont'})\n",
    "    if draw:\n",
    "        stats_dict['draw'] = draw.get_text('/',strip=True).replace('%','')[4:10]\n",
    "    else:\n",
    "        stats_dict['draw'] = '-' \n",
    "        \n",
    "    homeRank = func_stats.find('div', attrs={'class':'position t1'})\n",
    "    if homeRank:\n",
    "        stats_dict['homeRank'] = homeRank.get_text()\n",
    "    else:\n",
    "        stats_dict['homeRank'] = '-'    \n",
    "            \n",
    "    homeTeam = func_stats.find('p', attrs={'itemprop':'homeTeam'})\n",
    "    if homeTeam:\n",
    "        stats_dict['homeTeam'] = homeTeam.get_text('/', strip=True)\n",
    "    else:\n",
    "        stats_dict['homeTeam'] = '-'\n",
    "\n",
    "    homeGoals = func_stats.find('div', attrs={'class':'content-box t-1'}).find('div', attrs={'class':'poss-box'})\n",
    "    if homeGoals:\n",
    "        stats_dict['homeGoals'] = homeGoals.get_text('/', strip=True).replace('/Probabilidad gana/',' - ').replace('/Goles esperados','')\n",
    "    else:\n",
    "        stats_dict['homeGoals'] = '-'     \n",
    "        \n",
    "    awayGoals = func_stats.find('div', attrs={'class':'content-box t-2'}).find('div', attrs={'class':'poss-box'})\n",
    "    if awayGoals:\n",
    "        stats_dict['awayGoals'] = awayGoals.get_text('/', strip=True).replace('/Probabilidad gana/',' - ').replace('/Goles esperados','')\n",
    "    else:\n",
    "        stats_dict['awayGoals'] = '-'     \n",
    "\n",
    "    awayTeam = func_stats.find('p', attrs={'itemprop':'awayTeam'})\n",
    "    if awayTeam:\n",
    "        stats_dict['awayTeam'] = awayTeam.get_text('/', strip=True)\n",
    "    else:\n",
    "        stats_dict['awayTeam'] = '-'     \n",
    "     \n",
    "    awayRank = func_stats.find('div', attrs={'class':'position t2'})\n",
    "    if awayRank:\n",
    "        stats_dict['awayRank'] = awayRank.get_text()\n",
    "    else:\n",
    "        stats_dict['awayRank'] = '-' \n",
    "        \n",
    "    competition = func_stats.find('h3', attrs={'class':'competition'})\n",
    "    if competition:\n",
    "        stats_dict['competition'] = competition.get_text('/', strip=True)\n",
    "    else:\n",
    "        stats_dict['competition'] = '-'\n",
    "   \n",
    "    return stats_dict"
   ]
  },
  {
   "cell_type": "code",
   "execution_count": 4,
   "id": "6903d754",
   "metadata": {},
   "outputs": [],
   "source": [
    "df = pd.DataFrame()"
   ]
  },
  {
   "cell_type": "code",
   "execution_count": 5,
   "id": "6d04e96f",
   "metadata": {},
   "outputs": [
    {
     "name": "stdout",
     "output_type": "stream",
     "text": [
      "Introduce la url a scrapear: https://es.besoccer.com/livescore/2022-09-23\n"
     ]
    }
   ],
   "source": [
    "url = input('Introduce la url a scrapear: ')\n",
    "#url = 'https://es.besoccer.com/livescore/2022-09-21'\n",
    "besoccer = requests.get(url)\n",
    "\n",
    "# por ejemplo: https://es.besoccer.com/livescore/2022-09-20"
   ]
  },
  {
   "cell_type": "code",
   "execution_count": 6,
   "id": "dbe3f24d",
   "metadata": {},
   "outputs": [
    {
     "data": {
      "text/plain": [
       "200"
      ]
     },
     "execution_count": 6,
     "metadata": {},
     "output_type": "execute_result"
    }
   ],
   "source": [
    "besoccer.status_code"
   ]
  },
  {
   "cell_type": "code",
   "execution_count": 7,
   "id": "a64188e1",
   "metadata": {},
   "outputs": [],
   "source": [
    "s_besoccer = BeautifulSoup(besoccer.text, 'lxml')"
   ]
  },
  {
   "cell_type": "code",
   "execution_count": 8,
   "id": "5f07936a",
   "metadata": {},
   "outputs": [],
   "source": [
    "matches = s_besoccer.find('div', attrs={'class':'matches'}).select('a[href*=\"/partido/\"]')"
   ]
  },
  {
   "cell_type": "code",
   "execution_count": 9,
   "id": "1163ed66",
   "metadata": {
    "collapsed": true
   },
   "outputs": [
    {
     "data": {
      "text/plain": [
       "['\\n\\n\\n\\nLiga C. J 5\\n\\n                ESPN Extra,Star+,SKY Sports,ESPN 4,UEFA TV            \\n\\n\\nGeorgia\\n\\n\\n\\n18:00\\n\\n\\n\\nMacedonia del Norte\\n\\n23 sep 2022\\n',\n",
       " '\\n\\n\\n\\nLiga D. J 5\\n\\n                Star+,SKY Sports,UEFA TV            \\n\\n\\nEstonia\\n\\n\\n\\n18:00\\n\\n\\n\\nMalta\\n\\n23 sep 2022\\n',\n",
       " '\\n\\n\\n\\nLiga A. J 5\\n\\n                ESPN,ESPN 3,Star+,SKY Sports,ESPN 4            \\n\\n\\nItalia\\n\\n\\n\\n20:45\\n\\n\\n\\nInglaterra\\n\\n23 sep 2022\\n',\n",
       " '\\n\\n\\n\\nLiga A. J 5\\n\\n                Star+,SKY Sports,UEFA TV,ZDF            \\n\\n\\nAlemania\\n\\n\\n\\n20:45\\n\\n\\n\\nHungría\\n\\n23 sep 2022\\n',\n",
       " '\\n\\n\\n\\nLiga B. J 5\\n\\n                Star+,SKY Sports,UEFA TV            \\n\\n\\nFinlandia\\n\\n\\n\\n20:45\\n\\n\\n\\nRumanía\\n\\n23 sep 2022\\n',\n",
       " '\\n\\n\\n\\nLiga B. J 5\\n\\n                Star+,SKY Sports,UEFA TV            \\n\\n\\nBosnia\\n\\n\\n\\n20:45\\n\\n\\n\\nMontenegro\\n\\n23 sep 2022\\n',\n",
       " '\\n\\n\\n\\nLiga C. J 5\\n\\n                Star+,SKY Sports,UEFA TV            \\n\\n\\nBulgaria\\n\\n\\n\\n20:45\\n\\n\\n\\nGibraltar\\n\\n23 sep 2022\\n',\n",
       " '\\n\\n\\n\\nFinal\\n\\n\\n\\n\\nCroacia Sub 21\\n\\n\\n\\n18:00\\n\\n\\n\\nDinamarca Sub 21\\n\\n23 sep 2022\\n',\n",
       " '\\n\\n\\n\\nFinal\\n\\n\\n\\n\\nIslandia Sub 21\\n\\n\\n\\n18:00\\n\\n\\n\\nRepública Checa Sub 21\\n\\n23 sep 2022\\n',\n",
       " '\\n\\n\\n\\nFinal\\n\\n\\n\\n\\nEslovaquia Sub 21\\n\\n\\n\\n18:00\\n\\n\\n\\nUcrania Sub 21\\n\\n23 sep 2022\\n',\n",
       " '\\n\\n\\n\\nFinal\\n\\n\\n\\n\\nIrlanda Sub 21\\n\\n\\n\\n20:00\\n\\n\\n\\nIsrael Sub 21\\n\\n23 sep 2022\\n',\n",
       " '\\n\\n\\n\\nJornada 13\\n\\n\\n\\n\\nIndependiente Medellin\\n\\n\\n\\n01:10\\n\\n\\n\\nDeportivo Pereira\\n\\n22 sep 2022\\n',\n",
       " '\\n\\n\\n\\nJornada 20\\n\\n\\n\\n\\nChangchun Yatai\\n\\n\\n\\n13:30\\n\\n\\n\\nMeizhou Hakka\\n\\n23 sep 2022\\n',\n",
       " '\\n\\n\\n\\nJornada 20\\n\\n\\n\\n\\nBeijing Guoan\\n\\n\\n\\n14:00\\n\\n\\n\\nGuangzhou FC\\n\\n23 sep 2022\\n',\n",
       " '\\n\\n\\n\\nJornada 7\\n\\n                LaLiga SmartBank TV,Star+            \\n\\n\\nReal Sporting\\n\\n\\n\\n21:00\\n\\n\\n\\nUD Ibiza\\n\\n23 sep 2022\\n',\n",
       " '\\n\\n\\n\\nJornada 7\\n\\n\\n\\n\\nPuerto Rico\\n\\n\\n\\n01:30\\n\\n\\n\\nRepública Dominicana\\n\\n22 sep 2022\\n',\n",
       " '\\n\\n\\n\\nJornada 7\\n\\n\\n\\n\\nCorea del Sur\\n\\n\\n\\n13:00\\n\\n\\n\\nCosta Rica\\n\\n23 sep 2022\\n',\n",
       " '\\n\\n\\n\\nJornada 7\\n\\n\\n\\n\\nParaguay\\n\\n\\n\\n14:00\\n\\n\\n\\nEmiratos Árabes\\n\\n23 sep 2022\\n',\n",
       " '\\n\\n\\n\\nJornada 7\\n\\n\\n\\n\\nCamerún\\n\\n\\n\\n14:00\\n\\n\\n\\nUzbekistán\\n\\n23 sep 2022\\n',\n",
       " '\\n\\n\\n\\nJornada 7\\n\\n\\n\\n\\nEgipto\\n\\n\\n\\n14:00\\n\\n\\n\\nNiger\\n\\n23 sep 2022\\n',\n",
       " '\\n\\n\\n\\nJornada 7\\n\\n\\n\\n\\nRD Congo\\n\\n\\n\\n14:00\\n\\n\\n\\nBurkina Faso\\n\\n23 sep 2022\\n',\n",
       " '\\n\\n\\n\\nJornada 7\\n\\n\\n\\n\\nJapón\\n\\n\\n\\n14:25\\n\\n\\n\\nEstados Unidos\\n\\n23 sep 2022\\n',\n",
       " '\\n\\n\\n\\nJornada 7\\n\\n                El Canal del Fútbol,ECDF YouTube            \\n\\n\\nCanadá\\n\\n\\n\\n17:00\\n\\n\\n\\nCatar\\n\\n23 sep 2022\\n',\n",
       " '\\n\\n\\n\\nJornada 7\\n\\n\\n\\n\\nUruguay\\n\\n\\n\\n18:00\\n\\n\\n\\nIrán\\n\\n23 sep 2022\\n',\n",
       " '\\n\\n\\n\\nJornada 7\\n\\n\\n\\n\\nBahréin\\n\\n\\n\\n18:00\\n\\n\\n\\nCabo Verde\\n\\n23 sep 2022\\n',\n",
       " '\\n\\n\\n\\nJornada 7\\n\\n                DIRECTV Sports,DirecTV Sport,DIRECTV GO,El Canal del Fútbol,ECDF YouTube            \\n\\n\\nArabia Saudí\\n\\n\\n\\n20:00\\n\\n\\n\\nEcuador\\n\\n23 sep 2022\\n',\n",
       " '\\n\\n\\n\\nJornada 7\\n\\n                Star+            \\n\\n\\nBrasil\\n\\n\\n\\n20:30\\n\\n\\n\\nGhana\\n\\n23 sep 2022\\n',\n",
       " '\\n\\n\\n\\nJornada 7\\n\\n                Chilevision,TNT Sports 2 ,TNT Sports,Estadio TNT Sports            \\n\\n\\nMarruecos\\n\\n\\n\\n21:00\\n\\n\\n\\nChile\\n\\n23 sep 2022\\n',\n",
       " '\\n\\n\\n\\nJornada 7\\n\\n\\n\\n\\nArgelia\\n\\n\\n\\n21:00\\n\\n\\n\\nGuinea\\n\\n23 sep 2022\\n',\n",
       " '\\n\\n\\n\\nCuartos\\n\\n                TNT Sports 2 ,TNT Sports,Estadio TNT Sports            \\n\\n\\nMagallanes\\n\\n\\n\\n17:30\\n\\n\\n\\nCobreloa\\n\\n23 sep 2022\\n',\n",
       " '\\n\\n\\n\\n1/16\\n\\n\\n\\n\\nFalkirk\\n\\n\\n\\n20:45\\n\\n\\n\\nPartick Thistle\\n\\n23 sep 2022\\n',\n",
       " '\\n\\n\\n\\n1/16\\n\\n\\n\\n\\nAlloa Athletic\\n\\n\\n\\n20:45\\n\\n\\n\\nAirdrieonians\\n\\n23 sep 2022\\n',\n",
       " '\\n\\n\\n\\n1/16\\n\\n\\n\\n\\nAnnan Athletic\\n\\n\\n\\n20:45\\n\\n\\n\\nKelty Hearts\\n\\n23 sep 2022\\n',\n",
       " '\\n\\n\\n\\n1/16\\n\\n\\n\\n\\nThe New Saints\\n\\n\\n\\n21:00\\n\\n\\n\\nDundee\\n\\n23 sep 2022\\n',\n",
       " '\\n\\n\\n\\nFinal\\n\\n                TUDN            \\n\\n\\nReal Salt Lake\\n\\n\\n\\n03:30\\n\\n\\n\\nAtlas Guadalajara\\n\\n23 sep 2022\\n',\n",
       " '\\n\\n\\n\\nJornada 31\\n\\n                Fanatiz,Brasileirão Play,Brasileirão Play             \\n\\n\\nVila Nova\\n\\n\\n\\n02:30\\n\\n\\n\\nCRB\\n\\n23 sep 2022\\n',\n",
       " '\\n\\n\\n\\nTemporada Regular. J 13\\n\\n                TVC Deportes            \\n\\n\\nCA Morelia\\n\\n\\n\\n00:01\\n\\n\\n\\nCancún\\n\\n22 sep 2022\\n',\n",
       " '\\n\\n\\n\\nTemporada Regular. J 13\\n\\n                TVC Deportes            \\n\\n\\nAtlante FC\\n\\n\\n\\n02:05\\n\\n\\n\\nVenados\\n\\n23 sep 2022\\n',\n",
       " '\\n\\n\\n\\n1/32\\n\\n\\n\\n\\nDessel Sport\\n\\n\\n\\n20:00\\n\\n\\n\\nExcelsior Virton\\n\\n23 sep 2022\\n',\n",
       " '\\n\\n\\n\\nApl\\n\\n\\nJornada 5\\n\\n\\n\\n\\nAtlético Fútbol Club\\n\\n\\n\\n22:00\\n\\n\\n\\nDeportes Quindío\\n\\n23 sep 2022\\n',\n",
       " '\\n\\n\\n\\nJornada 14\\n\\n\\n\\n\\nBogotá\\n\\n\\n\\n22:00\\n\\n\\n\\nOrsomarso SC\\n\\n23 sep 2022\\n',\n",
       " '\\n\\n\\n\\nJornada 14\\n\\n\\n\\n\\nCúcuta Deportivo\\n\\n\\n\\n23:00\\n\\n\\n\\nReal Santander\\n\\n23 sep 2022\\n',\n",
       " '\\n\\n\\n\\nJornada 8\\n\\n\\n\\n\\nHeracles\\n\\n\\n\\n21:00\\n\\n\\n\\nHelmond Sport\\n\\n23 sep 2022\\n',\n",
       " '\\n\\n\\n\\nJornada 8\\n\\n\\n\\n\\nTOP Oss\\n\\n\\n\\n21:00\\n\\n\\n\\nWillem II\\n\\n23 sep 2022\\n',\n",
       " '\\n\\n\\n\\nJornada 8\\n\\n\\n\\n\\nVVV Venlo\\n\\n\\n\\n21:00\\n\\n\\n\\nSC Telstar\\n\\n23 sep 2022\\n',\n",
       " '\\n\\n\\n\\nJornada 8\\n\\n\\n\\n\\nDordrecht\\n\\n\\n\\n21:00\\n\\n\\n\\nMVV Maastricht\\n\\n23 sep 2022\\n',\n",
       " '\\n\\n\\n\\nTemporada Regular. J 23\\n\\n\\n\\n\\nShanghai Jiading Huilong\\n\\n\\n\\n09:00\\n\\n\\n\\nKunshan FC\\n\\n23 sep 2022\\n',\n",
       " '\\n\\n\\n\\nTemporada Regular. J 23\\n\\n\\n\\n\\nQingdao Youth Island\\n\\n\\n\\n13:30\\n\\n\\n\\nJiangxi Beidamen\\n\\n23 sep 2022\\n',\n",
       " '\\n\\n\\n\\nJornada 7\\n\\n\\n\\n\\nCholet\\n\\n\\n\\n19:30\\n\\n\\n\\nConcarneau\\n\\n23 sep 2022\\n',\n",
       " '\\n\\n\\n\\nJornada 7\\n\\n\\n\\n\\nBastia-Borgo\\n\\n\\n\\n19:30\\n\\n\\n\\nLe Mans\\n\\n23 sep 2022\\n']"
      ]
     },
     "execution_count": 9,
     "metadata": {},
     "output_type": "execute_result"
    }
   ],
   "source": [
    "[match.text for match in matches] "
   ]
  },
  {
   "cell_type": "code",
   "execution_count": 10,
   "id": "0ff40649",
   "metadata": {},
   "outputs": [],
   "source": [
    "try:\n",
    "    match = matches[0]\n",
    "    match.get('href')\n",
    "except Exception as e:\n",
    "    print('No hay más partidos que analizar')\n",
    "        "
   ]
  },
  {
   "cell_type": "code",
   "execution_count": 11,
   "id": "abbe04f1",
   "metadata": {},
   "outputs": [],
   "source": [
    "links_matches = [match.get('href') for match in matches]"
   ]
  },
  {
   "cell_type": "code",
   "execution_count": 12,
   "id": "e3412965",
   "metadata": {
    "scrolled": false
   },
   "outputs": [
    {
     "name": "stderr",
     "output_type": "stream",
     "text": [
      "C:\\Users\\jesus\\AppData\\Local\\Temp\\ipykernel_9860\\483865442.py:11: FutureWarning: The frame.append method is deprecated and will be removed from pandas in a future version. Use pandas.concat instead.\n",
      "  df = df.append(obtener_stats(s_link_analisis), ignore_index = True)\n"
     ]
    },
    {
     "name": "stdout",
     "output_type": "stream",
     "text": [
      "0 https://es.besoccer.com/partido/seleccion-georgia/seleccion-macedonia-fyr/2023104/analisis\n"
     ]
    },
    {
     "name": "stderr",
     "output_type": "stream",
     "text": [
      "C:\\Users\\jesus\\AppData\\Local\\Temp\\ipykernel_9860\\483865442.py:11: FutureWarning: The frame.append method is deprecated and will be removed from pandas in a future version. Use pandas.concat instead.\n",
      "  df = df.append(obtener_stats(s_link_analisis), ignore_index = True)\n"
     ]
    },
    {
     "name": "stdout",
     "output_type": "stream",
     "text": [
      "1 https://es.besoccer.com/partido/seleccion-estonia/Malta-eu/2023155/analisis\n"
     ]
    },
    {
     "name": "stderr",
     "output_type": "stream",
     "text": [
      "C:\\Users\\jesus\\AppData\\Local\\Temp\\ipykernel_9860\\483865442.py:11: FutureWarning: The frame.append method is deprecated and will be removed from pandas in a future version. Use pandas.concat instead.\n",
      "  df = df.append(obtener_stats(s_link_analisis), ignore_index = True)\n"
     ]
    },
    {
     "name": "stdout",
     "output_type": "stream",
     "text": [
      "2 https://es.besoccer.com/partido/seleccion-italia/seleccion-inglaterra/202350/analisis\n"
     ]
    },
    {
     "name": "stderr",
     "output_type": "stream",
     "text": [
      "C:\\Users\\jesus\\AppData\\Local\\Temp\\ipykernel_9860\\483865442.py:11: FutureWarning: The frame.append method is deprecated and will be removed from pandas in a future version. Use pandas.concat instead.\n",
      "  df = df.append(obtener_stats(s_link_analisis), ignore_index = True)\n"
     ]
    },
    {
     "name": "stdout",
     "output_type": "stream",
     "text": [
      "3 https://es.besoccer.com/partido/seleccion-alemania/seleccion-hungria/202348/analisis\n"
     ]
    },
    {
     "name": "stderr",
     "output_type": "stream",
     "text": [
      "C:\\Users\\jesus\\AppData\\Local\\Temp\\ipykernel_9860\\483865442.py:11: FutureWarning: The frame.append method is deprecated and will be removed from pandas in a future version. Use pandas.concat instead.\n",
      "  df = df.append(obtener_stats(s_link_analisis), ignore_index = True)\n"
     ]
    },
    {
     "name": "stdout",
     "output_type": "stream",
     "text": [
      "4 https://es.besoccer.com/partido/seleccion-finlandia/seleccion-rumania/2023136/analisis\n"
     ]
    },
    {
     "name": "stderr",
     "output_type": "stream",
     "text": [
      "C:\\Users\\jesus\\AppData\\Local\\Temp\\ipykernel_9860\\483865442.py:11: FutureWarning: The frame.append method is deprecated and will be removed from pandas in a future version. Use pandas.concat instead.\n",
      "  df = df.append(obtener_stats(s_link_analisis), ignore_index = True)\n"
     ]
    },
    {
     "name": "stdout",
     "output_type": "stream",
     "text": [
      "5 https://es.besoccer.com/partido/seleccion-bosnia-herzegovina/seleccion-montenegro/2023135/analisis\n",
      "6 .- La url  https://es.besoccer.com/partido/seleccion-bulgaria/gibraltar/2023105  no tiene sección análisis\n",
      "6 .- 'NoneType' object has no attribute 'find'\n"
     ]
    },
    {
     "name": "stderr",
     "output_type": "stream",
     "text": [
      "C:\\Users\\jesus\\AppData\\Local\\Temp\\ipykernel_9860\\483865442.py:11: FutureWarning: The frame.append method is deprecated and will be removed from pandas in a future version. Use pandas.concat instead.\n",
      "  df = df.append(obtener_stats(s_link_analisis), ignore_index = True)\n"
     ]
    },
    {
     "name": "stdout",
     "output_type": "stream",
     "text": [
      "7 https://es.besoccer.com/partido/croacia-sub-21/dinamarca-sub-21/2021458030/analisis\n"
     ]
    },
    {
     "name": "stderr",
     "output_type": "stream",
     "text": [
      "C:\\Users\\jesus\\AppData\\Local\\Temp\\ipykernel_9860\\483865442.py:11: FutureWarning: The frame.append method is deprecated and will be removed from pandas in a future version. Use pandas.concat instead.\n",
      "  df = df.append(obtener_stats(s_link_analisis), ignore_index = True)\n"
     ]
    },
    {
     "name": "stdout",
     "output_type": "stream",
     "text": [
      "8 https://es.besoccer.com/partido/islandia-sub-21/republica-checa-sub-21/2021458036/analisis\n"
     ]
    },
    {
     "name": "stderr",
     "output_type": "stream",
     "text": [
      "C:\\Users\\jesus\\AppData\\Local\\Temp\\ipykernel_9860\\483865442.py:11: FutureWarning: The frame.append method is deprecated and will be removed from pandas in a future version. Use pandas.concat instead.\n",
      "  df = df.append(obtener_stats(s_link_analisis), ignore_index = True)\n"
     ]
    },
    {
     "name": "stdout",
     "output_type": "stream",
     "text": [
      "9 https://es.besoccer.com/partido/eslovaquia-sub-21/ucrania-sub-21/2021458032/analisis\n"
     ]
    },
    {
     "name": "stderr",
     "output_type": "stream",
     "text": [
      "C:\\Users\\jesus\\AppData\\Local\\Temp\\ipykernel_9860\\483865442.py:11: FutureWarning: The frame.append method is deprecated and will be removed from pandas in a future version. Use pandas.concat instead.\n",
      "  df = df.append(obtener_stats(s_link_analisis), ignore_index = True)\n"
     ]
    },
    {
     "name": "stdout",
     "output_type": "stream",
     "text": [
      "10 https://es.besoccer.com/partido/irlanda-sub-21/israel-sub-21/2021458034/analisis\n"
     ]
    },
    {
     "name": "stderr",
     "output_type": "stream",
     "text": [
      "C:\\Users\\jesus\\AppData\\Local\\Temp\\ipykernel_9860\\483865442.py:11: FutureWarning: The frame.append method is deprecated and will be removed from pandas in a future version. Use pandas.concat instead.\n",
      "  df = df.append(obtener_stats(s_link_analisis), ignore_index = True)\n"
     ]
    },
    {
     "name": "stdout",
     "output_type": "stream",
     "text": [
      "11 https://es.besoccer.com/partido/independiente-medellin/deportivo-pereira/2022322781/analisis\n"
     ]
    },
    {
     "name": "stderr",
     "output_type": "stream",
     "text": [
      "C:\\Users\\jesus\\AppData\\Local\\Temp\\ipykernel_9860\\483865442.py:11: FutureWarning: The frame.append method is deprecated and will be removed from pandas in a future version. Use pandas.concat instead.\n",
      "  df = df.append(obtener_stats(s_link_analisis), ignore_index = True)\n"
     ]
    },
    {
     "name": "stdout",
     "output_type": "stream",
     "text": [
      "12 https://es.besoccer.com/partido/changchun-yatai/meixian-hakka/2022526314/analisis\n"
     ]
    },
    {
     "name": "stderr",
     "output_type": "stream",
     "text": [
      "C:\\Users\\jesus\\AppData\\Local\\Temp\\ipykernel_9860\\483865442.py:11: FutureWarning: The frame.append method is deprecated and will be removed from pandas in a future version. Use pandas.concat instead.\n",
      "  df = df.append(obtener_stats(s_link_analisis), ignore_index = True)\n"
     ]
    },
    {
     "name": "stdout",
     "output_type": "stream",
     "text": [
      "13 https://es.besoccer.com/partido/beijing-guoan/guangzhou-ever/2022526315/analisis\n"
     ]
    },
    {
     "name": "stderr",
     "output_type": "stream",
     "text": [
      "C:\\Users\\jesus\\AppData\\Local\\Temp\\ipykernel_9860\\483865442.py:11: FutureWarning: The frame.append method is deprecated and will be removed from pandas in a future version. Use pandas.concat instead.\n",
      "  df = df.append(obtener_stats(s_link_analisis), ignore_index = True)\n"
     ]
    },
    {
     "name": "stdout",
     "output_type": "stream",
     "text": [
      "14 https://es.besoccer.com/partido/sporting-gijon/ibiza-eivissa/202350150/analisis\n",
      "15 .- La url  https://es.besoccer.com/partido/puerto-rico/seleccion-republica-dominicana/2023422610  no tiene sección análisis\n",
      "15 .- 'NoneType' object has no attribute 'find'\n",
      "16 .- La url  https://es.besoccer.com/partido/seleccion-republica-corea/costa-rica/2023352289  no tiene sección análisis\n",
      "16 .- 'NoneType' object has no attribute 'find'\n",
      "17 .- La url  https://es.besoccer.com/partido/seleccion-paraguay/seleccion-emiratos/2023156795  no tiene sección análisis\n",
      "17 .- 'NoneType' object has no attribute 'find'\n",
      "18 .- La url  https://es.besoccer.com/partido/seleccion-camerun/seleccion-uzbekistan/2023376865  no tiene sección análisis\n",
      "18 .- 'NoneType' object has no attribute 'find'\n",
      "19 .- La url  https://es.besoccer.com/partido/seleccion-egipto/niger/2023430356  no tiene sección análisis\n",
      "19 .- 'NoneType' object has no attribute 'find'\n",
      "20 .- La url  https://es.besoccer.com/partido/rd-congo/seleccion-burkina-faso/2023438881  no tiene sección análisis\n",
      "20 .- 'NoneType' object has no attribute 'find'\n",
      "21 .- La url  https://es.besoccer.com/partido/seleccion-japon/seleccion-estados-unidos/2023416058  no tiene sección análisis\n",
      "21 .- 'NoneType' object has no attribute 'find'\n",
      "22 .- La url  https://es.besoccer.com/partido/canada/seleccion-qatar/2023260910  no tiene sección análisis\n",
      "22 .- 'NoneType' object has no attribute 'find'\n",
      "23 .- La url  https://es.besoccer.com/partido/seleccion-uruguay/seleccion-iran/2023376821  no tiene sección análisis\n",
      "23 .- 'NoneType' object has no attribute 'find'\n",
      "24 .- La url  https://es.besoccer.com/partido/bahrein/cabo-verde/2023430360  no tiene sección análisis\n",
      "24 .- 'NoneType' object has no attribute 'find'\n",
      "25 .- La url  https://es.besoccer.com/partido/seleccion-arabia-saudi/seleccion-ecuador/2023352296  no tiene sección análisis\n",
      "25 .- 'NoneType' object has no attribute 'find'\n",
      "26 .- La url  https://es.besoccer.com/partido/seleccion-brasil/seleccion-ghana/2023352293  no tiene sección análisis\n",
      "26 .- 'NoneType' object has no attribute 'find'\n",
      "27 .- La url  https://es.besoccer.com/partido/seleccion-marruecos/seleccion-chile/2023367449  no tiene sección análisis\n",
      "27 .- 'NoneType' object has no attribute 'find'\n",
      "28 .- La url  https://es.besoccer.com/partido/seleccion-argelia/seleccion-guinea/2023352297  no tiene sección análisis\n",
      "28 .- 'NoneType' object has no attribute 'find'\n"
     ]
    },
    {
     "name": "stderr",
     "output_type": "stream",
     "text": [
      "C:\\Users\\jesus\\AppData\\Local\\Temp\\ipykernel_9860\\483865442.py:11: FutureWarning: The frame.append method is deprecated and will be removed from pandas in a future version. Use pandas.concat instead.\n",
      "  df = df.append(obtener_stats(s_link_analisis), ignore_index = True)\n"
     ]
    },
    {
     "name": "stdout",
     "output_type": "stream",
     "text": [
      "29 https://es.besoccer.com/partido/magallanes/cobreloa/2022566387/analisis\n"
     ]
    },
    {
     "name": "stderr",
     "output_type": "stream",
     "text": [
      "C:\\Users\\jesus\\AppData\\Local\\Temp\\ipykernel_9860\\483865442.py:11: FutureWarning: The frame.append method is deprecated and will be removed from pandas in a future version. Use pandas.concat instead.\n",
      "  df = df.append(obtener_stats(s_link_analisis), ignore_index = True)\n"
     ]
    },
    {
     "name": "stdout",
     "output_type": "stream",
     "text": [
      "30 https://es.besoccer.com/partido/falkirk-fc/partick-thistle-fc/2023376850/analisis\n"
     ]
    },
    {
     "name": "stderr",
     "output_type": "stream",
     "text": [
      "C:\\Users\\jesus\\AppData\\Local\\Temp\\ipykernel_9860\\483865442.py:11: FutureWarning: The frame.append method is deprecated and will be removed from pandas in a future version. Use pandas.concat instead.\n",
      "  df = df.append(obtener_stats(s_link_analisis), ignore_index = True)\n"
     ]
    },
    {
     "name": "stdout",
     "output_type": "stream",
     "text": [
      "31 https://es.besoccer.com/partido/alloa-athletic/airdrie-united-fc/2023376857/analisis\n"
     ]
    },
    {
     "name": "stderr",
     "output_type": "stream",
     "text": [
      "C:\\Users\\jesus\\AppData\\Local\\Temp\\ipykernel_9860\\483865442.py:11: FutureWarning: The frame.append method is deprecated and will be removed from pandas in a future version. Use pandas.concat instead.\n",
      "  df = df.append(obtener_stats(s_link_analisis), ignore_index = True)\n"
     ]
    },
    {
     "name": "stdout",
     "output_type": "stream",
     "text": [
      "32 https://es.besoccer.com/partido/annan-athletic/kelty-hearts/2023376859/analisis\n"
     ]
    },
    {
     "name": "stderr",
     "output_type": "stream",
     "text": [
      "C:\\Users\\jesus\\AppData\\Local\\Temp\\ipykernel_9860\\483865442.py:11: FutureWarning: The frame.append method is deprecated and will be removed from pandas in a future version. Use pandas.concat instead.\n",
      "  df = df.append(obtener_stats(s_link_analisis), ignore_index = True)\n"
     ]
    },
    {
     "name": "stdout",
     "output_type": "stream",
     "text": [
      "33 https://es.besoccer.com/partido/the-new-saints-fc/dundee/2023376848/analisis\n"
     ]
    },
    {
     "name": "stderr",
     "output_type": "stream",
     "text": [
      "C:\\Users\\jesus\\AppData\\Local\\Temp\\ipykernel_9860\\483865442.py:11: FutureWarning: The frame.append method is deprecated and will be removed from pandas in a future version. Use pandas.concat instead.\n",
      "  df = df.append(obtener_stats(s_link_analisis), ignore_index = True)\n"
     ]
    },
    {
     "name": "stdout",
     "output_type": "stream",
     "text": [
      "34 https://es.besoccer.com/partido/real-salt-lake/fc-atlas-guadalajara/2022519722/analisis\n"
     ]
    },
    {
     "name": "stderr",
     "output_type": "stream",
     "text": [
      "C:\\Users\\jesus\\AppData\\Local\\Temp\\ipykernel_9860\\483865442.py:11: FutureWarning: The frame.append method is deprecated and will be removed from pandas in a future version. Use pandas.concat instead.\n",
      "  df = df.append(obtener_stats(s_link_analisis), ignore_index = True)\n"
     ]
    },
    {
     "name": "stdout",
     "output_type": "stream",
     "text": [
      "35 https://es.besoccer.com/partido/vila-nova/crb/2022382500/analisis\n"
     ]
    },
    {
     "name": "stderr",
     "output_type": "stream",
     "text": [
      "C:\\Users\\jesus\\AppData\\Local\\Temp\\ipykernel_9860\\483865442.py:11: FutureWarning: The frame.append method is deprecated and will be removed from pandas in a future version. Use pandas.concat instead.\n",
      "  df = df.append(obtener_stats(s_link_analisis), ignore_index = True)\n"
     ]
    },
    {
     "name": "stdout",
     "output_type": "stream",
     "text": [
      "36 https://es.besoccer.com/partido/morelia/cancun-futbol-club/202321018/analisis\n"
     ]
    },
    {
     "name": "stderr",
     "output_type": "stream",
     "text": [
      "C:\\Users\\jesus\\AppData\\Local\\Temp\\ipykernel_9860\\483865442.py:11: FutureWarning: The frame.append method is deprecated and will be removed from pandas in a future version. Use pandas.concat instead.\n",
      "  df = df.append(obtener_stats(s_link_analisis), ignore_index = True)\n"
     ]
    },
    {
     "name": "stdout",
     "output_type": "stream",
     "text": [
      "37 https://es.besoccer.com/partido/atlante/merida/202321016/analisis\n"
     ]
    },
    {
     "name": "stderr",
     "output_type": "stream",
     "text": [
      "C:\\Users\\jesus\\AppData\\Local\\Temp\\ipykernel_9860\\483865442.py:11: FutureWarning: The frame.append method is deprecated and will be removed from pandas in a future version. Use pandas.concat instead.\n",
      "  df = df.append(obtener_stats(s_link_analisis), ignore_index = True)\n"
     ]
    },
    {
     "name": "stdout",
     "output_type": "stream",
     "text": [
      "38 https://es.besoccer.com/partido/dessel-sport/excelsior-virton/2023338157/analisis\n"
     ]
    },
    {
     "name": "stderr",
     "output_type": "stream",
     "text": [
      "C:\\Users\\jesus\\AppData\\Local\\Temp\\ipykernel_9860\\483865442.py:11: FutureWarning: The frame.append method is deprecated and will be removed from pandas in a future version. Use pandas.concat instead.\n",
      "  df = df.append(obtener_stats(s_link_analisis), ignore_index = True)\n"
     ]
    },
    {
     "name": "stdout",
     "output_type": "stream",
     "text": [
      "39 https://es.besoccer.com/partido/depor-fc/deportes-quindio/2022515424/analisis\n"
     ]
    },
    {
     "name": "stderr",
     "output_type": "stream",
     "text": [
      "C:\\Users\\jesus\\AppData\\Local\\Temp\\ipykernel_9860\\483865442.py:11: FutureWarning: The frame.append method is deprecated and will be removed from pandas in a future version. Use pandas.concat instead.\n",
      "  df = df.append(obtener_stats(s_link_analisis), ignore_index = True)\n"
     ]
    },
    {
     "name": "stdout",
     "output_type": "stream",
     "text": [
      "40 https://es.besoccer.com/partido/bogota/orsomarso-sc/2022515498/analisis\n"
     ]
    },
    {
     "name": "stderr",
     "output_type": "stream",
     "text": [
      "C:\\Users\\jesus\\AppData\\Local\\Temp\\ipykernel_9860\\483865442.py:11: FutureWarning: The frame.append method is deprecated and will be removed from pandas in a future version. Use pandas.concat instead.\n",
      "  df = df.append(obtener_stats(s_link_analisis), ignore_index = True)\n"
     ]
    },
    {
     "name": "stdout",
     "output_type": "stream",
     "text": [
      "41 https://es.besoccer.com/partido/cucuta-deportivo/real-santander/2022515500/analisis\n"
     ]
    },
    {
     "name": "stderr",
     "output_type": "stream",
     "text": [
      "C:\\Users\\jesus\\AppData\\Local\\Temp\\ipykernel_9860\\483865442.py:11: FutureWarning: The frame.append method is deprecated and will be removed from pandas in a future version. Use pandas.concat instead.\n",
      "  df = df.append(obtener_stats(s_link_analisis), ignore_index = True)\n"
     ]
    },
    {
     "name": "stdout",
     "output_type": "stream",
     "text": [
      "42 https://es.besoccer.com/partido/heracles/helmond-sport/202342109/analisis\n"
     ]
    },
    {
     "name": "stderr",
     "output_type": "stream",
     "text": [
      "C:\\Users\\jesus\\AppData\\Local\\Temp\\ipykernel_9860\\483865442.py:11: FutureWarning: The frame.append method is deprecated and will be removed from pandas in a future version. Use pandas.concat instead.\n",
      "  df = df.append(obtener_stats(s_link_analisis), ignore_index = True)\n"
     ]
    },
    {
     "name": "stdout",
     "output_type": "stream",
     "text": [
      "43 https://es.besoccer.com/partido/fc-oss/willem-ii/202342110/analisis\n"
     ]
    },
    {
     "name": "stderr",
     "output_type": "stream",
     "text": [
      "C:\\Users\\jesus\\AppData\\Local\\Temp\\ipykernel_9860\\483865442.py:11: FutureWarning: The frame.append method is deprecated and will be removed from pandas in a future version. Use pandas.concat instead.\n",
      "  df = df.append(obtener_stats(s_link_analisis), ignore_index = True)\n"
     ]
    },
    {
     "name": "stdout",
     "output_type": "stream",
     "text": [
      "44 https://es.besoccer.com/partido/vvv/stormvogels-telstar/202342111/analisis\n"
     ]
    },
    {
     "name": "stderr",
     "output_type": "stream",
     "text": [
      "C:\\Users\\jesus\\AppData\\Local\\Temp\\ipykernel_9860\\483865442.py:11: FutureWarning: The frame.append method is deprecated and will be removed from pandas in a future version. Use pandas.concat instead.\n",
      "  df = df.append(obtener_stats(s_link_analisis), ignore_index = True)\n"
     ]
    },
    {
     "name": "stdout",
     "output_type": "stream",
     "text": [
      "45 https://es.besoccer.com/partido/fc-dordrecht/mvv/202342108/analisis\n"
     ]
    },
    {
     "name": "stderr",
     "output_type": "stream",
     "text": [
      "C:\\Users\\jesus\\AppData\\Local\\Temp\\ipykernel_9860\\483865442.py:11: FutureWarning: The frame.append method is deprecated and will be removed from pandas in a future version. Use pandas.concat instead.\n",
      "  df = df.append(obtener_stats(s_link_analisis), ignore_index = True)\n"
     ]
    },
    {
     "name": "stdout",
     "output_type": "stream",
     "text": [
      "46 https://es.besoccer.com/partido/shanghai-jiading/Kunshan-FC/2022541931/analisis\n"
     ]
    },
    {
     "name": "stderr",
     "output_type": "stream",
     "text": [
      "C:\\Users\\jesus\\AppData\\Local\\Temp\\ipykernel_9860\\483865442.py:11: FutureWarning: The frame.append method is deprecated and will be removed from pandas in a future version. Use pandas.concat instead.\n",
      "  df = df.append(obtener_stats(s_link_analisis), ignore_index = True)\n"
     ]
    },
    {
     "name": "stdout",
     "output_type": "stream",
     "text": [
      "47 https://es.besoccer.com/partido/qingdao-youth-island/jiangxi-liansheng/2022541932/analisis\n"
     ]
    },
    {
     "name": "stderr",
     "output_type": "stream",
     "text": [
      "C:\\Users\\jesus\\AppData\\Local\\Temp\\ipykernel_9860\\483865442.py:11: FutureWarning: The frame.append method is deprecated and will be removed from pandas in a future version. Use pandas.concat instead.\n",
      "  df = df.append(obtener_stats(s_link_analisis), ignore_index = True)\n"
     ]
    },
    {
     "name": "stdout",
     "output_type": "stream",
     "text": [
      "48 https://es.besoccer.com/partido/cholet/concarneau/2023143610/analisis\n",
      "49 https://es.besoccer.com/partido/fc-bastia-borgo/mans-uc-72/2023143608/analisis\n"
     ]
    },
    {
     "name": "stderr",
     "output_type": "stream",
     "text": [
      "C:\\Users\\jesus\\AppData\\Local\\Temp\\ipykernel_9860\\483865442.py:11: FutureWarning: The frame.append method is deprecated and will be removed from pandas in a future version. Use pandas.concat instead.\n",
      "  df = df.append(obtener_stats(s_link_analisis), ignore_index = True)\n"
     ]
    }
   ],
   "source": [
    "for i in range(len(links_matches)):\n",
    "    list_analisis = []\n",
    "    r_match = requests.get(links_matches[i])\n",
    "    s_match = BeautifulSoup(r_match.text, 'lxml')\n",
    "    find_analisis = s_match.find('div', attrs={'class':'menu-scroll'}).select('a[href*=\"analisis\"]')\n",
    "    try:\n",
    "        analisis = find_analisis[0]\n",
    "        link_analisis = analisis.get('href')\n",
    "        r_link_analisis = requests.get(link_analisis)\n",
    "        s_link_analisis = BeautifulSoup(r_link_analisis.text, 'lxml')\n",
    "        df = df.append(obtener_stats(s_link_analisis), ignore_index = True)\n",
    "        print(i, link_analisis)\n",
    "    except Exception as e:\n",
    "        print(i,'.- La url ',links_matches[i],' no tiene sección análisis')\n",
    "        print(i,'.-',e)"
   ]
  },
  {
   "cell_type": "code",
   "execution_count": 13,
   "id": "58be6d50",
   "metadata": {
    "scrolled": false
   },
   "outputs": [
    {
     "data": {
      "text/html": [
       "<style type=\"text/css\">\n",
       "#T_9d134_row0_col0, #T_9d134_row0_col1, #T_9d134_row0_col2, #T_9d134_row0_col3, #T_9d134_row0_col4, #T_9d134_row0_col5, #T_9d134_row0_col6, #T_9d134_row0_col7, #T_9d134_row0_col8, #T_9d134_row1_col0, #T_9d134_row1_col1, #T_9d134_row1_col2, #T_9d134_row1_col3, #T_9d134_row1_col4, #T_9d134_row1_col5, #T_9d134_row1_col6, #T_9d134_row1_col7, #T_9d134_row1_col8, #T_9d134_row2_col0, #T_9d134_row2_col1, #T_9d134_row2_col2, #T_9d134_row2_col3, #T_9d134_row2_col4, #T_9d134_row2_col5, #T_9d134_row2_col6, #T_9d134_row2_col7, #T_9d134_row2_col8, #T_9d134_row3_col0, #T_9d134_row3_col1, #T_9d134_row3_col2, #T_9d134_row3_col3, #T_9d134_row3_col4, #T_9d134_row3_col5, #T_9d134_row3_col6, #T_9d134_row3_col7, #T_9d134_row3_col8, #T_9d134_row4_col0, #T_9d134_row4_col1, #T_9d134_row4_col2, #T_9d134_row4_col3, #T_9d134_row4_col4, #T_9d134_row4_col5, #T_9d134_row4_col6, #T_9d134_row4_col7, #T_9d134_row4_col8, #T_9d134_row5_col0, #T_9d134_row5_col1, #T_9d134_row5_col2, #T_9d134_row5_col3, #T_9d134_row5_col4, #T_9d134_row5_col5, #T_9d134_row5_col6, #T_9d134_row5_col7, #T_9d134_row5_col8, #T_9d134_row6_col0, #T_9d134_row6_col1, #T_9d134_row6_col2, #T_9d134_row6_col3, #T_9d134_row6_col4, #T_9d134_row6_col5, #T_9d134_row6_col6, #T_9d134_row6_col7, #T_9d134_row6_col8, #T_9d134_row7_col0, #T_9d134_row7_col1, #T_9d134_row7_col2, #T_9d134_row7_col3, #T_9d134_row7_col4, #T_9d134_row7_col5, #T_9d134_row7_col6, #T_9d134_row7_col7, #T_9d134_row7_col8, #T_9d134_row8_col0, #T_9d134_row8_col1, #T_9d134_row8_col2, #T_9d134_row8_col3, #T_9d134_row8_col4, #T_9d134_row8_col5, #T_9d134_row8_col6, #T_9d134_row8_col7, #T_9d134_row8_col8, #T_9d134_row9_col0, #T_9d134_row9_col1, #T_9d134_row9_col2, #T_9d134_row9_col3, #T_9d134_row9_col4, #T_9d134_row9_col5, #T_9d134_row9_col6, #T_9d134_row9_col7, #T_9d134_row9_col8, #T_9d134_row10_col0, #T_9d134_row10_col1, #T_9d134_row10_col2, #T_9d134_row10_col3, #T_9d134_row10_col4, #T_9d134_row10_col5, #T_9d134_row10_col6, #T_9d134_row10_col7, #T_9d134_row10_col8, #T_9d134_row11_col0, #T_9d134_row11_col1, #T_9d134_row11_col2, #T_9d134_row11_col3, #T_9d134_row11_col4, #T_9d134_row11_col5, #T_9d134_row11_col6, #T_9d134_row11_col7, #T_9d134_row11_col8, #T_9d134_row12_col0, #T_9d134_row12_col1, #T_9d134_row12_col2, #T_9d134_row12_col3, #T_9d134_row12_col4, #T_9d134_row12_col5, #T_9d134_row12_col6, #T_9d134_row12_col7, #T_9d134_row12_col8, #T_9d134_row13_col0, #T_9d134_row13_col1, #T_9d134_row13_col2, #T_9d134_row13_col3, #T_9d134_row13_col4, #T_9d134_row13_col5, #T_9d134_row13_col6, #T_9d134_row13_col7, #T_9d134_row13_col8, #T_9d134_row14_col0, #T_9d134_row14_col1, #T_9d134_row14_col2, #T_9d134_row14_col3, #T_9d134_row14_col4, #T_9d134_row14_col5, #T_9d134_row14_col6, #T_9d134_row14_col7, #T_9d134_row14_col8, #T_9d134_row15_col0, #T_9d134_row15_col1, #T_9d134_row15_col2, #T_9d134_row15_col3, #T_9d134_row15_col4, #T_9d134_row15_col5, #T_9d134_row15_col6, #T_9d134_row15_col7, #T_9d134_row15_col8, #T_9d134_row16_col0, #T_9d134_row16_col1, #T_9d134_row16_col2, #T_9d134_row16_col3, #T_9d134_row16_col4, #T_9d134_row16_col5, #T_9d134_row16_col6, #T_9d134_row16_col7, #T_9d134_row16_col8, #T_9d134_row17_col0, #T_9d134_row17_col1, #T_9d134_row17_col2, #T_9d134_row17_col3, #T_9d134_row17_col4, #T_9d134_row17_col5, #T_9d134_row17_col6, #T_9d134_row17_col7, #T_9d134_row17_col8, #T_9d134_row18_col0, #T_9d134_row18_col1, #T_9d134_row18_col2, #T_9d134_row18_col3, #T_9d134_row18_col4, #T_9d134_row18_col5, #T_9d134_row18_col6, #T_9d134_row18_col7, #T_9d134_row18_col8, #T_9d134_row19_col0, #T_9d134_row19_col1, #T_9d134_row19_col2, #T_9d134_row19_col3, #T_9d134_row19_col4, #T_9d134_row19_col5, #T_9d134_row19_col6, #T_9d134_row19_col7, #T_9d134_row19_col8, #T_9d134_row20_col0, #T_9d134_row20_col1, #T_9d134_row20_col2, #T_9d134_row20_col3, #T_9d134_row20_col4, #T_9d134_row20_col5, #T_9d134_row20_col6, #T_9d134_row20_col7, #T_9d134_row20_col8, #T_9d134_row21_col0, #T_9d134_row21_col1, #T_9d134_row21_col2, #T_9d134_row21_col3, #T_9d134_row21_col4, #T_9d134_row21_col5, #T_9d134_row21_col6, #T_9d134_row21_col7, #T_9d134_row21_col8, #T_9d134_row22_col0, #T_9d134_row22_col1, #T_9d134_row22_col2, #T_9d134_row22_col3, #T_9d134_row22_col4, #T_9d134_row22_col5, #T_9d134_row22_col6, #T_9d134_row22_col7, #T_9d134_row22_col8, #T_9d134_row23_col0, #T_9d134_row23_col1, #T_9d134_row23_col2, #T_9d134_row23_col3, #T_9d134_row23_col4, #T_9d134_row23_col5, #T_9d134_row23_col6, #T_9d134_row23_col7, #T_9d134_row23_col8, #T_9d134_row24_col0, #T_9d134_row24_col1, #T_9d134_row24_col2, #T_9d134_row24_col3, #T_9d134_row24_col4, #T_9d134_row24_col5, #T_9d134_row24_col6, #T_9d134_row24_col7, #T_9d134_row24_col8, #T_9d134_row25_col0, #T_9d134_row25_col1, #T_9d134_row25_col2, #T_9d134_row25_col3, #T_9d134_row25_col4, #T_9d134_row25_col5, #T_9d134_row25_col6, #T_9d134_row25_col7, #T_9d134_row25_col8, #T_9d134_row26_col0, #T_9d134_row26_col1, #T_9d134_row26_col2, #T_9d134_row26_col3, #T_9d134_row26_col4, #T_9d134_row26_col5, #T_9d134_row26_col6, #T_9d134_row26_col7, #T_9d134_row26_col8, #T_9d134_row27_col0, #T_9d134_row27_col1, #T_9d134_row27_col2, #T_9d134_row27_col3, #T_9d134_row27_col4, #T_9d134_row27_col5, #T_9d134_row27_col6, #T_9d134_row27_col7, #T_9d134_row27_col8, #T_9d134_row28_col0, #T_9d134_row28_col1, #T_9d134_row28_col2, #T_9d134_row28_col3, #T_9d134_row28_col4, #T_9d134_row28_col5, #T_9d134_row28_col6, #T_9d134_row28_col7, #T_9d134_row28_col8, #T_9d134_row29_col0, #T_9d134_row29_col1, #T_9d134_row29_col2, #T_9d134_row29_col3, #T_9d134_row29_col4, #T_9d134_row29_col5, #T_9d134_row29_col6, #T_9d134_row29_col7, #T_9d134_row29_col8, #T_9d134_row30_col0, #T_9d134_row30_col1, #T_9d134_row30_col2, #T_9d134_row30_col3, #T_9d134_row30_col4, #T_9d134_row30_col5, #T_9d134_row30_col6, #T_9d134_row30_col7, #T_9d134_row30_col8, #T_9d134_row31_col0, #T_9d134_row31_col1, #T_9d134_row31_col2, #T_9d134_row31_col3, #T_9d134_row31_col4, #T_9d134_row31_col5, #T_9d134_row31_col6, #T_9d134_row31_col7, #T_9d134_row31_col8, #T_9d134_row32_col0, #T_9d134_row32_col1, #T_9d134_row32_col2, #T_9d134_row32_col3, #T_9d134_row32_col4, #T_9d134_row32_col5, #T_9d134_row32_col6, #T_9d134_row32_col7, #T_9d134_row32_col8, #T_9d134_row33_col0, #T_9d134_row33_col1, #T_9d134_row33_col2, #T_9d134_row33_col3, #T_9d134_row33_col4, #T_9d134_row33_col5, #T_9d134_row33_col6, #T_9d134_row33_col7, #T_9d134_row33_col8, #T_9d134_row34_col0, #T_9d134_row34_col1, #T_9d134_row34_col2, #T_9d134_row34_col3, #T_9d134_row34_col4, #T_9d134_row34_col5, #T_9d134_row34_col6, #T_9d134_row34_col7, #T_9d134_row34_col8 {\n",
       "  text-align: left;\n",
       "}\n",
       "</style>\n",
       "<table id=\"T_9d134\">\n",
       "  <thead>\n",
       "    <tr>\n",
       "      <th class=\"blank level0\" >&nbsp;</th>\n",
       "      <th id=\"T_9d134_level0_col0\" class=\"col_heading level0 col0\" >date</th>\n",
       "      <th id=\"T_9d134_level0_col1\" class=\"col_heading level0 col1\" >draw</th>\n",
       "      <th id=\"T_9d134_level0_col2\" class=\"col_heading level0 col2\" >homeRank</th>\n",
       "      <th id=\"T_9d134_level0_col3\" class=\"col_heading level0 col3\" >homeTeam</th>\n",
       "      <th id=\"T_9d134_level0_col4\" class=\"col_heading level0 col4\" >homeGoals</th>\n",
       "      <th id=\"T_9d134_level0_col5\" class=\"col_heading level0 col5\" >awayGoals</th>\n",
       "      <th id=\"T_9d134_level0_col6\" class=\"col_heading level0 col6\" >awayTeam</th>\n",
       "      <th id=\"T_9d134_level0_col7\" class=\"col_heading level0 col7\" >awayRank</th>\n",
       "      <th id=\"T_9d134_level0_col8\" class=\"col_heading level0 col8\" >competition</th>\n",
       "    </tr>\n",
       "  </thead>\n",
       "  <tbody>\n",
       "    <tr>\n",
       "      <th id=\"T_9d134_level0_row0\" class=\"row_heading level0 row0\" >0</th>\n",
       "      <td id=\"T_9d134_row0_col0\" class=\"data row0 col0\" >2022-09-23 16:00</td>\n",
       "      <td id=\"T_9d134_row0_col1\" class=\"data row0 col1\" >2.8</td>\n",
       "      <td id=\"T_9d134_row0_col2\" class=\"data row0 col2\" >4º</td>\n",
       "      <td id=\"T_9d134_row0_col3\" class=\"data row0 col3\" >Georgia</td>\n",
       "      <td id=\"T_9d134_row0_col4\" class=\"data row0 col4\" >33.2% - 1.64</td>\n",
       "      <td id=\"T_9d134_row0_col5\" class=\"data row0 col5\" >44.9% - 1.93</td>\n",
       "      <td id=\"T_9d134_row0_col6\" class=\"data row0 col6\" >Macedonia del Norte</td>\n",
       "      <td id=\"T_9d134_row0_col7\" class=\"data row0 col7\" >6º</td>\n",
       "      <td id=\"T_9d134_row0_col8\" class=\"data row0 col8\" >Liga de las Naciones de la UEFA. Liga C,  Jornada 5</td>\n",
       "    </tr>\n",
       "    <tr>\n",
       "      <th id=\"T_9d134_level0_row1\" class=\"row_heading level0 row1\" >1</th>\n",
       "      <td id=\"T_9d134_row1_col0\" class=\"data row1 col0\" >2022-09-23 16:00</td>\n",
       "      <td id=\"T_9d134_row1_col1\" class=\"data row1 col1\" >3.1</td>\n",
       "      <td id=\"T_9d134_row1_col2\" class=\"data row1 col2\" >4º</td>\n",
       "      <td id=\"T_9d134_row1_col3\" class=\"data row1 col3\" >Estonia</td>\n",
       "      <td id=\"T_9d134_row1_col4\" class=\"data row1 col4\" >34.5% - 1.62</td>\n",
       "      <td id=\"T_9d134_row1_col5\" class=\"data row1 col5\" >43.2% - 1.84</td>\n",
       "      <td id=\"T_9d134_row1_col6\" class=\"data row1 col6\" >Malta</td>\n",
       "      <td id=\"T_9d134_row1_col7\" class=\"data row1 col7\" >3º</td>\n",
       "      <td id=\"T_9d134_row1_col8\" class=\"data row1 col8\" >Liga de las Naciones de la UEFA. Liga D,  Jornada 5</td>\n",
       "    </tr>\n",
       "    <tr>\n",
       "      <th id=\"T_9d134_level0_row2\" class=\"row_heading level0 row2\" >2</th>\n",
       "      <td id=\"T_9d134_row2_col0\" class=\"data row2 col0\" >2022-09-23 18:45</td>\n",
       "      <td id=\"T_9d134_row2_col1\" class=\"data row2 col1\" >5.9</td>\n",
       "      <td id=\"T_9d134_row2_col2\" class=\"data row2 col2\" >9º</td>\n",
       "      <td id=\"T_9d134_row2_col3\" class=\"data row2 col3\" >Italia</td>\n",
       "      <td id=\"T_9d134_row2_col4\" class=\"data row2 col4\" >16.3% - 0.88</td>\n",
       "      <td id=\"T_9d134_row2_col5\" class=\"data row2 col5\" >62.4% - 1.95</td>\n",
       "      <td id=\"T_9d134_row2_col6\" class=\"data row2 col6\" >Inglaterra</td>\n",
       "      <td id=\"T_9d134_row2_col7\" class=\"data row2 col7\" >14º</td>\n",
       "      <td id=\"T_9d134_row2_col8\" class=\"data row2 col8\" >Liga de las Naciones de la UEFA. Liga A,  Jornada 5</td>\n",
       "    </tr>\n",
       "    <tr>\n",
       "      <th id=\"T_9d134_level0_row3\" class=\"row_heading level0 row3\" >3</th>\n",
       "      <td id=\"T_9d134_row3_col0\" class=\"data row3 col0\" >2022-09-23 18:45</td>\n",
       "      <td id=\"T_9d134_row3_col1\" class=\"data row3 col1\" >0.2</td>\n",
       "      <td id=\"T_9d134_row3_col2\" class=\"data row3 col2\" >8º</td>\n",
       "      <td id=\"T_9d134_row3_col3\" class=\"data row3 col3\" >Alemania</td>\n",
       "      <td id=\"T_9d134_row3_col4\" class=\"data row3 col4\" >87% - 4.73</td>\n",
       "      <td id=\"T_9d134_row3_col5\" class=\"data row3 col5\" >5.8% - 1.49</td>\n",
       "      <td id=\"T_9d134_row3_col6\" class=\"data row3 col6\" >Hungría</td>\n",
       "      <td id=\"T_9d134_row3_col7\" class=\"data row3 col7\" >5º</td>\n",
       "      <td id=\"T_9d134_row3_col8\" class=\"data row3 col8\" >Liga de las Naciones de la UEFA. Liga A,  Jornada 5</td>\n",
       "    </tr>\n",
       "    <tr>\n",
       "      <th id=\"T_9d134_level0_row4\" class=\"row_heading level0 row4\" >4</th>\n",
       "      <td id=\"T_9d134_row4_col0\" class=\"data row4 col0\" >2022-09-23 18:45</td>\n",
       "      <td id=\"T_9d134_row4_col1\" class=\"data row4 col1\" >17.9</td>\n",
       "      <td id=\"T_9d134_row4_col2\" class=\"data row4 col2\" >9º</td>\n",
       "      <td id=\"T_9d134_row4_col3\" class=\"data row4 col3\" >Finlandia</td>\n",
       "      <td id=\"T_9d134_row4_col4\" class=\"data row4 col4\" >31.4% - 0.83</td>\n",
       "      <td id=\"T_9d134_row4_col5\" class=\"data row4 col5\" >34.8% - 0.89</td>\n",
       "      <td id=\"T_9d134_row4_col6\" class=\"data row4 col6\" >Rumanía</td>\n",
       "      <td id=\"T_9d134_row4_col7\" class=\"data row4 col7\" >10º</td>\n",
       "      <td id=\"T_9d134_row4_col8\" class=\"data row4 col8\" >Liga de las Naciones de la UEFA. Liga B,  Jornada 5</td>\n",
       "    </tr>\n",
       "    <tr>\n",
       "      <th id=\"T_9d134_level0_row5\" class=\"row_heading level0 row5\" >5</th>\n",
       "      <td id=\"T_9d134_row5_col0\" class=\"data row5 col0\" >2022-09-23 18:45</td>\n",
       "      <td id=\"T_9d134_row5_col1\" class=\"data row5 col1\" >13.7</td>\n",
       "      <td id=\"T_9d134_row5_col2\" class=\"data row5 col2\" >2º</td>\n",
       "      <td id=\"T_9d134_row5_col3\" class=\"data row5 col3\" >Bosnia</td>\n",
       "      <td id=\"T_9d134_row5_col4\" class=\"data row5 col4\" >37.6% - 1.05</td>\n",
       "      <td id=\"T_9d134_row5_col5\" class=\"data row5 col5\" >31.5% - 0.93</td>\n",
       "      <td id=\"T_9d134_row5_col6\" class=\"data row5 col6\" >Montenegro</td>\n",
       "      <td id=\"T_9d134_row5_col7\" class=\"data row5 col7\" >4º</td>\n",
       "      <td id=\"T_9d134_row5_col8\" class=\"data row5 col8\" >Liga de las Naciones de la UEFA. Liga B,  Jornada 5</td>\n",
       "    </tr>\n",
       "    <tr>\n",
       "      <th id=\"T_9d134_level0_row6\" class=\"row_heading level0 row6\" >6</th>\n",
       "      <td id=\"T_9d134_row6_col0\" class=\"data row6 col0\" >2022-09-23 16:00</td>\n",
       "      <td id=\"T_9d134_row6_col1\" class=\"data row6 col1\" >9.6</td>\n",
       "      <td id=\"T_9d134_row6_col2\" class=\"data row6 col2\" >-</td>\n",
       "      <td id=\"T_9d134_row6_col3\" class=\"data row6 col3\" >Croacia Sub 21</td>\n",
       "      <td id=\"T_9d134_row6_col4\" class=\"data row6 col4\" >49.8% - 1.45</td>\n",
       "      <td id=\"T_9d134_row6_col5\" class=\"data row6 col5\" >23.4% - 0.9</td>\n",
       "      <td id=\"T_9d134_row6_col6\" class=\"data row6 col6\" >Dinamarca Sub 21</td>\n",
       "      <td id=\"T_9d134_row6_col7\" class=\"data row6 col7\" >-</td>\n",
       "      <td id=\"T_9d134_row6_col8\" class=\"data row6 col8\" >Clasificación Europeo Sub 21.  Final</td>\n",
       "    </tr>\n",
       "    <tr>\n",
       "      <th id=\"T_9d134_level0_row7\" class=\"row_heading level0 row7\" >7</th>\n",
       "      <td id=\"T_9d134_row7_col0\" class=\"data row7 col0\" >2022-09-23 16:00</td>\n",
       "      <td id=\"T_9d134_row7_col1\" class=\"data row7 col1\" >1</td>\n",
       "      <td id=\"T_9d134_row7_col2\" class=\"data row7 col2\" >-</td>\n",
       "      <td id=\"T_9d134_row7_col3\" class=\"data row7 col3\" >Islandia Sub 21</td>\n",
       "      <td id=\"T_9d134_row7_col4\" class=\"data row7 col4\" >79% - 3.39</td>\n",
       "      <td id=\"T_9d134_row7_col5\" class=\"data row7 col5\" >9.3% - 1.19</td>\n",
       "      <td id=\"T_9d134_row7_col6\" class=\"data row7 col6\" >República Checa Sub 21</td>\n",
       "      <td id=\"T_9d134_row7_col7\" class=\"data row7 col7\" >-</td>\n",
       "      <td id=\"T_9d134_row7_col8\" class=\"data row7 col8\" >Clasificación Europeo Sub 21.  Final</td>\n",
       "    </tr>\n",
       "    <tr>\n",
       "      <th id=\"T_9d134_level0_row8\" class=\"row_heading level0 row8\" >8</th>\n",
       "      <td id=\"T_9d134_row8_col0\" class=\"data row8 col0\" >2022-09-23 16:00</td>\n",
       "      <td id=\"T_9d134_row8_col1\" class=\"data row8 col1\" >1.4</td>\n",
       "      <td id=\"T_9d134_row8_col2\" class=\"data row8 col2\" >-</td>\n",
       "      <td id=\"T_9d134_row8_col3\" class=\"data row8 col3\" >Eslovaquia Sub 21</td>\n",
       "      <td id=\"T_9d134_row8_col4\" class=\"data row8 col4\" >65.6% - 2.8</td>\n",
       "      <td id=\"T_9d134_row8_col5\" class=\"data row8 col5\" >17.8% - 1.45</td>\n",
       "      <td id=\"T_9d134_row8_col6\" class=\"data row8 col6\" >Ucrania Sub 21</td>\n",
       "      <td id=\"T_9d134_row8_col7\" class=\"data row8 col7\" >-</td>\n",
       "      <td id=\"T_9d134_row8_col8\" class=\"data row8 col8\" >Clasificación Europeo Sub 21.  Final</td>\n",
       "    </tr>\n",
       "    <tr>\n",
       "      <th id=\"T_9d134_level0_row9\" class=\"row_heading level0 row9\" >9</th>\n",
       "      <td id=\"T_9d134_row9_col0\" class=\"data row9 col0\" >2022-09-23 18:00</td>\n",
       "      <td id=\"T_9d134_row9_col1\" class=\"data row9 col1\" >5.1</td>\n",
       "      <td id=\"T_9d134_row9_col2\" class=\"data row9 col2\" >-</td>\n",
       "      <td id=\"T_9d134_row9_col3\" class=\"data row9 col3\" >Irlanda Sub 21</td>\n",
       "      <td id=\"T_9d134_row9_col4\" class=\"data row9 col4\" >50.4% - 1.76</td>\n",
       "      <td id=\"T_9d134_row9_col5\" class=\"data row9 col5\" >26.2% - 1.21</td>\n",
       "      <td id=\"T_9d134_row9_col6\" class=\"data row9 col6\" >Israel Sub 21</td>\n",
       "      <td id=\"T_9d134_row9_col7\" class=\"data row9 col7\" >-</td>\n",
       "      <td id=\"T_9d134_row9_col8\" class=\"data row9 col8\" >Clasificación Europeo Sub 21.  Final</td>\n",
       "    </tr>\n",
       "    <tr>\n",
       "      <th id=\"T_9d134_level0_row10\" class=\"row_heading level0 row10\" >10</th>\n",
       "      <td id=\"T_9d134_row10_col0\" class=\"data row10 col0\" >2022-09-22 23:10</td>\n",
       "      <td id=\"T_9d134_row10_col1\" class=\"data row10 col1\" >7.9</td>\n",
       "      <td id=\"T_9d134_row10_col2\" class=\"data row10 col2\" >10º</td>\n",
       "      <td id=\"T_9d134_row10_col3\" class=\"data row10 col3\" >Independiente Medellin</td>\n",
       "      <td id=\"T_9d134_row10_col4\" class=\"data row10 col4\" >50.7% - 1.55</td>\n",
       "      <td id=\"T_9d134_row10_col5\" class=\"data row10 col5\" >23.8% - 0.98</td>\n",
       "      <td id=\"T_9d134_row10_col6\" class=\"data row10 col6\" >Deportivo Pereira</td>\n",
       "      <td id=\"T_9d134_row10_col7\" class=\"data row10 col7\" >5º</td>\n",
       "      <td id=\"T_9d134_row10_col8\" class=\"data row10 col8\" >Clausura Colombia.  Jornada 13</td>\n",
       "    </tr>\n",
       "    <tr>\n",
       "      <th id=\"T_9d134_level0_row11\" class=\"row_heading level0 row11\" >11</th>\n",
       "      <td id=\"T_9d134_row11_col0\" class=\"data row11 col0\" >2022-09-23 11:30</td>\n",
       "      <td id=\"T_9d134_row11_col1\" class=\"data row11 col1\" >4.7</td>\n",
       "      <td id=\"T_9d134_row11_col2\" class=\"data row11 col2\" >10º</td>\n",
       "      <td id=\"T_9d134_row11_col3\" class=\"data row11 col3\" >Changchun Yatai</td>\n",
       "      <td id=\"T_9d134_row11_col4\" class=\"data row11 col4\" >61.3% - 2.04</td>\n",
       "      <td id=\"T_9d134_row11_col5\" class=\"data row11 col5\" >17.9% - 1.01</td>\n",
       "      <td id=\"T_9d134_row11_col6\" class=\"data row11 col6\" >Meizhou Hakka</td>\n",
       "      <td id=\"T_9d134_row11_col7\" class=\"data row11 col7\" >8º</td>\n",
       "      <td id=\"T_9d134_row11_col8\" class=\"data row11 col8\" >Superliga China.  Jornada 20</td>\n",
       "    </tr>\n",
       "    <tr>\n",
       "      <th id=\"T_9d134_level0_row12\" class=\"row_heading level0 row12\" >12</th>\n",
       "      <td id=\"T_9d134_row12_col0\" class=\"data row12 col0\" >2022-09-23 12:00</td>\n",
       "      <td id=\"T_9d134_row12_col1\" class=\"data row12 col1\" >30.2</td>\n",
       "      <td id=\"T_9d134_row12_col2\" class=\"data row12 col2\" >9º</td>\n",
       "      <td id=\"T_9d134_row12_col3\" class=\"data row12 col3\" >Beijing Guoan</td>\n",
       "      <td id=\"T_9d134_row12_col4\" class=\"data row12 col4\" >47% - 0.87</td>\n",
       "      <td id=\"T_9d134_row12_col5\" class=\"data row12 col5\" >13.6% - 0.33</td>\n",
       "      <td id=\"T_9d134_row12_col6\" class=\"data row12 col6\" >Guangzhou FC</td>\n",
       "      <td id=\"T_9d134_row12_col7\" class=\"data row12 col7\" >16º</td>\n",
       "      <td id=\"T_9d134_row12_col8\" class=\"data row12 col8\" >Superliga China.  Jornada 20</td>\n",
       "    </tr>\n",
       "    <tr>\n",
       "      <th id=\"T_9d134_level0_row13\" class=\"row_heading level0 row13\" >13</th>\n",
       "      <td id=\"T_9d134_row13_col0\" class=\"data row13 col0\" >2022-09-23 19:00</td>\n",
       "      <td id=\"T_9d134_row13_col1\" class=\"data row13 col1\" >9.6</td>\n",
       "      <td id=\"T_9d134_row13_col2\" class=\"data row13 col2\" >12º</td>\n",
       "      <td id=\"T_9d134_row13_col3\" class=\"data row13 col3\" >Real Sporting</td>\n",
       "      <td id=\"T_9d134_row13_col4\" class=\"data row13 col4\" >45.5% - 1.36</td>\n",
       "      <td id=\"T_9d134_row13_col5\" class=\"data row13 col5\" >27.1% - 0.98</td>\n",
       "      <td id=\"T_9d134_row13_col6\" class=\"data row13 col6\" >UD Ibiza</td>\n",
       "      <td id=\"T_9d134_row13_col7\" class=\"data row13 col7\" >16º</td>\n",
       "      <td id=\"T_9d134_row13_col8\" class=\"data row13 col8\" >Segunda División.  Jornada 7</td>\n",
       "    </tr>\n",
       "    <tr>\n",
       "      <th id=\"T_9d134_level0_row14\" class=\"row_heading level0 row14\" >14</th>\n",
       "      <td id=\"T_9d134_row14_col0\" class=\"data row14 col0\" >2022-09-23 15:30</td>\n",
       "      <td id=\"T_9d134_row14_col1\" class=\"data row14 col1\" >7.3</td>\n",
       "      <td id=\"T_9d134_row14_col2\" class=\"data row14 col2\" >-</td>\n",
       "      <td id=\"T_9d134_row14_col3\" class=\"data row14 col3\" >Magallanes</td>\n",
       "      <td id=\"T_9d134_row14_col4\" class=\"data row14 col4\" >69.1% - 1.98</td>\n",
       "      <td id=\"T_9d134_row14_col5\" class=\"data row14 col5\" >11% - 0.64</td>\n",
       "      <td id=\"T_9d134_row14_col6\" class=\"data row14 col6\" >Cobreloa</td>\n",
       "      <td id=\"T_9d134_row14_col7\" class=\"data row14 col7\" >-</td>\n",
       "      <td id=\"T_9d134_row14_col8\" class=\"data row14 col8\" >Copa Chile .  Cuartos</td>\n",
       "    </tr>\n",
       "    <tr>\n",
       "      <th id=\"T_9d134_level0_row15\" class=\"row_heading level0 row15\" >15</th>\n",
       "      <td id=\"T_9d134_row15_col0\" class=\"data row15 col0\" >2022-09-23 18:45</td>\n",
       "      <td id=\"T_9d134_row15_col1\" class=\"data row15 col1\" >10.1</td>\n",
       "      <td id=\"T_9d134_row15_col2\" class=\"data row15 col2\" >-</td>\n",
       "      <td id=\"T_9d134_row15_col3\" class=\"data row15 col3\" >Falkirk</td>\n",
       "      <td id=\"T_9d134_row15_col4\" class=\"data row15 col4\" >26.2% - 0.94</td>\n",
       "      <td id=\"T_9d134_row15_col5\" class=\"data row15 col5\" >46.1% - 1.35</td>\n",
       "      <td id=\"T_9d134_row15_col6\" class=\"data row15 col6\" >Partick Thistle</td>\n",
       "      <td id=\"T_9d134_row15_col7\" class=\"data row15 col7\" >-</td>\n",
       "      <td id=\"T_9d134_row15_col8\" class=\"data row15 col8\" >Challenge Cup Escocia.  1/16</td>\n",
       "    </tr>\n",
       "    <tr>\n",
       "      <th id=\"T_9d134_level0_row16\" class=\"row_heading level0 row16\" >16</th>\n",
       "      <td id=\"T_9d134_row16_col0\" class=\"data row16 col0\" >2022-09-23 18:45</td>\n",
       "      <td id=\"T_9d134_row16_col1\" class=\"data row16 col1\" >3.9</td>\n",
       "      <td id=\"T_9d134_row16_col2\" class=\"data row16 col2\" >-</td>\n",
       "      <td id=\"T_9d134_row16_col3\" class=\"data row16 col3\" >Alloa Athletic</td>\n",
       "      <td id=\"T_9d134_row16_col4\" class=\"data row16 col4\" >40% - 1.66</td>\n",
       "      <td id=\"T_9d134_row16_col5\" class=\"data row16 col5\" >36.8% - 1.58</td>\n",
       "      <td id=\"T_9d134_row16_col6\" class=\"data row16 col6\" >Airdrieonians</td>\n",
       "      <td id=\"T_9d134_row16_col7\" class=\"data row16 col7\" >-</td>\n",
       "      <td id=\"T_9d134_row16_col8\" class=\"data row16 col8\" >Challenge Cup Escocia.  1/16</td>\n",
       "    </tr>\n",
       "    <tr>\n",
       "      <th id=\"T_9d134_level0_row17\" class=\"row_heading level0 row17\" >17</th>\n",
       "      <td id=\"T_9d134_row17_col0\" class=\"data row17 col0\" >2022-09-23 18:45</td>\n",
       "      <td id=\"T_9d134_row17_col1\" class=\"data row17 col1\" >6.6</td>\n",
       "      <td id=\"T_9d134_row17_col2\" class=\"data row17 col2\" >-</td>\n",
       "      <td id=\"T_9d134_row17_col3\" class=\"data row17 col3\" >Annan Athletic</td>\n",
       "      <td id=\"T_9d134_row17_col4\" class=\"data row17 col4\" >46.3% - 1.55</td>\n",
       "      <td id=\"T_9d134_row17_col5\" class=\"data row17 col5\" >28.6% - 1.17</td>\n",
       "      <td id=\"T_9d134_row17_col6\" class=\"data row17 col6\" >Kelty Hearts</td>\n",
       "      <td id=\"T_9d134_row17_col7\" class=\"data row17 col7\" >-</td>\n",
       "      <td id=\"T_9d134_row17_col8\" class=\"data row17 col8\" >Challenge Cup Escocia.  1/16</td>\n",
       "    </tr>\n",
       "    <tr>\n",
       "      <th id=\"T_9d134_level0_row18\" class=\"row_heading level0 row18\" >18</th>\n",
       "      <td id=\"T_9d134_row18_col0\" class=\"data row18 col0\" >2022-09-23 19:00</td>\n",
       "      <td id=\"T_9d134_row18_col1\" class=\"data row18 col1\" >2.7</td>\n",
       "      <td id=\"T_9d134_row18_col2\" class=\"data row18 col2\" >-</td>\n",
       "      <td id=\"T_9d134_row18_col3\" class=\"data row18 col3\" >The New Saints</td>\n",
       "      <td id=\"T_9d134_row18_col4\" class=\"data row18 col4\" >67.5% - 2.5</td>\n",
       "      <td id=\"T_9d134_row18_col5\" class=\"data row18 col5\" >15.1% - 1.12</td>\n",
       "      <td id=\"T_9d134_row18_col6\" class=\"data row18 col6\" >Dundee</td>\n",
       "      <td id=\"T_9d134_row18_col7\" class=\"data row18 col7\" >-</td>\n",
       "      <td id=\"T_9d134_row18_col8\" class=\"data row18 col8\" >Challenge Cup Escocia.  1/16</td>\n",
       "    </tr>\n",
       "    <tr>\n",
       "      <th id=\"T_9d134_level0_row19\" class=\"row_heading level0 row19\" >19</th>\n",
       "      <td id=\"T_9d134_row19_col0\" class=\"data row19 col0\" >2022-09-23 01:30</td>\n",
       "      <td id=\"T_9d134_row19_col1\" class=\"data row19 col1\" >7.9</td>\n",
       "      <td id=\"T_9d134_row19_col2\" class=\"data row19 col2\" >-</td>\n",
       "      <td id=\"T_9d134_row19_col3\" class=\"data row19 col3\" >Real Salt Lake</td>\n",
       "      <td id=\"T_9d134_row19_col4\" class=\"data row19 col4\" >48.8% - 1.52</td>\n",
       "      <td id=\"T_9d134_row19_col5\" class=\"data row19 col5\" >25.5% - 1.02</td>\n",
       "      <td id=\"T_9d134_row19_col6\" class=\"data row19 col6\" >Atlas Guadalajara</td>\n",
       "      <td id=\"T_9d134_row19_col7\" class=\"data row19 col7\" >-</td>\n",
       "      <td id=\"T_9d134_row19_col8\" class=\"data row19 col8\" >Leagues Cup.  Final</td>\n",
       "    </tr>\n",
       "    <tr>\n",
       "      <th id=\"T_9d134_level0_row20\" class=\"row_heading level0 row20\" >20</th>\n",
       "      <td id=\"T_9d134_row20_col0\" class=\"data row20 col0\" >2022-09-23 00:30</td>\n",
       "      <td id=\"T_9d134_row20_col1\" class=\"data row20 col1\" >18.3</td>\n",
       "      <td id=\"T_9d134_row20_col2\" class=\"data row20 col2\" >15º</td>\n",
       "      <td id=\"T_9d134_row20_col3\" class=\"data row20 col3\" >Vila Nova</td>\n",
       "      <td id=\"T_9d134_row20_col4\" class=\"data row20 col4\" >30.4% - 0.8</td>\n",
       "      <td id=\"T_9d134_row20_col5\" class=\"data row20 col5\" >35.6% - 0.9</td>\n",
       "      <td id=\"T_9d134_row20_col6\" class=\"data row20 col6\" >CRB</td>\n",
       "      <td id=\"T_9d134_row20_col7\" class=\"data row20 col7\" >10º</td>\n",
       "      <td id=\"T_9d134_row20_col8\" class=\"data row20 col8\" >Serie B - Brasil.  Jornada 31</td>\n",
       "    </tr>\n",
       "    <tr>\n",
       "      <th id=\"T_9d134_level0_row21\" class=\"row_heading level0 row21\" >21</th>\n",
       "      <td id=\"T_9d134_row21_col0\" class=\"data row21 col0\" >2022-09-22 22:00</td>\n",
       "      <td id=\"T_9d134_row21_col1\" class=\"data row21 col1\" >12</td>\n",
       "      <td id=\"T_9d134_row21_col2\" class=\"data row21 col2\" >-</td>\n",
       "      <td id=\"T_9d134_row21_col3\" class=\"data row21 col3\" >CA Morelia</td>\n",
       "      <td id=\"T_9d134_row21_col4\" class=\"data row21 col4\" >64.9% - 1.62</td>\n",
       "      <td id=\"T_9d134_row21_col5\" class=\"data row21 col5\" >11.2% - 0.5</td>\n",
       "      <td id=\"T_9d134_row21_col6\" class=\"data row21 col6\" >Cancún</td>\n",
       "      <td id=\"T_9d134_row21_col7\" class=\"data row21 col7\" >-</td>\n",
       "      <td id=\"T_9d134_row21_col8\" class=\"data row21 col8\" >Liga de Expansión MX - Apertura. Temporada Regular,  Jornada 13</td>\n",
       "    </tr>\n",
       "    <tr>\n",
       "      <th id=\"T_9d134_level0_row22\" class=\"row_heading level0 row22\" >22</th>\n",
       "      <td id=\"T_9d134_row22_col0\" class=\"data row22 col0\" >2022-09-23 00:05</td>\n",
       "      <td id=\"T_9d134_row22_col1\" class=\"data row22 col1\" >8.5</td>\n",
       "      <td id=\"T_9d134_row22_col2\" class=\"data row22 col2\" >-</td>\n",
       "      <td id=\"T_9d134_row22_col3\" class=\"data row22 col3\" >Atlante FC</td>\n",
       "      <td id=\"T_9d134_row22_col4\" class=\"data row22 col4\" >60.3% - 1.71</td>\n",
       "      <td id=\"T_9d134_row22_col5\" class=\"data row22 col5\" >16.1% - 0.75</td>\n",
       "      <td id=\"T_9d134_row22_col6\" class=\"data row22 col6\" >Venados</td>\n",
       "      <td id=\"T_9d134_row22_col7\" class=\"data row22 col7\" >-</td>\n",
       "      <td id=\"T_9d134_row22_col8\" class=\"data row22 col8\" >Liga de Expansión MX - Apertura. Temporada Regular,  Jornada 13</td>\n",
       "    </tr>\n",
       "    <tr>\n",
       "      <th id=\"T_9d134_level0_row23\" class=\"row_heading level0 row23\" >23</th>\n",
       "      <td id=\"T_9d134_row23_col0\" class=\"data row23 col0\" >2022-09-23 18:00</td>\n",
       "      <td id=\"T_9d134_row23_col1\" class=\"data row23 col1\" >3.4</td>\n",
       "      <td id=\"T_9d134_row23_col2\" class=\"data row23 col2\" >-</td>\n",
       "      <td id=\"T_9d134_row23_col3\" class=\"data row23 col3\" >Dessel Sport</td>\n",
       "      <td id=\"T_9d134_row23_col4\" class=\"data row23 col4\" >57.5% - 2.12</td>\n",
       "      <td id=\"T_9d134_row23_col5\" class=\"data row23 col5\" >21.8% - 1.24</td>\n",
       "      <td id=\"T_9d134_row23_col6\" class=\"data row23 col6\" >Excelsior Virton</td>\n",
       "      <td id=\"T_9d134_row23_col7\" class=\"data row23 col7\" >-</td>\n",
       "      <td id=\"T_9d134_row23_col8\" class=\"data row23 col8\" >Copa Belga.  1/32</td>\n",
       "    </tr>\n",
       "    <tr>\n",
       "      <th id=\"T_9d134_level0_row24\" class=\"row_heading level0 row24\" >24</th>\n",
       "      <td id=\"T_9d134_row24_col0\" class=\"data row24 col0\" >2022-09-23 20:00</td>\n",
       "      <td id=\"T_9d134_row24_col1\" class=\"data row24 col1\" >12.7</td>\n",
       "      <td id=\"T_9d134_row24_col2\" class=\"data row24 col2\" >8º</td>\n",
       "      <td id=\"T_9d134_row24_col3\" class=\"data row24 col3\" >Atlético Fútbol Club</td>\n",
       "      <td id=\"T_9d134_row24_col4\" class=\"data row24 col4\" >29.2% - 0.92</td>\n",
       "      <td id=\"T_9d134_row24_col5\" class=\"data row24 col5\" >40.9% - 1.15</td>\n",
       "      <td id=\"T_9d134_row24_col6\" class=\"data row24 col6\" >Deportes Quindío</td>\n",
       "      <td id=\"T_9d134_row24_col7\" class=\"data row24 col7\" >1º</td>\n",
       "      <td id=\"T_9d134_row24_col8\" class=\"data row24 col8\" >Primera B Colombia - Clausura.  Jornada 5</td>\n",
       "    </tr>\n",
       "    <tr>\n",
       "      <th id=\"T_9d134_level0_row25\" class=\"row_heading level0 row25\" >25</th>\n",
       "      <td id=\"T_9d134_row25_col0\" class=\"data row25 col0\" >2022-09-23 20:00</td>\n",
       "      <td id=\"T_9d134_row25_col1\" class=\"data row25 col1\" >14</td>\n",
       "      <td id=\"T_9d134_row25_col2\" class=\"data row25 col2\" >9º</td>\n",
       "      <td id=\"T_9d134_row25_col3\" class=\"data row25 col3\" >Bogotá</td>\n",
       "      <td id=\"T_9d134_row25_col4\" class=\"data row25 col4\" >51.5% - 1.29</td>\n",
       "      <td id=\"T_9d134_row25_col5\" class=\"data row25 col5\" >19.4% - 0.67</td>\n",
       "      <td id=\"T_9d134_row25_col6\" class=\"data row25 col6\" >Orsomarso SC</td>\n",
       "      <td id=\"T_9d134_row25_col7\" class=\"data row25 col7\" >16º</td>\n",
       "      <td id=\"T_9d134_row25_col8\" class=\"data row25 col8\" >Primera B Colombia - Clausura.  Jornada 14</td>\n",
       "    </tr>\n",
       "    <tr>\n",
       "      <th id=\"T_9d134_level0_row26\" class=\"row_heading level0 row26\" >26</th>\n",
       "      <td id=\"T_9d134_row26_col0\" class=\"data row26 col0\" >2022-09-23 21:00</td>\n",
       "      <td id=\"T_9d134_row26_col1\" class=\"data row26 col1\" >10.5</td>\n",
       "      <td id=\"T_9d134_row26_col2\" class=\"data row26 col2\" >13º</td>\n",
       "      <td id=\"T_9d134_row26_col3\" class=\"data row26 col3\" >Cúcuta Deportivo</td>\n",
       "      <td id=\"T_9d134_row26_col4\" class=\"data row26 col4\" >44% - 1.29</td>\n",
       "      <td id=\"T_9d134_row26_col5\" class=\"data row26 col5\" >27.8% - 0.96</td>\n",
       "      <td id=\"T_9d134_row26_col6\" class=\"data row26 col6\" >Real Santander</td>\n",
       "      <td id=\"T_9d134_row26_col7\" class=\"data row26 col7\" >11º</td>\n",
       "      <td id=\"T_9d134_row26_col8\" class=\"data row26 col8\" >Primera B Colombia - Clausura.  Jornada 14</td>\n",
       "    </tr>\n",
       "    <tr>\n",
       "      <th id=\"T_9d134_level0_row27\" class=\"row_heading level0 row27\" >27</th>\n",
       "      <td id=\"T_9d134_row27_col0\" class=\"data row27 col0\" >2022-09-23 19:00</td>\n",
       "      <td id=\"T_9d134_row27_col1\" class=\"data row27 col1\" >4.9</td>\n",
       "      <td id=\"T_9d134_row27_col2\" class=\"data row27 col2\" >3º</td>\n",
       "      <td id=\"T_9d134_row27_col3\" class=\"data row27 col3\" >Heracles</td>\n",
       "      <td id=\"T_9d134_row27_col4\" class=\"data row27 col4\" >72.6% - 2.29</td>\n",
       "      <td id=\"T_9d134_row27_col5\" class=\"data row27 col5\" >10.3% - 0.73</td>\n",
       "      <td id=\"T_9d134_row27_col6\" class=\"data row27 col6\" >Helmond Sport</td>\n",
       "      <td id=\"T_9d134_row27_col7\" class=\"data row27 col7\" >17º</td>\n",
       "      <td id=\"T_9d134_row27_col8\" class=\"data row27 col8\" >Eerste Divisie.  Jornada 8</td>\n",
       "    </tr>\n",
       "    <tr>\n",
       "      <th id=\"T_9d134_level0_row28\" class=\"row_heading level0 row28\" >28</th>\n",
       "      <td id=\"T_9d134_row28_col0\" class=\"data row28 col0\" >2022-09-23 19:00</td>\n",
       "      <td id=\"T_9d134_row28_col1\" class=\"data row28 col1\" >7.1</td>\n",
       "      <td id=\"T_9d134_row28_col2\" class=\"data row28 col2\" >15º</td>\n",
       "      <td id=\"T_9d134_row28_col3\" class=\"data row28 col3\" >TOP Oss</td>\n",
       "      <td id=\"T_9d134_row28_col4\" class=\"data row28 col4\" >32.4% - 1.23</td>\n",
       "      <td id=\"T_9d134_row28_col5\" class=\"data row28 col5\" >41.7% - 1.42</td>\n",
       "      <td id=\"T_9d134_row28_col6\" class=\"data row28 col6\" >Willem II</td>\n",
       "      <td id=\"T_9d134_row28_col7\" class=\"data row28 col7\" >8º</td>\n",
       "      <td id=\"T_9d134_row28_col8\" class=\"data row28 col8\" >Eerste Divisie.  Jornada 8</td>\n",
       "    </tr>\n",
       "    <tr>\n",
       "      <th id=\"T_9d134_level0_row29\" class=\"row_heading level0 row29\" >29</th>\n",
       "      <td id=\"T_9d134_row29_col0\" class=\"data row29 col0\" >2022-09-23 19:00</td>\n",
       "      <td id=\"T_9d134_row29_col1\" class=\"data row29 col1\" >5.1</td>\n",
       "      <td id=\"T_9d134_row29_col2\" class=\"data row29 col2\" >6º</td>\n",
       "      <td id=\"T_9d134_row29_col3\" class=\"data row29 col3\" >VVV Venlo</td>\n",
       "      <td id=\"T_9d134_row29_col4\" class=\"data row29 col4\" >49.6% - 1.75</td>\n",
       "      <td id=\"T_9d134_row29_col5\" class=\"data row29 col5\" >26.9% - 1.23</td>\n",
       "      <td id=\"T_9d134_row29_col6\" class=\"data row29 col6\" >SC Telstar</td>\n",
       "      <td id=\"T_9d134_row29_col7\" class=\"data row29 col7\" >14º</td>\n",
       "      <td id=\"T_9d134_row29_col8\" class=\"data row29 col8\" >Eerste Divisie.  Jornada 8</td>\n",
       "    </tr>\n",
       "    <tr>\n",
       "      <th id=\"T_9d134_level0_row30\" class=\"row_heading level0 row30\" >30</th>\n",
       "      <td id=\"T_9d134_row30_col0\" class=\"data row30 col0\" >2022-09-23 19:00</td>\n",
       "      <td id=\"T_9d134_row30_col1\" class=\"data row30 col1\" >5.1</td>\n",
       "      <td id=\"T_9d134_row30_col2\" class=\"data row30 col2\" >16º</td>\n",
       "      <td id=\"T_9d134_row30_col3\" class=\"data row30 col3\" >Dordrecht</td>\n",
       "      <td id=\"T_9d134_row30_col4\" class=\"data row30 col4\" >53.1% - 1.83</td>\n",
       "      <td id=\"T_9d134_row30_col5\" class=\"data row30 col5\" >23.9% - 1.15</td>\n",
       "      <td id=\"T_9d134_row30_col6\" class=\"data row30 col6\" >MVV Maastricht</td>\n",
       "      <td id=\"T_9d134_row30_col7\" class=\"data row30 col7\" >9º</td>\n",
       "      <td id=\"T_9d134_row30_col8\" class=\"data row30 col8\" >Eerste Divisie.  Jornada 8</td>\n",
       "    </tr>\n",
       "    <tr>\n",
       "      <th id=\"T_9d134_level0_row31\" class=\"row_heading level0 row31\" >31</th>\n",
       "      <td id=\"T_9d134_row31_col0\" class=\"data row31 col0\" >2022-09-23 07:00</td>\n",
       "      <td id=\"T_9d134_row31_col1\" class=\"data row31 col1\" >1.8</td>\n",
       "      <td id=\"T_9d134_row31_col2\" class=\"data row31 col2\" >12º</td>\n",
       "      <td id=\"T_9d134_row31_col3\" class=\"data row31 col3\" >Shanghai Jiading Huilong</td>\n",
       "      <td id=\"T_9d134_row31_col4\" class=\"data row31 col4\" >14.3% - 1.23</td>\n",
       "      <td id=\"T_9d134_row31_col5\" class=\"data row31 col5\" >70% - 2.79</td>\n",
       "      <td id=\"T_9d134_row31_col6\" class=\"data row31 col6\" >Kunshan FC</td>\n",
       "      <td id=\"T_9d134_row31_col7\" class=\"data row31 col7\" >2º</td>\n",
       "      <td id=\"T_9d134_row31_col8\" class=\"data row31 col8\" >Liga Uno China. Temporada Regular,  Jornada 23</td>\n",
       "    </tr>\n",
       "    <tr>\n",
       "      <th id=\"T_9d134_level0_row32\" class=\"row_heading level0 row32\" >32</th>\n",
       "      <td id=\"T_9d134_row32_col0\" class=\"data row32 col0\" >2022-09-23 11:30</td>\n",
       "      <td id=\"T_9d134_row32_col1\" class=\"data row32 col1\" >8.3</td>\n",
       "      <td id=\"T_9d134_row32_col2\" class=\"data row32 col2\" >8º</td>\n",
       "      <td id=\"T_9d134_row32_col3\" class=\"data row32 col3\" >Qingdao Youth Island</td>\n",
       "      <td id=\"T_9d134_row32_col4\" class=\"data row32 col4\" >44.4% - 1.41</td>\n",
       "      <td id=\"T_9d134_row32_col5\" class=\"data row32 col5\" >29% - 1.09</td>\n",
       "      <td id=\"T_9d134_row32_col6\" class=\"data row32 col6\" >Jiangxi Beidamen</td>\n",
       "      <td id=\"T_9d134_row32_col7\" class=\"data row32 col7\" >13º</td>\n",
       "      <td id=\"T_9d134_row32_col8\" class=\"data row32 col8\" >Liga Uno China. Temporada Regular,  Jornada 23</td>\n",
       "    </tr>\n",
       "    <tr>\n",
       "      <th id=\"T_9d134_level0_row33\" class=\"row_heading level0 row33\" >33</th>\n",
       "      <td id=\"T_9d134_row33_col0\" class=\"data row33 col0\" >2022-09-23 17:30</td>\n",
       "      <td id=\"T_9d134_row33_col1\" class=\"data row33 col1\" >5.2</td>\n",
       "      <td id=\"T_9d134_row33_col2\" class=\"data row33 col2\" >11º</td>\n",
       "      <td id=\"T_9d134_row33_col3\" class=\"data row33 col3\" >Cholet</td>\n",
       "      <td id=\"T_9d134_row33_col4\" class=\"data row33 col4\" >34.4% - 1.4</td>\n",
       "      <td id=\"T_9d134_row33_col5\" class=\"data row33 col5\" >41.2% - 1.56</td>\n",
       "      <td id=\"T_9d134_row33_col6\" class=\"data row33 col6\" >Concarneau</td>\n",
       "      <td id=\"T_9d134_row33_col7\" class=\"data row33 col7\" >2º</td>\n",
       "      <td id=\"T_9d134_row33_col8\" class=\"data row33 col8\" >National.  Jornada 7</td>\n",
       "    </tr>\n",
       "    <tr>\n",
       "      <th id=\"T_9d134_level0_row34\" class=\"row_heading level0 row34\" >34</th>\n",
       "      <td id=\"T_9d134_row34_col0\" class=\"data row34 col0\" >2022-09-23 17:30</td>\n",
       "      <td id=\"T_9d134_row34_col1\" class=\"data row34 col1\" >6.2</td>\n",
       "      <td id=\"T_9d134_row34_col2\" class=\"data row34 col2\" >16º</td>\n",
       "      <td id=\"T_9d134_row34_col3\" class=\"data row34 col3\" >Bastia-Borgo</td>\n",
       "      <td id=\"T_9d134_row34_col4\" class=\"data row34 col4\" >56.4% - 1.79</td>\n",
       "      <td id=\"T_9d134_row34_col5\" class=\"data row34 col5\" >20.5% - 0.98</td>\n",
       "      <td id=\"T_9d134_row34_col6\" class=\"data row34 col6\" >Le Mans</td>\n",
       "      <td id=\"T_9d134_row34_col7\" class=\"data row34 col7\" >13º</td>\n",
       "      <td id=\"T_9d134_row34_col8\" class=\"data row34 col8\" >National.  Jornada 7</td>\n",
       "    </tr>\n",
       "  </tbody>\n",
       "</table>\n"
      ],
      "text/plain": [
       "<pandas.io.formats.style.Styler at 0x2ab476b07c0>"
      ]
     },
     "execution_count": 13,
     "metadata": {},
     "output_type": "execute_result"
    }
   ],
   "source": [
    "df.style.set_properties(**{'text-align': 'left'}) "
   ]
  },
  {
   "cell_type": "code",
   "execution_count": 14,
   "id": "e0593b3a",
   "metadata": {},
   "outputs": [],
   "source": [
    "df.to_csv('matches.csv', header = False)"
   ]
  },
  {
   "cell_type": "code",
   "execution_count": null,
   "id": "51815ab1",
   "metadata": {},
   "outputs": [],
   "source": []
  }
 ],
 "metadata": {
  "kernelspec": {
   "display_name": "Python 3 (ipykernel)",
   "language": "python",
   "name": "python3"
  },
  "language_info": {
   "codemirror_mode": {
    "name": "ipython",
    "version": 3
   },
   "file_extension": ".py",
   "mimetype": "text/x-python",
   "name": "python",
   "nbconvert_exporter": "python",
   "pygments_lexer": "ipython3",
   "version": "3.9.12"
  }
 },
 "nbformat": 4,
 "nbformat_minor": 5
}
