{
 "cells": [
  {
   "cell_type": "code",
   "execution_count": 1,
   "id": "9305ee57",
   "metadata": {},
   "outputs": [],
   "source": [
    "import requests\n",
    "from bs4 import BeautifulSoup\n",
    "import pandas as pd\n",
    "import numpy as np\n",
    "from tqdm import tqdm"
   ]
  },
  {
   "cell_type": "code",
   "execution_count": 2,
   "id": "41a83668",
   "metadata": {},
   "outputs": [],
   "source": [
    "# def obtener_analisis(soup):\n",
    "#     list_analisis = []\n",
    "    \n",
    "#     # ahora vamos a buscar \"analisis\" en toda la lista de matches, por lo tanto tenemos que poner de nuevo el código de búsqueda\n",
    "#     r_analisis = requests.get(soup)\n",
    "#     s_analisis = BeautifulSoup(r_analisis.text, 'lxml')\n",
    "#     find_analisis = s_analisis.find('div', attrs={'class':'menu-scroll'}).select('a[href*=\"analisis\"]')\n",
    "#     analisis = find_analisis[0]\n",
    "#     if analisis:\n",
    "#         list_analisis.append(analisis.get('href'))\n",
    "        \n",
    "#     return list_analisis    "
   ]
  },
  {
   "cell_type": "code",
   "execution_count": 3,
   "id": "ec7f6129",
   "metadata": {},
   "outputs": [],
   "source": [
    "def obtener_stats(func_stats):\n",
    "    stats_dict = {}\n",
    "    \n",
    "    date = func_stats.find('div', attrs={'class':'info match-link'})\n",
    "    if date:\n",
    "        stats_dict['date'] = date.get('starttime').replace('T',' ').replace(':00+00:00','')\n",
    "    else:\n",
    "        stats_dict['date'] = '-'\n",
    " \n",
    "    draw = func_stats.find('div', attrs={'class':'content-box draw'}).find('div', attrs={'class':'cont'})\n",
    "    if draw:\n",
    "        stats_dict['draw'] = draw.get_text('/',strip=True).replace('%','')[4:10]\n",
    "    else:\n",
    "        stats_dict['draw'] = '-' \n",
    "        \n",
    "    homeRank = func_stats.find('div', attrs={'class':'position t1'})\n",
    "    if homeRank:\n",
    "        stats_dict['homeRank'] = homeRank.get_text()\n",
    "    else:\n",
    "        stats_dict['homeRank'] = '-'    \n",
    "            \n",
    "    homeTeam = func_stats.find('p', attrs={'itemprop':'homeTeam'})\n",
    "    if homeTeam:\n",
    "        stats_dict['homeTeam'] = homeTeam.get_text('/', strip=True)\n",
    "    else:\n",
    "        stats_dict['homeTeam'] = '-'\n",
    "\n",
    "    homeGoals = func_stats.find('div', attrs={'class':'content-box t-1'}).find('div', attrs={'class':'poss-box'})\n",
    "    if homeGoals:\n",
    "        stats_dict['homeGoals'] = homeGoals.get_text('/', strip=True).replace('/Probabilidad gana/',' - ').replace('/Goles esperados','')\n",
    "    else:\n",
    "        stats_dict['homeGoals'] = '-'     \n",
    "        \n",
    "    awayGoals = func_stats.find('div', attrs={'class':'content-box t-2'}).find('div', attrs={'class':'poss-box'})\n",
    "    if awayGoals:\n",
    "        stats_dict['awayGoals'] = awayGoals.get_text('/', strip=True).replace('/Probabilidad gana/',' - ').replace('/Goles esperados','')\n",
    "    else:\n",
    "        stats_dict['awayGoals'] = '-'     \n",
    "\n",
    "    awayTeam = func_stats.find('p', attrs={'itemprop':'awayTeam'})\n",
    "    if awayTeam:\n",
    "        stats_dict['awayTeam'] = awayTeam.get_text('/', strip=True)\n",
    "    else:\n",
    "        stats_dict['awayTeam'] = '-'     \n",
    "     \n",
    "    awayRank = func_stats.find('div', attrs={'class':'position t2'})\n",
    "    if awayRank:\n",
    "        stats_dict['awayRank'] = awayRank.get_text()\n",
    "    else:\n",
    "        stats_dict['awayRank'] = '-' \n",
    "        \n",
    "    competition = func_stats.find('h3', attrs={'class':'competition'})\n",
    "    if competition:\n",
    "        stats_dict['competition'] = competition.get_text('/', strip=True)\n",
    "    else:\n",
    "        stats_dict['competition'] = '-'\n",
    "   \n",
    "    return stats_dict"
   ]
  },
  {
   "cell_type": "code",
   "execution_count": 4,
   "id": "6903d754",
   "metadata": {},
   "outputs": [],
   "source": [
    "df = pd.DataFrame()"
   ]
  },
  {
   "cell_type": "code",
   "execution_count": 5,
   "id": "6d04e96f",
   "metadata": {},
   "outputs": [
    {
     "name": "stdout",
     "output_type": "stream",
     "text": [
      "0 .- La url  https://es.besoccer.com/partido/eslovaquia-sub19/armenia-sub19/2023351922  no tiene sección análisis\n",
      "0 .- 'NoneType' object has no attribute 'find'\n"
     ]
    },
    {
     "name": "stderr",
     "output_type": "stream",
     "text": [
      "C:\\Users\\jesus\\AppData\\Local\\Temp\\ipykernel_18156\\3053211924.py:29: FutureWarning: The frame.append method is deprecated and will be removed from pandas in a future version. Use pandas.concat instead.\n",
      "  df = df.append(obtener_stats(s_link_analisis), ignore_index = True)\n"
     ]
    },
    {
     "name": "stdout",
     "output_type": "stream",
     "text": [
      "1 .- Scrapeando https://es.besoccer.com/livescore/2022-09-24/1\n",
      "1 .- https://es.besoccer.com/partido/italia-sub19/bosnia-herzegovina-sub19/2023351908/analisis\n"
     ]
    },
    {
     "name": "stderr",
     "output_type": "stream",
     "text": [
      "C:\\Users\\jesus\\AppData\\Local\\Temp\\ipykernel_18156\\3053211924.py:29: FutureWarning: The frame.append method is deprecated and will be removed from pandas in a future version. Use pandas.concat instead.\n",
      "  df = df.append(obtener_stats(s_link_analisis), ignore_index = True)\n"
     ]
    },
    {
     "name": "stdout",
     "output_type": "stream",
     "text": [
      "2 .- Scrapeando https://es.besoccer.com/livescore/2022-09-24/1\n",
      "2 .- https://es.besoccer.com/partido/turquia-sub-19/azerbaiyan-sub19/2023351903/analisis\n",
      "3 .- La url  https://es.besoccer.com/partido/hungria-sub-19/gibraltar-sub19/2023351906  no tiene sección análisis\n",
      "3 .- 'NoneType' object has no attribute 'find'\n"
     ]
    },
    {
     "name": "stderr",
     "output_type": "stream",
     "text": [
      "C:\\Users\\jesus\\AppData\\Local\\Temp\\ipykernel_18156\\3053211924.py:29: FutureWarning: The frame.append method is deprecated and will be removed from pandas in a future version. Use pandas.concat instead.\n",
      "  df = df.append(obtener_stats(s_link_analisis), ignore_index = True)\n"
     ]
    },
    {
     "name": "stdout",
     "output_type": "stream",
     "text": [
      "4 .- Scrapeando https://es.besoccer.com/livescore/2022-09-24/1\n",
      "4 .- https://es.besoccer.com/partido/inglaterra-sub-19/georgia-sub-19/2023351916/analisis\n"
     ]
    },
    {
     "name": "stderr",
     "output_type": "stream",
     "text": [
      "C:\\Users\\jesus\\AppData\\Local\\Temp\\ipykernel_18156\\3053211924.py:29: FutureWarning: The frame.append method is deprecated and will be removed from pandas in a future version. Use pandas.concat instead.\n",
      "  df = df.append(obtener_stats(s_link_analisis), ignore_index = True)\n"
     ]
    },
    {
     "name": "stdout",
     "output_type": "stream",
     "text": [
      "5 .- Scrapeando https://es.besoccer.com/livescore/2022-09-24/1\n",
      "5 .- https://es.besoccer.com/partido/austria-sub-19/letonia-sub19/2023351910/analisis\n"
     ]
    },
    {
     "name": "stderr",
     "output_type": "stream",
     "text": [
      "C:\\Users\\jesus\\AppData\\Local\\Temp\\ipykernel_18156\\3053211924.py:29: FutureWarning: The frame.append method is deprecated and will be removed from pandas in a future version. Use pandas.concat instead.\n",
      "  df = df.append(obtener_stats(s_link_analisis), ignore_index = True)\n"
     ]
    },
    {
     "name": "stdout",
     "output_type": "stream",
     "text": [
      "6 .- Scrapeando https://es.besoccer.com/livescore/2022-09-24/1\n",
      "6 .- https://es.besoccer.com/partido/irlanda-sub-19/gales-sub19/2023351907/analisis\n",
      "7 .- La url  https://es.besoccer.com/partido/grecia-sub-19/andorra-sub19/2023351901  no tiene sección análisis\n",
      "7 .- 'NoneType' object has no attribute 'find'\n"
     ]
    },
    {
     "name": "stderr",
     "output_type": "stream",
     "text": [
      "C:\\Users\\jesus\\AppData\\Local\\Temp\\ipykernel_18156\\3053211924.py:29: FutureWarning: The frame.append method is deprecated and will be removed from pandas in a future version. Use pandas.concat instead.\n",
      "  df = df.append(obtener_stats(s_link_analisis), ignore_index = True)\n"
     ]
    },
    {
     "name": "stdout",
     "output_type": "stream",
     "text": [
      "8 .- Scrapeando https://es.besoccer.com/livescore/2022-09-24/1\n",
      "8 .- https://es.besoccer.com/partido/holanda-sub-19/irlanda-del-norte-sub19/2023351923/analisis\n",
      "9 .- La url  https://es.besoccer.com/partido/eslovenia-sub19/moldavia-sub19/2023351924  no tiene sección análisis\n",
      "9 .- 'NoneType' object has no attribute 'find'\n"
     ]
    },
    {
     "name": "stderr",
     "output_type": "stream",
     "text": [
      "C:\\Users\\jesus\\AppData\\Local\\Temp\\ipykernel_18156\\3053211924.py:29: FutureWarning: The frame.append method is deprecated and will be removed from pandas in a future version. Use pandas.concat instead.\n",
      "  df = df.append(obtener_stats(s_link_analisis), ignore_index = True)\n"
     ]
    },
    {
     "name": "stdout",
     "output_type": "stream",
     "text": [
      "10 .- Scrapeando https://es.besoccer.com/livescore/2022-09-24/1\n",
      "10 .- https://es.besoccer.com/partido/alemania-sub-19/bielorrusia-sub19/2023351921/analisis\n"
     ]
    },
    {
     "name": "stderr",
     "output_type": "stream",
     "text": [
      "C:\\Users\\jesus\\AppData\\Local\\Temp\\ipykernel_18156\\3053211924.py:29: FutureWarning: The frame.append method is deprecated and will be removed from pandas in a future version. Use pandas.concat instead.\n",
      "  df = df.append(obtener_stats(s_link_analisis), ignore_index = True)\n"
     ]
    },
    {
     "name": "stdout",
     "output_type": "stream",
     "text": [
      "11 .- Scrapeando https://es.besoccer.com/livescore/2022-09-24/1\n",
      "11 .- https://es.besoccer.com/partido/espana-sub-19/albania-sub19/2023351887/analisis\n",
      "12 .- La url  https://es.besoccer.com/partido/bulgaria-sub-19/luxemburgo-sub19/2023351902  no tiene sección análisis\n",
      "12 .- 'NoneType' object has no attribute 'find'\n"
     ]
    },
    {
     "name": "stderr",
     "output_type": "stream",
     "text": [
      "C:\\Users\\jesus\\AppData\\Local\\Temp\\ipykernel_18156\\3053211924.py:29: FutureWarning: The frame.append method is deprecated and will be removed from pandas in a future version. Use pandas.concat instead.\n",
      "  df = df.append(obtener_stats(s_link_analisis), ignore_index = True)\n"
     ]
    },
    {
     "name": "stdout",
     "output_type": "stream",
     "text": [
      "13 .- Scrapeando https://es.besoccer.com/livescore/2022-09-24/1\n",
      "13 .- https://es.besoccer.com/partido/dinamarca-sub19/montenegro-sub19/2023351915/analisis\n",
      "14 .- La url  https://es.besoccer.com/partido/polonia-sub19/estonia-sub-19/2023351909  no tiene sección análisis\n",
      "14 .- 'NoneType' object has no attribute 'find'\n"
     ]
    },
    {
     "name": "stderr",
     "output_type": "stream",
     "text": [
      "C:\\Users\\jesus\\AppData\\Local\\Temp\\ipykernel_18156\\3053211924.py:29: FutureWarning: The frame.append method is deprecated and will be removed from pandas in a future version. Use pandas.concat instead.\n",
      "  df = df.append(obtener_stats(s_link_analisis), ignore_index = True)\n"
     ]
    },
    {
     "name": "stdout",
     "output_type": "stream",
     "text": [
      "15 .- Scrapeando https://es.besoccer.com/livescore/2022-09-24/1\n",
      "15 .- https://es.besoccer.com/partido/republica-checa-sub-19/suiza-sub19/2023351900/analisis\n"
     ]
    },
    {
     "name": "stderr",
     "output_type": "stream",
     "text": [
      "C:\\Users\\jesus\\AppData\\Local\\Temp\\ipykernel_18156\\3053211924.py:29: FutureWarning: The frame.append method is deprecated and will be removed from pandas in a future version. Use pandas.concat instead.\n",
      "  df = df.append(obtener_stats(s_link_analisis), ignore_index = True)\n"
     ]
    },
    {
     "name": "stdout",
     "output_type": "stream",
     "text": [
      "16 .- Scrapeando https://es.besoccer.com/livescore/2022-09-24/1\n",
      "16 .- https://es.besoccer.com/partido/rumania-sub-19/lituania-sub-19/2023351911/analisis\n"
     ]
    },
    {
     "name": "stderr",
     "output_type": "stream",
     "text": [
      "C:\\Users\\jesus\\AppData\\Local\\Temp\\ipykernel_18156\\3053211924.py:29: FutureWarning: The frame.append method is deprecated and will be removed from pandas in a future version. Use pandas.concat instead.\n",
      "  df = df.append(obtener_stats(s_link_analisis), ignore_index = True)\n"
     ]
    },
    {
     "name": "stdout",
     "output_type": "stream",
     "text": [
      "17 .- Scrapeando https://es.besoccer.com/livescore/2022-09-24/1\n",
      "17 .- https://es.besoccer.com/partido/seleccion-islandia/seleccion-rusia/2023137/analisis\n"
     ]
    },
    {
     "name": "stderr",
     "output_type": "stream",
     "text": [
      "C:\\Users\\jesus\\AppData\\Local\\Temp\\ipykernel_18156\\3053211924.py:29: FutureWarning: The frame.append method is deprecated and will be removed from pandas in a future version. Use pandas.concat instead.\n",
      "  df = df.append(obtener_stats(s_link_analisis), ignore_index = True)\n"
     ]
    },
    {
     "name": "stdout",
     "output_type": "stream",
     "text": [
      "18 .- Scrapeando https://es.besoccer.com/livescore/2022-09-24/1\n",
      "18 .- https://es.besoccer.com/partido/seleccion-armenia/seleccion-ucrania/2023133/analisis\n"
     ]
    },
    {
     "name": "stderr",
     "output_type": "stream",
     "text": [
      "C:\\Users\\jesus\\AppData\\Local\\Temp\\ipykernel_18156\\3053211924.py:29: FutureWarning: The frame.append method is deprecated and will be removed from pandas in a future version. Use pandas.concat instead.\n",
      "  df = df.append(obtener_stats(s_link_analisis), ignore_index = True)\n"
     ]
    },
    {
     "name": "stdout",
     "output_type": "stream",
     "text": [
      "19 .- Scrapeando https://es.besoccer.com/livescore/2022-09-24/1\n",
      "19 .- https://es.besoccer.com/partido/seleccion-eslovenia/seleccion-noruega/2023138/analisis\n"
     ]
    },
    {
     "name": "stderr",
     "output_type": "stream",
     "text": [
      "C:\\Users\\jesus\\AppData\\Local\\Temp\\ipykernel_18156\\3053211924.py:29: FutureWarning: The frame.append method is deprecated and will be removed from pandas in a future version. Use pandas.concat instead.\n",
      "  df = df.append(obtener_stats(s_link_analisis), ignore_index = True)\n"
     ]
    },
    {
     "name": "stdout",
     "output_type": "stream",
     "text": [
      "20 .- Scrapeando https://es.besoccer.com/livescore/2022-09-24/1\n",
      "20 .- https://es.besoccer.com/partido/seleccion-irlanda-norte/kosovo/2023106/analisis\n"
     ]
    },
    {
     "name": "stderr",
     "output_type": "stream",
     "text": [
      "C:\\Users\\jesus\\AppData\\Local\\Temp\\ipykernel_18156\\3053211924.py:29: FutureWarning: The frame.append method is deprecated and will be removed from pandas in a future version. Use pandas.concat instead.\n",
      "  df = df.append(obtener_stats(s_link_analisis), ignore_index = True)\n"
     ]
    },
    {
     "name": "stdout",
     "output_type": "stream",
     "text": [
      "21 .- Scrapeando https://es.besoccer.com/livescore/2022-09-24/1\n",
      "21 .- https://es.besoccer.com/partido/seleccion-espanola/seleccion-suiza/202352/analisis\n"
     ]
    },
    {
     "name": "stderr",
     "output_type": "stream",
     "text": [
      "C:\\Users\\jesus\\AppData\\Local\\Temp\\ipykernel_18156\\3053211924.py:29: FutureWarning: The frame.append method is deprecated and will be removed from pandas in a future version. Use pandas.concat instead.\n",
      "  df = df.append(obtener_stats(s_link_analisis), ignore_index = True)\n"
     ]
    },
    {
     "name": "stdout",
     "output_type": "stream",
     "text": [
      "22 .- Scrapeando https://es.besoccer.com/livescore/2022-09-24/1\n",
      "22 .- https://es.besoccer.com/partido/republica-checa/seleccion-portugal/202351/analisis\n"
     ]
    },
    {
     "name": "stderr",
     "output_type": "stream",
     "text": [
      "C:\\Users\\jesus\\AppData\\Local\\Temp\\ipykernel_18156\\3053211924.py:29: FutureWarning: The frame.append method is deprecated and will be removed from pandas in a future version. Use pandas.concat instead.\n",
      "  df = df.append(obtener_stats(s_link_analisis), ignore_index = True)\n"
     ]
    },
    {
     "name": "stdout",
     "output_type": "stream",
     "text": [
      "23 .- Scrapeando https://es.besoccer.com/livescore/2022-09-24/1\n",
      "23 .- https://es.besoccer.com/partido/seleccion-serbia/seleccion-suecia/2023140/analisis\n"
     ]
    },
    {
     "name": "stderr",
     "output_type": "stream",
     "text": [
      "C:\\Users\\jesus\\AppData\\Local\\Temp\\ipykernel_18156\\3053211924.py:29: FutureWarning: The frame.append method is deprecated and will be removed from pandas in a future version. Use pandas.concat instead.\n",
      "  df = df.append(obtener_stats(s_link_analisis), ignore_index = True)\n"
     ]
    },
    {
     "name": "stdout",
     "output_type": "stream",
     "text": [
      "24 .- Scrapeando https://es.besoccer.com/livescore/2022-09-24/1\n",
      "24 .- https://es.besoccer.com/partido/seleccion-escocia/seleccion-republica-irlanda/2023134/analisis\n"
     ]
    },
    {
     "name": "stderr",
     "output_type": "stream",
     "text": [
      "C:\\Users\\jesus\\AppData\\Local\\Temp\\ipykernel_18156\\3053211924.py:29: FutureWarning: The frame.append method is deprecated and will be removed from pandas in a future version. Use pandas.concat instead.\n",
      "  df = df.append(obtener_stats(s_link_analisis), ignore_index = True)\n"
     ]
    },
    {
     "name": "stdout",
     "output_type": "stream",
     "text": [
      "25 .- Scrapeando https://es.besoccer.com/livescore/2022-09-24/1\n",
      "25 .- https://es.besoccer.com/partido/seleccion-chipre/seleccion-grecia/2023212/analisis\n"
     ]
    },
    {
     "name": "stderr",
     "output_type": "stream",
     "text": [
      "C:\\Users\\jesus\\AppData\\Local\\Temp\\ipykernel_18156\\3053211924.py:29: FutureWarning: The frame.append method is deprecated and will be removed from pandas in a future version. Use pandas.concat instead.\n",
      "  df = df.append(obtener_stats(s_link_analisis), ignore_index = True)\n"
     ]
    },
    {
     "name": "stdout",
     "output_type": "stream",
     "text": [
      "26 .- Scrapeando https://es.besoccer.com/livescore/2022-09-24/1\n",
      "26 .- https://es.besoccer.com/partido/seleccion-israel/seleccion-albania/2023139/analisis\n"
     ]
    },
    {
     "name": "stderr",
     "output_type": "stream",
     "text": [
      "C:\\Users\\jesus\\AppData\\Local\\Temp\\ipykernel_18156\\3053211924.py:29: FutureWarning: The frame.append method is deprecated and will be removed from pandas in a future version. Use pandas.concat instead.\n",
      "  df = df.append(obtener_stats(s_link_analisis), ignore_index = True)\n"
     ]
    },
    {
     "name": "stdout",
     "output_type": "stream",
     "text": [
      "27 .- Scrapeando https://es.besoccer.com/livescore/2022-09-24/1\n",
      "27 .- https://es.besoccer.com/partido/necaxa/mazatlan-fc/20235617/analisis\n"
     ]
    },
    {
     "name": "stderr",
     "output_type": "stream",
     "text": [
      "C:\\Users\\jesus\\AppData\\Local\\Temp\\ipykernel_18156\\3053211924.py:29: FutureWarning: The frame.append method is deprecated and will be removed from pandas in a future version. Use pandas.concat instead.\n",
      "  df = df.append(obtener_stats(s_link_analisis), ignore_index = True)\n"
     ]
    },
    {
     "name": "stdout",
     "output_type": "stream",
     "text": [
      "28 .- Scrapeando https://es.besoccer.com/livescore/2022-09-24/1\n",
      "28 .- https://es.besoccer.com/partido/puebla-fc/pumas-unam/20232283/analisis\n"
     ]
    },
    {
     "name": "stderr",
     "output_type": "stream",
     "text": [
      "C:\\Users\\jesus\\AppData\\Local\\Temp\\ipykernel_18156\\3053211924.py:29: FutureWarning: The frame.append method is deprecated and will be removed from pandas in a future version. Use pandas.concat instead.\n",
      "  df = df.append(obtener_stats(s_link_analisis), ignore_index = True)\n"
     ]
    },
    {
     "name": "stdout",
     "output_type": "stream",
     "text": [
      "29 .- Scrapeando https://es.besoccer.com/livescore/2022-09-24/1\n",
      "29 .- https://es.besoccer.com/partido/godoy-cruz-antonio-tomba/ca-boca-juniors/2022493479/analisis\n"
     ]
    },
    {
     "name": "stderr",
     "output_type": "stream",
     "text": [
      "C:\\Users\\jesus\\AppData\\Local\\Temp\\ipykernel_18156\\3053211924.py:29: FutureWarning: The frame.append method is deprecated and will be removed from pandas in a future version. Use pandas.concat instead.\n",
      "  df = df.append(obtener_stats(s_link_analisis), ignore_index = True)\n"
     ]
    },
    {
     "name": "stdout",
     "output_type": "stream",
     "text": [
      "30 .- Scrapeando https://es.besoccer.com/livescore/2022-09-24/1\n",
      "30 .- https://es.besoccer.com/partido/ca-huracan/ca-banfield/2022493477/analisis\n"
     ]
    },
    {
     "name": "stderr",
     "output_type": "stream",
     "text": [
      "C:\\Users\\jesus\\AppData\\Local\\Temp\\ipykernel_18156\\3053211924.py:29: FutureWarning: The frame.append method is deprecated and will be removed from pandas in a future version. Use pandas.concat instead.\n",
      "  df = df.append(obtener_stats(s_link_analisis), ignore_index = True)\n"
     ]
    },
    {
     "name": "stdout",
     "output_type": "stream",
     "text": [
      "31 .- Scrapeando https://es.besoccer.com/livescore/2022-09-24/1\n",
      "31 .- https://es.besoccer.com/partido/sarmiento/arsenal-sarandi-fc/2022493485/analisis\n"
     ]
    },
    {
     "name": "stderr",
     "output_type": "stream",
     "text": [
      "C:\\Users\\jesus\\AppData\\Local\\Temp\\ipykernel_18156\\3053211924.py:29: FutureWarning: The frame.append method is deprecated and will be removed from pandas in a future version. Use pandas.concat instead.\n",
      "  df = df.append(obtener_stats(s_link_analisis), ignore_index = True)\n"
     ]
    },
    {
     "name": "stdout",
     "output_type": "stream",
     "text": [
      "32 .- Scrapeando https://es.besoccer.com/livescore/2022-09-24/1\n",
      "32 .- https://es.besoccer.com/partido/defensa-justicia/patronato/2022493464/analisis\n"
     ]
    },
    {
     "name": "stderr",
     "output_type": "stream",
     "text": [
      "C:\\Users\\jesus\\AppData\\Local\\Temp\\ipykernel_18156\\3053211924.py:29: FutureWarning: The frame.append method is deprecated and will be removed from pandas in a future version. Use pandas.concat instead.\n",
      "  df = df.append(obtener_stats(s_link_analisis), ignore_index = True)\n"
     ]
    },
    {
     "name": "stdout",
     "output_type": "stream",
     "text": [
      "33 .- Scrapeando https://es.besoccer.com/livescore/2022-09-24/1\n",
      "33 .- https://es.besoccer.com/partido/ca-lanus/san-lorenzo/2022493475/analisis\n"
     ]
    },
    {
     "name": "stderr",
     "output_type": "stream",
     "text": [
      "C:\\Users\\jesus\\AppData\\Local\\Temp\\ipykernel_18156\\3053211924.py:29: FutureWarning: The frame.append method is deprecated and will be removed from pandas in a future version. Use pandas.concat instead.\n",
      "  df = df.append(obtener_stats(s_link_analisis), ignore_index = True)\n"
     ]
    },
    {
     "name": "stdout",
     "output_type": "stream",
     "text": [
      "34 .- Scrapeando https://es.besoccer.com/livescore/2022-09-24/1\n",
      "34 .- https://es.besoccer.com/partido/ca-river-plate/talleres-cordoba/2022493474/analisis\n"
     ]
    },
    {
     "name": "stderr",
     "output_type": "stream",
     "text": [
      "C:\\Users\\jesus\\AppData\\Local\\Temp\\ipykernel_18156\\3053211924.py:29: FutureWarning: The frame.append method is deprecated and will be removed from pandas in a future version. Use pandas.concat instead.\n",
      "  df = df.append(obtener_stats(s_link_analisis), ignore_index = True)\n"
     ]
    },
    {
     "name": "stdout",
     "output_type": "stream",
     "text": [
      "35 .- Scrapeando https://es.besoccer.com/livescore/2022-09-24/1\n",
      "35 .- https://es.besoccer.com/partido/atletico-bucar/once-caldas-manizales/2022322791/analisis\n"
     ]
    },
    {
     "name": "stderr",
     "output_type": "stream",
     "text": [
      "C:\\Users\\jesus\\AppData\\Local\\Temp\\ipykernel_18156\\3053211924.py:29: FutureWarning: The frame.append method is deprecated and will be removed from pandas in a future version. Use pandas.concat instead.\n",
      "  df = df.append(obtener_stats(s_link_analisis), ignore_index = True)\n"
     ]
    },
    {
     "name": "stdout",
     "output_type": "stream",
     "text": [
      "36 .- Scrapeando https://es.besoccer.com/livescore/2022-09-24/1\n",
      "36 .- https://es.besoccer.com/partido/millonarios-bogota/america-cali/2022322795/analisis\n"
     ]
    },
    {
     "name": "stderr",
     "output_type": "stream",
     "text": [
      "C:\\Users\\jesus\\AppData\\Local\\Temp\\ipykernel_18156\\3053211924.py:29: FutureWarning: The frame.append method is deprecated and will be removed from pandas in a future version. Use pandas.concat instead.\n",
      "  df = df.append(obtener_stats(s_link_analisis), ignore_index = True)\n"
     ]
    },
    {
     "name": "stdout",
     "output_type": "stream",
     "text": [
      "37 .- Scrapeando https://es.besoccer.com/livescore/2022-09-24/1\n",
      "37 .- https://es.besoccer.com/partido/san-jose-earthquakes-usa/angeles-galaxy/2022308236/analisis\n"
     ]
    },
    {
     "name": "stderr",
     "output_type": "stream",
     "text": [
      "C:\\Users\\jesus\\AppData\\Local\\Temp\\ipykernel_18156\\3053211924.py:29: FutureWarning: The frame.append method is deprecated and will be removed from pandas in a future version. Use pandas.concat instead.\n",
      "  df = df.append(obtener_stats(s_link_analisis), ignore_index = True)\n"
     ]
    },
    {
     "name": "stdout",
     "output_type": "stream",
     "text": [
      "38 .- Scrapeando https://es.besoccer.com/livescore/2022-09-24/1\n",
      "38 .- https://es.besoccer.com/partido/changchun-yatai/wuhan-zall/2022526290/analisis\n"
     ]
    },
    {
     "name": "stderr",
     "output_type": "stream",
     "text": [
      "C:\\Users\\jesus\\AppData\\Local\\Temp\\ipykernel_18156\\3053211924.py:29: FutureWarning: The frame.append method is deprecated and will be removed from pandas in a future version. Use pandas.concat instead.\n",
      "  df = df.append(obtener_stats(s_link_analisis), ignore_index = True)\n"
     ]
    },
    {
     "name": "stdout",
     "output_type": "stream",
     "text": [
      "39 .- Scrapeando https://es.besoccer.com/livescore/2022-09-24/1\n",
      "39 .- https://es.besoccer.com/partido/shandong-luneng/shanghai-sipg/2022526316/analisis\n"
     ]
    },
    {
     "name": "stderr",
     "output_type": "stream",
     "text": [
      "C:\\Users\\jesus\\AppData\\Local\\Temp\\ipykernel_18156\\3053211924.py:29: FutureWarning: The frame.append method is deprecated and will be removed from pandas in a future version. Use pandas.concat instead.\n",
      "  df = df.append(obtener_stats(s_link_analisis), ignore_index = True)\n"
     ]
    },
    {
     "name": "stdout",
     "output_type": "stream",
     "text": [
      "40 .- Scrapeando https://es.besoccer.com/livescore/2022-09-24/1\n",
      "40 .- https://es.besoccer.com/partido/dalian-aerbin/beijing-guoan/2022526294/analisis\n"
     ]
    },
    {
     "name": "stderr",
     "output_type": "stream",
     "text": [
      "C:\\Users\\jesus\\AppData\\Local\\Temp\\ipykernel_18156\\3053211924.py:29: FutureWarning: The frame.append method is deprecated and will be removed from pandas in a future version. Use pandas.concat instead.\n",
      "  df = df.append(obtener_stats(s_link_analisis), ignore_index = True)\n"
     ]
    },
    {
     "name": "stdout",
     "output_type": "stream",
     "text": [
      "41 .- Scrapeando https://es.besoccer.com/livescore/2022-09-24/1\n",
      "41 .- https://es.besoccer.com/partido/wuhan-three-towns-fc/shijizhuang-yongchang/2022526292/analisis\n"
     ]
    },
    {
     "name": "stderr",
     "output_type": "stream",
     "text": [
      "C:\\Users\\jesus\\AppData\\Local\\Temp\\ipykernel_18156\\3053211924.py:29: FutureWarning: The frame.append method is deprecated and will be removed from pandas in a future version. Use pandas.concat instead.\n",
      "  df = df.append(obtener_stats(s_link_analisis), ignore_index = True)\n"
     ]
    },
    {
     "name": "stdout",
     "output_type": "stream",
     "text": [
      "42 .- Scrapeando https://es.besoccer.com/livescore/2022-09-24/1\n",
      "42 .- https://es.besoccer.com/partido/dalian-aerbin/wuhan-zall/2022526317/analisis\n"
     ]
    },
    {
     "name": "stderr",
     "output_type": "stream",
     "text": [
      "C:\\Users\\jesus\\AppData\\Local\\Temp\\ipykernel_18156\\3053211924.py:29: FutureWarning: The frame.append method is deprecated and will be removed from pandas in a future version. Use pandas.concat instead.\n",
      "  df = df.append(obtener_stats(s_link_analisis), ignore_index = True)\n"
     ]
    },
    {
     "name": "stdout",
     "output_type": "stream",
     "text": [
      "43 .- Scrapeando https://es.besoccer.com/livescore/2022-09-24/1\n",
      "43 .- https://es.besoccer.com/partido/tianjin-teda/hangzhou/2022526318/analisis\n"
     ]
    },
    {
     "name": "stderr",
     "output_type": "stream",
     "text": [
      "C:\\Users\\jesus\\AppData\\Local\\Temp\\ipykernel_18156\\3053211924.py:29: FutureWarning: The frame.append method is deprecated and will be removed from pandas in a future version. Use pandas.concat instead.\n",
      "  df = df.append(obtener_stats(s_link_analisis), ignore_index = True)\n"
     ]
    },
    {
     "name": "stdout",
     "output_type": "stream",
     "text": [
      "44 .- Scrapeando https://es.besoccer.com/livescore/2022-09-24/1\n",
      "44 .- https://es.besoccer.com/partido/shenzhen-ruby/shandong-luneng/2022526287/analisis\n"
     ]
    },
    {
     "name": "stderr",
     "output_type": "stream",
     "text": [
      "C:\\Users\\jesus\\AppData\\Local\\Temp\\ipykernel_18156\\3053211924.py:29: FutureWarning: The frame.append method is deprecated and will be removed from pandas in a future version. Use pandas.concat instead.\n",
      "  df = df.append(obtener_stats(s_link_analisis), ignore_index = True)\n"
     ]
    },
    {
     "name": "stdout",
     "output_type": "stream",
     "text": [
      "45 .- Scrapeando https://es.besoccer.com/livescore/2022-09-24/1\n",
      "45 .- https://es.besoccer.com/partido/shenzhen-ruby/henan-jianye/2022526319/analisis\n"
     ]
    },
    {
     "name": "stderr",
     "output_type": "stream",
     "text": [
      "C:\\Users\\jesus\\AppData\\Local\\Temp\\ipykernel_18156\\3053211924.py:29: FutureWarning: The frame.append method is deprecated and will be removed from pandas in a future version. Use pandas.concat instead.\n",
      "  df = df.append(obtener_stats(s_link_analisis), ignore_index = True)\n"
     ]
    },
    {
     "name": "stdout",
     "output_type": "stream",
     "text": [
      "46 .- Scrapeando https://es.besoccer.com/livescore/2022-09-24/1\n",
      "46 .- https://es.besoccer.com/partido/huesca/leganes/202349802/analisis\n"
     ]
    },
    {
     "name": "stderr",
     "output_type": "stream",
     "text": [
      "C:\\Users\\jesus\\AppData\\Local\\Temp\\ipykernel_18156\\3053211924.py:29: FutureWarning: The frame.append method is deprecated and will be removed from pandas in a future version. Use pandas.concat instead.\n",
      "  df = df.append(obtener_stats(s_link_analisis), ignore_index = True)\n"
     ]
    },
    {
     "name": "stdout",
     "output_type": "stream",
     "text": [
      "47 .- Scrapeando https://es.besoccer.com/livescore/2022-09-24/1\n",
      "47 .- https://es.besoccer.com/partido/mirandes/real-zaragoza/202349817/analisis\n"
     ]
    },
    {
     "name": "stderr",
     "output_type": "stream",
     "text": [
      "C:\\Users\\jesus\\AppData\\Local\\Temp\\ipykernel_18156\\3053211924.py:29: FutureWarning: The frame.append method is deprecated and will be removed from pandas in a future version. Use pandas.concat instead.\n",
      "  df = df.append(obtener_stats(s_link_analisis), ignore_index = True)\n"
     ]
    },
    {
     "name": "stdout",
     "output_type": "stream",
     "text": [
      "48 .- Scrapeando https://es.besoccer.com/livescore/2022-09-24/1\n",
      "48 .- https://es.besoccer.com/partido/ponferradina-sd/tenerife/202349820/analisis\n"
     ]
    },
    {
     "name": "stderr",
     "output_type": "stream",
     "text": [
      "C:\\Users\\jesus\\AppData\\Local\\Temp\\ipykernel_18156\\3053211924.py:29: FutureWarning: The frame.append method is deprecated and will be removed from pandas in a future version. Use pandas.concat instead.\n",
      "  df = df.append(obtener_stats(s_link_analisis), ignore_index = True)\n"
     ]
    },
    {
     "name": "stdout",
     "output_type": "stream",
     "text": [
      "49 .- Scrapeando https://es.besoccer.com/livescore/2022-09-24/1\n",
      "49 .- https://es.besoccer.com/partido/malaga/villarreal-b/202349811/analisis\n",
      "0 .- La url  https://es.besoccer.com/partido/honduras/vitoria-salvador/2023415069  no tiene sección análisis\n",
      "0 .- 'NoneType' object has no attribute 'find'\n",
      "1 .- La url  https://es.besoccer.com/partido/seleccion-argentina/honduras/2023330552  no tiene sección análisis\n",
      "1 .- 'NoneType' object has no attribute 'find'\n",
      "2 .- La url  https://es.besoccer.com/partido/seleccion-japon/seleccion-estados-unidos/2023410920  no tiene sección análisis\n",
      "2 .- 'NoneType' object has no attribute 'find'\n",
      "3 .- La url  https://es.besoccer.com/partido/kyrgyzstan/seleccion-rusia/2023398952  no tiene sección análisis\n",
      "3 .- 'NoneType' object has no attribute 'find'\n",
      "4 .- La url  https://es.besoccer.com/partido/indonesia/curazao/2023410981  no tiene sección análisis\n",
      "4 .- 'NoneType' object has no attribute 'find'\n",
      "5 .- La url  https://es.besoccer.com/partido/mali/seleccion-zambia/2023414396  no tiene sección análisis\n",
      "5 .- 'NoneType' object has no attribute 'find'\n",
      "6 .- La url  https://es.besoccer.com/partido/singapur/india/2023422623  no tiene sección análisis\n",
      "6 .- 'NoneType' object has no attribute 'find'\n",
      "7 .- La url  https://es.besoccer.com/partido/seleccion-sudafrica/sierra-leona/2023454173  no tiene sección análisis\n",
      "7 .- 'NoneType' object has no attribute 'find'\n",
      "8 .- La url  https://es.besoccer.com/partido/seleccion-costa-marfil/seleccion-togo/2023422624  no tiene sección análisis\n",
      "8 .- 'NoneType' object has no attribute 'find'\n",
      "9 .- La url  https://es.besoccer.com/partido/seleccion-bolivia/senegal/2023388799  no tiene sección análisis\n",
      "9 .- 'NoneType' object has no attribute 'find'\n"
     ]
    },
    {
     "name": "stderr",
     "output_type": "stream",
     "text": [
      "C:\\Users\\jesus\\AppData\\Local\\Temp\\ipykernel_18156\\3053211924.py:29: FutureWarning: The frame.append method is deprecated and will be removed from pandas in a future version. Use pandas.concat instead.\n",
      "  df = df.append(obtener_stats(s_link_analisis), ignore_index = True)\n"
     ]
    },
    {
     "name": "stdout",
     "output_type": "stream",
     "text": [
      "10 .- Scrapeando https://es.besoccer.com/livescore/2022-09-24/2\n",
      "10 .- https://es.besoccer.com/partido/antofagasta/union-espanola/2022566389/analisis\n"
     ]
    },
    {
     "name": "stderr",
     "output_type": "stream",
     "text": [
      "C:\\Users\\jesus\\AppData\\Local\\Temp\\ipykernel_18156\\3053211924.py:29: FutureWarning: The frame.append method is deprecated and will be removed from pandas in a future version. Use pandas.concat instead.\n",
      "  df = df.append(obtener_stats(s_link_analisis), ignore_index = True)\n"
     ]
    },
    {
     "name": "stdout",
     "output_type": "stream",
     "text": [
      "11 .- Scrapeando https://es.besoccer.com/livescore/2022-09-24/2\n",
      "11 .- https://es.besoccer.com/partido/inverness-ct/brechin-city/2023376855/analisis\n",
      "12 .- La url  https://es.besoccer.com/partido/montrose/kilmarnock-fc-b/2023420065  no tiene sección análisis\n",
      "12 .- 'NoneType' object has no attribute 'find'\n"
     ]
    },
    {
     "name": "stderr",
     "output_type": "stream",
     "text": [
      "C:\\Users\\jesus\\AppData\\Local\\Temp\\ipykernel_18156\\3053211924.py:29: FutureWarning: The frame.append method is deprecated and will be removed from pandas in a future version. Use pandas.concat instead.\n",
      "  df = df.append(obtener_stats(s_link_analisis), ignore_index = True)\n"
     ]
    },
    {
     "name": "stdout",
     "output_type": "stream",
     "text": [
      "13 .- Scrapeando https://es.besoccer.com/livescore/2022-09-24/2\n",
      "13 .- https://es.besoccer.com/partido/cove-rangers/raith-rovers-fc/2023376852/analisis\n"
     ]
    },
    {
     "name": "stderr",
     "output_type": "stream",
     "text": [
      "C:\\Users\\jesus\\AppData\\Local\\Temp\\ipykernel_18156\\3053211924.py:29: FutureWarning: The frame.append method is deprecated and will be removed from pandas in a future version. Use pandas.concat instead.\n",
      "  df = df.append(obtener_stats(s_link_analisis), ignore_index = True)\n"
     ]
    },
    {
     "name": "stdout",
     "output_type": "stream",
     "text": [
      "14 .- Scrapeando https://es.besoccer.com/livescore/2022-09-24/2\n",
      "14 .- https://es.besoccer.com/partido/buckie-thistle/linfield/2023376846/analisis\n"
     ]
    },
    {
     "name": "stderr",
     "output_type": "stream",
     "text": [
      "C:\\Users\\jesus\\AppData\\Local\\Temp\\ipykernel_18156\\3053211924.py:29: FutureWarning: The frame.append method is deprecated and will be removed from pandas in a future version. Use pandas.concat instead.\n",
      "  df = df.append(obtener_stats(s_link_analisis), ignore_index = True)\n"
     ]
    },
    {
     "name": "stdout",
     "output_type": "stream",
     "text": [
      "15 .- Scrapeando https://es.besoccer.com/livescore/2022-09-24/2\n",
      "15 .- https://es.besoccer.com/partido/peterhead/elgin-city/2023376851/analisis\n"
     ]
    },
    {
     "name": "stderr",
     "output_type": "stream",
     "text": [
      "C:\\Users\\jesus\\AppData\\Local\\Temp\\ipykernel_18156\\3053211924.py:29: FutureWarning: The frame.append method is deprecated and will be removed from pandas in a future version. Use pandas.concat instead.\n",
      "  df = df.append(obtener_stats(s_link_analisis), ignore_index = True)\n"
     ]
    },
    {
     "name": "stdout",
     "output_type": "stream",
     "text": [
      "16 .- Scrapeando https://es.besoccer.com/livescore/2022-09-24/2\n",
      "16 .- https://es.besoccer.com/partido/arbroath/east-fife/2023376854/analisis\n"
     ]
    },
    {
     "name": "stderr",
     "output_type": "stream",
     "text": [
      "C:\\Users\\jesus\\AppData\\Local\\Temp\\ipykernel_18156\\3053211924.py:29: FutureWarning: The frame.append method is deprecated and will be removed from pandas in a future version. Use pandas.concat instead.\n",
      "  df = df.append(obtener_stats(s_link_analisis), ignore_index = True)\n"
     ]
    },
    {
     "name": "stdout",
     "output_type": "stream",
     "text": [
      "17 .- Scrapeando https://es.besoccer.com/livescore/2022-09-24/2\n",
      "17 .- https://es.besoccer.com/partido/clyde/caernarfon-town-fc/2023376849/analisis\n"
     ]
    },
    {
     "name": "stderr",
     "output_type": "stream",
     "text": [
      "C:\\Users\\jesus\\AppData\\Local\\Temp\\ipykernel_18156\\3053211924.py:29: FutureWarning: The frame.append method is deprecated and will be removed from pandas in a future version. Use pandas.concat instead.\n",
      "  df = df.append(obtener_stats(s_link_analisis), ignore_index = True)\n"
     ]
    },
    {
     "name": "stdout",
     "output_type": "stream",
     "text": [
      "18 .- Scrapeando https://es.besoccer.com/livescore/2022-09-24/2\n",
      "18 .- https://es.besoccer.com/partido/deportivo-mald/boston-river/2022525991/analisis\n"
     ]
    },
    {
     "name": "stderr",
     "output_type": "stream",
     "text": [
      "C:\\Users\\jesus\\AppData\\Local\\Temp\\ipykernel_18156\\3053211924.py:29: FutureWarning: The frame.append method is deprecated and will be removed from pandas in a future version. Use pandas.concat instead.\n",
      "  df = df.append(obtener_stats(s_link_analisis), ignore_index = True)\n"
     ]
    },
    {
     "name": "stdout",
     "output_type": "stream",
     "text": [
      "19 .- Scrapeando https://es.besoccer.com/livescore/2022-09-24/2\n",
      "19 .- https://es.besoccer.com/partido/liverpool-montevideo/montevideo-wanderers/2022525993/analisis\n"
     ]
    },
    {
     "name": "stderr",
     "output_type": "stream",
     "text": [
      "C:\\Users\\jesus\\AppData\\Local\\Temp\\ipykernel_18156\\3053211924.py:29: FutureWarning: The frame.append method is deprecated and will be removed from pandas in a future version. Use pandas.concat instead.\n",
      "  df = df.append(obtener_stats(s_link_analisis), ignore_index = True)\n"
     ]
    },
    {
     "name": "stdout",
     "output_type": "stream",
     "text": [
      "20 .- Scrapeando https://es.besoccer.com/livescore/2022-09-24/2\n",
      "20 .- https://es.besoccer.com/partido/danubio-montevideo/river-plate-montevideo/2022525990/analisis\n"
     ]
    },
    {
     "name": "stderr",
     "output_type": "stream",
     "text": [
      "C:\\Users\\jesus\\AppData\\Local\\Temp\\ipykernel_18156\\3053211924.py:29: FutureWarning: The frame.append method is deprecated and will be removed from pandas in a future version. Use pandas.concat instead.\n",
      "  df = df.append(obtener_stats(s_link_analisis), ignore_index = True)\n"
     ]
    },
    {
     "name": "stdout",
     "output_type": "stream",
     "text": [
      "21 .- Scrapeando https://es.besoccer.com/livescore/2022-09-24/2\n",
      "21 .- https://es.besoccer.com/partido/nautico-recife/sampaio-correa-fc/2022382493/analisis\n"
     ]
    },
    {
     "name": "stderr",
     "output_type": "stream",
     "text": [
      "C:\\Users\\jesus\\AppData\\Local\\Temp\\ipykernel_18156\\3053211924.py:29: FutureWarning: The frame.append method is deprecated and will be removed from pandas in a future version. Use pandas.concat instead.\n",
      "  df = df.append(obtener_stats(s_link_analisis), ignore_index = True)\n"
     ]
    },
    {
     "name": "stdout",
     "output_type": "stream",
     "text": [
      "22 .- Scrapeando https://es.besoccer.com/livescore/2022-09-24/2\n",
      "22 .- https://es.besoccer.com/partido/londrina/ponte-preta/2022382496/analisis\n"
     ]
    },
    {
     "name": "stderr",
     "output_type": "stream",
     "text": [
      "C:\\Users\\jesus\\AppData\\Local\\Temp\\ipykernel_18156\\3053211924.py:29: FutureWarning: The frame.append method is deprecated and will be removed from pandas in a future version. Use pandas.concat instead.\n",
      "  df = df.append(obtener_stats(s_link_analisis), ignore_index = True)\n"
     ]
    },
    {
     "name": "stdout",
     "output_type": "stream",
     "text": [
      "23 .- Scrapeando https://es.besoccer.com/livescore/2022-09-24/2\n",
      "23 .- https://es.besoccer.com/partido/ituano/brusque/2022382495/analisis\n"
     ]
    },
    {
     "name": "stderr",
     "output_type": "stream",
     "text": [
      "C:\\Users\\jesus\\AppData\\Local\\Temp\\ipykernel_18156\\3053211924.py:29: FutureWarning: The frame.append method is deprecated and will be removed from pandas in a future version. Use pandas.concat instead.\n",
      "  df = df.append(obtener_stats(s_link_analisis), ignore_index = True)\n"
     ]
    },
    {
     "name": "stdout",
     "output_type": "stream",
     "text": [
      "24 .- Scrapeando https://es.besoccer.com/livescore/2022-09-24/2\n",
      "24 .- https://es.besoccer.com/partido/ec-bahia/operario-pr/2022382498/analisis\n"
     ]
    },
    {
     "name": "stderr",
     "output_type": "stream",
     "text": [
      "C:\\Users\\jesus\\AppData\\Local\\Temp\\ipykernel_18156\\3053211924.py:29: FutureWarning: The frame.append method is deprecated and will be removed from pandas in a future version. Use pandas.concat instead.\n",
      "  df = df.append(obtener_stats(s_link_analisis), ignore_index = True)\n"
     ]
    },
    {
     "name": "stdout",
     "output_type": "stream",
     "text": [
      "25 .- Scrapeando https://es.besoccer.com/livescore/2022-09-24/2\n",
      "25 .- https://es.besoccer.com/partido/tepatitlan-de-morelos/cd-tapatio/202321020/analisis\n"
     ]
    },
    {
     "name": "stderr",
     "output_type": "stream",
     "text": [
      "C:\\Users\\jesus\\AppData\\Local\\Temp\\ipykernel_18156\\3053211924.py:29: FutureWarning: The frame.append method is deprecated and will be removed from pandas in a future version. Use pandas.concat instead.\n",
      "  df = df.append(obtener_stats(s_link_analisis), ignore_index = True)\n"
     ]
    },
    {
     "name": "stdout",
     "output_type": "stream",
     "text": [
      "26 .- Scrapeando https://es.besoccer.com/livescore/2022-09-24/2\n",
      "26 .- https://es.besoccer.com/partido/correcaminos-uat/monterrey-rayados-expansion/202321019/analisis\n"
     ]
    },
    {
     "name": "stderr",
     "output_type": "stream",
     "text": [
      "C:\\Users\\jesus\\AppData\\Local\\Temp\\ipykernel_18156\\3053211924.py:29: FutureWarning: The frame.append method is deprecated and will be removed from pandas in a future version. Use pandas.concat instead.\n",
      "  df = df.append(obtener_stats(s_link_analisis), ignore_index = True)\n"
     ]
    },
    {
     "name": "stdout",
     "output_type": "stream",
     "text": [
      "27 .- Scrapeando https://es.besoccer.com/livescore/2022-09-24/2\n",
      "27 .- https://es.besoccer.com/partido/forest-green-rovers/exeter-city/202346315/analisis\n"
     ]
    },
    {
     "name": "stderr",
     "output_type": "stream",
     "text": [
      "C:\\Users\\jesus\\AppData\\Local\\Temp\\ipykernel_18156\\3053211924.py:29: FutureWarning: The frame.append method is deprecated and will be removed from pandas in a future version. Use pandas.concat instead.\n",
      "  df = df.append(obtener_stats(s_link_analisis), ignore_index = True)\n"
     ]
    },
    {
     "name": "stdout",
     "output_type": "stream",
     "text": [
      "28 .- Scrapeando https://es.besoccer.com/livescore/2022-09-24/2\n",
      "28 .- https://es.besoccer.com/partido/barnsley-fc/charlton-athletic-fc/202346312/analisis\n"
     ]
    },
    {
     "name": "stderr",
     "output_type": "stream",
     "text": [
      "C:\\Users\\jesus\\AppData\\Local\\Temp\\ipykernel_18156\\3053211924.py:29: FutureWarning: The frame.append method is deprecated and will be removed from pandas in a future version. Use pandas.concat instead.\n",
      "  df = df.append(obtener_stats(s_link_analisis), ignore_index = True)\n"
     ]
    },
    {
     "name": "stdout",
     "output_type": "stream",
     "text": [
      "29 .- Scrapeando https://es.besoccer.com/livescore/2022-09-24/2\n",
      "29 .- https://es.besoccer.com/partido/sheffield-wednesday-fc/wycombe-wanderers/202346322/analisis\n"
     ]
    },
    {
     "name": "stderr",
     "output_type": "stream",
     "text": [
      "C:\\Users\\jesus\\AppData\\Local\\Temp\\ipykernel_18156\\3053211924.py:29: FutureWarning: The frame.append method is deprecated and will be removed from pandas in a future version. Use pandas.concat instead.\n",
      "  df = df.append(obtener_stats(s_link_analisis), ignore_index = True)\n"
     ]
    },
    {
     "name": "stdout",
     "output_type": "stream",
     "text": [
      "30 .- Scrapeando https://es.besoccer.com/livescore/2022-09-24/2\n",
      "30 .- https://es.besoccer.com/partido/derby-county-fc/cheltenham-town-fc/202346314/analisis\n"
     ]
    },
    {
     "name": "stderr",
     "output_type": "stream",
     "text": [
      "C:\\Users\\jesus\\AppData\\Local\\Temp\\ipykernel_18156\\3053211924.py:29: FutureWarning: The frame.append method is deprecated and will be removed from pandas in a future version. Use pandas.concat instead.\n",
      "  df = df.append(obtener_stats(s_link_analisis), ignore_index = True)\n"
     ]
    },
    {
     "name": "stdout",
     "output_type": "stream",
     "text": [
      "31 .- Scrapeando https://es.besoccer.com/livescore/2022-09-24/2\n",
      "31 .- https://es.besoccer.com/partido/portsmouth/bolton-wanderers-fc/202346321/analisis\n"
     ]
    },
    {
     "name": "stderr",
     "output_type": "stream",
     "text": [
      "C:\\Users\\jesus\\AppData\\Local\\Temp\\ipykernel_18156\\3053211924.py:29: FutureWarning: The frame.append method is deprecated and will be removed from pandas in a future version. Use pandas.concat instead.\n",
      "  df = df.append(obtener_stats(s_link_analisis), ignore_index = True)\n"
     ]
    },
    {
     "name": "stdout",
     "output_type": "stream",
     "text": [
      "32 .- Scrapeando https://es.besoccer.com/livescore/2022-09-24/2\n",
      "32 .- https://es.besoccer.com/partido/peterborough-u/port-vale/202346319/analisis\n"
     ]
    },
    {
     "name": "stderr",
     "output_type": "stream",
     "text": [
      "C:\\Users\\jesus\\AppData\\Local\\Temp\\ipykernel_18156\\3053211924.py:29: FutureWarning: The frame.append method is deprecated and will be removed from pandas in a future version. Use pandas.concat instead.\n",
      "  df = df.append(obtener_stats(s_link_analisis), ignore_index = True)\n"
     ]
    },
    {
     "name": "stdout",
     "output_type": "stream",
     "text": [
      "33 .- Scrapeando https://es.besoccer.com/livescore/2022-09-24/2\n",
      "33 .- https://es.besoccer.com/partido/oxford-united/fleetwood-town/202346318/analisis\n"
     ]
    },
    {
     "name": "stderr",
     "output_type": "stream",
     "text": [
      "C:\\Users\\jesus\\AppData\\Local\\Temp\\ipykernel_18156\\3053211924.py:29: FutureWarning: The frame.append method is deprecated and will be removed from pandas in a future version. Use pandas.concat instead.\n",
      "  df = df.append(obtener_stats(s_link_analisis), ignore_index = True)\n"
     ]
    },
    {
     "name": "stdout",
     "output_type": "stream",
     "text": [
      "34 .- Scrapeando https://es.besoccer.com/livescore/2022-09-24/2\n",
      "34 .- https://es.besoccer.com/partido/shrewsbury-town/burton-albion/202346323/analisis\n"
     ]
    },
    {
     "name": "stderr",
     "output_type": "stream",
     "text": [
      "C:\\Users\\jesus\\AppData\\Local\\Temp\\ipykernel_18156\\3053211924.py:29: FutureWarning: The frame.append method is deprecated and will be removed from pandas in a future version. Use pandas.concat instead.\n",
      "  df = df.append(obtener_stats(s_link_analisis), ignore_index = True)\n"
     ]
    },
    {
     "name": "stdout",
     "output_type": "stream",
     "text": [
      "35 .- Scrapeando https://es.besoccer.com/livescore/2022-09-24/2\n",
      "35 .- https://es.besoccer.com/partido/lincoln-city/milton-keynes-dons/202346316/analisis\n"
     ]
    },
    {
     "name": "stderr",
     "output_type": "stream",
     "text": [
      "C:\\Users\\jesus\\AppData\\Local\\Temp\\ipykernel_18156\\3053211924.py:29: FutureWarning: The frame.append method is deprecated and will be removed from pandas in a future version. Use pandas.concat instead.\n",
      "  df = df.append(obtener_stats(s_link_analisis), ignore_index = True)\n"
     ]
    },
    {
     "name": "stdout",
     "output_type": "stream",
     "text": [
      "36 .- Scrapeando https://es.besoccer.com/livescore/2022-09-24/2\n",
      "36 .- https://es.besoccer.com/partido/bristol-rovers/accrinon-stanley/202346313/analisis\n"
     ]
    },
    {
     "name": "stderr",
     "output_type": "stream",
     "text": [
      "C:\\Users\\jesus\\AppData\\Local\\Temp\\ipykernel_18156\\3053211924.py:29: FutureWarning: The frame.append method is deprecated and will be removed from pandas in a future version. Use pandas.concat instead.\n",
      "  df = df.append(obtener_stats(s_link_analisis), ignore_index = True)\n"
     ]
    },
    {
     "name": "stdout",
     "output_type": "stream",
     "text": [
      "37 .- Scrapeando https://es.besoccer.com/livescore/2022-09-24/2\n",
      "37 .- https://es.besoccer.com/partido/morecambe/cambridge-united/202346317/analisis\n",
      "38 .- La url  https://es.besoccer.com/partido/molenbeek/oudenaarde/2023338160  no tiene sección análisis\n",
      "38 .- 'NoneType' object has no attribute 'find'\n"
     ]
    },
    {
     "name": "stderr",
     "output_type": "stream",
     "text": [
      "C:\\Users\\jesus\\AppData\\Local\\Temp\\ipykernel_18156\\3053211924.py:29: FutureWarning: The frame.append method is deprecated and will be removed from pandas in a future version. Use pandas.concat instead.\n",
      "  df = df.append(obtener_stats(s_link_analisis), ignore_index = True)\n"
     ]
    },
    {
     "name": "stdout",
     "output_type": "stream",
     "text": [
      "39 .- Scrapeando https://es.besoccer.com/livescore/2022-09-24/2\n",
      "39 .- https://es.besoccer.com/partido/dender/dikkelvenne/2023338158/analisis\n"
     ]
    },
    {
     "name": "stderr",
     "output_type": "stream",
     "text": [
      "C:\\Users\\jesus\\AppData\\Local\\Temp\\ipykernel_18156\\3053211924.py:29: FutureWarning: The frame.append method is deprecated and will be removed from pandas in a future version. Use pandas.concat instead.\n",
      "  df = df.append(obtener_stats(s_link_analisis), ignore_index = True)\n"
     ]
    },
    {
     "name": "stdout",
     "output_type": "stream",
     "text": [
      "40 .- Scrapeando https://es.besoccer.com/livescore/2022-09-24/2\n",
      "40 .- https://es.besoccer.com/partido/lommel-united/la-louviere/2023338166/analisis\n"
     ]
    },
    {
     "name": "stderr",
     "output_type": "stream",
     "text": [
      "C:\\Users\\jesus\\AppData\\Local\\Temp\\ipykernel_18156\\3053211924.py:29: FutureWarning: The frame.append method is deprecated and will be removed from pandas in a future version. Use pandas.concat instead.\n",
      "  df = df.append(obtener_stats(s_link_analisis), ignore_index = True)\n"
     ]
    },
    {
     "name": "stdout",
     "output_type": "stream",
     "text": [
      "41 .- Scrapeando https://es.besoccer.com/livescore/2022-09-24/2\n",
      "41 .- https://es.besoccer.com/partido/ksk-lierse-kempenzonen/racing-mechelen/2023338159/analisis\n"
     ]
    },
    {
     "name": "stderr",
     "output_type": "stream",
     "text": [
      "C:\\Users\\jesus\\AppData\\Local\\Temp\\ipykernel_18156\\3053211924.py:29: FutureWarning: The frame.append method is deprecated and will be removed from pandas in a future version. Use pandas.concat instead.\n",
      "  df = df.append(obtener_stats(s_link_analisis), ignore_index = True)\n"
     ]
    },
    {
     "name": "stdout",
     "output_type": "stream",
     "text": [
      "42 .- Scrapeando https://es.besoccer.com/livescore/2022-09-24/2\n",
      "42 .- https://es.besoccer.com/partido/york9-fc/valour/2022385271/analisis\n"
     ]
    },
    {
     "name": "stderr",
     "output_type": "stream",
     "text": [
      "C:\\Users\\jesus\\AppData\\Local\\Temp\\ipykernel_18156\\3053211924.py:29: FutureWarning: The frame.append method is deprecated and will be removed from pandas in a future version. Use pandas.concat instead.\n",
      "  df = df.append(obtener_stats(s_link_analisis), ignore_index = True)\n"
     ]
    },
    {
     "name": "stdout",
     "output_type": "stream",
     "text": [
      "43 .- Scrapeando https://es.besoccer.com/livescore/2022-09-24/2\n",
      "43 .- https://es.besoccer.com/partido/hfx-wanderers/pacific-fc/2022385272/analisis\n"
     ]
    },
    {
     "name": "stderr",
     "output_type": "stream",
     "text": [
      "C:\\Users\\jesus\\AppData\\Local\\Temp\\ipykernel_18156\\3053211924.py:29: FutureWarning: The frame.append method is deprecated and will be removed from pandas in a future version. Use pandas.concat instead.\n",
      "  df = df.append(obtener_stats(s_link_analisis), ignore_index = True)\n"
     ]
    },
    {
     "name": "stdout",
     "output_type": "stream",
     "text": [
      "44 .- Scrapeando https://es.besoccer.com/livescore/2022-09-24/2\n",
      "44 .- https://es.besoccer.com/partido/cavalry-fc/atletico-ottawa/2022385273/analisis\n"
     ]
    },
    {
     "name": "stderr",
     "output_type": "stream",
     "text": [
      "C:\\Users\\jesus\\AppData\\Local\\Temp\\ipykernel_18156\\3053211924.py:29: FutureWarning: The frame.append method is deprecated and will be removed from pandas in a future version. Use pandas.concat instead.\n",
      "  df = df.append(obtener_stats(s_link_analisis), ignore_index = True)\n"
     ]
    },
    {
     "name": "stdout",
     "output_type": "stream",
     "text": [
      "45 .- Scrapeando https://es.besoccer.com/livescore/2022-09-24/2\n",
      "45 .- https://es.besoccer.com/partido/merida-ad-senior/cd-unionistas-salamanca-cf-senior/2023161653/analisis\n"
     ]
    },
    {
     "name": "stderr",
     "output_type": "stream",
     "text": [
      "C:\\Users\\jesus\\AppData\\Local\\Temp\\ipykernel_18156\\3053211924.py:29: FutureWarning: The frame.append method is deprecated and will be removed from pandas in a future version. Use pandas.concat instead.\n",
      "  df = df.append(obtener_stats(s_link_analisis), ignore_index = True)\n"
     ]
    },
    {
     "name": "stdout",
     "output_type": "stream",
     "text": [
      "46 .- Scrapeando https://es.besoccer.com/livescore/2022-09-24/2\n",
      "46 .- https://es.besoccer.com/partido/osasuna-b/eldense/2023161614/analisis\n"
     ]
    },
    {
     "name": "stderr",
     "output_type": "stream",
     "text": [
      "C:\\Users\\jesus\\AppData\\Local\\Temp\\ipykernel_18156\\3053211924.py:29: FutureWarning: The frame.append method is deprecated and will be removed from pandas in a future version. Use pandas.concat instead.\n",
      "  df = df.append(obtener_stats(s_link_analisis), ignore_index = True)\n"
     ]
    },
    {
     "name": "stdout",
     "output_type": "stream",
     "text": [
      "47 .- Scrapeando https://es.besoccer.com/livescore/2022-09-24/2\n",
      "47 .- https://es.besoccer.com/partido/celta-b/deportivo/2023161631/analisis\n"
     ]
    },
    {
     "name": "stderr",
     "output_type": "stream",
     "text": [
      "C:\\Users\\jesus\\AppData\\Local\\Temp\\ipykernel_18156\\3053211924.py:29: FutureWarning: The frame.append method is deprecated and will be removed from pandas in a future version. Use pandas.concat instead.\n",
      "  df = df.append(obtener_stats(s_link_analisis), ignore_index = True)\n"
     ]
    },
    {
     "name": "stdout",
     "output_type": "stream",
     "text": [
      "48 .- Scrapeando https://es.besoccer.com/livescore/2022-09-24/2\n",
      "48 .- https://es.besoccer.com/partido/athletic-bilbao-b/real-sociedad-b/2023161602/analisis\n"
     ]
    },
    {
     "name": "stderr",
     "output_type": "stream",
     "text": [
      "C:\\Users\\jesus\\AppData\\Local\\Temp\\ipykernel_18156\\3053211924.py:29: FutureWarning: The frame.append method is deprecated and will be removed from pandas in a future version. Use pandas.concat instead.\n",
      "  df = df.append(obtener_stats(s_link_analisis), ignore_index = True)\n"
     ]
    },
    {
     "name": "stdout",
     "output_type": "stream",
     "text": [
      "49 .- Scrapeando https://es.besoccer.com/livescore/2022-09-24/2\n",
      "49 .- https://es.besoccer.com/partido/barcelona-b/real-murcia/2023161597/analisis\n"
     ]
    },
    {
     "name": "stderr",
     "output_type": "stream",
     "text": [
      "C:\\Users\\jesus\\AppData\\Local\\Temp\\ipykernel_18156\\3053211924.py:29: FutureWarning: The frame.append method is deprecated and will be removed from pandas in a future version. Use pandas.concat instead.\n",
      "  df = df.append(obtener_stats(s_link_analisis), ignore_index = True)\n"
     ]
    },
    {
     "name": "stdout",
     "output_type": "stream",
     "text": [
      "0 .- Scrapeando https://es.besoccer.com/livescore/2022-09-24/3\n",
      "0 .- https://es.besoccer.com/partido/san-fernando-huelva/ud-ss-reyes/2023161648/analisis\n"
     ]
    },
    {
     "name": "stderr",
     "output_type": "stream",
     "text": [
      "C:\\Users\\jesus\\AppData\\Local\\Temp\\ipykernel_18156\\3053211924.py:29: FutureWarning: The frame.append method is deprecated and will be removed from pandas in a future version. Use pandas.concat instead.\n",
      "  df = df.append(obtener_stats(s_link_analisis), ignore_index = True)\n"
     ]
    },
    {
     "name": "stdout",
     "output_type": "stream",
     "text": [
      "1 .- Scrapeando https://es.besoccer.com/livescore/2022-09-24/3\n",
      "1 .- https://es.besoccer.com/partido/algeciras-cf/racing-club-ferrol/2023161636/analisis\n"
     ]
    },
    {
     "name": "stderr",
     "output_type": "stream",
     "text": [
      "C:\\Users\\jesus\\AppData\\Local\\Temp\\ipykernel_18156\\3053211924.py:29: FutureWarning: The frame.append method is deprecated and will be removed from pandas in a future version. Use pandas.concat instead.\n",
      "  df = df.append(obtener_stats(s_link_analisis), ignore_index = True)\n"
     ]
    },
    {
     "name": "stdout",
     "output_type": "stream",
     "text": [
      "2 .- Scrapeando https://es.besoccer.com/livescore/2022-09-24/3\n",
      "2 .- https://es.besoccer.com/partido/boyaca-chico/fortaleza/2022515499/analisis\n"
     ]
    },
    {
     "name": "stderr",
     "output_type": "stream",
     "text": [
      "C:\\Users\\jesus\\AppData\\Local\\Temp\\ipykernel_18156\\3053211924.py:29: FutureWarning: The frame.append method is deprecated and will be removed from pandas in a future version. Use pandas.concat instead.\n",
      "  df = df.append(obtener_stats(s_link_analisis), ignore_index = True)\n"
     ]
    },
    {
     "name": "stdout",
     "output_type": "stream",
     "text": [
      "3 .- Scrapeando https://es.besoccer.com/livescore/2022-09-24/3\n",
      "3 .- https://es.besoccer.com/partido/valledupar/leones-fc/2022515503/analisis\n"
     ]
    },
    {
     "name": "stderr",
     "output_type": "stream",
     "text": [
      "C:\\Users\\jesus\\AppData\\Local\\Temp\\ipykernel_18156\\3053211924.py:29: FutureWarning: The frame.append method is deprecated and will be removed from pandas in a future version. Use pandas.concat instead.\n",
      "  df = df.append(obtener_stats(s_link_analisis), ignore_index = True)\n"
     ]
    },
    {
     "name": "stdout",
     "output_type": "stream",
     "text": [
      "4 .- Scrapeando https://es.besoccer.com/livescore/2022-09-24/3\n",
      "4 .- https://es.besoccer.com/partido/llaneros/expreso-rojo/2022515502/analisis\n"
     ]
    },
    {
     "name": "stderr",
     "output_type": "stream",
     "text": [
      "C:\\Users\\jesus\\AppData\\Local\\Temp\\ipykernel_18156\\3053211924.py:29: FutureWarning: The frame.append method is deprecated and will be removed from pandas in a future version. Use pandas.concat instead.\n",
      "  df = df.append(obtener_stats(s_link_analisis), ignore_index = True)\n"
     ]
    },
    {
     "name": "stdout",
     "output_type": "stream",
     "text": [
      "5 .- Scrapeando https://es.besoccer.com/livescore/2022-09-24/3\n",
      "5 .- https://es.besoccer.com/partido/qingdao-jonoon/guangxi-longguida/2022541934/analisis\n"
     ]
    },
    {
     "name": "stderr",
     "output_type": "stream",
     "text": [
      "C:\\Users\\jesus\\AppData\\Local\\Temp\\ipykernel_18156\\3053211924.py:29: FutureWarning: The frame.append method is deprecated and will be removed from pandas in a future version. Use pandas.concat instead.\n",
      "  df = df.append(obtener_stats(s_link_analisis), ignore_index = True)\n"
     ]
    },
    {
     "name": "stdout",
     "output_type": "stream",
     "text": [
      "6 .- Scrapeando https://es.besoccer.com/livescore/2022-09-24/3\n",
      "6 .- https://es.besoccer.com/partido/hubei-huakaier/suzhou-dongwu/2022541935/analisis\n"
     ]
    },
    {
     "name": "stderr",
     "output_type": "stream",
     "text": [
      "C:\\Users\\jesus\\AppData\\Local\\Temp\\ipykernel_18156\\3053211924.py:29: FutureWarning: The frame.append method is deprecated and will be removed from pandas in a future version. Use pandas.concat instead.\n",
      "  df = df.append(obtener_stats(s_link_analisis), ignore_index = True)\n"
     ]
    },
    {
     "name": "stdout",
     "output_type": "stream",
     "text": [
      "7 .- Scrapeando https://es.besoccer.com/livescore/2022-09-24/3\n",
      "7 .- https://es.besoccer.com/partido/bit/beijing-baxy/2022541933/analisis\n"
     ]
    },
    {
     "name": "stderr",
     "output_type": "stream",
     "text": [
      "C:\\Users\\jesus\\AppData\\Local\\Temp\\ipykernel_18156\\3053211924.py:29: FutureWarning: The frame.append method is deprecated and will be removed from pandas in a future version. Use pandas.concat instead.\n",
      "  df = df.append(obtener_stats(s_link_analisis), ignore_index = True)\n"
     ]
    },
    {
     "name": "stdout",
     "output_type": "stream",
     "text": [
      "8 .- Scrapeando https://es.besoccer.com/livescore/2022-09-24/3\n",
      "8 .- https://es.besoccer.com/partido/guangxi-baoyun-fc/anhui-litian/2022541936/analisis\n"
     ]
    },
    {
     "name": "stderr",
     "output_type": "stream",
     "text": [
      "C:\\Users\\jesus\\AppData\\Local\\Temp\\ipykernel_18156\\3053211924.py:29: FutureWarning: The frame.append method is deprecated and will be removed from pandas in a future version. Use pandas.concat instead.\n",
      "  df = df.append(obtener_stats(s_link_analisis), ignore_index = True)\n"
     ]
    },
    {
     "name": "stdout",
     "output_type": "stream",
     "text": [
      "9 .- Scrapeando https://es.besoccer.com/livescore/2022-09-24/3\n",
      "9 .- https://es.besoccer.com/partido/charleston-battery/rio-grande-valley-toros/2022340914/analisis\n"
     ]
    },
    {
     "name": "stderr",
     "output_type": "stream",
     "text": [
      "C:\\Users\\jesus\\AppData\\Local\\Temp\\ipykernel_18156\\3053211924.py:29: FutureWarning: The frame.append method is deprecated and will be removed from pandas in a future version. Use pandas.concat instead.\n",
      "  df = df.append(obtener_stats(s_link_analisis), ignore_index = True)\n"
     ]
    },
    {
     "name": "stdout",
     "output_type": "stream",
     "text": [
      "10 .- Scrapeando https://es.besoccer.com/livescore/2022-09-24/3\n",
      "10 .- https://es.besoccer.com/partido/tampa-bay-rowdies/birmingham-legion/2022340915/analisis\n"
     ]
    },
    {
     "name": "stderr",
     "output_type": "stream",
     "text": [
      "C:\\Users\\jesus\\AppData\\Local\\Temp\\ipykernel_18156\\3053211924.py:29: FutureWarning: The frame.append method is deprecated and will be removed from pandas in a future version. Use pandas.concat instead.\n",
      "  df = df.append(obtener_stats(s_link_analisis), ignore_index = True)\n"
     ]
    },
    {
     "name": "stdout",
     "output_type": "stream",
     "text": [
      "11 .- Scrapeando https://es.besoccer.com/livescore/2022-09-24/3\n",
      "11 .- https://es.besoccer.com/partido/louisville-city/memphis-901/2022340918/analisis\n"
     ]
    },
    {
     "name": "stderr",
     "output_type": "stream",
     "text": [
      "C:\\Users\\jesus\\AppData\\Local\\Temp\\ipykernel_18156\\3053211924.py:29: FutureWarning: The frame.append method is deprecated and will be removed from pandas in a future version. Use pandas.concat instead.\n",
      "  df = df.append(obtener_stats(s_link_analisis), ignore_index = True)\n"
     ]
    },
    {
     "name": "stdout",
     "output_type": "stream",
     "text": [
      "12 .- Scrapeando https://es.besoccer.com/livescore/2022-09-24/3\n",
      "12 .- https://es.besoccer.com/partido/pordenone/calcio-padova/2023366056/analisis\n"
     ]
    },
    {
     "name": "stderr",
     "output_type": "stream",
     "text": [
      "C:\\Users\\jesus\\AppData\\Local\\Temp\\ipykernel_18156\\3053211924.py:29: FutureWarning: The frame.append method is deprecated and will be removed from pandas in a future version. Use pandas.concat instead.\n",
      "  df = df.append(obtener_stats(s_link_analisis), ignore_index = True)\n"
     ]
    },
    {
     "name": "stdout",
     "output_type": "stream",
     "text": [
      "13 .- Scrapeando https://es.besoccer.com/livescore/2022-09-24/3\n",
      "13 .- https://es.besoccer.com/partido/vicenza-calcio/juventus-sub-23/2023366061/analisis\n"
     ]
    },
    {
     "name": "stderr",
     "output_type": "stream",
     "text": [
      "C:\\Users\\jesus\\AppData\\Local\\Temp\\ipykernel_18156\\3053211924.py:29: FutureWarning: The frame.append method is deprecated and will be removed from pandas in a future version. Use pandas.concat instead.\n",
      "  df = df.append(obtener_stats(s_link_analisis), ignore_index = True)\n"
     ]
    },
    {
     "name": "stdout",
     "output_type": "stream",
     "text": [
      "14 .- Scrapeando https://es.besoccer.com/livescore/2022-09-24/3\n",
      "14 .- https://es.besoccer.com/partido/piacenza/uc-albinoleffe/2023366055/analisis\n"
     ]
    },
    {
     "name": "stderr",
     "output_type": "stream",
     "text": [
      "C:\\Users\\jesus\\AppData\\Local\\Temp\\ipykernel_18156\\3053211924.py:29: FutureWarning: The frame.append method is deprecated and will be removed from pandas in a future version. Use pandas.concat instead.\n",
      "  df = df.append(obtener_stats(s_link_analisis), ignore_index = True)\n"
     ]
    },
    {
     "name": "stdout",
     "output_type": "stream",
     "text": [
      "15 .- Scrapeando https://es.besoccer.com/livescore/2022-09-24/3\n",
      "15 .- https://es.besoccer.com/partido/virtus-verona/feralpisalo/2023366062/analisis\n"
     ]
    },
    {
     "name": "stderr",
     "output_type": "stream",
     "text": [
      "C:\\Users\\jesus\\AppData\\Local\\Temp\\ipykernel_18156\\3053211924.py:29: FutureWarning: The frame.append method is deprecated and will be removed from pandas in a future version. Use pandas.concat instead.\n",
      "  df = df.append(obtener_stats(s_link_analisis), ignore_index = True)\n"
     ]
    },
    {
     "name": "stdout",
     "output_type": "stream",
     "text": [
      "16 .- Scrapeando https://es.besoccer.com/livescore/2022-09-24/3\n",
      "16 .- https://es.besoccer.com/partido/calcio-lecco-1912/ac-mantova/2023366053/analisis\n"
     ]
    },
    {
     "name": "stderr",
     "output_type": "stream",
     "text": [
      "C:\\Users\\jesus\\AppData\\Local\\Temp\\ipykernel_18156\\3053211924.py:29: FutureWarning: The frame.append method is deprecated and will be removed from pandas in a future version. Use pandas.concat instead.\n",
      "  df = df.append(obtener_stats(s_link_analisis), ignore_index = True)\n"
     ]
    },
    {
     "name": "stdout",
     "output_type": "stream",
     "text": [
      "17 .- Scrapeando https://es.besoccer.com/livescore/2022-09-24/3\n",
      "17 .- https://es.besoccer.com/partido/pro-patria/renate/2023366057/analisis\n"
     ]
    },
    {
     "name": "stderr",
     "output_type": "stream",
     "text": [
      "C:\\Users\\jesus\\AppData\\Local\\Temp\\ipykernel_18156\\3053211924.py:29: FutureWarning: The frame.append method is deprecated and will be removed from pandas in a future version. Use pandas.concat instead.\n",
      "  df = df.append(obtener_stats(s_link_analisis), ignore_index = True)\n"
     ]
    },
    {
     "name": "stdout",
     "output_type": "stream",
     "text": [
      "18 .- Scrapeando https://es.besoccer.com/livescore/2022-09-24/3\n",
      "18 .- https://es.besoccer.com/partido/pergolettese/union-arzignanochiampo/2023366054/analisis\n"
     ]
    },
    {
     "name": "stderr",
     "output_type": "stream",
     "text": [
      "C:\\Users\\jesus\\AppData\\Local\\Temp\\ipykernel_18156\\3053211924.py:29: FutureWarning: The frame.append method is deprecated and will be removed from pandas in a future version. Use pandas.concat instead.\n",
      "  df = df.append(obtener_stats(s_link_analisis), ignore_index = True)\n"
     ]
    },
    {
     "name": "stdout",
     "output_type": "stream",
     "text": [
      "19 .- Scrapeando https://es.besoccer.com/livescore/2022-09-24/3\n",
      "19 .- https://es.besoccer.com/partido/ac-pro-sesto/sangiuliano-city/2023366058/analisis\n"
     ]
    },
    {
     "name": "stderr",
     "output_type": "stream",
     "text": [
      "C:\\Users\\jesus\\AppData\\Local\\Temp\\ipykernel_18156\\3053211924.py:29: FutureWarning: The frame.append method is deprecated and will be removed from pandas in a future version. Use pandas.concat instead.\n",
      "  df = df.append(obtener_stats(s_link_analisis), ignore_index = True)\n"
     ]
    },
    {
     "name": "stdout",
     "output_type": "stream",
     "text": [
      "20 .- Scrapeando https://es.besoccer.com/livescore/2022-09-24/3\n",
      "20 .- https://es.besoccer.com/partido/trento-calcio-1921/us-triestina-calcio/2023366060/analisis\n"
     ]
    },
    {
     "name": "stderr",
     "output_type": "stream",
     "text": [
      "C:\\Users\\jesus\\AppData\\Local\\Temp\\ipykernel_18156\\3053211924.py:29: FutureWarning: The frame.append method is deprecated and will be removed from pandas in a future version. Use pandas.concat instead.\n",
      "  df = df.append(obtener_stats(s_link_analisis), ignore_index = True)\n"
     ]
    },
    {
     "name": "stdout",
     "output_type": "stream",
     "text": [
      "21 .- Scrapeando https://es.besoccer.com/livescore/2022-09-24/3\n",
      "21 .- https://es.besoccer.com/partido/us-pro-vercelli-calcio/novara-calcio/2023366059/analisis\n"
     ]
    },
    {
     "name": "stderr",
     "output_type": "stream",
     "text": [
      "C:\\Users\\jesus\\AppData\\Local\\Temp\\ipykernel_18156\\3053211924.py:29: FutureWarning: The frame.append method is deprecated and will be removed from pandas in a future version. Use pandas.concat instead.\n",
      "  df = df.append(obtener_stats(s_link_analisis), ignore_index = True)\n"
     ]
    },
    {
     "name": "stdout",
     "output_type": "stream",
     "text": [
      "22 .- Scrapeando https://es.besoccer.com/livescore/2022-09-24/3\n",
      "22 .- https://es.besoccer.com/partido/ac-cesena/pontedera/2023366514/analisis\n"
     ]
    },
    {
     "name": "stderr",
     "output_type": "stream",
     "text": [
      "C:\\Users\\jesus\\AppData\\Local\\Temp\\ipykernel_18156\\3053211924.py:29: FutureWarning: The frame.append method is deprecated and will be removed from pandas in a future version. Use pandas.concat instead.\n",
      "  df = df.append(obtener_stats(s_link_analisis), ignore_index = True)\n"
     ]
    },
    {
     "name": "stdout",
     "output_type": "stream",
     "text": [
      "23 .- Scrapeando https://es.besoccer.com/livescore/2022-09-24/3\n",
      "23 .- https://es.besoccer.com/partido/us-alessandria-1912/carrarese-calcio/2023366513/analisis\n"
     ]
    },
    {
     "name": "stderr",
     "output_type": "stream",
     "text": [
      "C:\\Users\\jesus\\AppData\\Local\\Temp\\ipykernel_18156\\3053211924.py:29: FutureWarning: The frame.append method is deprecated and will be removed from pandas in a future version. Use pandas.concat instead.\n",
      "  df = df.append(obtener_stats(s_link_analisis), ignore_index = True)\n"
     ]
    },
    {
     "name": "stdout",
     "output_type": "stream",
     "text": [
      "24 .- Scrapeando https://es.besoccer.com/livescore/2022-09-24/3\n",
      "24 .- https://es.besoccer.com/partido/as-gubbio-1910/virtus-entella/2023366515/analisis\n"
     ]
    },
    {
     "name": "stderr",
     "output_type": "stream",
     "text": [
      "C:\\Users\\jesus\\AppData\\Local\\Temp\\ipykernel_18156\\3053211924.py:29: FutureWarning: The frame.append method is deprecated and will be removed from pandas in a future version. Use pandas.concat instead.\n",
      "  df = df.append(obtener_stats(s_link_analisis), ignore_index = True)\n"
     ]
    },
    {
     "name": "stdout",
     "output_type": "stream",
     "text": [
      "25 .- Scrapeando https://es.besoccer.com/livescore/2022-09-24/3\n",
      "25 .- https://es.besoccer.com/partido/vis-pesaro/ancona/2023366522/analisis\n"
     ]
    },
    {
     "name": "stderr",
     "output_type": "stream",
     "text": [
      "C:\\Users\\jesus\\AppData\\Local\\Temp\\ipykernel_18156\\3053211924.py:29: FutureWarning: The frame.append method is deprecated and will be removed from pandas in a future version. Use pandas.concat instead.\n",
      "  df = df.append(obtener_stats(s_link_analisis), ignore_index = True)\n"
     ]
    },
    {
     "name": "stdout",
     "output_type": "stream",
     "text": [
      "26 .- Scrapeando https://es.besoccer.com/livescore/2022-09-24/3\n",
      "26 .- https://es.besoccer.com/partido/luchese/rimini-calcio/2023366517/analisis\n"
     ]
    },
    {
     "name": "stderr",
     "output_type": "stream",
     "text": [
      "C:\\Users\\jesus\\AppData\\Local\\Temp\\ipykernel_18156\\3053211924.py:29: FutureWarning: The frame.append method is deprecated and will be removed from pandas in a future version. Use pandas.concat instead.\n",
      "  df = df.append(obtener_stats(s_link_analisis), ignore_index = True)\n"
     ]
    },
    {
     "name": "stdout",
     "output_type": "stream",
     "text": [
      "27 .- Scrapeando https://es.besoccer.com/livescore/2022-09-24/3\n",
      "27 .- https://es.besoccer.com/partido/olbia-calcio/siena/2023366519/analisis\n"
     ]
    },
    {
     "name": "stderr",
     "output_type": "stream",
     "text": [
      "C:\\Users\\jesus\\AppData\\Local\\Temp\\ipykernel_18156\\3053211924.py:29: FutureWarning: The frame.append method is deprecated and will be removed from pandas in a future version. Use pandas.concat instead.\n",
      "  df = df.append(obtener_stats(s_link_analisis), ignore_index = True)\n"
     ]
    },
    {
     "name": "stdout",
     "output_type": "stream",
     "text": [
      "28 .- Scrapeando https://es.besoccer.com/livescore/2022-09-24/3\n",
      "28 .- https://es.besoccer.com/partido/ac-reggiana-1919/san-donato-tavarnelle/2023366521/analisis\n"
     ]
    },
    {
     "name": "stderr",
     "output_type": "stream",
     "text": [
      "C:\\Users\\jesus\\AppData\\Local\\Temp\\ipykernel_18156\\3053211924.py:29: FutureWarning: The frame.append method is deprecated and will be removed from pandas in a future version. Use pandas.concat instead.\n",
      "  df = df.append(obtener_stats(s_link_analisis), ignore_index = True)\n"
     ]
    },
    {
     "name": "stdout",
     "output_type": "stream",
     "text": [
      "29 .- Scrapeando https://es.besoccer.com/livescore/2022-09-24/3\n",
      "29 .- https://es.besoccer.com/partido/montevarchi-calcio/fermana/2023366518/analisis\n"
     ]
    },
    {
     "name": "stderr",
     "output_type": "stream",
     "text": [
      "C:\\Users\\jesus\\AppData\\Local\\Temp\\ipykernel_18156\\3053211924.py:29: FutureWarning: The frame.append method is deprecated and will be removed from pandas in a future version. Use pandas.concat instead.\n",
      "  df = df.append(obtener_stats(s_link_analisis), ignore_index = True)\n"
     ]
    },
    {
     "name": "stdout",
     "output_type": "stream",
     "text": [
      "30 .- Scrapeando https://es.besoccer.com/livescore/2022-09-24/3\n",
      "30 .- https://es.besoccer.com/partido/recanatese/sassari-torres/2023366520/analisis\n"
     ]
    },
    {
     "name": "stderr",
     "output_type": "stream",
     "text": [
      "C:\\Users\\jesus\\AppData\\Local\\Temp\\ipykernel_18156\\3053211924.py:29: FutureWarning: The frame.append method is deprecated and will be removed from pandas in a future version. Use pandas.concat instead.\n",
      "  df = df.append(obtener_stats(s_link_analisis), ignore_index = True)\n"
     ]
    },
    {
     "name": "stdout",
     "output_type": "stream",
     "text": [
      "31 .- Scrapeando https://es.besoccer.com/livescore/2022-09-24/3\n",
      "31 .- https://es.besoccer.com/partido/imolese/fiorenzuola/2023366516/analisis\n"
     ]
    },
    {
     "name": "stderr",
     "output_type": "stream",
     "text": [
      "C:\\Users\\jesus\\AppData\\Local\\Temp\\ipykernel_18156\\3053211924.py:29: FutureWarning: The frame.append method is deprecated and will be removed from pandas in a future version. Use pandas.concat instead.\n",
      "  df = df.append(obtener_stats(s_link_analisis), ignore_index = True)\n"
     ]
    },
    {
     "name": "stdout",
     "output_type": "stream",
     "text": [
      "32 .- Scrapeando https://es.besoccer.com/livescore/2022-09-24/3\n",
      "32 .- https://es.besoccer.com/partido/latina/us-avellino/2023366899/analisis\n"
     ]
    },
    {
     "name": "stderr",
     "output_type": "stream",
     "text": [
      "C:\\Users\\jesus\\AppData\\Local\\Temp\\ipykernel_18156\\3053211924.py:29: FutureWarning: The frame.append method is deprecated and will be removed from pandas in a future version. Use pandas.concat instead.\n",
      "  df = df.append(obtener_stats(s_link_analisis), ignore_index = True)\n"
     ]
    },
    {
     "name": "stdout",
     "output_type": "stream",
     "text": [
      "33 .- Scrapeando https://es.besoccer.com/livescore/2022-09-24/3\n",
      "33 .- https://es.besoccer.com/partido/us-foggia/pescara-calcio/2023366896/analisis\n"
     ]
    },
    {
     "name": "stderr",
     "output_type": "stream",
     "text": [
      "C:\\Users\\jesus\\AppData\\Local\\Temp\\ipykernel_18156\\3053211924.py:29: FutureWarning: The frame.append method is deprecated and will be removed from pandas in a future version. Use pandas.concat instead.\n",
      "  df = df.append(obtener_stats(s_link_analisis), ignore_index = True)\n"
     ]
    },
    {
     "name": "stdout",
     "output_type": "stream",
     "text": [
      "34 .- Scrapeando https://es.besoccer.com/livescore/2022-09-24/3\n",
      "34 .- https://es.besoccer.com/partido/rossoblu-potenza/fc-crotone/2023366902/analisis\n"
     ]
    },
    {
     "name": "stderr",
     "output_type": "stream",
     "text": [
      "C:\\Users\\jesus\\AppData\\Local\\Temp\\ipykernel_18156\\3053211924.py:29: FutureWarning: The frame.append method is deprecated and will be removed from pandas in a future version. Use pandas.concat instead.\n",
      "  df = df.append(obtener_stats(s_link_analisis), ignore_index = True)\n"
     ]
    },
    {
     "name": "stdout",
     "output_type": "stream",
     "text": [
      "35 .- Scrapeando https://es.besoccer.com/livescore/2022-09-24/3\n",
      "35 .- https://es.besoccer.com/partido/ss-juve-stabia/viterbese/2023366898/analisis\n"
     ]
    },
    {
     "name": "stderr",
     "output_type": "stream",
     "text": [
      "C:\\Users\\jesus\\AppData\\Local\\Temp\\ipykernel_18156\\3053211924.py:29: FutureWarning: The frame.append method is deprecated and will be removed from pandas in a future version. Use pandas.concat instead.\n",
      "  df = df.append(obtener_stats(s_link_analisis), ignore_index = True)\n"
     ]
    },
    {
     "name": "stdout",
     "output_type": "stream",
     "text": [
      "36 .- Scrapeando https://es.besoccer.com/livescore/2022-09-24/3\n",
      "36 .- https://es.besoccer.com/partido/fc-catanzaro/messina/2023366894/analisis\n"
     ]
    },
    {
     "name": "stderr",
     "output_type": "stream",
     "text": [
      "C:\\Users\\jesus\\AppData\\Local\\Temp\\ipykernel_18156\\3053211924.py:29: FutureWarning: The frame.append method is deprecated and will be removed from pandas in a future version. Use pandas.concat instead.\n",
      "  df = df.append(obtener_stats(s_link_analisis), ignore_index = True)\n"
     ]
    },
    {
     "name": "stdout",
     "output_type": "stream",
     "text": [
      "37 .- Scrapeando https://es.besoccer.com/livescore/2022-09-24/3\n",
      "37 .- https://es.besoccer.com/partido/fidelis-andria/picerno/2023366895/analisis\n"
     ]
    },
    {
     "name": "stderr",
     "output_type": "stream",
     "text": [
      "C:\\Users\\jesus\\AppData\\Local\\Temp\\ipykernel_18156\\3053211924.py:29: FutureWarning: The frame.append method is deprecated and will be removed from pandas in a future version. Use pandas.concat instead.\n",
      "  df = df.append(obtener_stats(s_link_analisis), ignore_index = True)\n"
     ]
    },
    {
     "name": "stdout",
     "output_type": "stream",
     "text": [
      "38 .- Scrapeando https://es.besoccer.com/livescore/2022-09-24/3\n",
      "38 .- https://es.besoccer.com/partido/monospolis/audace-cerignola/2023366900/analisis\n"
     ]
    },
    {
     "name": "stderr",
     "output_type": "stream",
     "text": [
      "C:\\Users\\jesus\\AppData\\Local\\Temp\\ipykernel_18156\\3053211924.py:29: FutureWarning: The frame.append method is deprecated and will be removed from pandas in a future version. Use pandas.concat instead.\n",
      "  df = df.append(obtener_stats(s_link_analisis), ignore_index = True)\n"
     ]
    },
    {
     "name": "stdout",
     "output_type": "stream",
     "text": [
      "39 .- Scrapeando https://es.besoccer.com/livescore/2022-09-24/3\n",
      "39 .- https://es.besoccer.com/partido/gelbison/taranto-sport/2023366897/analisis\n"
     ]
    },
    {
     "name": "stderr",
     "output_type": "stream",
     "text": [
      "C:\\Users\\jesus\\AppData\\Local\\Temp\\ipykernel_18156\\3053211924.py:29: FutureWarning: The frame.append method is deprecated and will be removed from pandas in a future version. Use pandas.concat instead.\n",
      "  df = df.append(obtener_stats(s_link_analisis), ignore_index = True)\n"
     ]
    },
    {
     "name": "stdout",
     "output_type": "stream",
     "text": [
      "40 .- Scrapeando https://es.besoccer.com/livescore/2022-09-24/3\n",
      "40 .- https://es.besoccer.com/partido/asd-nuova-monterosi/virtus-francavilla/2023366901/analisis\n"
     ]
    },
    {
     "name": "stderr",
     "output_type": "stream",
     "text": [
      "C:\\Users\\jesus\\AppData\\Local\\Temp\\ipykernel_18156\\3053211924.py:29: FutureWarning: The frame.append method is deprecated and will be removed from pandas in a future version. Use pandas.concat instead.\n",
      "  df = df.append(obtener_stats(s_link_analisis), ignore_index = True)\n"
     ]
    },
    {
     "name": "stdout",
     "output_type": "stream",
     "text": [
      "41 .- Scrapeando https://es.besoccer.com/livescore/2022-09-24/3\n",
      "41 .- https://es.besoccer.com/partido/ssc-giugliano/turris/2023366893/analisis\n"
     ]
    },
    {
     "name": "stderr",
     "output_type": "stream",
     "text": [
      "C:\\Users\\jesus\\AppData\\Local\\Temp\\ipykernel_18156\\3053211924.py:29: FutureWarning: The frame.append method is deprecated and will be removed from pandas in a future version. Use pandas.concat instead.\n",
      "  df = df.append(obtener_stats(s_link_analisis), ignore_index = True)\n"
     ]
    },
    {
     "name": "stdout",
     "output_type": "stream",
     "text": [
      "42 .- Scrapeando https://es.besoccer.com/livescore/2022-09-24/3\n",
      "42 .- https://es.besoccer.com/partido/barnechea/cd-melipilla/2022376836/analisis\n"
     ]
    },
    {
     "name": "stderr",
     "output_type": "stream",
     "text": [
      "C:\\Users\\jesus\\AppData\\Local\\Temp\\ipykernel_18156\\3053211924.py:29: FutureWarning: The frame.append method is deprecated and will be removed from pandas in a future version. Use pandas.concat instead.\n",
      "  df = df.append(obtener_stats(s_link_analisis), ignore_index = True)\n"
     ]
    },
    {
     "name": "stdout",
     "output_type": "stream",
     "text": [
      "43 .- Scrapeando https://es.besoccer.com/livescore/2022-09-24/3\n",
      "43 .- https://es.besoccer.com/partido/santiago-morning/csd-rangers/2022376837/analisis\n"
     ]
    },
    {
     "name": "stderr",
     "output_type": "stream",
     "text": [
      "C:\\Users\\jesus\\AppData\\Local\\Temp\\ipykernel_18156\\3053211924.py:29: FutureWarning: The frame.append method is deprecated and will be removed from pandas in a future version. Use pandas.concat instead.\n",
      "  df = df.append(obtener_stats(s_link_analisis), ignore_index = True)\n"
     ]
    },
    {
     "name": "stdout",
     "output_type": "stream",
     "text": [
      "44 .- Scrapeando https://es.besoccer.com/livescore/2022-09-24/3\n",
      "44 .- https://es.besoccer.com/partido/santiago-wanderers/deportes-recoleta/2022376835/analisis\n"
     ]
    },
    {
     "name": "stderr",
     "output_type": "stream",
     "text": [
      "C:\\Users\\jesus\\AppData\\Local\\Temp\\ipykernel_18156\\3053211924.py:29: FutureWarning: The frame.append method is deprecated and will be removed from pandas in a future version. Use pandas.concat instead.\n",
      "  df = df.append(obtener_stats(s_link_analisis), ignore_index = True)\n"
     ]
    },
    {
     "name": "stdout",
     "output_type": "stream",
     "text": [
      "45 .- Scrapeando https://es.besoccer.com/livescore/2022-09-24/3\n",
      "45 .- https://es.besoccer.com/partido/northampton-town-fc/stockport-county/202345207/analisis\n"
     ]
    },
    {
     "name": "stderr",
     "output_type": "stream",
     "text": [
      "C:\\Users\\jesus\\AppData\\Local\\Temp\\ipykernel_18156\\3053211924.py:29: FutureWarning: The frame.append method is deprecated and will be removed from pandas in a future version. Use pandas.concat instead.\n",
      "  df = df.append(obtener_stats(s_link_analisis), ignore_index = True)\n"
     ]
    },
    {
     "name": "stdout",
     "output_type": "stream",
     "text": [
      "46 .- Scrapeando https://es.besoccer.com/livescore/2022-09-24/3\n",
      "46 .- https://es.besoccer.com/partido/bradford-city/afc-wimbledon/202345200/analisis\n"
     ]
    },
    {
     "name": "stderr",
     "output_type": "stream",
     "text": [
      "C:\\Users\\jesus\\AppData\\Local\\Temp\\ipykernel_18156\\3053211924.py:29: FutureWarning: The frame.append method is deprecated and will be removed from pandas in a future version. Use pandas.concat instead.\n",
      "  df = df.append(obtener_stats(s_link_analisis), ignore_index = True)\n"
     ]
    },
    {
     "name": "stdout",
     "output_type": "stream",
     "text": [
      "47 .- Scrapeando https://es.besoccer.com/livescore/2022-09-24/3\n",
      "47 .- https://es.besoccer.com/partido/colchester-united/rochdale/202345201/analisis\n"
     ]
    },
    {
     "name": "stderr",
     "output_type": "stream",
     "text": [
      "C:\\Users\\jesus\\AppData\\Local\\Temp\\ipykernel_18156\\3053211924.py:29: FutureWarning: The frame.append method is deprecated and will be removed from pandas in a future version. Use pandas.concat instead.\n",
      "  df = df.append(obtener_stats(s_link_analisis), ignore_index = True)\n"
     ]
    },
    {
     "name": "stdout",
     "output_type": "stream",
     "text": [
      "48 .- Scrapeando https://es.besoccer.com/livescore/2022-09-24/3\n",
      "48 .- https://es.besoccer.com/partido/barrow/leyton-orient/202345199/analisis\n"
     ]
    },
    {
     "name": "stderr",
     "output_type": "stream",
     "text": [
      "C:\\Users\\jesus\\AppData\\Local\\Temp\\ipykernel_18156\\3053211924.py:29: FutureWarning: The frame.append method is deprecated and will be removed from pandas in a future version. Use pandas.concat instead.\n",
      "  df = df.append(obtener_stats(s_link_analisis), ignore_index = True)\n"
     ]
    },
    {
     "name": "stdout",
     "output_type": "stream",
     "text": [
      "49 .- Scrapeando https://es.besoccer.com/livescore/2022-09-24/3\n",
      "49 .- https://es.besoccer.com/partido/crewe-alexandra/mansfield-town/202345202/analisis\n"
     ]
    },
    {
     "name": "stderr",
     "output_type": "stream",
     "text": [
      "C:\\Users\\jesus\\AppData\\Local\\Temp\\ipykernel_18156\\3053211924.py:29: FutureWarning: The frame.append method is deprecated and will be removed from pandas in a future version. Use pandas.concat instead.\n",
      "  df = df.append(obtener_stats(s_link_analisis), ignore_index = True)\n"
     ]
    },
    {
     "name": "stdout",
     "output_type": "stream",
     "text": [
      "0 .- Scrapeando https://es.besoccer.com/livescore/2022-09-24/4\n",
      "0 .- https://es.besoccer.com/partido/grimsby-town/swindon-town/202345204/analisis\n"
     ]
    },
    {
     "name": "stderr",
     "output_type": "stream",
     "text": [
      "C:\\Users\\jesus\\AppData\\Local\\Temp\\ipykernel_18156\\3053211924.py:29: FutureWarning: The frame.append method is deprecated and will be removed from pandas in a future version. Use pandas.concat instead.\n",
      "  df = df.append(obtener_stats(s_link_analisis), ignore_index = True)\n"
     ]
    },
    {
     "name": "stdout",
     "output_type": "stream",
     "text": [
      "1 .- Scrapeando https://es.besoccer.com/livescore/2022-09-24/4\n",
      "1 .- https://es.besoccer.com/partido/hartlepool-united/gillingham/202345205/analisis\n"
     ]
    },
    {
     "name": "stderr",
     "output_type": "stream",
     "text": [
      "C:\\Users\\jesus\\AppData\\Local\\Temp\\ipykernel_18156\\3053211924.py:29: FutureWarning: The frame.append method is deprecated and will be removed from pandas in a future version. Use pandas.concat instead.\n",
      "  df = df.append(obtener_stats(s_link_analisis), ignore_index = True)\n"
     ]
    },
    {
     "name": "stdout",
     "output_type": "stream",
     "text": [
      "2 .- Scrapeando https://es.besoccer.com/livescore/2022-09-24/4\n",
      "2 .- https://es.besoccer.com/partido/walsall/tranmere-rovers/202345210/analisis\n"
     ]
    },
    {
     "name": "stderr",
     "output_type": "stream",
     "text": [
      "C:\\Users\\jesus\\AppData\\Local\\Temp\\ipykernel_18156\\3053211924.py:29: FutureWarning: The frame.append method is deprecated and will be removed from pandas in a future version. Use pandas.concat instead.\n",
      "  df = df.append(obtener_stats(s_link_analisis), ignore_index = True)\n"
     ]
    },
    {
     "name": "stdout",
     "output_type": "stream",
     "text": [
      "3 .- Scrapeando https://es.besoccer.com/livescore/2022-09-24/4\n",
      "3 .- https://es.besoccer.com/partido/doncaster-rovers/crawley-town/202345203/analisis\n"
     ]
    },
    {
     "name": "stderr",
     "output_type": "stream",
     "text": [
      "C:\\Users\\jesus\\AppData\\Local\\Temp\\ipykernel_18156\\3053211924.py:29: FutureWarning: The frame.append method is deprecated and will be removed from pandas in a future version. Use pandas.concat instead.\n",
      "  df = df.append(obtener_stats(s_link_analisis), ignore_index = True)\n"
     ]
    },
    {
     "name": "stdout",
     "output_type": "stream",
     "text": [
      "4 .- Scrapeando https://es.besoccer.com/livescore/2022-09-24/4\n",
      "4 .- https://es.besoccer.com/partido/newport-county/carlisle-united/202345206/analisis\n"
     ]
    },
    {
     "name": "stderr",
     "output_type": "stream",
     "text": [
      "C:\\Users\\jesus\\AppData\\Local\\Temp\\ipykernel_18156\\3053211924.py:29: FutureWarning: The frame.append method is deprecated and will be removed from pandas in a future version. Use pandas.concat instead.\n",
      "  df = df.append(obtener_stats(s_link_analisis), ignore_index = True)\n"
     ]
    },
    {
     "name": "stdout",
     "output_type": "stream",
     "text": [
      "5 .- Scrapeando https://es.besoccer.com/livescore/2022-09-24/4\n",
      "5 .- https://es.besoccer.com/partido/stevenage/harrogate-town/202345208/analisis\n"
     ]
    },
    {
     "name": "stderr",
     "output_type": "stream",
     "text": [
      "C:\\Users\\jesus\\AppData\\Local\\Temp\\ipykernel_18156\\3053211924.py:29: FutureWarning: The frame.append method is deprecated and will be removed from pandas in a future version. Use pandas.concat instead.\n",
      "  df = df.append(obtener_stats(s_link_analisis), ignore_index = True)\n"
     ]
    },
    {
     "name": "stdout",
     "output_type": "stream",
     "text": [
      "6 .- Scrapeando https://es.besoccer.com/livescore/2022-09-24/4\n",
      "6 .- https://es.besoccer.com/partido/sutton-united/salford-city/202345209/analisis\n"
     ]
    },
    {
     "name": "stderr",
     "output_type": "stream",
     "text": [
      "C:\\Users\\jesus\\AppData\\Local\\Temp\\ipykernel_18156\\3053211924.py:29: FutureWarning: The frame.append method is deprecated and will be removed from pandas in a future version. Use pandas.concat instead.\n",
      "  df = df.append(obtener_stats(s_link_analisis), ignore_index = True)\n"
     ]
    },
    {
     "name": "stdout",
     "output_type": "stream",
     "text": [
      "7 .- Scrapeando https://es.besoccer.com/livescore/2022-09-24/4\n",
      "7 .- https://es.besoccer.com/partido/los-andes/san-miguel/2022501204/analisis\n"
     ]
    },
    {
     "name": "stderr",
     "output_type": "stream",
     "text": [
      "C:\\Users\\jesus\\AppData\\Local\\Temp\\ipykernel_18156\\3053211924.py:29: FutureWarning: The frame.append method is deprecated and will be removed from pandas in a future version. Use pandas.concat instead.\n",
      "  df = df.append(obtener_stats(s_link_analisis), ignore_index = True)\n"
     ]
    },
    {
     "name": "stdout",
     "output_type": "stream",
     "text": [
      "8 .- Scrapeando https://es.besoccer.com/livescore/2022-09-24/4\n",
      "8 .- https://es.besoccer.com/partido/colegiales/talleres-remedios/2022501198/analisis\n"
     ]
    },
    {
     "name": "stderr",
     "output_type": "stream",
     "text": [
      "C:\\Users\\jesus\\AppData\\Local\\Temp\\ipykernel_18156\\3053211924.py:29: FutureWarning: The frame.append method is deprecated and will be removed from pandas in a future version. Use pandas.concat instead.\n",
      "  df = df.append(obtener_stats(s_link_analisis), ignore_index = True)\n"
     ]
    },
    {
     "name": "stdout",
     "output_type": "stream",
     "text": [
      "9 .- Scrapeando https://es.besoccer.com/livescore/2022-09-24/4\n",
      "9 .- https://es.besoccer.com/partido/club-comunicaciones-buenos-aires/deportivo-armenio/2022501203/analisis\n"
     ]
    },
    {
     "name": "stderr",
     "output_type": "stream",
     "text": [
      "C:\\Users\\jesus\\AppData\\Local\\Temp\\ipykernel_18156\\3053211924.py:29: FutureWarning: The frame.append method is deprecated and will be removed from pandas in a future version. Use pandas.concat instead.\n",
      "  df = df.append(obtener_stats(s_link_analisis), ignore_index = True)\n"
     ]
    },
    {
     "name": "stdout",
     "output_type": "stream",
     "text": [
      "10 .- Scrapeando https://es.besoccer.com/livescore/2022-09-24/4\n",
      "10 .- https://es.besoccer.com/partido/acassuso/defensores-unidos/2022501199/analisis\n"
     ]
    },
    {
     "name": "stderr",
     "output_type": "stream",
     "text": [
      "C:\\Users\\jesus\\AppData\\Local\\Temp\\ipykernel_18156\\3053211924.py:29: FutureWarning: The frame.append method is deprecated and will be removed from pandas in a future version. Use pandas.concat instead.\n",
      "  df = df.append(obtener_stats(s_link_analisis), ignore_index = True)\n"
     ]
    },
    {
     "name": "stdout",
     "output_type": "stream",
     "text": [
      "11 .- Scrapeando https://es.besoccer.com/livescore/2022-09-24/4\n",
      "11 .- https://es.besoccer.com/partido/jj-urquiza/uai-urquiza/2022501201/analisis\n"
     ]
    },
    {
     "name": "stderr",
     "output_type": "stream",
     "text": [
      "C:\\Users\\jesus\\AppData\\Local\\Temp\\ipykernel_18156\\3053211924.py:29: FutureWarning: The frame.append method is deprecated and will be removed from pandas in a future version. Use pandas.concat instead.\n",
      "  df = df.append(obtener_stats(s_link_analisis), ignore_index = True)\n"
     ]
    },
    {
     "name": "stdout",
     "output_type": "stream",
     "text": [
      "12 .- Scrapeando https://es.besoccer.com/livescore/2022-09-24/4\n",
      "12 .- https://es.besoccer.com/partido/argentino-quilmes/villa-san-carlos/2022501200/analisis\n"
     ]
    },
    {
     "name": "stderr",
     "output_type": "stream",
     "text": [
      "C:\\Users\\jesus\\AppData\\Local\\Temp\\ipykernel_18156\\3053211924.py:29: FutureWarning: The frame.append method is deprecated and will be removed from pandas in a future version. Use pandas.concat instead.\n",
      "  df = df.append(obtener_stats(s_link_analisis), ignore_index = True)\n"
     ]
    },
    {
     "name": "stdout",
     "output_type": "stream",
     "text": [
      "13 .- Scrapeando https://es.besoccer.com/livescore/2022-09-24/4\n",
      "13 .- https://es.besoccer.com/partido/ituzaingo/fenix-bs-as/2022501205/analisis\n"
     ]
    },
    {
     "name": "stderr",
     "output_type": "stream",
     "text": [
      "C:\\Users\\jesus\\AppData\\Local\\Temp\\ipykernel_18156\\3053211924.py:29: FutureWarning: The frame.append method is deprecated and will be removed from pandas in a future version. Use pandas.concat instead.\n",
      "  df = df.append(obtener_stats(s_link_analisis), ignore_index = True)\n"
     ]
    },
    {
     "name": "stdout",
     "output_type": "stream",
     "text": [
      "14 .- Scrapeando https://es.besoccer.com/livescore/2022-09-24/4\n",
      "14 .- https://es.besoccer.com/partido/canuelas/dock-sud/2022501202/analisis\n"
     ]
    },
    {
     "name": "stderr",
     "output_type": "stream",
     "text": [
      "C:\\Users\\jesus\\AppData\\Local\\Temp\\ipykernel_18156\\3053211924.py:29: FutureWarning: The frame.append method is deprecated and will be removed from pandas in a future version. Use pandas.concat instead.\n",
      "  df = df.append(obtener_stats(s_link_analisis), ignore_index = True)\n"
     ]
    },
    {
     "name": "stdout",
     "output_type": "stream",
     "text": [
      "15 .- Scrapeando https://es.besoccer.com/livescore/2022-09-24/4\n",
      "15 .- https://es.besoccer.com/partido/finn-harps/bohemians-fc/2022312054/analisis\n"
     ]
    },
    {
     "name": "stderr",
     "output_type": "stream",
     "text": [
      "C:\\Users\\jesus\\AppData\\Local\\Temp\\ipykernel_18156\\3053211924.py:29: FutureWarning: The frame.append method is deprecated and will be removed from pandas in a future version. Use pandas.concat instead.\n",
      "  df = df.append(obtener_stats(s_link_analisis), ignore_index = True)\n"
     ]
    },
    {
     "name": "stdout",
     "output_type": "stream",
     "text": [
      "16 .- Scrapeando https://es.besoccer.com/livescore/2022-09-24/4\n",
      "16 .- https://es.besoccer.com/partido/figueirense-florianopolis/abc/2022533123/analisis\n"
     ]
    },
    {
     "name": "stderr",
     "output_type": "stream",
     "text": [
      "C:\\Users\\jesus\\AppData\\Local\\Temp\\ipykernel_18156\\3053211924.py:29: FutureWarning: The frame.append method is deprecated and will be removed from pandas in a future version. Use pandas.concat instead.\n",
      "  df = df.append(obtener_stats(s_link_analisis), ignore_index = True)\n"
     ]
    },
    {
     "name": "stdout",
     "output_type": "stream",
     "text": [
      "17 .- Scrapeando https://es.besoccer.com/livescore/2022-09-24/4\n",
      "17 .- https://es.besoccer.com/partido/paysandu-belem/vitoria/2022533122/analisis\n"
     ]
    },
    {
     "name": "stderr",
     "output_type": "stream",
     "text": [
      "C:\\Users\\jesus\\AppData\\Local\\Temp\\ipykernel_18156\\3053211924.py:29: FutureWarning: The frame.append method is deprecated and will be removed from pandas in a future version. Use pandas.concat instead.\n",
      "  df = df.append(obtener_stats(s_link_analisis), ignore_index = True)\n"
     ]
    },
    {
     "name": "stdout",
     "output_type": "stream",
     "text": [
      "18 .- Scrapeando https://es.besoccer.com/livescore/2022-09-24/4\n",
      "18 .- https://es.besoccer.com/partido/real-valladolid-b/coruxo/2023268100/analisis\n"
     ]
    },
    {
     "name": "stderr",
     "output_type": "stream",
     "text": [
      "C:\\Users\\jesus\\AppData\\Local\\Temp\\ipykernel_18156\\3053211924.py:29: FutureWarning: The frame.append method is deprecated and will be removed from pandas in a future version. Use pandas.concat instead.\n",
      "  df = df.append(obtener_stats(s_link_analisis), ignore_index = True)\n"
     ]
    },
    {
     "name": "stdout",
     "output_type": "stream",
     "text": [
      "19 .- Scrapeando https://es.besoccer.com/livescore/2022-09-24/4\n",
      "19 .- https://es.besoccer.com/partido/racing-b/guijuelo/2023268108/analisis\n"
     ]
    },
    {
     "name": "stderr",
     "output_type": "stream",
     "text": [
      "C:\\Users\\jesus\\AppData\\Local\\Temp\\ipykernel_18156\\3053211924.py:29: FutureWarning: The frame.append method is deprecated and will be removed from pandas in a future version. Use pandas.concat instead.\n",
      "  df = df.append(obtener_stats(s_link_analisis), ignore_index = True)\n"
     ]
    },
    {
     "name": "stdout",
     "output_type": "stream",
     "text": [
      "20 .- Scrapeando https://es.besoccer.com/livescore/2022-09-24/4\n",
      "20 .- https://es.besoccer.com/partido/ud-mutilvera/club-atletico-cirbonero/2023268259/analisis\n"
     ]
    },
    {
     "name": "stderr",
     "output_type": "stream",
     "text": [
      "C:\\Users\\jesus\\AppData\\Local\\Temp\\ipykernel_18156\\3053211924.py:29: FutureWarning: The frame.append method is deprecated and will be removed from pandas in a future version. Use pandas.concat instead.\n",
      "  df = df.append(obtener_stats(s_link_analisis), ignore_index = True)\n"
     ]
    },
    {
     "name": "stdout",
     "output_type": "stream",
     "text": [
      "21 .- Scrapeando https://es.besoccer.com/livescore/2022-09-24/4\n",
      "21 .- https://es.besoccer.com/partido/deportivo-alaves-b/arnedo/2023268256/analisis\n"
     ]
    },
    {
     "name": "stderr",
     "output_type": "stream",
     "text": [
      "C:\\Users\\jesus\\AppData\\Local\\Temp\\ipykernel_18156\\3053211924.py:29: FutureWarning: The frame.append method is deprecated and will be removed from pandas in a future version. Use pandas.concat instead.\n",
      "  df = df.append(obtener_stats(s_link_analisis), ignore_index = True)\n"
     ]
    },
    {
     "name": "stdout",
     "output_type": "stream",
     "text": [
      "22 .- Scrapeando https://es.besoccer.com/livescore/2022-09-24/4\n",
      "22 .- https://es.besoccer.com/partido/real-aviles-ind/gimnastica/2023268093/analisis\n"
     ]
    },
    {
     "name": "stderr",
     "output_type": "stream",
     "text": [
      "C:\\Users\\jesus\\AppData\\Local\\Temp\\ipykernel_18156\\3053211924.py:29: FutureWarning: The frame.append method is deprecated and will be removed from pandas in a future version. Use pandas.concat instead.\n",
      "  df = df.append(obtener_stats(s_link_analisis), ignore_index = True)\n"
     ]
    },
    {
     "name": "stdout",
     "output_type": "stream",
     "text": [
      "23 .- Scrapeando https://es.besoccer.com/livescore/2022-09-24/4\n",
      "23 .- https://es.besoccer.com/partido/gimnastica-segoviana/cd-don-benito/2023269348/analisis\n"
     ]
    },
    {
     "name": "stderr",
     "output_type": "stream",
     "text": [
      "C:\\Users\\jesus\\AppData\\Local\\Temp\\ipykernel_18156\\3053211924.py:29: FutureWarning: The frame.append method is deprecated and will be removed from pandas in a future version. Use pandas.concat instead.\n",
      "  df = df.append(obtener_stats(s_link_analisis), ignore_index = True)\n"
     ]
    },
    {
     "name": "stdout",
     "output_type": "stream",
     "text": [
      "24 .- Scrapeando https://es.besoccer.com/livescore/2022-09-24/4\n",
      "24 .- https://es.besoccer.com/partido/san-roque-lepe/xerez-deportivo-f-c/2023269044/analisis\n"
     ]
    },
    {
     "name": "stderr",
     "output_type": "stream",
     "text": [
      "C:\\Users\\jesus\\AppData\\Local\\Temp\\ipykernel_18156\\3053211924.py:29: FutureWarning: The frame.append method is deprecated and will be removed from pandas in a future version. Use pandas.concat instead.\n",
      "  df = df.append(obtener_stats(s_link_analisis), ignore_index = True)\n"
     ]
    },
    {
     "name": "stdout",
     "output_type": "stream",
     "text": [
      "25 .- Scrapeando https://es.besoccer.com/livescore/2022-09-24/4\n",
      "25 .- https://es.besoccer.com/partido/arenas-club/berio-ft-senior/2023268253/analisis\n"
     ]
    },
    {
     "name": "stderr",
     "output_type": "stream",
     "text": [
      "C:\\Users\\jesus\\AppData\\Local\\Temp\\ipykernel_18156\\3053211924.py:29: FutureWarning: The frame.append method is deprecated and will be removed from pandas in a future version. Use pandas.concat instead.\n",
      "  df = df.append(obtener_stats(s_link_analisis), ignore_index = True)\n"
     ]
    },
    {
     "name": "stdout",
     "output_type": "stream",
     "text": [
      "26 .- Scrapeando https://es.besoccer.com/livescore/2022-09-24/4\n",
      "26 .- https://es.besoccer.com/partido/arenteiro/real-oviedo-b/2023268089/analisis\n"
     ]
    },
    {
     "name": "stderr",
     "output_type": "stream",
     "text": [
      "C:\\Users\\jesus\\AppData\\Local\\Temp\\ipykernel_18156\\3053211924.py:29: FutureWarning: The frame.append method is deprecated and will be removed from pandas in a future version. Use pandas.concat instead.\n",
      "  df = df.append(obtener_stats(s_link_analisis), ignore_index = True)\n"
     ]
    },
    {
     "name": "stdout",
     "output_type": "stream",
     "text": [
      "27 .- Scrapeando https://es.besoccer.com/livescore/2022-09-24/4\n",
      "27 .- https://es.besoccer.com/partido/san-juan/brea/2023268257/analisis\n"
     ]
    },
    {
     "name": "stderr",
     "output_type": "stream",
     "text": [
      "C:\\Users\\jesus\\AppData\\Local\\Temp\\ipykernel_18156\\3053211924.py:29: FutureWarning: The frame.append method is deprecated and will be removed from pandas in a future version. Use pandas.concat instead.\n",
      "  df = df.append(obtener_stats(s_link_analisis), ignore_index = True)\n"
     ]
    },
    {
     "name": "stdout",
     "output_type": "stream",
     "text": [
      "28 .- Scrapeando https://es.besoccer.com/livescore/2022-09-24/4\n",
      "28 .- https://es.besoccer.com/partido/at-madrid-b/montijo/2023269347/analisis\n"
     ]
    },
    {
     "name": "stderr",
     "output_type": "stream",
     "text": [
      "C:\\Users\\jesus\\AppData\\Local\\Temp\\ipykernel_18156\\3053211924.py:29: FutureWarning: The frame.append method is deprecated and will be removed from pandas in a future version. Use pandas.concat instead.\n",
      "  df = df.append(obtener_stats(s_link_analisis), ignore_index = True)\n"
     ]
    },
    {
     "name": "stdout",
     "output_type": "stream",
     "text": [
      "29 .- Scrapeando https://es.besoccer.com/livescore/2022-09-24/4\n",
      "29 .- https://es.besoccer.com/partido/manresa-juvenil/atletico-saguntino/2023268715/analisis\n"
     ]
    },
    {
     "name": "stderr",
     "output_type": "stream",
     "text": [
      "C:\\Users\\jesus\\AppData\\Local\\Temp\\ipykernel_18156\\3053211924.py:29: FutureWarning: The frame.append method is deprecated and will be removed from pandas in a future version. Use pandas.concat instead.\n",
      "  df = df.append(obtener_stats(s_link_analisis), ignore_index = True)\n"
     ]
    },
    {
     "name": "stdout",
     "output_type": "stream",
     "text": [
      "30 .- Scrapeando https://es.besoccer.com/livescore/2022-09-24/4\n",
      "30 .- https://es.besoccer.com/partido/hercules/espanyol-b/2023268721/analisis\n"
     ]
    },
    {
     "name": "stderr",
     "output_type": "stream",
     "text": [
      "C:\\Users\\jesus\\AppData\\Local\\Temp\\ipykernel_18156\\3053211924.py:29: FutureWarning: The frame.append method is deprecated and will be removed from pandas in a future version. Use pandas.concat instead.\n",
      "  df = df.append(obtener_stats(s_link_analisis), ignore_index = True)\n"
     ]
    },
    {
     "name": "stdout",
     "output_type": "stream",
     "text": [
      "31 .- Scrapeando https://es.besoccer.com/livescore/2022-09-24/4\n",
      "31 .- https://es.besoccer.com/partido/coban-imperial/municipal/202336140/analisis\n"
     ]
    },
    {
     "name": "stderr",
     "output_type": "stream",
     "text": [
      "C:\\Users\\jesus\\AppData\\Local\\Temp\\ipykernel_18156\\3053211924.py:29: FutureWarning: The frame.append method is deprecated and will be removed from pandas in a future version. Use pandas.concat instead.\n",
      "  df = df.append(obtener_stats(s_link_analisis), ignore_index = True)\n"
     ]
    },
    {
     "name": "stdout",
     "output_type": "stream",
     "text": [
      "32 .- Scrapeando https://es.besoccer.com/livescore/2022-09-24/4\n",
      "32 .- https://es.besoccer.com/partido/correcaminos-aut-ii/gavilanes-fc-matamoros/2023186715/analisis\n"
     ]
    },
    {
     "name": "stderr",
     "output_type": "stream",
     "text": [
      "C:\\Users\\jesus\\AppData\\Local\\Temp\\ipykernel_18156\\3053211924.py:29: FutureWarning: The frame.append method is deprecated and will be removed from pandas in a future version. Use pandas.concat instead.\n",
      "  df = df.append(obtener_stats(s_link_analisis), ignore_index = True)\n"
     ]
    },
    {
     "name": "stdout",
     "output_type": "stream",
     "text": [
      "33 .- Scrapeando https://es.besoccer.com/livescore/2022-09-24/4\n",
      "33 .- https://es.besoccer.com/partido/canoneros-marina/tho-mayas-fc/2023186805/analisis\n"
     ]
    },
    {
     "name": "stderr",
     "output_type": "stream",
     "text": [
      "C:\\Users\\jesus\\AppData\\Local\\Temp\\ipykernel_18156\\3053211924.py:29: FutureWarning: The frame.append method is deprecated and will be removed from pandas in a future version. Use pandas.concat instead.\n",
      "  df = df.append(obtener_stats(s_link_analisis), ignore_index = True)\n"
     ]
    },
    {
     "name": "stdout",
     "output_type": "stream",
     "text": [
      "34 .- Scrapeando https://es.besoccer.com/livescore/2022-09-24/4\n",
      "34 .- https://es.besoccer.com/partido/leones-negros-ii/mexicali-fc-dragones/2023186660/analisis\n"
     ]
    },
    {
     "name": "stderr",
     "output_type": "stream",
     "text": [
      "C:\\Users\\jesus\\AppData\\Local\\Temp\\ipykernel_18156\\3053211924.py:29: FutureWarning: The frame.append method is deprecated and will be removed from pandas in a future version. Use pandas.concat instead.\n",
      "  df = df.append(obtener_stats(s_link_analisis), ignore_index = True)\n"
     ]
    },
    {
     "name": "stdout",
     "output_type": "stream",
     "text": [
      "35 .- Scrapeando https://es.besoccer.com/livescore/2022-09-24/4\n",
      "35 .- https://es.besoccer.com/partido/cimarrones-de-sonora-ii/tritones-vallarta/2023186661/analisis\n"
     ]
    },
    {
     "name": "stderr",
     "output_type": "stream",
     "text": [
      "C:\\Users\\jesus\\AppData\\Local\\Temp\\ipykernel_18156\\3053211924.py:29: FutureWarning: The frame.append method is deprecated and will be removed from pandas in a future version. Use pandas.concat instead.\n",
      "  df = df.append(obtener_stats(s_link_analisis), ignore_index = True)\n"
     ]
    },
    {
     "name": "stdout",
     "output_type": "stream",
     "text": [
      "36 .- Scrapeando https://es.besoccer.com/livescore/2022-09-24/4\n",
      "36 .- https://es.besoccer.com/partido/cd-chilpancingo/calor-de-san-pedro/2023186806/analisis\n"
     ]
    },
    {
     "name": "stderr",
     "output_type": "stream",
     "text": [
      "C:\\Users\\jesus\\AppData\\Local\\Temp\\ipykernel_18156\\3053211924.py:29: FutureWarning: The frame.append method is deprecated and will be removed from pandas in a future version. Use pandas.concat instead.\n",
      "  df = df.append(obtener_stats(s_link_analisis), ignore_index = True)\n"
     ]
    },
    {
     "name": "stdout",
     "output_type": "stream",
     "text": [
      "37 .- Scrapeando https://es.besoccer.com/livescore/2022-09-24/4\n",
      "37 .- https://es.besoccer.com/partido/halcones-de-zaponan/club-deportivo-nayarit/2023186663/analisis\n"
     ]
    },
    {
     "name": "stderr",
     "output_type": "stream",
     "text": [
      "C:\\Users\\jesus\\AppData\\Local\\Temp\\ipykernel_18156\\3053211924.py:29: FutureWarning: The frame.append method is deprecated and will be removed from pandas in a future version. Use pandas.concat instead.\n",
      "  df = df.append(obtener_stats(s_link_analisis), ignore_index = True)\n"
     ]
    },
    {
     "name": "stdout",
     "output_type": "stream",
     "text": [
      "38 .- Scrapeando https://es.besoccer.com/livescore/2022-09-24/4\n",
      "38 .- https://es.besoccer.com/partido/huracanes-izcalli/ciervos-fc/2023186808/analisis\n"
     ]
    },
    {
     "name": "stderr",
     "output_type": "stream",
     "text": [
      "C:\\Users\\jesus\\AppData\\Local\\Temp\\ipykernel_18156\\3053211924.py:29: FutureWarning: The frame.append method is deprecated and will be removed from pandas in a future version. Use pandas.concat instead.\n",
      "  df = df.append(obtener_stats(s_link_analisis), ignore_index = True)\n"
     ]
    },
    {
     "name": "stdout",
     "output_type": "stream",
     "text": [
      "39 .- Scrapeando https://es.besoccer.com/livescore/2022-09-24/4\n",
      "39 .- https://es.besoccer.com/partido/sporting-canamy/yalmakan-fc/2023186553/analisis\n"
     ]
    },
    {
     "name": "stderr",
     "output_type": "stream",
     "text": [
      "C:\\Users\\jesus\\AppData\\Local\\Temp\\ipykernel_18156\\3053211924.py:29: FutureWarning: The frame.append method is deprecated and will be removed from pandas in a future version. Use pandas.concat instead.\n",
      "  df = df.append(obtener_stats(s_link_analisis), ignore_index = True)\n"
     ]
    },
    {
     "name": "stdout",
     "output_type": "stream",
     "text": [
      "40 .- Scrapeando https://es.besoccer.com/livescore/2022-09-24/4\n",
      "40 .- https://es.besoccer.com/partido/inter-de-queretaro/colima-fc/2023186716/analisis\n"
     ]
    },
    {
     "name": "stderr",
     "output_type": "stream",
     "text": [
      "C:\\Users\\jesus\\AppData\\Local\\Temp\\ipykernel_18156\\3053211924.py:29: FutureWarning: The frame.append method is deprecated and will be removed from pandas in a future version. Use pandas.concat instead.\n",
      "  df = df.append(obtener_stats(s_link_analisis), ignore_index = True)\n"
     ]
    },
    {
     "name": "stdout",
     "output_type": "stream",
     "text": [
      "41 .- Scrapeando https://es.besoccer.com/livescore/2022-09-24/4\n",
      "41 .- https://es.besoccer.com/partido/deportivo-dongu/escorpiones-fc/2023186552/analisis\n"
     ]
    },
    {
     "name": "stderr",
     "output_type": "stream",
     "text": [
      "C:\\Users\\jesus\\AppData\\Local\\Temp\\ipykernel_18156\\3053211924.py:29: FutureWarning: The frame.append method is deprecated and will be removed from pandas in a future version. Use pandas.concat instead.\n",
      "  df = df.append(obtener_stats(s_link_analisis), ignore_index = True)\n"
     ]
    },
    {
     "name": "stdout",
     "output_type": "stream",
     "text": [
      "42 .- Scrapeando https://es.besoccer.com/livescore/2022-09-24/4\n",
      "42 .- https://es.besoccer.com/partido/pioneros-de-cancun/zitacuaro/2023186807/analisis\n"
     ]
    },
    {
     "name": "stderr",
     "output_type": "stream",
     "text": [
      "C:\\Users\\jesus\\AppData\\Local\\Temp\\ipykernel_18156\\3053211924.py:29: FutureWarning: The frame.append method is deprecated and will be removed from pandas in a future version. Use pandas.concat instead.\n",
      "  df = df.append(obtener_stats(s_link_analisis), ignore_index = True)\n"
     ]
    },
    {
     "name": "stdout",
     "output_type": "stream",
     "text": [
      "43 .- Scrapeando https://es.besoccer.com/livescore/2022-09-24/4\n",
      "43 .- https://es.besoccer.com/partido/mazorqueros-fc/alebrijes-de-oaxaca-ii/2023186809/analisis\n"
     ]
    },
    {
     "name": "stderr",
     "output_type": "stream",
     "text": [
      "C:\\Users\\jesus\\AppData\\Local\\Temp\\ipykernel_18156\\3053211924.py:29: FutureWarning: The frame.append method is deprecated and will be removed from pandas in a future version. Use pandas.concat instead.\n",
      "  df = df.append(obtener_stats(s_link_analisis), ignore_index = True)\n"
     ]
    },
    {
     "name": "stdout",
     "output_type": "stream",
     "text": [
      "44 .- Scrapeando https://es.besoccer.com/livescore/2022-09-24/4\n",
      "44 .- https://es.besoccer.com/partido/maidstone-united/chesterfield/2023117637/analisis\n"
     ]
    },
    {
     "name": "stderr",
     "output_type": "stream",
     "text": [
      "C:\\Users\\jesus\\AppData\\Local\\Temp\\ipykernel_18156\\3053211924.py:29: FutureWarning: The frame.append method is deprecated and will be removed from pandas in a future version. Use pandas.concat instead.\n",
      "  df = df.append(obtener_stats(s_link_analisis), ignore_index = True)\n"
     ]
    },
    {
     "name": "stdout",
     "output_type": "stream",
     "text": [
      "45 .- Scrapeando https://es.besoccer.com/livescore/2022-09-24/4\n",
      "45 .- https://es.besoccer.com/partido/bromley/oldham-athletic-afc/2023117633/analisis\n"
     ]
    },
    {
     "name": "stderr",
     "output_type": "stream",
     "text": [
      "C:\\Users\\jesus\\AppData\\Local\\Temp\\ipykernel_18156\\3053211924.py:29: FutureWarning: The frame.append method is deprecated and will be removed from pandas in a future version. Use pandas.concat instead.\n",
      "  df = df.append(obtener_stats(s_link_analisis), ignore_index = True)\n"
     ]
    },
    {
     "name": "stdout",
     "output_type": "stream",
     "text": [
      "46 .- Scrapeando https://es.besoccer.com/livescore/2022-09-24/4\n",
      "46 .- https://es.besoccer.com/partido/eastleigh/halifax-town/2023117635/analisis\n"
     ]
    },
    {
     "name": "stderr",
     "output_type": "stream",
     "text": [
      "C:\\Users\\jesus\\AppData\\Local\\Temp\\ipykernel_18156\\3053211924.py:29: FutureWarning: The frame.append method is deprecated and will be removed from pandas in a future version. Use pandas.concat instead.\n",
      "  df = df.append(obtener_stats(s_link_analisis), ignore_index = True)\n"
     ]
    },
    {
     "name": "stdout",
     "output_type": "stream",
     "text": [
      "47 .- Scrapeando https://es.besoccer.com/livescore/2022-09-24/4\n",
      "47 .- https://es.besoccer.com/partido/altrincham/aldershot-town-fc/2023117632/analisis\n"
     ]
    },
    {
     "name": "stderr",
     "output_type": "stream",
     "text": [
      "C:\\Users\\jesus\\AppData\\Local\\Temp\\ipykernel_18156\\3053211924.py:29: FutureWarning: The frame.append method is deprecated and will be removed from pandas in a future version. Use pandas.concat instead.\n",
      "  df = df.append(obtener_stats(s_link_analisis), ignore_index = True)\n"
     ]
    },
    {
     "name": "stdout",
     "output_type": "stream",
     "text": [
      "48 .- Scrapeando https://es.besoccer.com/livescore/2022-09-24/4\n",
      "48 .- https://es.besoccer.com/partido/dagenham-amp-red/barnet/2023117634/analisis\n"
     ]
    },
    {
     "name": "stderr",
     "output_type": "stream",
     "text": [
      "C:\\Users\\jesus\\AppData\\Local\\Temp\\ipykernel_18156\\3053211924.py:29: FutureWarning: The frame.append method is deprecated and will be removed from pandas in a future version. Use pandas.concat instead.\n",
      "  df = df.append(obtener_stats(s_link_analisis), ignore_index = True)\n"
     ]
    },
    {
     "name": "stdout",
     "output_type": "stream",
     "text": [
      "49 .- Scrapeando https://es.besoccer.com/livescore/2022-09-24/4\n",
      "49 .- https://es.besoccer.com/partido/maidenhead-united/gateshead/2023117636/analisis\n"
     ]
    },
    {
     "name": "stderr",
     "output_type": "stream",
     "text": [
      "C:\\Users\\jesus\\AppData\\Local\\Temp\\ipykernel_18156\\3053211924.py:29: FutureWarning: The frame.append method is deprecated and will be removed from pandas in a future version. Use pandas.concat instead.\n",
      "  df = df.append(obtener_stats(s_link_analisis), ignore_index = True)\n"
     ]
    },
    {
     "name": "stdout",
     "output_type": "stream",
     "text": [
      "0 .- Scrapeando https://es.besoccer.com/livescore/2022-09-24/5\n",
      "0 .- https://es.besoccer.com/partido/scunthorpe-united/dorking-wanderers/2023117638/analisis\n"
     ]
    },
    {
     "name": "stderr",
     "output_type": "stream",
     "text": [
      "C:\\Users\\jesus\\AppData\\Local\\Temp\\ipykernel_18156\\3053211924.py:29: FutureWarning: The frame.append method is deprecated and will be removed from pandas in a future version. Use pandas.concat instead.\n",
      "  df = df.append(obtener_stats(s_link_analisis), ignore_index = True)\n"
     ]
    },
    {
     "name": "stdout",
     "output_type": "stream",
     "text": [
      "1 .- Scrapeando https://es.besoccer.com/livescore/2022-09-24/5\n",
      "1 .- https://es.besoccer.com/partido/wealdstone/southend-united/2023117639/analisis\n"
     ]
    },
    {
     "name": "stderr",
     "output_type": "stream",
     "text": [
      "C:\\Users\\jesus\\AppData\\Local\\Temp\\ipykernel_18156\\3053211924.py:29: FutureWarning: The frame.append method is deprecated and will be removed from pandas in a future version. Use pandas.concat instead.\n",
      "  df = df.append(obtener_stats(s_link_analisis), ignore_index = True)\n"
     ]
    },
    {
     "name": "stdout",
     "output_type": "stream",
     "text": [
      "2 .- Scrapeando https://es.besoccer.com/livescore/2022-09-24/5\n",
      "2 .- https://es.besoccer.com/partido/yeovil-town/boreham-wood/2023117642/analisis\n"
     ]
    },
    {
     "name": "stderr",
     "output_type": "stream",
     "text": [
      "C:\\Users\\jesus\\AppData\\Local\\Temp\\ipykernel_18156\\3053211924.py:29: FutureWarning: The frame.append method is deprecated and will be removed from pandas in a future version. Use pandas.concat instead.\n",
      "  df = df.append(obtener_stats(s_link_analisis), ignore_index = True)\n"
     ]
    },
    {
     "name": "stdout",
     "output_type": "stream",
     "text": [
      "3 .- Scrapeando https://es.besoccer.com/livescore/2022-09-24/5\n",
      "3 .- https://es.besoccer.com/partido/york-city/notts-county/2023117643/analisis\n"
     ]
    },
    {
     "name": "stderr",
     "output_type": "stream",
     "text": [
      "C:\\Users\\jesus\\AppData\\Local\\Temp\\ipykernel_18156\\3053211924.py:29: FutureWarning: The frame.append method is deprecated and will be removed from pandas in a future version. Use pandas.concat instead.\n",
      "  df = df.append(obtener_stats(s_link_analisis), ignore_index = True)\n"
     ]
    },
    {
     "name": "stdout",
     "output_type": "stream",
     "text": [
      "4 .- Scrapeando https://es.besoccer.com/livescore/2022-09-24/5\n",
      "4 .- https://es.besoccer.com/partido/wrexham/torquay-united/2023117641/analisis\n"
     ]
    },
    {
     "name": "stderr",
     "output_type": "stream",
     "text": [
      "C:\\Users\\jesus\\AppData\\Local\\Temp\\ipykernel_18156\\3053211924.py:29: FutureWarning: The frame.append method is deprecated and will be removed from pandas in a future version. Use pandas.concat instead.\n",
      "  df = df.append(obtener_stats(s_link_analisis), ignore_index = True)\n"
     ]
    },
    {
     "name": "stdout",
     "output_type": "stream",
     "text": [
      "5 .- Scrapeando https://es.besoccer.com/livescore/2022-09-24/5\n",
      "5 .- https://es.besoccer.com/partido/woking/solihull-moors/2023117640/analisis\n"
     ]
    },
    {
     "name": "stderr",
     "output_type": "stream",
     "text": [
      "C:\\Users\\jesus\\AppData\\Local\\Temp\\ipykernel_18156\\3053211924.py:29: FutureWarning: The frame.append method is deprecated and will be removed from pandas in a future version. Use pandas.concat instead.\n",
      "  df = df.append(obtener_stats(s_link_analisis), ignore_index = True)\n"
     ]
    },
    {
     "name": "stdout",
     "output_type": "stream",
     "text": [
      "6 .- Scrapeando https://es.besoccer.com/livescore/2022-09-24/5\n",
      "6 .- https://es.besoccer.com/partido/thespakusatsu/renofa-yamaguchi/2022356085/analisis\n"
     ]
    },
    {
     "name": "stderr",
     "output_type": "stream",
     "text": [
      "C:\\Users\\jesus\\AppData\\Local\\Temp\\ipykernel_18156\\3053211924.py:29: FutureWarning: The frame.append method is deprecated and will be removed from pandas in a future version. Use pandas.concat instead.\n",
      "  df = df.append(obtener_stats(s_link_analisis), ignore_index = True)\n"
     ]
    },
    {
     "name": "stdout",
     "output_type": "stream",
     "text": [
      "7 .- Scrapeando https://es.besoccer.com/livescore/2022-09-24/5\n",
      "7 .- https://es.besoccer.com/partido/tokyo-verdy/montedio-yamagata/2022356086/analisis\n"
     ]
    },
    {
     "name": "stderr",
     "output_type": "stream",
     "text": [
      "C:\\Users\\jesus\\AppData\\Local\\Temp\\ipykernel_18156\\3053211924.py:29: FutureWarning: The frame.append method is deprecated and will be removed from pandas in a future version. Use pandas.concat instead.\n",
      "  df = df.append(obtener_stats(s_link_analisis), ignore_index = True)\n"
     ]
    },
    {
     "name": "stdout",
     "output_type": "stream",
     "text": [
      "8 .- Scrapeando https://es.besoccer.com/livescore/2022-09-24/5\n",
      "8 .- https://es.besoccer.com/partido/v-varen-nagasaki/yokohama/2022356087/analisis\n"
     ]
    },
    {
     "name": "stderr",
     "output_type": "stream",
     "text": [
      "C:\\Users\\jesus\\AppData\\Local\\Temp\\ipykernel_18156\\3053211924.py:29: FutureWarning: The frame.append method is deprecated and will be removed from pandas in a future version. Use pandas.concat instead.\n",
      "  df = df.append(obtener_stats(s_link_analisis), ignore_index = True)\n"
     ]
    },
    {
     "name": "stdout",
     "output_type": "stream",
     "text": [
      "9 .- Scrapeando https://es.besoccer.com/livescore/2022-09-24/5\n",
      "9 .- https://es.besoccer.com/partido/oita-trinita/ventforet-kofu/2022356095/analisis\n",
      "10 .- La url  https://es.besoccer.com/partido/ragusa/asd-canicatti/2023422796  no tiene sección análisis\n",
      "10 .- 'NoneType' object has no attribute 'find'\n"
     ]
    },
    {
     "name": "stderr",
     "output_type": "stream",
     "text": [
      "C:\\Users\\jesus\\AppData\\Local\\Temp\\ipykernel_18156\\3053211924.py:29: FutureWarning: The frame.append method is deprecated and will be removed from pandas in a future version. Use pandas.concat instead.\n",
      "  df = df.append(obtener_stats(s_link_analisis), ignore_index = True)\n"
     ]
    },
    {
     "name": "stdout",
     "output_type": "stream",
     "text": [
      "11 .- Scrapeando https://es.besoccer.com/livescore/2022-09-24/5\n",
      "11 .- https://es.besoccer.com/partido/pozoblanco/cordoba-b/2023295171/analisis\n"
     ]
    },
    {
     "name": "stderr",
     "output_type": "stream",
     "text": [
      "C:\\Users\\jesus\\AppData\\Local\\Temp\\ipykernel_18156\\3053211924.py:29: FutureWarning: The frame.append method is deprecated and will be removed from pandas in a future version. Use pandas.concat instead.\n",
      "  df = df.append(obtener_stats(s_link_analisis), ignore_index = True)\n"
     ]
    },
    {
     "name": "stdout",
     "output_type": "stream",
     "text": [
      "12 .- Scrapeando https://es.besoccer.com/livescore/2022-09-24/5\n",
      "12 .- https://es.besoccer.com/partido/atletico-porcuna-senior/cd-huracan-melilla/2023294928/analisis\n"
     ]
    },
    {
     "name": "stderr",
     "output_type": "stream",
     "text": [
      "C:\\Users\\jesus\\AppData\\Local\\Temp\\ipykernel_18156\\3053211924.py:29: FutureWarning: The frame.append method is deprecated and will be removed from pandas in a future version. Use pandas.concat instead.\n",
      "  df = df.append(obtener_stats(s_link_analisis), ignore_index = True)\n"
     ]
    },
    {
     "name": "stdout",
     "output_type": "stream",
     "text": [
      "13 .- Scrapeando https://es.besoccer.com/livescore/2022-09-24/5\n",
      "13 .- https://es.besoccer.com/partido/panaderia-pulido/cd-santa-ursula/2023294393/analisis\n"
     ]
    },
    {
     "name": "stderr",
     "output_type": "stream",
     "text": [
      "C:\\Users\\jesus\\AppData\\Local\\Temp\\ipykernel_18156\\3053211924.py:29: FutureWarning: The frame.append method is deprecated and will be removed from pandas in a future version. Use pandas.concat instead.\n",
      "  df = df.append(obtener_stats(s_link_analisis), ignore_index = True)\n"
     ]
    },
    {
     "name": "stdout",
     "output_type": "stream",
     "text": [
      "14 .- Scrapeando https://es.besoccer.com/livescore/2022-09-24/5\n",
      "14 .- https://es.besoccer.com/partido/ud-tamaraceite/ud-gran-tarajal/2023294392/analisis\n",
      "15 .- La url  https://es.besoccer.com/partido/cd-vitoria-senior/cd-touring-senior/2023272169  no tiene sección análisis\n",
      "15 .- 'NoneType' object has no attribute 'find'\n"
     ]
    },
    {
     "name": "stderr",
     "output_type": "stream",
     "text": [
      "C:\\Users\\jesus\\AppData\\Local\\Temp\\ipykernel_18156\\3053211924.py:29: FutureWarning: The frame.append method is deprecated and will be removed from pandas in a future version. Use pandas.concat instead.\n",
      "  df = df.append(obtener_stats(s_link_analisis), ignore_index = True)\n"
     ]
    },
    {
     "name": "stdout",
     "output_type": "stream",
     "text": [
      "16 .- Scrapeando https://es.besoccer.com/livescore/2022-09-24/5\n",
      "16 .- https://es.besoccer.com/partido/lagunak/avance-ezcabarte/2023274326/analisis\n"
     ]
    },
    {
     "name": "stderr",
     "output_type": "stream",
     "text": [
      "C:\\Users\\jesus\\AppData\\Local\\Temp\\ipykernel_18156\\3053211924.py:29: FutureWarning: The frame.append method is deprecated and will be removed from pandas in a future version. Use pandas.concat instead.\n",
      "  df = df.append(obtener_stats(s_link_analisis), ignore_index = True)\n"
     ]
    },
    {
     "name": "stdout",
     "output_type": "stream",
     "text": [
      "17 .- Scrapeando https://es.besoccer.com/livescore/2022-09-24/5\n",
      "17 .- https://es.besoccer.com/partido/cortes/cd-ardoi/2023274323/analisis\n"
     ]
    },
    {
     "name": "stderr",
     "output_type": "stream",
     "text": [
      "C:\\Users\\jesus\\AppData\\Local\\Temp\\ipykernel_18156\\3053211924.py:29: FutureWarning: The frame.append method is deprecated and will be removed from pandas in a future version. Use pandas.concat instead.\n",
      "  df = df.append(obtener_stats(s_link_analisis), ignore_index = True)\n"
     ]
    },
    {
     "name": "stdout",
     "output_type": "stream",
     "text": [
      "18 .- Scrapeando https://es.besoccer.com/livescore/2022-09-24/5\n",
      "18 .- https://es.besoccer.com/partido/pasaia-ke/c-durango/2023272167/analisis\n"
     ]
    },
    {
     "name": "stderr",
     "output_type": "stream",
     "text": [
      "C:\\Users\\jesus\\AppData\\Local\\Temp\\ipykernel_18156\\3053211924.py:29: FutureWarning: The frame.append method is deprecated and will be removed from pandas in a future version. Use pandas.concat instead.\n",
      "  df = df.append(obtener_stats(s_link_analisis), ignore_index = True)\n"
     ]
    },
    {
     "name": "stdout",
     "output_type": "stream",
     "text": [
      "19 .- Scrapeando https://es.besoccer.com/livescore/2022-09-24/5\n",
      "19 .- https://es.besoccer.com/partido/mercadal/collerense/2023184985/analisis\n"
     ]
    },
    {
     "name": "stderr",
     "output_type": "stream",
     "text": [
      "C:\\Users\\jesus\\AppData\\Local\\Temp\\ipykernel_18156\\3053211924.py:29: FutureWarning: The frame.append method is deprecated and will be removed from pandas in a future version. Use pandas.concat instead.\n",
      "  df = df.append(obtener_stats(s_link_analisis), ignore_index = True)\n"
     ]
    },
    {
     "name": "stdout",
     "output_type": "stream",
     "text": [
      "20 .- Scrapeando https://es.besoccer.com/livescore/2022-09-24/5\n",
      "20 .- https://es.besoccer.com/partido/andratx/pe-sant-jordi/2023184987/analisis\n"
     ]
    },
    {
     "name": "stderr",
     "output_type": "stream",
     "text": [
      "C:\\Users\\jesus\\AppData\\Local\\Temp\\ipykernel_18156\\3053211924.py:29: FutureWarning: The frame.append method is deprecated and will be removed from pandas in a future version. Use pandas.concat instead.\n",
      "  df = df.append(obtener_stats(s_link_analisis), ignore_index = True)\n"
     ]
    },
    {
     "name": "stdout",
     "output_type": "stream",
     "text": [
      "21 .- Scrapeando https://es.besoccer.com/livescore/2022-09-24/5\n",
      "21 .- https://es.besoccer.com/partido/lagun-onak/barakaldo-cf/2023272171/analisis\n"
     ]
    },
    {
     "name": "stderr",
     "output_type": "stream",
     "text": [
      "C:\\Users\\jesus\\AppData\\Local\\Temp\\ipykernel_18156\\3053211924.py:29: FutureWarning: The frame.append method is deprecated and will be removed from pandas in a future version. Use pandas.concat instead.\n",
      "  df = df.append(obtener_stats(s_link_analisis), ignore_index = True)\n"
     ]
    },
    {
     "name": "stdout",
     "output_type": "stream",
     "text": [
      "22 .- Scrapeando https://es.besoccer.com/livescore/2022-09-24/5\n",
      "22 .- https://es.besoccer.com/partido/nava-cd/textil-escudo/2023270845/analisis\n"
     ]
    },
    {
     "name": "stderr",
     "output_type": "stream",
     "text": [
      "C:\\Users\\jesus\\AppData\\Local\\Temp\\ipykernel_18156\\3053211924.py:29: FutureWarning: The frame.append method is deprecated and will be removed from pandas in a future version. Use pandas.concat instead.\n",
      "  df = df.append(obtener_stats(s_link_analisis), ignore_index = True)\n"
     ]
    },
    {
     "name": "stdout",
     "output_type": "stream",
     "text": [
      "23 .- Scrapeando https://es.besoccer.com/livescore/2022-09-24/5\n",
      "23 .- https://es.besoccer.com/partido/basconia/deusto/2023272170/analisis\n"
     ]
    },
    {
     "name": "stderr",
     "output_type": "stream",
     "text": [
      "C:\\Users\\jesus\\AppData\\Local\\Temp\\ipykernel_18156\\3053211924.py:29: FutureWarning: The frame.append method is deprecated and will be removed from pandas in a future version. Use pandas.concat instead.\n",
      "  df = df.append(obtener_stats(s_link_analisis), ignore_index = True)\n"
     ]
    },
    {
     "name": "stdout",
     "output_type": "stream",
     "text": [
      "24 .- Scrapeando https://es.besoccer.com/livescore/2022-09-24/5\n",
      "24 .- https://es.besoccer.com/partido/san-ignacio/cd-aurrera-vitoria/2023272168/analisis\n"
     ]
    },
    {
     "name": "stderr",
     "output_type": "stream",
     "text": [
      "C:\\Users\\jesus\\AppData\\Local\\Temp\\ipykernel_18156\\3053211924.py:29: FutureWarning: The frame.append method is deprecated and will be removed from pandas in a future version. Use pandas.concat instead.\n",
      "  df = df.append(obtener_stats(s_link_analisis), ignore_index = True)\n"
     ]
    },
    {
     "name": "stdout",
     "output_type": "stream",
     "text": [
      "25 .- Scrapeando https://es.besoccer.com/livescore/2022-09-24/5\n",
      "25 .- https://es.besoccer.com/partido/llosetense/penya-independent-senior/2023184984/analisis\n"
     ]
    },
    {
     "name": "stderr",
     "output_type": "stream",
     "text": [
      "C:\\Users\\jesus\\AppData\\Local\\Temp\\ipykernel_18156\\3053211924.py:29: FutureWarning: The frame.append method is deprecated and will be removed from pandas in a future version. Use pandas.concat instead.\n",
      "  df = df.append(obtener_stats(s_link_analisis), ignore_index = True)\n"
     ]
    },
    {
     "name": "stdout",
     "output_type": "stream",
     "text": [
      "26 .- Scrapeando https://es.besoccer.com/livescore/2022-09-24/5\n",
      "26 .- https://es.besoccer.com/partido/constancia/manacor/2023184986/analisis\n"
     ]
    },
    {
     "name": "stderr",
     "output_type": "stream",
     "text": [
      "C:\\Users\\jesus\\AppData\\Local\\Temp\\ipykernel_18156\\3053211924.py:29: FutureWarning: The frame.append method is deprecated and will be removed from pandas in a future version. Use pandas.concat instead.\n",
      "  df = df.append(obtener_stats(s_link_analisis), ignore_index = True)\n"
     ]
    },
    {
     "name": "stdout",
     "output_type": "stream",
     "text": [
      "27 .- Scrapeando https://es.besoccer.com/livescore/2022-09-24/5\n",
      "27 .- https://es.besoccer.com/partido/aurrera-ondarroa/urduliz-ft/2023272172/analisis\n",
      "28 .- La url  https://es.besoccer.com/partido/portugalete/cd-padura/2023272166  no tiene sección análisis\n",
      "28 .- 'NoneType' object has no attribute 'find'\n"
     ]
    },
    {
     "name": "stderr",
     "output_type": "stream",
     "text": [
      "C:\\Users\\jesus\\AppData\\Local\\Temp\\ipykernel_18156\\3053211924.py:29: FutureWarning: The frame.append method is deprecated and will be removed from pandas in a future version. Use pandas.concat instead.\n",
      "  df = df.append(obtener_stats(s_link_analisis), ignore_index = True)\n"
     ]
    },
    {
     "name": "stdout",
     "output_type": "stream",
     "text": [
      "29 .- Scrapeando https://es.besoccer.com/livescore/2022-09-24/5\n",
      "29 .- https://es.besoccer.com/partido/union-sur-yaiza/palmas-atletico/2023294390/analisis\n"
     ]
    },
    {
     "name": "stderr",
     "output_type": "stream",
     "text": [
      "C:\\Users\\jesus\\AppData\\Local\\Temp\\ipykernel_18156\\3053211924.py:29: FutureWarning: The frame.append method is deprecated and will be removed from pandas in a future version. Use pandas.concat instead.\n",
      "  df = df.append(obtener_stats(s_link_analisis), ignore_index = True)\n"
     ]
    },
    {
     "name": "stdout",
     "output_type": "stream",
     "text": [
      "30 .- Scrapeando https://es.besoccer.com/livescore/2022-09-24/5\n",
      "30 .- https://es.besoccer.com/partido/maracena/huetor-tajar/2023376569/analisis\n"
     ]
    },
    {
     "name": "stderr",
     "output_type": "stream",
     "text": [
      "C:\\Users\\jesus\\AppData\\Local\\Temp\\ipykernel_18156\\3053211924.py:29: FutureWarning: The frame.append method is deprecated and will be removed from pandas in a future version. Use pandas.concat instead.\n",
      "  df = df.append(obtener_stats(s_link_analisis), ignore_index = True)\n"
     ]
    },
    {
     "name": "stdout",
     "output_type": "stream",
     "text": [
      "31 .- Scrapeando https://es.besoccer.com/livescore/2022-09-24/5\n",
      "31 .- https://es.besoccer.com/partido/ofk-branc/slovan-bratislava/2023277215/analisis\n"
     ]
    },
    {
     "name": "stderr",
     "output_type": "stream",
     "text": [
      "C:\\Users\\jesus\\AppData\\Local\\Temp\\ipykernel_18156\\3053211924.py:29: FutureWarning: The frame.append method is deprecated and will be removed from pandas in a future version. Use pandas.concat instead.\n",
      "  df = df.append(obtener_stats(s_link_analisis), ignore_index = True)\n"
     ]
    },
    {
     "name": "stdout",
     "output_type": "stream",
     "text": [
      "32 .- Scrapeando https://es.besoccer.com/livescore/2022-09-24/5\n",
      "32 .- https://es.besoccer.com/partido/universidad-catolica-ecuador/9-de-octubre/2022366958/analisis\n"
     ]
    },
    {
     "name": "stderr",
     "output_type": "stream",
     "text": [
      "C:\\Users\\jesus\\AppData\\Local\\Temp\\ipykernel_18156\\3053211924.py:29: FutureWarning: The frame.append method is deprecated and will be removed from pandas in a future version. Use pandas.concat instead.\n",
      "  df = df.append(obtener_stats(s_link_analisis), ignore_index = True)\n"
     ]
    },
    {
     "name": "stdout",
     "output_type": "stream",
     "text": [
      "33 .- Scrapeando https://es.besoccer.com/livescore/2022-09-24/5\n",
      "33 .- https://es.besoccer.com/partido/scheveningen/spakenburg/202398628/analisis\n"
     ]
    },
    {
     "name": "stderr",
     "output_type": "stream",
     "text": [
      "C:\\Users\\jesus\\AppData\\Local\\Temp\\ipykernel_18156\\3053211924.py:29: FutureWarning: The frame.append method is deprecated and will be removed from pandas in a future version. Use pandas.concat instead.\n",
      "  df = df.append(obtener_stats(s_link_analisis), ignore_index = True)\n"
     ]
    },
    {
     "name": "stdout",
     "output_type": "stream",
     "text": [
      "34 .- Scrapeando https://es.besoccer.com/livescore/2022-09-24/5\n",
      "34 .- https://es.besoccer.com/partido/excelsior-maasluis/rijnsburgse-boys/202398626/analisis\n"
     ]
    },
    {
     "name": "stderr",
     "output_type": "stream",
     "text": [
      "C:\\Users\\jesus\\AppData\\Local\\Temp\\ipykernel_18156\\3053211924.py:29: FutureWarning: The frame.append method is deprecated and will be removed from pandas in a future version. Use pandas.concat instead.\n",
      "  df = df.append(obtener_stats(s_link_analisis), ignore_index = True)\n"
     ]
    },
    {
     "name": "stdout",
     "output_type": "stream",
     "text": [
      "35 .- Scrapeando https://es.besoccer.com/livescore/2022-09-24/5\n",
      "35 .- https://es.besoccer.com/partido/noordwijk/volendam-sub23/202398627/analisis\n"
     ]
    },
    {
     "name": "stderr",
     "output_type": "stream",
     "text": [
      "C:\\Users\\jesus\\AppData\\Local\\Temp\\ipykernel_18156\\3053211924.py:29: FutureWarning: The frame.append method is deprecated and will be removed from pandas in a future version. Use pandas.concat instead.\n",
      "  df = df.append(obtener_stats(s_link_analisis), ignore_index = True)\n"
     ]
    },
    {
     "name": "stdout",
     "output_type": "stream",
     "text": [
      "36 .- Scrapeando https://es.besoccer.com/livescore/2022-09-24/5\n",
      "36 .- https://es.besoccer.com/partido/ijsselmeervogels/katwijk/202398631/analisis\n"
     ]
    },
    {
     "name": "stderr",
     "output_type": "stream",
     "text": [
      "C:\\Users\\jesus\\AppData\\Local\\Temp\\ipykernel_18156\\3053211924.py:29: FutureWarning: The frame.append method is deprecated and will be removed from pandas in a future version. Use pandas.concat instead.\n",
      "  df = df.append(obtener_stats(s_link_analisis), ignore_index = True)\n"
     ]
    },
    {
     "name": "stdout",
     "output_type": "stream",
     "text": [
      "37 .- Scrapeando https://es.besoccer.com/livescore/2022-09-24/5\n",
      "37 .- https://es.besoccer.com/partido/quick-boys/lisse/202398630/analisis\n"
     ]
    },
    {
     "name": "stderr",
     "output_type": "stream",
     "text": [
      "C:\\Users\\jesus\\AppData\\Local\\Temp\\ipykernel_18156\\3053211924.py:29: FutureWarning: The frame.append method is deprecated and will be removed from pandas in a future version. Use pandas.concat instead.\n",
      "  df = df.append(obtener_stats(s_link_analisis), ignore_index = True)\n"
     ]
    },
    {
     "name": "stdout",
     "output_type": "stream",
     "text": [
      "38 .- Scrapeando https://es.besoccer.com/livescore/2022-09-24/5\n",
      "38 .- https://es.besoccer.com/partido/amsterdamsche-fc/sparta-sub23/202398634/analisis\n"
     ]
    },
    {
     "name": "stderr",
     "output_type": "stream",
     "text": [
      "C:\\Users\\jesus\\AppData\\Local\\Temp\\ipykernel_18156\\3053211924.py:29: FutureWarning: The frame.append method is deprecated and will be removed from pandas in a future version. Use pandas.concat instead.\n",
      "  df = df.append(obtener_stats(s_link_analisis), ignore_index = True)\n"
     ]
    },
    {
     "name": "stdout",
     "output_type": "stream",
     "text": [
      "39 .- Scrapeando https://es.besoccer.com/livescore/2022-09-24/5\n",
      "39 .- https://es.besoccer.com/partido/ofc-oostzaan/kozakken-boys/202398629/analisis\n"
     ]
    },
    {
     "name": "stderr",
     "output_type": "stream",
     "text": [
      "C:\\Users\\jesus\\AppData\\Local\\Temp\\ipykernel_18156\\3053211924.py:29: FutureWarning: The frame.append method is deprecated and will be removed from pandas in a future version. Use pandas.concat instead.\n",
      "  df = df.append(obtener_stats(s_link_analisis), ignore_index = True)\n"
     ]
    },
    {
     "name": "stdout",
     "output_type": "stream",
     "text": [
      "40 .- Scrapeando https://es.besoccer.com/livescore/2022-09-24/5\n",
      "40 .- https://es.besoccer.com/partido/sv-tielse-eendracht-combinatie/hhc/202398632/analisis\n"
     ]
    },
    {
     "name": "stderr",
     "output_type": "stream",
     "text": [
      "C:\\Users\\jesus\\AppData\\Local\\Temp\\ipykernel_18156\\3053211924.py:29: FutureWarning: The frame.append method is deprecated and will be removed from pandas in a future version. Use pandas.concat instead.\n",
      "  df = df.append(obtener_stats(s_link_analisis), ignore_index = True)\n"
     ]
    },
    {
     "name": "stdout",
     "output_type": "stream",
     "text": [
      "41 .- Scrapeando https://es.besoccer.com/livescore/2022-09-24/5\n",
      "41 .- https://es.besoccer.com/partido/treffers/koninklijke-hfc/202398633/analisis\n"
     ]
    },
    {
     "name": "stderr",
     "output_type": "stream",
     "text": [
      "C:\\Users\\jesus\\AppData\\Local\\Temp\\ipykernel_18156\\3053211924.py:29: FutureWarning: The frame.append method is deprecated and will be removed from pandas in a future version. Use pandas.concat instead.\n",
      "  df = df.append(obtener_stats(s_link_analisis), ignore_index = True)\n"
     ]
    },
    {
     "name": "stdout",
     "output_type": "stream",
     "text": [
      "42 .- Scrapeando https://es.besoccer.com/livescore/2022-09-24/5\n",
      "42 .- https://es.besoccer.com/partido/werder-bremen-ii/jeddeloh/2023190294/analisis\n"
     ]
    },
    {
     "name": "stderr",
     "output_type": "stream",
     "text": [
      "C:\\Users\\jesus\\AppData\\Local\\Temp\\ipykernel_18156\\3053211924.py:29: FutureWarning: The frame.append method is deprecated and will be removed from pandas in a future version. Use pandas.concat instead.\n",
      "  df = df.append(obtener_stats(s_link_analisis), ignore_index = True)\n"
     ]
    },
    {
     "name": "stdout",
     "output_type": "stream",
     "text": [
      "43 .- Scrapeando https://es.besoccer.com/livescore/2022-09-24/5\n",
      "43 .- https://es.besoccer.com/partido/greuther-furth-ii/wacker-burghausen/202362019/analisis\n"
     ]
    },
    {
     "name": "stderr",
     "output_type": "stream",
     "text": [
      "C:\\Users\\jesus\\AppData\\Local\\Temp\\ipykernel_18156\\3053211924.py:29: FutureWarning: The frame.append method is deprecated and will be removed from pandas in a future version. Use pandas.concat instead.\n",
      "  df = df.append(obtener_stats(s_link_analisis), ignore_index = True)\n"
     ]
    },
    {
     "name": "stdout",
     "output_type": "stream",
     "text": [
      "44 .- Scrapeando https://es.besoccer.com/livescore/2022-09-24/5\n",
      "44 .- https://es.besoccer.com/partido/nurnberg-ii/buchbach/202362024/analisis\n"
     ]
    },
    {
     "name": "stderr",
     "output_type": "stream",
     "text": [
      "C:\\Users\\jesus\\AppData\\Local\\Temp\\ipykernel_18156\\3053211924.py:29: FutureWarning: The frame.append method is deprecated and will be removed from pandas in a future version. Use pandas.concat instead.\n",
      "  df = df.append(obtener_stats(s_link_analisis), ignore_index = True)\n"
     ]
    },
    {
     "name": "stdout",
     "output_type": "stream",
     "text": [
      "45 .- Scrapeando https://es.besoccer.com/livescore/2022-09-24/5\n",
      "45 .- https://es.besoccer.com/partido/rain-lech/fc-bayern-munchen-ii/202362017/analisis\n"
     ]
    },
    {
     "name": "stderr",
     "output_type": "stream",
     "text": [
      "C:\\Users\\jesus\\AppData\\Local\\Temp\\ipykernel_18156\\3053211924.py:29: FutureWarning: The frame.append method is deprecated and will be removed from pandas in a future version. Use pandas.concat instead.\n",
      "  df = df.append(obtener_stats(s_link_analisis), ignore_index = True)\n"
     ]
    },
    {
     "name": "stdout",
     "output_type": "stream",
     "text": [
      "46 .- Scrapeando https://es.besoccer.com/livescore/2022-09-24/5\n",
      "46 .- https://es.besoccer.com/partido/eichstatt/unterhaching/202362022/analisis\n"
     ]
    },
    {
     "name": "stderr",
     "output_type": "stream",
     "text": [
      "C:\\Users\\jesus\\AppData\\Local\\Temp\\ipykernel_18156\\3053211924.py:29: FutureWarning: The frame.append method is deprecated and will be removed from pandas in a future version. Use pandas.concat instead.\n",
      "  df = df.append(obtener_stats(s_link_analisis), ignore_index = True)\n"
     ]
    },
    {
     "name": "stdout",
     "output_type": "stream",
     "text": [
      "47 .- Scrapeando https://es.besoccer.com/livescore/2022-09-24/5\n",
      "47 .- https://es.besoccer.com/partido/aubstadt/heimstetten/202362018/analisis\n"
     ]
    },
    {
     "name": "stderr",
     "output_type": "stream",
     "text": [
      "C:\\Users\\jesus\\AppData\\Local\\Temp\\ipykernel_18156\\3053211924.py:29: FutureWarning: The frame.append method is deprecated and will be removed from pandas in a future version. Use pandas.concat instead.\n",
      "  df = df.append(obtener_stats(s_link_analisis), ignore_index = True)\n"
     ]
    },
    {
     "name": "stdout",
     "output_type": "stream",
     "text": [
      "48 .- Scrapeando https://es.besoccer.com/livescore/2022-09-24/5\n",
      "48 .- https://es.besoccer.com/partido/turkgucu-ataspor-munchen/vilzing/202362020/analisis\n"
     ]
    },
    {
     "name": "stderr",
     "output_type": "stream",
     "text": [
      "C:\\Users\\jesus\\AppData\\Local\\Temp\\ipykernel_18156\\3053211924.py:29: FutureWarning: The frame.append method is deprecated and will be removed from pandas in a future version. Use pandas.concat instead.\n",
      "  df = df.append(obtener_stats(s_link_analisis), ignore_index = True)\n"
     ]
    },
    {
     "name": "stdout",
     "output_type": "stream",
     "text": [
      "49 .- Scrapeando https://es.besoccer.com/livescore/2022-09-24/5\n",
      "49 .- https://es.besoccer.com/partido/ansbach/viktoria-ascha/202362021/analisis\n"
     ]
    },
    {
     "name": "stderr",
     "output_type": "stream",
     "text": [
      "C:\\Users\\jesus\\AppData\\Local\\Temp\\ipykernel_18156\\3053211924.py:29: FutureWarning: The frame.append method is deprecated and will be removed from pandas in a future version. Use pandas.concat instead.\n",
      "  df = df.append(obtener_stats(s_link_analisis), ignore_index = True)\n"
     ]
    },
    {
     "name": "stdout",
     "output_type": "stream",
     "text": [
      "0 .- Scrapeando https://es.besoccer.com/livescore/2022-09-24/6\n",
      "0 .- https://es.besoccer.com/partido/alemannia-aachen/preuben-munster/2023115525/analisis\n"
     ]
    },
    {
     "name": "stderr",
     "output_type": "stream",
     "text": [
      "C:\\Users\\jesus\\AppData\\Local\\Temp\\ipykernel_18156\\3053211924.py:29: FutureWarning: The frame.append method is deprecated and will be removed from pandas in a future version. Use pandas.concat instead.\n",
      "  df = df.append(obtener_stats(s_link_analisis), ignore_index = True)\n"
     ]
    },
    {
     "name": "stdout",
     "output_type": "stream",
     "text": [
      "1 .- Scrapeando https://es.besoccer.com/livescore/2022-09-24/6\n",
      "1 .- https://es.besoccer.com/partido/wurzburger-kickers/augsburg-ii/202362026/analisis\n"
     ]
    },
    {
     "name": "stderr",
     "output_type": "stream",
     "text": [
      "C:\\Users\\jesus\\AppData\\Local\\Temp\\ipykernel_18156\\3053211924.py:29: FutureWarning: The frame.append method is deprecated and will be removed from pandas in a future version. Use pandas.concat instead.\n",
      "  df = df.append(obtener_stats(s_link_analisis), ignore_index = True)\n"
     ]
    },
    {
     "name": "stdout",
     "output_type": "stream",
     "text": [
      "2 .- Scrapeando https://es.besoccer.com/livescore/2022-09-24/6\n",
      "2 .- https://es.besoccer.com/partido/hessen-kassel/kickers-offenbach/2023115271/analisis\n"
     ]
    },
    {
     "name": "stderr",
     "output_type": "stream",
     "text": [
      "C:\\Users\\jesus\\AppData\\Local\\Temp\\ipykernel_18156\\3053211924.py:29: FutureWarning: The frame.append method is deprecated and will be removed from pandas in a future version. Use pandas.concat instead.\n",
      "  df = df.append(obtener_stats(s_link_analisis), ignore_index = True)\n"
     ]
    },
    {
     "name": "stdout",
     "output_type": "stream",
     "text": [
      "3 .- Scrapeando https://es.besoccer.com/livescore/2022-09-24/6\n",
      "3 .- https://es.besoccer.com/partido/hoffenheim-ii/eintracht-trier/2023115270/analisis\n"
     ]
    },
    {
     "name": "stderr",
     "output_type": "stream",
     "text": [
      "C:\\Users\\jesus\\AppData\\Local\\Temp\\ipykernel_18156\\3053211924.py:29: FutureWarning: The frame.append method is deprecated and will be removed from pandas in a future version. Use pandas.concat instead.\n",
      "  df = df.append(obtener_stats(s_link_analisis), ignore_index = True)\n"
     ]
    },
    {
     "name": "stdout",
     "output_type": "stream",
     "text": [
      "4 .- Scrapeando https://es.besoccer.com/livescore/2022-09-24/6\n",
      "4 .- https://es.besoccer.com/partido/vfr-aalen/ulm/2023115264/analisis\n"
     ]
    },
    {
     "name": "stderr",
     "output_type": "stream",
     "text": [
      "C:\\Users\\jesus\\AppData\\Local\\Temp\\ipykernel_18156\\3053211924.py:29: FutureWarning: The frame.append method is deprecated and will be removed from pandas in a future version. Use pandas.concat instead.\n",
      "  df = df.append(obtener_stats(s_link_analisis), ignore_index = True)\n"
     ]
    },
    {
     "name": "stdout",
     "output_type": "stream",
     "text": [
      "5 .- Scrapeando https://es.besoccer.com/livescore/2022-09-24/6\n",
      "5 .- https://es.besoccer.com/partido/hankofen-hailing/illertissen/202362025/analisis\n"
     ]
    },
    {
     "name": "stderr",
     "output_type": "stream",
     "text": [
      "C:\\Users\\jesus\\AppData\\Local\\Temp\\ipykernel_18156\\3053211924.py:29: FutureWarning: The frame.append method is deprecated and will be removed from pandas in a future version. Use pandas.concat instead.\n",
      "  df = df.append(obtener_stats(s_link_analisis), ignore_index = True)\n"
     ]
    },
    {
     "name": "stdout",
     "output_type": "stream",
     "text": [
      "6 .- Scrapeando https://es.besoccer.com/livescore/2022-09-24/6\n",
      "6 .- https://es.besoccer.com/partido/freiberg/steinbach/2023115267/analisis\n"
     ]
    },
    {
     "name": "stderr",
     "output_type": "stream",
     "text": [
      "C:\\Users\\jesus\\AppData\\Local\\Temp\\ipykernel_18156\\3053211924.py:29: FutureWarning: The frame.append method is deprecated and will be removed from pandas in a future version. Use pandas.concat instead.\n",
      "  df = df.append(obtener_stats(s_link_analisis), ignore_index = True)\n"
     ]
    },
    {
     "name": "stdout",
     "output_type": "stream",
     "text": [
      "7 .- Scrapeando https://es.besoccer.com/livescore/2022-09-24/6\n",
      "7 .- https://es.besoccer.com/partido/barockstadt-fulda-lehnerz/wormatia-worms/2023115269/analisis\n"
     ]
    },
    {
     "name": "stderr",
     "output_type": "stream",
     "text": [
      "C:\\Users\\jesus\\AppData\\Local\\Temp\\ipykernel_18156\\3053211924.py:29: FutureWarning: The frame.append method is deprecated and will be removed from pandas in a future version. Use pandas.concat instead.\n",
      "  df = df.append(obtener_stats(s_link_analisis), ignore_index = True)\n"
     ]
    },
    {
     "name": "stdout",
     "output_type": "stream",
     "text": [
      "8 .- Scrapeando https://es.besoccer.com/livescore/2022-09-24/6\n",
      "8 .- https://es.besoccer.com/partido/tus-rw-koblenz/bahlinger-sc/2023115272/analisis\n"
     ]
    },
    {
     "name": "stderr",
     "output_type": "stream",
     "text": [
      "C:\\Users\\jesus\\AppData\\Local\\Temp\\ipykernel_18156\\3053211924.py:29: FutureWarning: The frame.append method is deprecated and will be removed from pandas in a future version. Use pandas.concat instead.\n",
      "  df = df.append(obtener_stats(s_link_analisis), ignore_index = True)\n"
     ]
    },
    {
     "name": "stdout",
     "output_type": "stream",
     "text": [
      "9 .- Scrapeando https://es.besoccer.com/livescore/2022-09-24/6\n",
      "9 .- https://es.besoccer.com/partido/atlas-delmenhorst/weiche-flensburg/2023190289/analisis\n"
     ]
    },
    {
     "name": "stderr",
     "output_type": "stream",
     "text": [
      "C:\\Users\\jesus\\AppData\\Local\\Temp\\ipykernel_18156\\3053211924.py:29: FutureWarning: The frame.append method is deprecated and will be removed from pandas in a future version. Use pandas.concat instead.\n",
      "  df = df.append(obtener_stats(s_link_analisis), ignore_index = True)\n"
     ]
    },
    {
     "name": "stdout",
     "output_type": "stream",
     "text": [
      "10 .- Scrapeando https://es.besoccer.com/livescore/2022-09-24/6\n",
      "10 .- https://es.besoccer.com/partido/st-pauli-ii/havelse/2023190293/analisis\n"
     ]
    },
    {
     "name": "stderr",
     "output_type": "stream",
     "text": [
      "C:\\Users\\jesus\\AppData\\Local\\Temp\\ipykernel_18156\\3053211924.py:29: FutureWarning: The frame.append method is deprecated and will be removed from pandas in a future version. Use pandas.concat instead.\n",
      "  df = df.append(obtener_stats(s_link_analisis), ignore_index = True)\n"
     ]
    },
    {
     "name": "stdout",
     "output_type": "stream",
     "text": [
      "11 .- Scrapeando https://es.besoccer.com/livescore/2022-09-24/6\n",
      "11 .- https://es.besoccer.com/partido/harkemase-boys/dvs-33/2023114329/analisis\n"
     ]
    },
    {
     "name": "stderr",
     "output_type": "stream",
     "text": [
      "C:\\Users\\jesus\\AppData\\Local\\Temp\\ipykernel_18156\\3053211924.py:29: FutureWarning: The frame.append method is deprecated and will be removed from pandas in a future version. Use pandas.concat instead.\n",
      "  df = df.append(obtener_stats(s_link_analisis), ignore_index = True)\n"
     ]
    },
    {
     "name": "stdout",
     "output_type": "stream",
     "text": [
      "12 .- Scrapeando https://es.besoccer.com/livescore/2022-09-24/6\n",
      "12 .- https://es.besoccer.com/partido/dovo/barendrecht/2023114336/analisis\n"
     ]
    },
    {
     "name": "stderr",
     "output_type": "stream",
     "text": [
      "C:\\Users\\jesus\\AppData\\Local\\Temp\\ipykernel_18156\\3053211924.py:29: FutureWarning: The frame.append method is deprecated and will be removed from pandas in a future version. Use pandas.concat instead.\n",
      "  df = df.append(obtener_stats(s_link_analisis), ignore_index = True)\n"
     ]
    },
    {
     "name": "stdout",
     "output_type": "stream",
     "text": [
      "13 .- Scrapeando https://es.besoccer.com/livescore/2022-09-24/6\n",
      "13 .- https://es.besoccer.com/partido/acv/rijnvogels/2023114335/analisis\n"
     ]
    },
    {
     "name": "stderr",
     "output_type": "stream",
     "text": [
      "C:\\Users\\jesus\\AppData\\Local\\Temp\\ipykernel_18156\\3053211924.py:29: FutureWarning: The frame.append method is deprecated and will be removed from pandas in a future version. Use pandas.concat instead.\n",
      "  df = df.append(obtener_stats(s_link_analisis), ignore_index = True)\n"
     ]
    },
    {
     "name": "stdout",
     "output_type": "stream",
     "text": [
      "14 .- Scrapeando https://es.besoccer.com/livescore/2022-09-24/6\n",
      "14 .- https://es.besoccer.com/partido/vvog/excelsior-31/2023114331/analisis\n"
     ]
    },
    {
     "name": "stderr",
     "output_type": "stream",
     "text": [
      "C:\\Users\\jesus\\AppData\\Local\\Temp\\ipykernel_18156\\3053211924.py:29: FutureWarning: The frame.append method is deprecated and will be removed from pandas in a future version. Use pandas.concat instead.\n",
      "  df = df.append(obtener_stats(s_link_analisis), ignore_index = True)\n"
     ]
    },
    {
     "name": "stdout",
     "output_type": "stream",
     "text": [
      "15 .- Scrapeando https://es.besoccer.com/livescore/2022-09-24/6\n",
      "15 .- https://es.besoccer.com/partido/rkav-volendam/urk/2023114328/analisis\n"
     ]
    },
    {
     "name": "stderr",
     "output_type": "stream",
     "text": [
      "C:\\Users\\jesus\\AppData\\Local\\Temp\\ipykernel_18156\\3053211924.py:29: FutureWarning: The frame.append method is deprecated and will be removed from pandas in a future version. Use pandas.concat instead.\n",
      "  df = df.append(obtener_stats(s_link_analisis), ignore_index = True)\n"
     ]
    },
    {
     "name": "stdout",
     "output_type": "stream",
     "text": [
      "16 .- Scrapeando https://es.besoccer.com/livescore/2022-09-24/6\n",
      "16 .- https://es.besoccer.com/partido/aswh-ido-ambacht/gvvv/2023114330/analisis\n"
     ]
    },
    {
     "name": "stderr",
     "output_type": "stream",
     "text": [
      "C:\\Users\\jesus\\AppData\\Local\\Temp\\ipykernel_18156\\3053211924.py:29: FutureWarning: The frame.append method is deprecated and will be removed from pandas in a future version. Use pandas.concat instead.\n",
      "  df = df.append(obtener_stats(s_link_analisis), ignore_index = True)\n"
     ]
    },
    {
     "name": "stdout",
     "output_type": "stream",
     "text": [
      "17 .- Scrapeando https://es.besoccer.com/livescore/2022-09-24/6\n",
      "17 .- https://es.besoccer.com/partido/sparta-nijkerk/stedoco/2023114333/analisis\n"
     ]
    },
    {
     "name": "stderr",
     "output_type": "stream",
     "text": [
      "C:\\Users\\jesus\\AppData\\Local\\Temp\\ipykernel_18156\\3053211924.py:29: FutureWarning: The frame.append method is deprecated and will be removed from pandas in a future version. Use pandas.concat instead.\n",
      "  df = df.append(obtener_stats(s_link_analisis), ignore_index = True)\n"
     ]
    },
    {
     "name": "stdout",
     "output_type": "stream",
     "text": [
      "18 .- Scrapeando https://es.besoccer.com/livescore/2022-09-24/6\n",
      "18 .- https://es.besoccer.com/partido/ter-leede/staphorst/2023114334/analisis\n"
     ]
    },
    {
     "name": "stderr",
     "output_type": "stream",
     "text": [
      "C:\\Users\\jesus\\AppData\\Local\\Temp\\ipykernel_18156\\3053211924.py:29: FutureWarning: The frame.append method is deprecated and will be removed from pandas in a future version. Use pandas.concat instead.\n",
      "  df = df.append(obtener_stats(s_link_analisis), ignore_index = True)\n"
     ]
    },
    {
     "name": "stdout",
     "output_type": "stream",
     "text": [
      "19 .- Scrapeando https://es.besoccer.com/livescore/2022-09-24/6\n",
      "19 .- https://es.besoccer.com/partido/sportlust-46/hoek/2023114332/analisis\n"
     ]
    },
    {
     "name": "stderr",
     "output_type": "stream",
     "text": [
      "C:\\Users\\jesus\\AppData\\Local\\Temp\\ipykernel_18156\\3053211924.py:29: FutureWarning: The frame.append method is deprecated and will be removed from pandas in a future version. Use pandas.concat instead.\n",
      "  df = df.append(obtener_stats(s_link_analisis), ignore_index = True)\n"
     ]
    },
    {
     "name": "stdout",
     "output_type": "stream",
     "text": [
      "20 .- Scrapeando https://es.besoccer.com/livescore/2022-09-24/6\n",
      "20 .- https://es.besoccer.com/partido/blauw-geel-38/ojc-rosmalen/2023114638/analisis\n"
     ]
    },
    {
     "name": "stderr",
     "output_type": "stream",
     "text": [
      "C:\\Users\\jesus\\AppData\\Local\\Temp\\ipykernel_18156\\3053211924.py:29: FutureWarning: The frame.append method is deprecated and will be removed from pandas in a future version. Use pandas.concat instead.\n",
      "  df = df.append(obtener_stats(s_link_analisis), ignore_index = True)\n"
     ]
    },
    {
     "name": "stdout",
     "output_type": "stream",
     "text": [
      "21 .- Scrapeando https://es.besoccer.com/livescore/2022-09-24/6\n",
      "21 .- https://es.besoccer.com/partido/vvsb/togb/2023114639/analisis\n",
      "22 .- La url  https://es.besoccer.com/partido/banbury-united/scarborough-athletic/2023118174  no tiene sección análisis\n",
      "22 .- list index out of range\n",
      "23 .- La url  https://es.besoccer.com/partido/buxton/chester/2023118175  no tiene sección análisis\n",
      "23 .- list index out of range\n",
      "24 .- La url  https://es.besoccer.com/partido/darlington-fc/peterborough-sports/2023118178  no tiene sección análisis\n",
      "24 .- list index out of range\n",
      "25 .- La url  https://es.besoccer.com/partido/curzon-ashton/king-s-lynn-town/2023118177  no tiene sección análisis\n",
      "25 .- list index out of range\n",
      "26 .- La url  https://es.besoccer.com/partido/chorley-139/gloucester-city/2023118176  no tiene sección análisis\n",
      "26 .- list index out of range\n",
      "27 .- La url  https://es.besoccer.com/partido/kettering-town/kidderminster/2023118181  no tiene sección análisis\n",
      "27 .- list index out of range\n",
      "28 .- La url  https://es.besoccer.com/partido/hereford-fc/blyth-spartans/2023118180  no tiene sección análisis\n",
      "28 .- list index out of range\n",
      "29 .- La url  https://es.besoccer.com/partido/afc-telford-united/boston-united/2023118183  no tiene sección análisis\n",
      "29 .- list index out of range\n",
      "30 .- La url  https://es.besoccer.com/partido/alfreton-town/brackley-town/2023118173  no tiene sección análisis\n",
      "30 .- list index out of range\n",
      "31 .- La url  https://es.besoccer.com/partido/fylde/bradford-park/2023118172  no tiene sección análisis\n",
      "31 .- list index out of range\n",
      "32 .- La url  https://es.besoccer.com/partido/farsley/spennymoor-town/2023118179  no tiene sección análisis\n",
      "32 .- list index out of range\n",
      "33 .- La url  https://es.besoccer.com/partido/southport/leaminon/2023118182  no tiene sección análisis\n",
      "33 .- list index out of range\n",
      "34 .- La url  https://es.besoccer.com/partido/cheshunt/tonbridge-angels/2023118725  no tiene sección análisis\n",
      "34 .- list index out of range\n",
      "35 .- La url  https://es.besoccer.com/partido/hemel-hempstead-town/worthing/2023118730  no tiene sección análisis\n",
      "35 .- list index out of range\n",
      "36 .- La url  https://es.besoccer.com/partido/taunton-town/chelmsford-city/2023118733  no tiene sección análisis\n",
      "36 .- list index out of range\n",
      "37 .- La url  https://es.besoccer.com/partido/farnborough/st-albans-city/2023118729  no tiene sección análisis\n",
      "37 .- list index out of range\n",
      "38 .- La url  https://es.besoccer.com/partido/weymouth/dover-athletic/2023118735  no tiene sección análisis\n",
      "38 .- list index out of range\n",
      "39 .- La url  https://es.besoccer.com/partido/oxford-city/bath-city/2023118732  no tiene sección análisis\n",
      "39 .- list index out of range\n",
      "40 .- La url  https://es.besoccer.com/partido/welling-united/havant-water-hellip/2023118734  no tiene sección análisis\n",
      "40 .- list index out of range\n",
      "41 .- La url  https://es.besoccer.com/partido/hungerford-town/ebbsfleet-united/2023118731  no tiene sección análisis\n",
      "41 .- list index out of range\n",
      "42 .- La url  https://es.besoccer.com/partido/dartford/hampton-richmond/2023118728  no tiene sección análisis\n",
      "42 .- list index out of range\n",
      "43 .- La url  https://es.besoccer.com/partido/braintree-town/slough-town/2023118724  no tiene sección análisis\n",
      "43 .- list index out of range\n",
      "44 .- La url  https://es.besoccer.com/partido/chippenham-town/dulwich-hamlet-fc/2023118726  no tiene sección análisis\n",
      "44 .- list index out of range\n",
      "45 .- La url  https://es.besoccer.com/partido/concord-rangers/eastbourne-borough/2023118727  no tiene sección análisis\n",
      "45 .- list index out of range\n"
     ]
    },
    {
     "name": "stderr",
     "output_type": "stream",
     "text": [
      "C:\\Users\\jesus\\AppData\\Local\\Temp\\ipykernel_18156\\3053211924.py:29: FutureWarning: The frame.append method is deprecated and will be removed from pandas in a future version. Use pandas.concat instead.\n",
      "  df = df.append(obtener_stats(s_link_analisis), ignore_index = True)\n"
     ]
    },
    {
     "name": "stdout",
     "output_type": "stream",
     "text": [
      "46 .- Scrapeando https://es.besoccer.com/livescore/2022-09-24/6\n",
      "46 .- https://es.besoccer.com/partido/sylvia/hammarby-tff/2022353341/analisis\n"
     ]
    },
    {
     "name": "stderr",
     "output_type": "stream",
     "text": [
      "C:\\Users\\jesus\\AppData\\Local\\Temp\\ipykernel_18156\\3053211924.py:29: FutureWarning: The frame.append method is deprecated and will be removed from pandas in a future version. Use pandas.concat instead.\n",
      "  df = df.append(obtener_stats(s_link_analisis), ignore_index = True)\n"
     ]
    },
    {
     "name": "stdout",
     "output_type": "stream",
     "text": [
      "47 .- Scrapeando https://es.besoccer.com/livescore/2022-09-24/6\n",
      "47 .- https://es.besoccer.com/partido/torns/tvaaker/2022353586/analisis\n"
     ]
    },
    {
     "name": "stderr",
     "output_type": "stream",
     "text": [
      "C:\\Users\\jesus\\AppData\\Local\\Temp\\ipykernel_18156\\3053211924.py:29: FutureWarning: The frame.append method is deprecated and will be removed from pandas in a future version. Use pandas.concat instead.\n",
      "  df = df.append(obtener_stats(s_link_analisis), ignore_index = True)\n"
     ]
    },
    {
     "name": "stdout",
     "output_type": "stream",
     "text": [
      "48 .- Scrapeando https://es.besoccer.com/livescore/2022-09-24/6\n",
      "48 .- https://es.besoccer.com/partido/bk-forward/taby/2022353339/analisis\n"
     ]
    },
    {
     "name": "stderr",
     "output_type": "stream",
     "text": [
      "C:\\Users\\jesus\\AppData\\Local\\Temp\\ipykernel_18156\\3053211924.py:29: FutureWarning: The frame.append method is deprecated and will be removed from pandas in a future version. Use pandas.concat instead.\n",
      "  df = df.append(obtener_stats(s_link_analisis), ignore_index = True)\n"
     ]
    },
    {
     "name": "stdout",
     "output_type": "stream",
     "text": [
      "49 .- Scrapeando https://es.besoccer.com/livescore/2022-09-24/6\n",
      "49 .- https://es.besoccer.com/partido/sandvikens-if/haninge/2022353343/analisis\n"
     ]
    },
    {
     "name": "stderr",
     "output_type": "stream",
     "text": [
      "C:\\Users\\jesus\\AppData\\Local\\Temp\\ipykernel_18156\\3053211924.py:29: FutureWarning: The frame.append method is deprecated and will be removed from pandas in a future version. Use pandas.concat instead.\n",
      "  df = df.append(obtener_stats(s_link_analisis), ignore_index = True)\n"
     ]
    },
    {
     "name": "stdout",
     "output_type": "stream",
     "text": [
      "0 .- Scrapeando https://es.besoccer.com/livescore/2022-09-24/7\n",
      "0 .- https://es.besoccer.com/partido/ik-oddevold/atvidaberg/2022353582/analisis\n"
     ]
    },
    {
     "name": "stderr",
     "output_type": "stream",
     "text": [
      "C:\\Users\\jesus\\AppData\\Local\\Temp\\ipykernel_18156\\3053211924.py:29: FutureWarning: The frame.append method is deprecated and will be removed from pandas in a future version. Use pandas.concat instead.\n",
      "  df = df.append(obtener_stats(s_link_analisis), ignore_index = True)\n"
     ]
    },
    {
     "name": "stdout",
     "output_type": "stream",
     "text": [
      "1 .- Scrapeando https://es.besoccer.com/livescore/2022-09-24/7\n",
      "1 .- https://es.besoccer.com/partido/oskarshamns-aik/angelholms-ff/2022353584/analisis\n"
     ]
    },
    {
     "name": "stderr",
     "output_type": "stream",
     "text": [
      "C:\\Users\\jesus\\AppData\\Local\\Temp\\ipykernel_18156\\3053211924.py:29: FutureWarning: The frame.append method is deprecated and will be removed from pandas in a future version. Use pandas.concat instead.\n",
      "  df = df.append(obtener_stats(s_link_analisis), ignore_index = True)\n"
     ]
    },
    {
     "name": "stdout",
     "output_type": "stream",
     "text": [
      "2 .- Scrapeando https://es.besoccer.com/livescore/2022-09-24/7\n",
      "2 .- https://es.besoccer.com/partido/qviding-fif/lunds-bk/2022353585/analisis\n"
     ]
    },
    {
     "name": "stderr",
     "output_type": "stream",
     "text": [
      "C:\\Users\\jesus\\AppData\\Local\\Temp\\ipykernel_18156\\3053211924.py:29: FutureWarning: The frame.append method is deprecated and will be removed from pandas in a future version. Use pandas.concat instead.\n",
      "  df = df.append(obtener_stats(s_link_analisis), ignore_index = True)\n"
     ]
    },
    {
     "name": "stdout",
     "output_type": "stream",
     "text": [
      "3 .- Scrapeando https://es.besoccer.com/livescore/2022-09-24/7\n",
      "3 .- https://es.besoccer.com/partido/bk-olympic/trollhattan-fc/2022353579/analisis\n"
     ]
    },
    {
     "name": "stderr",
     "output_type": "stream",
     "text": [
      "C:\\Users\\jesus\\AppData\\Local\\Temp\\ipykernel_18156\\3053211924.py:29: FutureWarning: The frame.append method is deprecated and will be removed from pandas in a future version. Use pandas.concat instead.\n",
      "  df = df.append(obtener_stats(s_link_analisis), ignore_index = True)\n"
     ]
    },
    {
     "name": "stdout",
     "output_type": "stream",
     "text": [
      "4 .- Scrapeando https://es.besoccer.com/livescore/2022-09-24/7\n",
      "4 .- https://es.besoccer.com/partido/ifk-malmo/vanersborg/2022353581/analisis\n"
     ]
    },
    {
     "name": "stderr",
     "output_type": "stream",
     "text": [
      "C:\\Users\\jesus\\AppData\\Local\\Temp\\ipykernel_18156\\3053211924.py:29: FutureWarning: The frame.append method is deprecated and will be removed from pandas in a future version. Use pandas.concat instead.\n",
      "  df = df.append(obtener_stats(s_link_analisis), ignore_index = True)\n"
     ]
    },
    {
     "name": "stdout",
     "output_type": "stream",
     "text": [
      "5 .- Scrapeando https://es.besoccer.com/livescore/2022-09-24/7\n",
      "5 .- https://es.besoccer.com/partido/fc-chelyabinsk/dinamo-barnaul/2023139017/analisis\n"
     ]
    },
    {
     "name": "stderr",
     "output_type": "stream",
     "text": [
      "C:\\Users\\jesus\\AppData\\Local\\Temp\\ipykernel_18156\\3053211924.py:29: FutureWarning: The frame.append method is deprecated and will be removed from pandas in a future version. Use pandas.concat instead.\n",
      "  df = df.append(obtener_stats(s_link_analisis), ignore_index = True)\n"
     ]
    },
    {
     "name": "stdout",
     "output_type": "stream",
     "text": [
      "6 .- Scrapeando https://es.besoccer.com/livescore/2022-09-24/7\n",
      "6 .- https://es.besoccer.com/partido/ural-ii/irtysh/2023139018/analisis\n"
     ]
    },
    {
     "name": "stderr",
     "output_type": "stream",
     "text": [
      "C:\\Users\\jesus\\AppData\\Local\\Temp\\ipykernel_18156\\3053211924.py:29: FutureWarning: The frame.append method is deprecated and will be removed from pandas in a future version. Use pandas.concat instead.\n",
      "  df = df.append(obtener_stats(s_link_analisis), ignore_index = True)\n"
     ]
    },
    {
     "name": "stdout",
     "output_type": "stream",
     "text": [
      "7 .- Scrapeando https://es.besoccer.com/livescore/2022-09-24/7\n",
      "7 .- https://es.besoccer.com/partido/general-caballero-jlm/guarani/2022520259/analisis\n"
     ]
    },
    {
     "name": "stderr",
     "output_type": "stream",
     "text": [
      "C:\\Users\\jesus\\AppData\\Local\\Temp\\ipykernel_18156\\3053211924.py:29: FutureWarning: The frame.append method is deprecated and will be removed from pandas in a future version. Use pandas.concat instead.\n",
      "  df = df.append(obtener_stats(s_link_analisis), ignore_index = True)\n"
     ]
    },
    {
     "name": "stdout",
     "output_type": "stream",
     "text": [
      "8 .- Scrapeando https://es.besoccer.com/livescore/2022-09-24/7\n",
      "8 .- https://es.besoccer.com/partido/club12octubre/sol-america/2022520261/analisis\n"
     ]
    },
    {
     "name": "stderr",
     "output_type": "stream",
     "text": [
      "C:\\Users\\jesus\\AppData\\Local\\Temp\\ipykernel_18156\\3053211924.py:29: FutureWarning: The frame.append method is deprecated and will be removed from pandas in a future version. Use pandas.concat instead.\n",
      "  df = df.append(obtener_stats(s_link_analisis), ignore_index = True)\n"
     ]
    },
    {
     "name": "stdout",
     "output_type": "stream",
     "text": [
      "9 .- Scrapeando https://es.besoccer.com/livescore/2022-09-24/7\n",
      "9 .- https://es.besoccer.com/partido/blumenthaler-sv/sv-hemelingen/2023259784/analisis\n"
     ]
    },
    {
     "name": "stderr",
     "output_type": "stream",
     "text": [
      "C:\\Users\\jesus\\AppData\\Local\\Temp\\ipykernel_18156\\3053211924.py:29: FutureWarning: The frame.append method is deprecated and will be removed from pandas in a future version. Use pandas.concat instead.\n",
      "  df = df.append(obtener_stats(s_link_analisis), ignore_index = True)\n"
     ]
    },
    {
     "name": "stdout",
     "output_type": "stream",
     "text": [
      "10 .- Scrapeando https://es.besoccer.com/livescore/2022-09-24/7\n",
      "10 .- https://es.besoccer.com/partido/dassendorf/tus-osdorf/2023150115/analisis\n"
     ]
    },
    {
     "name": "stderr",
     "output_type": "stream",
     "text": [
      "C:\\Users\\jesus\\AppData\\Local\\Temp\\ipykernel_18156\\3053211924.py:29: FutureWarning: The frame.append method is deprecated and will be removed from pandas in a future version. Use pandas.concat instead.\n",
      "  df = df.append(obtener_stats(s_link_analisis), ignore_index = True)\n"
     ]
    },
    {
     "name": "stdout",
     "output_type": "stream",
     "text": [
      "11 .- Scrapeando https://es.besoccer.com/livescore/2022-09-24/7\n",
      "11 .- https://es.besoccer.com/partido/werder-bremen-iii/bts-neustadt/2023259783/analisis\n"
     ]
    },
    {
     "name": "stderr",
     "output_type": "stream",
     "text": [
      "C:\\Users\\jesus\\AppData\\Local\\Temp\\ipykernel_18156\\3053211924.py:29: FutureWarning: The frame.append method is deprecated and will be removed from pandas in a future version. Use pandas.concat instead.\n",
      "  df = df.append(obtener_stats(s_link_analisis), ignore_index = True)\n"
     ]
    },
    {
     "name": "stdout",
     "output_type": "stream",
     "text": [
      "12 .- Scrapeando https://es.besoccer.com/livescore/2022-09-24/7\n",
      "12 .- https://es.besoccer.com/partido/feucht-sc/grossbardof/202364755/analisis\n"
     ]
    },
    {
     "name": "stderr",
     "output_type": "stream",
     "text": [
      "C:\\Users\\jesus\\AppData\\Local\\Temp\\ipykernel_18156\\3053211924.py:29: FutureWarning: The frame.append method is deprecated and will be removed from pandas in a future version. Use pandas.concat instead.\n",
      "  df = df.append(obtener_stats(s_link_analisis), ignore_index = True)\n"
     ]
    },
    {
     "name": "stdout",
     "output_type": "stream",
     "text": [
      "13 .- Scrapeando https://es.besoccer.com/livescore/2022-09-24/7\n",
      "13 .- https://es.besoccer.com/partido/bordesholm/tsv-pansdorf/2023149829/analisis\n"
     ]
    },
    {
     "name": "stderr",
     "output_type": "stream",
     "text": [
      "C:\\Users\\jesus\\AppData\\Local\\Temp\\ipykernel_18156\\3053211924.py:29: FutureWarning: The frame.append method is deprecated and will be removed from pandas in a future version. Use pandas.concat instead.\n",
      "  df = df.append(obtener_stats(s_link_analisis), ignore_index = True)\n"
     ]
    },
    {
     "name": "stdout",
     "output_type": "stream",
     "text": [
      "14 .- Scrapeando https://es.besoccer.com/livescore/2022-09-24/7\n",
      "14 .- https://es.besoccer.com/partido/weiche-flensburg-ii/inter-turkspor-kiel/2023149830/analisis\n"
     ]
    },
    {
     "name": "stderr",
     "output_type": "stream",
     "text": [
      "C:\\Users\\jesus\\AppData\\Local\\Temp\\ipykernel_18156\\3053211924.py:29: FutureWarning: The frame.append method is deprecated and will be removed from pandas in a future version. Use pandas.concat instead.\n",
      "  df = df.append(obtener_stats(s_link_analisis), ignore_index = True)\n"
     ]
    },
    {
     "name": "stdout",
     "output_type": "stream",
     "text": [
      "15 .- Scrapeando https://es.besoccer.com/livescore/2022-09-24/7\n",
      "15 .- https://es.besoccer.com/partido/dornbreite-lubeck/lubeck-ii/2023149831/analisis\n"
     ]
    },
    {
     "name": "stderr",
     "output_type": "stream",
     "text": [
      "C:\\Users\\jesus\\AppData\\Local\\Temp\\ipykernel_18156\\3053211924.py:29: FutureWarning: The frame.append method is deprecated and will be removed from pandas in a future version. Use pandas.concat instead.\n",
      "  df = df.append(obtener_stats(s_link_analisis), ignore_index = True)\n"
     ]
    },
    {
     "name": "stdout",
     "output_type": "stream",
     "text": [
      "16 .- Scrapeando https://es.besoccer.com/livescore/2022-09-24/7\n",
      "16 .- https://es.besoccer.com/partido/stuttgarter-kickers/neckarsulmer-su/202377719/analisis\n"
     ]
    },
    {
     "name": "stderr",
     "output_type": "stream",
     "text": [
      "C:\\Users\\jesus\\AppData\\Local\\Temp\\ipykernel_18156\\3053211924.py:29: FutureWarning: The frame.append method is deprecated and will be removed from pandas in a future version. Use pandas.concat instead.\n",
      "  df = df.append(obtener_stats(s_link_analisis), ignore_index = True)\n"
     ]
    },
    {
     "name": "stdout",
     "output_type": "stream",
     "text": [
      "17 .- Scrapeando https://es.besoccer.com/livescore/2022-09-24/7\n",
      "17 .- https://es.besoccer.com/partido/husumer-sv/eichede/2023149833/analisis\n"
     ]
    },
    {
     "name": "stderr",
     "output_type": "stream",
     "text": [
      "C:\\Users\\jesus\\AppData\\Local\\Temp\\ipykernel_18156\\3053211924.py:29: FutureWarning: The frame.append method is deprecated and will be removed from pandas in a future version. Use pandas.concat instead.\n",
      "  df = df.append(obtener_stats(s_link_analisis), ignore_index = True)\n"
     ]
    },
    {
     "name": "stdout",
     "output_type": "stream",
     "text": [
      "18 .- Scrapeando https://es.besoccer.com/livescore/2022-09-24/7\n",
      "18 .- https://es.besoccer.com/partido/tus-kornet-arsten/brinkumer-sv/2023259786/analisis\n"
     ]
    },
    {
     "name": "stderr",
     "output_type": "stream",
     "text": [
      "C:\\Users\\jesus\\AppData\\Local\\Temp\\ipykernel_18156\\3053211924.py:29: FutureWarning: The frame.append method is deprecated and will be removed from pandas in a future version. Use pandas.concat instead.\n",
      "  df = df.append(obtener_stats(s_link_analisis), ignore_index = True)\n"
     ]
    },
    {
     "name": "stdout",
     "output_type": "stream",
     "text": [
      "19 .- Scrapeando https://es.besoccer.com/livescore/2022-09-24/7\n",
      "19 .- https://es.besoccer.com/partido/ismaning/memmingen/2023134747/analisis\n"
     ]
    },
    {
     "name": "stderr",
     "output_type": "stream",
     "text": [
      "C:\\Users\\jesus\\AppData\\Local\\Temp\\ipykernel_18156\\3053211924.py:29: FutureWarning: The frame.append method is deprecated and will be removed from pandas in a future version. Use pandas.concat instead.\n",
      "  df = df.append(obtener_stats(s_link_analisis), ignore_index = True)\n"
     ]
    },
    {
     "name": "stdout",
     "output_type": "stream",
     "text": [
      "20 .- Scrapeando https://es.besoccer.com/livescore/2022-09-24/7\n",
      "20 .- https://es.besoccer.com/partido/teutonia-ws/viktoria-griesheim/2023150464/analisis\n"
     ]
    },
    {
     "name": "stderr",
     "output_type": "stream",
     "text": [
      "C:\\Users\\jesus\\AppData\\Local\\Temp\\ipykernel_18156\\3053211924.py:29: FutureWarning: The frame.append method is deprecated and will be removed from pandas in a future version. Use pandas.concat instead.\n",
      "  df = df.append(obtener_stats(s_link_analisis), ignore_index = True)\n"
     ]
    },
    {
     "name": "stdout",
     "output_type": "stream",
     "text": [
      "21 .- Scrapeando https://es.besoccer.com/livescore/2022-09-24/7\n",
      "21 .- https://es.besoccer.com/partido/heider-sv/sv-frisia-03/2023149832/analisis\n"
     ]
    },
    {
     "name": "stderr",
     "output_type": "stream",
     "text": [
      "C:\\Users\\jesus\\AppData\\Local\\Temp\\ipykernel_18156\\3053211924.py:29: FutureWarning: The frame.append method is deprecated and will be removed from pandas in a future version. Use pandas.concat instead.\n",
      "  df = df.append(obtener_stats(s_link_analisis), ignore_index = True)\n"
     ]
    },
    {
     "name": "stdout",
     "output_type": "stream",
     "text": [
      "22 .- Scrapeando https://es.besoccer.com/livescore/2022-09-24/7\n",
      "22 .- https://es.besoccer.com/partido/tsb-flensburg/kilia-kiel/2023149834/analisis\n"
     ]
    },
    {
     "name": "stderr",
     "output_type": "stream",
     "text": [
      "C:\\Users\\jesus\\AppData\\Local\\Temp\\ipykernel_18156\\3053211924.py:29: FutureWarning: The frame.append method is deprecated and will be removed from pandas in a future version. Use pandas.concat instead.\n",
      "  df = df.append(obtener_stats(s_link_analisis), ignore_index = True)\n"
     ]
    },
    {
     "name": "stdout",
     "output_type": "stream",
     "text": [
      "23 .- Scrapeando https://es.besoccer.com/livescore/2022-09-24/7\n",
      "23 .- https://es.besoccer.com/partido/eintracht-stadtallendorf/bayern-alzenau/2023150465/analisis\n"
     ]
    },
    {
     "name": "stderr",
     "output_type": "stream",
     "text": [
      "C:\\Users\\jesus\\AppData\\Local\\Temp\\ipykernel_18156\\3053211924.py:29: FutureWarning: The frame.append method is deprecated and will be removed from pandas in a future version. Use pandas.concat instead.\n",
      "  df = df.append(obtener_stats(s_link_analisis), ignore_index = True)\n"
     ]
    },
    {
     "name": "stdout",
     "output_type": "stream",
     "text": [
      "24 .- Scrapeando https://es.besoccer.com/livescore/2022-09-24/7\n",
      "24 .- https://es.besoccer.com/partido/eintracht-bamberg/eltersdorf/202364757/analisis\n"
     ]
    },
    {
     "name": "stderr",
     "output_type": "stream",
     "text": [
      "C:\\Users\\jesus\\AppData\\Local\\Temp\\ipykernel_18156\\3053211924.py:29: FutureWarning: The frame.append method is deprecated and will be removed from pandas in a future version. Use pandas.concat instead.\n",
      "  df = df.append(obtener_stats(s_link_analisis), ignore_index = True)\n"
     ]
    },
    {
     "name": "stdout",
     "output_type": "stream",
     "text": [
      "25 .- Scrapeando https://es.besoccer.com/livescore/2022-09-24/7\n",
      "25 .- https://es.besoccer.com/partido/tsg-backnang/cfr-pforzheim/202377722/analisis\n"
     ]
    },
    {
     "name": "stderr",
     "output_type": "stream",
     "text": [
      "C:\\Users\\jesus\\AppData\\Local\\Temp\\ipykernel_18156\\3053211924.py:29: FutureWarning: The frame.append method is deprecated and will be removed from pandas in a future version. Use pandas.concat instead.\n",
      "  df = df.append(obtener_stats(s_link_analisis), ignore_index = True)\n"
     ]
    },
    {
     "name": "stdout",
     "output_type": "stream",
     "text": [
      "26 .- Scrapeando https://es.besoccer.com/livescore/2022-09-24/7\n",
      "26 .- https://es.besoccer.com/partido/schott-mainz/sc-kirchberg/2023150823/analisis\n"
     ]
    },
    {
     "name": "stderr",
     "output_type": "stream",
     "text": [
      "C:\\Users\\jesus\\AppData\\Local\\Temp\\ipykernel_18156\\3053211924.py:29: FutureWarning: The frame.append method is deprecated and will be removed from pandas in a future version. Use pandas.concat instead.\n",
      "  df = df.append(obtener_stats(s_link_analisis), ignore_index = True)\n"
     ]
    },
    {
     "name": "stdout",
     "output_type": "stream",
     "text": [
      "27 .- Scrapeando https://es.besoccer.com/livescore/2022-09-24/7\n",
      "27 .- https://es.besoccer.com/partido/fc-deisenhofen/schwaben-augsburg/2023134745/analisis\n"
     ]
    },
    {
     "name": "stderr",
     "output_type": "stream",
     "text": [
      "C:\\Users\\jesus\\AppData\\Local\\Temp\\ipykernel_18156\\3053211924.py:29: FutureWarning: The frame.append method is deprecated and will be removed from pandas in a future version. Use pandas.concat instead.\n",
      "  df = df.append(obtener_stats(s_link_analisis), ignore_index = True)\n"
     ]
    },
    {
     "name": "stdout",
     "output_type": "stream",
     "text": [
      "28 .- Scrapeando https://es.besoccer.com/livescore/2022-09-24/7\n",
      "28 .- https://es.besoccer.com/partido/dachau/tsv-nordlingen/2023134744/analisis\n"
     ]
    },
    {
     "name": "stderr",
     "output_type": "stream",
     "text": [
      "C:\\Users\\jesus\\AppData\\Local\\Temp\\ipykernel_18156\\3053211924.py:29: FutureWarning: The frame.append method is deprecated and will be removed from pandas in a future version. Use pandas.concat instead.\n",
      "  df = df.append(obtener_stats(s_link_analisis), ignore_index = True)\n"
     ]
    },
    {
     "name": "stdout",
     "output_type": "stream",
     "text": [
      "29 .- Scrapeando https://es.besoccer.com/livescore/2022-09-24/7\n",
      "29 .- https://es.besoccer.com/partido/goppinger-sv/villingen/202377721/analisis\n"
     ]
    },
    {
     "name": "stderr",
     "output_type": "stream",
     "text": [
      "C:\\Users\\jesus\\AppData\\Local\\Temp\\ipykernel_18156\\3053211924.py:29: FutureWarning: The frame.append method is deprecated and will be removed from pandas in a future version. Use pandas.concat instead.\n",
      "  df = df.append(obtener_stats(s_link_analisis), ignore_index = True)\n"
     ]
    },
    {
     "name": "stdout",
     "output_type": "stream",
     "text": [
      "30 .- Scrapeando https://es.besoccer.com/livescore/2022-09-24/7\n",
      "30 .- https://es.besoccer.com/partido/vatan-sport/leher-ts/2023259785/analisis\n"
     ]
    },
    {
     "name": "stderr",
     "output_type": "stream",
     "text": [
      "C:\\Users\\jesus\\AppData\\Local\\Temp\\ipykernel_18156\\3053211924.py:29: FutureWarning: The frame.append method is deprecated and will be removed from pandas in a future version. Use pandas.concat instead.\n",
      "  df = df.append(obtener_stats(s_link_analisis), ignore_index = True)\n"
     ]
    },
    {
     "name": "stdout",
     "output_type": "stream",
     "text": [
      "31 .- Scrapeando https://es.besoccer.com/livescore/2022-09-24/7\n",
      "31 .- https://es.besoccer.com/partido/mechtersheim/hertha-weisbach/2023150831/analisis\n"
     ]
    },
    {
     "name": "stderr",
     "output_type": "stream",
     "text": [
      "C:\\Users\\jesus\\AppData\\Local\\Temp\\ipykernel_18156\\3053211924.py:29: FutureWarning: The frame.append method is deprecated and will be removed from pandas in a future version. Use pandas.concat instead.\n",
      "  df = df.append(obtener_stats(s_link_analisis), ignore_index = True)\n"
     ]
    },
    {
     "name": "stdout",
     "output_type": "stream",
     "text": [
      "32 .- Scrapeando https://es.besoccer.com/livescore/2022-09-24/7\n",
      "32 .- https://es.besoccer.com/partido/freiburger-fc/fsv-hollenbach/202377723/analisis\n"
     ]
    },
    {
     "name": "stderr",
     "output_type": "stream",
     "text": [
      "C:\\Users\\jesus\\AppData\\Local\\Temp\\ipykernel_18156\\3053211924.py:29: FutureWarning: The frame.append method is deprecated and will be removed from pandas in a future version. Use pandas.concat instead.\n",
      "  df = df.append(obtener_stats(s_link_analisis), ignore_index = True)\n"
     ]
    },
    {
     "name": "stdout",
     "output_type": "stream",
     "text": [
      "33 .- Scrapeando https://es.besoccer.com/livescore/2022-09-24/7\n",
      "33 .- https://es.besoccer.com/partido/fc-holzhausen/atsv-mutschelbach/202377724/analisis\n"
     ]
    },
    {
     "name": "stderr",
     "output_type": "stream",
     "text": [
      "C:\\Users\\jesus\\AppData\\Local\\Temp\\ipykernel_18156\\3053211924.py:29: FutureWarning: The frame.append method is deprecated and will be removed from pandas in a future version. Use pandas.concat instead.\n",
      "  df = df.append(obtener_stats(s_link_analisis), ignore_index = True)\n"
     ]
    },
    {
     "name": "stdout",
     "output_type": "stream",
     "text": [
      "34 .- Scrapeando https://es.besoccer.com/livescore/2022-09-24/7\n",
      "34 .- https://es.besoccer.com/partido/oberneuland/ts-woltmershausen/2023259788/analisis\n"
     ]
    },
    {
     "name": "stderr",
     "output_type": "stream",
     "text": [
      "C:\\Users\\jesus\\AppData\\Local\\Temp\\ipykernel_18156\\3053211924.py:29: FutureWarning: The frame.append method is deprecated and will be removed from pandas in a future version. Use pandas.concat instead.\n",
      "  df = df.append(obtener_stats(s_link_analisis), ignore_index = True)\n"
     ]
    },
    {
     "name": "stdout",
     "output_type": "stream",
     "text": [
      "35 .- Scrapeando https://es.besoccer.com/livescore/2022-09-24/7\n",
      "35 .- https://es.besoccer.com/partido/fernwald/sv-neuhof/2023150466/analisis\n"
     ]
    },
    {
     "name": "stderr",
     "output_type": "stream",
     "text": [
      "C:\\Users\\jesus\\AppData\\Local\\Temp\\ipykernel_18156\\3053211924.py:29: FutureWarning: The frame.append method is deprecated and will be removed from pandas in a future version. Use pandas.concat instead.\n",
      "  df = df.append(obtener_stats(s_link_analisis), ignore_index = True)\n"
     ]
    },
    {
     "name": "stdout",
     "output_type": "stream",
     "text": [
      "36 .- Scrapeando https://es.besoccer.com/livescore/2022-09-24/7\n",
      "36 .- https://es.besoccer.com/partido/rot-weib-hadamar/sv-steinbach-1920/2023150467/analisis\n"
     ]
    },
    {
     "name": "stderr",
     "output_type": "stream",
     "text": [
      "C:\\Users\\jesus\\AppData\\Local\\Temp\\ipykernel_18156\\3053211924.py:29: FutureWarning: The frame.append method is deprecated and will be removed from pandas in a future version. Use pandas.concat instead.\n",
      "  df = df.append(obtener_stats(s_link_analisis), ignore_index = True)\n"
     ]
    },
    {
     "name": "stdout",
     "output_type": "stream",
     "text": [
      "37 .- Scrapeando https://es.besoccer.com/livescore/2022-09-24/7\n",
      "37 .- https://es.besoccer.com/partido/sc-waldgirmes-1929/dietkirchen/2023150468/analisis\n"
     ]
    },
    {
     "name": "stderr",
     "output_type": "stream",
     "text": [
      "C:\\Users\\jesus\\AppData\\Local\\Temp\\ipykernel_18156\\3053211924.py:29: FutureWarning: The frame.append method is deprecated and will be removed from pandas in a future version. Use pandas.concat instead.\n",
      "  df = df.append(obtener_stats(s_link_analisis), ignore_index = True)\n"
     ]
    },
    {
     "name": "stdout",
     "output_type": "stream",
     "text": [
      "38 .- Scrapeando https://es.besoccer.com/livescore/2022-09-24/7\n",
      "38 .- https://es.besoccer.com/partido/bayern-hof/weiden/202364759/analisis\n"
     ]
    },
    {
     "name": "stderr",
     "output_type": "stream",
     "text": [
      "C:\\Users\\jesus\\AppData\\Local\\Temp\\ipykernel_18156\\3053211924.py:29: FutureWarning: The frame.append method is deprecated and will be removed from pandas in a future version. Use pandas.concat instead.\n",
      "  df = df.append(obtener_stats(s_link_analisis), ignore_index = True)\n"
     ]
    },
    {
     "name": "stdout",
     "output_type": "stream",
     "text": [
      "39 .- Scrapeando https://es.besoccer.com/livescore/2022-09-24/7\n",
      "39 .- https://es.besoccer.com/partido/osc-bremerhaven/union-bremen/2023259787/analisis\n"
     ]
    },
    {
     "name": "stderr",
     "output_type": "stream",
     "text": [
      "C:\\Users\\jesus\\AppData\\Local\\Temp\\ipykernel_18156\\3053211924.py:29: FutureWarning: The frame.append method is deprecated and will be removed from pandas in a future version. Use pandas.concat instead.\n",
      "  df = df.append(obtener_stats(s_link_analisis), ignore_index = True)\n"
     ]
    },
    {
     "name": "stdout",
     "output_type": "stream",
     "text": [
      "40 .- Scrapeando https://es.besoccer.com/livescore/2022-09-24/7\n",
      "40 .- https://es.besoccer.com/partido/neumarkt/fc-geesdorf/202364758/analisis\n"
     ]
    },
    {
     "name": "stderr",
     "output_type": "stream",
     "text": [
      "C:\\Users\\jesus\\AppData\\Local\\Temp\\ipykernel_18156\\3053211924.py:29: FutureWarning: The frame.append method is deprecated and will be removed from pandas in a future version. Use pandas.concat instead.\n",
      "  df = df.append(obtener_stats(s_link_analisis), ignore_index = True)\n"
     ]
    },
    {
     "name": "stdout",
     "output_type": "stream",
     "text": [
      "41 .- Scrapeando https://es.besoccer.com/livescore/2022-09-24/7\n",
      "41 .- https://es.besoccer.com/partido/kirchanschoring/kottern/2023134748/analisis\n"
     ]
    },
    {
     "name": "stderr",
     "output_type": "stream",
     "text": [
      "C:\\Users\\jesus\\AppData\\Local\\Temp\\ipykernel_18156\\3053211924.py:29: FutureWarning: The frame.append method is deprecated and will be removed from pandas in a future version. Use pandas.concat instead.\n",
      "  df = df.append(obtener_stats(s_link_analisis), ignore_index = True)\n"
     ]
    },
    {
     "name": "stdout",
     "output_type": "stream",
     "text": [
      "42 .- Scrapeando https://es.besoccer.com/livescore/2022-09-24/7\n",
      "42 .- https://es.besoccer.com/partido/reutlingen/1-fc-rielasingen-arlen/202377725/analisis\n"
     ]
    },
    {
     "name": "stderr",
     "output_type": "stream",
     "text": [
      "C:\\Users\\jesus\\AppData\\Local\\Temp\\ipykernel_18156\\3053211924.py:29: FutureWarning: The frame.append method is deprecated and will be removed from pandas in a future version. Use pandas.concat instead.\n",
      "  df = df.append(obtener_stats(s_link_analisis), ignore_index = True)\n"
     ]
    },
    {
     "name": "stdout",
     "output_type": "stream",
     "text": [
      "43 .- Scrapeando https://es.besoccer.com/livescore/2022-09-24/7\n",
      "43 .- https://es.besoccer.com/partido/alemannia-waldalgesheim/engers-07/2023150824/analisis\n"
     ]
    },
    {
     "name": "stderr",
     "output_type": "stream",
     "text": [
      "C:\\Users\\jesus\\AppData\\Local\\Temp\\ipykernel_18156\\3053211924.py:29: FutureWarning: The frame.append method is deprecated and will be removed from pandas in a future version. Use pandas.concat instead.\n",
      "  df = df.append(obtener_stats(s_link_analisis), ignore_index = True)\n"
     ]
    },
    {
     "name": "stdout",
     "output_type": "stream",
     "text": [
      "44 .- Scrapeando https://es.besoccer.com/livescore/2022-09-24/7\n",
      "44 .- https://es.besoccer.com/partido/fsv-jagersburg/dudenhofen/2023150830/analisis\n"
     ]
    },
    {
     "name": "stderr",
     "output_type": "stream",
     "text": [
      "C:\\Users\\jesus\\AppData\\Local\\Temp\\ipykernel_18156\\3053211924.py:29: FutureWarning: The frame.append method is deprecated and will be removed from pandas in a future version. Use pandas.concat instead.\n",
      "  df = df.append(obtener_stats(s_link_analisis), ignore_index = True)\n"
     ]
    },
    {
     "name": "stdout",
     "output_type": "stream",
     "text": [
      "45 .- Scrapeando https://es.besoccer.com/livescore/2022-09-24/7\n",
      "45 .- https://es.besoccer.com/partido/diefflen/elversberg-ii/2023150829/analisis\n"
     ]
    },
    {
     "name": "stderr",
     "output_type": "stream",
     "text": [
      "C:\\Users\\jesus\\AppData\\Local\\Temp\\ipykernel_18156\\3053211924.py:29: FutureWarning: The frame.append method is deprecated and will be removed from pandas in a future version. Use pandas.concat instead.\n",
      "  df = df.append(obtener_stats(s_link_analisis), ignore_index = True)\n"
     ]
    },
    {
     "name": "stdout",
     "output_type": "stream",
     "text": [
      "46 .- Scrapeando https://es.besoccer.com/livescore/2022-09-24/7\n",
      "46 .- https://es.besoccer.com/partido/nottingen/ravensburg/202377727/analisis\n"
     ]
    },
    {
     "name": "stderr",
     "output_type": "stream",
     "text": [
      "C:\\Users\\jesus\\AppData\\Local\\Temp\\ipykernel_18156\\3053211924.py:29: FutureWarning: The frame.append method is deprecated and will be removed from pandas in a future version. Use pandas.concat instead.\n",
      "  df = df.append(obtener_stats(s_link_analisis), ignore_index = True)\n"
     ]
    },
    {
     "name": "stdout",
     "output_type": "stream",
     "text": [
      "47 .- Scrapeando https://es.besoccer.com/livescore/2022-09-24/7\n",
      "47 .- https://es.besoccer.com/partido/bissingen/oberachern/202377726/analisis\n"
     ]
    },
    {
     "name": "stderr",
     "output_type": "stream",
     "text": [
      "C:\\Users\\jesus\\AppData\\Local\\Temp\\ipykernel_18156\\3053211924.py:29: FutureWarning: The frame.append method is deprecated and will be removed from pandas in a future version. Use pandas.concat instead.\n",
      "  df = df.append(obtener_stats(s_link_analisis), ignore_index = True)\n"
     ]
    },
    {
     "name": "stdout",
     "output_type": "stream",
     "text": [
      "48 .- Scrapeando https://es.besoccer.com/livescore/2022-09-24/7\n",
      "48 .- https://es.besoccer.com/partido/wurzburger-fv/tsv-kornburg/202364761/analisis\n"
     ]
    },
    {
     "name": "stderr",
     "output_type": "stream",
     "text": [
      "C:\\Users\\jesus\\AppData\\Local\\Temp\\ipykernel_18156\\3053211924.py:29: FutureWarning: The frame.append method is deprecated and will be removed from pandas in a future version. Use pandas.concat instead.\n",
      "  df = df.append(obtener_stats(s_link_analisis), ignore_index = True)\n"
     ]
    },
    {
     "name": "stdout",
     "output_type": "stream",
     "text": [
      "49 .- Scrapeando https://es.besoccer.com/livescore/2022-09-24/7\n",
      "49 .- https://es.besoccer.com/partido/tsv-abtswind/ammerthal/202364760/analisis\n"
     ]
    },
    {
     "name": "stderr",
     "output_type": "stream",
     "text": [
      "C:\\Users\\jesus\\AppData\\Local\\Temp\\ipykernel_18156\\3053211924.py:29: FutureWarning: The frame.append method is deprecated and will be removed from pandas in a future version. Use pandas.concat instead.\n",
      "  df = df.append(obtener_stats(s_link_analisis), ignore_index = True)\n"
     ]
    },
    {
     "name": "stdout",
     "output_type": "stream",
     "text": [
      "0 .- Scrapeando https://es.besoccer.com/livescore/2022-09-24/8\n",
      "0 .- https://es.besoccer.com/partido/fsv-schoningen/bw-papenburg/202365046/analisis\n"
     ]
    },
    {
     "name": "stderr",
     "output_type": "stream",
     "text": [
      "C:\\Users\\jesus\\AppData\\Local\\Temp\\ipykernel_18156\\3053211924.py:29: FutureWarning: The frame.append method is deprecated and will be removed from pandas in a future version. Use pandas.concat instead.\n",
      "  df = df.append(obtener_stats(s_link_analisis), ignore_index = True)\n"
     ]
    },
    {
     "name": "stdout",
     "output_type": "stream",
     "text": [
      "1 .- Scrapeando https://es.besoccer.com/livescore/2022-09-24/8\n",
      "1 .- https://es.besoccer.com/partido/sv-auersmacher/arminia-ludwigshafen/2023150832/analisis\n"
     ]
    },
    {
     "name": "stderr",
     "output_type": "stream",
     "text": [
      "C:\\Users\\jesus\\AppData\\Local\\Temp\\ipykernel_18156\\3053211924.py:29: FutureWarning: The frame.append method is deprecated and will be removed from pandas in a future version. Use pandas.concat instead.\n",
      "  df = df.append(obtener_stats(s_link_analisis), ignore_index = True)\n"
     ]
    },
    {
     "name": "stdout",
     "output_type": "stream",
     "text": [
      "2 .- Scrapeando https://es.besoccer.com/livescore/2022-09-24/8\n",
      "2 .- https://es.besoccer.com/partido/sportfreunde-eisbachtal/karbach/2023150825/analisis\n"
     ]
    },
    {
     "name": "stderr",
     "output_type": "stream",
     "text": [
      "C:\\Users\\jesus\\AppData\\Local\\Temp\\ipykernel_18156\\3053211924.py:29: FutureWarning: The frame.append method is deprecated and will be removed from pandas in a future version. Use pandas.concat instead.\n",
      "  df = df.append(obtener_stats(s_link_analisis), ignore_index = True)\n"
     ]
    },
    {
     "name": "stdout",
     "output_type": "stream",
     "text": [
      "3 .- Scrapeando https://es.besoccer.com/livescore/2022-09-24/8\n",
      "3 .- https://es.besoccer.com/partido/ft-braunschweig/mtv-eintracht-celle/202365049/analisis\n"
     ]
    },
    {
     "name": "stderr",
     "output_type": "stream",
     "text": [
      "C:\\Users\\jesus\\AppData\\Local\\Temp\\ipykernel_18156\\3053211924.py:29: FutureWarning: The frame.append method is deprecated and will be removed from pandas in a future version. Use pandas.concat instead.\n",
      "  df = df.append(obtener_stats(s_link_analisis), ignore_index = True)\n"
     ]
    },
    {
     "name": "stdout",
     "output_type": "stream",
     "text": [
      "4 .- Scrapeando https://es.besoccer.com/livescore/2022-09-24/8\n",
      "4 .- https://es.besoccer.com/partido/fc-erlensee/sv-adler-weidenhausen/2023150469/analisis\n"
     ]
    },
    {
     "name": "stderr",
     "output_type": "stream",
     "text": [
      "C:\\Users\\jesus\\AppData\\Local\\Temp\\ipykernel_18156\\3053211924.py:29: FutureWarning: The frame.append method is deprecated and will be removed from pandas in a future version. Use pandas.concat instead.\n",
      "  df = df.append(obtener_stats(s_link_analisis), ignore_index = True)\n"
     ]
    },
    {
     "name": "stdout",
     "output_type": "stream",
     "text": [
      "5 .- Scrapeando https://es.besoccer.com/livescore/2022-09-24/8\n",
      "5 .- https://es.besoccer.com/partido/schalding-heining/turkspor-augsburg/2023134749/analisis\n"
     ]
    },
    {
     "name": "stderr",
     "output_type": "stream",
     "text": [
      "C:\\Users\\jesus\\AppData\\Local\\Temp\\ipykernel_18156\\3053211924.py:29: FutureWarning: The frame.append method is deprecated and will be removed from pandas in a future version. Use pandas.concat instead.\n",
      "  df = df.append(obtener_stats(s_link_analisis), ignore_index = True)\n"
     ]
    },
    {
     "name": "stdout",
     "output_type": "stream",
     "text": [
      "6 .- Scrapeando https://es.besoccer.com/livescore/2022-09-24/8\n",
      "6 .- https://es.besoccer.com/partido/turkgucu-friedberg/fc-hanau-93/2023150470/analisis\n"
     ]
    },
    {
     "name": "stderr",
     "output_type": "stream",
     "text": [
      "C:\\Users\\jesus\\AppData\\Local\\Temp\\ipykernel_18156\\3053211924.py:29: FutureWarning: The frame.append method is deprecated and will be removed from pandas in a future version. Use pandas.concat instead.\n",
      "  df = df.append(obtener_stats(s_link_analisis), ignore_index = True)\n"
     ]
    },
    {
     "name": "stdout",
     "output_type": "stream",
     "text": [
      "7 .- Scrapeando https://es.besoccer.com/livescore/2022-09-24/8\n",
      "7 .- https://es.besoccer.com/partido/kfc-uerdingen-05/sc-velbert/2023151293/analisis\n"
     ]
    },
    {
     "name": "stderr",
     "output_type": "stream",
     "text": [
      "C:\\Users\\jesus\\AppData\\Local\\Temp\\ipykernel_18156\\3053211924.py:29: FutureWarning: The frame.append method is deprecated and will be removed from pandas in a future version. Use pandas.concat instead.\n",
      "  df = df.append(obtener_stats(s_link_analisis), ignore_index = True)\n"
     ]
    },
    {
     "name": "stdout",
     "output_type": "stream",
     "text": [
      "8 .- Scrapeando https://es.besoccer.com/livescore/2022-09-24/8\n",
      "8 .- https://es.besoccer.com/partido/ahrweiler-bc/pfeddersheim/2023150826/analisis\n",
      "9 .- La url  https://es.besoccer.com/partido/azerbaiyan-sub-21/kirguizistan-sub21/2022586351  no tiene sección análisis\n",
      "9 .- 'NoneType' object has no attribute 'find'\n",
      "10 .- La url  https://es.besoccer.com/partido/portugal-sub-21/georgia-sub-21/2022596349  no tiene sección análisis\n",
      "10 .- 'NoneType' object has no attribute 'find'\n"
     ]
    },
    {
     "name": "stderr",
     "output_type": "stream",
     "text": [
      "C:\\Users\\jesus\\AppData\\Local\\Temp\\ipykernel_18156\\3053211924.py:29: FutureWarning: The frame.append method is deprecated and will be removed from pandas in a future version. Use pandas.concat instead.\n",
      "  df = df.append(obtener_stats(s_link_analisis), ignore_index = True)\n"
     ]
    },
    {
     "name": "stdout",
     "output_type": "stream",
     "text": [
      "11 .- Scrapeando https://es.besoccer.com/livescore/2022-09-24/8\n",
      "11 .- https://es.besoccer.com/partido/noruega-sub-21/suiza-sub19/2022596377/analisis\n"
     ]
    },
    {
     "name": "stderr",
     "output_type": "stream",
     "text": [
      "C:\\Users\\jesus\\AppData\\Local\\Temp\\ipykernel_18156\\3053211924.py:29: FutureWarning: The frame.append method is deprecated and will be removed from pandas in a future version. Use pandas.concat instead.\n",
      "  df = df.append(obtener_stats(s_link_analisis), ignore_index = True)\n"
     ]
    },
    {
     "name": "stdout",
     "output_type": "stream",
     "text": [
      "12 .- Scrapeando https://es.besoccer.com/livescore/2022-09-24/8\n",
      "12 .- https://es.besoccer.com/partido/belouizdad/mc-alger/2023388377/analisis\n"
     ]
    },
    {
     "name": "stderr",
     "output_type": "stream",
     "text": [
      "C:\\Users\\jesus\\AppData\\Local\\Temp\\ipykernel_18156\\3053211924.py:29: FutureWarning: The frame.append method is deprecated and will be removed from pandas in a future version. Use pandas.concat instead.\n",
      "  df = df.append(obtener_stats(s_link_analisis), ignore_index = True)\n"
     ]
    },
    {
     "name": "stdout",
     "output_type": "stream",
     "text": [
      "13 .- Scrapeando https://es.besoccer.com/livescore/2022-09-24/8\n",
      "13 .- https://es.besoccer.com/partido/chlef/es-setif/2023388376/analisis\n"
     ]
    },
    {
     "name": "stderr",
     "output_type": "stream",
     "text": [
      "C:\\Users\\jesus\\AppData\\Local\\Temp\\ipykernel_18156\\3053211924.py:29: FutureWarning: The frame.append method is deprecated and will be removed from pandas in a future version. Use pandas.concat instead.\n",
      "  df = df.append(obtener_stats(s_link_analisis), ignore_index = True)\n"
     ]
    },
    {
     "name": "stdout",
     "output_type": "stream",
     "text": [
      "14 .- Scrapeando https://es.besoccer.com/livescore/2022-09-24/8\n",
      "14 .- https://es.besoccer.com/partido/usm-alger/paradou/2023388374/analisis\n"
     ]
    },
    {
     "name": "stderr",
     "output_type": "stream",
     "text": [
      "C:\\Users\\jesus\\AppData\\Local\\Temp\\ipykernel_18156\\3053211924.py:29: FutureWarning: The frame.append method is deprecated and will be removed from pandas in a future version. Use pandas.concat instead.\n",
      "  df = df.append(obtener_stats(s_link_analisis), ignore_index = True)\n"
     ]
    },
    {
     "name": "stdout",
     "output_type": "stream",
     "text": [
      "15 .- Scrapeando https://es.besoccer.com/livescore/2022-09-24/8\n",
      "15 .- https://es.besoccer.com/partido/cs-constantine/mc-oran/2023388375/analisis\n"
     ]
    },
    {
     "name": "stderr",
     "output_type": "stream",
     "text": [
      "C:\\Users\\jesus\\AppData\\Local\\Temp\\ipykernel_18156\\3053211924.py:29: FutureWarning: The frame.append method is deprecated and will be removed from pandas in a future version. Use pandas.concat instead.\n",
      "  df = df.append(obtener_stats(s_link_analisis), ignore_index = True)\n"
     ]
    },
    {
     "name": "stdout",
     "output_type": "stream",
     "text": [
      "16 .- Scrapeando https://es.besoccer.com/livescore/2022-09-24/8\n",
      "16 .- https://es.besoccer.com/partido/el-bayadh/kabylie/2023388380/analisis\n"
     ]
    },
    {
     "name": "stderr",
     "output_type": "stream",
     "text": [
      "C:\\Users\\jesus\\AppData\\Local\\Temp\\ipykernel_18156\\3053211924.py:29: FutureWarning: The frame.append method is deprecated and will be removed from pandas in a future version. Use pandas.concat instead.\n",
      "  df = df.append(obtener_stats(s_link_analisis), ignore_index = True)\n"
     ]
    },
    {
     "name": "stdout",
     "output_type": "stream",
     "text": [
      "17 .- Scrapeando https://es.besoccer.com/livescore/2022-09-24/8\n",
      "17 .- https://es.besoccer.com/partido/nc-magra/js-saoura/2023388378/analisis\n"
     ]
    },
    {
     "name": "stderr",
     "output_type": "stream",
     "text": [
      "C:\\Users\\jesus\\AppData\\Local\\Temp\\ipykernel_18156\\3053211924.py:29: FutureWarning: The frame.append method is deprecated and will be removed from pandas in a future version. Use pandas.concat instead.\n",
      "  df = df.append(obtener_stats(s_link_analisis), ignore_index = True)\n"
     ]
    },
    {
     "name": "stdout",
     "output_type": "stream",
     "text": [
      "18 .- Scrapeando https://es.besoccer.com/livescore/2022-09-24/8\n",
      "18 .- https://es.besoccer.com/partido/usm-khenchela/hb-chelgoum-laid/2023388381/analisis\n"
     ]
    },
    {
     "name": "stderr",
     "output_type": "stream",
     "text": [
      "C:\\Users\\jesus\\AppData\\Local\\Temp\\ipykernel_18156\\3053211924.py:29: FutureWarning: The frame.append method is deprecated and will be removed from pandas in a future version. Use pandas.concat instead.\n",
      "  df = df.append(obtener_stats(s_link_analisis), ignore_index = True)\n"
     ]
    },
    {
     "name": "stdout",
     "output_type": "stream",
     "text": [
      "19 .- Scrapeando https://es.besoccer.com/livescore/2022-09-24/8\n",
      "19 .- https://es.besoccer.com/partido/rc-arbaa/us-biskra/2023388379/analisis\n"
     ]
    },
    {
     "name": "stderr",
     "output_type": "stream",
     "text": [
      "C:\\Users\\jesus\\AppData\\Local\\Temp\\ipykernel_18156\\3053211924.py:29: FutureWarning: The frame.append method is deprecated and will be removed from pandas in a future version. Use pandas.concat instead.\n",
      "  df = df.append(obtener_stats(s_link_analisis), ignore_index = True)\n"
     ]
    },
    {
     "name": "stdout",
     "output_type": "stream",
     "text": [
      "20 .- Scrapeando https://es.besoccer.com/livescore/2022-09-24/8\n",
      "20 .- https://es.besoccer.com/partido/san-francisco-fc/costa-del-este/2022524492/analisis\n"
     ]
    },
    {
     "name": "stderr",
     "output_type": "stream",
     "text": [
      "C:\\Users\\jesus\\AppData\\Local\\Temp\\ipykernel_18156\\3053211924.py:29: FutureWarning: The frame.append method is deprecated and will be removed from pandas in a future version. Use pandas.concat instead.\n",
      "  df = df.append(obtener_stats(s_link_analisis), ignore_index = True)\n"
     ]
    },
    {
     "name": "stdout",
     "output_type": "stream",
     "text": [
      "21 .- Scrapeando https://es.besoccer.com/livescore/2022-09-24/8\n",
      "21 .- https://es.besoccer.com/partido/independiente-de-la-chorrera/sporting-san-miguelito/2022524494/analisis\n"
     ]
    },
    {
     "name": "stderr",
     "output_type": "stream",
     "text": [
      "C:\\Users\\jesus\\AppData\\Local\\Temp\\ipykernel_18156\\3053211924.py:29: FutureWarning: The frame.append method is deprecated and will be removed from pandas in a future version. Use pandas.concat instead.\n",
      "  df = df.append(obtener_stats(s_link_analisis), ignore_index = True)\n"
     ]
    },
    {
     "name": "stdout",
     "output_type": "stream",
     "text": [
      "22 .- Scrapeando https://es.besoccer.com/livescore/2022-09-24/8\n",
      "22 .- https://es.besoccer.com/partido/bb-ankaraspor/somaspor/2023110051/analisis\n"
     ]
    },
    {
     "name": "stderr",
     "output_type": "stream",
     "text": [
      "C:\\Users\\jesus\\AppData\\Local\\Temp\\ipykernel_18156\\3053211924.py:29: FutureWarning: The frame.append method is deprecated and will be removed from pandas in a future version. Use pandas.concat instead.\n",
      "  df = df.append(obtener_stats(s_link_analisis), ignore_index = True)\n"
     ]
    },
    {
     "name": "stdout",
     "output_type": "stream",
     "text": [
      "23 .- Scrapeando https://es.besoccer.com/livescore/2022-09-24/8\n",
      "23 .- https://es.besoccer.com/partido/inegolspor/ispartaspor-kulubu/2023110055/analisis\n"
     ]
    },
    {
     "name": "stderr",
     "output_type": "stream",
     "text": [
      "C:\\Users\\jesus\\AppData\\Local\\Temp\\ipykernel_18156\\3053211924.py:29: FutureWarning: The frame.append method is deprecated and will be removed from pandas in a future version. Use pandas.concat instead.\n",
      "  df = df.append(obtener_stats(s_link_analisis), ignore_index = True)\n"
     ]
    },
    {
     "name": "stdout",
     "output_type": "stream",
     "text": [
      "24 .- Scrapeando https://es.besoccer.com/livescore/2022-09-24/8\n",
      "24 .- https://es.besoccer.com/partido/usakspor/kocaelispor/2023110404/analisis\n"
     ]
    },
    {
     "name": "stderr",
     "output_type": "stream",
     "text": [
      "C:\\Users\\jesus\\AppData\\Local\\Temp\\ipykernel_18156\\3053211924.py:29: FutureWarning: The frame.append method is deprecated and will be removed from pandas in a future version. Use pandas.concat instead.\n",
      "  df = df.append(obtener_stats(s_link_analisis), ignore_index = True)\n"
     ]
    },
    {
     "name": "stdout",
     "output_type": "stream",
     "text": [
      "25 .- Scrapeando https://es.besoccer.com/livescore/2022-09-24/8\n",
      "25 .- https://es.besoccer.com/partido/erokspor/nazilli-belediyespor/2023110054/analisis\n"
     ]
    },
    {
     "name": "stderr",
     "output_type": "stream",
     "text": [
      "C:\\Users\\jesus\\AppData\\Local\\Temp\\ipykernel_18156\\3053211924.py:29: FutureWarning: The frame.append method is deprecated and will be removed from pandas in a future version. Use pandas.concat instead.\n",
      "  df = df.append(obtener_stats(s_link_analisis), ignore_index = True)\n"
     ]
    },
    {
     "name": "stdout",
     "output_type": "stream",
     "text": [
      "26 .- Scrapeando https://es.besoccer.com/livescore/2022-09-24/8\n",
      "26 .- https://es.besoccer.com/partido/balikesirspor/ankara-demirspor/2023110398/analisis\n",
      "27 .- La url  https://es.besoccer.com/partido/columbus-crew-ii/rochester-rhinos/2022607834  no tiene sección análisis\n",
      "27 .- list index out of range\n",
      "28 .- La url  https://es.besoccer.com/partido/winchester-city/hendon/2023240736  no tiene sección análisis\n",
      "28 .- list index out of range\n",
      "29 .- La url  https://es.besoccer.com/partido/hartley-wintney/plymouth-parkway/2023240729  no tiene sección análisis\n",
      "29 .- list index out of range\n",
      "30 .- La url  https://es.besoccer.com/partido/alvechurch-fc/leiston/2023238231  no tiene sección análisis\n",
      "30 .- list index out of range\n",
      "31 .- La url  https://es.besoccer.com/partido/tiverton-town-gb/metropolitan-police/2023240734  no tiene sección análisis\n",
      "31 .- list index out of range\n",
      "32 .- La url  https://es.besoccer.com/partido/harrow-borough-fc/north-leigh/2023240728  no tiene sección análisis\n",
      "32 .- list index out of range\n",
      "33 .- La url  https://es.besoccer.com/partido/chesham-united/merthyr-town/2023240726  no tiene sección análisis\n",
      "33 .- list index out of range\n",
      "34 .- La url  https://es.besoccer.com/partido/stourbridge/hitchin-town/2023238239  no tiene sección análisis\n",
      "34 .- list index out of range\n",
      "35 .- La url  https://es.besoccer.com/partido/swindon-supermarine/beaconsfield-sycob/2023240733  no tiene sección análisis\n",
      "35 .- list index out of range\n",
      "36 .- La url  https://es.besoccer.com/partido/needham-market/mickleover-sports-fc/2023238236  no tiene sección análisis\n",
      "36 .- list index out of range\n",
      "37 .- La url  https://es.besoccer.com/partido/bromsgrove-sporting/basford-united/2023238234  no tiene sección análisis\n",
      "37 .- list index out of range\n",
      "38 .- La url  https://es.besoccer.com/partido/rushall-olympic/royston-town/2023238237  no tiene sección análisis\n",
      "38 .- list index out of range\n",
      "39 .- La url  https://es.besoccer.com/partido/coalville-town-fc/hednesford-town/2023238235  no tiene sección análisis\n",
      "39 .- list index out of range\n",
      "40 .- La url  https://es.besoccer.com/partido/salisbury-city/bracknell-town-fc/2023240732  no tiene sección análisis\n",
      "40 .- list index out of range\n",
      "41 .- La url  https://es.besoccer.com/partido/barwell/rushden-and-diamonds/2023238232  no tiene sección análisis\n",
      "41 .- list index out of range\n",
      "42 .- La url  https://es.besoccer.com/partido/poole-town/yate-town/2023240731  no tiene sección análisis\n",
      "42 .- list index out of range\n",
      "43 .- La url  https://es.besoccer.com/partido/tamworth/kings-langley/2023238241  no tiene sección análisis\n",
      "43 .- list index out of range\n",
      "44 .- La url  https://es.besoccer.com/partido/st-ives-town/redditch-united/2023238238  no tiene sección análisis\n",
      "44 .- list index out of range\n",
      "45 .- La url  https://es.besoccer.com/partido/hanwell-town/dorchester-town/2023240727  no tiene sección análisis\n",
      "45 .- list index out of range\n",
      "46 .- La url  https://es.besoccer.com/partido/stratford-town/nuneaton-town/2023238240  no tiene sección análisis\n",
      "46 .- list index out of range\n",
      "47 .- La url  https://es.besoccer.com/partido/bedford-town/ilkeston-gb/2023238233  no tiene sección análisis\n",
      "47 .- list index out of range\n",
      "48 .- La url  https://es.besoccer.com/partido/hayes-y-yeading-united/weston-super-mare/2023240730  no tiene sección análisis\n",
      "48 .- list index out of range\n",
      "49 .- La url  https://es.besoccer.com/partido/truro-city/gosport-borough/2023240735  no tiene sección análisis\n",
      "49 .- list index out of range\n"
     ]
    }
   ],
   "source": [
    "#url = input('Introduce la url a scrapear: ')\n",
    "#url = 'https://es.besoccer.com/livescore/2022-09-21'\n",
    "\n",
    "urlppal = 'https://es.besoccer.com/livescore/2022-09-24'\n",
    "for i in range(1,9):\n",
    "    url = urlppal+f'/{i}'\n",
    "    besoccer = requests.get(url)\n",
    "    besoccer.status_code\n",
    "    s_besoccer = BeautifulSoup(besoccer.text, 'lxml')\n",
    "    matches = s_besoccer.find('div', attrs={'class':'matches'}).select('a[href*=\"/partido/\"]')\n",
    "    [match.text for match in matches] \n",
    "    try:\n",
    "        match = matches[0]\n",
    "        match.get('href')\n",
    "    except Exception as e:\n",
    "        print('No hay más partidos que analizar')\n",
    "\n",
    "    links_matches = [match.get('href') for match in matches]\n",
    "    for i in range(len(links_matches)):\n",
    "        list_analisis = []\n",
    "        r_match = requests.get(links_matches[i])\n",
    "        s_match = BeautifulSoup(r_match.text, 'lxml')\n",
    "        find_analisis = s_match.find('div', attrs={'class':'menu-scroll'}).select('a[href*=\"analisis\"]')\n",
    "        try:\n",
    "            analisis = find_analisis[0]\n",
    "            link_analisis = analisis.get('href')\n",
    "            r_link_analisis = requests.get(link_analisis)\n",
    "            s_link_analisis = BeautifulSoup(r_link_analisis.text, 'lxml')\n",
    "            df = df.append(obtener_stats(s_link_analisis), ignore_index = True)\n",
    "            print(i,'.- Scrapeando',url)\n",
    "            print(i,'.-', link_analisis)\n",
    "        except Exception as e:\n",
    "            print(i,'.- La url ',links_matches[i],' no tiene sección análisis')\n",
    "            print(i,'.-',e)\n",
    "i += 1\n"
   ]
  },
  {
   "cell_type": "code",
   "execution_count": 8,
   "id": "51815ab1",
   "metadata": {},
   "outputs": [],
   "source": [
    "df.to_csv('matches.csv', header = False)"
   ]
  },
  {
   "cell_type": "code",
   "execution_count": 7,
   "id": "e37117f5",
   "metadata": {},
   "outputs": [
    {
     "data": {
      "text/html": [
       "<style type=\"text/css\">\n",
       "#T_2c363_row0_col0, #T_2c363_row0_col1, #T_2c363_row0_col2, #T_2c363_row0_col3, #T_2c363_row0_col4, #T_2c363_row0_col5, #T_2c363_row0_col6, #T_2c363_row0_col7, #T_2c363_row0_col8, #T_2c363_row1_col0, #T_2c363_row1_col1, #T_2c363_row1_col2, #T_2c363_row1_col3, #T_2c363_row1_col4, #T_2c363_row1_col5, #T_2c363_row1_col6, #T_2c363_row1_col7, #T_2c363_row1_col8, #T_2c363_row2_col0, #T_2c363_row2_col1, #T_2c363_row2_col2, #T_2c363_row2_col3, #T_2c363_row2_col4, #T_2c363_row2_col5, #T_2c363_row2_col6, #T_2c363_row2_col7, #T_2c363_row2_col8, #T_2c363_row3_col0, #T_2c363_row3_col1, #T_2c363_row3_col2, #T_2c363_row3_col3, #T_2c363_row3_col4, #T_2c363_row3_col5, #T_2c363_row3_col6, #T_2c363_row3_col7, #T_2c363_row3_col8, #T_2c363_row4_col0, #T_2c363_row4_col1, #T_2c363_row4_col2, #T_2c363_row4_col3, #T_2c363_row4_col4, #T_2c363_row4_col5, #T_2c363_row4_col6, #T_2c363_row4_col7, #T_2c363_row4_col8, #T_2c363_row5_col0, #T_2c363_row5_col1, #T_2c363_row5_col2, #T_2c363_row5_col3, #T_2c363_row5_col4, #T_2c363_row5_col5, #T_2c363_row5_col6, #T_2c363_row5_col7, #T_2c363_row5_col8, #T_2c363_row6_col0, #T_2c363_row6_col1, #T_2c363_row6_col2, #T_2c363_row6_col3, #T_2c363_row6_col4, #T_2c363_row6_col5, #T_2c363_row6_col6, #T_2c363_row6_col7, #T_2c363_row6_col8, #T_2c363_row7_col0, #T_2c363_row7_col1, #T_2c363_row7_col2, #T_2c363_row7_col3, #T_2c363_row7_col4, #T_2c363_row7_col5, #T_2c363_row7_col6, #T_2c363_row7_col7, #T_2c363_row7_col8, #T_2c363_row8_col0, #T_2c363_row8_col1, #T_2c363_row8_col2, #T_2c363_row8_col3, #T_2c363_row8_col4, #T_2c363_row8_col5, #T_2c363_row8_col6, #T_2c363_row8_col7, #T_2c363_row8_col8, #T_2c363_row9_col0, #T_2c363_row9_col1, #T_2c363_row9_col2, #T_2c363_row9_col3, #T_2c363_row9_col4, #T_2c363_row9_col5, #T_2c363_row9_col6, #T_2c363_row9_col7, #T_2c363_row9_col8, #T_2c363_row10_col0, #T_2c363_row10_col1, #T_2c363_row10_col2, #T_2c363_row10_col3, #T_2c363_row10_col4, #T_2c363_row10_col5, #T_2c363_row10_col6, #T_2c363_row10_col7, #T_2c363_row10_col8, #T_2c363_row11_col0, #T_2c363_row11_col1, #T_2c363_row11_col2, #T_2c363_row11_col3, #T_2c363_row11_col4, #T_2c363_row11_col5, #T_2c363_row11_col6, #T_2c363_row11_col7, #T_2c363_row11_col8, #T_2c363_row12_col0, #T_2c363_row12_col1, #T_2c363_row12_col2, #T_2c363_row12_col3, #T_2c363_row12_col4, #T_2c363_row12_col5, #T_2c363_row12_col6, #T_2c363_row12_col7, #T_2c363_row12_col8, #T_2c363_row13_col0, #T_2c363_row13_col1, #T_2c363_row13_col2, #T_2c363_row13_col3, #T_2c363_row13_col4, #T_2c363_row13_col5, #T_2c363_row13_col6, #T_2c363_row13_col7, #T_2c363_row13_col8, #T_2c363_row14_col0, #T_2c363_row14_col1, #T_2c363_row14_col2, #T_2c363_row14_col3, #T_2c363_row14_col4, #T_2c363_row14_col5, #T_2c363_row14_col6, #T_2c363_row14_col7, #T_2c363_row14_col8, #T_2c363_row15_col0, #T_2c363_row15_col1, #T_2c363_row15_col2, #T_2c363_row15_col3, #T_2c363_row15_col4, #T_2c363_row15_col5, #T_2c363_row15_col6, #T_2c363_row15_col7, #T_2c363_row15_col8, #T_2c363_row16_col0, #T_2c363_row16_col1, #T_2c363_row16_col2, #T_2c363_row16_col3, #T_2c363_row16_col4, #T_2c363_row16_col5, #T_2c363_row16_col6, #T_2c363_row16_col7, #T_2c363_row16_col8, #T_2c363_row17_col0, #T_2c363_row17_col1, #T_2c363_row17_col2, #T_2c363_row17_col3, #T_2c363_row17_col4, #T_2c363_row17_col5, #T_2c363_row17_col6, #T_2c363_row17_col7, #T_2c363_row17_col8, #T_2c363_row18_col0, #T_2c363_row18_col1, #T_2c363_row18_col2, #T_2c363_row18_col3, #T_2c363_row18_col4, #T_2c363_row18_col5, #T_2c363_row18_col6, #T_2c363_row18_col7, #T_2c363_row18_col8, #T_2c363_row19_col0, #T_2c363_row19_col1, #T_2c363_row19_col2, #T_2c363_row19_col3, #T_2c363_row19_col4, #T_2c363_row19_col5, #T_2c363_row19_col6, #T_2c363_row19_col7, #T_2c363_row19_col8, #T_2c363_row20_col0, #T_2c363_row20_col1, #T_2c363_row20_col2, #T_2c363_row20_col3, #T_2c363_row20_col4, #T_2c363_row20_col5, #T_2c363_row20_col6, #T_2c363_row20_col7, #T_2c363_row20_col8, #T_2c363_row21_col0, #T_2c363_row21_col1, #T_2c363_row21_col2, #T_2c363_row21_col3, #T_2c363_row21_col4, #T_2c363_row21_col5, #T_2c363_row21_col6, #T_2c363_row21_col7, #T_2c363_row21_col8, #T_2c363_row22_col0, #T_2c363_row22_col1, #T_2c363_row22_col2, #T_2c363_row22_col3, #T_2c363_row22_col4, #T_2c363_row22_col5, #T_2c363_row22_col6, #T_2c363_row22_col7, #T_2c363_row22_col8, #T_2c363_row23_col0, #T_2c363_row23_col1, #T_2c363_row23_col2, #T_2c363_row23_col3, #T_2c363_row23_col4, #T_2c363_row23_col5, #T_2c363_row23_col6, #T_2c363_row23_col7, #T_2c363_row23_col8, #T_2c363_row24_col0, #T_2c363_row24_col1, #T_2c363_row24_col2, #T_2c363_row24_col3, #T_2c363_row24_col4, #T_2c363_row24_col5, #T_2c363_row24_col6, #T_2c363_row24_col7, #T_2c363_row24_col8, #T_2c363_row25_col0, #T_2c363_row25_col1, #T_2c363_row25_col2, #T_2c363_row25_col3, #T_2c363_row25_col4, #T_2c363_row25_col5, #T_2c363_row25_col6, #T_2c363_row25_col7, #T_2c363_row25_col8, #T_2c363_row26_col0, #T_2c363_row26_col1, #T_2c363_row26_col2, #T_2c363_row26_col3, #T_2c363_row26_col4, #T_2c363_row26_col5, #T_2c363_row26_col6, #T_2c363_row26_col7, #T_2c363_row26_col8, #T_2c363_row27_col0, #T_2c363_row27_col1, #T_2c363_row27_col2, #T_2c363_row27_col3, #T_2c363_row27_col4, #T_2c363_row27_col5, #T_2c363_row27_col6, #T_2c363_row27_col7, #T_2c363_row27_col8, #T_2c363_row28_col0, #T_2c363_row28_col1, #T_2c363_row28_col2, #T_2c363_row28_col3, #T_2c363_row28_col4, #T_2c363_row28_col5, #T_2c363_row28_col6, #T_2c363_row28_col7, #T_2c363_row28_col8, #T_2c363_row29_col0, #T_2c363_row29_col1, #T_2c363_row29_col2, #T_2c363_row29_col3, #T_2c363_row29_col4, #T_2c363_row29_col5, #T_2c363_row29_col6, #T_2c363_row29_col7, #T_2c363_row29_col8, #T_2c363_row30_col0, #T_2c363_row30_col1, #T_2c363_row30_col2, #T_2c363_row30_col3, #T_2c363_row30_col4, #T_2c363_row30_col5, #T_2c363_row30_col6, #T_2c363_row30_col7, #T_2c363_row30_col8, #T_2c363_row31_col0, #T_2c363_row31_col1, #T_2c363_row31_col2, #T_2c363_row31_col3, #T_2c363_row31_col4, #T_2c363_row31_col5, #T_2c363_row31_col6, #T_2c363_row31_col7, #T_2c363_row31_col8, #T_2c363_row32_col0, #T_2c363_row32_col1, #T_2c363_row32_col2, #T_2c363_row32_col3, #T_2c363_row32_col4, #T_2c363_row32_col5, #T_2c363_row32_col6, #T_2c363_row32_col7, #T_2c363_row32_col8, #T_2c363_row33_col0, #T_2c363_row33_col1, #T_2c363_row33_col2, #T_2c363_row33_col3, #T_2c363_row33_col4, #T_2c363_row33_col5, #T_2c363_row33_col6, #T_2c363_row33_col7, #T_2c363_row33_col8, #T_2c363_row34_col0, #T_2c363_row34_col1, #T_2c363_row34_col2, #T_2c363_row34_col3, #T_2c363_row34_col4, #T_2c363_row34_col5, #T_2c363_row34_col6, #T_2c363_row34_col7, #T_2c363_row34_col8, #T_2c363_row35_col0, #T_2c363_row35_col1, #T_2c363_row35_col2, #T_2c363_row35_col3, #T_2c363_row35_col4, #T_2c363_row35_col5, #T_2c363_row35_col6, #T_2c363_row35_col7, #T_2c363_row35_col8, #T_2c363_row36_col0, #T_2c363_row36_col1, #T_2c363_row36_col2, #T_2c363_row36_col3, #T_2c363_row36_col4, #T_2c363_row36_col5, #T_2c363_row36_col6, #T_2c363_row36_col7, #T_2c363_row36_col8, #T_2c363_row37_col0, #T_2c363_row37_col1, #T_2c363_row37_col2, #T_2c363_row37_col3, #T_2c363_row37_col4, #T_2c363_row37_col5, #T_2c363_row37_col6, #T_2c363_row37_col7, #T_2c363_row37_col8, #T_2c363_row38_col0, #T_2c363_row38_col1, #T_2c363_row38_col2, #T_2c363_row38_col3, #T_2c363_row38_col4, #T_2c363_row38_col5, #T_2c363_row38_col6, #T_2c363_row38_col7, #T_2c363_row38_col8, #T_2c363_row39_col0, #T_2c363_row39_col1, #T_2c363_row39_col2, #T_2c363_row39_col3, #T_2c363_row39_col4, #T_2c363_row39_col5, #T_2c363_row39_col6, #T_2c363_row39_col7, #T_2c363_row39_col8, #T_2c363_row40_col0, #T_2c363_row40_col1, #T_2c363_row40_col2, #T_2c363_row40_col3, #T_2c363_row40_col4, #T_2c363_row40_col5, #T_2c363_row40_col6, #T_2c363_row40_col7, #T_2c363_row40_col8, #T_2c363_row41_col0, #T_2c363_row41_col1, #T_2c363_row41_col2, #T_2c363_row41_col3, #T_2c363_row41_col4, #T_2c363_row41_col5, #T_2c363_row41_col6, #T_2c363_row41_col7, #T_2c363_row41_col8, #T_2c363_row42_col0, #T_2c363_row42_col1, #T_2c363_row42_col2, #T_2c363_row42_col3, #T_2c363_row42_col4, #T_2c363_row42_col5, #T_2c363_row42_col6, #T_2c363_row42_col7, #T_2c363_row42_col8, #T_2c363_row43_col0, #T_2c363_row43_col1, #T_2c363_row43_col2, #T_2c363_row43_col3, #T_2c363_row43_col4, #T_2c363_row43_col5, #T_2c363_row43_col6, #T_2c363_row43_col7, #T_2c363_row43_col8, #T_2c363_row44_col0, #T_2c363_row44_col1, #T_2c363_row44_col2, #T_2c363_row44_col3, #T_2c363_row44_col4, #T_2c363_row44_col5, #T_2c363_row44_col6, #T_2c363_row44_col7, #T_2c363_row44_col8, #T_2c363_row45_col0, #T_2c363_row45_col1, #T_2c363_row45_col2, #T_2c363_row45_col3, #T_2c363_row45_col4, #T_2c363_row45_col5, #T_2c363_row45_col6, #T_2c363_row45_col7, #T_2c363_row45_col8, #T_2c363_row46_col0, #T_2c363_row46_col1, #T_2c363_row46_col2, #T_2c363_row46_col3, #T_2c363_row46_col4, #T_2c363_row46_col5, #T_2c363_row46_col6, #T_2c363_row46_col7, #T_2c363_row46_col8, #T_2c363_row47_col0, #T_2c363_row47_col1, #T_2c363_row47_col2, #T_2c363_row47_col3, #T_2c363_row47_col4, #T_2c363_row47_col5, #T_2c363_row47_col6, #T_2c363_row47_col7, #T_2c363_row47_col8, #T_2c363_row48_col0, #T_2c363_row48_col1, #T_2c363_row48_col2, #T_2c363_row48_col3, #T_2c363_row48_col4, #T_2c363_row48_col5, #T_2c363_row48_col6, #T_2c363_row48_col7, #T_2c363_row48_col8, #T_2c363_row49_col0, #T_2c363_row49_col1, #T_2c363_row49_col2, #T_2c363_row49_col3, #T_2c363_row49_col4, #T_2c363_row49_col5, #T_2c363_row49_col6, #T_2c363_row49_col7, #T_2c363_row49_col8, #T_2c363_row50_col0, #T_2c363_row50_col1, #T_2c363_row50_col2, #T_2c363_row50_col3, #T_2c363_row50_col4, #T_2c363_row50_col5, #T_2c363_row50_col6, #T_2c363_row50_col7, #T_2c363_row50_col8, #T_2c363_row51_col0, #T_2c363_row51_col1, #T_2c363_row51_col2, #T_2c363_row51_col3, #T_2c363_row51_col4, #T_2c363_row51_col5, #T_2c363_row51_col6, #T_2c363_row51_col7, #T_2c363_row51_col8, #T_2c363_row52_col0, #T_2c363_row52_col1, #T_2c363_row52_col2, #T_2c363_row52_col3, #T_2c363_row52_col4, #T_2c363_row52_col5, #T_2c363_row52_col6, #T_2c363_row52_col7, #T_2c363_row52_col8, #T_2c363_row53_col0, #T_2c363_row53_col1, #T_2c363_row53_col2, #T_2c363_row53_col3, #T_2c363_row53_col4, #T_2c363_row53_col5, #T_2c363_row53_col6, #T_2c363_row53_col7, #T_2c363_row53_col8, #T_2c363_row54_col0, #T_2c363_row54_col1, #T_2c363_row54_col2, #T_2c363_row54_col3, #T_2c363_row54_col4, #T_2c363_row54_col5, #T_2c363_row54_col6, #T_2c363_row54_col7, #T_2c363_row54_col8, #T_2c363_row55_col0, #T_2c363_row55_col1, #T_2c363_row55_col2, #T_2c363_row55_col3, #T_2c363_row55_col4, #T_2c363_row55_col5, #T_2c363_row55_col6, #T_2c363_row55_col7, #T_2c363_row55_col8, #T_2c363_row56_col0, #T_2c363_row56_col1, #T_2c363_row56_col2, #T_2c363_row56_col3, #T_2c363_row56_col4, #T_2c363_row56_col5, #T_2c363_row56_col6, #T_2c363_row56_col7, #T_2c363_row56_col8, #T_2c363_row57_col0, #T_2c363_row57_col1, #T_2c363_row57_col2, #T_2c363_row57_col3, #T_2c363_row57_col4, #T_2c363_row57_col5, #T_2c363_row57_col6, #T_2c363_row57_col7, #T_2c363_row57_col8, #T_2c363_row58_col0, #T_2c363_row58_col1, #T_2c363_row58_col2, #T_2c363_row58_col3, #T_2c363_row58_col4, #T_2c363_row58_col5, #T_2c363_row58_col6, #T_2c363_row58_col7, #T_2c363_row58_col8, #T_2c363_row59_col0, #T_2c363_row59_col1, #T_2c363_row59_col2, #T_2c363_row59_col3, #T_2c363_row59_col4, #T_2c363_row59_col5, #T_2c363_row59_col6, #T_2c363_row59_col7, #T_2c363_row59_col8, #T_2c363_row60_col0, #T_2c363_row60_col1, #T_2c363_row60_col2, #T_2c363_row60_col3, #T_2c363_row60_col4, #T_2c363_row60_col5, #T_2c363_row60_col6, #T_2c363_row60_col7, #T_2c363_row60_col8, #T_2c363_row61_col0, #T_2c363_row61_col1, #T_2c363_row61_col2, #T_2c363_row61_col3, #T_2c363_row61_col4, #T_2c363_row61_col5, #T_2c363_row61_col6, #T_2c363_row61_col7, #T_2c363_row61_col8, #T_2c363_row62_col0, #T_2c363_row62_col1, #T_2c363_row62_col2, #T_2c363_row62_col3, #T_2c363_row62_col4, #T_2c363_row62_col5, #T_2c363_row62_col6, #T_2c363_row62_col7, #T_2c363_row62_col8, #T_2c363_row63_col0, #T_2c363_row63_col1, #T_2c363_row63_col2, #T_2c363_row63_col3, #T_2c363_row63_col4, #T_2c363_row63_col5, #T_2c363_row63_col6, #T_2c363_row63_col7, #T_2c363_row63_col8, #T_2c363_row64_col0, #T_2c363_row64_col1, #T_2c363_row64_col2, #T_2c363_row64_col3, #T_2c363_row64_col4, #T_2c363_row64_col5, #T_2c363_row64_col6, #T_2c363_row64_col7, #T_2c363_row64_col8, #T_2c363_row65_col0, #T_2c363_row65_col1, #T_2c363_row65_col2, #T_2c363_row65_col3, #T_2c363_row65_col4, #T_2c363_row65_col5, #T_2c363_row65_col6, #T_2c363_row65_col7, #T_2c363_row65_col8, #T_2c363_row66_col0, #T_2c363_row66_col1, #T_2c363_row66_col2, #T_2c363_row66_col3, #T_2c363_row66_col4, #T_2c363_row66_col5, #T_2c363_row66_col6, #T_2c363_row66_col7, #T_2c363_row66_col8, #T_2c363_row67_col0, #T_2c363_row67_col1, #T_2c363_row67_col2, #T_2c363_row67_col3, #T_2c363_row67_col4, #T_2c363_row67_col5, #T_2c363_row67_col6, #T_2c363_row67_col7, #T_2c363_row67_col8, #T_2c363_row68_col0, #T_2c363_row68_col1, #T_2c363_row68_col2, #T_2c363_row68_col3, #T_2c363_row68_col4, #T_2c363_row68_col5, #T_2c363_row68_col6, #T_2c363_row68_col7, #T_2c363_row68_col8, #T_2c363_row69_col0, #T_2c363_row69_col1, #T_2c363_row69_col2, #T_2c363_row69_col3, #T_2c363_row69_col4, #T_2c363_row69_col5, #T_2c363_row69_col6, #T_2c363_row69_col7, #T_2c363_row69_col8, #T_2c363_row70_col0, #T_2c363_row70_col1, #T_2c363_row70_col2, #T_2c363_row70_col3, #T_2c363_row70_col4, #T_2c363_row70_col5, #T_2c363_row70_col6, #T_2c363_row70_col7, #T_2c363_row70_col8, #T_2c363_row71_col0, #T_2c363_row71_col1, #T_2c363_row71_col2, #T_2c363_row71_col3, #T_2c363_row71_col4, #T_2c363_row71_col5, #T_2c363_row71_col6, #T_2c363_row71_col7, #T_2c363_row71_col8, #T_2c363_row72_col0, #T_2c363_row72_col1, #T_2c363_row72_col2, #T_2c363_row72_col3, #T_2c363_row72_col4, #T_2c363_row72_col5, #T_2c363_row72_col6, #T_2c363_row72_col7, #T_2c363_row72_col8, #T_2c363_row73_col0, #T_2c363_row73_col1, #T_2c363_row73_col2, #T_2c363_row73_col3, #T_2c363_row73_col4, #T_2c363_row73_col5, #T_2c363_row73_col6, #T_2c363_row73_col7, #T_2c363_row73_col8, #T_2c363_row74_col0, #T_2c363_row74_col1, #T_2c363_row74_col2, #T_2c363_row74_col3, #T_2c363_row74_col4, #T_2c363_row74_col5, #T_2c363_row74_col6, #T_2c363_row74_col7, #T_2c363_row74_col8, #T_2c363_row75_col0, #T_2c363_row75_col1, #T_2c363_row75_col2, #T_2c363_row75_col3, #T_2c363_row75_col4, #T_2c363_row75_col5, #T_2c363_row75_col6, #T_2c363_row75_col7, #T_2c363_row75_col8, #T_2c363_row76_col0, #T_2c363_row76_col1, #T_2c363_row76_col2, #T_2c363_row76_col3, #T_2c363_row76_col4, #T_2c363_row76_col5, #T_2c363_row76_col6, #T_2c363_row76_col7, #T_2c363_row76_col8, #T_2c363_row77_col0, #T_2c363_row77_col1, #T_2c363_row77_col2, #T_2c363_row77_col3, #T_2c363_row77_col4, #T_2c363_row77_col5, #T_2c363_row77_col6, #T_2c363_row77_col7, #T_2c363_row77_col8, #T_2c363_row78_col0, #T_2c363_row78_col1, #T_2c363_row78_col2, #T_2c363_row78_col3, #T_2c363_row78_col4, #T_2c363_row78_col5, #T_2c363_row78_col6, #T_2c363_row78_col7, #T_2c363_row78_col8, #T_2c363_row79_col0, #T_2c363_row79_col1, #T_2c363_row79_col2, #T_2c363_row79_col3, #T_2c363_row79_col4, #T_2c363_row79_col5, #T_2c363_row79_col6, #T_2c363_row79_col7, #T_2c363_row79_col8, #T_2c363_row80_col0, #T_2c363_row80_col1, #T_2c363_row80_col2, #T_2c363_row80_col3, #T_2c363_row80_col4, #T_2c363_row80_col5, #T_2c363_row80_col6, #T_2c363_row80_col7, #T_2c363_row80_col8, #T_2c363_row81_col0, #T_2c363_row81_col1, #T_2c363_row81_col2, #T_2c363_row81_col3, #T_2c363_row81_col4, #T_2c363_row81_col5, #T_2c363_row81_col6, #T_2c363_row81_col7, #T_2c363_row81_col8, #T_2c363_row82_col0, #T_2c363_row82_col1, #T_2c363_row82_col2, #T_2c363_row82_col3, #T_2c363_row82_col4, #T_2c363_row82_col5, #T_2c363_row82_col6, #T_2c363_row82_col7, #T_2c363_row82_col8, #T_2c363_row83_col0, #T_2c363_row83_col1, #T_2c363_row83_col2, #T_2c363_row83_col3, #T_2c363_row83_col4, #T_2c363_row83_col5, #T_2c363_row83_col6, #T_2c363_row83_col7, #T_2c363_row83_col8, #T_2c363_row84_col0, #T_2c363_row84_col1, #T_2c363_row84_col2, #T_2c363_row84_col3, #T_2c363_row84_col4, #T_2c363_row84_col5, #T_2c363_row84_col6, #T_2c363_row84_col7, #T_2c363_row84_col8, #T_2c363_row85_col0, #T_2c363_row85_col1, #T_2c363_row85_col2, #T_2c363_row85_col3, #T_2c363_row85_col4, #T_2c363_row85_col5, #T_2c363_row85_col6, #T_2c363_row85_col7, #T_2c363_row85_col8, #T_2c363_row86_col0, #T_2c363_row86_col1, #T_2c363_row86_col2, #T_2c363_row86_col3, #T_2c363_row86_col4, #T_2c363_row86_col5, #T_2c363_row86_col6, #T_2c363_row86_col7, #T_2c363_row86_col8, #T_2c363_row87_col0, #T_2c363_row87_col1, #T_2c363_row87_col2, #T_2c363_row87_col3, #T_2c363_row87_col4, #T_2c363_row87_col5, #T_2c363_row87_col6, #T_2c363_row87_col7, #T_2c363_row87_col8, #T_2c363_row88_col0, #T_2c363_row88_col1, #T_2c363_row88_col2, #T_2c363_row88_col3, #T_2c363_row88_col4, #T_2c363_row88_col5, #T_2c363_row88_col6, #T_2c363_row88_col7, #T_2c363_row88_col8, #T_2c363_row89_col0, #T_2c363_row89_col1, #T_2c363_row89_col2, #T_2c363_row89_col3, #T_2c363_row89_col4, #T_2c363_row89_col5, #T_2c363_row89_col6, #T_2c363_row89_col7, #T_2c363_row89_col8, #T_2c363_row90_col0, #T_2c363_row90_col1, #T_2c363_row90_col2, #T_2c363_row90_col3, #T_2c363_row90_col4, #T_2c363_row90_col5, #T_2c363_row90_col6, #T_2c363_row90_col7, #T_2c363_row90_col8, #T_2c363_row91_col0, #T_2c363_row91_col1, #T_2c363_row91_col2, #T_2c363_row91_col3, #T_2c363_row91_col4, #T_2c363_row91_col5, #T_2c363_row91_col6, #T_2c363_row91_col7, #T_2c363_row91_col8, #T_2c363_row92_col0, #T_2c363_row92_col1, #T_2c363_row92_col2, #T_2c363_row92_col3, #T_2c363_row92_col4, #T_2c363_row92_col5, #T_2c363_row92_col6, #T_2c363_row92_col7, #T_2c363_row92_col8, #T_2c363_row93_col0, #T_2c363_row93_col1, #T_2c363_row93_col2, #T_2c363_row93_col3, #T_2c363_row93_col4, #T_2c363_row93_col5, #T_2c363_row93_col6, #T_2c363_row93_col7, #T_2c363_row93_col8, #T_2c363_row94_col0, #T_2c363_row94_col1, #T_2c363_row94_col2, #T_2c363_row94_col3, #T_2c363_row94_col4, #T_2c363_row94_col5, #T_2c363_row94_col6, #T_2c363_row94_col7, #T_2c363_row94_col8, #T_2c363_row95_col0, #T_2c363_row95_col1, #T_2c363_row95_col2, #T_2c363_row95_col3, #T_2c363_row95_col4, #T_2c363_row95_col5, #T_2c363_row95_col6, #T_2c363_row95_col7, #T_2c363_row95_col8, #T_2c363_row96_col0, #T_2c363_row96_col1, #T_2c363_row96_col2, #T_2c363_row96_col3, #T_2c363_row96_col4, #T_2c363_row96_col5, #T_2c363_row96_col6, #T_2c363_row96_col7, #T_2c363_row96_col8, #T_2c363_row97_col0, #T_2c363_row97_col1, #T_2c363_row97_col2, #T_2c363_row97_col3, #T_2c363_row97_col4, #T_2c363_row97_col5, #T_2c363_row97_col6, #T_2c363_row97_col7, #T_2c363_row97_col8, #T_2c363_row98_col0, #T_2c363_row98_col1, #T_2c363_row98_col2, #T_2c363_row98_col3, #T_2c363_row98_col4, #T_2c363_row98_col5, #T_2c363_row98_col6, #T_2c363_row98_col7, #T_2c363_row98_col8, #T_2c363_row99_col0, #T_2c363_row99_col1, #T_2c363_row99_col2, #T_2c363_row99_col3, #T_2c363_row99_col4, #T_2c363_row99_col5, #T_2c363_row99_col6, #T_2c363_row99_col7, #T_2c363_row99_col8, #T_2c363_row100_col0, #T_2c363_row100_col1, #T_2c363_row100_col2, #T_2c363_row100_col3, #T_2c363_row100_col4, #T_2c363_row100_col5, #T_2c363_row100_col6, #T_2c363_row100_col7, #T_2c363_row100_col8, #T_2c363_row101_col0, #T_2c363_row101_col1, #T_2c363_row101_col2, #T_2c363_row101_col3, #T_2c363_row101_col4, #T_2c363_row101_col5, #T_2c363_row101_col6, #T_2c363_row101_col7, #T_2c363_row101_col8, #T_2c363_row102_col0, #T_2c363_row102_col1, #T_2c363_row102_col2, #T_2c363_row102_col3, #T_2c363_row102_col4, #T_2c363_row102_col5, #T_2c363_row102_col6, #T_2c363_row102_col7, #T_2c363_row102_col8, #T_2c363_row103_col0, #T_2c363_row103_col1, #T_2c363_row103_col2, #T_2c363_row103_col3, #T_2c363_row103_col4, #T_2c363_row103_col5, #T_2c363_row103_col6, #T_2c363_row103_col7, #T_2c363_row103_col8, #T_2c363_row104_col0, #T_2c363_row104_col1, #T_2c363_row104_col2, #T_2c363_row104_col3, #T_2c363_row104_col4, #T_2c363_row104_col5, #T_2c363_row104_col6, #T_2c363_row104_col7, #T_2c363_row104_col8, #T_2c363_row105_col0, #T_2c363_row105_col1, #T_2c363_row105_col2, #T_2c363_row105_col3, #T_2c363_row105_col4, #T_2c363_row105_col5, #T_2c363_row105_col6, #T_2c363_row105_col7, #T_2c363_row105_col8, #T_2c363_row106_col0, #T_2c363_row106_col1, #T_2c363_row106_col2, #T_2c363_row106_col3, #T_2c363_row106_col4, #T_2c363_row106_col5, #T_2c363_row106_col6, #T_2c363_row106_col7, #T_2c363_row106_col8, #T_2c363_row107_col0, #T_2c363_row107_col1, #T_2c363_row107_col2, #T_2c363_row107_col3, #T_2c363_row107_col4, #T_2c363_row107_col5, #T_2c363_row107_col6, #T_2c363_row107_col7, #T_2c363_row107_col8, #T_2c363_row108_col0, #T_2c363_row108_col1, #T_2c363_row108_col2, #T_2c363_row108_col3, #T_2c363_row108_col4, #T_2c363_row108_col5, #T_2c363_row108_col6, #T_2c363_row108_col7, #T_2c363_row108_col8, #T_2c363_row109_col0, #T_2c363_row109_col1, #T_2c363_row109_col2, #T_2c363_row109_col3, #T_2c363_row109_col4, #T_2c363_row109_col5, #T_2c363_row109_col6, #T_2c363_row109_col7, #T_2c363_row109_col8, #T_2c363_row110_col0, #T_2c363_row110_col1, #T_2c363_row110_col2, #T_2c363_row110_col3, #T_2c363_row110_col4, #T_2c363_row110_col5, #T_2c363_row110_col6, #T_2c363_row110_col7, #T_2c363_row110_col8, #T_2c363_row111_col0, #T_2c363_row111_col1, #T_2c363_row111_col2, #T_2c363_row111_col3, #T_2c363_row111_col4, #T_2c363_row111_col5, #T_2c363_row111_col6, #T_2c363_row111_col7, #T_2c363_row111_col8, #T_2c363_row112_col0, #T_2c363_row112_col1, #T_2c363_row112_col2, #T_2c363_row112_col3, #T_2c363_row112_col4, #T_2c363_row112_col5, #T_2c363_row112_col6, #T_2c363_row112_col7, #T_2c363_row112_col8, #T_2c363_row113_col0, #T_2c363_row113_col1, #T_2c363_row113_col2, #T_2c363_row113_col3, #T_2c363_row113_col4, #T_2c363_row113_col5, #T_2c363_row113_col6, #T_2c363_row113_col7, #T_2c363_row113_col8, #T_2c363_row114_col0, #T_2c363_row114_col1, #T_2c363_row114_col2, #T_2c363_row114_col3, #T_2c363_row114_col4, #T_2c363_row114_col5, #T_2c363_row114_col6, #T_2c363_row114_col7, #T_2c363_row114_col8, #T_2c363_row115_col0, #T_2c363_row115_col1, #T_2c363_row115_col2, #T_2c363_row115_col3, #T_2c363_row115_col4, #T_2c363_row115_col5, #T_2c363_row115_col6, #T_2c363_row115_col7, #T_2c363_row115_col8, #T_2c363_row116_col0, #T_2c363_row116_col1, #T_2c363_row116_col2, #T_2c363_row116_col3, #T_2c363_row116_col4, #T_2c363_row116_col5, #T_2c363_row116_col6, #T_2c363_row116_col7, #T_2c363_row116_col8, #T_2c363_row117_col0, #T_2c363_row117_col1, #T_2c363_row117_col2, #T_2c363_row117_col3, #T_2c363_row117_col4, #T_2c363_row117_col5, #T_2c363_row117_col6, #T_2c363_row117_col7, #T_2c363_row117_col8, #T_2c363_row118_col0, #T_2c363_row118_col1, #T_2c363_row118_col2, #T_2c363_row118_col3, #T_2c363_row118_col4, #T_2c363_row118_col5, #T_2c363_row118_col6, #T_2c363_row118_col7, #T_2c363_row118_col8, #T_2c363_row119_col0, #T_2c363_row119_col1, #T_2c363_row119_col2, #T_2c363_row119_col3, #T_2c363_row119_col4, #T_2c363_row119_col5, #T_2c363_row119_col6, #T_2c363_row119_col7, #T_2c363_row119_col8, #T_2c363_row120_col0, #T_2c363_row120_col1, #T_2c363_row120_col2, #T_2c363_row120_col3, #T_2c363_row120_col4, #T_2c363_row120_col5, #T_2c363_row120_col6, #T_2c363_row120_col7, #T_2c363_row120_col8, #T_2c363_row121_col0, #T_2c363_row121_col1, #T_2c363_row121_col2, #T_2c363_row121_col3, #T_2c363_row121_col4, #T_2c363_row121_col5, #T_2c363_row121_col6, #T_2c363_row121_col7, #T_2c363_row121_col8, #T_2c363_row122_col0, #T_2c363_row122_col1, #T_2c363_row122_col2, #T_2c363_row122_col3, #T_2c363_row122_col4, #T_2c363_row122_col5, #T_2c363_row122_col6, #T_2c363_row122_col7, #T_2c363_row122_col8, #T_2c363_row123_col0, #T_2c363_row123_col1, #T_2c363_row123_col2, #T_2c363_row123_col3, #T_2c363_row123_col4, #T_2c363_row123_col5, #T_2c363_row123_col6, #T_2c363_row123_col7, #T_2c363_row123_col8, #T_2c363_row124_col0, #T_2c363_row124_col1, #T_2c363_row124_col2, #T_2c363_row124_col3, #T_2c363_row124_col4, #T_2c363_row124_col5, #T_2c363_row124_col6, #T_2c363_row124_col7, #T_2c363_row124_col8, #T_2c363_row125_col0, #T_2c363_row125_col1, #T_2c363_row125_col2, #T_2c363_row125_col3, #T_2c363_row125_col4, #T_2c363_row125_col5, #T_2c363_row125_col6, #T_2c363_row125_col7, #T_2c363_row125_col8, #T_2c363_row126_col0, #T_2c363_row126_col1, #T_2c363_row126_col2, #T_2c363_row126_col3, #T_2c363_row126_col4, #T_2c363_row126_col5, #T_2c363_row126_col6, #T_2c363_row126_col7, #T_2c363_row126_col8, #T_2c363_row127_col0, #T_2c363_row127_col1, #T_2c363_row127_col2, #T_2c363_row127_col3, #T_2c363_row127_col4, #T_2c363_row127_col5, #T_2c363_row127_col6, #T_2c363_row127_col7, #T_2c363_row127_col8, #T_2c363_row128_col0, #T_2c363_row128_col1, #T_2c363_row128_col2, #T_2c363_row128_col3, #T_2c363_row128_col4, #T_2c363_row128_col5, #T_2c363_row128_col6, #T_2c363_row128_col7, #T_2c363_row128_col8, #T_2c363_row129_col0, #T_2c363_row129_col1, #T_2c363_row129_col2, #T_2c363_row129_col3, #T_2c363_row129_col4, #T_2c363_row129_col5, #T_2c363_row129_col6, #T_2c363_row129_col7, #T_2c363_row129_col8, #T_2c363_row130_col0, #T_2c363_row130_col1, #T_2c363_row130_col2, #T_2c363_row130_col3, #T_2c363_row130_col4, #T_2c363_row130_col5, #T_2c363_row130_col6, #T_2c363_row130_col7, #T_2c363_row130_col8, #T_2c363_row131_col0, #T_2c363_row131_col1, #T_2c363_row131_col2, #T_2c363_row131_col3, #T_2c363_row131_col4, #T_2c363_row131_col5, #T_2c363_row131_col6, #T_2c363_row131_col7, #T_2c363_row131_col8, #T_2c363_row132_col0, #T_2c363_row132_col1, #T_2c363_row132_col2, #T_2c363_row132_col3, #T_2c363_row132_col4, #T_2c363_row132_col5, #T_2c363_row132_col6, #T_2c363_row132_col7, #T_2c363_row132_col8, #T_2c363_row133_col0, #T_2c363_row133_col1, #T_2c363_row133_col2, #T_2c363_row133_col3, #T_2c363_row133_col4, #T_2c363_row133_col5, #T_2c363_row133_col6, #T_2c363_row133_col7, #T_2c363_row133_col8, #T_2c363_row134_col0, #T_2c363_row134_col1, #T_2c363_row134_col2, #T_2c363_row134_col3, #T_2c363_row134_col4, #T_2c363_row134_col5, #T_2c363_row134_col6, #T_2c363_row134_col7, #T_2c363_row134_col8, #T_2c363_row135_col0, #T_2c363_row135_col1, #T_2c363_row135_col2, #T_2c363_row135_col3, #T_2c363_row135_col4, #T_2c363_row135_col5, #T_2c363_row135_col6, #T_2c363_row135_col7, #T_2c363_row135_col8, #T_2c363_row136_col0, #T_2c363_row136_col1, #T_2c363_row136_col2, #T_2c363_row136_col3, #T_2c363_row136_col4, #T_2c363_row136_col5, #T_2c363_row136_col6, #T_2c363_row136_col7, #T_2c363_row136_col8, #T_2c363_row137_col0, #T_2c363_row137_col1, #T_2c363_row137_col2, #T_2c363_row137_col3, #T_2c363_row137_col4, #T_2c363_row137_col5, #T_2c363_row137_col6, #T_2c363_row137_col7, #T_2c363_row137_col8, #T_2c363_row138_col0, #T_2c363_row138_col1, #T_2c363_row138_col2, #T_2c363_row138_col3, #T_2c363_row138_col4, #T_2c363_row138_col5, #T_2c363_row138_col6, #T_2c363_row138_col7, #T_2c363_row138_col8, #T_2c363_row139_col0, #T_2c363_row139_col1, #T_2c363_row139_col2, #T_2c363_row139_col3, #T_2c363_row139_col4, #T_2c363_row139_col5, #T_2c363_row139_col6, #T_2c363_row139_col7, #T_2c363_row139_col8, #T_2c363_row140_col0, #T_2c363_row140_col1, #T_2c363_row140_col2, #T_2c363_row140_col3, #T_2c363_row140_col4, #T_2c363_row140_col5, #T_2c363_row140_col6, #T_2c363_row140_col7, #T_2c363_row140_col8, #T_2c363_row141_col0, #T_2c363_row141_col1, #T_2c363_row141_col2, #T_2c363_row141_col3, #T_2c363_row141_col4, #T_2c363_row141_col5, #T_2c363_row141_col6, #T_2c363_row141_col7, #T_2c363_row141_col8, #T_2c363_row142_col0, #T_2c363_row142_col1, #T_2c363_row142_col2, #T_2c363_row142_col3, #T_2c363_row142_col4, #T_2c363_row142_col5, #T_2c363_row142_col6, #T_2c363_row142_col7, #T_2c363_row142_col8, #T_2c363_row143_col0, #T_2c363_row143_col1, #T_2c363_row143_col2, #T_2c363_row143_col3, #T_2c363_row143_col4, #T_2c363_row143_col5, #T_2c363_row143_col6, #T_2c363_row143_col7, #T_2c363_row143_col8, #T_2c363_row144_col0, #T_2c363_row144_col1, #T_2c363_row144_col2, #T_2c363_row144_col3, #T_2c363_row144_col4, #T_2c363_row144_col5, #T_2c363_row144_col6, #T_2c363_row144_col7, #T_2c363_row144_col8, #T_2c363_row145_col0, #T_2c363_row145_col1, #T_2c363_row145_col2, #T_2c363_row145_col3, #T_2c363_row145_col4, #T_2c363_row145_col5, #T_2c363_row145_col6, #T_2c363_row145_col7, #T_2c363_row145_col8, #T_2c363_row146_col0, #T_2c363_row146_col1, #T_2c363_row146_col2, #T_2c363_row146_col3, #T_2c363_row146_col4, #T_2c363_row146_col5, #T_2c363_row146_col6, #T_2c363_row146_col7, #T_2c363_row146_col8, #T_2c363_row147_col0, #T_2c363_row147_col1, #T_2c363_row147_col2, #T_2c363_row147_col3, #T_2c363_row147_col4, #T_2c363_row147_col5, #T_2c363_row147_col6, #T_2c363_row147_col7, #T_2c363_row147_col8, #T_2c363_row148_col0, #T_2c363_row148_col1, #T_2c363_row148_col2, #T_2c363_row148_col3, #T_2c363_row148_col4, #T_2c363_row148_col5, #T_2c363_row148_col6, #T_2c363_row148_col7, #T_2c363_row148_col8, #T_2c363_row149_col0, #T_2c363_row149_col1, #T_2c363_row149_col2, #T_2c363_row149_col3, #T_2c363_row149_col4, #T_2c363_row149_col5, #T_2c363_row149_col6, #T_2c363_row149_col7, #T_2c363_row149_col8, #T_2c363_row150_col0, #T_2c363_row150_col1, #T_2c363_row150_col2, #T_2c363_row150_col3, #T_2c363_row150_col4, #T_2c363_row150_col5, #T_2c363_row150_col6, #T_2c363_row150_col7, #T_2c363_row150_col8, #T_2c363_row151_col0, #T_2c363_row151_col1, #T_2c363_row151_col2, #T_2c363_row151_col3, #T_2c363_row151_col4, #T_2c363_row151_col5, #T_2c363_row151_col6, #T_2c363_row151_col7, #T_2c363_row151_col8, #T_2c363_row152_col0, #T_2c363_row152_col1, #T_2c363_row152_col2, #T_2c363_row152_col3, #T_2c363_row152_col4, #T_2c363_row152_col5, #T_2c363_row152_col6, #T_2c363_row152_col7, #T_2c363_row152_col8, #T_2c363_row153_col0, #T_2c363_row153_col1, #T_2c363_row153_col2, #T_2c363_row153_col3, #T_2c363_row153_col4, #T_2c363_row153_col5, #T_2c363_row153_col6, #T_2c363_row153_col7, #T_2c363_row153_col8, #T_2c363_row154_col0, #T_2c363_row154_col1, #T_2c363_row154_col2, #T_2c363_row154_col3, #T_2c363_row154_col4, #T_2c363_row154_col5, #T_2c363_row154_col6, #T_2c363_row154_col7, #T_2c363_row154_col8, #T_2c363_row155_col0, #T_2c363_row155_col1, #T_2c363_row155_col2, #T_2c363_row155_col3, #T_2c363_row155_col4, #T_2c363_row155_col5, #T_2c363_row155_col6, #T_2c363_row155_col7, #T_2c363_row155_col8, #T_2c363_row156_col0, #T_2c363_row156_col1, #T_2c363_row156_col2, #T_2c363_row156_col3, #T_2c363_row156_col4, #T_2c363_row156_col5, #T_2c363_row156_col6, #T_2c363_row156_col7, #T_2c363_row156_col8, #T_2c363_row157_col0, #T_2c363_row157_col1, #T_2c363_row157_col2, #T_2c363_row157_col3, #T_2c363_row157_col4, #T_2c363_row157_col5, #T_2c363_row157_col6, #T_2c363_row157_col7, #T_2c363_row157_col8, #T_2c363_row158_col0, #T_2c363_row158_col1, #T_2c363_row158_col2, #T_2c363_row158_col3, #T_2c363_row158_col4, #T_2c363_row158_col5, #T_2c363_row158_col6, #T_2c363_row158_col7, #T_2c363_row158_col8, #T_2c363_row159_col0, #T_2c363_row159_col1, #T_2c363_row159_col2, #T_2c363_row159_col3, #T_2c363_row159_col4, #T_2c363_row159_col5, #T_2c363_row159_col6, #T_2c363_row159_col7, #T_2c363_row159_col8, #T_2c363_row160_col0, #T_2c363_row160_col1, #T_2c363_row160_col2, #T_2c363_row160_col3, #T_2c363_row160_col4, #T_2c363_row160_col5, #T_2c363_row160_col6, #T_2c363_row160_col7, #T_2c363_row160_col8, #T_2c363_row161_col0, #T_2c363_row161_col1, #T_2c363_row161_col2, #T_2c363_row161_col3, #T_2c363_row161_col4, #T_2c363_row161_col5, #T_2c363_row161_col6, #T_2c363_row161_col7, #T_2c363_row161_col8, #T_2c363_row162_col0, #T_2c363_row162_col1, #T_2c363_row162_col2, #T_2c363_row162_col3, #T_2c363_row162_col4, #T_2c363_row162_col5, #T_2c363_row162_col6, #T_2c363_row162_col7, #T_2c363_row162_col8, #T_2c363_row163_col0, #T_2c363_row163_col1, #T_2c363_row163_col2, #T_2c363_row163_col3, #T_2c363_row163_col4, #T_2c363_row163_col5, #T_2c363_row163_col6, #T_2c363_row163_col7, #T_2c363_row163_col8, #T_2c363_row164_col0, #T_2c363_row164_col1, #T_2c363_row164_col2, #T_2c363_row164_col3, #T_2c363_row164_col4, #T_2c363_row164_col5, #T_2c363_row164_col6, #T_2c363_row164_col7, #T_2c363_row164_col8, #T_2c363_row165_col0, #T_2c363_row165_col1, #T_2c363_row165_col2, #T_2c363_row165_col3, #T_2c363_row165_col4, #T_2c363_row165_col5, #T_2c363_row165_col6, #T_2c363_row165_col7, #T_2c363_row165_col8, #T_2c363_row166_col0, #T_2c363_row166_col1, #T_2c363_row166_col2, #T_2c363_row166_col3, #T_2c363_row166_col4, #T_2c363_row166_col5, #T_2c363_row166_col6, #T_2c363_row166_col7, #T_2c363_row166_col8, #T_2c363_row167_col0, #T_2c363_row167_col1, #T_2c363_row167_col2, #T_2c363_row167_col3, #T_2c363_row167_col4, #T_2c363_row167_col5, #T_2c363_row167_col6, #T_2c363_row167_col7, #T_2c363_row167_col8, #T_2c363_row168_col0, #T_2c363_row168_col1, #T_2c363_row168_col2, #T_2c363_row168_col3, #T_2c363_row168_col4, #T_2c363_row168_col5, #T_2c363_row168_col6, #T_2c363_row168_col7, #T_2c363_row168_col8, #T_2c363_row169_col0, #T_2c363_row169_col1, #T_2c363_row169_col2, #T_2c363_row169_col3, #T_2c363_row169_col4, #T_2c363_row169_col5, #T_2c363_row169_col6, #T_2c363_row169_col7, #T_2c363_row169_col8, #T_2c363_row170_col0, #T_2c363_row170_col1, #T_2c363_row170_col2, #T_2c363_row170_col3, #T_2c363_row170_col4, #T_2c363_row170_col5, #T_2c363_row170_col6, #T_2c363_row170_col7, #T_2c363_row170_col8, #T_2c363_row171_col0, #T_2c363_row171_col1, #T_2c363_row171_col2, #T_2c363_row171_col3, #T_2c363_row171_col4, #T_2c363_row171_col5, #T_2c363_row171_col6, #T_2c363_row171_col7, #T_2c363_row171_col8, #T_2c363_row172_col0, #T_2c363_row172_col1, #T_2c363_row172_col2, #T_2c363_row172_col3, #T_2c363_row172_col4, #T_2c363_row172_col5, #T_2c363_row172_col6, #T_2c363_row172_col7, #T_2c363_row172_col8, #T_2c363_row173_col0, #T_2c363_row173_col1, #T_2c363_row173_col2, #T_2c363_row173_col3, #T_2c363_row173_col4, #T_2c363_row173_col5, #T_2c363_row173_col6, #T_2c363_row173_col7, #T_2c363_row173_col8, #T_2c363_row174_col0, #T_2c363_row174_col1, #T_2c363_row174_col2, #T_2c363_row174_col3, #T_2c363_row174_col4, #T_2c363_row174_col5, #T_2c363_row174_col6, #T_2c363_row174_col7, #T_2c363_row174_col8, #T_2c363_row175_col0, #T_2c363_row175_col1, #T_2c363_row175_col2, #T_2c363_row175_col3, #T_2c363_row175_col4, #T_2c363_row175_col5, #T_2c363_row175_col6, #T_2c363_row175_col7, #T_2c363_row175_col8, #T_2c363_row176_col0, #T_2c363_row176_col1, #T_2c363_row176_col2, #T_2c363_row176_col3, #T_2c363_row176_col4, #T_2c363_row176_col5, #T_2c363_row176_col6, #T_2c363_row176_col7, #T_2c363_row176_col8, #T_2c363_row177_col0, #T_2c363_row177_col1, #T_2c363_row177_col2, #T_2c363_row177_col3, #T_2c363_row177_col4, #T_2c363_row177_col5, #T_2c363_row177_col6, #T_2c363_row177_col7, #T_2c363_row177_col8, #T_2c363_row178_col0, #T_2c363_row178_col1, #T_2c363_row178_col2, #T_2c363_row178_col3, #T_2c363_row178_col4, #T_2c363_row178_col5, #T_2c363_row178_col6, #T_2c363_row178_col7, #T_2c363_row178_col8, #T_2c363_row179_col0, #T_2c363_row179_col1, #T_2c363_row179_col2, #T_2c363_row179_col3, #T_2c363_row179_col4, #T_2c363_row179_col5, #T_2c363_row179_col6, #T_2c363_row179_col7, #T_2c363_row179_col8, #T_2c363_row180_col0, #T_2c363_row180_col1, #T_2c363_row180_col2, #T_2c363_row180_col3, #T_2c363_row180_col4, #T_2c363_row180_col5, #T_2c363_row180_col6, #T_2c363_row180_col7, #T_2c363_row180_col8, #T_2c363_row181_col0, #T_2c363_row181_col1, #T_2c363_row181_col2, #T_2c363_row181_col3, #T_2c363_row181_col4, #T_2c363_row181_col5, #T_2c363_row181_col6, #T_2c363_row181_col7, #T_2c363_row181_col8, #T_2c363_row182_col0, #T_2c363_row182_col1, #T_2c363_row182_col2, #T_2c363_row182_col3, #T_2c363_row182_col4, #T_2c363_row182_col5, #T_2c363_row182_col6, #T_2c363_row182_col7, #T_2c363_row182_col8, #T_2c363_row183_col0, #T_2c363_row183_col1, #T_2c363_row183_col2, #T_2c363_row183_col3, #T_2c363_row183_col4, #T_2c363_row183_col5, #T_2c363_row183_col6, #T_2c363_row183_col7, #T_2c363_row183_col8, #T_2c363_row184_col0, #T_2c363_row184_col1, #T_2c363_row184_col2, #T_2c363_row184_col3, #T_2c363_row184_col4, #T_2c363_row184_col5, #T_2c363_row184_col6, #T_2c363_row184_col7, #T_2c363_row184_col8, #T_2c363_row185_col0, #T_2c363_row185_col1, #T_2c363_row185_col2, #T_2c363_row185_col3, #T_2c363_row185_col4, #T_2c363_row185_col5, #T_2c363_row185_col6, #T_2c363_row185_col7, #T_2c363_row185_col8, #T_2c363_row186_col0, #T_2c363_row186_col1, #T_2c363_row186_col2, #T_2c363_row186_col3, #T_2c363_row186_col4, #T_2c363_row186_col5, #T_2c363_row186_col6, #T_2c363_row186_col7, #T_2c363_row186_col8, #T_2c363_row187_col0, #T_2c363_row187_col1, #T_2c363_row187_col2, #T_2c363_row187_col3, #T_2c363_row187_col4, #T_2c363_row187_col5, #T_2c363_row187_col6, #T_2c363_row187_col7, #T_2c363_row187_col8, #T_2c363_row188_col0, #T_2c363_row188_col1, #T_2c363_row188_col2, #T_2c363_row188_col3, #T_2c363_row188_col4, #T_2c363_row188_col5, #T_2c363_row188_col6, #T_2c363_row188_col7, #T_2c363_row188_col8, #T_2c363_row189_col0, #T_2c363_row189_col1, #T_2c363_row189_col2, #T_2c363_row189_col3, #T_2c363_row189_col4, #T_2c363_row189_col5, #T_2c363_row189_col6, #T_2c363_row189_col7, #T_2c363_row189_col8, #T_2c363_row190_col0, #T_2c363_row190_col1, #T_2c363_row190_col2, #T_2c363_row190_col3, #T_2c363_row190_col4, #T_2c363_row190_col5, #T_2c363_row190_col6, #T_2c363_row190_col7, #T_2c363_row190_col8, #T_2c363_row191_col0, #T_2c363_row191_col1, #T_2c363_row191_col2, #T_2c363_row191_col3, #T_2c363_row191_col4, #T_2c363_row191_col5, #T_2c363_row191_col6, #T_2c363_row191_col7, #T_2c363_row191_col8, #T_2c363_row192_col0, #T_2c363_row192_col1, #T_2c363_row192_col2, #T_2c363_row192_col3, #T_2c363_row192_col4, #T_2c363_row192_col5, #T_2c363_row192_col6, #T_2c363_row192_col7, #T_2c363_row192_col8, #T_2c363_row193_col0, #T_2c363_row193_col1, #T_2c363_row193_col2, #T_2c363_row193_col3, #T_2c363_row193_col4, #T_2c363_row193_col5, #T_2c363_row193_col6, #T_2c363_row193_col7, #T_2c363_row193_col8, #T_2c363_row194_col0, #T_2c363_row194_col1, #T_2c363_row194_col2, #T_2c363_row194_col3, #T_2c363_row194_col4, #T_2c363_row194_col5, #T_2c363_row194_col6, #T_2c363_row194_col7, #T_2c363_row194_col8, #T_2c363_row195_col0, #T_2c363_row195_col1, #T_2c363_row195_col2, #T_2c363_row195_col3, #T_2c363_row195_col4, #T_2c363_row195_col5, #T_2c363_row195_col6, #T_2c363_row195_col7, #T_2c363_row195_col8, #T_2c363_row196_col0, #T_2c363_row196_col1, #T_2c363_row196_col2, #T_2c363_row196_col3, #T_2c363_row196_col4, #T_2c363_row196_col5, #T_2c363_row196_col6, #T_2c363_row196_col7, #T_2c363_row196_col8, #T_2c363_row197_col0, #T_2c363_row197_col1, #T_2c363_row197_col2, #T_2c363_row197_col3, #T_2c363_row197_col4, #T_2c363_row197_col5, #T_2c363_row197_col6, #T_2c363_row197_col7, #T_2c363_row197_col8, #T_2c363_row198_col0, #T_2c363_row198_col1, #T_2c363_row198_col2, #T_2c363_row198_col3, #T_2c363_row198_col4, #T_2c363_row198_col5, #T_2c363_row198_col6, #T_2c363_row198_col7, #T_2c363_row198_col8, #T_2c363_row199_col0, #T_2c363_row199_col1, #T_2c363_row199_col2, #T_2c363_row199_col3, #T_2c363_row199_col4, #T_2c363_row199_col5, #T_2c363_row199_col6, #T_2c363_row199_col7, #T_2c363_row199_col8, #T_2c363_row200_col0, #T_2c363_row200_col1, #T_2c363_row200_col2, #T_2c363_row200_col3, #T_2c363_row200_col4, #T_2c363_row200_col5, #T_2c363_row200_col6, #T_2c363_row200_col7, #T_2c363_row200_col8, #T_2c363_row201_col0, #T_2c363_row201_col1, #T_2c363_row201_col2, #T_2c363_row201_col3, #T_2c363_row201_col4, #T_2c363_row201_col5, #T_2c363_row201_col6, #T_2c363_row201_col7, #T_2c363_row201_col8, #T_2c363_row202_col0, #T_2c363_row202_col1, #T_2c363_row202_col2, #T_2c363_row202_col3, #T_2c363_row202_col4, #T_2c363_row202_col5, #T_2c363_row202_col6, #T_2c363_row202_col7, #T_2c363_row202_col8, #T_2c363_row203_col0, #T_2c363_row203_col1, #T_2c363_row203_col2, #T_2c363_row203_col3, #T_2c363_row203_col4, #T_2c363_row203_col5, #T_2c363_row203_col6, #T_2c363_row203_col7, #T_2c363_row203_col8, #T_2c363_row204_col0, #T_2c363_row204_col1, #T_2c363_row204_col2, #T_2c363_row204_col3, #T_2c363_row204_col4, #T_2c363_row204_col5, #T_2c363_row204_col6, #T_2c363_row204_col7, #T_2c363_row204_col8, #T_2c363_row205_col0, #T_2c363_row205_col1, #T_2c363_row205_col2, #T_2c363_row205_col3, #T_2c363_row205_col4, #T_2c363_row205_col5, #T_2c363_row205_col6, #T_2c363_row205_col7, #T_2c363_row205_col8, #T_2c363_row206_col0, #T_2c363_row206_col1, #T_2c363_row206_col2, #T_2c363_row206_col3, #T_2c363_row206_col4, #T_2c363_row206_col5, #T_2c363_row206_col6, #T_2c363_row206_col7, #T_2c363_row206_col8, #T_2c363_row207_col0, #T_2c363_row207_col1, #T_2c363_row207_col2, #T_2c363_row207_col3, #T_2c363_row207_col4, #T_2c363_row207_col5, #T_2c363_row207_col6, #T_2c363_row207_col7, #T_2c363_row207_col8, #T_2c363_row208_col0, #T_2c363_row208_col1, #T_2c363_row208_col2, #T_2c363_row208_col3, #T_2c363_row208_col4, #T_2c363_row208_col5, #T_2c363_row208_col6, #T_2c363_row208_col7, #T_2c363_row208_col8, #T_2c363_row209_col0, #T_2c363_row209_col1, #T_2c363_row209_col2, #T_2c363_row209_col3, #T_2c363_row209_col4, #T_2c363_row209_col5, #T_2c363_row209_col6, #T_2c363_row209_col7, #T_2c363_row209_col8, #T_2c363_row210_col0, #T_2c363_row210_col1, #T_2c363_row210_col2, #T_2c363_row210_col3, #T_2c363_row210_col4, #T_2c363_row210_col5, #T_2c363_row210_col6, #T_2c363_row210_col7, #T_2c363_row210_col8, #T_2c363_row211_col0, #T_2c363_row211_col1, #T_2c363_row211_col2, #T_2c363_row211_col3, #T_2c363_row211_col4, #T_2c363_row211_col5, #T_2c363_row211_col6, #T_2c363_row211_col7, #T_2c363_row211_col8, #T_2c363_row212_col0, #T_2c363_row212_col1, #T_2c363_row212_col2, #T_2c363_row212_col3, #T_2c363_row212_col4, #T_2c363_row212_col5, #T_2c363_row212_col6, #T_2c363_row212_col7, #T_2c363_row212_col8, #T_2c363_row213_col0, #T_2c363_row213_col1, #T_2c363_row213_col2, #T_2c363_row213_col3, #T_2c363_row213_col4, #T_2c363_row213_col5, #T_2c363_row213_col6, #T_2c363_row213_col7, #T_2c363_row213_col8, #T_2c363_row214_col0, #T_2c363_row214_col1, #T_2c363_row214_col2, #T_2c363_row214_col3, #T_2c363_row214_col4, #T_2c363_row214_col5, #T_2c363_row214_col6, #T_2c363_row214_col7, #T_2c363_row214_col8, #T_2c363_row215_col0, #T_2c363_row215_col1, #T_2c363_row215_col2, #T_2c363_row215_col3, #T_2c363_row215_col4, #T_2c363_row215_col5, #T_2c363_row215_col6, #T_2c363_row215_col7, #T_2c363_row215_col8, #T_2c363_row216_col0, #T_2c363_row216_col1, #T_2c363_row216_col2, #T_2c363_row216_col3, #T_2c363_row216_col4, #T_2c363_row216_col5, #T_2c363_row216_col6, #T_2c363_row216_col7, #T_2c363_row216_col8, #T_2c363_row217_col0, #T_2c363_row217_col1, #T_2c363_row217_col2, #T_2c363_row217_col3, #T_2c363_row217_col4, #T_2c363_row217_col5, #T_2c363_row217_col6, #T_2c363_row217_col7, #T_2c363_row217_col8, #T_2c363_row218_col0, #T_2c363_row218_col1, #T_2c363_row218_col2, #T_2c363_row218_col3, #T_2c363_row218_col4, #T_2c363_row218_col5, #T_2c363_row218_col6, #T_2c363_row218_col7, #T_2c363_row218_col8, #T_2c363_row219_col0, #T_2c363_row219_col1, #T_2c363_row219_col2, #T_2c363_row219_col3, #T_2c363_row219_col4, #T_2c363_row219_col5, #T_2c363_row219_col6, #T_2c363_row219_col7, #T_2c363_row219_col8, #T_2c363_row220_col0, #T_2c363_row220_col1, #T_2c363_row220_col2, #T_2c363_row220_col3, #T_2c363_row220_col4, #T_2c363_row220_col5, #T_2c363_row220_col6, #T_2c363_row220_col7, #T_2c363_row220_col8, #T_2c363_row221_col0, #T_2c363_row221_col1, #T_2c363_row221_col2, #T_2c363_row221_col3, #T_2c363_row221_col4, #T_2c363_row221_col5, #T_2c363_row221_col6, #T_2c363_row221_col7, #T_2c363_row221_col8, #T_2c363_row222_col0, #T_2c363_row222_col1, #T_2c363_row222_col2, #T_2c363_row222_col3, #T_2c363_row222_col4, #T_2c363_row222_col5, #T_2c363_row222_col6, #T_2c363_row222_col7, #T_2c363_row222_col8, #T_2c363_row223_col0, #T_2c363_row223_col1, #T_2c363_row223_col2, #T_2c363_row223_col3, #T_2c363_row223_col4, #T_2c363_row223_col5, #T_2c363_row223_col6, #T_2c363_row223_col7, #T_2c363_row223_col8, #T_2c363_row224_col0, #T_2c363_row224_col1, #T_2c363_row224_col2, #T_2c363_row224_col3, #T_2c363_row224_col4, #T_2c363_row224_col5, #T_2c363_row224_col6, #T_2c363_row224_col7, #T_2c363_row224_col8, #T_2c363_row225_col0, #T_2c363_row225_col1, #T_2c363_row225_col2, #T_2c363_row225_col3, #T_2c363_row225_col4, #T_2c363_row225_col5, #T_2c363_row225_col6, #T_2c363_row225_col7, #T_2c363_row225_col8, #T_2c363_row226_col0, #T_2c363_row226_col1, #T_2c363_row226_col2, #T_2c363_row226_col3, #T_2c363_row226_col4, #T_2c363_row226_col5, #T_2c363_row226_col6, #T_2c363_row226_col7, #T_2c363_row226_col8, #T_2c363_row227_col0, #T_2c363_row227_col1, #T_2c363_row227_col2, #T_2c363_row227_col3, #T_2c363_row227_col4, #T_2c363_row227_col5, #T_2c363_row227_col6, #T_2c363_row227_col7, #T_2c363_row227_col8, #T_2c363_row228_col0, #T_2c363_row228_col1, #T_2c363_row228_col2, #T_2c363_row228_col3, #T_2c363_row228_col4, #T_2c363_row228_col5, #T_2c363_row228_col6, #T_2c363_row228_col7, #T_2c363_row228_col8, #T_2c363_row229_col0, #T_2c363_row229_col1, #T_2c363_row229_col2, #T_2c363_row229_col3, #T_2c363_row229_col4, #T_2c363_row229_col5, #T_2c363_row229_col6, #T_2c363_row229_col7, #T_2c363_row229_col8, #T_2c363_row230_col0, #T_2c363_row230_col1, #T_2c363_row230_col2, #T_2c363_row230_col3, #T_2c363_row230_col4, #T_2c363_row230_col5, #T_2c363_row230_col6, #T_2c363_row230_col7, #T_2c363_row230_col8, #T_2c363_row231_col0, #T_2c363_row231_col1, #T_2c363_row231_col2, #T_2c363_row231_col3, #T_2c363_row231_col4, #T_2c363_row231_col5, #T_2c363_row231_col6, #T_2c363_row231_col7, #T_2c363_row231_col8, #T_2c363_row232_col0, #T_2c363_row232_col1, #T_2c363_row232_col2, #T_2c363_row232_col3, #T_2c363_row232_col4, #T_2c363_row232_col5, #T_2c363_row232_col6, #T_2c363_row232_col7, #T_2c363_row232_col8, #T_2c363_row233_col0, #T_2c363_row233_col1, #T_2c363_row233_col2, #T_2c363_row233_col3, #T_2c363_row233_col4, #T_2c363_row233_col5, #T_2c363_row233_col6, #T_2c363_row233_col7, #T_2c363_row233_col8, #T_2c363_row234_col0, #T_2c363_row234_col1, #T_2c363_row234_col2, #T_2c363_row234_col3, #T_2c363_row234_col4, #T_2c363_row234_col5, #T_2c363_row234_col6, #T_2c363_row234_col7, #T_2c363_row234_col8, #T_2c363_row235_col0, #T_2c363_row235_col1, #T_2c363_row235_col2, #T_2c363_row235_col3, #T_2c363_row235_col4, #T_2c363_row235_col5, #T_2c363_row235_col6, #T_2c363_row235_col7, #T_2c363_row235_col8, #T_2c363_row236_col0, #T_2c363_row236_col1, #T_2c363_row236_col2, #T_2c363_row236_col3, #T_2c363_row236_col4, #T_2c363_row236_col5, #T_2c363_row236_col6, #T_2c363_row236_col7, #T_2c363_row236_col8, #T_2c363_row237_col0, #T_2c363_row237_col1, #T_2c363_row237_col2, #T_2c363_row237_col3, #T_2c363_row237_col4, #T_2c363_row237_col5, #T_2c363_row237_col6, #T_2c363_row237_col7, #T_2c363_row237_col8, #T_2c363_row238_col0, #T_2c363_row238_col1, #T_2c363_row238_col2, #T_2c363_row238_col3, #T_2c363_row238_col4, #T_2c363_row238_col5, #T_2c363_row238_col6, #T_2c363_row238_col7, #T_2c363_row238_col8, #T_2c363_row239_col0, #T_2c363_row239_col1, #T_2c363_row239_col2, #T_2c363_row239_col3, #T_2c363_row239_col4, #T_2c363_row239_col5, #T_2c363_row239_col6, #T_2c363_row239_col7, #T_2c363_row239_col8, #T_2c363_row240_col0, #T_2c363_row240_col1, #T_2c363_row240_col2, #T_2c363_row240_col3, #T_2c363_row240_col4, #T_2c363_row240_col5, #T_2c363_row240_col6, #T_2c363_row240_col7, #T_2c363_row240_col8, #T_2c363_row241_col0, #T_2c363_row241_col1, #T_2c363_row241_col2, #T_2c363_row241_col3, #T_2c363_row241_col4, #T_2c363_row241_col5, #T_2c363_row241_col6, #T_2c363_row241_col7, #T_2c363_row241_col8, #T_2c363_row242_col0, #T_2c363_row242_col1, #T_2c363_row242_col2, #T_2c363_row242_col3, #T_2c363_row242_col4, #T_2c363_row242_col5, #T_2c363_row242_col6, #T_2c363_row242_col7, #T_2c363_row242_col8, #T_2c363_row243_col0, #T_2c363_row243_col1, #T_2c363_row243_col2, #T_2c363_row243_col3, #T_2c363_row243_col4, #T_2c363_row243_col5, #T_2c363_row243_col6, #T_2c363_row243_col7, #T_2c363_row243_col8, #T_2c363_row244_col0, #T_2c363_row244_col1, #T_2c363_row244_col2, #T_2c363_row244_col3, #T_2c363_row244_col4, #T_2c363_row244_col5, #T_2c363_row244_col6, #T_2c363_row244_col7, #T_2c363_row244_col8, #T_2c363_row245_col0, #T_2c363_row245_col1, #T_2c363_row245_col2, #T_2c363_row245_col3, #T_2c363_row245_col4, #T_2c363_row245_col5, #T_2c363_row245_col6, #T_2c363_row245_col7, #T_2c363_row245_col8, #T_2c363_row246_col0, #T_2c363_row246_col1, #T_2c363_row246_col2, #T_2c363_row246_col3, #T_2c363_row246_col4, #T_2c363_row246_col5, #T_2c363_row246_col6, #T_2c363_row246_col7, #T_2c363_row246_col8, #T_2c363_row247_col0, #T_2c363_row247_col1, #T_2c363_row247_col2, #T_2c363_row247_col3, #T_2c363_row247_col4, #T_2c363_row247_col5, #T_2c363_row247_col6, #T_2c363_row247_col7, #T_2c363_row247_col8, #T_2c363_row248_col0, #T_2c363_row248_col1, #T_2c363_row248_col2, #T_2c363_row248_col3, #T_2c363_row248_col4, #T_2c363_row248_col5, #T_2c363_row248_col6, #T_2c363_row248_col7, #T_2c363_row248_col8, #T_2c363_row249_col0, #T_2c363_row249_col1, #T_2c363_row249_col2, #T_2c363_row249_col3, #T_2c363_row249_col4, #T_2c363_row249_col5, #T_2c363_row249_col6, #T_2c363_row249_col7, #T_2c363_row249_col8, #T_2c363_row250_col0, #T_2c363_row250_col1, #T_2c363_row250_col2, #T_2c363_row250_col3, #T_2c363_row250_col4, #T_2c363_row250_col5, #T_2c363_row250_col6, #T_2c363_row250_col7, #T_2c363_row250_col8, #T_2c363_row251_col0, #T_2c363_row251_col1, #T_2c363_row251_col2, #T_2c363_row251_col3, #T_2c363_row251_col4, #T_2c363_row251_col5, #T_2c363_row251_col6, #T_2c363_row251_col7, #T_2c363_row251_col8, #T_2c363_row252_col0, #T_2c363_row252_col1, #T_2c363_row252_col2, #T_2c363_row252_col3, #T_2c363_row252_col4, #T_2c363_row252_col5, #T_2c363_row252_col6, #T_2c363_row252_col7, #T_2c363_row252_col8, #T_2c363_row253_col0, #T_2c363_row253_col1, #T_2c363_row253_col2, #T_2c363_row253_col3, #T_2c363_row253_col4, #T_2c363_row253_col5, #T_2c363_row253_col6, #T_2c363_row253_col7, #T_2c363_row253_col8, #T_2c363_row254_col0, #T_2c363_row254_col1, #T_2c363_row254_col2, #T_2c363_row254_col3, #T_2c363_row254_col4, #T_2c363_row254_col5, #T_2c363_row254_col6, #T_2c363_row254_col7, #T_2c363_row254_col8, #T_2c363_row255_col0, #T_2c363_row255_col1, #T_2c363_row255_col2, #T_2c363_row255_col3, #T_2c363_row255_col4, #T_2c363_row255_col5, #T_2c363_row255_col6, #T_2c363_row255_col7, #T_2c363_row255_col8, #T_2c363_row256_col0, #T_2c363_row256_col1, #T_2c363_row256_col2, #T_2c363_row256_col3, #T_2c363_row256_col4, #T_2c363_row256_col5, #T_2c363_row256_col6, #T_2c363_row256_col7, #T_2c363_row256_col8, #T_2c363_row257_col0, #T_2c363_row257_col1, #T_2c363_row257_col2, #T_2c363_row257_col3, #T_2c363_row257_col4, #T_2c363_row257_col5, #T_2c363_row257_col6, #T_2c363_row257_col7, #T_2c363_row257_col8, #T_2c363_row258_col0, #T_2c363_row258_col1, #T_2c363_row258_col2, #T_2c363_row258_col3, #T_2c363_row258_col4, #T_2c363_row258_col5, #T_2c363_row258_col6, #T_2c363_row258_col7, #T_2c363_row258_col8, #T_2c363_row259_col0, #T_2c363_row259_col1, #T_2c363_row259_col2, #T_2c363_row259_col3, #T_2c363_row259_col4, #T_2c363_row259_col5, #T_2c363_row259_col6, #T_2c363_row259_col7, #T_2c363_row259_col8, #T_2c363_row260_col0, #T_2c363_row260_col1, #T_2c363_row260_col2, #T_2c363_row260_col3, #T_2c363_row260_col4, #T_2c363_row260_col5, #T_2c363_row260_col6, #T_2c363_row260_col7, #T_2c363_row260_col8, #T_2c363_row261_col0, #T_2c363_row261_col1, #T_2c363_row261_col2, #T_2c363_row261_col3, #T_2c363_row261_col4, #T_2c363_row261_col5, #T_2c363_row261_col6, #T_2c363_row261_col7, #T_2c363_row261_col8, #T_2c363_row262_col0, #T_2c363_row262_col1, #T_2c363_row262_col2, #T_2c363_row262_col3, #T_2c363_row262_col4, #T_2c363_row262_col5, #T_2c363_row262_col6, #T_2c363_row262_col7, #T_2c363_row262_col8, #T_2c363_row263_col0, #T_2c363_row263_col1, #T_2c363_row263_col2, #T_2c363_row263_col3, #T_2c363_row263_col4, #T_2c363_row263_col5, #T_2c363_row263_col6, #T_2c363_row263_col7, #T_2c363_row263_col8, #T_2c363_row264_col0, #T_2c363_row264_col1, #T_2c363_row264_col2, #T_2c363_row264_col3, #T_2c363_row264_col4, #T_2c363_row264_col5, #T_2c363_row264_col6, #T_2c363_row264_col7, #T_2c363_row264_col8, #T_2c363_row265_col0, #T_2c363_row265_col1, #T_2c363_row265_col2, #T_2c363_row265_col3, #T_2c363_row265_col4, #T_2c363_row265_col5, #T_2c363_row265_col6, #T_2c363_row265_col7, #T_2c363_row265_col8, #T_2c363_row266_col0, #T_2c363_row266_col1, #T_2c363_row266_col2, #T_2c363_row266_col3, #T_2c363_row266_col4, #T_2c363_row266_col5, #T_2c363_row266_col6, #T_2c363_row266_col7, #T_2c363_row266_col8, #T_2c363_row267_col0, #T_2c363_row267_col1, #T_2c363_row267_col2, #T_2c363_row267_col3, #T_2c363_row267_col4, #T_2c363_row267_col5, #T_2c363_row267_col6, #T_2c363_row267_col7, #T_2c363_row267_col8, #T_2c363_row268_col0, #T_2c363_row268_col1, #T_2c363_row268_col2, #T_2c363_row268_col3, #T_2c363_row268_col4, #T_2c363_row268_col5, #T_2c363_row268_col6, #T_2c363_row268_col7, #T_2c363_row268_col8, #T_2c363_row269_col0, #T_2c363_row269_col1, #T_2c363_row269_col2, #T_2c363_row269_col3, #T_2c363_row269_col4, #T_2c363_row269_col5, #T_2c363_row269_col6, #T_2c363_row269_col7, #T_2c363_row269_col8, #T_2c363_row270_col0, #T_2c363_row270_col1, #T_2c363_row270_col2, #T_2c363_row270_col3, #T_2c363_row270_col4, #T_2c363_row270_col5, #T_2c363_row270_col6, #T_2c363_row270_col7, #T_2c363_row270_col8, #T_2c363_row271_col0, #T_2c363_row271_col1, #T_2c363_row271_col2, #T_2c363_row271_col3, #T_2c363_row271_col4, #T_2c363_row271_col5, #T_2c363_row271_col6, #T_2c363_row271_col7, #T_2c363_row271_col8, #T_2c363_row272_col0, #T_2c363_row272_col1, #T_2c363_row272_col2, #T_2c363_row272_col3, #T_2c363_row272_col4, #T_2c363_row272_col5, #T_2c363_row272_col6, #T_2c363_row272_col7, #T_2c363_row272_col8, #T_2c363_row273_col0, #T_2c363_row273_col1, #T_2c363_row273_col2, #T_2c363_row273_col3, #T_2c363_row273_col4, #T_2c363_row273_col5, #T_2c363_row273_col6, #T_2c363_row273_col7, #T_2c363_row273_col8, #T_2c363_row274_col0, #T_2c363_row274_col1, #T_2c363_row274_col2, #T_2c363_row274_col3, #T_2c363_row274_col4, #T_2c363_row274_col5, #T_2c363_row274_col6, #T_2c363_row274_col7, #T_2c363_row274_col8, #T_2c363_row275_col0, #T_2c363_row275_col1, #T_2c363_row275_col2, #T_2c363_row275_col3, #T_2c363_row275_col4, #T_2c363_row275_col5, #T_2c363_row275_col6, #T_2c363_row275_col7, #T_2c363_row275_col8, #T_2c363_row276_col0, #T_2c363_row276_col1, #T_2c363_row276_col2, #T_2c363_row276_col3, #T_2c363_row276_col4, #T_2c363_row276_col5, #T_2c363_row276_col6, #T_2c363_row276_col7, #T_2c363_row276_col8, #T_2c363_row277_col0, #T_2c363_row277_col1, #T_2c363_row277_col2, #T_2c363_row277_col3, #T_2c363_row277_col4, #T_2c363_row277_col5, #T_2c363_row277_col6, #T_2c363_row277_col7, #T_2c363_row277_col8, #T_2c363_row278_col0, #T_2c363_row278_col1, #T_2c363_row278_col2, #T_2c363_row278_col3, #T_2c363_row278_col4, #T_2c363_row278_col5, #T_2c363_row278_col6, #T_2c363_row278_col7, #T_2c363_row278_col8, #T_2c363_row279_col0, #T_2c363_row279_col1, #T_2c363_row279_col2, #T_2c363_row279_col3, #T_2c363_row279_col4, #T_2c363_row279_col5, #T_2c363_row279_col6, #T_2c363_row279_col7, #T_2c363_row279_col8, #T_2c363_row280_col0, #T_2c363_row280_col1, #T_2c363_row280_col2, #T_2c363_row280_col3, #T_2c363_row280_col4, #T_2c363_row280_col5, #T_2c363_row280_col6, #T_2c363_row280_col7, #T_2c363_row280_col8, #T_2c363_row281_col0, #T_2c363_row281_col1, #T_2c363_row281_col2, #T_2c363_row281_col3, #T_2c363_row281_col4, #T_2c363_row281_col5, #T_2c363_row281_col6, #T_2c363_row281_col7, #T_2c363_row281_col8, #T_2c363_row282_col0, #T_2c363_row282_col1, #T_2c363_row282_col2, #T_2c363_row282_col3, #T_2c363_row282_col4, #T_2c363_row282_col5, #T_2c363_row282_col6, #T_2c363_row282_col7, #T_2c363_row282_col8, #T_2c363_row283_col0, #T_2c363_row283_col1, #T_2c363_row283_col2, #T_2c363_row283_col3, #T_2c363_row283_col4, #T_2c363_row283_col5, #T_2c363_row283_col6, #T_2c363_row283_col7, #T_2c363_row283_col8, #T_2c363_row284_col0, #T_2c363_row284_col1, #T_2c363_row284_col2, #T_2c363_row284_col3, #T_2c363_row284_col4, #T_2c363_row284_col5, #T_2c363_row284_col6, #T_2c363_row284_col7, #T_2c363_row284_col8, #T_2c363_row285_col0, #T_2c363_row285_col1, #T_2c363_row285_col2, #T_2c363_row285_col3, #T_2c363_row285_col4, #T_2c363_row285_col5, #T_2c363_row285_col6, #T_2c363_row285_col7, #T_2c363_row285_col8, #T_2c363_row286_col0, #T_2c363_row286_col1, #T_2c363_row286_col2, #T_2c363_row286_col3, #T_2c363_row286_col4, #T_2c363_row286_col5, #T_2c363_row286_col6, #T_2c363_row286_col7, #T_2c363_row286_col8, #T_2c363_row287_col0, #T_2c363_row287_col1, #T_2c363_row287_col2, #T_2c363_row287_col3, #T_2c363_row287_col4, #T_2c363_row287_col5, #T_2c363_row287_col6, #T_2c363_row287_col7, #T_2c363_row287_col8, #T_2c363_row288_col0, #T_2c363_row288_col1, #T_2c363_row288_col2, #T_2c363_row288_col3, #T_2c363_row288_col4, #T_2c363_row288_col5, #T_2c363_row288_col6, #T_2c363_row288_col7, #T_2c363_row288_col8, #T_2c363_row289_col0, #T_2c363_row289_col1, #T_2c363_row289_col2, #T_2c363_row289_col3, #T_2c363_row289_col4, #T_2c363_row289_col5, #T_2c363_row289_col6, #T_2c363_row289_col7, #T_2c363_row289_col8, #T_2c363_row290_col0, #T_2c363_row290_col1, #T_2c363_row290_col2, #T_2c363_row290_col3, #T_2c363_row290_col4, #T_2c363_row290_col5, #T_2c363_row290_col6, #T_2c363_row290_col7, #T_2c363_row290_col8, #T_2c363_row291_col0, #T_2c363_row291_col1, #T_2c363_row291_col2, #T_2c363_row291_col3, #T_2c363_row291_col4, #T_2c363_row291_col5, #T_2c363_row291_col6, #T_2c363_row291_col7, #T_2c363_row291_col8, #T_2c363_row292_col0, #T_2c363_row292_col1, #T_2c363_row292_col2, #T_2c363_row292_col3, #T_2c363_row292_col4, #T_2c363_row292_col5, #T_2c363_row292_col6, #T_2c363_row292_col7, #T_2c363_row292_col8, #T_2c363_row293_col0, #T_2c363_row293_col1, #T_2c363_row293_col2, #T_2c363_row293_col3, #T_2c363_row293_col4, #T_2c363_row293_col5, #T_2c363_row293_col6, #T_2c363_row293_col7, #T_2c363_row293_col8, #T_2c363_row294_col0, #T_2c363_row294_col1, #T_2c363_row294_col2, #T_2c363_row294_col3, #T_2c363_row294_col4, #T_2c363_row294_col5, #T_2c363_row294_col6, #T_2c363_row294_col7, #T_2c363_row294_col8, #T_2c363_row295_col0, #T_2c363_row295_col1, #T_2c363_row295_col2, #T_2c363_row295_col3, #T_2c363_row295_col4, #T_2c363_row295_col5, #T_2c363_row295_col6, #T_2c363_row295_col7, #T_2c363_row295_col8, #T_2c363_row296_col0, #T_2c363_row296_col1, #T_2c363_row296_col2, #T_2c363_row296_col3, #T_2c363_row296_col4, #T_2c363_row296_col5, #T_2c363_row296_col6, #T_2c363_row296_col7, #T_2c363_row296_col8, #T_2c363_row297_col0, #T_2c363_row297_col1, #T_2c363_row297_col2, #T_2c363_row297_col3, #T_2c363_row297_col4, #T_2c363_row297_col5, #T_2c363_row297_col6, #T_2c363_row297_col7, #T_2c363_row297_col8, #T_2c363_row298_col0, #T_2c363_row298_col1, #T_2c363_row298_col2, #T_2c363_row298_col3, #T_2c363_row298_col4, #T_2c363_row298_col5, #T_2c363_row298_col6, #T_2c363_row298_col7, #T_2c363_row298_col8, #T_2c363_row299_col0, #T_2c363_row299_col1, #T_2c363_row299_col2, #T_2c363_row299_col3, #T_2c363_row299_col4, #T_2c363_row299_col5, #T_2c363_row299_col6, #T_2c363_row299_col7, #T_2c363_row299_col8, #T_2c363_row300_col0, #T_2c363_row300_col1, #T_2c363_row300_col2, #T_2c363_row300_col3, #T_2c363_row300_col4, #T_2c363_row300_col5, #T_2c363_row300_col6, #T_2c363_row300_col7, #T_2c363_row300_col8, #T_2c363_row301_col0, #T_2c363_row301_col1, #T_2c363_row301_col2, #T_2c363_row301_col3, #T_2c363_row301_col4, #T_2c363_row301_col5, #T_2c363_row301_col6, #T_2c363_row301_col7, #T_2c363_row301_col8, #T_2c363_row302_col0, #T_2c363_row302_col1, #T_2c363_row302_col2, #T_2c363_row302_col3, #T_2c363_row302_col4, #T_2c363_row302_col5, #T_2c363_row302_col6, #T_2c363_row302_col7, #T_2c363_row302_col8, #T_2c363_row303_col0, #T_2c363_row303_col1, #T_2c363_row303_col2, #T_2c363_row303_col3, #T_2c363_row303_col4, #T_2c363_row303_col5, #T_2c363_row303_col6, #T_2c363_row303_col7, #T_2c363_row303_col8, #T_2c363_row304_col0, #T_2c363_row304_col1, #T_2c363_row304_col2, #T_2c363_row304_col3, #T_2c363_row304_col4, #T_2c363_row304_col5, #T_2c363_row304_col6, #T_2c363_row304_col7, #T_2c363_row304_col8, #T_2c363_row305_col0, #T_2c363_row305_col1, #T_2c363_row305_col2, #T_2c363_row305_col3, #T_2c363_row305_col4, #T_2c363_row305_col5, #T_2c363_row305_col6, #T_2c363_row305_col7, #T_2c363_row305_col8, #T_2c363_row306_col0, #T_2c363_row306_col1, #T_2c363_row306_col2, #T_2c363_row306_col3, #T_2c363_row306_col4, #T_2c363_row306_col5, #T_2c363_row306_col6, #T_2c363_row306_col7, #T_2c363_row306_col8, #T_2c363_row307_col0, #T_2c363_row307_col1, #T_2c363_row307_col2, #T_2c363_row307_col3, #T_2c363_row307_col4, #T_2c363_row307_col5, #T_2c363_row307_col6, #T_2c363_row307_col7, #T_2c363_row307_col8, #T_2c363_row308_col0, #T_2c363_row308_col1, #T_2c363_row308_col2, #T_2c363_row308_col3, #T_2c363_row308_col4, #T_2c363_row308_col5, #T_2c363_row308_col6, #T_2c363_row308_col7, #T_2c363_row308_col8, #T_2c363_row309_col0, #T_2c363_row309_col1, #T_2c363_row309_col2, #T_2c363_row309_col3, #T_2c363_row309_col4, #T_2c363_row309_col5, #T_2c363_row309_col6, #T_2c363_row309_col7, #T_2c363_row309_col8, #T_2c363_row310_col0, #T_2c363_row310_col1, #T_2c363_row310_col2, #T_2c363_row310_col3, #T_2c363_row310_col4, #T_2c363_row310_col5, #T_2c363_row310_col6, #T_2c363_row310_col7, #T_2c363_row310_col8, #T_2c363_row311_col0, #T_2c363_row311_col1, #T_2c363_row311_col2, #T_2c363_row311_col3, #T_2c363_row311_col4, #T_2c363_row311_col5, #T_2c363_row311_col6, #T_2c363_row311_col7, #T_2c363_row311_col8, #T_2c363_row312_col0, #T_2c363_row312_col1, #T_2c363_row312_col2, #T_2c363_row312_col3, #T_2c363_row312_col4, #T_2c363_row312_col5, #T_2c363_row312_col6, #T_2c363_row312_col7, #T_2c363_row312_col8, #T_2c363_row313_col0, #T_2c363_row313_col1, #T_2c363_row313_col2, #T_2c363_row313_col3, #T_2c363_row313_col4, #T_2c363_row313_col5, #T_2c363_row313_col6, #T_2c363_row313_col7, #T_2c363_row313_col8, #T_2c363_row314_col0, #T_2c363_row314_col1, #T_2c363_row314_col2, #T_2c363_row314_col3, #T_2c363_row314_col4, #T_2c363_row314_col5, #T_2c363_row314_col6, #T_2c363_row314_col7, #T_2c363_row314_col8, #T_2c363_row315_col0, #T_2c363_row315_col1, #T_2c363_row315_col2, #T_2c363_row315_col3, #T_2c363_row315_col4, #T_2c363_row315_col5, #T_2c363_row315_col6, #T_2c363_row315_col7, #T_2c363_row315_col8, #T_2c363_row316_col0, #T_2c363_row316_col1, #T_2c363_row316_col2, #T_2c363_row316_col3, #T_2c363_row316_col4, #T_2c363_row316_col5, #T_2c363_row316_col6, #T_2c363_row316_col7, #T_2c363_row316_col8, #T_2c363_row317_col0, #T_2c363_row317_col1, #T_2c363_row317_col2, #T_2c363_row317_col3, #T_2c363_row317_col4, #T_2c363_row317_col5, #T_2c363_row317_col6, #T_2c363_row317_col7, #T_2c363_row317_col8, #T_2c363_row318_col0, #T_2c363_row318_col1, #T_2c363_row318_col2, #T_2c363_row318_col3, #T_2c363_row318_col4, #T_2c363_row318_col5, #T_2c363_row318_col6, #T_2c363_row318_col7, #T_2c363_row318_col8, #T_2c363_row319_col0, #T_2c363_row319_col1, #T_2c363_row319_col2, #T_2c363_row319_col3, #T_2c363_row319_col4, #T_2c363_row319_col5, #T_2c363_row319_col6, #T_2c363_row319_col7, #T_2c363_row319_col8, #T_2c363_row320_col0, #T_2c363_row320_col1, #T_2c363_row320_col2, #T_2c363_row320_col3, #T_2c363_row320_col4, #T_2c363_row320_col5, #T_2c363_row320_col6, #T_2c363_row320_col7, #T_2c363_row320_col8, #T_2c363_row321_col0, #T_2c363_row321_col1, #T_2c363_row321_col2, #T_2c363_row321_col3, #T_2c363_row321_col4, #T_2c363_row321_col5, #T_2c363_row321_col6, #T_2c363_row321_col7, #T_2c363_row321_col8, #T_2c363_row322_col0, #T_2c363_row322_col1, #T_2c363_row322_col2, #T_2c363_row322_col3, #T_2c363_row322_col4, #T_2c363_row322_col5, #T_2c363_row322_col6, #T_2c363_row322_col7, #T_2c363_row322_col8, #T_2c363_row323_col0, #T_2c363_row323_col1, #T_2c363_row323_col2, #T_2c363_row323_col3, #T_2c363_row323_col4, #T_2c363_row323_col5, #T_2c363_row323_col6, #T_2c363_row323_col7, #T_2c363_row323_col8, #T_2c363_row324_col0, #T_2c363_row324_col1, #T_2c363_row324_col2, #T_2c363_row324_col3, #T_2c363_row324_col4, #T_2c363_row324_col5, #T_2c363_row324_col6, #T_2c363_row324_col7, #T_2c363_row324_col8, #T_2c363_row325_col0, #T_2c363_row325_col1, #T_2c363_row325_col2, #T_2c363_row325_col3, #T_2c363_row325_col4, #T_2c363_row325_col5, #T_2c363_row325_col6, #T_2c363_row325_col7, #T_2c363_row325_col8, #T_2c363_row326_col0, #T_2c363_row326_col1, #T_2c363_row326_col2, #T_2c363_row326_col3, #T_2c363_row326_col4, #T_2c363_row326_col5, #T_2c363_row326_col6, #T_2c363_row326_col7, #T_2c363_row326_col8, #T_2c363_row327_col0, #T_2c363_row327_col1, #T_2c363_row327_col2, #T_2c363_row327_col3, #T_2c363_row327_col4, #T_2c363_row327_col5, #T_2c363_row327_col6, #T_2c363_row327_col7, #T_2c363_row327_col8, #T_2c363_row328_col0, #T_2c363_row328_col1, #T_2c363_row328_col2, #T_2c363_row328_col3, #T_2c363_row328_col4, #T_2c363_row328_col5, #T_2c363_row328_col6, #T_2c363_row328_col7, #T_2c363_row328_col8, #T_2c363_row329_col0, #T_2c363_row329_col1, #T_2c363_row329_col2, #T_2c363_row329_col3, #T_2c363_row329_col4, #T_2c363_row329_col5, #T_2c363_row329_col6, #T_2c363_row329_col7, #T_2c363_row329_col8 {\n",
       "  text-align: left;\n",
       "}\n",
       "</style>\n",
       "<table id=\"T_2c363\">\n",
       "  <thead>\n",
       "    <tr>\n",
       "      <th class=\"blank level0\" >&nbsp;</th>\n",
       "      <th id=\"T_2c363_level0_col0\" class=\"col_heading level0 col0\" >date</th>\n",
       "      <th id=\"T_2c363_level0_col1\" class=\"col_heading level0 col1\" >draw</th>\n",
       "      <th id=\"T_2c363_level0_col2\" class=\"col_heading level0 col2\" >homeRank</th>\n",
       "      <th id=\"T_2c363_level0_col3\" class=\"col_heading level0 col3\" >homeTeam</th>\n",
       "      <th id=\"T_2c363_level0_col4\" class=\"col_heading level0 col4\" >homeGoals</th>\n",
       "      <th id=\"T_2c363_level0_col5\" class=\"col_heading level0 col5\" >awayGoals</th>\n",
       "      <th id=\"T_2c363_level0_col6\" class=\"col_heading level0 col6\" >awayTeam</th>\n",
       "      <th id=\"T_2c363_level0_col7\" class=\"col_heading level0 col7\" >awayRank</th>\n",
       "      <th id=\"T_2c363_level0_col8\" class=\"col_heading level0 col8\" >competition</th>\n",
       "    </tr>\n",
       "  </thead>\n",
       "  <tbody>\n",
       "    <tr>\n",
       "      <th id=\"T_2c363_level0_row0\" class=\"row_heading level0 row0\" >0</th>\n",
       "      <td id=\"T_2c363_row0_col0\" class=\"data row0 col0\" >2022-09-24 10:00</td>\n",
       "      <td id=\"T_2c363_row0_col1\" class=\"data row0 col1\" >0.8</td>\n",
       "      <td id=\"T_2c363_row0_col2\" class=\"data row0 col2\" >-</td>\n",
       "      <td id=\"T_2c363_row0_col3\" class=\"data row0 col3\" >Italia Sub 19</td>\n",
       "      <td id=\"T_2c363_row0_col4\" class=\"data row0 col4\" >59.8% - 2.95</td>\n",
       "      <td id=\"T_2c363_row0_col5\" class=\"data row0 col5\" >23.3% - 1.89</td>\n",
       "      <td id=\"T_2c363_row0_col6\" class=\"data row0 col6\" >Bosnia Sub 19</td>\n",
       "      <td id=\"T_2c363_row0_col7\" class=\"data row0 col7\" >-</td>\n",
       "      <td id=\"T_2c363_row0_col8\" class=\"data row0 col8\" >Clasificación Europeo Sub 19. Ronda de Clasificación,  Jornada 2</td>\n",
       "    </tr>\n",
       "    <tr>\n",
       "      <th id=\"T_2c363_level0_row1\" class=\"row_heading level0 row1\" >1</th>\n",
       "      <td id=\"T_2c363_row1_col0\" class=\"data row1 col0\" >2022-09-24 10:00</td>\n",
       "      <td id=\"T_2c363_row1_col1\" class=\"data row1 col1\" >5.7</td>\n",
       "      <td id=\"T_2c363_row1_col2\" class=\"data row1 col2\" >-</td>\n",
       "      <td id=\"T_2c363_row1_col3\" class=\"data row1 col3\" >Turquia Sub 19</td>\n",
       "      <td id=\"T_2c363_row1_col4\" class=\"data row1 col4\" >59.2% - 1.9</td>\n",
       "      <td id=\"T_2c363_row1_col5\" class=\"data row1 col5\" >18.7% - 0.96</td>\n",
       "      <td id=\"T_2c363_row1_col6\" class=\"data row1 col6\" >Azerbaiyán Sub 19</td>\n",
       "      <td id=\"T_2c363_row1_col7\" class=\"data row1 col7\" >-</td>\n",
       "      <td id=\"T_2c363_row1_col8\" class=\"data row1 col8\" >Clasificación Europeo Sub 19. Ronda de Clasificación,  Jornada 2</td>\n",
       "    </tr>\n",
       "    <tr>\n",
       "      <th id=\"T_2c363_level0_row2\" class=\"row_heading level0 row2\" >2</th>\n",
       "      <td id=\"T_2c363_row2_col0\" class=\"data row2 col0\" >2022-09-24 12:00</td>\n",
       "      <td id=\"T_2c363_row2_col1\" class=\"data row2 col1\" >4.7</td>\n",
       "      <td id=\"T_2c363_row2_col2\" class=\"data row2 col2\" >-</td>\n",
       "      <td id=\"T_2c363_row2_col3\" class=\"data row2 col3\" >Inglaterra Sub 19</td>\n",
       "      <td id=\"T_2c363_row2_col4\" class=\"data row2 col4\" >82.9% - 2.6</td>\n",
       "      <td id=\"T_2c363_row2_col5\" class=\"data row2 col5\" >4.7% - 0.47</td>\n",
       "      <td id=\"T_2c363_row2_col6\" class=\"data row2 col6\" >Georgia Sub 19</td>\n",
       "      <td id=\"T_2c363_row2_col7\" class=\"data row2 col7\" >-</td>\n",
       "      <td id=\"T_2c363_row2_col8\" class=\"data row2 col8\" >Clasificación Europeo Sub 19. Ronda de Clasificación,  Jornada 2</td>\n",
       "    </tr>\n",
       "    <tr>\n",
       "      <th id=\"T_2c363_level0_row3\" class=\"row_heading level0 row3\" >3</th>\n",
       "      <td id=\"T_2c363_row3_col0\" class=\"data row3 col0\" >2022-09-24 12:00</td>\n",
       "      <td id=\"T_2c363_row3_col1\" class=\"data row3 col1\" >2.1</td>\n",
       "      <td id=\"T_2c363_row3_col2\" class=\"data row3 col2\" >-</td>\n",
       "      <td id=\"T_2c363_row3_col3\" class=\"data row3 col3\" >Austria Sub 19</td>\n",
       "      <td id=\"T_2c363_row3_col4\" class=\"data row3 col4\" >59.2% - 2.44</td>\n",
       "      <td id=\"T_2c363_row3_col5\" class=\"data row3 col5\" >21.9% - 1.45</td>\n",
       "      <td id=\"T_2c363_row3_col6\" class=\"data row3 col6\" >Letonia Sub 19</td>\n",
       "      <td id=\"T_2c363_row3_col7\" class=\"data row3 col7\" >-</td>\n",
       "      <td id=\"T_2c363_row3_col8\" class=\"data row3 col8\" >Clasificación Europeo Sub 19. Ronda de Clasificación,  Jornada 2</td>\n",
       "    </tr>\n",
       "    <tr>\n",
       "      <th id=\"T_2c363_level0_row4\" class=\"row_heading level0 row4\" >4</th>\n",
       "      <td id=\"T_2c363_row4_col0\" class=\"data row4 col0\" >2022-09-24 12:00</td>\n",
       "      <td id=\"T_2c363_row4_col1\" class=\"data row4 col1\" >3.9</td>\n",
       "      <td id=\"T_2c363_row4_col2\" class=\"data row4 col2\" >-</td>\n",
       "      <td id=\"T_2c363_row4_col3\" class=\"data row4 col3\" >Irlanda Sub 19</td>\n",
       "      <td id=\"T_2c363_row4_col4\" class=\"data row4 col4\" >42.4% - 1.71</td>\n",
       "      <td id=\"T_2c363_row4_col5\" class=\"data row4 col5\" >34.4% - 1.53</td>\n",
       "      <td id=\"T_2c363_row4_col6\" class=\"data row4 col6\" >Gales Sub 19</td>\n",
       "      <td id=\"T_2c363_row4_col7\" class=\"data row4 col7\" >-</td>\n",
       "      <td id=\"T_2c363_row4_col8\" class=\"data row4 col8\" >Clasificación Europeo Sub 19. Ronda de Clasificación,  Jornada 2</td>\n",
       "    </tr>\n",
       "    <tr>\n",
       "      <th id=\"T_2c363_level0_row5\" class=\"row_heading level0 row5\" >5</th>\n",
       "      <td id=\"T_2c363_row5_col0\" class=\"data row5 col0\" >2022-09-24 13:00</td>\n",
       "      <td id=\"T_2c363_row5_col1\" class=\"data row5 col1\" >1.9</td>\n",
       "      <td id=\"T_2c363_row5_col2\" class=\"data row5 col2\" >-</td>\n",
       "      <td id=\"T_2c363_row5_col3\" class=\"data row5 col3\" >Países Bajos Sub 19</td>\n",
       "      <td id=\"T_2c363_row5_col4\" class=\"data row5 col4\" >78% - 2.98</td>\n",
       "      <td id=\"T_2c363_row5_col5\" class=\"data row5 col5\" >9% - 0.96</td>\n",
       "      <td id=\"T_2c363_row5_col6\" class=\"data row5 col6\" >Irlanda del Norte Sub 19</td>\n",
       "      <td id=\"T_2c363_row5_col7\" class=\"data row5 col7\" >-</td>\n",
       "      <td id=\"T_2c363_row5_col8\" class=\"data row5 col8\" >Clasificación Europeo Sub 19. Ronda de Clasificación,  Jornada 2</td>\n",
       "    </tr>\n",
       "    <tr>\n",
       "      <th id=\"T_2c363_level0_row6\" class=\"row_heading level0 row6\" >6</th>\n",
       "      <td id=\"T_2c363_row6_col0\" class=\"data row6 col0\" >2022-09-24 14:00</td>\n",
       "      <td id=\"T_2c363_row6_col1\" class=\"data row6 col1\" >5.6</td>\n",
       "      <td id=\"T_2c363_row6_col2\" class=\"data row6 col2\" >-</td>\n",
       "      <td id=\"T_2c363_row6_col3\" class=\"data row6 col3\" >Alemania Sub 19</td>\n",
       "      <td id=\"T_2c363_row6_col4\" class=\"data row6 col4\" >61.7% - 1.96</td>\n",
       "      <td id=\"T_2c363_row6_col5\" class=\"data row6 col5\" >17% - 0.92</td>\n",
       "      <td id=\"T_2c363_row6_col6\" class=\"data row6 col6\" >Bielorrusia Sub 19</td>\n",
       "      <td id=\"T_2c363_row6_col7\" class=\"data row6 col7\" >-</td>\n",
       "      <td id=\"T_2c363_row6_col8\" class=\"data row6 col8\" >Clasificación Europeo Sub 19. Ronda de Clasificación,  Jornada 2</td>\n",
       "    </tr>\n",
       "    <tr>\n",
       "      <th id=\"T_2c363_level0_row7\" class=\"row_heading level0 row7\" >7</th>\n",
       "      <td id=\"T_2c363_row7_col0\" class=\"data row7 col0\" >2022-09-24 14:00</td>\n",
       "      <td id=\"T_2c363_row7_col1\" class=\"data row7 col1\" >1</td>\n",
       "      <td id=\"T_2c363_row7_col2\" class=\"data row7 col2\" >-</td>\n",
       "      <td id=\"T_2c363_row7_col3\" class=\"data row7 col3\" >España Sub 19</td>\n",
       "      <td id=\"T_2c363_row7_col4\" class=\"data row7 col4\" >83.7% - 3.57</td>\n",
       "      <td id=\"T_2c363_row7_col5\" class=\"data row7 col5\" >6.5% - 1.02</td>\n",
       "      <td id=\"T_2c363_row7_col6\" class=\"data row7 col6\" >Albania Sub 19</td>\n",
       "      <td id=\"T_2c363_row7_col7\" class=\"data row7 col7\" >-</td>\n",
       "      <td id=\"T_2c363_row7_col8\" class=\"data row7 col8\" >Clasificación Europeo Sub 19. Ronda de Clasificación,  Jornada 1</td>\n",
       "    </tr>\n",
       "    <tr>\n",
       "      <th id=\"T_2c363_level0_row8\" class=\"row_heading level0 row8\" >8</th>\n",
       "      <td id=\"T_2c363_row8_col0\" class=\"data row8 col0\" >2022-09-24 16:00</td>\n",
       "      <td id=\"T_2c363_row8_col1\" class=\"data row8 col1\" >1.4</td>\n",
       "      <td id=\"T_2c363_row8_col2\" class=\"data row8 col2\" >-</td>\n",
       "      <td id=\"T_2c363_row8_col3\" class=\"data row8 col3\" >Dinamarca Sub 19</td>\n",
       "      <td id=\"T_2c363_row8_col4\" class=\"data row8 col4\" >65% - 2.79</td>\n",
       "      <td id=\"T_2c363_row8_col5\" class=\"data row8 col5\" >18.3% - 1.48</td>\n",
       "      <td id=\"T_2c363_row8_col6\" class=\"data row8 col6\" >Montenegro Sub 19</td>\n",
       "      <td id=\"T_2c363_row8_col7\" class=\"data row8 col7\" >-</td>\n",
       "      <td id=\"T_2c363_row8_col8\" class=\"data row8 col8\" >Clasificación Europeo Sub 19. Ronda de Clasificación,  Jornada 2</td>\n",
       "    </tr>\n",
       "    <tr>\n",
       "      <th id=\"T_2c363_level0_row9\" class=\"row_heading level0 row9\" >9</th>\n",
       "      <td id=\"T_2c363_row9_col0\" class=\"data row9 col0\" >2022-09-24 16:30</td>\n",
       "      <td id=\"T_2c363_row9_col1\" class=\"data row9 col1\" >1.2</td>\n",
       "      <td id=\"T_2c363_row9_col2\" class=\"data row9 col2\" >-</td>\n",
       "      <td id=\"T_2c363_row9_col3\" class=\"data row9 col3\" >República Checa Sub 19</td>\n",
       "      <td id=\"T_2c363_row9_col4\" class=\"data row9 col4\" >19.2% - 1.58</td>\n",
       "      <td id=\"T_2c363_row9_col5\" class=\"data row9 col5\" >64.2% - 2.87</td>\n",
       "      <td id=\"T_2c363_row9_col6\" class=\"data row9 col6\" >Suiza Sub 19</td>\n",
       "      <td id=\"T_2c363_row9_col7\" class=\"data row9 col7\" >-</td>\n",
       "      <td id=\"T_2c363_row9_col8\" class=\"data row9 col8\" >Clasificación Europeo Sub 19. Ronda de Clasificación,  Jornada 2</td>\n",
       "    </tr>\n",
       "    <tr>\n",
       "      <th id=\"T_2c363_level0_row10\" class=\"row_heading level0 row10\" >10</th>\n",
       "      <td id=\"T_2c363_row10_col0\" class=\"data row10 col0\" >2022-09-24 17:00</td>\n",
       "      <td id=\"T_2c363_row10_col1\" class=\"data row10 col1\" >4.6</td>\n",
       "      <td id=\"T_2c363_row10_col2\" class=\"data row10 col2\" >-</td>\n",
       "      <td id=\"T_2c363_row10_col3\" class=\"data row10 col3\" >Rumanía Sub 19</td>\n",
       "      <td id=\"T_2c363_row10_col4\" class=\"data row10 col4\" >82.5% - 2.6</td>\n",
       "      <td id=\"T_2c363_row10_col5\" class=\"data row10 col5\" >5% - 0.49</td>\n",
       "      <td id=\"T_2c363_row10_col6\" class=\"data row10 col6\" >Lituania Sub 19</td>\n",
       "      <td id=\"T_2c363_row10_col7\" class=\"data row10 col7\" >-</td>\n",
       "      <td id=\"T_2c363_row10_col8\" class=\"data row10 col8\" >Clasificación Europeo Sub 19. Ronda de Clasificación,  Jornada 2</td>\n",
       "    </tr>\n",
       "    <tr>\n",
       "      <th id=\"T_2c363_level0_row11\" class=\"row_heading level0 row11\" >11</th>\n",
       "      <td id=\"T_2c363_row11_col0\" class=\"data row11 col0\" >2022-09-24 13:00</td>\n",
       "      <td id=\"T_2c363_row11_col1\" class=\"data row11 col1\" >7.7</td>\n",
       "      <td id=\"T_2c363_row11_col2\" class=\"data row11 col2\" >11º</td>\n",
       "      <td id=\"T_2c363_row11_col3\" class=\"data row11 col3\" >Islandia</td>\n",
       "      <td id=\"T_2c363_row11_col4\" class=\"data row11 col4\" >42.9% - 1.41</td>\n",
       "      <td id=\"T_2c363_row11_col5\" class=\"data row11 col5\" >30.7% - 1.15</td>\n",
       "      <td id=\"T_2c363_row11_col6\" class=\"data row11 col6\" >Rusia</td>\n",
       "      <td id=\"T_2c363_row11_col7\" class=\"data row11 col7\" >16º</td>\n",
       "      <td id=\"T_2c363_row11_col8\" class=\"data row11 col8\" >Liga de las Naciones de la UEFA. Liga B,  Jornada 5</td>\n",
       "    </tr>\n",
       "    <tr>\n",
       "      <th id=\"T_2c363_level0_row12\" class=\"row_heading level0 row12\" >12</th>\n",
       "      <td id=\"T_2c363_row12_col0\" class=\"data row12 col0\" >2022-09-24 13:00</td>\n",
       "      <td id=\"T_2c363_row12_col1\" class=\"data row12 col1\" >4.7</td>\n",
       "      <td id=\"T_2c363_row12_col2\" class=\"data row12 col2\" >13º</td>\n",
       "      <td id=\"T_2c363_row12_col3\" class=\"data row12 col3\" >Armenia</td>\n",
       "      <td id=\"T_2c363_row12_col4\" class=\"data row12 col4\" >12.8% - 0.84</td>\n",
       "      <td id=\"T_2c363_row12_col5\" class=\"data row12 col5\" >68.7% - 2.22</td>\n",
       "      <td id=\"T_2c363_row12_col6\" class=\"data row12 col6\" >Ucrania</td>\n",
       "      <td id=\"T_2c363_row12_col7\" class=\"data row12 col7\" >3º</td>\n",
       "      <td id=\"T_2c363_row12_col8\" class=\"data row12 col8\" >Liga de las Naciones de la UEFA. Liga B,  Jornada 5</td>\n",
       "    </tr>\n",
       "    <tr>\n",
       "      <th id=\"T_2c363_level0_row13\" class=\"row_heading level0 row13\" >13</th>\n",
       "      <td id=\"T_2c363_row13_col0\" class=\"data row13 col0\" >2022-09-24 16:00</td>\n",
       "      <td id=\"T_2c363_row13_col1\" class=\"data row13 col1\" >9.9</td>\n",
       "      <td id=\"T_2c363_row13_col2\" class=\"data row13 col2\" >14º</td>\n",
       "      <td id=\"T_2c363_row13_col3\" class=\"data row13 col3\" >Eslovenia</td>\n",
       "      <td id=\"T_2c363_row13_col4\" class=\"data row13 col4\" >32.9% - 1.1</td>\n",
       "      <td id=\"T_2c363_row13_col5\" class=\"data row13 col5\" >38.9% - 1.22</td>\n",
       "      <td id=\"T_2c363_row13_col6\" class=\"data row13 col6\" >Noruega</td>\n",
       "      <td id=\"T_2c363_row13_col7\" class=\"data row13 col7\" >1º</td>\n",
       "      <td id=\"T_2c363_row13_col8\" class=\"data row13 col8\" >Liga de las Naciones de la UEFA. Liga B,  Jornada 5</td>\n",
       "    </tr>\n",
       "    <tr>\n",
       "      <th id=\"T_2c363_level0_row14\" class=\"row_heading level0 row14\" >14</th>\n",
       "      <td id=\"T_2c363_row14_col0\" class=\"data row14 col0\" >2022-09-24 16:00</td>\n",
       "      <td id=\"T_2c363_row14_col1\" class=\"data row14 col1\" >20.4</td>\n",
       "      <td id=\"T_2c363_row14_col2\" class=\"data row14 col2\" >14º</td>\n",
       "      <td id=\"T_2c363_row14_col3\" class=\"data row14 col3\" >Irlanda del Norte</td>\n",
       "      <td id=\"T_2c363_row14_col4\" class=\"data row14 col4\" >28.4% - 0.73</td>\n",
       "      <td id=\"T_2c363_row14_col5\" class=\"data row14 col5\" >36.3% - 0.86</td>\n",
       "      <td id=\"T_2c363_row14_col6\" class=\"data row14 col6\" >Kosovo</td>\n",
       "      <td id=\"T_2c363_row14_col7\" class=\"data row14 col7\" >8º</td>\n",
       "      <td id=\"T_2c363_row14_col8\" class=\"data row14 col8\" >Liga de las Naciones de la UEFA. Liga C,  Jornada 5</td>\n",
       "    </tr>\n",
       "    <tr>\n",
       "      <th id=\"T_2c363_level0_row15\" class=\"row_heading level0 row15\" >15</th>\n",
       "      <td id=\"T_2c363_row15_col0\" class=\"data row15 col0\" >2022-09-24 18:45</td>\n",
       "      <td id=\"T_2c363_row15_col1\" class=\"data row15 col1\" >4.6</td>\n",
       "      <td id=\"T_2c363_row15_col2\" class=\"data row15 col2\" >3º</td>\n",
       "      <td id=\"T_2c363_row15_col3\" class=\"data row15 col3\" >España</td>\n",
       "      <td id=\"T_2c363_row15_col4\" class=\"data row15 col4\" >67% - 2.2</td>\n",
       "      <td id=\"T_2c363_row15_col5\" class=\"data row15 col5\" >14% - 0.89</td>\n",
       "      <td id=\"T_2c363_row15_col6\" class=\"data row15 col6\" >Suiza</td>\n",
       "      <td id=\"T_2c363_row15_col7\" class=\"data row15 col7\" >13º</td>\n",
       "      <td id=\"T_2c363_row15_col8\" class=\"data row15 col8\" >Liga de las Naciones de la UEFA. Liga A,  Jornada 5</td>\n",
       "    </tr>\n",
       "    <tr>\n",
       "      <th id=\"T_2c363_level0_row16\" class=\"row_heading level0 row16\" >16</th>\n",
       "      <td id=\"T_2c363_row16_col0\" class=\"data row16 col0\" >2022-09-24 18:45</td>\n",
       "      <td id=\"T_2c363_row16_col1\" class=\"data row16 col1\" >9.2</td>\n",
       "      <td id=\"T_2c363_row16_col2\" class=\"data row16 col2\" >12º</td>\n",
       "      <td id=\"T_2c363_row16_col3\" class=\"data row16 col3\" >República Checa</td>\n",
       "      <td id=\"T_2c363_row16_col4\" class=\"data row16 col4\" >79.2% - 2.07</td>\n",
       "      <td id=\"T_2c363_row16_col5\" class=\"data row16 col5\" >4.6% - 0.32</td>\n",
       "      <td id=\"T_2c363_row16_col6\" class=\"data row16 col6\" >Portugal</td>\n",
       "      <td id=\"T_2c363_row16_col7\" class=\"data row16 col7\" >4º</td>\n",
       "      <td id=\"T_2c363_row16_col8\" class=\"data row16 col8\" >Liga de las Naciones de la UEFA. Liga A,  Jornada 5</td>\n",
       "    </tr>\n",
       "    <tr>\n",
       "      <th id=\"T_2c363_level0_row17\" class=\"row_heading level0 row17\" >17</th>\n",
       "      <td id=\"T_2c363_row17_col0\" class=\"data row17 col0\" >2022-09-24 18:45</td>\n",
       "      <td id=\"T_2c363_row17_col1\" class=\"data row17 col1\" >6.3</td>\n",
       "      <td id=\"T_2c363_row17_col2\" class=\"data row17 col2\" >5º</td>\n",
       "      <td id=\"T_2c363_row17_col3\" class=\"data row17 col3\" >Serbia</td>\n",
       "      <td id=\"T_2c363_row17_col4\" class=\"data row17 col4\" >67.8% - 2.03</td>\n",
       "      <td id=\"T_2c363_row17_col5\" class=\"data row17 col5\" >12.4% - 0.73</td>\n",
       "      <td id=\"T_2c363_row17_col6\" class=\"data row17 col6\" >Suecia</td>\n",
       "      <td id=\"T_2c363_row17_col7\" class=\"data row17 col7\" >12º</td>\n",
       "      <td id=\"T_2c363_row17_col8\" class=\"data row17 col8\" >Liga de las Naciones de la UEFA. Liga B,  Jornada 5</td>\n",
       "    </tr>\n",
       "    <tr>\n",
       "      <th id=\"T_2c363_level0_row18\" class=\"row_heading level0 row18\" >18</th>\n",
       "      <td id=\"T_2c363_row18_col0\" class=\"data row18 col0\" >2022-09-24 18:45</td>\n",
       "      <td id=\"T_2c363_row18_col1\" class=\"data row18 col1\" >6.7</td>\n",
       "      <td id=\"T_2c363_row18_col2\" class=\"data row18 col2\" >6º</td>\n",
       "      <td id=\"T_2c363_row18_col3\" class=\"data row18 col3\" >Escocia</td>\n",
       "      <td id=\"T_2c363_row18_col4\" class=\"data row18 col4\" >48.9% - 1.6</td>\n",
       "      <td id=\"T_2c363_row18_col5\" class=\"data row18 col5\" >26.2% - 1.1</td>\n",
       "      <td id=\"T_2c363_row18_col6\" class=\"data row18 col6\" >Irlanda</td>\n",
       "      <td id=\"T_2c363_row18_col7\" class=\"data row18 col7\" >8º</td>\n",
       "      <td id=\"T_2c363_row18_col8\" class=\"data row18 col8\" >Liga de las Naciones de la UEFA. Liga B,  Jornada 5</td>\n",
       "    </tr>\n",
       "    <tr>\n",
       "      <th id=\"T_2c363_level0_row19\" class=\"row_heading level0 row19\" >19</th>\n",
       "      <td id=\"T_2c363_row19_col0\" class=\"data row19 col0\" >2022-09-24 18:45</td>\n",
       "      <td id=\"T_2c363_row19_col1\" class=\"data row19 col1\" >20.5</td>\n",
       "      <td id=\"T_2c363_row19_col2\" class=\"data row19 col2\" >12º</td>\n",
       "      <td id=\"T_2c363_row19_col3\" class=\"data row19 col3\" >Chipre</td>\n",
       "      <td id=\"T_2c363_row19_col4\" class=\"data row19 col4\" >13.8% - 0.43</td>\n",
       "      <td id=\"T_2c363_row19_col5\" class=\"data row19 col5\" >54.1% - 1.15</td>\n",
       "      <td id=\"T_2c363_row19_col6\" class=\"data row19 col6\" >Grecia</td>\n",
       "      <td id=\"T_2c363_row19_col7\" class=\"data row19 col7\" >1º</td>\n",
       "      <td id=\"T_2c363_row19_col8\" class=\"data row19 col8\" >Liga de las Naciones de la UEFA. Liga C,  Jornada 5</td>\n",
       "    </tr>\n",
       "    <tr>\n",
       "      <th id=\"T_2c363_level0_row20\" class=\"row_heading level0 row20\" >20</th>\n",
       "      <td id=\"T_2c363_row20_col0\" class=\"data row20 col0\" >2022-09-24 18:45</td>\n",
       "      <td id=\"T_2c363_row20_col1\" class=\"data row20 col1\" >3.7</td>\n",
       "      <td id=\"T_2c363_row20_col2\" class=\"data row20 col2\" >7º</td>\n",
       "      <td id=\"T_2c363_row20_col3\" class=\"data row20 col3\" >Israel</td>\n",
       "      <td id=\"T_2c363_row20_col4\" class=\"data row20 col4\" >70.4% - 2.39</td>\n",
       "      <td id=\"T_2c363_row20_col5\" class=\"data row20 col5\" >12.4% - 0.9</td>\n",
       "      <td id=\"T_2c363_row20_col6\" class=\"data row20 col6\" >Albania</td>\n",
       "      <td id=\"T_2c363_row20_col7\" class=\"data row20 col7\" >15º</td>\n",
       "      <td id=\"T_2c363_row20_col8\" class=\"data row20 col8\" >Liga de las Naciones de la UEFA. Liga B,  Jornada 5</td>\n",
       "    </tr>\n",
       "    <tr>\n",
       "      <th id=\"T_2c363_level0_row21\" class=\"row_heading level0 row21\" >21</th>\n",
       "      <td id=\"T_2c363_row21_col0\" class=\"data row21 col0\" >2022-09-24 00:00</td>\n",
       "      <td id=\"T_2c363_row21_col1\" class=\"data row21 col1\" >9</td>\n",
       "      <td id=\"T_2c363_row21_col2\" class=\"data row21 col2\" >-</td>\n",
       "      <td id=\"T_2c363_row21_col3\" class=\"data row21 col3\" >Necaxa</td>\n",
       "      <td id=\"T_2c363_row21_col4\" class=\"data row21 col4\" >49% - 1.46</td>\n",
       "      <td id=\"T_2c363_row21_col5\" class=\"data row21 col5\" >24.5% - 0.95</td>\n",
       "      <td id=\"T_2c363_row21_col6\" class=\"data row21 col6\" >Mazatlán</td>\n",
       "      <td id=\"T_2c363_row21_col7\" class=\"data row21 col7\" >-</td>\n",
       "      <td id=\"T_2c363_row21_col8\" class=\"data row21 col8\" >Liga MX - Apertura.  Jornada 16</td>\n",
       "    </tr>\n",
       "    <tr>\n",
       "      <th id=\"T_2c363_level0_row22\" class=\"row_heading level0 row22\" >22</th>\n",
       "      <td id=\"T_2c363_row22_col0\" class=\"data row22 col0\" >2022-09-24 02:00</td>\n",
       "      <td id=\"T_2c363_row22_col1\" class=\"data row22 col1\" >10.9</td>\n",
       "      <td id=\"T_2c363_row22_col2\" class=\"data row22 col2\" >-</td>\n",
       "      <td id=\"T_2c363_row22_col3\" class=\"data row22 col3\" >Puebla</td>\n",
       "      <td id=\"T_2c363_row22_col4\" class=\"data row22 col4\" >40.2% - 1.2</td>\n",
       "      <td id=\"T_2c363_row22_col5\" class=\"data row22 col5\" >31% - 1.02</td>\n",
       "      <td id=\"T_2c363_row22_col6\" class=\"data row22 col6\" >Pumas UNAM</td>\n",
       "      <td id=\"T_2c363_row22_col7\" class=\"data row22 col7\" >-</td>\n",
       "      <td id=\"T_2c363_row22_col8\" class=\"data row22 col8\" >Liga MX - Apertura.  Jornada 7</td>\n",
       "    </tr>\n",
       "    <tr>\n",
       "      <th id=\"T_2c363_level0_row23\" class=\"row_heading level0 row23\" >23</th>\n",
       "      <td id=\"T_2c363_row23_col0\" class=\"data row23 col0\" >2022-09-23 22:00</td>\n",
       "      <td id=\"T_2c363_row23_col1\" class=\"data row23 col1\" >19.4</td>\n",
       "      <td id=\"T_2c363_row23_col2\" class=\"data row23 col2\" >6º</td>\n",
       "      <td id=\"T_2c363_row23_col3\" class=\"data row23 col3\" >Godoy Cruz</td>\n",
       "      <td id=\"T_2c363_row23_col4\" class=\"data row23 col4\" >47.9% - 1.08</td>\n",
       "      <td id=\"T_2c363_row23_col5\" class=\"data row23 col5\" >19% - 0.56</td>\n",
       "      <td id=\"T_2c363_row23_col6\" class=\"data row23 col6\" >Boca Juniors</td>\n",
       "      <td id=\"T_2c363_row23_col7\" class=\"data row23 col7\" >2º</td>\n",
       "      <td id=\"T_2c363_row23_col8\" class=\"data row23 col8\" >Liga Profesional Argentina.  Jornada 21</td>\n",
       "    </tr>\n",
       "    <tr>\n",
       "      <th id=\"T_2c363_level0_row24\" class=\"row_heading level0 row24\" >24</th>\n",
       "      <td id=\"T_2c363_row24_col0\" class=\"data row24 col0\" >2022-09-23 22:00</td>\n",
       "      <td id=\"T_2c363_row24_col1\" class=\"data row24 col1\" >13.7</td>\n",
       "      <td id=\"T_2c363_row24_col2\" class=\"data row24 col2\" >4º</td>\n",
       "      <td id=\"T_2c363_row24_col3\" class=\"data row24 col3\" >CA Huracán</td>\n",
       "      <td id=\"T_2c363_row24_col4\" class=\"data row24 col4\" >54.2% - 1.35</td>\n",
       "      <td id=\"T_2c363_row24_col5\" class=\"data row24 col5\" >17.6% - 0.64</td>\n",
       "      <td id=\"T_2c363_row24_col6\" class=\"data row24 col6\" >Banfield</td>\n",
       "      <td id=\"T_2c363_row24_col7\" class=\"data row24 col7\" >18º</td>\n",
       "      <td id=\"T_2c363_row24_col8\" class=\"data row24 col8\" >Liga Profesional Argentina.  Jornada 21</td>\n",
       "    </tr>\n",
       "    <tr>\n",
       "      <th id=\"T_2c363_level0_row25\" class=\"row_heading level0 row25\" >25</th>\n",
       "      <td id=\"T_2c363_row25_col0\" class=\"data row25 col0\" >2022-09-24 16:00</td>\n",
       "      <td id=\"T_2c363_row25_col1\" class=\"data row25 col1\" >8.8</td>\n",
       "      <td id=\"T_2c363_row25_col2\" class=\"data row25 col2\" >17º</td>\n",
       "      <td id=\"T_2c363_row25_col3\" class=\"data row25 col3\" >Sarmiento</td>\n",
       "      <td id=\"T_2c363_row25_col4\" class=\"data row25 col4\" >44.3% - 1.38</td>\n",
       "      <td id=\"T_2c363_row25_col5\" class=\"data row25 col5\" >28.7% - 1.05</td>\n",
       "      <td id=\"T_2c363_row25_col6\" class=\"data row25 col6\" >Arsenal de Sarandí</td>\n",
       "      <td id=\"T_2c363_row25_col7\" class=\"data row25 col7\" >22º</td>\n",
       "      <td id=\"T_2c363_row25_col8\" class=\"data row25 col8\" >Liga Profesional Argentina.  Jornada 21</td>\n",
       "    </tr>\n",
       "    <tr>\n",
       "      <th id=\"T_2c363_level0_row26\" class=\"row_heading level0 row26\" >26</th>\n",
       "      <td id=\"T_2c363_row26_col0\" class=\"data row26 col0\" >2022-09-24 16:00</td>\n",
       "      <td id=\"T_2c363_row26_col1\" class=\"data row26 col1\" >15.2</td>\n",
       "      <td id=\"T_2c363_row26_col2\" class=\"data row26 col2\" >19º</td>\n",
       "      <td id=\"T_2c363_row26_col3\" class=\"data row26 col3\" >Defensa y Justicia</td>\n",
       "      <td id=\"T_2c363_row26_col4\" class=\"data row26 col4\" >39.6% - 1.04</td>\n",
       "      <td id=\"T_2c363_row26_col5\" class=\"data row26 col5\" >28.7% - 0.84</td>\n",
       "      <td id=\"T_2c363_row26_col6\" class=\"data row26 col6\" >Patronato</td>\n",
       "      <td id=\"T_2c363_row26_col7\" class=\"data row26 col7\" >15º</td>\n",
       "      <td id=\"T_2c363_row26_col8\" class=\"data row26 col8\" >Liga Profesional Argentina.  Jornada 21</td>\n",
       "    </tr>\n",
       "    <tr>\n",
       "      <th id=\"T_2c363_level0_row27\" class=\"row_heading level0 row27\" >27</th>\n",
       "      <td id=\"T_2c363_row27_col0\" class=\"data row27 col0\" >2022-09-24 18:30</td>\n",
       "      <td id=\"T_2c363_row27_col1\" class=\"data row27 col1\" >23.4</td>\n",
       "      <td id=\"T_2c363_row27_col2\" class=\"data row27 col2\" >26º</td>\n",
       "      <td id=\"T_2c363_row27_col3\" class=\"data row27 col3\" >Lanús</td>\n",
       "      <td id=\"T_2c363_row27_col4\" class=\"data row27 col4\" >31.8% - 0.74</td>\n",
       "      <td id=\"T_2c363_row27_col5\" class=\"data row27 col5\" >30.7% - 0.72</td>\n",
       "      <td id=\"T_2c363_row27_col6\" class=\"data row27 col6\" >San Lorenzo</td>\n",
       "      <td id=\"T_2c363_row27_col7\" class=\"data row27 col7\" >12º</td>\n",
       "      <td id=\"T_2c363_row27_col8\" class=\"data row27 col8\" >Liga Profesional Argentina.  Jornada 21</td>\n",
       "    </tr>\n",
       "    <tr>\n",
       "      <th id=\"T_2c363_level0_row28\" class=\"row_heading level0 row28\" >28</th>\n",
       "      <td id=\"T_2c363_row28_col0\" class=\"data row28 col0\" >2022-09-24 21:00</td>\n",
       "      <td id=\"T_2c363_row28_col1\" class=\"data row28 col1\" >4.1</td>\n",
       "      <td id=\"T_2c363_row28_col2\" class=\"data row28 col2\" >7º</td>\n",
       "      <td id=\"T_2c363_row28_col3\" class=\"data row28 col3\" >River Plate</td>\n",
       "      <td id=\"T_2c363_row28_col4\" class=\"data row28 col4\" >83.3% - 2.68</td>\n",
       "      <td id=\"T_2c363_row28_col5\" class=\"data row28 col5\" >4.8% - 0.51</td>\n",
       "      <td id=\"T_2c363_row28_col6\" class=\"data row28 col6\" >Talleres Córdoba</td>\n",
       "      <td id=\"T_2c363_row28_col7\" class=\"data row28 col7\" >23º</td>\n",
       "      <td id=\"T_2c363_row28_col8\" class=\"data row28 col8\" >Liga Profesional Argentina.  Jornada 21</td>\n",
       "    </tr>\n",
       "    <tr>\n",
       "      <th id=\"T_2c363_level0_row29\" class=\"row_heading level0 row29\" >29</th>\n",
       "      <td id=\"T_2c363_row29_col0\" class=\"data row29 col0\" >2022-09-24 19:00</td>\n",
       "      <td id=\"T_2c363_row29_col1\" class=\"data row29 col1\" >11.7</td>\n",
       "      <td id=\"T_2c363_row29_col2\" class=\"data row29 col2\" >14º</td>\n",
       "      <td id=\"T_2c363_row29_col3\" class=\"data row29 col3\" >Atlético Bucaramanga</td>\n",
       "      <td id=\"T_2c363_row29_col4\" class=\"data row29 col4\" >58.2% - 1.51</td>\n",
       "      <td id=\"T_2c363_row29_col5\" class=\"data row29 col5\" >15.8% - 0.64</td>\n",
       "      <td id=\"T_2c363_row29_col6\" class=\"data row29 col6\" >Once Caldas</td>\n",
       "      <td id=\"T_2c363_row29_col7\" class=\"data row29 col7\" >9º</td>\n",
       "      <td id=\"T_2c363_row29_col8\" class=\"data row29 col8\" >Clausura Colombia.  Jornada 14</td>\n",
       "    </tr>\n",
       "    <tr>\n",
       "      <th id=\"T_2c363_level0_row30\" class=\"row_heading level0 row30\" >30</th>\n",
       "      <td id=\"T_2c363_row30_col0\" class=\"data row30 col0\" >2022-09-24 21:30</td>\n",
       "      <td id=\"T_2c363_row30_col1\" class=\"data row30 col1\" >9.9</td>\n",
       "      <td id=\"T_2c363_row30_col2\" class=\"data row30 col2\" >1º</td>\n",
       "      <td id=\"T_2c363_row30_col3\" class=\"data row30 col3\" >Millonarios</td>\n",
       "      <td id=\"T_2c363_row30_col4\" class=\"data row30 col4\" >68.1% - 1.79</td>\n",
       "      <td id=\"T_2c363_row30_col5\" class=\"data row30 col5\" >10.2% - 0.52</td>\n",
       "      <td id=\"T_2c363_row30_col6\" class=\"data row30 col6\" >América de Cali</td>\n",
       "      <td id=\"T_2c363_row30_col7\" class=\"data row30 col7\" >3º</td>\n",
       "      <td id=\"T_2c363_row30_col8\" class=\"data row30 col8\" >Clausura Colombia.  Jornada 14</td>\n",
       "    </tr>\n",
       "    <tr>\n",
       "      <th id=\"T_2c363_level0_row31\" class=\"row_heading level0 row31\" >31</th>\n",
       "      <td id=\"T_2c363_row31_col0\" class=\"data row31 col0\" >2022-09-23 22:00</td>\n",
       "      <td id=\"T_2c363_row31_col1\" class=\"data row31 col1\" >5.9</td>\n",
       "      <td id=\"T_2c363_row31_col2\" class=\"data row31 col2\" >14º</td>\n",
       "      <td id=\"T_2c363_row31_col3\" class=\"data row31 col3\" >San Jose Earthquakes</td>\n",
       "      <td id=\"T_2c363_row31_col4\" class=\"data row31 col4\" >51.5% - 1.72</td>\n",
       "      <td id=\"T_2c363_row31_col5\" class=\"data row31 col5\" >24.6% - 1.11</td>\n",
       "      <td id=\"T_2c363_row31_col6\" class=\"data row31 col6\" >LA Galaxy</td>\n",
       "      <td id=\"T_2c363_row31_col7\" class=\"data row31 col7\" >8º</td>\n",
       "      <td id=\"T_2c363_row31_col8\" class=\"data row31 col8\" >MLS - Liga USA.  Jornada 23</td>\n",
       "    </tr>\n",
       "    <tr>\n",
       "      <th id=\"T_2c363_level0_row32\" class=\"row_heading level0 row32\" >32</th>\n",
       "      <td id=\"T_2c363_row32_col0\" class=\"data row32 col0\" >2022-09-24 09:30</td>\n",
       "      <td id=\"T_2c363_row32_col1\" class=\"data row32 col1\" >6</td>\n",
       "      <td id=\"T_2c363_row32_col2\" class=\"data row32 col2\" >10º</td>\n",
       "      <td id=\"T_2c363_row32_col3\" class=\"data row32 col3\" >Changchun Yatai</td>\n",
       "      <td id=\"T_2c363_row32_col4\" class=\"data row32 col4\" >54.8% - 1.78</td>\n",
       "      <td id=\"T_2c363_row32_col5\" class=\"data row32 col5\" >21.9% - 1.04</td>\n",
       "      <td id=\"T_2c363_row32_col6\" class=\"data row32 col6\" >Wuhan FC</td>\n",
       "      <td id=\"T_2c363_row32_col7\" class=\"data row32 col7\" >14º</td>\n",
       "      <td id=\"T_2c363_row32_col8\" class=\"data row32 col8\" >Superliga China.  Jornada 17</td>\n",
       "    </tr>\n",
       "    <tr>\n",
       "      <th id=\"T_2c363_level0_row33\" class=\"row_heading level0 row33\" >33</th>\n",
       "      <td id=\"T_2c363_row33_col0\" class=\"data row33 col0\" >2022-09-24 11:30</td>\n",
       "      <td id=\"T_2c363_row33_col1\" class=\"data row33 col1\" >7.3</td>\n",
       "      <td id=\"T_2c363_row33_col2\" class=\"data row33 col2\" >2º</td>\n",
       "      <td id=\"T_2c363_row33_col3\" class=\"data row33 col3\" >Shandong Taishan</td>\n",
       "      <td id=\"T_2c363_row33_col4\" class=\"data row33 col4\" >47.6% - 1.54</td>\n",
       "      <td id=\"T_2c363_row33_col5\" class=\"data row33 col5\" >26.9% - 1.09</td>\n",
       "      <td id=\"T_2c363_row33_col6\" class=\"data row33 col6\" >Shanghái Port</td>\n",
       "      <td id=\"T_2c363_row33_col7\" class=\"data row33 col7\" >5º</td>\n",
       "      <td id=\"T_2c363_row33_col8\" class=\"data row33 col8\" >Superliga China.  Jornada 20</td>\n",
       "    </tr>\n",
       "    <tr>\n",
       "      <th id=\"T_2c363_level0_row34\" class=\"row_heading level0 row34\" >34</th>\n",
       "      <td id=\"T_2c363_row34_col0\" class=\"data row34 col0\" >2022-09-24 11:30</td>\n",
       "      <td id=\"T_2c363_row34_col1\" class=\"data row34 col1\" >8.7</td>\n",
       "      <td id=\"T_2c363_row34_col2\" class=\"data row34 col2\" >13º</td>\n",
       "      <td id=\"T_2c363_row34_col3\" class=\"data row34 col3\" >Dalian Pro</td>\n",
       "      <td id=\"T_2c363_row34_col4\" class=\"data row34 col4\" >30.2% - 1.09</td>\n",
       "      <td id=\"T_2c363_row34_col5\" class=\"data row34 col5\" >42.7% - 1.35</td>\n",
       "      <td id=\"T_2c363_row34_col6\" class=\"data row34 col6\" >Beijing Guoan</td>\n",
       "      <td id=\"T_2c363_row34_col7\" class=\"data row34 col7\" >9º</td>\n",
       "      <td id=\"T_2c363_row34_col8\" class=\"data row34 col8\" >Superliga China.  Jornada 17</td>\n",
       "    </tr>\n",
       "    <tr>\n",
       "      <th id=\"T_2c363_level0_row35\" class=\"row_heading level0 row35\" >35</th>\n",
       "      <td id=\"T_2c363_row35_col0\" class=\"data row35 col0\" >2022-09-24 11:30</td>\n",
       "      <td id=\"T_2c363_row35_col1\" class=\"data row35 col1\" >1.3</td>\n",
       "      <td id=\"T_2c363_row35_col2\" class=\"data row35 col2\" >1º</td>\n",
       "      <td id=\"T_2c363_row35_col3\" class=\"data row35 col3\" >Wuhan Three Towns</td>\n",
       "      <td id=\"T_2c363_row35_col4\" class=\"data row35 col4\" >85.2% - 3.49</td>\n",
       "      <td id=\"T_2c363_row35_col5\" class=\"data row35 col5\" >5.5% - 0.87</td>\n",
       "      <td id=\"T_2c363_row35_col6\" class=\"data row35 col6\" >Cangzhou Mighty Lions</td>\n",
       "      <td id=\"T_2c363_row35_col7\" class=\"data row35 col7\" >15º</td>\n",
       "      <td id=\"T_2c363_row35_col8\" class=\"data row35 col8\" >Superliga China.  Jornada 17</td>\n",
       "    </tr>\n",
       "    <tr>\n",
       "      <th id=\"T_2c363_level0_row36\" class=\"row_heading level0 row36\" >36</th>\n",
       "      <td id=\"T_2c363_row36_col0\" class=\"data row36 col0\" >2022-09-24 11:30</td>\n",
       "      <td id=\"T_2c363_row36_col1\" class=\"data row36 col1\" >5.4</td>\n",
       "      <td id=\"T_2c363_row36_col2\" class=\"data row36 col2\" >13º</td>\n",
       "      <td id=\"T_2c363_row36_col3\" class=\"data row36 col3\" >Dalian Pro</td>\n",
       "      <td id=\"T_2c363_row36_col4\" class=\"data row36 col4\" >47.1% - 1.67</td>\n",
       "      <td id=\"T_2c363_row36_col5\" class=\"data row36 col5\" >28.8% - 1.25</td>\n",
       "      <td id=\"T_2c363_row36_col6\" class=\"data row36 col6\" >Wuhan FC</td>\n",
       "      <td id=\"T_2c363_row36_col7\" class=\"data row36 col7\" >14º</td>\n",
       "      <td id=\"T_2c363_row36_col8\" class=\"data row36 col8\" >Superliga China.  Jornada 20</td>\n",
       "    </tr>\n",
       "    <tr>\n",
       "      <th id=\"T_2c363_level0_row37\" class=\"row_heading level0 row37\" >37</th>\n",
       "      <td id=\"T_2c363_row37_col0\" class=\"data row37 col0\" >2022-09-24 12:00</td>\n",
       "      <td id=\"T_2c363_row37_col1\" class=\"data row37 col1\" >13.8</td>\n",
       "      <td id=\"T_2c363_row37_col2\" class=\"data row37 col2\" >12º</td>\n",
       "      <td id=\"T_2c363_row37_col3\" class=\"data row37 col3\" >Tianjin Jinmen Tiger</td>\n",
       "      <td id=\"T_2c363_row37_col4\" class=\"data row37 col4\" >28.8% - 0.88</td>\n",
       "      <td id=\"T_2c363_row37_col5\" class=\"data row37 col5\" >40.4% - 1.1</td>\n",
       "      <td id=\"T_2c363_row37_col6\" class=\"data row37 col6\" >Zhejiang Pro</td>\n",
       "      <td id=\"T_2c363_row37_col7\" class=\"data row37 col7\" >7º</td>\n",
       "      <td id=\"T_2c363_row37_col8\" class=\"data row37 col8\" >Superliga China.  Jornada 20</td>\n",
       "    </tr>\n",
       "    <tr>\n",
       "      <th id=\"T_2c363_level0_row38\" class=\"row_heading level0 row38\" >38</th>\n",
       "      <td id=\"T_2c363_row38_col0\" class=\"data row38 col0\" >2022-09-24 12:00</td>\n",
       "      <td id=\"T_2c363_row38_col1\" class=\"data row38 col1\" >2.2</td>\n",
       "      <td id=\"T_2c363_row38_col2\" class=\"data row38 col2\" >11º</td>\n",
       "      <td id=\"T_2c363_row38_col3\" class=\"data row38 col3\" >Shenzhen FC</td>\n",
       "      <td id=\"T_2c363_row38_col4\" class=\"data row38 col4\" >28.9% - 1.64</td>\n",
       "      <td id=\"T_2c363_row38_col5\" class=\"data row38 col5\" >50.7% - 2.2</td>\n",
       "      <td id=\"T_2c363_row38_col6\" class=\"data row38 col6\" >Shandong Taishan</td>\n",
       "      <td id=\"T_2c363_row38_col7\" class=\"data row38 col7\" >2º</td>\n",
       "      <td id=\"T_2c363_row38_col8\" class=\"data row38 col8\" >Superliga China.  Jornada 17</td>\n",
       "    </tr>\n",
       "    <tr>\n",
       "      <th id=\"T_2c363_level0_row39\" class=\"row_heading level0 row39\" >39</th>\n",
       "      <td id=\"T_2c363_row39_col0\" class=\"data row39 col0\" >2022-09-24 12:00</td>\n",
       "      <td id=\"T_2c363_row39_col1\" class=\"data row39 col1\" >3.4</td>\n",
       "      <td id=\"T_2c363_row39_col2\" class=\"data row39 col2\" >11º</td>\n",
       "      <td id=\"T_2c363_row39_col3\" class=\"data row39 col3\" >Shenzhen FC</td>\n",
       "      <td id=\"T_2c363_row39_col4\" class=\"data row39 col4\" >57.7% - 2.13</td>\n",
       "      <td id=\"T_2c363_row39_col5\" class=\"data row39 col5\" >21.7% - 1.25</td>\n",
       "      <td id=\"T_2c363_row39_col6\" class=\"data row39 col6\" >Henan Songshan</td>\n",
       "      <td id=\"T_2c363_row39_col7\" class=\"data row39 col7\" >4º</td>\n",
       "      <td id=\"T_2c363_row39_col8\" class=\"data row39 col8\" >Superliga China.  Jornada 20</td>\n",
       "    </tr>\n",
       "    <tr>\n",
       "      <th id=\"T_2c363_level0_row40\" class=\"row_heading level0 row40\" >40</th>\n",
       "      <td id=\"T_2c363_row40_col0\" class=\"data row40 col0\" >2022-09-24 12:00</td>\n",
       "      <td id=\"T_2c363_row40_col1\" class=\"data row40 col1\" >11.1</td>\n",
       "      <td id=\"T_2c363_row40_col2\" class=\"data row40 col2\" >18º</td>\n",
       "      <td id=\"T_2c363_row40_col3\" class=\"data row40 col3\" >Huesca</td>\n",
       "      <td id=\"T_2c363_row40_col4\" class=\"data row40 col4\" >43% - 1.25</td>\n",
       "      <td id=\"T_2c363_row40_col5\" class=\"data row40 col5\" >28.3% - 0.95</td>\n",
       "      <td id=\"T_2c363_row40_col6\" class=\"data row40 col6\" >Leganés</td>\n",
       "      <td id=\"T_2c363_row40_col7\" class=\"data row40 col7\" >19º</td>\n",
       "      <td id=\"T_2c363_row40_col8\" class=\"data row40 col8\" >Segunda División.  Jornada 7</td>\n",
       "    </tr>\n",
       "    <tr>\n",
       "      <th id=\"T_2c363_level0_row41\" class=\"row_heading level0 row41\" >41</th>\n",
       "      <td id=\"T_2c363_row41_col0\" class=\"data row41 col0\" >2022-09-24 14:15</td>\n",
       "      <td id=\"T_2c363_row41_col1\" class=\"data row41 col1\" >5.8</td>\n",
       "      <td id=\"T_2c363_row41_col2\" class=\"data row41 col2\" >22º</td>\n",
       "      <td id=\"T_2c363_row41_col3\" class=\"data row41 col3\" >Mirandés</td>\n",
       "      <td id=\"T_2c363_row41_col4\" class=\"data row41 col4\" >49.1% - 1.68</td>\n",
       "      <td id=\"T_2c363_row41_col5\" class=\"data row41 col5\" >26.8% - 1.18</td>\n",
       "      <td id=\"T_2c363_row41_col6\" class=\"data row41 col6\" >Real Zaragoza</td>\n",
       "      <td id=\"T_2c363_row41_col7\" class=\"data row41 col7\" >14º</td>\n",
       "      <td id=\"T_2c363_row41_col8\" class=\"data row41 col8\" >Segunda División.  Jornada 7</td>\n",
       "    </tr>\n",
       "    <tr>\n",
       "      <th id=\"T_2c363_level0_row42\" class=\"row_heading level0 row42\" >42</th>\n",
       "      <td id=\"T_2c363_row42_col0\" class=\"data row42 col0\" >2022-09-24 16:30</td>\n",
       "      <td id=\"T_2c363_row42_col1\" class=\"data row42 col1\" >5.5</td>\n",
       "      <td id=\"T_2c363_row42_col2\" class=\"data row42 col2\" >10º</td>\n",
       "      <td id=\"T_2c363_row42_col3\" class=\"data row42 col3\" >Ponferradina</td>\n",
       "      <td id=\"T_2c363_row42_col4\" class=\"data row42 col4\" >55.9% - 1.85</td>\n",
       "      <td id=\"T_2c363_row42_col5\" class=\"data row42 col5\" >21.5% - 1.06</td>\n",
       "      <td id=\"T_2c363_row42_col6\" class=\"data row42 col6\" >Tenerife</td>\n",
       "      <td id=\"T_2c363_row42_col7\" class=\"data row42 col7\" >17º</td>\n",
       "      <td id=\"T_2c363_row42_col8\" class=\"data row42 col8\" >Segunda División.  Jornada 7</td>\n",
       "    </tr>\n",
       "    <tr>\n",
       "      <th id=\"T_2c363_level0_row43\" class=\"row_heading level0 row43\" >43</th>\n",
       "      <td id=\"T_2c363_row43_col0\" class=\"data row43 col0\" >2022-09-24 16:30</td>\n",
       "      <td id=\"T_2c363_row43_col1\" class=\"data row43 col1\" >14.5</td>\n",
       "      <td id=\"T_2c363_row43_col2\" class=\"data row43 col2\" >21º</td>\n",
       "      <td id=\"T_2c363_row43_col3\" class=\"data row43 col3\" >Málaga</td>\n",
       "      <td id=\"T_2c363_row43_col4\" class=\"data row43 col4\" >31.2% - 0.91</td>\n",
       "      <td id=\"T_2c363_row43_col5\" class=\"data row43 col5\" >37.4% - 1.03</td>\n",
       "      <td id=\"T_2c363_row43_col6\" class=\"data row43 col6\" >Villarreal B</td>\n",
       "      <td id=\"T_2c363_row43_col7\" class=\"data row43 col7\" >8º</td>\n",
       "      <td id=\"T_2c363_row43_col8\" class=\"data row43 col8\" >Segunda División.  Jornada 7</td>\n",
       "    </tr>\n",
       "    <tr>\n",
       "      <th id=\"T_2c363_level0_row44\" class=\"row_heading level0 row44\" >44</th>\n",
       "      <td id=\"T_2c363_row44_col0\" class=\"data row44 col0\" >2022-09-23 23:00</td>\n",
       "      <td id=\"T_2c363_row44_col1\" class=\"data row44 col1\" >10.8</td>\n",
       "      <td id=\"T_2c363_row44_col2\" class=\"data row44 col2\" >-</td>\n",
       "      <td id=\"T_2c363_row44_col3\" class=\"data row44 col3\" >Antofagasta</td>\n",
       "      <td id=\"T_2c363_row44_col4\" class=\"data row44 col4\" >24.6% - 0.88</td>\n",
       "      <td id=\"T_2c363_row44_col5\" class=\"data row44 col5\" >47.4% - 1.34</td>\n",
       "      <td id=\"T_2c363_row44_col6\" class=\"data row44 col6\" >Unión Española</td>\n",
       "      <td id=\"T_2c363_row44_col7\" class=\"data row44 col7\" >-</td>\n",
       "      <td id=\"T_2c363_row44_col8\" class=\"data row44 col8\" >Copa Chile .  Cuartos</td>\n",
       "    </tr>\n",
       "    <tr>\n",
       "      <th id=\"T_2c363_level0_row45\" class=\"row_heading level0 row45\" >45</th>\n",
       "      <td id=\"T_2c363_row45_col0\" class=\"data row45 col0\" >2022-09-24 13:00</td>\n",
       "      <td id=\"T_2c363_row45_col1\" class=\"data row45 col1\" >3.2</td>\n",
       "      <td id=\"T_2c363_row45_col2\" class=\"data row45 col2\" >-</td>\n",
       "      <td id=\"T_2c363_row45_col3\" class=\"data row45 col3\" >Inverness CT</td>\n",
       "      <td id=\"T_2c363_row45_col4\" class=\"data row45 col4\" >34% - 1.6</td>\n",
       "      <td id=\"T_2c363_row45_col5\" class=\"data row45 col5\" >43.7% - 1.83</td>\n",
       "      <td id=\"T_2c363_row45_col6\" class=\"data row45 col6\" >Brechin City</td>\n",
       "      <td id=\"T_2c363_row45_col7\" class=\"data row45 col7\" >-</td>\n",
       "      <td id=\"T_2c363_row45_col8\" class=\"data row45 col8\" >Challenge Cup Escocia.  1/16</td>\n",
       "    </tr>\n",
       "    <tr>\n",
       "      <th id=\"T_2c363_level0_row46\" class=\"row_heading level0 row46\" >46</th>\n",
       "      <td id=\"T_2c363_row46_col0\" class=\"data row46 col0\" >2022-09-24 14:00</td>\n",
       "      <td id=\"T_2c363_row46_col1\" class=\"data row46 col1\" >2.3</td>\n",
       "      <td id=\"T_2c363_row46_col2\" class=\"data row46 col2\" >-</td>\n",
       "      <td id=\"T_2c363_row46_col3\" class=\"data row46 col3\" >Cove Rangers</td>\n",
       "      <td id=\"T_2c363_row46_col4\" class=\"data row46 col4\" >54.3% - 2.25</td>\n",
       "      <td id=\"T_2c363_row46_col5\" class=\"data row46 col5\" >25.6% - 1.52</td>\n",
       "      <td id=\"T_2c363_row46_col6\" class=\"data row46 col6\" >Raith Rovers</td>\n",
       "      <td id=\"T_2c363_row46_col7\" class=\"data row46 col7\" >-</td>\n",
       "      <td id=\"T_2c363_row46_col8\" class=\"data row46 col8\" >Challenge Cup Escocia.  1/16</td>\n",
       "    </tr>\n",
       "    <tr>\n",
       "      <th id=\"T_2c363_level0_row47\" class=\"row_heading level0 row47\" >47</th>\n",
       "      <td id=\"T_2c363_row47_col0\" class=\"data row47 col0\" >2022-09-24 14:00</td>\n",
       "      <td id=\"T_2c363_row47_col1\" class=\"data row47 col1\" >1</td>\n",
       "      <td id=\"T_2c363_row47_col2\" class=\"data row47 col2\" >-</td>\n",
       "      <td id=\"T_2c363_row47_col3\" class=\"data row47 col3\" >Buckie Thistle</td>\n",
       "      <td id=\"T_2c363_row47_col4\" class=\"data row47 col4\" >50.9% - 2.58</td>\n",
       "      <td id=\"T_2c363_row47_col5\" class=\"data row47 col5\" >30.5% - 2.01</td>\n",
       "      <td id=\"T_2c363_row47_col6\" class=\"data row47 col6\" >Linfield</td>\n",
       "      <td id=\"T_2c363_row47_col7\" class=\"data row47 col7\" >-</td>\n",
       "      <td id=\"T_2c363_row47_col8\" class=\"data row47 col8\" >Challenge Cup Escocia.  1/16</td>\n",
       "    </tr>\n",
       "    <tr>\n",
       "      <th id=\"T_2c363_level0_row48\" class=\"row_heading level0 row48\" >48</th>\n",
       "      <td id=\"T_2c363_row48_col0\" class=\"data row48 col0\" >2022-09-24 14:00</td>\n",
       "      <td id=\"T_2c363_row48_col1\" class=\"data row48 col1\" >10</td>\n",
       "      <td id=\"T_2c363_row48_col2\" class=\"data row48 col2\" >-</td>\n",
       "      <td id=\"T_2c363_row48_col3\" class=\"data row48 col3\" >Peterhead</td>\n",
       "      <td id=\"T_2c363_row48_col4\" class=\"data row48 col4\" >26.9% - 0.96</td>\n",
       "      <td id=\"T_2c363_row48_col5\" class=\"data row48 col5\" >45.4% - 1.34</td>\n",
       "      <td id=\"T_2c363_row48_col6\" class=\"data row48 col6\" >Elgin City</td>\n",
       "      <td id=\"T_2c363_row48_col7\" class=\"data row48 col7\" >-</td>\n",
       "      <td id=\"T_2c363_row48_col8\" class=\"data row48 col8\" >Challenge Cup Escocia.  1/16</td>\n",
       "    </tr>\n",
       "    <tr>\n",
       "      <th id=\"T_2c363_level0_row49\" class=\"row_heading level0 row49\" >49</th>\n",
       "      <td id=\"T_2c363_row49_col0\" class=\"data row49 col0\" >2022-09-24 14:00</td>\n",
       "      <td id=\"T_2c363_row49_col1\" class=\"data row49 col1\" >5.4</td>\n",
       "      <td id=\"T_2c363_row49_col2\" class=\"data row49 col2\" >-</td>\n",
       "      <td id=\"T_2c363_row49_col3\" class=\"data row49 col3\" >Arbroath</td>\n",
       "      <td id=\"T_2c363_row49_col4\" class=\"data row49 col4\" >59.6% - 1.94</td>\n",
       "      <td id=\"T_2c363_row49_col5\" class=\"data row49 col5\" >18.7% - 0.98</td>\n",
       "      <td id=\"T_2c363_row49_col6\" class=\"data row49 col6\" >East Fife</td>\n",
       "      <td id=\"T_2c363_row49_col7\" class=\"data row49 col7\" >-</td>\n",
       "      <td id=\"T_2c363_row49_col8\" class=\"data row49 col8\" >Challenge Cup Escocia.  1/16</td>\n",
       "    </tr>\n",
       "    <tr>\n",
       "      <th id=\"T_2c363_level0_row50\" class=\"row_heading level0 row50\" >50</th>\n",
       "      <td id=\"T_2c363_row50_col0\" class=\"data row50 col0\" >2022-09-24 14:00</td>\n",
       "      <td id=\"T_2c363_row50_col1\" class=\"data row50 col1\" >5.9</td>\n",
       "      <td id=\"T_2c363_row50_col2\" class=\"data row50 col2\" >-</td>\n",
       "      <td id=\"T_2c363_row50_col3\" class=\"data row50 col3\" >Clyde</td>\n",
       "      <td id=\"T_2c363_row50_col4\" class=\"data row50 col4\" >36.7% - 1.4</td>\n",
       "      <td id=\"T_2c363_row50_col5\" class=\"data row50 col5\" >38.2% - 1.44</td>\n",
       "      <td id=\"T_2c363_row50_col6\" class=\"data row50 col6\" >Caernarfon Town FC</td>\n",
       "      <td id=\"T_2c363_row50_col7\" class=\"data row50 col7\" >-</td>\n",
       "      <td id=\"T_2c363_row50_col8\" class=\"data row50 col8\" >Challenge Cup Escocia.  1/16</td>\n",
       "    </tr>\n",
       "    <tr>\n",
       "      <th id=\"T_2c363_level0_row51\" class=\"row_heading level0 row51\" >51</th>\n",
       "      <td id=\"T_2c363_row51_col0\" class=\"data row51 col0\" >2022-09-23 22:00</td>\n",
       "      <td id=\"T_2c363_row51_col1\" class=\"data row51 col1\" >8</td>\n",
       "      <td id=\"T_2c363_row51_col2\" class=\"data row51 col2\" >3º</td>\n",
       "      <td id=\"T_2c363_row51_col3\" class=\"data row51 col3\" >Deportivo Maldonado</td>\n",
       "      <td id=\"T_2c363_row51_col4\" class=\"data row51 col4\" >37.3% - 1.28</td>\n",
       "      <td id=\"T_2c363_row51_col5\" class=\"data row51 col5\" >35.9% - 1.25</td>\n",
       "      <td id=\"T_2c363_row51_col6\" class=\"data row51 col6\" >Boston River</td>\n",
       "      <td id=\"T_2c363_row51_col7\" class=\"data row51 col7\" >8º</td>\n",
       "      <td id=\"T_2c363_row51_col8\" class=\"data row51 col8\" >Clausura Uruguay.  Jornada 10</td>\n",
       "    </tr>\n",
       "    <tr>\n",
       "      <th id=\"T_2c363_level0_row52\" class=\"row_heading level0 row52\" >52</th>\n",
       "      <td id=\"T_2c363_row52_col0\" class=\"data row52 col0\" >2022-09-24 14:00</td>\n",
       "      <td id=\"T_2c363_row52_col1\" class=\"data row52 col1\" >12.9</td>\n",
       "      <td id=\"T_2c363_row52_col2\" class=\"data row52 col2\" >9º</td>\n",
       "      <td id=\"T_2c363_row52_col3\" class=\"data row52 col3\" >Liverpool Montevideo</td>\n",
       "      <td id=\"T_2c363_row52_col4\" class=\"data row52 col4\" >45% - 1.22</td>\n",
       "      <td id=\"T_2c363_row52_col5\" class=\"data row52 col5\" >25.4% - 0.84</td>\n",
       "      <td id=\"T_2c363_row52_col6\" class=\"data row52 col6\" >Montevideo Wanderers</td>\n",
       "      <td id=\"T_2c363_row52_col7\" class=\"data row52 col7\" >12º</td>\n",
       "      <td id=\"T_2c363_row52_col8\" class=\"data row52 col8\" >Clausura Uruguay.  Jornada 10</td>\n",
       "    </tr>\n",
       "    <tr>\n",
       "      <th id=\"T_2c363_level0_row53\" class=\"row_heading level0 row53\" >53</th>\n",
       "      <td id=\"T_2c363_row53_col0\" class=\"data row53 col0\" >2022-09-24 19:00</td>\n",
       "      <td id=\"T_2c363_row53_col1\" class=\"data row53 col1\" >16.5</td>\n",
       "      <td id=\"T_2c363_row53_col2\" class=\"data row53 col2\" >4º</td>\n",
       "      <td id=\"T_2c363_row53_col3\" class=\"data row53 col3\" >Danubio</td>\n",
       "      <td id=\"T_2c363_row53_col4\" class=\"data row53 col4\" >26.2% - 0.76</td>\n",
       "      <td id=\"T_2c363_row53_col5\" class=\"data row53 col5\" >41.4% - 1.04</td>\n",
       "      <td id=\"T_2c363_row53_col6\" class=\"data row53 col6\" >River Plate Montevideo</td>\n",
       "      <td id=\"T_2c363_row53_col7\" class=\"data row53 col7\" >1º</td>\n",
       "      <td id=\"T_2c363_row53_col8\" class=\"data row53 col8\" >Clausura Uruguay.  Jornada 10</td>\n",
       "    </tr>\n",
       "    <tr>\n",
       "      <th id=\"T_2c363_level0_row54\" class=\"row_heading level0 row54\" >54</th>\n",
       "      <td id=\"T_2c363_row54_col0\" class=\"data row54 col0\" >2022-09-23 22:00</td>\n",
       "      <td id=\"T_2c363_row54_col1\" class=\"data row54 col1\" >18.6</td>\n",
       "      <td id=\"T_2c363_row54_col2\" class=\"data row54 col2\" >20º</td>\n",
       "      <td id=\"T_2c363_row54_col3\" class=\"data row54 col3\" >Náutico</td>\n",
       "      <td id=\"T_2c363_row54_col4\" class=\"data row54 col4\" >53.4% - 1.19</td>\n",
       "      <td id=\"T_2c363_row54_col5\" class=\"data row54 col5\" >15.4% - 0.49</td>\n",
       "      <td id=\"T_2c363_row54_col6\" class=\"data row54 col6\" >Sampaio Correa</td>\n",
       "      <td id=\"T_2c363_row54_col7\" class=\"data row54 col7\" >12º</td>\n",
       "      <td id=\"T_2c363_row54_col8\" class=\"data row54 col8\" >Serie B - Brasil.  Jornada 31</td>\n",
       "    </tr>\n",
       "    <tr>\n",
       "      <th id=\"T_2c363_level0_row55\" class=\"row_heading level0 row55\" >55</th>\n",
       "      <td id=\"T_2c363_row55_col0\" class=\"data row55 col0\" >2022-09-24 00:30</td>\n",
       "      <td id=\"T_2c363_row55_col1\" class=\"data row55 col1\" >14.6</td>\n",
       "      <td id=\"T_2c363_row55_col2\" class=\"data row55 col2\" >5º</td>\n",
       "      <td id=\"T_2c363_row55_col3\" class=\"data row55 col3\" >Londrina</td>\n",
       "      <td id=\"T_2c363_row55_col4\" class=\"data row55 col4\" >47.5% - 1.2</td>\n",
       "      <td id=\"T_2c363_row55_col5\" class=\"data row55 col5\" >22.2% - 0.72</td>\n",
       "      <td id=\"T_2c363_row55_col6\" class=\"data row55 col6\" >Ponte Preta</td>\n",
       "      <td id=\"T_2c363_row55_col7\" class=\"data row55 col7\" >8º</td>\n",
       "      <td id=\"T_2c363_row55_col8\" class=\"data row55 col8\" >Serie B - Brasil.  Jornada 31</td>\n",
       "    </tr>\n",
       "    <tr>\n",
       "      <th id=\"T_2c363_level0_row56\" class=\"row_heading level0 row56\" >56</th>\n",
       "      <td id=\"T_2c363_row56_col0\" class=\"data row56 col0\" >2022-09-24 14:00</td>\n",
       "      <td id=\"T_2c363_row56_col1\" class=\"data row56 col1\" >6.9</td>\n",
       "      <td id=\"T_2c363_row56_col2\" class=\"data row56 col2\" >7º</td>\n",
       "      <td id=\"T_2c363_row56_col3\" class=\"data row56 col3\" >Ituano</td>\n",
       "      <td id=\"T_2c363_row56_col4\" class=\"data row56 col4\" >63% - 1.88</td>\n",
       "      <td id=\"T_2c363_row56_col5\" class=\"data row56 col5\" >15.2% - 0.79</td>\n",
       "      <td id=\"T_2c363_row56_col6\" class=\"data row56 col6\" >Brusque</td>\n",
       "      <td id=\"T_2c363_row56_col7\" class=\"data row56 col7\" >18º</td>\n",
       "      <td id=\"T_2c363_row56_col8\" class=\"data row56 col8\" >Serie B - Brasil.  Jornada 31</td>\n",
       "    </tr>\n",
       "    <tr>\n",
       "      <th id=\"T_2c363_level0_row57\" class=\"row_heading level0 row57\" >57</th>\n",
       "      <td id=\"T_2c363_row57_col0\" class=\"data row57 col0\" >2022-09-24 21:15</td>\n",
       "      <td id=\"T_2c363_row57_col1\" class=\"data row57 col1\" >7.7</td>\n",
       "      <td id=\"T_2c363_row57_col2\" class=\"data row57 col2\" >2º</td>\n",
       "      <td id=\"T_2c363_row57_col3\" class=\"data row57 col3\" >Bahía</td>\n",
       "      <td id=\"T_2c363_row57_col4\" class=\"data row57 col4\" >71.5% - 2</td>\n",
       "      <td id=\"T_2c363_row57_col5\" class=\"data row57 col5\" >9.4% - 0.56</td>\n",
       "      <td id=\"T_2c363_row57_col6\" class=\"data row57 col6\" >Operário PR</td>\n",
       "      <td id=\"T_2c363_row57_col7\" class=\"data row57 col7\" >19º</td>\n",
       "      <td id=\"T_2c363_row57_col8\" class=\"data row57 col8\" >Serie B - Brasil.  Jornada 31</td>\n",
       "    </tr>\n",
       "    <tr>\n",
       "      <th id=\"T_2c363_level0_row58\" class=\"row_heading level0 row58\" >58</th>\n",
       "      <td id=\"T_2c363_row58_col0\" class=\"data row58 col0\" >2022-09-23 22:00</td>\n",
       "      <td id=\"T_2c363_row58_col1\" class=\"data row58 col1\" >10.4</td>\n",
       "      <td id=\"T_2c363_row58_col2\" class=\"data row58 col2\" >-</td>\n",
       "      <td id=\"T_2c363_row58_col3\" class=\"data row58 col3\" >Tepatitlán FC</td>\n",
       "      <td id=\"T_2c363_row58_col4\" class=\"data row58 col4\" >44.6% - 1.31</td>\n",
       "      <td id=\"T_2c363_row58_col5\" class=\"data row58 col5\" >27.3% - 0.96</td>\n",
       "      <td id=\"T_2c363_row58_col6\" class=\"data row58 col6\" >CD Tapatío</td>\n",
       "      <td id=\"T_2c363_row58_col7\" class=\"data row58 col7\" >-</td>\n",
       "      <td id=\"T_2c363_row58_col8\" class=\"data row58 col8\" >Liga de Expansión MX - Apertura. Temporada Regular,  Jornada 14</td>\n",
       "    </tr>\n",
       "    <tr>\n",
       "      <th id=\"T_2c363_level0_row59\" class=\"row_heading level0 row59\" >59</th>\n",
       "      <td id=\"T_2c363_row59_col0\" class=\"data row59 col0\" >2022-09-24 00:05</td>\n",
       "      <td id=\"T_2c363_row59_col1\" class=\"data row59 col1\" >16.5</td>\n",
       "      <td id=\"T_2c363_row59_col2\" class=\"data row59 col2\" >16º</td>\n",
       "      <td id=\"T_2c363_row59_col3\" class=\"data row59 col3\" >Correcaminos UAT</td>\n",
       "      <td id=\"T_2c363_row59_col4\" class=\"data row59 col4\" >43.1% - 1.07</td>\n",
       "      <td id=\"T_2c363_row59_col5\" class=\"data row59 col5\" >24.7% - 0.73</td>\n",
       "      <td id=\"T_2c363_row59_col6\" class=\"data row59 col6\" >Raya2 Expansión</td>\n",
       "      <td id=\"T_2c363_row59_col7\" class=\"data row59 col7\" >13º</td>\n",
       "      <td id=\"T_2c363_row59_col8\" class=\"data row59 col8\" >Liga de Expansión MX - Apertura. Temporada Regular,  Jornada 14</td>\n",
       "    </tr>\n",
       "    <tr>\n",
       "      <th id=\"T_2c363_level0_row60\" class=\"row_heading level0 row60\" >60</th>\n",
       "      <td id=\"T_2c363_row60_col0\" class=\"data row60 col0\" >2022-09-24 11:30</td>\n",
       "      <td id=\"T_2c363_row60_col1\" class=\"data row60 col1\" >6.3</td>\n",
       "      <td id=\"T_2c363_row60_col2\" class=\"data row60 col2\" >21º</td>\n",
       "      <td id=\"T_2c363_row60_col3\" class=\"data row60 col3\" >Forest Green Rovers</td>\n",
       "      <td id=\"T_2c363_row60_col4\" class=\"data row60 col4\" >25.6% - 1.11</td>\n",
       "      <td id=\"T_2c363_row60_col5\" class=\"data row60 col5\" >50% - 1.65</td>\n",
       "      <td id=\"T_2c363_row60_col6\" class=\"data row60 col6\" >Exeter City</td>\n",
       "      <td id=\"T_2c363_row60_col7\" class=\"data row60 col7\" >16º</td>\n",
       "      <td id=\"T_2c363_row60_col8\" class=\"data row60 col8\" >League One.  Jornada 11</td>\n",
       "    </tr>\n",
       "    <tr>\n",
       "      <th id=\"T_2c363_level0_row61\" class=\"row_heading level0 row61\" >61</th>\n",
       "      <td id=\"T_2c363_row61_col0\" class=\"data row61 col0\" >2022-09-24 14:00</td>\n",
       "      <td id=\"T_2c363_row61_col1\" class=\"data row61 col1\" >9.5</td>\n",
       "      <td id=\"T_2c363_row61_col2\" class=\"data row61 col2\" >6º</td>\n",
       "      <td id=\"T_2c363_row61_col3\" class=\"data row61 col3\" >Barnsley</td>\n",
       "      <td id=\"T_2c363_row61_col4\" class=\"data row61 col4\" >34.2% - 1.14</td>\n",
       "      <td id=\"T_2c363_row61_col5\" class=\"data row61 col5\" >37.8% - 1.21</td>\n",
       "      <td id=\"T_2c363_row61_col6\" class=\"data row61 col6\" >Charlton Athletic</td>\n",
       "      <td id=\"T_2c363_row61_col7\" class=\"data row61 col7\" >15º</td>\n",
       "      <td id=\"T_2c363_row61_col8\" class=\"data row61 col8\" >League One.  Jornada 11</td>\n",
       "    </tr>\n",
       "    <tr>\n",
       "      <th id=\"T_2c363_level0_row62\" class=\"row_heading level0 row62\" >62</th>\n",
       "      <td id=\"T_2c363_row62_col0\" class=\"data row62 col0\" >2022-09-24 14:00</td>\n",
       "      <td id=\"T_2c363_row62_col1\" class=\"data row62 col1\" >3.3</td>\n",
       "      <td id=\"T_2c363_row62_col2\" class=\"data row62 col2\" >4º</td>\n",
       "      <td id=\"T_2c363_row62_col3\" class=\"data row62 col3\" >Sheffield Wednesday</td>\n",
       "      <td id=\"T_2c363_row62_col4\" class=\"data row62 col4\" >59.8% - 2.21</td>\n",
       "      <td id=\"T_2c363_row62_col5\" class=\"data row62 col5\" >20.2% - 1.22</td>\n",
       "      <td id=\"T_2c363_row62_col6\" class=\"data row62 col6\" >Wycombe Wanderers</td>\n",
       "      <td id=\"T_2c363_row62_col7\" class=\"data row62 col7\" >14º</td>\n",
       "      <td id=\"T_2c363_row62_col8\" class=\"data row62 col8\" >League One.  Jornada 11</td>\n",
       "    </tr>\n",
       "    <tr>\n",
       "      <th id=\"T_2c363_level0_row63\" class=\"row_heading level0 row63\" >63</th>\n",
       "      <td id=\"T_2c363_row63_col0\" class=\"data row63 col0\" >2022-09-24 14:00</td>\n",
       "      <td id=\"T_2c363_row63_col1\" class=\"data row63 col1\" >5.9</td>\n",
       "      <td id=\"T_2c363_row63_col2\" class=\"data row63 col2\" >7º</td>\n",
       "      <td id=\"T_2c363_row63_col3\" class=\"data row63 col3\" >Derby County</td>\n",
       "      <td id=\"T_2c363_row63_col4\" class=\"data row63 col4\" >49% - 1.67</td>\n",
       "      <td id=\"T_2c363_row63_col5\" class=\"data row63 col5\" >26.8% - 1.17</td>\n",
       "      <td id=\"T_2c363_row63_col6\" class=\"data row63 col6\" >Cheltenham Town</td>\n",
       "      <td id=\"T_2c363_row63_col7\" class=\"data row63 col7\" >22º</td>\n",
       "      <td id=\"T_2c363_row63_col8\" class=\"data row63 col8\" >League One.  Jornada 11</td>\n",
       "    </tr>\n",
       "    <tr>\n",
       "      <th id=\"T_2c363_level0_row64\" class=\"row_heading level0 row64\" >64</th>\n",
       "      <td id=\"T_2c363_row64_col0\" class=\"data row64 col0\" >2022-09-24 14:00</td>\n",
       "      <td id=\"T_2c363_row64_col1\" class=\"data row64 col1\" >3.5</td>\n",
       "      <td id=\"T_2c363_row64_col2\" class=\"data row64 col2\" >1º</td>\n",
       "      <td id=\"T_2c363_row64_col3\" class=\"data row64 col3\" >Portsmouth</td>\n",
       "      <td id=\"T_2c363_row64_col4\" class=\"data row64 col4\" >47.6% - 1.89</td>\n",
       "      <td id=\"T_2c363_row64_col5\" class=\"data row64 col5\" >30.1% - 1.47</td>\n",
       "      <td id=\"T_2c363_row64_col6\" class=\"data row64 col6\" >Bolton Wanderers</td>\n",
       "      <td id=\"T_2c363_row64_col7\" class=\"data row64 col7\" >5º</td>\n",
       "      <td id=\"T_2c363_row64_col8\" class=\"data row64 col8\" >League One.  Jornada 11</td>\n",
       "    </tr>\n",
       "    <tr>\n",
       "      <th id=\"T_2c363_level0_row65\" class=\"row_heading level0 row65\" >65</th>\n",
       "      <td id=\"T_2c363_row65_col0\" class=\"data row65 col0\" >2022-09-24 14:00</td>\n",
       "      <td id=\"T_2c363_row65_col1\" class=\"data row65 col1\" >6.7</td>\n",
       "      <td id=\"T_2c363_row65_col2\" class=\"data row65 col2\" >13º</td>\n",
       "      <td id=\"T_2c363_row65_col3\" class=\"data row65 col3\" >Peterborough United</td>\n",
       "      <td id=\"T_2c363_row65_col4\" class=\"data row65 col4\" >49.6% - 1.61</td>\n",
       "      <td id=\"T_2c363_row65_col5\" class=\"data row65 col5\" >25.7% - 1.09</td>\n",
       "      <td id=\"T_2c363_row65_col6\" class=\"data row65 col6\" >Port Vale</td>\n",
       "      <td id=\"T_2c363_row65_col7\" class=\"data row65 col7\" >10º</td>\n",
       "      <td id=\"T_2c363_row65_col8\" class=\"data row65 col8\" >League One.  Jornada 11</td>\n",
       "    </tr>\n",
       "    <tr>\n",
       "      <th id=\"T_2c363_level0_row66\" class=\"row_heading level0 row66\" >66</th>\n",
       "      <td id=\"T_2c363_row66_col0\" class=\"data row66 col0\" >2022-09-24 14:00</td>\n",
       "      <td id=\"T_2c363_row66_col1\" class=\"data row66 col1\" >5.5</td>\n",
       "      <td id=\"T_2c363_row66_col2\" class=\"data row66 col2\" >18º</td>\n",
       "      <td id=\"T_2c363_row66_col3\" class=\"data row66 col3\" >Oxford United</td>\n",
       "      <td id=\"T_2c363_row66_col4\" class=\"data row66 col4\" >58.8% - 1.91</td>\n",
       "      <td id=\"T_2c363_row66_col5\" class=\"data row66 col5\" >19.2% - 0.99</td>\n",
       "      <td id=\"T_2c363_row66_col6\" class=\"data row66 col6\" >Fleetwood Town</td>\n",
       "      <td id=\"T_2c363_row66_col7\" class=\"data row66 col7\" >12º</td>\n",
       "      <td id=\"T_2c363_row66_col8\" class=\"data row66 col8\" >League One.  Jornada 11</td>\n",
       "    </tr>\n",
       "    <tr>\n",
       "      <th id=\"T_2c363_level0_row67\" class=\"row_heading level0 row67\" >67</th>\n",
       "      <td id=\"T_2c363_row67_col0\" class=\"data row67 col0\" >2022-09-24 14:00</td>\n",
       "      <td id=\"T_2c363_row67_col1\" class=\"data row67 col1\" >9.3</td>\n",
       "      <td id=\"T_2c363_row67_col2\" class=\"data row67 col2\" >11º</td>\n",
       "      <td id=\"T_2c363_row67_col3\" class=\"data row67 col3\" >Shrewsbury Town</td>\n",
       "      <td id=\"T_2c363_row67_col4\" class=\"data row67 col4\" >42% - 1.31</td>\n",
       "      <td id=\"T_2c363_row67_col5\" class=\"data row67 col5\" >30.5% - 1.07</td>\n",
       "      <td id=\"T_2c363_row67_col6\" class=\"data row67 col6\" >Burton Albion</td>\n",
       "      <td id=\"T_2c363_row67_col7\" class=\"data row67 col7\" >24º</td>\n",
       "      <td id=\"T_2c363_row67_col8\" class=\"data row67 col8\" >League One.  Jornada 11</td>\n",
       "    </tr>\n",
       "    <tr>\n",
       "      <th id=\"T_2c363_level0_row68\" class=\"row_heading level0 row68\" >68</th>\n",
       "      <td id=\"T_2c363_row68_col0\" class=\"data row68 col0\" >2022-09-24 14:00</td>\n",
       "      <td id=\"T_2c363_row68_col1\" class=\"data row68 col1\" >4.8</td>\n",
       "      <td id=\"T_2c363_row68_col2\" class=\"data row68 col2\" >9º</td>\n",
       "      <td id=\"T_2c363_row68_col3\" class=\"data row68 col3\" >Lincoln City</td>\n",
       "      <td id=\"T_2c363_row68_col4\" class=\"data row68 col4\" >25% - 1.2</td>\n",
       "      <td id=\"T_2c363_row68_col5\" class=\"data row68 col5\" >52% - 1.83</td>\n",
       "      <td id=\"T_2c363_row68_col6\" class=\"data row68 col6\" >Milton Keynes Dons</td>\n",
       "      <td id=\"T_2c363_row68_col7\" class=\"data row68 col7\" >17º</td>\n",
       "      <td id=\"T_2c363_row68_col8\" class=\"data row68 col8\" >League One.  Jornada 11</td>\n",
       "    </tr>\n",
       "    <tr>\n",
       "      <th id=\"T_2c363_level0_row69\" class=\"row_heading level0 row69\" >69</th>\n",
       "      <td id=\"T_2c363_row69_col0\" class=\"data row69 col0\" >2022-09-24 14:00</td>\n",
       "      <td id=\"T_2c363_row69_col1\" class=\"data row69 col1\" >6.6</td>\n",
       "      <td id=\"T_2c363_row69_col2\" class=\"data row69 col2\" >20º</td>\n",
       "      <td id=\"T_2c363_row69_col3\" class=\"data row69 col3\" >Bristol Rovers</td>\n",
       "      <td id=\"T_2c363_row69_col4\" class=\"data row69 col4\" >66.4% - 1.97</td>\n",
       "      <td id=\"T_2c363_row69_col5\" class=\"data row69 col5\" >13.1% - 0.74</td>\n",
       "      <td id=\"T_2c363_row69_col6\" class=\"data row69 col6\" >Accrington Stanley</td>\n",
       "      <td id=\"T_2c363_row69_col7\" class=\"data row69 col7\" >19º</td>\n",
       "      <td id=\"T_2c363_row69_col8\" class=\"data row69 col8\" >League One.  Jornada 11</td>\n",
       "    </tr>\n",
       "    <tr>\n",
       "      <th id=\"T_2c363_level0_row70\" class=\"row_heading level0 row70\" >70</th>\n",
       "      <td id=\"T_2c363_row70_col0\" class=\"data row70 col0\" >2022-09-24 14:00</td>\n",
       "      <td id=\"T_2c363_row70_col1\" class=\"data row70 col1\" >10.4</td>\n",
       "      <td id=\"T_2c363_row70_col2\" class=\"data row70 col2\" >23º</td>\n",
       "      <td id=\"T_2c363_row70_col3\" class=\"data row70 col3\" >Morecambe</td>\n",
       "      <td id=\"T_2c363_row70_col4\" class=\"data row70 col4\" >35.6% - 1.13</td>\n",
       "      <td id=\"T_2c363_row70_col5\" class=\"data row70 col5\" >35.8% - 1.13</td>\n",
       "      <td id=\"T_2c363_row70_col6\" class=\"data row70 col6\" >Cambridge United</td>\n",
       "      <td id=\"T_2c363_row70_col7\" class=\"data row70 col7\" >8º</td>\n",
       "      <td id=\"T_2c363_row70_col8\" class=\"data row70 col8\" >League One.  Jornada 11</td>\n",
       "    </tr>\n",
       "    <tr>\n",
       "      <th id=\"T_2c363_level0_row71\" class=\"row_heading level0 row71\" >71</th>\n",
       "      <td id=\"T_2c363_row71_col0\" class=\"data row71 col0\" >2022-09-24 17:30</td>\n",
       "      <td id=\"T_2c363_row71_col1\" class=\"data row71 col1\" >4</td>\n",
       "      <td id=\"T_2c363_row71_col2\" class=\"data row71 col2\" >-</td>\n",
       "      <td id=\"T_2c363_row71_col3\" class=\"data row71 col3\" >FCV Dender</td>\n",
       "      <td id=\"T_2c363_row71_col4\" class=\"data row71 col4\" >59.8% - 2.1</td>\n",
       "      <td id=\"T_2c363_row71_col5\" class=\"data row71 col5\" >19.6% - 1.12</td>\n",
       "      <td id=\"T_2c363_row71_col6\" class=\"data row71 col6\" >Dikkelvenne</td>\n",
       "      <td id=\"T_2c363_row71_col7\" class=\"data row71 col7\" >-</td>\n",
       "      <td id=\"T_2c363_row71_col8\" class=\"data row71 col8\" >Copa Belga.  1/32</td>\n",
       "    </tr>\n",
       "    <tr>\n",
       "      <th id=\"T_2c363_level0_row72\" class=\"row_heading level0 row72\" >72</th>\n",
       "      <td id=\"T_2c363_row72_col0\" class=\"data row72 col0\" >2022-09-24 18:00</td>\n",
       "      <td id=\"T_2c363_row72_col1\" class=\"data row72 col1\" >4.6</td>\n",
       "      <td id=\"T_2c363_row72_col2\" class=\"data row72 col2\" >-</td>\n",
       "      <td id=\"T_2c363_row72_col3\" class=\"data row72 col3\" >Lommel SK</td>\n",
       "      <td id=\"T_2c363_row72_col4\" class=\"data row72 col4\" >14.2% - 0.89</td>\n",
       "      <td id=\"T_2c363_row72_col5\" class=\"data row72 col5\" >66.8% - 2.18</td>\n",
       "      <td id=\"T_2c363_row72_col6\" class=\"data row72 col6\" >RAAL La Louviere</td>\n",
       "      <td id=\"T_2c363_row72_col7\" class=\"data row72 col7\" >-</td>\n",
       "      <td id=\"T_2c363_row72_col8\" class=\"data row72 col8\" >Copa Belga.  1/32</td>\n",
       "    </tr>\n",
       "    <tr>\n",
       "      <th id=\"T_2c363_level0_row73\" class=\"row_heading level0 row73\" >73</th>\n",
       "      <td id=\"T_2c363_row73_col0\" class=\"data row73 col0\" >2022-09-24 18:00</td>\n",
       "      <td id=\"T_2c363_row73_col1\" class=\"data row73 col1\" >1.2</td>\n",
       "      <td id=\"T_2c363_row73_col2\" class=\"data row73 col2\" >-</td>\n",
       "      <td id=\"T_2c363_row73_col3\" class=\"data row73 col3\" >Lierse Kempenzonen</td>\n",
       "      <td id=\"T_2c363_row73_col4\" class=\"data row73 col4\" >39.8% - 2.18</td>\n",
       "      <td id=\"T_2c363_row73_col5\" class=\"data row73 col5\" >40.5% - 2.2</td>\n",
       "      <td id=\"T_2c363_row73_col6\" class=\"data row73 col6\" >Racing Mechelen</td>\n",
       "      <td id=\"T_2c363_row73_col7\" class=\"data row73 col7\" >-</td>\n",
       "      <td id=\"T_2c363_row73_col8\" class=\"data row73 col8\" >Copa Belga.  1/32</td>\n",
       "    </tr>\n",
       "    <tr>\n",
       "      <th id=\"T_2c363_level0_row74\" class=\"row_heading level0 row74\" >74</th>\n",
       "      <td id=\"T_2c363_row74_col0\" class=\"data row74 col0\" >2022-09-23 23:30</td>\n",
       "      <td id=\"T_2c363_row74_col1\" class=\"data row74 col1\" >6.3</td>\n",
       "      <td id=\"T_2c363_row74_col2\" class=\"data row74 col2\" >6º</td>\n",
       "      <td id=\"T_2c363_row74_col3\" class=\"data row74 col3\" >York United</td>\n",
       "      <td id=\"T_2c363_row74_col4\" class=\"data row74 col4\" >29.5% - 1.21</td>\n",
       "      <td id=\"T_2c363_row74_col5\" class=\"data row74 col5\" >45.6% - 1.56</td>\n",
       "      <td id=\"T_2c363_row74_col6\" class=\"data row74 col6\" >Valour</td>\n",
       "      <td id=\"T_2c363_row74_col7\" class=\"data row74 col7\" >4º</td>\n",
       "      <td id=\"T_2c363_row74_col8\" class=\"data row74 col8\" >Premier League Canadá.  Jornada 11</td>\n",
       "    </tr>\n",
       "    <tr>\n",
       "      <th id=\"T_2c363_level0_row75\" class=\"row_heading level0 row75\" >75</th>\n",
       "      <td id=\"T_2c363_row75_col0\" class=\"data row75 col0\" >2022-09-24 18:30</td>\n",
       "      <td id=\"T_2c363_row75_col1\" class=\"data row75 col1\" >15</td>\n",
       "      <td id=\"T_2c363_row75_col2\" class=\"data row75 col2\" >7º</td>\n",
       "      <td id=\"T_2c363_row75_col3\" class=\"data row75 col3\" >HFX Wanderers</td>\n",
       "      <td id=\"T_2c363_row75_col4\" class=\"data row75 col4\" >39.4% - 1.05</td>\n",
       "      <td id=\"T_2c363_row75_col5\" class=\"data row75 col5\" >28.9% - 0.85</td>\n",
       "      <td id=\"T_2c363_row75_col6\" class=\"data row75 col6\" >Pacific</td>\n",
       "      <td id=\"T_2c363_row75_col7\" class=\"data row75 col7\" >5º</td>\n",
       "      <td id=\"T_2c363_row75_col8\" class=\"data row75 col8\" >Premier League Canadá.  Jornada 11</td>\n",
       "    </tr>\n",
       "    <tr>\n",
       "      <th id=\"T_2c363_level0_row76\" class=\"row_heading level0 row76\" >76</th>\n",
       "      <td id=\"T_2c363_row76_col0\" class=\"data row76 col0\" >2022-09-24 21:30</td>\n",
       "      <td id=\"T_2c363_row76_col1\" class=\"data row76 col1\" >5.7</td>\n",
       "      <td id=\"T_2c363_row76_col2\" class=\"data row76 col2\" >2º</td>\n",
       "      <td id=\"T_2c363_row76_col3\" class=\"data row76 col3\" >Cavalry</td>\n",
       "      <td id=\"T_2c363_row76_col4\" class=\"data row76 col4\" >35.4% - 1.38</td>\n",
       "      <td id=\"T_2c363_row76_col5\" class=\"data row76 col5\" >39.7% - 1.48</td>\n",
       "      <td id=\"T_2c363_row76_col6\" class=\"data row76 col6\" >Atlético Ottawa</td>\n",
       "      <td id=\"T_2c363_row76_col7\" class=\"data row76 col7\" >1º</td>\n",
       "      <td id=\"T_2c363_row76_col8\" class=\"data row76 col8\" >Premier League Canadá.  Jornada 11</td>\n",
       "    </tr>\n",
       "    <tr>\n",
       "      <th id=\"T_2c363_level0_row77\" class=\"row_heading level0 row77\" >77</th>\n",
       "      <td id=\"T_2c363_row77_col0\" class=\"data row77 col0\" >2022-09-24 15:00</td>\n",
       "      <td id=\"T_2c363_row77_col1\" class=\"data row77 col1\" >7.4</td>\n",
       "      <td id=\"T_2c363_row77_col2\" class=\"data row77 col2\" >18º</td>\n",
       "      <td id=\"T_2c363_row77_col3\" class=\"data row77 col3\" >AD Mérida</td>\n",
       "      <td id=\"T_2c363_row77_col4\" class=\"data row77 col4\" >51.9% - 1.61</td>\n",
       "      <td id=\"T_2c363_row77_col5\" class=\"data row77 col5\" >23.3% - 0.99</td>\n",
       "      <td id=\"T_2c363_row77_col6\" class=\"data row77 col6\" >Unionistas CF</td>\n",
       "      <td id=\"T_2c363_row77_col7\" class=\"data row77 col7\" >15º</td>\n",
       "      <td id=\"T_2c363_row77_col8\" class=\"data row77 col8\" >Primera Federación. Grupo I,  Jornada 5</td>\n",
       "    </tr>\n",
       "    <tr>\n",
       "      <th id=\"T_2c363_level0_row78\" class=\"row_heading level0 row78\" >78</th>\n",
       "      <td id=\"T_2c363_row78_col0\" class=\"data row78 col0\" >2022-09-24 15:00</td>\n",
       "      <td id=\"T_2c363_row78_col1\" class=\"data row78 col1\" >3.5</td>\n",
       "      <td id=\"T_2c363_row78_col2\" class=\"data row78 col2\" >4º</td>\n",
       "      <td id=\"T_2c363_row78_col3\" class=\"data row78 col3\" >Osasuna Promesas</td>\n",
       "      <td id=\"T_2c363_row78_col4\" class=\"data row78 col4\" >58.9% - 2.15</td>\n",
       "      <td id=\"T_2c363_row78_col5\" class=\"data row78 col5\" >20.8% - 1.21</td>\n",
       "      <td id=\"T_2c363_row78_col6\" class=\"data row78 col6\" >Eldense</td>\n",
       "      <td id=\"T_2c363_row78_col7\" class=\"data row78 col7\" >6º</td>\n",
       "      <td id=\"T_2c363_row78_col8\" class=\"data row78 col8\" >Primera Federación. Grupo II,  Jornada 5</td>\n",
       "    </tr>\n",
       "    <tr>\n",
       "      <th id=\"T_2c363_level0_row79\" class=\"row_heading level0 row79\" >79</th>\n",
       "      <td id=\"T_2c363_row79_col0\" class=\"data row79 col0\" >2022-09-24 16:00</td>\n",
       "      <td id=\"T_2c363_row79_col1\" class=\"data row79 col1\" >3.3</td>\n",
       "      <td id=\"T_2c363_row79_col2\" class=\"data row79 col2\" >13º</td>\n",
       "      <td id=\"T_2c363_row79_col3\" class=\"data row79 col3\" >Celta B</td>\n",
       "      <td id=\"T_2c363_row79_col4\" class=\"data row79 col4\" >48.2% - 1.93</td>\n",
       "      <td id=\"T_2c363_row79_col5\" class=\"data row79 col5\" >29.8% - 1.49</td>\n",
       "      <td id=\"T_2c363_row79_col6\" class=\"data row79 col6\" >RC Deportivo</td>\n",
       "      <td id=\"T_2c363_row79_col7\" class=\"data row79 col7\" >7º</td>\n",
       "      <td id=\"T_2c363_row79_col8\" class=\"data row79 col8\" >Primera Federación. Grupo I,  Jornada 5</td>\n",
       "    </tr>\n",
       "    <tr>\n",
       "      <th id=\"T_2c363_level0_row80\" class=\"row_heading level0 row80\" >80</th>\n",
       "      <td id=\"T_2c363_row80_col0\" class=\"data row80 col0\" >2022-09-24 17:00</td>\n",
       "      <td id=\"T_2c363_row80_col1\" class=\"data row80 col1\" >11.5</td>\n",
       "      <td id=\"T_2c363_row80_col2\" class=\"data row80 col2\" >18º</td>\n",
       "      <td id=\"T_2c363_row80_col3\" class=\"data row80 col3\" >Bilbao Ath.</td>\n",
       "      <td id=\"T_2c363_row80_col4\" class=\"data row80 col4\" >30.9% - 0.99</td>\n",
       "      <td id=\"T_2c363_row80_col5\" class=\"data row80 col5\" >39.8% - 1.17</td>\n",
       "      <td id=\"T_2c363_row80_col6\" class=\"data row80 col6\" >R. Sociedad B</td>\n",
       "      <td id=\"T_2c363_row80_col7\" class=\"data row80 col7\" >11º</td>\n",
       "      <td id=\"T_2c363_row80_col8\" class=\"data row80 col8\" >Primera Federación. Grupo II,  Jornada 5</td>\n",
       "    </tr>\n",
       "    <tr>\n",
       "      <th id=\"T_2c363_level0_row81\" class=\"row_heading level0 row81\" >81</th>\n",
       "      <td id=\"T_2c363_row81_col0\" class=\"data row81 col0\" >2022-09-24 17:00</td>\n",
       "      <td id=\"T_2c363_row81_col1\" class=\"data row81 col1\" >3.9</td>\n",
       "      <td id=\"T_2c363_row81_col2\" class=\"data row81 col2\" >3º</td>\n",
       "      <td id=\"T_2c363_row81_col3\" class=\"data row81 col3\" >Barça Atlètic</td>\n",
       "      <td id=\"T_2c363_row81_col4\" class=\"data row81 col4\" >44.2% - 1.76</td>\n",
       "      <td id=\"T_2c363_row81_col5\" class=\"data row81 col5\" >32.8% - 1.49</td>\n",
       "      <td id=\"T_2c363_row81_col6\" class=\"data row81 col6\" >Real Murcia</td>\n",
       "      <td id=\"T_2c363_row81_col7\" class=\"data row81 col7\" >5º</td>\n",
       "      <td id=\"T_2c363_row81_col8\" class=\"data row81 col8\" >Primera Federación. Grupo II,  Jornada 5</td>\n",
       "    </tr>\n",
       "    <tr>\n",
       "      <th id=\"T_2c363_level0_row82\" class=\"row_heading level0 row82\" >82</th>\n",
       "      <td id=\"T_2c363_row82_col0\" class=\"data row82 col0\" >2022-09-24 17:00</td>\n",
       "      <td id=\"T_2c363_row82_col1\" class=\"data row82 col1\" >8.4</td>\n",
       "      <td id=\"T_2c363_row82_col2\" class=\"data row82 col2\" >14º</td>\n",
       "      <td id=\"T_2c363_row82_col3\" class=\"data row82 col3\" >San Fernando CD</td>\n",
       "      <td id=\"T_2c363_row82_col4\" class=\"data row82 col4\" >36.4% - 1.24</td>\n",
       "      <td id=\"T_2c363_row82_col5\" class=\"data row82 col5\" >36.5% - 1.24</td>\n",
       "      <td id=\"T_2c363_row82_col6\" class=\"data row82 col6\" >Sanse</td>\n",
       "      <td id=\"T_2c363_row82_col7\" class=\"data row82 col7\" >9º</td>\n",
       "      <td id=\"T_2c363_row82_col8\" class=\"data row82 col8\" >Primera Federación. Grupo I,  Jornada 5</td>\n",
       "    </tr>\n",
       "    <tr>\n",
       "      <th id=\"T_2c363_level0_row83\" class=\"row_heading level0 row83\" >83</th>\n",
       "      <td id=\"T_2c363_row83_col0\" class=\"data row83 col0\" >2022-09-24 17:00</td>\n",
       "      <td id=\"T_2c363_row83_col1\" class=\"data row83 col1\" >7.2</td>\n",
       "      <td id=\"T_2c363_row83_col2\" class=\"data row83 col2\" >10º</td>\n",
       "      <td id=\"T_2c363_row83_col3\" class=\"data row83 col3\" >Algeciras</td>\n",
       "      <td id=\"T_2c363_row83_col4\" class=\"data row83 col4\" >45.6% - 1.49</td>\n",
       "      <td id=\"T_2c363_row83_col5\" class=\"data row83 col5\" >28.7% - 1.13</td>\n",
       "      <td id=\"T_2c363_row83_col6\" class=\"data row83 col6\" >Racing Ferrol</td>\n",
       "      <td id=\"T_2c363_row83_col7\" class=\"data row83 col7\" >1º</td>\n",
       "      <td id=\"T_2c363_row83_col8\" class=\"data row83 col8\" >Primera Federación. Grupo I,  Jornada 5</td>\n",
       "    </tr>\n",
       "    <tr>\n",
       "      <th id=\"T_2c363_level0_row84\" class=\"row_heading level0 row84\" >84</th>\n",
       "      <td id=\"T_2c363_row84_col0\" class=\"data row84 col0\" >2022-09-24 01:00</td>\n",
       "      <td id=\"T_2c363_row84_col1\" class=\"data row84 col1\" >9.8</td>\n",
       "      <td id=\"T_2c363_row84_col2\" class=\"data row84 col2\" >4º</td>\n",
       "      <td id=\"T_2c363_row84_col3\" class=\"data row84 col3\" >Boyacá Chicó</td>\n",
       "      <td id=\"T_2c363_row84_col4\" class=\"data row84 col4\" >56.9% - 1.57</td>\n",
       "      <td id=\"T_2c363_row84_col5\" class=\"data row84 col5\" >17.8% - 0.75</td>\n",
       "      <td id=\"T_2c363_row84_col6\" class=\"data row84 col6\" >Fortaleza</td>\n",
       "      <td id=\"T_2c363_row84_col7\" class=\"data row84 col7\" >3º</td>\n",
       "      <td id=\"T_2c363_row84_col8\" class=\"data row84 col8\" >Primera B Colombia - Clausura.  Jornada 14</td>\n",
       "    </tr>\n",
       "    <tr>\n",
       "      <th id=\"T_2c363_level0_row85\" class=\"row_heading level0 row85\" >85</th>\n",
       "      <td id=\"T_2c363_row85_col0\" class=\"data row85 col0\" >2022-09-24 20:00</td>\n",
       "      <td id=\"T_2c363_row85_col1\" class=\"data row85 col1\" >9.5</td>\n",
       "      <td id=\"T_2c363_row85_col2\" class=\"data row85 col2\" >15º</td>\n",
       "      <td id=\"T_2c363_row85_col3\" class=\"data row85 col3\" >Valledupar</td>\n",
       "      <td id=\"T_2c363_row85_col4\" class=\"data row85 col4\" >34.2% - 1.14</td>\n",
       "      <td id=\"T_2c363_row85_col5\" class=\"data row85 col5\" >37.8% - 1.21</td>\n",
       "      <td id=\"T_2c363_row85_col6\" class=\"data row85 col6\" >Leones</td>\n",
       "      <td id=\"T_2c363_row85_col7\" class=\"data row85 col7\" >12º</td>\n",
       "      <td id=\"T_2c363_row85_col8\" class=\"data row85 col8\" >Primera B Colombia - Clausura.  Jornada 14</td>\n",
       "    </tr>\n",
       "    <tr>\n",
       "      <th id=\"T_2c363_level0_row86\" class=\"row_heading level0 row86\" >86</th>\n",
       "      <td id=\"T_2c363_row86_col0\" class=\"data row86 col0\" >2022-09-24 20:30</td>\n",
       "      <td id=\"T_2c363_row86_col1\" class=\"data row86 col1\" >14.1</td>\n",
       "      <td id=\"T_2c363_row86_col2\" class=\"data row86 col2\" >7º</td>\n",
       "      <td id=\"T_2c363_row86_col3\" class=\"data row86 col3\" >Llaneros</td>\n",
       "      <td id=\"T_2c363_row86_col4\" class=\"data row86 col4\" >48.2% - 1.23</td>\n",
       "      <td id=\"T_2c363_row86_col5\" class=\"data row86 col5\" >22% - 0.73</td>\n",
       "      <td id=\"T_2c363_row86_col6\" class=\"data row86 col6\" >Tigres FC</td>\n",
       "      <td id=\"T_2c363_row86_col7\" class=\"data row86 col7\" >2º</td>\n",
       "      <td id=\"T_2c363_row86_col8\" class=\"data row86 col8\" >Primera B Colombia - Clausura.  Jornada 14</td>\n",
       "    </tr>\n",
       "    <tr>\n",
       "      <th id=\"T_2c363_level0_row87\" class=\"row_heading level0 row87\" >87</th>\n",
       "      <td id=\"T_2c363_row87_col0\" class=\"data row87 col0\" >2022-09-24 07:30</td>\n",
       "      <td id=\"T_2c363_row87_col1\" class=\"data row87 col1\" >1.8</td>\n",
       "      <td id=\"T_2c363_row87_col2\" class=\"data row87 col2\" >3º</td>\n",
       "      <td id=\"T_2c363_row87_col3\" class=\"data row87 col3\" >Qingdao Jonoon</td>\n",
       "      <td id=\"T_2c363_row87_col4\" class=\"data row87 col4\" >39.4% - 2.01</td>\n",
       "      <td id=\"T_2c363_row87_col5\" class=\"data row87 col5\" >40% - 2.03</td>\n",
       "      <td id=\"T_2c363_row87_col6\" class=\"data row87 col6\" >Nantong Zhiyun</td>\n",
       "      <td id=\"T_2c363_row87_col7\" class=\"data row87 col7\" >1º</td>\n",
       "      <td id=\"T_2c363_row87_col8\" class=\"data row87 col8\" >Liga Uno China. Temporada Regular,  Jornada 23</td>\n",
       "    </tr>\n",
       "    <tr>\n",
       "      <th id=\"T_2c363_level0_row88\" class=\"row_heading level0 row88\" >88</th>\n",
       "      <td id=\"T_2c363_row88_col0\" class=\"data row88 col0\" >2022-09-24 07:30</td>\n",
       "      <td id=\"T_2c363_row88_col1\" class=\"data row88 col1\" >19.9</td>\n",
       "      <td id=\"T_2c363_row88_col2\" class=\"data row88 col2\" >17º</td>\n",
       "      <td id=\"T_2c363_row88_col3\" class=\"data row88 col3\" >Xinjiang Tianshan</td>\n",
       "      <td id=\"T_2c363_row88_col4\" class=\"data row88 col4\" >38.5% - 0.91</td>\n",
       "      <td id=\"T_2c363_row88_col5\" class=\"data row88 col5\" >26.7% - 0.7</td>\n",
       "      <td id=\"T_2c363_row88_col6\" class=\"data row88 col6\" >Suzhou Dongwu</td>\n",
       "      <td id=\"T_2c363_row88_col7\" class=\"data row88 col7\" >7º</td>\n",
       "      <td id=\"T_2c363_row88_col8\" class=\"data row88 col8\" >Liga Uno China. Temporada Regular,  Jornada 23</td>\n",
       "    </tr>\n",
       "    <tr>\n",
       "      <th id=\"T_2c363_level0_row89\" class=\"row_heading level0 row89\" >89</th>\n",
       "      <td id=\"T_2c363_row89_col0\" class=\"data row89 col0\" >2022-09-24 07:30</td>\n",
       "      <td id=\"T_2c363_row89_col1\" class=\"data row89 col1\" >24.7</td>\n",
       "      <td id=\"T_2c363_row89_col2\" class=\"data row89 col2\" >18º</td>\n",
       "      <td id=\"T_2c363_row89_col3\" class=\"data row89 col3\" >Beijing Technology</td>\n",
       "      <td id=\"T_2c363_row89_col4\" class=\"data row89 col4\" >13% - 0.37</td>\n",
       "      <td id=\"T_2c363_row89_col5\" class=\"data row89 col5\" >52% - 1.03</td>\n",
       "      <td id=\"T_2c363_row89_col6\" class=\"data row89 col6\" >Beijing BSU</td>\n",
       "      <td id=\"T_2c363_row89_col7\" class=\"data row89 col7\" >15º</td>\n",
       "      <td id=\"T_2c363_row89_col8\" class=\"data row89 col8\" >Liga Uno China. Temporada Regular,  Jornada 23</td>\n",
       "    </tr>\n",
       "    <tr>\n",
       "      <th id=\"T_2c363_level0_row90\" class=\"row_heading level0 row90\" >90</th>\n",
       "      <td id=\"T_2c363_row90_col0\" class=\"data row90 col0\" >2022-09-24 11:30</td>\n",
       "      <td id=\"T_2c363_row90_col1\" class=\"data row90 col1\" >6.5</td>\n",
       "      <td id=\"T_2c363_row90_col2\" class=\"data row90 col2\" >14º</td>\n",
       "      <td id=\"T_2c363_row90_col3\" class=\"data row90 col3\" >Guangxi Pingguo Haliao</td>\n",
       "      <td id=\"T_2c363_row90_col4\" class=\"data row90 col4\" >40.5% - 1.44</td>\n",
       "      <td id=\"T_2c363_row90_col5\" class=\"data row90 col5\" >34% - 1.3</td>\n",
       "      <td id=\"T_2c363_row90_col6\" class=\"data row90 col6\" >Heilongjiang Ice City</td>\n",
       "      <td id=\"T_2c363_row90_col7\" class=\"data row90 col7\" >11º</td>\n",
       "      <td id=\"T_2c363_row90_col8\" class=\"data row90 col8\" >Liga Uno China. Temporada Regular,  Jornada 23</td>\n",
       "    </tr>\n",
       "    <tr>\n",
       "      <th id=\"T_2c363_level0_row91\" class=\"row_heading level0 row91\" >91</th>\n",
       "      <td id=\"T_2c363_row91_col0\" class=\"data row91 col0\" >2022-09-23 23:00</td>\n",
       "      <td id=\"T_2c363_row91_col1\" class=\"data row91 col1\" >4.2</td>\n",
       "      <td id=\"T_2c363_row91_col2\" class=\"data row91 col2\" >11º</td>\n",
       "      <td id=\"T_2c363_row91_col3\" class=\"data row91 col3\" >Charleston Battery</td>\n",
       "      <td id=\"T_2c363_row91_col4\" class=\"data row91 col4\" >32.2% - 1.44</td>\n",
       "      <td id=\"T_2c363_row91_col5\" class=\"data row91 col5\" >44.5% - 1.73</td>\n",
       "      <td id=\"T_2c363_row91_col6\" class=\"data row91 col6\" >Rio Grande Valley</td>\n",
       "      <td id=\"T_2c363_row91_col7\" class=\"data row91 col7\" >0º</td>\n",
       "      <td id=\"T_2c363_row91_col8\" class=\"data row91 col8\" >USL Championship - USA. Temporada Regular,  Jornada 41</td>\n",
       "    </tr>\n",
       "    <tr>\n",
       "      <th id=\"T_2c363_level0_row92\" class=\"row_heading level0 row92\" >92</th>\n",
       "      <td id=\"T_2c363_row92_col0\" class=\"data row92 col0\" >2022-09-23 23:30</td>\n",
       "      <td id=\"T_2c363_row92_col1\" class=\"data row92 col1\" >2.2</td>\n",
       "      <td id=\"T_2c363_row92_col2\" class=\"data row92 col2\" >3º</td>\n",
       "      <td id=\"T_2c363_row92_col3\" class=\"data row92 col3\" >Tampa Bay Rowdies</td>\n",
       "      <td id=\"T_2c363_row92_col4\" class=\"data row92 col4\" >64.9% - 2.54</td>\n",
       "      <td id=\"T_2c363_row92_col5\" class=\"data row92 col5\" >17.4% - 1.27</td>\n",
       "      <td id=\"T_2c363_row92_col6\" class=\"data row92 col6\" >Birmingham Legion</td>\n",
       "      <td id=\"T_2c363_row92_col7\" class=\"data row92 col7\" >4º</td>\n",
       "      <td id=\"T_2c363_row92_col8\" class=\"data row92 col8\" >USL Championship - USA. Temporada Regular,  Jornada 41</td>\n",
       "    </tr>\n",
       "    <tr>\n",
       "      <th id=\"T_2c363_level0_row93\" class=\"row_heading level0 row93\" >93</th>\n",
       "      <td id=\"T_2c363_row93_col0\" class=\"data row93 col0\" >2022-09-24 00:00</td>\n",
       "      <td id=\"T_2c363_row93_col1\" class=\"data row93 col1\" >3</td>\n",
       "      <td id=\"T_2c363_row93_col2\" class=\"data row93 col2\" >1º</td>\n",
       "      <td id=\"T_2c363_row93_col3\" class=\"data row93 col3\" >Louisville City</td>\n",
       "      <td id=\"T_2c363_row93_col4\" class=\"data row93 col4\" >45.9% - 1.93</td>\n",
       "      <td id=\"T_2c363_row93_col5\" class=\"data row93 col5\" >32.2% - 1.59</td>\n",
       "      <td id=\"T_2c363_row93_col6\" class=\"data row93 col6\" >Memphis 901</td>\n",
       "      <td id=\"T_2c363_row93_col7\" class=\"data row93 col7\" >2º</td>\n",
       "      <td id=\"T_2c363_row93_col8\" class=\"data row93 col8\" >USL Championship - USA. Temporada Regular,  Jornada 41</td>\n",
       "    </tr>\n",
       "    <tr>\n",
       "      <th id=\"T_2c363_level0_row94\" class=\"row_heading level0 row94\" >94</th>\n",
       "      <td id=\"T_2c363_row94_col0\" class=\"data row94 col0\" >2022-09-24 12:30</td>\n",
       "      <td id=\"T_2c363_row94_col1\" class=\"data row94 col1\" >11.5</td>\n",
       "      <td id=\"T_2c363_row94_col2\" class=\"data row94 col2\" >1º</td>\n",
       "      <td id=\"T_2c363_row94_col3\" class=\"data row94 col3\" >Pordenone</td>\n",
       "      <td id=\"T_2c363_row94_col4\" class=\"data row94 col4\" >36.7% - 1.11</td>\n",
       "      <td id=\"T_2c363_row94_col5\" class=\"data row94 col5\" >33.9% - 1.05</td>\n",
       "      <td id=\"T_2c363_row94_col6\" class=\"data row94 col6\" >Padova</td>\n",
       "      <td id=\"T_2c363_row94_col7\" class=\"data row94 col7\" >2º</td>\n",
       "      <td id=\"T_2c363_row94_col8\" class=\"data row94 col8\" >Serie C. Grupo A,  Jornada 5</td>\n",
       "    </tr>\n",
       "    <tr>\n",
       "      <th id=\"T_2c363_level0_row95\" class=\"row_heading level0 row95\" >95</th>\n",
       "      <td id=\"T_2c363_row95_col0\" class=\"data row95 col0\" >2022-09-24 12:30</td>\n",
       "      <td id=\"T_2c363_row95_col1\" class=\"data row95 col1\" >6.1</td>\n",
       "      <td id=\"T_2c363_row95_col2\" class=\"data row95 col2\" >7º</td>\n",
       "      <td id=\"T_2c363_row95_col3\" class=\"data row95 col3\" >Vicenza</td>\n",
       "      <td id=\"T_2c363_row95_col4\" class=\"data row95 col4\" >69.8% - 2.09</td>\n",
       "      <td id=\"T_2c363_row95_col5\" class=\"data row95 col5\" >11.2% - 0.7</td>\n",
       "      <td id=\"T_2c363_row95_col6\" class=\"data row95 col6\" >Juventus Sub 23</td>\n",
       "      <td id=\"T_2c363_row95_col7\" class=\"data row95 col7\" >13º</td>\n",
       "      <td id=\"T_2c363_row95_col8\" class=\"data row95 col8\" >Serie C. Grupo A,  Jornada 5</td>\n",
       "    </tr>\n",
       "    <tr>\n",
       "      <th id=\"T_2c363_level0_row96\" class=\"row_heading level0 row96\" >96</th>\n",
       "      <td id=\"T_2c363_row96_col0\" class=\"data row96 col0\" >2022-09-24 12:30</td>\n",
       "      <td id=\"T_2c363_row96_col1\" class=\"data row96 col1\" >14.7</td>\n",
       "      <td id=\"T_2c363_row96_col2\" class=\"data row96 col2\" >20º</td>\n",
       "      <td id=\"T_2c363_row96_col3\" class=\"data row96 col3\" >Piacenza</td>\n",
       "      <td id=\"T_2c363_row96_col4\" class=\"data row96 col4\" >27.3% - 0.83</td>\n",
       "      <td id=\"T_2c363_row96_col5\" class=\"data row96 col5\" >41.4% - 1.09</td>\n",
       "      <td id=\"T_2c363_row96_col6\" class=\"data row96 col6\" >AlbinoLeffe</td>\n",
       "      <td id=\"T_2c363_row96_col7\" class=\"data row96 col7\" >19º</td>\n",
       "      <td id=\"T_2c363_row96_col8\" class=\"data row96 col8\" >Serie C. Grupo A,  Jornada 5</td>\n",
       "    </tr>\n",
       "    <tr>\n",
       "      <th id=\"T_2c363_level0_row97\" class=\"row_heading level0 row97\" >97</th>\n",
       "      <td id=\"T_2c363_row97_col0\" class=\"data row97 col0\" >2022-09-24 12:30</td>\n",
       "      <td id=\"T_2c363_row97_col1\" class=\"data row97 col1\" >13</td>\n",
       "      <td id=\"T_2c363_row97_col2\" class=\"data row97 col2\" >16º</td>\n",
       "      <td id=\"T_2c363_row97_col3\" class=\"data row97 col3\" >Virtus Verona</td>\n",
       "      <td id=\"T_2c363_row97_col4\" class=\"data row97 col4\" >21.6% - 0.75</td>\n",
       "      <td id=\"T_2c363_row97_col5\" class=\"data row97 col5\" >49.5% - 1.29</td>\n",
       "      <td id=\"T_2c363_row97_col6\" class=\"data row97 col6\" >Feralpisalò</td>\n",
       "      <td id=\"T_2c363_row97_col7\" class=\"data row97 col7\" >3º</td>\n",
       "      <td id=\"T_2c363_row97_col8\" class=\"data row97 col8\" >Serie C. Grupo A,  Jornada 5</td>\n",
       "    </tr>\n",
       "    <tr>\n",
       "      <th id=\"T_2c363_level0_row98\" class=\"row_heading level0 row98\" >98</th>\n",
       "      <td id=\"T_2c363_row98_col0\" class=\"data row98 col0\" >2022-09-24 12:30</td>\n",
       "      <td id=\"T_2c363_row98_col1\" class=\"data row98 col1\" >10.6</td>\n",
       "      <td id=\"T_2c363_row98_col2\" class=\"data row98 col2\" >14º</td>\n",
       "      <td id=\"T_2c363_row98_col3\" class=\"data row98 col3\" >Lecco</td>\n",
       "      <td id=\"T_2c363_row98_col4\" class=\"data row98 col4\" >49.6% - 1.39</td>\n",
       "      <td id=\"T_2c363_row98_col5\" class=\"data row98 col5\" >22.9% - 0.85</td>\n",
       "      <td id=\"T_2c363_row98_col6\" class=\"data row98 col6\" >Mantova</td>\n",
       "      <td id=\"T_2c363_row98_col7\" class=\"data row98 col7\" >17º</td>\n",
       "      <td id=\"T_2c363_row98_col8\" class=\"data row98 col8\" >Serie C. Grupo A,  Jornada 5</td>\n",
       "    </tr>\n",
       "    <tr>\n",
       "      <th id=\"T_2c363_level0_row99\" class=\"row_heading level0 row99\" >99</th>\n",
       "      <td id=\"T_2c363_row99_col0\" class=\"data row99 col0\" >2022-09-24 12:30</td>\n",
       "      <td id=\"T_2c363_row99_col1\" class=\"data row99 col1\" >12.2</td>\n",
       "      <td id=\"T_2c363_row99_col2\" class=\"data row99 col2\" >8º</td>\n",
       "      <td id=\"T_2c363_row99_col3\" class=\"data row99 col3\" >Pro Patria</td>\n",
       "      <td id=\"T_2c363_row99_col4\" class=\"data row99 col4\" >32.3% - 1</td>\n",
       "      <td id=\"T_2c363_row99_col5\" class=\"data row99 col5\" >37.9% - 1.1</td>\n",
       "      <td id=\"T_2c363_row99_col6\" class=\"data row99 col6\" >Renate</td>\n",
       "      <td id=\"T_2c363_row99_col7\" class=\"data row99 col7\" >6º</td>\n",
       "      <td id=\"T_2c363_row99_col8\" class=\"data row99 col8\" >Serie C. Grupo A,  Jornada 5</td>\n",
       "    </tr>\n",
       "    <tr>\n",
       "      <th id=\"T_2c363_level0_row100\" class=\"row_heading level0 row100\" >100</th>\n",
       "      <td id=\"T_2c363_row100_col0\" class=\"data row100 col0\" >2022-09-24 12:30</td>\n",
       "      <td id=\"T_2c363_row100_col1\" class=\"data row100 col1\" >4.4</td>\n",
       "      <td id=\"T_2c363_row100_col2\" class=\"data row100 col2\" >9º</td>\n",
       "      <td id=\"T_2c363_row100_col3\" class=\"data row100 col3\" >Pergolettese</td>\n",
       "      <td id=\"T_2c363_row100_col4\" class=\"data row100 col4\" >39.3% - 1.59</td>\n",
       "      <td id=\"T_2c363_row100_col5\" class=\"data row100 col5\" >37% - 1.54</td>\n",
       "      <td id=\"T_2c363_row100_col6\" class=\"data row100 col6\" >Arzignano Valchiampo</td>\n",
       "      <td id=\"T_2c363_row100_col7\" class=\"data row100 col7\" >4º</td>\n",
       "      <td id=\"T_2c363_row100_col8\" class=\"data row100 col8\" >Serie C. Grupo A,  Jornada 5</td>\n",
       "    </tr>\n",
       "    <tr>\n",
       "      <th id=\"T_2c363_level0_row101\" class=\"row_heading level0 row101\" >101</th>\n",
       "      <td id=\"T_2c363_row101_col0\" class=\"data row101 col0\" >2022-09-24 12:30</td>\n",
       "      <td id=\"T_2c363_row101_col1\" class=\"data row101 col1\" >6.9</td>\n",
       "      <td id=\"T_2c363_row101_col2\" class=\"data row101 col2\" >12º</td>\n",
       "      <td id=\"T_2c363_row101_col3\" class=\"data row101 col3\" >Pro Sesto</td>\n",
       "      <td id=\"T_2c363_row101_col4\" class=\"data row101 col4\" >22% - 0.99</td>\n",
       "      <td id=\"T_2c363_row101_col5\" class=\"data row101 col5\" >53.9% - 1.69</td>\n",
       "      <td id=\"T_2c363_row101_col6\" class=\"data row101 col6\" >Sangiuliano City Nova</td>\n",
       "      <td id=\"T_2c363_row101_col7\" class=\"data row101 col7\" >10º</td>\n",
       "      <td id=\"T_2c363_row101_col8\" class=\"data row101 col8\" >Serie C. Grupo A,  Jornada 5</td>\n",
       "    </tr>\n",
       "    <tr>\n",
       "      <th id=\"T_2c363_level0_row102\" class=\"row_heading level0 row102\" >102</th>\n",
       "      <td id=\"T_2c363_row102_col0\" class=\"data row102 col0\" >2022-09-24 12:30</td>\n",
       "      <td id=\"T_2c363_row102_col1\" class=\"data row102 col1\" >12.1</td>\n",
       "      <td id=\"T_2c363_row102_col2\" class=\"data row102 col2\" >15º</td>\n",
       "      <td id=\"T_2c363_row102_col3\" class=\"data row102 col3\" >Trento</td>\n",
       "      <td id=\"T_2c363_row102_col4\" class=\"data row102 col4\" >44.9% - 1.24</td>\n",
       "      <td id=\"T_2c363_row102_col5\" class=\"data row102 col5\" >26% - 0.87</td>\n",
       "      <td id=\"T_2c363_row102_col6\" class=\"data row102 col6\" >Triestina</td>\n",
       "      <td id=\"T_2c363_row102_col7\" class=\"data row102 col7\" >18º</td>\n",
       "      <td id=\"T_2c363_row102_col8\" class=\"data row102 col8\" >Serie C. Grupo A,  Jornada 5</td>\n",
       "    </tr>\n",
       "    <tr>\n",
       "      <th id=\"T_2c363_level0_row103\" class=\"row_heading level0 row103\" >103</th>\n",
       "      <td id=\"T_2c363_row103_col0\" class=\"data row103 col0\" >2022-09-24 14:30</td>\n",
       "      <td id=\"T_2c363_row103_col1\" class=\"data row103 col1\" >15.1</td>\n",
       "      <td id=\"T_2c363_row103_col2\" class=\"data row103 col2\" >11º</td>\n",
       "      <td id=\"T_2c363_row103_col3\" class=\"data row103 col3\" >Pro Vercelli</td>\n",
       "      <td id=\"T_2c363_row103_col4\" class=\"data row103 col4\" >28.5% - 0.84</td>\n",
       "      <td id=\"T_2c363_row103_col5\" class=\"data row103 col5\" >39.8% - 1.05</td>\n",
       "      <td id=\"T_2c363_row103_col6\" class=\"data row103 col6\" >Novara</td>\n",
       "      <td id=\"T_2c363_row103_col7\" class=\"data row103 col7\" >5º</td>\n",
       "      <td id=\"T_2c363_row103_col8\" class=\"data row103 col8\" >Serie C. Grupo A,  Jornada 5</td>\n",
       "    </tr>\n",
       "    <tr>\n",
       "      <th id=\"T_2c363_level0_row104\" class=\"row_heading level0 row104\" >104</th>\n",
       "      <td id=\"T_2c363_row104_col0\" class=\"data row104 col0\" >2022-09-24 15:30</td>\n",
       "      <td id=\"T_2c363_row104_col1\" class=\"data row104 col1\" >7.5</td>\n",
       "      <td id=\"T_2c363_row104_col2\" class=\"data row104 col2\" >15º</td>\n",
       "      <td id=\"T_2c363_row104_col3\" class=\"data row104 col3\" >Cesena</td>\n",
       "      <td id=\"T_2c363_row104_col4\" class=\"data row104 col4\" >64.9% - 1.87</td>\n",
       "      <td id=\"T_2c363_row104_col5\" class=\"data row104 col5\" >13.6% - 0.71</td>\n",
       "      <td id=\"T_2c363_row104_col6\" class=\"data row104 col6\" >Pontedera</td>\n",
       "      <td id=\"T_2c363_row104_col7\" class=\"data row104 col7\" >17º</td>\n",
       "      <td id=\"T_2c363_row104_col8\" class=\"data row104 col8\" >Serie C. Grupo B,  Jornada 5</td>\n",
       "    </tr>\n",
       "    <tr>\n",
       "      <th id=\"T_2c363_level0_row105\" class=\"row_heading level0 row105\" >105</th>\n",
       "      <td id=\"T_2c363_row105_col0\" class=\"data row105 col0\" >2022-09-24 15:30</td>\n",
       "      <td id=\"T_2c363_row105_col1\" class=\"data row105 col1\" >20.7</td>\n",
       "      <td id=\"T_2c363_row105_col2\" class=\"data row105 col2\" >20º</td>\n",
       "      <td id=\"T_2c363_row105_col3\" class=\"data row105 col3\" >US Alessandria</td>\n",
       "      <td id=\"T_2c363_row105_col4\" class=\"data row105 col4\" >39.3% - 0.91</td>\n",
       "      <td id=\"T_2c363_row105_col5\" class=\"data row105 col5\" >25.5% - 0.67</td>\n",
       "      <td id=\"T_2c363_row105_col6\" class=\"data row105 col6\" >Carrarese</td>\n",
       "      <td id=\"T_2c363_row105_col7\" class=\"data row105 col7\" >1º</td>\n",
       "      <td id=\"T_2c363_row105_col8\" class=\"data row105 col8\" >Serie C. Grupo B,  Jornada 5</td>\n",
       "    </tr>\n",
       "    <tr>\n",
       "      <th id=\"T_2c363_level0_row106\" class=\"row_heading level0 row106\" >106</th>\n",
       "      <td id=\"T_2c363_row106_col0\" class=\"data row106 col0\" >2022-09-24 15:30</td>\n",
       "      <td id=\"T_2c363_row106_col1\" class=\"data row106 col1\" >5.9</td>\n",
       "      <td id=\"T_2c363_row106_col2\" class=\"data row106 col2\" >3º</td>\n",
       "      <td id=\"T_2c363_row106_col3\" class=\"data row106 col3\" >AS Gubbio 1910</td>\n",
       "      <td id=\"T_2c363_row106_col4\" class=\"data row106 col4\" >48.4% - 1.66</td>\n",
       "      <td id=\"T_2c363_row106_col5\" class=\"data row106 col5\" >27.2% - 1.18</td>\n",
       "      <td id=\"T_2c363_row106_col6\" class=\"data row106 col6\" >Virtus Entella</td>\n",
       "      <td id=\"T_2c363_row106_col7\" class=\"data row106 col7\" >8º</td>\n",
       "      <td id=\"T_2c363_row106_col8\" class=\"data row106 col8\" >Serie C. Grupo B,  Jornada 5</td>\n",
       "    </tr>\n",
       "    <tr>\n",
       "      <th id=\"T_2c363_level0_row107\" class=\"row_heading level0 row107\" >107</th>\n",
       "      <td id=\"T_2c363_row107_col0\" class=\"data row107 col0\" >2022-09-24 15:30</td>\n",
       "      <td id=\"T_2c363_row107_col1\" class=\"data row107 col1\" >7.6</td>\n",
       "      <td id=\"T_2c363_row107_col2\" class=\"data row107 col2\" >5º</td>\n",
       "      <td id=\"T_2c363_row107_col3\" class=\"data row107 col3\" >Vis Pesaro</td>\n",
       "      <td id=\"T_2c363_row107_col4\" class=\"data row107 col4\" >13.9% - 0.72</td>\n",
       "      <td id=\"T_2c363_row107_col5\" class=\"data row107 col5\" >64.3% - 1.85</td>\n",
       "      <td id=\"T_2c363_row107_col6\" class=\"data row107 col6\" >Ancona</td>\n",
       "      <td id=\"T_2c363_row107_col7\" class=\"data row107 col7\" >10º</td>\n",
       "      <td id=\"T_2c363_row107_col8\" class=\"data row107 col8\" >Serie C. Grupo B,  Jornada 5</td>\n",
       "    </tr>\n",
       "    <tr>\n",
       "      <th id=\"T_2c363_level0_row108\" class=\"row_heading level0 row108\" >108</th>\n",
       "      <td id=\"T_2c363_row108_col0\" class=\"data row108 col0\" >2022-09-24 15:30</td>\n",
       "      <td id=\"T_2c363_row108_col1\" class=\"data row108 col1\" >7.4</td>\n",
       "      <td id=\"T_2c363_row108_col2\" class=\"data row108 col2\" >12º</td>\n",
       "      <td id=\"T_2c363_row108_col3\" class=\"data row108 col3\" >Lucchese Libertas</td>\n",
       "      <td id=\"T_2c363_row108_col4\" class=\"data row108 col4\" >47.6% - 1.53</td>\n",
       "      <td id=\"T_2c363_row108_col5\" class=\"data row108 col5\" >26.8% - 1.08</td>\n",
       "      <td id=\"T_2c363_row108_col6\" class=\"data row108 col6\" >Rimini</td>\n",
       "      <td id=\"T_2c363_row108_col7\" class=\"data row108 col7\" >6º</td>\n",
       "      <td id=\"T_2c363_row108_col8\" class=\"data row108 col8\" >Serie C. Grupo B,  Jornada 5</td>\n",
       "    </tr>\n",
       "    <tr>\n",
       "      <th id=\"T_2c363_level0_row109\" class=\"row_heading level0 row109\" >109</th>\n",
       "      <td id=\"T_2c363_row109_col0\" class=\"data row109 col0\" >2022-09-24 15:30</td>\n",
       "      <td id=\"T_2c363_row109_col1\" class=\"data row109 col1\" >14.2</td>\n",
       "      <td id=\"T_2c363_row109_col2\" class=\"data row109 col2\" >13º</td>\n",
       "      <td id=\"T_2c363_row109_col3\" class=\"data row109 col3\" >Olbia Calcio</td>\n",
       "      <td id=\"T_2c363_row109_col4\" class=\"data row109 col4\" >27% - 0.83</td>\n",
       "      <td id=\"T_2c363_row109_col5\" class=\"data row109 col5\" >42.1% - 1.12</td>\n",
       "      <td id=\"T_2c363_row109_col6\" class=\"data row109 col6\" >Siena</td>\n",
       "      <td id=\"T_2c363_row109_col7\" class=\"data row109 col7\" >2º</td>\n",
       "      <td id=\"T_2c363_row109_col8\" class=\"data row109 col8\" >Serie C. Grupo B,  Jornada 5</td>\n",
       "    </tr>\n",
       "    <tr>\n",
       "      <th id=\"T_2c363_level0_row110\" class=\"row_heading level0 row110\" >110</th>\n",
       "      <td id=\"T_2c363_row110_col0\" class=\"data row110 col0\" >2022-09-24 15:30</td>\n",
       "      <td id=\"T_2c363_row110_col1\" class=\"data row110 col1\" >1.6</td>\n",
       "      <td id=\"T_2c363_row110_col2\" class=\"data row110 col2\" >4º</td>\n",
       "      <td id=\"T_2c363_row110_col3\" class=\"data row110 col3\" >Reggiana</td>\n",
       "      <td id=\"T_2c363_row110_col4\" class=\"data row110 col4\" >58.6% - 2.54</td>\n",
       "      <td id=\"T_2c363_row110_col5\" class=\"data row110 col5\" >22.9% - 1.57</td>\n",
       "      <td id=\"T_2c363_row110_col6\" class=\"data row110 col6\" >San Donato Tavarnelle</td>\n",
       "      <td id=\"T_2c363_row110_col7\" class=\"data row110 col7\" >9º</td>\n",
       "      <td id=\"T_2c363_row110_col8\" class=\"data row110 col8\" >Serie C. Grupo B,  Jornada 5</td>\n",
       "    </tr>\n",
       "    <tr>\n",
       "      <th id=\"T_2c363_level0_row111\" class=\"row_heading level0 row111\" >111</th>\n",
       "      <td id=\"T_2c363_row111_col0\" class=\"data row111 col0\" >2022-09-24 15:30</td>\n",
       "      <td id=\"T_2c363_row111_col1\" class=\"data row111 col1\" >8.6</td>\n",
       "      <td id=\"T_2c363_row111_col2\" class=\"data row111 col2\" >19º</td>\n",
       "      <td id=\"T_2c363_row111_col3\" class=\"data row111 col3\" >Montevarchi Calcio</td>\n",
       "      <td id=\"T_2c363_row111_col4\" class=\"data row111 col4\" >61.4% - 1.73</td>\n",
       "      <td id=\"T_2c363_row111_col5\" class=\"data row111 col5\" >15.4% - 0.73</td>\n",
       "      <td id=\"T_2c363_row111_col6\" class=\"data row111 col6\" >Fermana</td>\n",
       "      <td id=\"T_2c363_row111_col7\" class=\"data row111 col7\" >11º</td>\n",
       "      <td id=\"T_2c363_row111_col8\" class=\"data row111 col8\" >Serie C. Grupo B,  Jornada 5</td>\n",
       "    </tr>\n",
       "    <tr>\n",
       "      <th id=\"T_2c363_level0_row112\" class=\"row_heading level0 row112\" >112</th>\n",
       "      <td id=\"T_2c363_row112_col0\" class=\"data row112 col0\" >2022-09-24 15:30</td>\n",
       "      <td id=\"T_2c363_row112_col1\" class=\"data row112 col1\" >2.1</td>\n",
       "      <td id=\"T_2c363_row112_col2\" class=\"data row112 col2\" >16º</td>\n",
       "      <td id=\"T_2c363_row112_col3\" class=\"data row112 col3\" >Recanatese</td>\n",
       "      <td id=\"T_2c363_row112_col4\" class=\"data row112 col4\" >56.3% - 2.34</td>\n",
       "      <td id=\"T_2c363_row112_col5\" class=\"data row112 col5\" >24.2% - 1.51</td>\n",
       "      <td id=\"T_2c363_row112_col6\" class=\"data row112 col6\" >Sassari Torres</td>\n",
       "      <td id=\"T_2c363_row112_col7\" class=\"data row112 col7\" >18º</td>\n",
       "      <td id=\"T_2c363_row112_col8\" class=\"data row112 col8\" >Serie C. Grupo B,  Jornada 5</td>\n",
       "    </tr>\n",
       "    <tr>\n",
       "      <th id=\"T_2c363_level0_row113\" class=\"row_heading level0 row113\" >113</th>\n",
       "      <td id=\"T_2c363_row113_col0\" class=\"data row113 col0\" >2022-09-24 15:30</td>\n",
       "      <td id=\"T_2c363_row113_col1\" class=\"data row113 col1\" >12.5</td>\n",
       "      <td id=\"T_2c363_row113_col2\" class=\"data row113 col2\" >14º</td>\n",
       "      <td id=\"T_2c363_row113_col3\" class=\"data row113 col3\" >Imolese</td>\n",
       "      <td id=\"T_2c363_row113_col4\" class=\"data row113 col4\" >49.7% - 1.32</td>\n",
       "      <td id=\"T_2c363_row113_col5\" class=\"data row113 col5\" >21.7% - 0.77</td>\n",
       "      <td id=\"T_2c363_row113_col6\" class=\"data row113 col6\" >Fiorenzuola</td>\n",
       "      <td id=\"T_2c363_row113_col7\" class=\"data row113 col7\" >7º</td>\n",
       "      <td id=\"T_2c363_row113_col8\" class=\"data row113 col8\" >Serie C. Grupo B,  Jornada 5</td>\n",
       "    </tr>\n",
       "    <tr>\n",
       "      <th id=\"T_2c363_level0_row114\" class=\"row_heading level0 row114\" >114</th>\n",
       "      <td id=\"T_2c363_row114_col0\" class=\"data row114 col0\" >2022-09-24 18:30</td>\n",
       "      <td id=\"T_2c363_row114_col1\" class=\"data row114 col1\" >11.1</td>\n",
       "      <td id=\"T_2c363_row114_col2\" class=\"data row114 col2\" >12º</td>\n",
       "      <td id=\"T_2c363_row114_col3\" class=\"data row114 col3\" >Latina</td>\n",
       "      <td id=\"T_2c363_row114_col4\" class=\"data row114 col4\" >47.1% - 1.32</td>\n",
       "      <td id=\"T_2c363_row114_col5\" class=\"data row114 col5\" >24.7% - 0.87</td>\n",
       "      <td id=\"T_2c363_row114_col6\" class=\"data row114 col6\" >Avellino</td>\n",
       "      <td id=\"T_2c363_row114_col7\" class=\"data row114 col7\" >11º</td>\n",
       "      <td id=\"T_2c363_row114_col8\" class=\"data row114 col8\" >Serie C. Grupo C,  Jornada 5</td>\n",
       "    </tr>\n",
       "    <tr>\n",
       "      <th id=\"T_2c363_level0_row115\" class=\"row_heading level0 row115\" >115</th>\n",
       "      <td id=\"T_2c363_row115_col0\" class=\"data row115 col0\" >2022-09-24 18:30</td>\n",
       "      <td id=\"T_2c363_row115_col1\" class=\"data row115 col1\" >3.3</td>\n",
       "      <td id=\"T_2c363_row115_col2\" class=\"data row115 col2\" >15º</td>\n",
       "      <td id=\"T_2c363_row115_col3\" class=\"data row115 col3\" >Calcio Foggia</td>\n",
       "      <td id=\"T_2c363_row115_col4\" class=\"data row115 col4\" >69.7% - 2.44</td>\n",
       "      <td id=\"T_2c363_row115_col5\" class=\"data row115 col5\" >13.2% - 0.97</td>\n",
       "      <td id=\"T_2c363_row115_col6\" class=\"data row115 col6\" >Pescara</td>\n",
       "      <td id=\"T_2c363_row115_col7\" class=\"data row115 col7\" >4º</td>\n",
       "      <td id=\"T_2c363_row115_col8\" class=\"data row115 col8\" >Serie C. Grupo C,  Jornada 5</td>\n",
       "    </tr>\n",
       "    <tr>\n",
       "      <th id=\"T_2c363_level0_row116\" class=\"row_heading level0 row116\" >116</th>\n",
       "      <td id=\"T_2c363_row116_col0\" class=\"data row116 col0\" >2022-09-24 18:30</td>\n",
       "      <td id=\"T_2c363_row116_col1\" class=\"data row116 col1\" >10.3</td>\n",
       "      <td id=\"T_2c363_row116_col2\" class=\"data row116 col2\" >14º</td>\n",
       "      <td id=\"T_2c363_row116_col3\" class=\"data row116 col3\" >Potenza Calcio</td>\n",
       "      <td id=\"T_2c363_row116_col4\" class=\"data row116 col4\" >33.4% - 1.09</td>\n",
       "      <td id=\"T_2c363_row116_col5\" class=\"data row116 col5\" >38% - 1.18</td>\n",
       "      <td id=\"T_2c363_row116_col6\" class=\"data row116 col6\" >Crotone</td>\n",
       "      <td id=\"T_2c363_row116_col7\" class=\"data row116 col7\" >1º</td>\n",
       "      <td id=\"T_2c363_row116_col8\" class=\"data row116 col8\" >Serie C. Grupo C,  Jornada 5</td>\n",
       "    </tr>\n",
       "    <tr>\n",
       "      <th id=\"T_2c363_level0_row117\" class=\"row_heading level0 row117\" >117</th>\n",
       "      <td id=\"T_2c363_row117_col0\" class=\"data row117 col0\" >2022-09-24 18:30</td>\n",
       "      <td id=\"T_2c363_row117_col1\" class=\"data row117 col1\" >7.3</td>\n",
       "      <td id=\"T_2c363_row117_col2\" class=\"data row117 col2\" >5º</td>\n",
       "      <td id=\"T_2c363_row117_col3\" class=\"data row117 col3\" >Juve Stabia</td>\n",
       "      <td id=\"T_2c363_row117_col4\" class=\"data row117 col4\" >51.1% - 1.61</td>\n",
       "      <td id=\"T_2c363_row117_col5\" class=\"data row117 col5\" >24% - 1.02</td>\n",
       "      <td id=\"T_2c363_row117_col6\" class=\"data row117 col6\" >Viterbese</td>\n",
       "      <td id=\"T_2c363_row117_col7\" class=\"data row117 col7\" >18º</td>\n",
       "      <td id=\"T_2c363_row117_col8\" class=\"data row117 col8\" >Serie C. Grupo C,  Jornada 5</td>\n",
       "    </tr>\n",
       "    <tr>\n",
       "      <th id=\"T_2c363_level0_row118\" class=\"row_heading level0 row118\" >118</th>\n",
       "      <td id=\"T_2c363_row118_col0\" class=\"data row118 col0\" >2022-09-24 18:30</td>\n",
       "      <td id=\"T_2c363_row118_col1\" class=\"data row118 col1\" >8.5</td>\n",
       "      <td id=\"T_2c363_row118_col2\" class=\"data row118 col2\" >3º</td>\n",
       "      <td id=\"T_2c363_row118_col3\" class=\"data row118 col3\" >Catanzaro</td>\n",
       "      <td id=\"T_2c363_row118_col4\" class=\"data row118 col4\" >57.3% - 1.65</td>\n",
       "      <td id=\"T_2c363_row118_col5\" class=\"data row118 col5\" >18.3% - 0.81</td>\n",
       "      <td id=\"T_2c363_row118_col6\" class=\"data row118 col6\" >ACR Messina</td>\n",
       "      <td id=\"T_2c363_row118_col7\" class=\"data row118 col7\" >20º</td>\n",
       "      <td id=\"T_2c363_row118_col8\" class=\"data row118 col8\" >Serie C. Grupo C,  Jornada 5</td>\n",
       "    </tr>\n",
       "    <tr>\n",
       "      <th id=\"T_2c363_level0_row119\" class=\"row_heading level0 row119\" >119</th>\n",
       "      <td id=\"T_2c363_row119_col0\" class=\"data row119 col0\" >2022-09-24 18:30</td>\n",
       "      <td id=\"T_2c363_row119_col1\" class=\"data row119 col1\" >16.4</td>\n",
       "      <td id=\"T_2c363_row119_col2\" class=\"data row119 col2\" >17º</td>\n",
       "      <td id=\"T_2c363_row119_col3\" class=\"data row119 col3\" >Fidelis Andria</td>\n",
       "      <td id=\"T_2c363_row119_col4\" class=\"data row119 col4\" >31.6% - 0.87</td>\n",
       "      <td id=\"T_2c363_row119_col5\" class=\"data row119 col5\" >35.6% - 0.94</td>\n",
       "      <td id=\"T_2c363_row119_col6\" class=\"data row119 col6\" >Picerno</td>\n",
       "      <td id=\"T_2c363_row119_col7\" class=\"data row119 col7\" >13º</td>\n",
       "      <td id=\"T_2c363_row119_col8\" class=\"data row119 col8\" >Serie C. Grupo C,  Jornada 5</td>\n",
       "    </tr>\n",
       "    <tr>\n",
       "      <th id=\"T_2c363_level0_row120\" class=\"row_heading level0 row120\" >120</th>\n",
       "      <td id=\"T_2c363_row120_col0\" class=\"data row120 col0\" >2022-09-24 18:30</td>\n",
       "      <td id=\"T_2c363_row120_col1\" class=\"data row120 col1\" >3.1</td>\n",
       "      <td id=\"T_2c363_row120_col2\" class=\"data row120 col2\" >8º</td>\n",
       "      <td id=\"T_2c363_row120_col3\" class=\"data row120 col3\" >Monopoli</td>\n",
       "      <td id=\"T_2c363_row120_col4\" class=\"data row120 col4\" >34.1% - 1.62</td>\n",
       "      <td id=\"T_2c363_row120_col5\" class=\"data row120 col5\" >43.6% - 1.85</td>\n",
       "      <td id=\"T_2c363_row120_col6\" class=\"data row120 col6\" >Audace Cerignola</td>\n",
       "      <td id=\"T_2c363_row120_col7\" class=\"data row120 col7\" >6º</td>\n",
       "      <td id=\"T_2c363_row120_col8\" class=\"data row120 col8\" >Serie C. Grupo C,  Jornada 5</td>\n",
       "    </tr>\n",
       "    <tr>\n",
       "      <th id=\"T_2c363_level0_row121\" class=\"row_heading level0 row121\" >121</th>\n",
       "      <td id=\"T_2c363_row121_col0\" class=\"data row121 col0\" >2022-09-24 18:30</td>\n",
       "      <td id=\"T_2c363_row121_col1\" class=\"data row121 col1\" >6</td>\n",
       "      <td id=\"T_2c363_row121_col2\" class=\"data row121 col2\" >19º</td>\n",
       "      <td id=\"T_2c363_row121_col3\" class=\"data row121 col3\" >Gelbison</td>\n",
       "      <td id=\"T_2c363_row121_col4\" class=\"data row121 col4\" >60.9% - 1.91</td>\n",
       "      <td id=\"T_2c363_row121_col5\" class=\"data row121 col5\" >17.3% - 0.91</td>\n",
       "      <td id=\"T_2c363_row121_col6\" class=\"data row121 col6\" >Taranto</td>\n",
       "      <td id=\"T_2c363_row121_col7\" class=\"data row121 col7\" >16º</td>\n",
       "      <td id=\"T_2c363_row121_col8\" class=\"data row121 col8\" >Serie C. Grupo C,  Jornada 5</td>\n",
       "    </tr>\n",
       "    <tr>\n",
       "      <th id=\"T_2c363_level0_row122\" class=\"row_heading level0 row122\" >122</th>\n",
       "      <td id=\"T_2c363_row122_col0\" class=\"data row122 col0\" >2022-09-24 18:30</td>\n",
       "      <td id=\"T_2c363_row122_col1\" class=\"data row122 col1\" >14.7</td>\n",
       "      <td id=\"T_2c363_row122_col2\" class=\"data row122 col2\" >10º</td>\n",
       "      <td id=\"T_2c363_row122_col3\" class=\"data row122 col3\" >Nuova Monterosi</td>\n",
       "      <td id=\"T_2c363_row122_col4\" class=\"data row122 col4\" >58.5% - 1.39</td>\n",
       "      <td id=\"T_2c363_row122_col5\" class=\"data row122 col5\" >14% - 0.53</td>\n",
       "      <td id=\"T_2c363_row122_col6\" class=\"data row122 col6\" >Virtus Francavilla</td>\n",
       "      <td id=\"T_2c363_row122_col7\" class=\"data row122 col7\" >7º</td>\n",
       "      <td id=\"T_2c363_row122_col8\" class=\"data row122 col8\" >Serie C. Grupo C,  Jornada 5</td>\n",
       "    </tr>\n",
       "    <tr>\n",
       "      <th id=\"T_2c363_level0_row123\" class=\"row_heading level0 row123\" >123</th>\n",
       "      <td id=\"T_2c363_row123_col0\" class=\"data row123 col0\" >2022-09-24 18:30</td>\n",
       "      <td id=\"T_2c363_row123_col1\" class=\"data row123 col1\" >3.8</td>\n",
       "      <td id=\"T_2c363_row123_col2\" class=\"data row123 col2\" >9º</td>\n",
       "      <td id=\"T_2c363_row123_col3\" class=\"data row123 col3\" >SSC Giugliano</td>\n",
       "      <td id=\"T_2c363_row123_col4\" class=\"data row123 col4\" >57.7% - 2.08</td>\n",
       "      <td id=\"T_2c363_row123_col5\" class=\"data row123 col5\" >21.4% - 1.2</td>\n",
       "      <td id=\"T_2c363_row123_col6\" class=\"data row123 col6\" >Turris Neapolis</td>\n",
       "      <td id=\"T_2c363_row123_col7\" class=\"data row123 col7\" >2º</td>\n",
       "      <td id=\"T_2c363_row123_col8\" class=\"data row123 col8\" >Serie C. Grupo C,  Jornada 5</td>\n",
       "    </tr>\n",
       "    <tr>\n",
       "      <th id=\"T_2c363_level0_row124\" class=\"row_heading level0 row124\" >124</th>\n",
       "      <td id=\"T_2c363_row124_col0\" class=\"data row124 col0\" >2022-09-24 15:30</td>\n",
       "      <td id=\"T_2c363_row124_col1\" class=\"data row124 col1\" >7.3</td>\n",
       "      <td id=\"T_2c363_row124_col2\" class=\"data row124 col2\" >-</td>\n",
       "      <td id=\"T_2c363_row124_col3\" class=\"data row124 col3\" >Barnechea</td>\n",
       "      <td id=\"T_2c363_row124_col4\" class=\"data row124 col4\" >49.3% - 1.57</td>\n",
       "      <td id=\"T_2c363_row124_col5\" class=\"data row124 col5\" >25.4% - 1.05</td>\n",
       "      <td id=\"T_2c363_row124_col6\" class=\"data row124 col6\" >CD Melipilla</td>\n",
       "      <td id=\"T_2c363_row124_col7\" class=\"data row124 col7\" >-</td>\n",
       "      <td id=\"T_2c363_row124_col8\" class=\"data row124 col8\" >Primera B Chile.  Jornada 29</td>\n",
       "    </tr>\n",
       "    <tr>\n",
       "      <th id=\"T_2c363_level0_row125\" class=\"row_heading level0 row125\" >125</th>\n",
       "      <td id=\"T_2c363_row125_col0\" class=\"data row125 col0\" >2022-09-24 18:00</td>\n",
       "      <td id=\"T_2c363_row125_col1\" class=\"data row125 col1\" >10.6</td>\n",
       "      <td id=\"T_2c363_row125_col2\" class=\"data row125 col2\" >-</td>\n",
       "      <td id=\"T_2c363_row125_col3\" class=\"data row125 col3\" >Santiago Morning</td>\n",
       "      <td id=\"T_2c363_row125_col4\" class=\"data row125 col4\" >30.9% - 1.03</td>\n",
       "      <td id=\"T_2c363_row125_col5\" class=\"data row125 col5\" >40.5% - 1.22</td>\n",
       "      <td id=\"T_2c363_row125_col6\" class=\"data row125 col6\" >Rangers Talca</td>\n",
       "      <td id=\"T_2c363_row125_col7\" class=\"data row125 col7\" >-</td>\n",
       "      <td id=\"T_2c363_row125_col8\" class=\"data row125 col8\" >Primera B Chile.  Jornada 29</td>\n",
       "    </tr>\n",
       "    <tr>\n",
       "      <th id=\"T_2c363_level0_row126\" class=\"row_heading level0 row126\" >126</th>\n",
       "      <td id=\"T_2c363_row126_col0\" class=\"data row126 col0\" >2022-09-24 20:30</td>\n",
       "      <td id=\"T_2c363_row126_col1\" class=\"data row126 col1\" >8.2</td>\n",
       "      <td id=\"T_2c363_row126_col2\" class=\"data row126 col2\" >7º</td>\n",
       "      <td id=\"T_2c363_row126_col3\" class=\"data row126 col3\" >Santiago Wanderers</td>\n",
       "      <td id=\"T_2c363_row126_col4\" class=\"data row126 col4\" >57.4% - 1.67</td>\n",
       "      <td id=\"T_2c363_row126_col5\" class=\"data row126 col5\" >18.4% - 0.83</td>\n",
       "      <td id=\"T_2c363_row126_col6\" class=\"data row126 col6\" >Recoleta</td>\n",
       "      <td id=\"T_2c363_row126_col7\" class=\"data row126 col7\" >15º</td>\n",
       "      <td id=\"T_2c363_row126_col8\" class=\"data row126 col8\" >Primera B Chile.  Jornada 29</td>\n",
       "    </tr>\n",
       "    <tr>\n",
       "      <th id=\"T_2c363_level0_row127\" class=\"row_heading level0 row127\" >127</th>\n",
       "      <td id=\"T_2c363_row127_col0\" class=\"data row127 col0\" >2022-09-24 13:00</td>\n",
       "      <td id=\"T_2c363_row127_col1\" class=\"data row127 col1\" >3.8</td>\n",
       "      <td id=\"T_2c363_row127_col2\" class=\"data row127 col2\" >3º</td>\n",
       "      <td id=\"T_2c363_row127_col3\" class=\"data row127 col3\" >Northampton</td>\n",
       "      <td id=\"T_2c363_row127_col4\" class=\"data row127 col4\" >28.2% - 1.38</td>\n",
       "      <td id=\"T_2c363_row127_col5\" class=\"data row127 col5\" >49.3% - 1.88</td>\n",
       "      <td id=\"T_2c363_row127_col6\" class=\"data row127 col6\" >Stockport County</td>\n",
       "      <td id=\"T_2c363_row127_col7\" class=\"data row127 col7\" >16º</td>\n",
       "      <td id=\"T_2c363_row127_col8\" class=\"data row127 col8\" >League Two.  Jornada 11</td>\n",
       "    </tr>\n",
       "    <tr>\n",
       "      <th id=\"T_2c363_level0_row128\" class=\"row_heading level0 row128\" >128</th>\n",
       "      <td id=\"T_2c363_row128_col0\" class=\"data row128 col0\" >2022-09-24 14:00</td>\n",
       "      <td id=\"T_2c363_row128_col1\" class=\"data row128 col1\" >14.3</td>\n",
       "      <td id=\"T_2c363_row128_col2\" class=\"data row128 col2\" >6º</td>\n",
       "      <td id=\"T_2c363_row128_col3\" class=\"data row128 col3\" >Bradford City</td>\n",
       "      <td id=\"T_2c363_row128_col4\" class=\"data row128 col4\" >43.4% - 1.14</td>\n",
       "      <td id=\"T_2c363_row128_col5\" class=\"data row128 col5\" >25.9% - 0.81</td>\n",
       "      <td id=\"T_2c363_row128_col6\" class=\"data row128 col6\" >AFC Wimbledon</td>\n",
       "      <td id=\"T_2c363_row128_col7\" class=\"data row128 col7\" >18º</td>\n",
       "      <td id=\"T_2c363_row128_col8\" class=\"data row128 col8\" >League Two.  Jornada 11</td>\n",
       "    </tr>\n",
       "    <tr>\n",
       "      <th id=\"T_2c363_level0_row129\" class=\"row_heading level0 row129\" >129</th>\n",
       "      <td id=\"T_2c363_row129_col0\" class=\"data row129 col0\" >2022-09-24 14:00</td>\n",
       "      <td id=\"T_2c363_row129_col1\" class=\"data row129 col1\" >15.9</td>\n",
       "      <td id=\"T_2c363_row129_col2\" class=\"data row129 col2\" >22º</td>\n",
       "      <td id=\"T_2c363_row129_col3\" class=\"data row129 col3\" >Colchester United</td>\n",
       "      <td id=\"T_2c363_row129_col4\" class=\"data row129 col4\" >40.2% - 1.03</td>\n",
       "      <td id=\"T_2c363_row129_col5\" class=\"data row129 col5\" >27.6% - 0.8</td>\n",
       "      <td id=\"T_2c363_row129_col6\" class=\"data row129 col6\" >Rochdale</td>\n",
       "      <td id=\"T_2c363_row129_col7\" class=\"data row129 col7\" >24º</td>\n",
       "      <td id=\"T_2c363_row129_col8\" class=\"data row129 col8\" >League Two.  Jornada 11</td>\n",
       "    </tr>\n",
       "    <tr>\n",
       "      <th id=\"T_2c363_level0_row130\" class=\"row_heading level0 row130\" >130</th>\n",
       "      <td id=\"T_2c363_row130_col0\" class=\"data row130 col0\" >2022-09-24 14:00</td>\n",
       "      <td id=\"T_2c363_row130_col1\" class=\"data row130 col1\" >8.9</td>\n",
       "      <td id=\"T_2c363_row130_col2\" class=\"data row130 col2\" >2º</td>\n",
       "      <td id=\"T_2c363_row130_col3\" class=\"data row130 col3\" >Barrow</td>\n",
       "      <td id=\"T_2c363_row130_col4\" class=\"data row130 col4\" >35.8% - 1.2</td>\n",
       "      <td id=\"T_2c363_row130_col5\" class=\"data row130 col5\" >36.7% - 1.22</td>\n",
       "      <td id=\"T_2c363_row130_col6\" class=\"data row130 col6\" >Leyton Orient</td>\n",
       "      <td id=\"T_2c363_row130_col7\" class=\"data row130 col7\" >1º</td>\n",
       "      <td id=\"T_2c363_row130_col8\" class=\"data row130 col8\" >League Two.  Jornada 11</td>\n",
       "    </tr>\n",
       "    <tr>\n",
       "      <th id=\"T_2c363_level0_row131\" class=\"row_heading level0 row131\" >131</th>\n",
       "      <td id=\"T_2c363_row131_col0\" class=\"data row131 col0\" >2022-09-24 14:00</td>\n",
       "      <td id=\"T_2c363_row131_col1\" class=\"data row131 col1\" >6.3</td>\n",
       "      <td id=\"T_2c363_row131_col2\" class=\"data row131 col2\" >9º</td>\n",
       "      <td id=\"T_2c363_row131_col3\" class=\"data row131 col3\" >Crewe Alexandra</td>\n",
       "      <td id=\"T_2c363_row131_col4\" class=\"data row131 col4\" >25.1% - 1.1</td>\n",
       "      <td id=\"T_2c363_row131_col5\" class=\"data row131 col5\" >50.5% - 1.66</td>\n",
       "      <td id=\"T_2c363_row131_col6\" class=\"data row131 col6\" >Mansfield Town</td>\n",
       "      <td id=\"T_2c363_row131_col7\" class=\"data row131 col7\" >7º</td>\n",
       "      <td id=\"T_2c363_row131_col8\" class=\"data row131 col8\" >League Two.  Jornada 11</td>\n",
       "    </tr>\n",
       "    <tr>\n",
       "      <th id=\"T_2c363_level0_row132\" class=\"row_heading level0 row132\" >132</th>\n",
       "      <td id=\"T_2c363_row132_col0\" class=\"data row132 col0\" >2022-09-24 14:00</td>\n",
       "      <td id=\"T_2c363_row132_col1\" class=\"data row132 col1\" >8</td>\n",
       "      <td id=\"T_2c363_row132_col2\" class=\"data row132 col2\" >8º</td>\n",
       "      <td id=\"T_2c363_row132_col3\" class=\"data row132 col3\" >Grimsby Town</td>\n",
       "      <td id=\"T_2c363_row132_col4\" class=\"data row132 col4\" >34.5% - 1.22</td>\n",
       "      <td id=\"T_2c363_row132_col5\" class=\"data row132 col5\" >38.7% - 1.31</td>\n",
       "      <td id=\"T_2c363_row132_col6\" class=\"data row132 col6\" >Swindon Town</td>\n",
       "      <td id=\"T_2c363_row132_col7\" class=\"data row132 col7\" >11º</td>\n",
       "      <td id=\"T_2c363_row132_col8\" class=\"data row132 col8\" >League Two.  Jornada 11</td>\n",
       "    </tr>\n",
       "    <tr>\n",
       "      <th id=\"T_2c363_level0_row133\" class=\"row_heading level0 row133\" >133</th>\n",
       "      <td id=\"T_2c363_row133_col0\" class=\"data row133 col0\" >2022-09-24 14:00</td>\n",
       "      <td id=\"T_2c363_row133_col1\" class=\"data row133 col1\" >21</td>\n",
       "      <td id=\"T_2c363_row133_col2\" class=\"data row133 col2\" >23º</td>\n",
       "      <td id=\"T_2c363_row133_col3\" class=\"data row133 col3\" >Hartlepool United</td>\n",
       "      <td id=\"T_2c363_row133_col4\" class=\"data row133 col4\" >26.6% - 0.68</td>\n",
       "      <td id=\"T_2c363_row133_col5\" class=\"data row133 col5\" >37.9% - 0.88</td>\n",
       "      <td id=\"T_2c363_row133_col6\" class=\"data row133 col6\" >Gillingham</td>\n",
       "      <td id=\"T_2c363_row133_col7\" class=\"data row133 col7\" >21º</td>\n",
       "      <td id=\"T_2c363_row133_col8\" class=\"data row133 col8\" >League Two.  Jornada 11</td>\n",
       "    </tr>\n",
       "    <tr>\n",
       "      <th id=\"T_2c363_level0_row134\" class=\"row_heading level0 row134\" >134</th>\n",
       "      <td id=\"T_2c363_row134_col0\" class=\"data row134 col0\" >2022-09-24 14:00</td>\n",
       "      <td id=\"T_2c363_row134_col1\" class=\"data row134 col1\" >9.3</td>\n",
       "      <td id=\"T_2c363_row134_col2\" class=\"data row134 col2\" >15º</td>\n",
       "      <td id=\"T_2c363_row134_col3\" class=\"data row134 col3\" >Walsall</td>\n",
       "      <td id=\"T_2c363_row134_col4\" class=\"data row134 col4\" >40.1% - 1.27</td>\n",
       "      <td id=\"T_2c363_row134_col5\" class=\"data row134 col5\" >32.2% - 1.11</td>\n",
       "      <td id=\"T_2c363_row134_col6\" class=\"data row134 col6\" >Tranmere Rovers</td>\n",
       "      <td id=\"T_2c363_row134_col7\" class=\"data row134 col7\" >14º</td>\n",
       "      <td id=\"T_2c363_row134_col8\" class=\"data row134 col8\" >League Two.  Jornada 11</td>\n",
       "    </tr>\n",
       "    <tr>\n",
       "      <th id=\"T_2c363_level0_row135\" class=\"row_heading level0 row135\" >135</th>\n",
       "      <td id=\"T_2c363_row135_col0\" class=\"data row135 col0\" >2022-09-24 14:00</td>\n",
       "      <td id=\"T_2c363_row135_col1\" class=\"data row135 col1\" >7</td>\n",
       "      <td id=\"T_2c363_row135_col2\" class=\"data row135 col2\" >12º</td>\n",
       "      <td id=\"T_2c363_row135_col3\" class=\"data row135 col3\" >Doncaster Rovers</td>\n",
       "      <td id=\"T_2c363_row135_col4\" class=\"data row135 col4\" >26.1% - 1.08</td>\n",
       "      <td id=\"T_2c363_row135_col5\" class=\"data row135 col5\" >48.8% - 1.58</td>\n",
       "      <td id=\"T_2c363_row135_col6\" class=\"data row135 col6\" >Crawley Town</td>\n",
       "      <td id=\"T_2c363_row135_col7\" class=\"data row135 col7\" >20º</td>\n",
       "      <td id=\"T_2c363_row135_col8\" class=\"data row135 col8\" >League Two.  Jornada 11</td>\n",
       "    </tr>\n",
       "    <tr>\n",
       "      <th id=\"T_2c363_level0_row136\" class=\"row_heading level0 row136\" >136</th>\n",
       "      <td id=\"T_2c363_row136_col0\" class=\"data row136 col0\" >2022-09-24 14:00</td>\n",
       "      <td id=\"T_2c363_row136_col1\" class=\"data row136 col1\" >4.3</td>\n",
       "      <td id=\"T_2c363_row136_col2\" class=\"data row136 col2\" >19º</td>\n",
       "      <td id=\"T_2c363_row136_col3\" class=\"data row136 col3\" >Newport County</td>\n",
       "      <td id=\"T_2c363_row136_col4\" class=\"data row136 col4\" >35.6% - 1.51</td>\n",
       "      <td id=\"T_2c363_row136_col5\" class=\"data row136 col5\" >40.8% - 1.64</td>\n",
       "      <td id=\"T_2c363_row136_col6\" class=\"data row136 col6\" >Carlisle United</td>\n",
       "      <td id=\"T_2c363_row136_col7\" class=\"data row136 col7\" >13º</td>\n",
       "      <td id=\"T_2c363_row136_col8\" class=\"data row136 col8\" >League Two.  Jornada 11</td>\n",
       "    </tr>\n",
       "    <tr>\n",
       "      <th id=\"T_2c363_level0_row137\" class=\"row_heading level0 row137\" >137</th>\n",
       "      <td id=\"T_2c363_row137_col0\" class=\"data row137 col0\" >2022-09-24 14:00</td>\n",
       "      <td id=\"T_2c363_row137_col1\" class=\"data row137 col1\" >6.3</td>\n",
       "      <td id=\"T_2c363_row137_col2\" class=\"data row137 col2\" >4º</td>\n",
       "      <td id=\"T_2c363_row137_col3\" class=\"data row137 col3\" >Stevenage</td>\n",
       "      <td id=\"T_2c363_row137_col4\" class=\"data row137 col4\" >54.9% - 1.75</td>\n",
       "      <td id=\"T_2c363_row137_col5\" class=\"data row137 col5\" >21.6% - 1.01</td>\n",
       "      <td id=\"T_2c363_row137_col6\" class=\"data row137 col6\" >Harrogate Town</td>\n",
       "      <td id=\"T_2c363_row137_col7\" class=\"data row137 col7\" >17º</td>\n",
       "      <td id=\"T_2c363_row137_col8\" class=\"data row137 col8\" >League Two.  Jornada 11</td>\n",
       "    </tr>\n",
       "    <tr>\n",
       "      <th id=\"T_2c363_level0_row138\" class=\"row_heading level0 row138\" >138</th>\n",
       "      <td id=\"T_2c363_row138_col0\" class=\"data row138 col0\" >2022-09-24 14:00</td>\n",
       "      <td id=\"T_2c363_row138_col1\" class=\"data row138 col1\" >5.8</td>\n",
       "      <td id=\"T_2c363_row138_col2\" class=\"data row138 col2\" >10º</td>\n",
       "      <td id=\"T_2c363_row138_col3\" class=\"data row138 col3\" >Sutton United</td>\n",
       "      <td id=\"T_2c363_row138_col4\" class=\"data row138 col4\" >50.7% - 1.71</td>\n",
       "      <td id=\"T_2c363_row138_col5\" class=\"data row138 col5\" >25.4% - 1.14</td>\n",
       "      <td id=\"T_2c363_row138_col6\" class=\"data row138 col6\" >Salford City</td>\n",
       "      <td id=\"T_2c363_row138_col7\" class=\"data row138 col7\" >5º</td>\n",
       "      <td id=\"T_2c363_row138_col8\" class=\"data row138 col8\" >League Two.  Jornada 11</td>\n",
       "    </tr>\n",
       "    <tr>\n",
       "      <th id=\"T_2c363_level0_row139\" class=\"row_heading level0 row139\" >139</th>\n",
       "      <td id=\"T_2c363_row139_col0\" class=\"data row139 col0\" >2022-09-24 00:00:00</td>\n",
       "      <td id=\"T_2c363_row139_col1\" class=\"data row139 col1\" >11</td>\n",
       "      <td id=\"T_2c363_row139_col2\" class=\"data row139 col2\" >11º</td>\n",
       "      <td id=\"T_2c363_row139_col3\" class=\"data row139 col3\" >Los Andes</td>\n",
       "      <td id=\"T_2c363_row139_col4\" class=\"data row139 col4\" >36.7% - 1.13</td>\n",
       "      <td id=\"T_2c363_row139_col5\" class=\"data row139 col5\" >34.3% - 1.08</td>\n",
       "      <td id=\"T_2c363_row139_col6\" class=\"data row139 col6\" >CA San Miguel</td>\n",
       "      <td id=\"T_2c363_row139_col7\" class=\"data row139 col7\" >6º</td>\n",
       "      <td id=\"T_2c363_row139_col8\" class=\"data row139 col8\" >Primera B. Clausura,  Jornada 16</td>\n",
       "    </tr>\n",
       "    <tr>\n",
       "      <th id=\"T_2c363_level0_row140\" class=\"row_heading level0 row140\" >140</th>\n",
       "      <td id=\"T_2c363_row140_col0\" class=\"data row140 col0\" >2022-09-24 00:00:00</td>\n",
       "      <td id=\"T_2c363_row140_col1\" class=\"data row140 col1\" >12</td>\n",
       "      <td id=\"T_2c363_row140_col2\" class=\"data row140 col2\" >1º</td>\n",
       "      <td id=\"T_2c363_row140_col3\" class=\"data row140 col3\" >Colegiales</td>\n",
       "      <td id=\"T_2c363_row140_col4\" class=\"data row140 col4\" >50.9% - 1.36</td>\n",
       "      <td id=\"T_2c363_row140_col5\" class=\"data row140 col5\" >21.1% - 0.77</td>\n",
       "      <td id=\"T_2c363_row140_col6\" class=\"data row140 col6\" >Talleres R. Escalada</td>\n",
       "      <td id=\"T_2c363_row140_col7\" class=\"data row140 col7\" >9º</td>\n",
       "      <td id=\"T_2c363_row140_col8\" class=\"data row140 col8\" >Primera B. Clausura,  Jornada 16</td>\n",
       "    </tr>\n",
       "    <tr>\n",
       "      <th id=\"T_2c363_level0_row141\" class=\"row_heading level0 row141\" >141</th>\n",
       "      <td id=\"T_2c363_row141_col0\" class=\"data row141 col0\" >2022-09-24 00:00:00</td>\n",
       "      <td id=\"T_2c363_row141_col1\" class=\"data row141 col1\" >6.9</td>\n",
       "      <td id=\"T_2c363_row141_col2\" class=\"data row141 col2\" >4º</td>\n",
       "      <td id=\"T_2c363_row141_col3\" class=\"data row141 col3\" >Comunicaciones</td>\n",
       "      <td id=\"T_2c363_row141_col4\" class=\"data row141 col4\" >66.2% - 1.94</td>\n",
       "      <td id=\"T_2c363_row141_col5\" class=\"data row141 col5\" >13.1% - 0.73</td>\n",
       "      <td id=\"T_2c363_row141_col6\" class=\"data row141 col6\" >Dep. Armenio</td>\n",
       "      <td id=\"T_2c363_row141_col7\" class=\"data row141 col7\" >2º</td>\n",
       "      <td id=\"T_2c363_row141_col8\" class=\"data row141 col8\" >Primera B. Clausura,  Jornada 16</td>\n",
       "    </tr>\n",
       "    <tr>\n",
       "      <th id=\"T_2c363_level0_row142\" class=\"row_heading level0 row142\" >142</th>\n",
       "      <td id=\"T_2c363_row142_col0\" class=\"data row142 col0\" >2022-09-24 00:00:00</td>\n",
       "      <td id=\"T_2c363_row142_col1\" class=\"data row142 col1\" >11.3</td>\n",
       "      <td id=\"T_2c363_row142_col2\" class=\"data row142 col2\" >14º</td>\n",
       "      <td id=\"T_2c363_row142_col3\" class=\"data row142 col3\" >Acassuso</td>\n",
       "      <td id=\"T_2c363_row142_col4\" class=\"data row142 col4\" >45% - 1.28</td>\n",
       "      <td id=\"T_2c363_row142_col5\" class=\"data row142 col5\" >26.4% - 0.91</td>\n",
       "      <td id=\"T_2c363_row142_col6\" class=\"data row142 col6\" >Def. Unidos</td>\n",
       "      <td id=\"T_2c363_row142_col7\" class=\"data row142 col7\" >5º</td>\n",
       "      <td id=\"T_2c363_row142_col8\" class=\"data row142 col8\" >Primera B. Clausura,  Jornada 16</td>\n",
       "    </tr>\n",
       "    <tr>\n",
       "      <th id=\"T_2c363_level0_row143\" class=\"row_heading level0 row143\" >143</th>\n",
       "      <td id=\"T_2c363_row143_col0\" class=\"data row143 col0\" >2022-09-24 00:00:00</td>\n",
       "      <td id=\"T_2c363_row143_col1\" class=\"data row143 col1\" >14.5</td>\n",
       "      <td id=\"T_2c363_row143_col2\" class=\"data row143 col2\" >17º</td>\n",
       "      <td id=\"T_2c363_row143_col3\" class=\"data row143 col3\" >JJ Urquiza</td>\n",
       "      <td id=\"T_2c363_row143_col4\" class=\"data row143 col4\" >33.9% - 0.96</td>\n",
       "      <td id=\"T_2c363_row143_col5\" class=\"data row143 col5\" >34.6% - 0.97</td>\n",
       "      <td id=\"T_2c363_row143_col6\" class=\"data row143 col6\" >UAI Urquiza</td>\n",
       "      <td id=\"T_2c363_row143_col7\" class=\"data row143 col7\" >8º</td>\n",
       "      <td id=\"T_2c363_row143_col8\" class=\"data row143 col8\" >Primera B. Clausura,  Jornada 16</td>\n",
       "    </tr>\n",
       "    <tr>\n",
       "      <th id=\"T_2c363_level0_row144\" class=\"row_heading level0 row144\" >144</th>\n",
       "      <td id=\"T_2c363_row144_col0\" class=\"data row144 col0\" >2022-09-24 00:00:00</td>\n",
       "      <td id=\"T_2c363_row144_col1\" class=\"data row144 col1\" >12.7</td>\n",
       "      <td id=\"T_2c363_row144_col2\" class=\"data row144 col2\" >16º</td>\n",
       "      <td id=\"T_2c363_row144_col3\" class=\"data row144 col3\" >Arg. Quilmes</td>\n",
       "      <td id=\"T_2c363_row144_col4\" class=\"data row144 col4\" >31.1% - 0.96</td>\n",
       "      <td id=\"T_2c363_row144_col5\" class=\"data row144 col5\" >38.7% - 1.1</td>\n",
       "      <td id=\"T_2c363_row144_col6\" class=\"data row144 col6\" >Villa San Carlos</td>\n",
       "      <td id=\"T_2c363_row144_col7\" class=\"data row144 col7\" >10º</td>\n",
       "      <td id=\"T_2c363_row144_col8\" class=\"data row144 col8\" >Primera B. Clausura,  Jornada 16</td>\n",
       "    </tr>\n",
       "    <tr>\n",
       "      <th id=\"T_2c363_level0_row145\" class=\"row_heading level0 row145\" >145</th>\n",
       "      <td id=\"T_2c363_row145_col0\" class=\"data row145 col0\" >2022-09-24 00:00:00</td>\n",
       "      <td id=\"T_2c363_row145_col1\" class=\"data row145 col1\" >14.1</td>\n",
       "      <td id=\"T_2c363_row145_col2\" class=\"data row145 col2\" >3º</td>\n",
       "      <td id=\"T_2c363_row145_col3\" class=\"data row145 col3\" >Ituzaingó</td>\n",
       "      <td id=\"T_2c363_row145_col4\" class=\"data row145 col4\" >44.1% - 1.16</td>\n",
       "      <td id=\"T_2c363_row145_col5\" class=\"data row145 col5\" >25.4% - 0.8</td>\n",
       "      <td id=\"T_2c363_row145_col6\" class=\"data row145 col6\" >Fénix Bs As</td>\n",
       "      <td id=\"T_2c363_row145_col7\" class=\"data row145 col7\" >12º</td>\n",
       "      <td id=\"T_2c363_row145_col8\" class=\"data row145 col8\" >Primera B. Clausura,  Jornada 16</td>\n",
       "    </tr>\n",
       "    <tr>\n",
       "      <th id=\"T_2c363_level0_row146\" class=\"row_heading level0 row146\" >146</th>\n",
       "      <td id=\"T_2c363_row146_col0\" class=\"data row146 col0\" >2022-09-24 00:00:00</td>\n",
       "      <td id=\"T_2c363_row146_col1\" class=\"data row146 col1\" >9.7</td>\n",
       "      <td id=\"T_2c363_row146_col2\" class=\"data row146 col2\" >13º</td>\n",
       "      <td id=\"T_2c363_row146_col3\" class=\"data row146 col3\" >Cañuelas</td>\n",
       "      <td id=\"T_2c363_row146_col4\" class=\"data row146 col4\" >51.1% - 1.47</td>\n",
       "      <td id=\"T_2c363_row146_col5\" class=\"data row146 col5\" >22.3% - 0.87</td>\n",
       "      <td id=\"T_2c363_row146_col6\" class=\"data row146 col6\" >Dock Sud</td>\n",
       "      <td id=\"T_2c363_row146_col7\" class=\"data row146 col7\" >15º</td>\n",
       "      <td id=\"T_2c363_row146_col8\" class=\"data row146 col8\" >Primera B. Clausura,  Jornada 16</td>\n",
       "    </tr>\n",
       "    <tr>\n",
       "      <th id=\"T_2c363_level0_row147\" class=\"row_heading level0 row147\" >147</th>\n",
       "      <td id=\"T_2c363_row147_col0\" class=\"data row147 col0\" >2022-09-24 15:00</td>\n",
       "      <td id=\"T_2c363_row147_col1\" class=\"data row147 col1\" >6.4</td>\n",
       "      <td id=\"T_2c363_row147_col2\" class=\"data row147 col2\" >10º</td>\n",
       "      <td id=\"T_2c363_row147_col3\" class=\"data row147 col3\" >Finn Harps</td>\n",
       "      <td id=\"T_2c363_row147_col4\" class=\"data row147 col4\" >28.8% - 1.18</td>\n",
       "      <td id=\"T_2c363_row147_col5\" class=\"data row147 col5\" >46.2% - 1.56</td>\n",
       "      <td id=\"T_2c363_row147_col6\" class=\"data row147 col6\" >Bohemian FC</td>\n",
       "      <td id=\"T_2c363_row147_col7\" class=\"data row147 col7\" >6º</td>\n",
       "      <td id=\"T_2c363_row147_col8\" class=\"data row147 col8\" >Liga Irlanda.  Jornada 19</td>\n",
       "    </tr>\n",
       "    <tr>\n",
       "      <th id=\"T_2c363_level0_row148\" class=\"row_heading level0 row148\" >148</th>\n",
       "      <td id=\"T_2c363_row148_col0\" class=\"data row148 col0\" >2022-09-24 20:00</td>\n",
       "      <td id=\"T_2c363_row148_col1\" class=\"data row148 col1\" >6.1</td>\n",
       "      <td id=\"T_2c363_row148_col2\" class=\"data row148 col2\" >6º</td>\n",
       "      <td id=\"T_2c363_row148_col3\" class=\"data row148 col3\" >Figueirense</td>\n",
       "      <td id=\"T_2c363_row148_col4\" class=\"data row148 col4\" >37.2% - 1.39</td>\n",
       "      <td id=\"T_2c363_row148_col5\" class=\"data row148 col5\" >37.4% - 1.4</td>\n",
       "      <td id=\"T_2c363_row148_col6\" class=\"data row148 col6\" >ABC</td>\n",
       "      <td id=\"T_2c363_row148_col7\" class=\"data row148 col7\" >1º</td>\n",
       "      <td id=\"T_2c363_row148_col8\" class=\"data row148 col8\" >Serie C - Brasil. Ronda de Ascenso,  Jornada 6</td>\n",
       "    </tr>\n",
       "    <tr>\n",
       "      <th id=\"T_2c363_level0_row149\" class=\"row_heading level0 row149\" >149</th>\n",
       "      <td id=\"T_2c363_row149_col0\" class=\"data row149 col0\" >2022-09-24 20:00</td>\n",
       "      <td id=\"T_2c363_row149_col1\" class=\"data row149 col1\" >7.5</td>\n",
       "      <td id=\"T_2c363_row149_col2\" class=\"data row149 col2\" >8º</td>\n",
       "      <td id=\"T_2c363_row149_col3\" class=\"data row149 col3\" >Paysandu</td>\n",
       "      <td id=\"T_2c363_row149_col4\" class=\"data row149 col4\" >69.6% - 1.98</td>\n",
       "      <td id=\"T_2c363_row149_col5\" class=\"data row149 col5\" >10.6% - 0.62</td>\n",
       "      <td id=\"T_2c363_row149_col6\" class=\"data row149 col6\" >Vitória</td>\n",
       "      <td id=\"T_2c363_row149_col7\" class=\"data row149 col7\" >3º</td>\n",
       "      <td id=\"T_2c363_row149_col8\" class=\"data row149 col8\" >Serie C - Brasil. Ronda de Ascenso,  Jornada 6</td>\n",
       "    </tr>\n",
       "    <tr>\n",
       "      <th id=\"T_2c363_level0_row150\" class=\"row_heading level0 row150\" >150</th>\n",
       "      <td id=\"T_2c363_row150_col0\" class=\"data row150 col0\" >2022-09-24 14:30</td>\n",
       "      <td id=\"T_2c363_row150_col1\" class=\"data row150 col1\" >6.5</td>\n",
       "      <td id=\"T_2c363_row150_col2\" class=\"data row150 col2\" >12º</td>\n",
       "      <td id=\"T_2c363_row150_col3\" class=\"data row150 col3\" >Real Valladolid Promesas</td>\n",
       "      <td id=\"T_2c363_row150_col4\" class=\"data row150 col4\" >48% - 1.6</td>\n",
       "      <td id=\"T_2c363_row150_col5\" class=\"data row150 col5\" >27.2% - 1.14</td>\n",
       "      <td id=\"T_2c363_row150_col6\" class=\"data row150 col6\" >Coruxo</td>\n",
       "      <td id=\"T_2c363_row150_col7\" class=\"data row150 col7\" >7º</td>\n",
       "      <td id=\"T_2c363_row150_col8\" class=\"data row150 col8\" >Segunda Federación.  Jornada 4</td>\n",
       "    </tr>\n",
       "    <tr>\n",
       "      <th id=\"T_2c363_level0_row151\" class=\"row_heading level0 row151\" >151</th>\n",
       "      <td id=\"T_2c363_row151_col0\" class=\"data row151 col0\" >2022-09-24 15:00</td>\n",
       "      <td id=\"T_2c363_row151_col1\" class=\"data row151 col1\" >7.5</td>\n",
       "      <td id=\"T_2c363_row151_col2\" class=\"data row151 col2\" >4º</td>\n",
       "      <td id=\"T_2c363_row151_col3\" class=\"data row151 col3\" >Rayo Cantabria</td>\n",
       "      <td id=\"T_2c363_row151_col4\" class=\"data row151 col4\" >38.1% - 1.32</td>\n",
       "      <td id=\"T_2c363_row151_col5\" class=\"data row151 col5\" >35.4% - 1.27</td>\n",
       "      <td id=\"T_2c363_row151_col6\" class=\"data row151 col6\" >Guijuelo</td>\n",
       "      <td id=\"T_2c363_row151_col7\" class=\"data row151 col7\" >1º</td>\n",
       "      <td id=\"T_2c363_row151_col8\" class=\"data row151 col8\" >Segunda Federación.  Jornada 4</td>\n",
       "    </tr>\n",
       "    <tr>\n",
       "      <th id=\"T_2c363_level0_row152\" class=\"row_heading level0 row152\" >152</th>\n",
       "      <td id=\"T_2c363_row152_col0\" class=\"data row152 col0\" >2022-09-24 15:00</td>\n",
       "      <td id=\"T_2c363_row152_col1\" class=\"data row152 col1\" >5</td>\n",
       "      <td id=\"T_2c363_row152_col2\" class=\"data row152 col2\" >2º</td>\n",
       "      <td id=\"T_2c363_row152_col3\" class=\"data row152 col3\" >Mutilvera</td>\n",
       "      <td id=\"T_2c363_row152_col4\" class=\"data row152 col4\" >42.6% - 1.6</td>\n",
       "      <td id=\"T_2c363_row152_col5\" class=\"data row152 col5\" >33.2% - 1.39</td>\n",
       "      <td id=\"T_2c363_row152_col6\" class=\"data row152 col6\" >Cirbonero</td>\n",
       "      <td id=\"T_2c363_row152_col7\" class=\"data row152 col7\" >11º</td>\n",
       "      <td id=\"T_2c363_row152_col8\" class=\"data row152 col8\" >Segunda Federación.  Jornada 4</td>\n",
       "    </tr>\n",
       "    <tr>\n",
       "      <th id=\"T_2c363_level0_row153\" class=\"row_heading level0 row153\" >153</th>\n",
       "      <td id=\"T_2c363_row153_col0\" class=\"data row153 col0\" >2022-09-24 15:00</td>\n",
       "      <td id=\"T_2c363_row153_col1\" class=\"data row153 col1\" >1.6</td>\n",
       "      <td id=\"T_2c363_row153_col2\" class=\"data row153 col2\" >-</td>\n",
       "      <td id=\"T_2c363_row153_col3\" class=\"data row153 col3\" >Alavés B</td>\n",
       "      <td id=\"T_2c363_row153_col4\" class=\"data row153 col4\" >36.8% - 1.99</td>\n",
       "      <td id=\"T_2c363_row153_col5\" class=\"data row153 col5\" >42.9% - 2.15</td>\n",
       "      <td id=\"T_2c363_row153_col6\" class=\"data row153 col6\" >Arnedo</td>\n",
       "      <td id=\"T_2c363_row153_col7\" class=\"data row153 col7\" >-</td>\n",
       "      <td id=\"T_2c363_row153_col8\" class=\"data row153 col8\" >Segunda Federación.  Jornada 4</td>\n",
       "    </tr>\n",
       "    <tr>\n",
       "      <th id=\"T_2c363_level0_row154\" class=\"row_heading level0 row154\" >154</th>\n",
       "      <td id=\"T_2c363_row154_col0\" class=\"data row154 col0\" >2022-09-24 15:30</td>\n",
       "      <td id=\"T_2c363_row154_col1\" class=\"data row154 col1\" >6.2</td>\n",
       "      <td id=\"T_2c363_row154_col2\" class=\"data row154 col2\" >17º</td>\n",
       "      <td id=\"T_2c363_row154_col3\" class=\"data row154 col3\" >Real Avilés</td>\n",
       "      <td id=\"T_2c363_row154_col4\" class=\"data row154 col4\" >32.9% - 1.29</td>\n",
       "      <td id=\"T_2c363_row154_col5\" class=\"data row154 col5\" >41.9% - 1.49</td>\n",
       "      <td id=\"T_2c363_row154_col6\" class=\"data row154 col6\" >Gimnástica Torrelavega</td>\n",
       "      <td id=\"T_2c363_row154_col7\" class=\"data row154 col7\" >3º</td>\n",
       "      <td id=\"T_2c363_row154_col8\" class=\"data row154 col8\" >Segunda Federación.  Jornada 4</td>\n",
       "    </tr>\n",
       "    <tr>\n",
       "      <th id=\"T_2c363_level0_row155\" class=\"row_heading level0 row155\" >155</th>\n",
       "      <td id=\"T_2c363_row155_col0\" class=\"data row155 col0\" >2022-09-24 16:00</td>\n",
       "      <td id=\"T_2c363_row155_col1\" class=\"data row155 col1\" >13.3</td>\n",
       "      <td id=\"T_2c363_row155_col2\" class=\"data row155 col2\" >5º</td>\n",
       "      <td id=\"T_2c363_row155_col3\" class=\"data row155 col3\" >Gimnástica Segoviana</td>\n",
       "      <td id=\"T_2c363_row155_col4\" class=\"data row155 col4\" >46.6% - 1.23</td>\n",
       "      <td id=\"T_2c363_row155_col5\" class=\"data row155 col5\" >23.8% - 0.79</td>\n",
       "      <td id=\"T_2c363_row155_col6\" class=\"data row155 col6\" >CD Don Benito</td>\n",
       "      <td id=\"T_2c363_row155_col7\" class=\"data row155 col7\" >18º</td>\n",
       "      <td id=\"T_2c363_row155_col8\" class=\"data row155 col8\" >Segunda Federación.  Jornada 4</td>\n",
       "    </tr>\n",
       "    <tr>\n",
       "      <th id=\"T_2c363_level0_row156\" class=\"row_heading level0 row156\" >156</th>\n",
       "      <td id=\"T_2c363_row156_col0\" class=\"data row156 col0\" >2022-09-24 16:00</td>\n",
       "      <td id=\"T_2c363_row156_col1\" class=\"data row156 col1\" >10.8</td>\n",
       "      <td id=\"T_2c363_row156_col2\" class=\"data row156 col2\" >14º</td>\n",
       "      <td id=\"T_2c363_row156_col3\" class=\"data row156 col3\" >San Roque Lepe</td>\n",
       "      <td id=\"T_2c363_row156_col4\" class=\"data row156 col4\" >56.1% - 1.51</td>\n",
       "      <td id=\"T_2c363_row156_col5\" class=\"data row156 col5\" >17.8% - 0.72</td>\n",
       "      <td id=\"T_2c363_row156_col6\" class=\"data row156 col6\" >Xerez Deportivo</td>\n",
       "      <td id=\"T_2c363_row156_col7\" class=\"data row156 col7\" >16º</td>\n",
       "      <td id=\"T_2c363_row156_col8\" class=\"data row156 col8\" >Segunda Federación.  Jornada 4</td>\n",
       "    </tr>\n",
       "    <tr>\n",
       "      <th id=\"T_2c363_level0_row157\" class=\"row_heading level0 row157\" >157</th>\n",
       "      <td id=\"T_2c363_row157_col0\" class=\"data row157 col0\" >2022-09-24 16:00</td>\n",
       "      <td id=\"T_2c363_row157_col1\" class=\"data row157 col1\" >6.7</td>\n",
       "      <td id=\"T_2c363_row157_col2\" class=\"data row157 col2\" >1º</td>\n",
       "      <td id=\"T_2c363_row157_col3\" class=\"data row157 col3\" >Arenas de Getxo</td>\n",
       "      <td id=\"T_2c363_row157_col4\" class=\"data row157 col4\" >31.5% - 1.23</td>\n",
       "      <td id=\"T_2c363_row157_col5\" class=\"data row157 col5\" >43% - 1.48</td>\n",
       "      <td id=\"T_2c363_row157_col6\" class=\"data row157 col6\" >Real Sociedad C</td>\n",
       "      <td id=\"T_2c363_row157_col7\" class=\"data row157 col7\" >18º</td>\n",
       "      <td id=\"T_2c363_row157_col8\" class=\"data row157 col8\" >Segunda Federación.  Jornada 4</td>\n",
       "    </tr>\n",
       "    <tr>\n",
       "      <th id=\"T_2c363_level0_row158\" class=\"row_heading level0 row158\" >158</th>\n",
       "      <td id=\"T_2c363_row158_col0\" class=\"data row158 col0\" >2022-09-24 16:00</td>\n",
       "      <td id=\"T_2c363_row158_col1\" class=\"data row158 col1\" >5.7</td>\n",
       "      <td id=\"T_2c363_row158_col2\" class=\"data row158 col2\" >8º</td>\n",
       "      <td id=\"T_2c363_row158_col3\" class=\"data row158 col3\" >Arenteiro</td>\n",
       "      <td id=\"T_2c363_row158_col4\" class=\"data row158 col4\" >33.6% - 1.34</td>\n",
       "      <td id=\"T_2c363_row158_col5\" class=\"data row158 col5\" >41.6% - 1.52</td>\n",
       "      <td id=\"T_2c363_row158_col6\" class=\"data row158 col6\" >Real Oviedo Vetusta</td>\n",
       "      <td id=\"T_2c363_row158_col7\" class=\"data row158 col7\" >6º</td>\n",
       "      <td id=\"T_2c363_row158_col8\" class=\"data row158 col8\" >Segunda Federación.  Jornada 4</td>\n",
       "    </tr>\n",
       "    <tr>\n",
       "      <th id=\"T_2c363_level0_row159\" class=\"row_heading level0 row159\" >159</th>\n",
       "      <td id=\"T_2c363_row159_col0\" class=\"data row159 col0\" >2022-09-24 16:00</td>\n",
       "      <td id=\"T_2c363_row159_col1\" class=\"data row159 col1\" >13.6</td>\n",
       "      <td id=\"T_2c363_row159_col2\" class=\"data row159 col2\" >6º</td>\n",
       "      <td id=\"T_2c363_row159_col3\" class=\"data row159 col3\" >AD San Juan</td>\n",
       "      <td id=\"T_2c363_row159_col4\" class=\"data row159 col4\" >44.8% - 1.19</td>\n",
       "      <td id=\"T_2c363_row159_col5\" class=\"data row159 col5\" >25.1% - 0.81</td>\n",
       "      <td id=\"T_2c363_row159_col6\" class=\"data row159 col6\" >Brea</td>\n",
       "      <td id=\"T_2c363_row159_col7\" class=\"data row159 col7\" >16º</td>\n",
       "      <td id=\"T_2c363_row159_col8\" class=\"data row159 col8\" >Segunda Federación.  Jornada 4</td>\n",
       "    </tr>\n",
       "    <tr>\n",
       "      <th id=\"T_2c363_level0_row160\" class=\"row_heading level0 row160\" >160</th>\n",
       "      <td id=\"T_2c363_row160_col0\" class=\"data row160 col0\" >2022-09-24 16:30</td>\n",
       "      <td id=\"T_2c363_row160_col1\" class=\"data row160 col1\" >3.3</td>\n",
       "      <td id=\"T_2c363_row160_col2\" class=\"data row160 col2\" >10º</td>\n",
       "      <td id=\"T_2c363_row160_col3\" class=\"data row160 col3\" >Atlético B</td>\n",
       "      <td id=\"T_2c363_row160_col4\" class=\"data row160 col4\" >76.1% - 2.61</td>\n",
       "      <td id=\"T_2c363_row160_col5\" class=\"data row160 col5\" >9.1% - 0.8</td>\n",
       "      <td id=\"T_2c363_row160_col6\" class=\"data row160 col6\" >UD Montijo</td>\n",
       "      <td id=\"T_2c363_row160_col7\" class=\"data row160 col7\" >9º</td>\n",
       "      <td id=\"T_2c363_row160_col8\" class=\"data row160 col8\" >Segunda Federación.  Jornada 4</td>\n",
       "    </tr>\n",
       "    <tr>\n",
       "      <th id=\"T_2c363_level0_row161\" class=\"row_heading level0 row161\" >161</th>\n",
       "      <td id=\"T_2c363_row161_col0\" class=\"data row161 col0\" >2022-09-24 17:00</td>\n",
       "      <td id=\"T_2c363_row161_col1\" class=\"data row161 col1\" >11.9</td>\n",
       "      <td id=\"T_2c363_row161_col2\" class=\"data row161 col2\" >-</td>\n",
       "      <td id=\"T_2c363_row161_col3\" class=\"data row161 col3\" >CE Manresa</td>\n",
       "      <td id=\"T_2c363_row161_col4\" class=\"data row161 col4\" >28.6% - 0.93</td>\n",
       "      <td id=\"T_2c363_row161_col5\" class=\"data row161 col5\" >42% - 1.19</td>\n",
       "      <td id=\"T_2c363_row161_col6\" class=\"data row161 col6\" >At. Saguntino</td>\n",
       "      <td id=\"T_2c363_row161_col7\" class=\"data row161 col7\" >-</td>\n",
       "      <td id=\"T_2c363_row161_col8\" class=\"data row161 col8\" >Segunda Federación.  Jornada 4</td>\n",
       "    </tr>\n",
       "    <tr>\n",
       "      <th id=\"T_2c363_level0_row162\" class=\"row_heading level0 row162\" >162</th>\n",
       "      <td id=\"T_2c363_row162_col0\" class=\"data row162 col0\" >2022-09-24 18:00</td>\n",
       "      <td id=\"T_2c363_row162_col1\" class=\"data row162 col1\" >4.4</td>\n",
       "      <td id=\"T_2c363_row162_col2\" class=\"data row162 col2\" >5º</td>\n",
       "      <td id=\"T_2c363_row162_col3\" class=\"data row162 col3\" >Hércules</td>\n",
       "      <td id=\"T_2c363_row162_col4\" class=\"data row162 col4\" >24.7% - 1.23</td>\n",
       "      <td id=\"T_2c363_row162_col5\" class=\"data row162 col5\" >52.9% - 1.9</td>\n",
       "      <td id=\"T_2c363_row162_col6\" class=\"data row162 col6\" >Espanyol B</td>\n",
       "      <td id=\"T_2c363_row162_col7\" class=\"data row162 col7\" >2º</td>\n",
       "      <td id=\"T_2c363_row162_col8\" class=\"data row162 col8\" >Segunda Federación.  Jornada 4</td>\n",
       "    </tr>\n",
       "    <tr>\n",
       "      <th id=\"T_2c363_level0_row163\" class=\"row_heading level0 row163\" >163</th>\n",
       "      <td id=\"T_2c363_row163_col0\" class=\"data row163 col0\" >2022-09-24 21:30</td>\n",
       "      <td id=\"T_2c363_row163_col1\" class=\"data row163 col1\" >7.5</td>\n",
       "      <td id=\"T_2c363_row163_col2\" class=\"data row163 col2\" >-</td>\n",
       "      <td id=\"T_2c363_row163_col3\" class=\"data row163 col3\" >Cobán Imperial</td>\n",
       "      <td id=\"T_2c363_row163_col4\" class=\"data row163 col4\" >39.7% - 1.36</td>\n",
       "      <td id=\"T_2c363_row163_col5\" class=\"data row163 col5\" >33.9% - 1.23</td>\n",
       "      <td id=\"T_2c363_row163_col6\" class=\"data row163 col6\" >Municipal</td>\n",
       "      <td id=\"T_2c363_row163_col7\" class=\"data row163 col7\" >-</td>\n",
       "      <td id=\"T_2c363_row163_col8\" class=\"data row163 col8\" >Liga Guatemala - Apertura.  Jornada 12</td>\n",
       "    </tr>\n",
       "    <tr>\n",
       "      <th id=\"T_2c363_level0_row164\" class=\"row_heading level0 row164\" >164</th>\n",
       "      <td id=\"T_2c363_row164_col0\" class=\"data row164 col0\" >2022-09-24 15:00</td>\n",
       "      <td id=\"T_2c363_row164_col1\" class=\"data row164 col1\" >20.6</td>\n",
       "      <td id=\"T_2c363_row164_col2\" class=\"data row164 col2\" >-</td>\n",
       "      <td id=\"T_2c363_row164_col3\" class=\"data row164 col3\" >UA Tamaulipas</td>\n",
       "      <td id=\"T_2c363_row164_col4\" class=\"data row164 col4\" >35.5% - 0.85</td>\n",
       "      <td id=\"T_2c363_row164_col5\" class=\"data row164 col5\" >29% - 0.73</td>\n",
       "      <td id=\"T_2c363_row164_col6\" class=\"data row164 col6\" >Gavilanes FC</td>\n",
       "      <td id=\"T_2c363_row164_col7\" class=\"data row164 col7\" >-</td>\n",
       "      <td id=\"T_2c363_row164_col8\" class=\"data row164 col8\" >Liga Premier - Apertura. Serie A - Grupo 2,  Jornada 6</td>\n",
       "    </tr>\n",
       "    <tr>\n",
       "      <th id=\"T_2c363_level0_row165\" class=\"row_heading level0 row165\" >165</th>\n",
       "      <td id=\"T_2c363_row165_col0\" class=\"data row165 col0\" >2022-09-24 16:00</td>\n",
       "      <td id=\"T_2c363_row165_col1\" class=\"data row165 col1\" >5.2</td>\n",
       "      <td id=\"T_2c363_row165_col2\" class=\"data row165 col2\" >-</td>\n",
       "      <td id=\"T_2c363_row165_col3\" class=\"data row165 col3\" >Cañoneros Marina</td>\n",
       "      <td id=\"T_2c363_row165_col4\" class=\"data row165 col4\" >25.6% - 1.18</td>\n",
       "      <td id=\"T_2c363_row165_col5\" class=\"data row165 col5\" >51% - 1.77</td>\n",
       "      <td id=\"T_2c363_row165_col6\" class=\"data row165 col6\" >T'Ho Mayas</td>\n",
       "      <td id=\"T_2c363_row165_col7\" class=\"data row165 col7\" >-</td>\n",
       "      <td id=\"T_2c363_row165_col8\" class=\"data row165 col8\" >Liga Premier - Apertura. Serie B,  Jornada 6</td>\n",
       "    </tr>\n",
       "    <tr>\n",
       "      <th id=\"T_2c363_level0_row166\" class=\"row_heading level0 row166\" >166</th>\n",
       "      <td id=\"T_2c363_row166_col0\" class=\"data row166 col0\" >2022-09-24 16:00</td>\n",
       "      <td id=\"T_2c363_row166_col1\" class=\"data row166 col1\" >9.9</td>\n",
       "      <td id=\"T_2c363_row166_col2\" class=\"data row166 col2\" >-</td>\n",
       "      <td id=\"T_2c363_row166_col3\" class=\"data row166 col3\" >Leones Negros II</td>\n",
       "      <td id=\"T_2c363_row166_col4\" class=\"data row166 col4\" >42.9% - 1.29</td>\n",
       "      <td id=\"T_2c363_row166_col5\" class=\"data row166 col5\" >29.2% - 1.02</td>\n",
       "      <td id=\"T_2c363_row166_col6\" class=\"data row166 col6\" >Mexicali FC</td>\n",
       "      <td id=\"T_2c363_row166_col7\" class=\"data row166 col7\" >-</td>\n",
       "      <td id=\"T_2c363_row166_col8\" class=\"data row166 col8\" >Liga Premier - Apertura. Serie A - Grupo 1,  Jornada 6</td>\n",
       "    </tr>\n",
       "    <tr>\n",
       "      <th id=\"T_2c363_level0_row167\" class=\"row_heading level0 row167\" >167</th>\n",
       "      <td id=\"T_2c363_row167_col0\" class=\"data row167 col0\" >2022-09-24 17:00</td>\n",
       "      <td id=\"T_2c363_row167_col1\" class=\"data row167 col1\" >5.1</td>\n",
       "      <td id=\"T_2c363_row167_col2\" class=\"data row167 col2\" >-</td>\n",
       "      <td id=\"T_2c363_row167_col3\" class=\"data row167 col3\" >Cimarrones II</td>\n",
       "      <td id=\"T_2c363_row167_col4\" class=\"data row167 col4\" >45.2% - 1.65</td>\n",
       "      <td id=\"T_2c363_row167_col5\" class=\"data row167 col5\" >30.7% - 1.32</td>\n",
       "      <td id=\"T_2c363_row167_col6\" class=\"data row167 col6\" >Tritones Vallarta</td>\n",
       "      <td id=\"T_2c363_row167_col7\" class=\"data row167 col7\" >-</td>\n",
       "      <td id=\"T_2c363_row167_col8\" class=\"data row167 col8\" >Liga Premier - Apertura. Serie A - Grupo 1,  Jornada 6</td>\n",
       "    </tr>\n",
       "    <tr>\n",
       "      <th id=\"T_2c363_level0_row168\" class=\"row_heading level0 row168\" >168</th>\n",
       "      <td id=\"T_2c363_row168_col0\" class=\"data row168 col0\" >2022-09-24 17:00</td>\n",
       "      <td id=\"T_2c363_row168_col1\" class=\"data row168 col1\" >1.2</td>\n",
       "      <td id=\"T_2c363_row168_col2\" class=\"data row168 col2\" >-</td>\n",
       "      <td id=\"T_2c363_row168_col3\" class=\"data row168 col3\" >CD Chilpancingo</td>\n",
       "      <td id=\"T_2c363_row168_col4\" class=\"data row168 col4\" >59.4% - 2.73</td>\n",
       "      <td id=\"T_2c363_row168_col5\" class=\"data row168 col5\" >23% - 1.71</td>\n",
       "      <td id=\"T_2c363_row168_col6\" class=\"data row168 col6\" >Club Calor</td>\n",
       "      <td id=\"T_2c363_row168_col7\" class=\"data row168 col7\" >-</td>\n",
       "      <td id=\"T_2c363_row168_col8\" class=\"data row168 col8\" >Liga Premier - Apertura. Serie B,  Jornada 6</td>\n",
       "    </tr>\n",
       "    <tr>\n",
       "      <th id=\"T_2c363_level0_row169\" class=\"row_heading level0 row169\" >169</th>\n",
       "      <td id=\"T_2c363_row169_col0\" class=\"data row169 col0\" >2022-09-24 21:00</td>\n",
       "      <td id=\"T_2c363_row169_col1\" class=\"data row169 col1\" >3.9</td>\n",
       "      <td id=\"T_2c363_row169_col2\" class=\"data row169 col2\" >4º</td>\n",
       "      <td id=\"T_2c363_row169_col3\" class=\"data row169 col3\" >Halcones de Zapopan</td>\n",
       "      <td id=\"T_2c363_row169_col4\" class=\"data row169 col4\" >49.8% - 1.88</td>\n",
       "      <td id=\"T_2c363_row169_col5\" class=\"data row169 col5\" >27.8% - 1.36</td>\n",
       "      <td id=\"T_2c363_row169_col6\" class=\"data row169 col6\" >Coras de Nayarit</td>\n",
       "      <td id=\"T_2c363_row169_col7\" class=\"data row169 col7\" >8º</td>\n",
       "      <td id=\"T_2c363_row169_col8\" class=\"data row169 col8\" >Liga Premier - Apertura. Serie A - Grupo 1,  Jornada 6</td>\n",
       "    </tr>\n",
       "    <tr>\n",
       "      <th id=\"T_2c363_level0_row170\" class=\"row_heading level0 row170\" >170</th>\n",
       "      <td id=\"T_2c363_row170_col0\" class=\"data row170 col0\" >2022-09-24 21:00</td>\n",
       "      <td id=\"T_2c363_row170_col1\" class=\"data row170 col1\" >9.5</td>\n",
       "      <td id=\"T_2c363_row170_col2\" class=\"data row170 col2\" >-</td>\n",
       "      <td id=\"T_2c363_row170_col3\" class=\"data row170 col3\" >Huracanes Izcalli</td>\n",
       "      <td id=\"T_2c363_row170_col4\" class=\"data row170 col4\" >49.6% - 1.45</td>\n",
       "      <td id=\"T_2c363_row170_col5\" class=\"data row170 col5\" >23.7% - 0.91</td>\n",
       "      <td id=\"T_2c363_row170_col6\" class=\"data row170 col6\" >Ciervos</td>\n",
       "      <td id=\"T_2c363_row170_col7\" class=\"data row170 col7\" >-</td>\n",
       "      <td id=\"T_2c363_row170_col8\" class=\"data row170 col8\" >Liga Premier - Apertura. Serie B,  Jornada 6</td>\n",
       "    </tr>\n",
       "    <tr>\n",
       "      <th id=\"T_2c363_level0_row171\" class=\"row_heading level0 row171\" >171</th>\n",
       "      <td id=\"T_2c363_row171_col0\" class=\"data row171 col0\" >2022-09-24 21:00</td>\n",
       "      <td id=\"T_2c363_row171_col1\" class=\"data row171 col1\" >6.5</td>\n",
       "      <td id=\"T_2c363_row171_col2\" class=\"data row171 col2\" >-</td>\n",
       "      <td id=\"T_2c363_row171_col3\" class=\"data row171 col3\" >Sporting Canamy</td>\n",
       "      <td id=\"T_2c363_row171_col4\" class=\"data row171 col4\" >31.4% - 1.24</td>\n",
       "      <td id=\"T_2c363_row171_col5\" class=\"data row171 col5\" >43.3% - 1.5</td>\n",
       "      <td id=\"T_2c363_row171_col6\" class=\"data row171 col6\" >Yalmakan</td>\n",
       "      <td id=\"T_2c363_row171_col7\" class=\"data row171 col7\" >-</td>\n",
       "      <td id=\"T_2c363_row171_col8\" class=\"data row171 col8\" >Liga Premier - Apertura. Serie A - Grupo 3,  Jornada 6</td>\n",
       "    </tr>\n",
       "    <tr>\n",
       "      <th id=\"T_2c363_level0_row172\" class=\"row_heading level0 row172\" >172</th>\n",
       "      <td id=\"T_2c363_row172_col0\" class=\"data row172 col0\" >2022-09-24 21:00</td>\n",
       "      <td id=\"T_2c363_row172_col1\" class=\"data row172 col1\" >15.7</td>\n",
       "      <td id=\"T_2c363_row172_col2\" class=\"data row172 col2\" >10º</td>\n",
       "      <td id=\"T_2c363_row172_col3\" class=\"data row172 col3\" >Inter de Querétaro</td>\n",
       "      <td id=\"T_2c363_row172_col4\" class=\"data row172 col4\" >24.3% - 0.74</td>\n",
       "      <td id=\"T_2c363_row172_col5\" class=\"data row172 col5\" >44.2% - 1.11</td>\n",
       "      <td id=\"T_2c363_row172_col6\" class=\"data row172 col6\" >Colima</td>\n",
       "      <td id=\"T_2c363_row172_col7\" class=\"data row172 col7\" >8º</td>\n",
       "      <td id=\"T_2c363_row172_col8\" class=\"data row172 col8\" >Liga Premier - Apertura. Serie A - Grupo 2,  Jornada 6</td>\n",
       "    </tr>\n",
       "    <tr>\n",
       "      <th id=\"T_2c363_level0_row173\" class=\"row_heading level0 row173\" >173</th>\n",
       "      <td id=\"T_2c363_row173_col0\" class=\"data row173 col0\" >2022-09-24 21:00</td>\n",
       "      <td id=\"T_2c363_row173_col1\" class=\"data row173 col1\" >4.6</td>\n",
       "      <td id=\"T_2c363_row173_col2\" class=\"data row173 col2\" >-</td>\n",
       "      <td id=\"T_2c363_row173_col3\" class=\"data row173 col3\" >Deportivo Dongu</td>\n",
       "      <td id=\"T_2c363_row173_col4\" class=\"data row173 col4\" >31.9% - 1.4</td>\n",
       "      <td id=\"T_2c363_row173_col5\" class=\"data row173 col5\" >44.4% - 1.69</td>\n",
       "      <td id=\"T_2c363_row173_col6\" class=\"data row173 col6\" >Escorpiones FC</td>\n",
       "      <td id=\"T_2c363_row173_col7\" class=\"data row173 col7\" >-</td>\n",
       "      <td id=\"T_2c363_row173_col8\" class=\"data row173 col8\" >Liga Premier - Apertura. Serie A - Grupo 3,  Jornada 6</td>\n",
       "    </tr>\n",
       "    <tr>\n",
       "      <th id=\"T_2c363_level0_row174\" class=\"row_heading level0 row174\" >174</th>\n",
       "      <td id=\"T_2c363_row174_col0\" class=\"data row174 col0\" >2022-09-24 21:00</td>\n",
       "      <td id=\"T_2c363_row174_col1\" class=\"data row174 col1\" >4.5</td>\n",
       "      <td id=\"T_2c363_row174_col2\" class=\"data row174 col2\" >-</td>\n",
       "      <td id=\"T_2c363_row174_col3\" class=\"data row174 col3\" >Pioneros de Cancún</td>\n",
       "      <td id=\"T_2c363_row174_col4\" class=\"data row174 col4\" >20.8% - 1.11</td>\n",
       "      <td id=\"T_2c363_row174_col5\" class=\"data row174 col5\" >57.7% - 1.99</td>\n",
       "      <td id=\"T_2c363_row174_col6\" class=\"data row174 col6\" >Zitacuaro</td>\n",
       "      <td id=\"T_2c363_row174_col7\" class=\"data row174 col7\" >-</td>\n",
       "      <td id=\"T_2c363_row174_col8\" class=\"data row174 col8\" >Liga Premier - Apertura. Serie B,  Jornada 6</td>\n",
       "    </tr>\n",
       "    <tr>\n",
       "      <th id=\"T_2c363_level0_row175\" class=\"row_heading level0 row175\" >175</th>\n",
       "      <td id=\"T_2c363_row175_col0\" class=\"data row175 col0\" >2022-09-24 21:30</td>\n",
       "      <td id=\"T_2c363_row175_col1\" class=\"data row175 col1\" >2.2</td>\n",
       "      <td id=\"T_2c363_row175_col2\" class=\"data row175 col2\" >-</td>\n",
       "      <td id=\"T_2c363_row175_col3\" class=\"data row175 col3\" >Mazorqueros</td>\n",
       "      <td id=\"T_2c363_row175_col4\" class=\"data row175 col4\" >42.5% - 2</td>\n",
       "      <td id=\"T_2c363_row175_col5\" class=\"data row175 col5\" >36.3% - 1.84</td>\n",
       "      <td id=\"T_2c363_row175_col6\" class=\"data row175 col6\" >Alebrijes de Oaxaca II</td>\n",
       "      <td id=\"T_2c363_row175_col7\" class=\"data row175 col7\" >-</td>\n",
       "      <td id=\"T_2c363_row175_col8\" class=\"data row175 col8\" >Liga Premier - Apertura. Serie B,  Jornada 6</td>\n",
       "    </tr>\n",
       "    <tr>\n",
       "      <th id=\"T_2c363_level0_row176\" class=\"row_heading level0 row176\" >176</th>\n",
       "      <td id=\"T_2c363_row176_col0\" class=\"data row176 col0\" >2022-09-24 14:00</td>\n",
       "      <td id=\"T_2c363_row176_col1\" class=\"data row176 col1\" >4.2</td>\n",
       "      <td id=\"T_2c363_row176_col2\" class=\"data row176 col2\" >13º</td>\n",
       "      <td id=\"T_2c363_row176_col3\" class=\"data row176 col3\" >Maidstone United</td>\n",
       "      <td id=\"T_2c363_row176_col4\" class=\"data row176 col4\" >44.9% - 1.74</td>\n",
       "      <td id=\"T_2c363_row176_col5\" class=\"data row176 col5\" >31.8% - 1.44</td>\n",
       "      <td id=\"T_2c363_row176_col6\" class=\"data row176 col6\" >Chesterfield</td>\n",
       "      <td id=\"T_2c363_row176_col7\" class=\"data row176 col7\" >1º</td>\n",
       "      <td id=\"T_2c363_row176_col8\" class=\"data row176 col8\" >National League.  Jornada 11</td>\n",
       "    </tr>\n",
       "    <tr>\n",
       "      <th id=\"T_2c363_level0_row177\" class=\"row_heading level0 row177\" >177</th>\n",
       "      <td id=\"T_2c363_row177_col0\" class=\"data row177 col0\" >2022-09-24 14:00</td>\n",
       "      <td id=\"T_2c363_row177_col1\" class=\"data row177 col1\" >14.1</td>\n",
       "      <td id=\"T_2c363_row177_col2\" class=\"data row177 col2\" >7º</td>\n",
       "      <td id=\"T_2c363_row177_col3\" class=\"data row177 col3\" >Bromley</td>\n",
       "      <td id=\"T_2c363_row177_col4\" class=\"data row177 col4\" >52.7% - 1.31</td>\n",
       "      <td id=\"T_2c363_row177_col5\" class=\"data row177 col5\" >18.4% - 0.65</td>\n",
       "      <td id=\"T_2c363_row177_col6\" class=\"data row177 col6\" >Oldham Athletic AFC</td>\n",
       "      <td id=\"T_2c363_row177_col7\" class=\"data row177 col7\" >14º</td>\n",
       "      <td id=\"T_2c363_row177_col8\" class=\"data row177 col8\" >National League.  Jornada 11</td>\n",
       "    </tr>\n",
       "    <tr>\n",
       "      <th id=\"T_2c363_level0_row178\" class=\"row_heading level0 row178\" >178</th>\n",
       "      <td id=\"T_2c363_row178_col0\" class=\"data row178 col0\" >2022-09-24 14:00</td>\n",
       "      <td id=\"T_2c363_row178_col1\" class=\"data row178 col1\" >9.6</td>\n",
       "      <td id=\"T_2c363_row178_col2\" class=\"data row178 col2\" >12º</td>\n",
       "      <td id=\"T_2c363_row178_col3\" class=\"data row178 col3\" >Eastleigh</td>\n",
       "      <td id=\"T_2c363_row178_col4\" class=\"data row178 col4\" >42.6% - 1.3</td>\n",
       "      <td id=\"T_2c363_row178_col5\" class=\"data row178 col5\" >29.6% - 1.04</td>\n",
       "      <td id=\"T_2c363_row178_col6\" class=\"data row178 col6\" >FC Halifax Town</td>\n",
       "      <td id=\"T_2c363_row178_col7\" class=\"data row178 col7\" >20º</td>\n",
       "      <td id=\"T_2c363_row178_col8\" class=\"data row178 col8\" >National League.  Jornada 11</td>\n",
       "    </tr>\n",
       "    <tr>\n",
       "      <th id=\"T_2c363_level0_row179\" class=\"row_heading level0 row179\" >179</th>\n",
       "      <td id=\"T_2c363_row179_col0\" class=\"data row179 col0\" >2022-09-24 14:00</td>\n",
       "      <td id=\"T_2c363_row179_col1\" class=\"data row179 col1\" >5.8</td>\n",
       "      <td id=\"T_2c363_row179_col2\" class=\"data row179 col2\" >23º</td>\n",
       "      <td id=\"T_2c363_row179_col3\" class=\"data row179 col3\" >Altrincham</td>\n",
       "      <td id=\"T_2c363_row179_col4\" class=\"data row179 col4\" >43.8% - 1.56</td>\n",
       "      <td id=\"T_2c363_row179_col5\" class=\"data row179 col5\" >31.5% - 1.29</td>\n",
       "      <td id=\"T_2c363_row179_col6\" class=\"data row179 col6\" >Aldershot Town</td>\n",
       "      <td id=\"T_2c363_row179_col7\" class=\"data row179 col7\" >18º</td>\n",
       "      <td id=\"T_2c363_row179_col8\" class=\"data row179 col8\" >National League.  Jornada 11</td>\n",
       "    </tr>\n",
       "    <tr>\n",
       "      <th id=\"T_2c363_level0_row180\" class=\"row_heading level0 row180\" >180</th>\n",
       "      <td id=\"T_2c363_row180_col0\" class=\"data row180 col0\" >2022-09-24 14:00</td>\n",
       "      <td id=\"T_2c363_row180_col1\" class=\"data row180 col1\" >2.4</td>\n",
       "      <td id=\"T_2c363_row180_col2\" class=\"data row180 col2\" >15º</td>\n",
       "      <td id=\"T_2c363_row180_col3\" class=\"data row180 col3\" >Dagenham & Redbridge</td>\n",
       "      <td id=\"T_2c363_row180_col4\" class=\"data row180 col4\" >39.9% - 1.88</td>\n",
       "      <td id=\"T_2c363_row180_col5\" class=\"data row180 col5\" >38.6% - 1.84</td>\n",
       "      <td id=\"T_2c363_row180_col6\" class=\"data row180 col6\" >Barnet</td>\n",
       "      <td id=\"T_2c363_row180_col7\" class=\"data row180 col7\" >9º</td>\n",
       "      <td id=\"T_2c363_row180_col8\" class=\"data row180 col8\" >National League.  Jornada 11</td>\n",
       "    </tr>\n",
       "    <tr>\n",
       "      <th id=\"T_2c363_level0_row181\" class=\"row_heading level0 row181\" >181</th>\n",
       "      <td id=\"T_2c363_row181_col0\" class=\"data row181 col0\" >2022-09-24 14:00</td>\n",
       "      <td id=\"T_2c363_row181_col1\" class=\"data row181 col1\" >7</td>\n",
       "      <td id=\"T_2c363_row181_col2\" class=\"data row181 col2\" >16º</td>\n",
       "      <td id=\"T_2c363_row181_col3\" class=\"data row181 col3\" >Maidenhead United</td>\n",
       "      <td id=\"T_2c363_row181_col4\" class=\"data row181 col4\" >33.8% - 1.26</td>\n",
       "      <td id=\"T_2c363_row181_col5\" class=\"data row181 col5\" >40.3% - 1.4</td>\n",
       "      <td id=\"T_2c363_row181_col6\" class=\"data row181 col6\" >Gateshead</td>\n",
       "      <td id=\"T_2c363_row181_col7\" class=\"data row181 col7\" >22º</td>\n",
       "      <td id=\"T_2c363_row181_col8\" class=\"data row181 col8\" >National League.  Jornada 11</td>\n",
       "    </tr>\n",
       "    <tr>\n",
       "      <th id=\"T_2c363_level0_row182\" class=\"row_heading level0 row182\" >182</th>\n",
       "      <td id=\"T_2c363_row182_col0\" class=\"data row182 col0\" >2022-09-24 14:00</td>\n",
       "      <td id=\"T_2c363_row182_col1\" class=\"data row182 col1\" >4.4</td>\n",
       "      <td id=\"T_2c363_row182_col2\" class=\"data row182 col2\" >24º</td>\n",
       "      <td id=\"T_2c363_row182_col3\" class=\"data row182 col3\" >Scunthorpe United</td>\n",
       "      <td id=\"T_2c363_row182_col4\" class=\"data row182 col4\" >11.5% - 0.81</td>\n",
       "      <td id=\"T_2c363_row182_col5\" class=\"data row182 col5\" >71% - 2.31</td>\n",
       "      <td id=\"T_2c363_row182_col6\" class=\"data row182 col6\" >Dorking Wanderers</td>\n",
       "      <td id=\"T_2c363_row182_col7\" class=\"data row182 col7\" >11º</td>\n",
       "      <td id=\"T_2c363_row182_col8\" class=\"data row182 col8\" >National League.  Jornada 11</td>\n",
       "    </tr>\n",
       "    <tr>\n",
       "      <th id=\"T_2c363_level0_row183\" class=\"row_heading level0 row183\" >183</th>\n",
       "      <td id=\"T_2c363_row183_col0\" class=\"data row183 col0\" >2022-09-24 14:00</td>\n",
       "      <td id=\"T_2c363_row183_col1\" class=\"data row183 col1\" >6.3</td>\n",
       "      <td id=\"T_2c363_row183_col2\" class=\"data row183 col2\" >6º</td>\n",
       "      <td id=\"T_2c363_row183_col3\" class=\"data row183 col3\" >Wealdstone</td>\n",
       "      <td id=\"T_2c363_row183_col4\" class=\"data row183 col4\" >29.5% - 1.21</td>\n",
       "      <td id=\"T_2c363_row183_col5\" class=\"data row183 col5\" >45.6% - 1.56</td>\n",
       "      <td id=\"T_2c363_row183_col6\" class=\"data row183 col6\" >Southend United</td>\n",
       "      <td id=\"T_2c363_row183_col7\" class=\"data row183 col7\" >17º</td>\n",
       "      <td id=\"T_2c363_row183_col8\" class=\"data row183 col8\" >National League.  Jornada 11</td>\n",
       "    </tr>\n",
       "    <tr>\n",
       "      <th id=\"T_2c363_level0_row184\" class=\"row_heading level0 row184\" >184</th>\n",
       "      <td id=\"T_2c363_row184_col0\" class=\"data row184 col0\" >2022-09-24 14:00</td>\n",
       "      <td id=\"T_2c363_row184_col1\" class=\"data row184 col1\" >14.2</td>\n",
       "      <td id=\"T_2c363_row184_col2\" class=\"data row184 col2\" >21º</td>\n",
       "      <td id=\"T_2c363_row184_col3\" class=\"data row184 col3\" >Yeovil Town</td>\n",
       "      <td id=\"T_2c363_row184_col4\" class=\"data row184 col4\" >28.5% - 0.86</td>\n",
       "      <td id=\"T_2c363_row184_col5\" class=\"data row184 col5\" >40.5% - 1.09</td>\n",
       "      <td id=\"T_2c363_row184_col6\" class=\"data row184 col6\" >Boreham Wood</td>\n",
       "      <td id=\"T_2c363_row184_col7\" class=\"data row184 col7\" >3º</td>\n",
       "      <td id=\"T_2c363_row184_col8\" class=\"data row184 col8\" >National League.  Jornada 11</td>\n",
       "    </tr>\n",
       "    <tr>\n",
       "      <th id=\"T_2c363_level0_row185\" class=\"row_heading level0 row185\" >185</th>\n",
       "      <td id=\"T_2c363_row185_col0\" class=\"data row185 col0\" >2022-09-24 14:00</td>\n",
       "      <td id=\"T_2c363_row185_col1\" class=\"data row185 col1\" >3.2</td>\n",
       "      <td id=\"T_2c363_row185_col2\" class=\"data row185 col2\" >8º</td>\n",
       "      <td id=\"T_2c363_row185_col3\" class=\"data row185 col3\" >York City</td>\n",
       "      <td id=\"T_2c363_row185_col4\" class=\"data row185 col4\" >24.4% - 1.34</td>\n",
       "      <td id=\"T_2c363_row185_col5\" class=\"data row185 col5\" >54.6% - 2.09</td>\n",
       "      <td id=\"T_2c363_row185_col6\" class=\"data row185 col6\" >Notts County</td>\n",
       "      <td id=\"T_2c363_row185_col7\" class=\"data row185 col7\" >5º</td>\n",
       "      <td id=\"T_2c363_row185_col8\" class=\"data row185 col8\" >National League.  Jornada 11</td>\n",
       "    </tr>\n",
       "    <tr>\n",
       "      <th id=\"T_2c363_level0_row186\" class=\"row_heading level0 row186\" >186</th>\n",
       "      <td id=\"T_2c363_row186_col0\" class=\"data row186 col0\" >2022-09-24 14:00</td>\n",
       "      <td id=\"T_2c363_row186_col1\" class=\"data row186 col1\" >1.3</td>\n",
       "      <td id=\"T_2c363_row186_col2\" class=\"data row186 col2\" >2º</td>\n",
       "      <td id=\"T_2c363_row186_col3\" class=\"data row186 col3\" >Wrexham</td>\n",
       "      <td id=\"T_2c363_row186_col4\" class=\"data row186 col4\" >71.2% - 3</td>\n",
       "      <td id=\"T_2c363_row186_col5\" class=\"data row186 col5\" >14% - 1.33</td>\n",
       "      <td id=\"T_2c363_row186_col6\" class=\"data row186 col6\" >Torquay United</td>\n",
       "      <td id=\"T_2c363_row186_col7\" class=\"data row186 col7\" >19º</td>\n",
       "      <td id=\"T_2c363_row186_col8\" class=\"data row186 col8\" >National League.  Jornada 11</td>\n",
       "    </tr>\n",
       "    <tr>\n",
       "      <th id=\"T_2c363_level0_row187\" class=\"row_heading level0 row187\" >187</th>\n",
       "      <td id=\"T_2c363_row187_col0\" class=\"data row187 col0\" >2022-09-24 14:00</td>\n",
       "      <td id=\"T_2c363_row187_col1\" class=\"data row187 col1\" >3.2</td>\n",
       "      <td id=\"T_2c363_row187_col2\" class=\"data row187 col2\" >10º</td>\n",
       "      <td id=\"T_2c363_row187_col3\" class=\"data row187 col3\" >Woking</td>\n",
       "      <td id=\"T_2c363_row187_col4\" class=\"data row187 col4\" >29.8% - 1.49</td>\n",
       "      <td id=\"T_2c363_row187_col5\" class=\"data row187 col5\" >48.3% - 1.94</td>\n",
       "      <td id=\"T_2c363_row187_col6\" class=\"data row187 col6\" >Solihull Moors</td>\n",
       "      <td id=\"T_2c363_row187_col7\" class=\"data row187 col7\" >4º</td>\n",
       "      <td id=\"T_2c363_row187_col8\" class=\"data row187 col8\" >National League.  Jornada 11</td>\n",
       "    </tr>\n",
       "    <tr>\n",
       "      <th id=\"T_2c363_level0_row188\" class=\"row_heading level0 row188\" >188</th>\n",
       "      <td id=\"T_2c363_row188_col0\" class=\"data row188 col0\" >2022-09-24 05:00</td>\n",
       "      <td id=\"T_2c363_row188_col1\" class=\"data row188 col1\" >23.8</td>\n",
       "      <td id=\"T_2c363_row188_col2\" class=\"data row188 col2\" >20º</td>\n",
       "      <td id=\"T_2c363_row188_col3\" class=\"data row188 col3\" >ThespaKusatsu Gunma</td>\n",
       "      <td id=\"T_2c363_row188_col4\" class=\"data row188 col4\" >26.9% - 0.65</td>\n",
       "      <td id=\"T_2c363_row188_col5\" class=\"data row188 col5\" >35.5% - 0.79</td>\n",
       "      <td id=\"T_2c363_row188_col6\" class=\"data row188 col6\" >Renofa Yamaguchi</td>\n",
       "      <td id=\"T_2c363_row188_col7\" class=\"data row188 col7\" >14º</td>\n",
       "      <td id=\"T_2c363_row188_col8\" class=\"data row188 col8\" >Segunda Japonesa J2. Temporada Regular,  Jornada 38</td>\n",
       "    </tr>\n",
       "    <tr>\n",
       "      <th id=\"T_2c363_level0_row189\" class=\"row_heading level0 row189\" >189</th>\n",
       "      <td id=\"T_2c363_row189_col0\" class=\"data row189 col0\" >2022-09-24 07:00</td>\n",
       "      <td id=\"T_2c363_row189_col1\" class=\"data row189 col1\" >7.6</td>\n",
       "      <td id=\"T_2c363_row189_col2\" class=\"data row189 col2\" >13º</td>\n",
       "      <td id=\"T_2c363_row189_col3\" class=\"data row189 col3\" >Tokyo Verdy</td>\n",
       "      <td id=\"T_2c363_row189_col4\" class=\"data row189 col4\" >49.5% - 1.55</td>\n",
       "      <td id=\"T_2c363_row189_col5\" class=\"data row189 col5\" >25% - 1.02</td>\n",
       "      <td id=\"T_2c363_row189_col6\" class=\"data row189 col6\" >Montedio Yamagata</td>\n",
       "      <td id=\"T_2c363_row189_col7\" class=\"data row189 col7\" >7º</td>\n",
       "      <td id=\"T_2c363_row189_col8\" class=\"data row189 col8\" >Segunda Japonesa J2. Temporada Regular,  Jornada 38</td>\n",
       "    </tr>\n",
       "    <tr>\n",
       "      <th id=\"T_2c363_level0_row190\" class=\"row_heading level0 row190\" >190</th>\n",
       "      <td id=\"T_2c363_row190_col0\" class=\"data row190 col0\" >2022-09-24 10:00</td>\n",
       "      <td id=\"T_2c363_row190_col1\" class=\"data row190 col1\" >10.1</td>\n",
       "      <td id=\"T_2c363_row190_col2\" class=\"data row190 col2\" >8º</td>\n",
       "      <td id=\"T_2c363_row190_col3\" class=\"data row190 col3\" >V-Varen Nagasaki</td>\n",
       "      <td id=\"T_2c363_row190_col4\" class=\"data row190 col4\" >28% - 0.98</td>\n",
       "      <td id=\"T_2c363_row190_col5\" class=\"data row190 col5\" >44.1% - 1.31</td>\n",
       "      <td id=\"T_2c363_row190_col6\" class=\"data row190 col6\" >Yokohama</td>\n",
       "      <td id=\"T_2c363_row190_col7\" class=\"data row190 col7\" >2º</td>\n",
       "      <td id=\"T_2c363_row190_col8\" class=\"data row190 col8\" >Segunda Japonesa J2. Temporada Regular,  Jornada 38</td>\n",
       "    </tr>\n",
       "    <tr>\n",
       "      <th id=\"T_2c363_level0_row191\" class=\"row_heading level0 row191\" >191</th>\n",
       "      <td id=\"T_2c363_row191_col0\" class=\"data row191 col0\" >2022-09-24 10:00</td>\n",
       "      <td id=\"T_2c363_row191_col1\" class=\"data row191 col1\" >4.3</td>\n",
       "      <td id=\"T_2c363_row191_col2\" class=\"data row191 col2\" >6º</td>\n",
       "      <td id=\"T_2c363_row191_col3\" class=\"data row191 col3\" >Oita Trinita</td>\n",
       "      <td id=\"T_2c363_row191_col4\" class=\"data row191 col4\" >64.3% - 2.17</td>\n",
       "      <td id=\"T_2c363_row191_col5\" class=\"data row191 col5\" >16.1% - 0.99</td>\n",
       "      <td id=\"T_2c363_row191_col6\" class=\"data row191 col6\" >Ventforet Kofu</td>\n",
       "      <td id=\"T_2c363_row191_col7\" class=\"data row191 col7\" >17º</td>\n",
       "      <td id=\"T_2c363_row191_col8\" class=\"data row191 col8\" >Segunda Japonesa J2. Temporada Regular,  Jornada 38</td>\n",
       "    </tr>\n",
       "    <tr>\n",
       "      <th id=\"T_2c363_level0_row192\" class=\"row_heading level0 row192\" >192</th>\n",
       "      <td id=\"T_2c363_row192_col0\" class=\"data row192 col0\" >2022-09-24 10:00</td>\n",
       "      <td id=\"T_2c363_row192_col1\" class=\"data row192 col1\" >4.7</td>\n",
       "      <td id=\"T_2c363_row192_col2\" class=\"data row192 col2\" >-</td>\n",
       "      <td id=\"T_2c363_row192_col3\" class=\"data row192 col3\" >CD Pozoblanco</td>\n",
       "      <td id=\"T_2c363_row192_col4\" class=\"data row192 col4\" >35.5% - 1.47</td>\n",
       "      <td id=\"T_2c363_row192_col5\" class=\"data row192 col5\" >40.5% - 1.58</td>\n",
       "      <td id=\"T_2c363_row192_col6\" class=\"data row192 col6\" >Córdoba CF B</td>\n",
       "      <td id=\"T_2c363_row192_col7\" class=\"data row192 col7\" >-</td>\n",
       "      <td id=\"T_2c363_row192_col8\" class=\"data row192 col8\" >Tercera Federación. X - Andalucía y Ceuta,  Jornada 3</td>\n",
       "    </tr>\n",
       "    <tr>\n",
       "      <th id=\"T_2c363_level0_row193\" class=\"row_heading level0 row193\" >193</th>\n",
       "      <td id=\"T_2c363_row193_col0\" class=\"data row193 col0\" >2022-09-24 10:30</td>\n",
       "      <td id=\"T_2c363_row193_col1\" class=\"data row193 col1\" >24.4</td>\n",
       "      <td id=\"T_2c363_row193_col2\" class=\"data row193 col2\" >-</td>\n",
       "      <td id=\"T_2c363_row193_col3\" class=\"data row193 col3\" >Atletico Porcuna</td>\n",
       "      <td id=\"T_2c363_row193_col4\" class=\"data row193 col4\" >58.6% - 1.14</td>\n",
       "      <td id=\"T_2c363_row193_col5\" class=\"data row193 col5\" >8.8% - 0.27</td>\n",
       "      <td id=\"T_2c363_row193_col6\" class=\"data row193 col6\" >CD Huracán Melilla</td>\n",
       "      <td id=\"T_2c363_row193_col7\" class=\"data row193 col7\" >-</td>\n",
       "      <td id=\"T_2c363_row193_col8\" class=\"data row193 col8\" >Tercera Federación. IX - Andalucía y Melilla,  Jornada 3</td>\n",
       "    </tr>\n",
       "    <tr>\n",
       "      <th id=\"T_2c363_level0_row194\" class=\"row_heading level0 row194\" >194</th>\n",
       "      <td id=\"T_2c363_row194_col0\" class=\"data row194 col0\" >2022-09-24 11:00</td>\n",
       "      <td id=\"T_2c363_row194_col1\" class=\"data row194 col1\" >18.9</td>\n",
       "      <td id=\"T_2c363_row194_col2\" class=\"data row194 col2\" >5º</td>\n",
       "      <td id=\"T_2c363_row194_col3\" class=\"data row194 col3\" >Panadería Pulido</td>\n",
       "      <td id=\"T_2c363_row194_col4\" class=\"data row194 col4\" >33% - 0.84</td>\n",
       "      <td id=\"T_2c363_row194_col5\" class=\"data row194 col5\" >32.5% - 0.83</td>\n",
       "      <td id=\"T_2c363_row194_col6\" class=\"data row194 col6\" >CD Santa Úrsula</td>\n",
       "      <td id=\"T_2c363_row194_col7\" class=\"data row194 col7\" >6º</td>\n",
       "      <td id=\"T_2c363_row194_col8\" class=\"data row194 col8\" >Tercera Federación. XII - Canarias,  Jornada 3</td>\n",
       "    </tr>\n",
       "    <tr>\n",
       "      <th id=\"T_2c363_level0_row195\" class=\"row_heading level0 row195\" >195</th>\n",
       "      <td id=\"T_2c363_row195_col0\" class=\"data row195 col0\" >2022-09-24 11:30</td>\n",
       "      <td id=\"T_2c363_row195_col1\" class=\"data row195 col1\" >16.2</td>\n",
       "      <td id=\"T_2c363_row195_col2\" class=\"data row195 col2\" >-</td>\n",
       "      <td id=\"T_2c363_row195_col3\" class=\"data row195 col3\" >Tamaraceite</td>\n",
       "      <td id=\"T_2c363_row195_col4\" class=\"data row195 col4\" >26.8% - 0.78</td>\n",
       "      <td id=\"T_2c363_row195_col5\" class=\"data row195 col5\" >40.9% - 1.04</td>\n",
       "      <td id=\"T_2c363_row195_col6\" class=\"data row195 col6\" >Gran Tarajal</td>\n",
       "      <td id=\"T_2c363_row195_col7\" class=\"data row195 col7\" >-</td>\n",
       "      <td id=\"T_2c363_row195_col8\" class=\"data row195 col8\" >Tercera Federación. XII - Canarias,  Jornada 3</td>\n",
       "    </tr>\n",
       "    <tr>\n",
       "      <th id=\"T_2c363_level0_row196\" class=\"row_heading level0 row196\" >196</th>\n",
       "      <td id=\"T_2c363_row196_col0\" class=\"data row196 col0\" >2022-09-24 14:00</td>\n",
       "      <td id=\"T_2c363_row196_col1\" class=\"data row196 col1\" >4.5</td>\n",
       "      <td id=\"T_2c363_row196_col2\" class=\"data row196 col2\" >-</td>\n",
       "      <td id=\"T_2c363_row196_col3\" class=\"data row196 col3\" >Lagunak</td>\n",
       "      <td id=\"T_2c363_row196_col4\" class=\"data row196 col4\" >59.7% - 2.04</td>\n",
       "      <td id=\"T_2c363_row196_col5\" class=\"data row196 col5\" >19.3% - 1.07</td>\n",
       "      <td id=\"T_2c363_row196_col6\" class=\"data row196 col6\" >Avance Ezcabarte</td>\n",
       "      <td id=\"T_2c363_row196_col7\" class=\"data row196 col7\" >-</td>\n",
       "      <td id=\"T_2c363_row196_col8\" class=\"data row196 col8\" >Tercera Federación. XV - Navarra,  Jornada 3</td>\n",
       "    </tr>\n",
       "    <tr>\n",
       "      <th id=\"T_2c363_level0_row197\" class=\"row_heading level0 row197\" >197</th>\n",
       "      <td id=\"T_2c363_row197_col0\" class=\"data row197 col0\" >2022-09-24 14:30</td>\n",
       "      <td id=\"T_2c363_row197_col1\" class=\"data row197 col1\" >17.3</td>\n",
       "      <td id=\"T_2c363_row197_col2\" class=\"data row197 col2\" >11º</td>\n",
       "      <td id=\"T_2c363_row197_col3\" class=\"data row197 col3\" >CD Cortes</td>\n",
       "      <td id=\"T_2c363_row197_col4\" class=\"data row197 col4\" >47.6% - 1.12</td>\n",
       "      <td id=\"T_2c363_row197_col5\" class=\"data row197 col5\" >20.5% - 0.63</td>\n",
       "      <td id=\"T_2c363_row197_col6\" class=\"data row197 col6\" >CF Ardoi</td>\n",
       "      <td id=\"T_2c363_row197_col7\" class=\"data row197 col7\" >7º</td>\n",
       "      <td id=\"T_2c363_row197_col8\" class=\"data row197 col8\" >Tercera Federación. XV - Navarra,  Jornada 3</td>\n",
       "    </tr>\n",
       "    <tr>\n",
       "      <th id=\"T_2c363_level0_row198\" class=\"row_heading level0 row198\" >198</th>\n",
       "      <td id=\"T_2c363_row198_col0\" class=\"data row198 col0\" >2022-09-24 14:30</td>\n",
       "      <td id=\"T_2c363_row198_col1\" class=\"data row198 col1\" >16.2</td>\n",
       "      <td id=\"T_2c363_row198_col2\" class=\"data row198 col2\" >-</td>\n",
       "      <td id=\"T_2c363_row198_col3\" class=\"data row198 col3\" >Pasaia KE</td>\n",
       "      <td id=\"T_2c363_row198_col4\" class=\"data row198 col4\" >25.8% - 0.76</td>\n",
       "      <td id=\"T_2c363_row198_col5\" class=\"data row198 col5\" >42% - 1.06</td>\n",
       "      <td id=\"T_2c363_row198_col6\" class=\"data row198 col6\" >SCD Durango</td>\n",
       "      <td id=\"T_2c363_row198_col7\" class=\"data row198 col7\" >-</td>\n",
       "      <td id=\"T_2c363_row198_col8\" class=\"data row198 col8\" >Tercera Federación. IV - País Vasco,  Jornada 3</td>\n",
       "    </tr>\n",
       "    <tr>\n",
       "      <th id=\"T_2c363_level0_row199\" class=\"row_heading level0 row199\" >199</th>\n",
       "      <td id=\"T_2c363_row199_col0\" class=\"data row199 col0\" >2022-09-24 14:45</td>\n",
       "      <td id=\"T_2c363_row199_col1\" class=\"data row199 col1\" >9.5</td>\n",
       "      <td id=\"T_2c363_row199_col2\" class=\"data row199 col2\" >-</td>\n",
       "      <td id=\"T_2c363_row199_col3\" class=\"data row199 col3\" >Mercadal</td>\n",
       "      <td id=\"T_2c363_row199_col4\" class=\"data row199 col4\" >57.2% - 1.59</td>\n",
       "      <td id=\"T_2c363_row199_col5\" class=\"data row199 col5\" >17.8% - 0.76</td>\n",
       "      <td id=\"T_2c363_row199_col6\" class=\"data row199 col6\" >UD Collerense</td>\n",
       "      <td id=\"T_2c363_row199_col7\" class=\"data row199 col7\" >-</td>\n",
       "      <td id=\"T_2c363_row199_col8\" class=\"data row199 col8\" >Tercera Federación. XI - Islas Baleares,  Jornada 3</td>\n",
       "    </tr>\n",
       "    <tr>\n",
       "      <th id=\"T_2c363_level0_row200\" class=\"row_heading level0 row200\" >200</th>\n",
       "      <td id=\"T_2c363_row200_col0\" class=\"data row200 col0\" >2022-09-24 15:00</td>\n",
       "      <td id=\"T_2c363_row200_col1\" class=\"data row200 col1\" >6.5</td>\n",
       "      <td id=\"T_2c363_row200_col2\" class=\"data row200 col2\" >-</td>\n",
       "      <td id=\"T_2c363_row200_col3\" class=\"data row200 col3\" >Andratx</td>\n",
       "      <td id=\"T_2c363_row200_col4\" class=\"data row200 col4\" >54.3% - 1.73</td>\n",
       "      <td id=\"T_2c363_row200_col5\" class=\"data row200 col5\" >21.9% - 1.01</td>\n",
       "      <td id=\"T_2c363_row200_col6\" class=\"data row200 col6\" >PE Sant Jordi</td>\n",
       "      <td id=\"T_2c363_row200_col7\" class=\"data row200 col7\" >-</td>\n",
       "      <td id=\"T_2c363_row200_col8\" class=\"data row200 col8\" >Tercera Federación. XI - Islas Baleares,  Jornada 3</td>\n",
       "    </tr>\n",
       "    <tr>\n",
       "      <th id=\"T_2c363_level0_row201\" class=\"row_heading level0 row201\" >201</th>\n",
       "      <td id=\"T_2c363_row201_col0\" class=\"data row201 col0\" >2022-09-24 15:00</td>\n",
       "      <td id=\"T_2c363_row201_col1\" class=\"data row201 col1\" >8.2</td>\n",
       "      <td id=\"T_2c363_row201_col2\" class=\"data row201 col2\" >-</td>\n",
       "      <td id=\"T_2c363_row201_col3\" class=\"data row201 col3\" >CD Lagun Onak</td>\n",
       "      <td id=\"T_2c363_row201_col4\" class=\"data row201 col4\" >42.8% - 1.38</td>\n",
       "      <td id=\"T_2c363_row201_col5\" class=\"data row201 col5\" >30.5% - 1.12</td>\n",
       "      <td id=\"T_2c363_row201_col6\" class=\"data row201 col6\" >Barakaldo</td>\n",
       "      <td id=\"T_2c363_row201_col7\" class=\"data row201 col7\" >-</td>\n",
       "      <td id=\"T_2c363_row201_col8\" class=\"data row201 col8\" >Tercera Federación. IV - País Vasco,  Jornada 3</td>\n",
       "    </tr>\n",
       "    <tr>\n",
       "      <th id=\"T_2c363_level0_row202\" class=\"row_heading level0 row202\" >202</th>\n",
       "      <td id=\"T_2c363_row202_col0\" class=\"data row202 col0\" >2022-09-24 15:00</td>\n",
       "      <td id=\"T_2c363_row202_col1\" class=\"data row202 col1\" >19.1</td>\n",
       "      <td id=\"T_2c363_row202_col2\" class=\"data row202 col2\" >-</td>\n",
       "      <td id=\"T_2c363_row202_col3\" class=\"data row202 col3\" >CD Naval</td>\n",
       "      <td id=\"T_2c363_row202_col4\" class=\"data row202 col4\" >46.2% - 1.06</td>\n",
       "      <td id=\"T_2c363_row202_col5\" class=\"data row202 col5\" >20.6% - 0.6</td>\n",
       "      <td id=\"T_2c363_row202_col6\" class=\"data row202 col6\" >SD Textil Escudo</td>\n",
       "      <td id=\"T_2c363_row202_col7\" class=\"data row202 col7\" >-</td>\n",
       "      <td id=\"T_2c363_row202_col8\" class=\"data row202 col8\" >Tercera Federación. III - Cantabria,  Jornada 3</td>\n",
       "    </tr>\n",
       "    <tr>\n",
       "      <th id=\"T_2c363_level0_row203\" class=\"row_heading level0 row203\" >203</th>\n",
       "      <td id=\"T_2c363_row203_col0\" class=\"data row203 col0\" >2022-09-24 15:00</td>\n",
       "      <td id=\"T_2c363_row203_col1\" class=\"data row203 col1\" >9.3</td>\n",
       "      <td id=\"T_2c363_row203_col2\" class=\"data row203 col2\" >-</td>\n",
       "      <td id=\"T_2c363_row203_col3\" class=\"data row203 col3\" >CD Basconia</td>\n",
       "      <td id=\"T_2c363_row203_col4\" class=\"data row203 col4\" >52.2% - 1.51</td>\n",
       "      <td id=\"T_2c363_row203_col5\" class=\"data row203 col5\" >21.7% - 0.87</td>\n",
       "      <td id=\"T_2c363_row203_col6\" class=\"data row203 col6\" >Deusto</td>\n",
       "      <td id=\"T_2c363_row203_col7\" class=\"data row203 col7\" >-</td>\n",
       "      <td id=\"T_2c363_row203_col8\" class=\"data row203 col8\" >Tercera Federación. IV - País Vasco,  Jornada 3</td>\n",
       "    </tr>\n",
       "    <tr>\n",
       "      <th id=\"T_2c363_level0_row204\" class=\"row_heading level0 row204\" >204</th>\n",
       "      <td id=\"T_2c363_row204_col0\" class=\"data row204 col0\" >2022-09-24 15:00</td>\n",
       "      <td id=\"T_2c363_row204_col1\" class=\"data row204 col1\" >5.1</td>\n",
       "      <td id=\"T_2c363_row204_col2\" class=\"data row204 col2\" >-</td>\n",
       "      <td id=\"T_2c363_row204_col3\" class=\"data row204 col3\" >San Ignacio</td>\n",
       "      <td id=\"T_2c363_row204_col4\" class=\"data row204 col4\" >58.2% - 1.93</td>\n",
       "      <td id=\"T_2c363_row204_col5\" class=\"data row204 col5\" >19.9% - 1.04</td>\n",
       "      <td id=\"T_2c363_row204_col6\" class=\"data row204 col6\" >CD Aurrera Vitoria</td>\n",
       "      <td id=\"T_2c363_row204_col7\" class=\"data row204 col7\" >-</td>\n",
       "      <td id=\"T_2c363_row204_col8\" class=\"data row204 col8\" >Tercera Federación. IV - País Vasco,  Jornada 3</td>\n",
       "    </tr>\n",
       "    <tr>\n",
       "      <th id=\"T_2c363_level0_row205\" class=\"row_heading level0 row205\" >205</th>\n",
       "      <td id=\"T_2c363_row205_col0\" class=\"data row205 col0\" >2022-09-24 15:00</td>\n",
       "      <td id=\"T_2c363_row205_col1\" class=\"data row205 col1\" >8.7</td>\n",
       "      <td id=\"T_2c363_row205_col2\" class=\"data row205 col2\" >-</td>\n",
       "      <td id=\"T_2c363_row205_col3\" class=\"data row205 col3\" >Llosetense</td>\n",
       "      <td id=\"T_2c363_row205_col4\" class=\"data row205 col4\" >46.4% - 1.42</td>\n",
       "      <td id=\"T_2c363_row205_col5\" class=\"data row205 col5\" >26.9% - 1.02</td>\n",
       "      <td id=\"T_2c363_row205_col6\" class=\"data row205 col6\" >Penya Independent</td>\n",
       "      <td id=\"T_2c363_row205_col7\" class=\"data row205 col7\" >-</td>\n",
       "      <td id=\"T_2c363_row205_col8\" class=\"data row205 col8\" >Tercera Federación. XI - Islas Baleares,  Jornada 3</td>\n",
       "    </tr>\n",
       "    <tr>\n",
       "      <th id=\"T_2c363_level0_row206\" class=\"row_heading level0 row206\" >206</th>\n",
       "      <td id=\"T_2c363_row206_col0\" class=\"data row206 col0\" >2022-09-24 15:30</td>\n",
       "      <td id=\"T_2c363_row206_col1\" class=\"data row206 col1\" >4.9</td>\n",
       "      <td id=\"T_2c363_row206_col2\" class=\"data row206 col2\" >-</td>\n",
       "      <td id=\"T_2c363_row206_col3\" class=\"data row206 col3\" >Constància</td>\n",
       "      <td id=\"T_2c363_row206_col4\" class=\"data row206 col4\" >32.5% - 1.38</td>\n",
       "      <td id=\"T_2c363_row206_col5\" class=\"data row206 col5\" >43.5% - 1.63</td>\n",
       "      <td id=\"T_2c363_row206_col6\" class=\"data row206 col6\" >Manacor</td>\n",
       "      <td id=\"T_2c363_row206_col7\" class=\"data row206 col7\" >-</td>\n",
       "      <td id=\"T_2c363_row206_col8\" class=\"data row206 col8\" >Tercera Federación. XI - Islas Baleares,  Jornada 3</td>\n",
       "    </tr>\n",
       "    <tr>\n",
       "      <th id=\"T_2c363_level0_row207\" class=\"row_heading level0 row207\" >207</th>\n",
       "      <td id=\"T_2c363_row207_col0\" class=\"data row207 col0\" >2022-09-24 15:30</td>\n",
       "      <td id=\"T_2c363_row207_col1\" class=\"data row207 col1\" >10.3</td>\n",
       "      <td id=\"T_2c363_row207_col2\" class=\"data row207 col2\" >-</td>\n",
       "      <td id=\"T_2c363_row207_col3\" class=\"data row207 col3\" >Aurrera KE</td>\n",
       "      <td id=\"T_2c363_row207_col4\" class=\"data row207 col4\" >36.5% - 1.15</td>\n",
       "      <td id=\"T_2c363_row207_col5\" class=\"data row207 col5\" >35% - 1.12</td>\n",
       "      <td id=\"T_2c363_row207_col6\" class=\"data row207 col6\" >Urduliz FT</td>\n",
       "      <td id=\"T_2c363_row207_col7\" class=\"data row207 col7\" >-</td>\n",
       "      <td id=\"T_2c363_row207_col8\" class=\"data row207 col8\" >Tercera Federación. IV - País Vasco,  Jornada 3</td>\n",
       "    </tr>\n",
       "    <tr>\n",
       "      <th id=\"T_2c363_level0_row208\" class=\"row_heading level0 row208\" >208</th>\n",
       "      <td id=\"T_2c363_row208_col0\" class=\"data row208 col0\" >2022-09-24 16:30</td>\n",
       "      <td id=\"T_2c363_row208_col1\" class=\"data row208 col1\" >4.7</td>\n",
       "      <td id=\"T_2c363_row208_col2\" class=\"data row208 col2\" >-</td>\n",
       "      <td id=\"T_2c363_row208_col3\" class=\"data row208 col3\" >Union Sur Yaiza</td>\n",
       "      <td id=\"T_2c363_row208_col4\" class=\"data row208 col4\" >59.8% - 2.02</td>\n",
       "      <td id=\"T_2c363_row208_col5\" class=\"data row208 col5\" >19.1% - 1.05</td>\n",
       "      <td id=\"T_2c363_row208_col6\" class=\"data row208 col6\" >Las Palmas At.</td>\n",
       "      <td id=\"T_2c363_row208_col7\" class=\"data row208 col7\" >-</td>\n",
       "      <td id=\"T_2c363_row208_col8\" class=\"data row208 col8\" >Tercera Federación. XII - Canarias,  Jornada 3</td>\n",
       "    </tr>\n",
       "    <tr>\n",
       "      <th id=\"T_2c363_level0_row209\" class=\"row_heading level0 row209\" >209</th>\n",
       "      <td id=\"T_2c363_row209_col0\" class=\"data row209 col0\" >2022-09-24 16:30</td>\n",
       "      <td id=\"T_2c363_row209_col1\" class=\"data row209 col1\" >18.4</td>\n",
       "      <td id=\"T_2c363_row209_col2\" class=\"data row209 col2\" >-</td>\n",
       "      <td id=\"T_2c363_row209_col3\" class=\"data row209 col3\" >Maracena</td>\n",
       "      <td id=\"T_2c363_row209_col4\" class=\"data row209 col4\" >9.5% - 0.35</td>\n",
       "      <td id=\"T_2c363_row209_col5\" class=\"data row209 col5\" >62.4% - 1.34</td>\n",
       "      <td id=\"T_2c363_row209_col6\" class=\"data row209 col6\" >CD Huétor Tájar</td>\n",
       "      <td id=\"T_2c363_row209_col7\" class=\"data row209 col7\" >-</td>\n",
       "      <td id=\"T_2c363_row209_col8\" class=\"data row209 col8\" >Tercera Federación. IX - Andalucía y Melilla,  Jornada 3</td>\n",
       "    </tr>\n",
       "    <tr>\n",
       "      <th id=\"T_2c363_level0_row210\" class=\"row_heading level0 row210\" >210</th>\n",
       "      <td id=\"T_2c363_row210_col0\" class=\"data row210 col0\" >2022-09-24 13:00</td>\n",
       "      <td id=\"T_2c363_row210_col1\" class=\"data row210 col1\" >5.8</td>\n",
       "      <td id=\"T_2c363_row210_col2\" class=\"data row210 col2\" >-</td>\n",
       "      <td id=\"T_2c363_row210_col3\" class=\"data row210 col3\" >OFK Branč</td>\n",
       "      <td id=\"T_2c363_row210_col4\" class=\"data row210 col4\" >13.1% - 0.78</td>\n",
       "      <td id=\"T_2c363_row210_col5\" class=\"data row210 col5\" >67.3% - 2.07</td>\n",
       "      <td id=\"T_2c363_row210_col6\" class=\"data row210 col6\" >Slovan Bratislava</td>\n",
       "      <td id=\"T_2c363_row210_col7\" class=\"data row210 col7\" >-</td>\n",
       "      <td id=\"T_2c363_row210_col8\" class=\"data row210 col8\" >Copa Eslovaquia.  Fase Previa</td>\n",
       "    </tr>\n",
       "    <tr>\n",
       "      <th id=\"T_2c363_level0_row211\" class=\"row_heading level0 row211\" >211</th>\n",
       "      <td id=\"T_2c363_row211_col0\" class=\"data row211 col0\" >2022-09-24 21:30</td>\n",
       "      <td id=\"T_2c363_row211_col1\" class=\"data row211 col1\" >4.2</td>\n",
       "      <td id=\"T_2c363_row211_col2\" class=\"data row211 col2\" >6º</td>\n",
       "      <td id=\"T_2c363_row211_col3\" class=\"data row211 col3\" >Universidad Católica</td>\n",
       "      <td id=\"T_2c363_row211_col4\" class=\"data row211 col4\" >63.2% - 2.15</td>\n",
       "      <td id=\"T_2c363_row211_col5\" class=\"data row211 col5\" >17% - 1.02</td>\n",
       "      <td id=\"T_2c363_row211_col6\" class=\"data row211 col6\" >9 de Octubre</td>\n",
       "      <td id=\"T_2c363_row211_col7\" class=\"data row211 col7\" >15º</td>\n",
       "      <td id=\"T_2c363_row211_col8\" class=\"data row211 col8\" >Serie A - Ecuador. Fase 2,  Jornada 7</td>\n",
       "    </tr>\n",
       "    <tr>\n",
       "      <th id=\"T_2c363_level0_row212\" class=\"row_heading level0 row212\" >212</th>\n",
       "      <td id=\"T_2c363_row212_col0\" class=\"data row212 col0\" >2022-09-24 12:30</td>\n",
       "      <td id=\"T_2c363_row212_col1\" class=\"data row212 col1\" >5.8</td>\n",
       "      <td id=\"T_2c363_row212_col2\" class=\"data row212 col2\" >14º</td>\n",
       "      <td id=\"T_2c363_row212_col3\" class=\"data row212 col3\" >Scheveningen</td>\n",
       "      <td id=\"T_2c363_row212_col4\" class=\"data row212 col4\" >19.3% - 0.97</td>\n",
       "      <td id=\"T_2c363_row212_col5\" class=\"data row212 col5\" >58.3% - 1.87</td>\n",
       "      <td id=\"T_2c363_row212_col6\" class=\"data row212 col6\" >Spakenburg</td>\n",
       "      <td id=\"T_2c363_row212_col7\" class=\"data row212 col7\" >6º</td>\n",
       "      <td id=\"T_2c363_row212_col8\" class=\"data row212 col8\" >Tweede Divisie.  Jornada 8</td>\n",
       "    </tr>\n",
       "    <tr>\n",
       "      <th id=\"T_2c363_level0_row213\" class=\"row_heading level0 row213\" >213</th>\n",
       "      <td id=\"T_2c363_row213_col0\" class=\"data row213 col0\" >2022-09-24 12:30</td>\n",
       "      <td id=\"T_2c363_row213_col1\" class=\"data row213 col1\" >3.9</td>\n",
       "      <td id=\"T_2c363_row213_col2\" class=\"data row213 col2\" >13º</td>\n",
       "      <td id=\"T_2c363_row213_col3\" class=\"data row213 col3\" >Excelsior Maassluis</td>\n",
       "      <td id=\"T_2c363_row213_col4\" class=\"data row213 col4\" >39.8% - 1.66</td>\n",
       "      <td id=\"T_2c363_row213_col5\" class=\"data row213 col5\" >37% - 1.59</td>\n",
       "      <td id=\"T_2c363_row213_col6\" class=\"data row213 col6\" >Rijnsburgse Boys</td>\n",
       "      <td id=\"T_2c363_row213_col7\" class=\"data row213 col7\" >11º</td>\n",
       "      <td id=\"T_2c363_row213_col8\" class=\"data row213 col8\" >Tweede Divisie.  Jornada 8</td>\n",
       "    </tr>\n",
       "    <tr>\n",
       "      <th id=\"T_2c363_level0_row214\" class=\"row_heading level0 row214\" >214</th>\n",
       "      <td id=\"T_2c363_row214_col0\" class=\"data row214 col0\" >2022-09-24 12:30</td>\n",
       "      <td id=\"T_2c363_row214_col1\" class=\"data row214 col1\" >3.5</td>\n",
       "      <td id=\"T_2c363_row214_col2\" class=\"data row214 col2\" >-</td>\n",
       "      <td id=\"T_2c363_row214_col3\" class=\"data row214 col3\" >VV Noordwijk</td>\n",
       "      <td id=\"T_2c363_row214_col4\" class=\"data row214 col4\" >46.9% - 1.87</td>\n",
       "      <td id=\"T_2c363_row214_col5\" class=\"data row214 col5\" >30.7% - 1.48</td>\n",
       "      <td id=\"T_2c363_row214_col6\" class=\"data row214 col6\" >Jong Volendam</td>\n",
       "      <td id=\"T_2c363_row214_col7\" class=\"data row214 col7\" >-</td>\n",
       "      <td id=\"T_2c363_row214_col8\" class=\"data row214 col8\" >Tweede Divisie.  Jornada 8</td>\n",
       "    </tr>\n",
       "    <tr>\n",
       "      <th id=\"T_2c363_level0_row215\" class=\"row_heading level0 row215\" >215</th>\n",
       "      <td id=\"T_2c363_row215_col0\" class=\"data row215 col0\" >2022-09-24 13:00</td>\n",
       "      <td id=\"T_2c363_row215_col1\" class=\"data row215 col1\" >5.8</td>\n",
       "      <td id=\"T_2c363_row215_col2\" class=\"data row215 col2\" >17º</td>\n",
       "      <td id=\"T_2c363_row215_col3\" class=\"data row215 col3\" >IJsselmeervogels</td>\n",
       "      <td id=\"T_2c363_row215_col4\" class=\"data row215 col4\" >35% - 1.37</td>\n",
       "      <td id=\"T_2c363_row215_col5\" class=\"data row215 col5\" >40.1% - 1.48</td>\n",
       "      <td id=\"T_2c363_row215_col6\" class=\"data row215 col6\" >Katwijk</td>\n",
       "      <td id=\"T_2c363_row215_col7\" class=\"data row215 col7\" >5º</td>\n",
       "      <td id=\"T_2c363_row215_col8\" class=\"data row215 col8\" >Tweede Divisie.  Jornada 8</td>\n",
       "    </tr>\n",
       "    <tr>\n",
       "      <th id=\"T_2c363_level0_row216\" class=\"row_heading level0 row216\" >216</th>\n",
       "      <td id=\"T_2c363_row216_col0\" class=\"data row216 col0\" >2022-09-24 13:00</td>\n",
       "      <td id=\"T_2c363_row216_col1\" class=\"data row216 col1\" >4.5</td>\n",
       "      <td id=\"T_2c363_row216_col2\" class=\"data row216 col2\" >3º</td>\n",
       "      <td id=\"T_2c363_row216_col3\" class=\"data row216 col3\" >Quick Boys</td>\n",
       "      <td id=\"T_2c363_row216_col4\" class=\"data row216 col4\" >45.5% - 1.72</td>\n",
       "      <td id=\"T_2c363_row216_col5\" class=\"data row216 col5\" >31% - 1.38</td>\n",
       "      <td id=\"T_2c363_row216_col6\" class=\"data row216 col6\" >Lisse</td>\n",
       "      <td id=\"T_2c363_row216_col7\" class=\"data row216 col7\" >7º</td>\n",
       "      <td id=\"T_2c363_row216_col8\" class=\"data row216 col8\" >Tweede Divisie.  Jornada 8</td>\n",
       "    </tr>\n",
       "    <tr>\n",
       "      <th id=\"T_2c363_level0_row217\" class=\"row_heading level0 row217\" >217</th>\n",
       "      <td id=\"T_2c363_row217_col0\" class=\"data row217 col0\" >2022-09-24 13:00</td>\n",
       "      <td id=\"T_2c363_row217_col1\" class=\"data row217 col1\" >4.2</td>\n",
       "      <td id=\"T_2c363_row217_col2\" class=\"data row217 col2\" >4º</td>\n",
       "      <td id=\"T_2c363_row217_col3\" class=\"data row217 col3\" >Amsterdamsche FC</td>\n",
       "      <td id=\"T_2c363_row217_col4\" class=\"data row217 col4\" >59.1% - 2.05</td>\n",
       "      <td id=\"T_2c363_row217_col5\" class=\"data row217 col5\" >19.9% - 1.11</td>\n",
       "      <td id=\"T_2c363_row217_col6\" class=\"data row217 col6\" >Jong Sparta</td>\n",
       "      <td id=\"T_2c363_row217_col7\" class=\"data row217 col7\" >8º</td>\n",
       "      <td id=\"T_2c363_row217_col8\" class=\"data row217 col8\" >Tweede Divisie.  Jornada 8</td>\n",
       "    </tr>\n",
       "    <tr>\n",
       "      <th id=\"T_2c363_level0_row218\" class=\"row_heading level0 row218\" >218</th>\n",
       "      <td id=\"T_2c363_row218_col0\" class=\"data row218 col0\" >2022-09-24 13:00</td>\n",
       "      <td id=\"T_2c363_row218_col1\" class=\"data row218 col1\" >5.7</td>\n",
       "      <td id=\"T_2c363_row218_col2\" class=\"data row218 col2\" >18º</td>\n",
       "      <td id=\"T_2c363_row218_col3\" class=\"data row218 col3\" >OFC Oostzaan</td>\n",
       "      <td id=\"T_2c363_row218_col4\" class=\"data row218 col4\" >52.3% - 1.75</td>\n",
       "      <td id=\"T_2c363_row218_col5\" class=\"data row218 col5\" >24.2% - 1.11</td>\n",
       "      <td id=\"T_2c363_row218_col6\" class=\"data row218 col6\" >Kozakken Boys</td>\n",
       "      <td id=\"T_2c363_row218_col7\" class=\"data row218 col7\" >10º</td>\n",
       "      <td id=\"T_2c363_row218_col8\" class=\"data row218 col8\" >Tweede Divisie.  Jornada 8</td>\n",
       "    </tr>\n",
       "    <tr>\n",
       "      <th id=\"T_2c363_level0_row219\" class=\"row_heading level0 row219\" >219</th>\n",
       "      <td id=\"T_2c363_row219_col0\" class=\"data row219 col0\" >2022-09-24 13:30</td>\n",
       "      <td id=\"T_2c363_row219_col1\" class=\"data row219 col1\" >3.5</td>\n",
       "      <td id=\"T_2c363_row219_col2\" class=\"data row219 col2\" >15º</td>\n",
       "      <td id=\"T_2c363_row219_col3\" class=\"data row219 col3\" >SV TEC Tiel</td>\n",
       "      <td id=\"T_2c363_row219_col4\" class=\"data row219 col4\" >31.6% - 1.5</td>\n",
       "      <td id=\"T_2c363_row219_col5\" class=\"data row219 col5\" >46% - 1.85</td>\n",
       "      <td id=\"T_2c363_row219_col6\" class=\"data row219 col6\" >HHC</td>\n",
       "      <td id=\"T_2c363_row219_col7\" class=\"data row219 col7\" >2º</td>\n",
       "      <td id=\"T_2c363_row219_col8\" class=\"data row219 col8\" >Tweede Divisie.  Jornada 8</td>\n",
       "    </tr>\n",
       "    <tr>\n",
       "      <th id=\"T_2c363_level0_row220\" class=\"row_heading level0 row220\" >220</th>\n",
       "      <td id=\"T_2c363_row220_col0\" class=\"data row220 col0\" >2022-09-24 16:00</td>\n",
       "      <td id=\"T_2c363_row220_col1\" class=\"data row220 col1\" >4.3</td>\n",
       "      <td id=\"T_2c363_row220_col2\" class=\"data row220 col2\" >1º</td>\n",
       "      <td id=\"T_2c363_row220_col3\" class=\"data row220 col3\" >De Treffers</td>\n",
       "      <td id=\"T_2c363_row220_col4\" class=\"data row220 col4\" >42.6% - 1.68</td>\n",
       "      <td id=\"T_2c363_row220_col5\" class=\"data row220 col5\" >33.9% - 1.47</td>\n",
       "      <td id=\"T_2c363_row220_col6\" class=\"data row220 col6\" >Koninklijke HFC</td>\n",
       "      <td id=\"T_2c363_row220_col7\" class=\"data row220 col7\" >9º</td>\n",
       "      <td id=\"T_2c363_row220_col8\" class=\"data row220 col8\" >Tweede Divisie.  Jornada 8</td>\n",
       "    </tr>\n",
       "    <tr>\n",
       "      <th id=\"T_2c363_level0_row221\" class=\"row_heading level0 row221\" >221</th>\n",
       "      <td id=\"T_2c363_row221_col0\" class=\"data row221 col0\" >2022-09-24 11:00</td>\n",
       "      <td id=\"T_2c363_row221_col1\" class=\"data row221 col1\" >1.5</td>\n",
       "      <td id=\"T_2c363_row221_col2\" class=\"data row221 col2\" >8º</td>\n",
       "      <td id=\"T_2c363_row221_col3\" class=\"data row221 col3\" >Werder Bremen II</td>\n",
       "      <td id=\"T_2c363_row221_col4\" class=\"data row221 col4\" >53.4% - 2.46</td>\n",
       "      <td id=\"T_2c363_row221_col5\" class=\"data row221 col5\" >27.5% - 1.76</td>\n",
       "      <td id=\"T_2c363_row221_col6\" class=\"data row221 col6\" >Jeddeloh</td>\n",
       "      <td id=\"T_2c363_row221_col7\" class=\"data row221 col7\" >3º</td>\n",
       "      <td id=\"T_2c363_row221_col8\" class=\"data row221 col8\" >Regionalliga. Nord,  Jornada 11</td>\n",
       "    </tr>\n",
       "    <tr>\n",
       "      <th id=\"T_2c363_level0_row222\" class=\"row_heading level0 row222\" >222</th>\n",
       "      <td id=\"T_2c363_row222_col0\" class=\"data row222 col0\" >2022-09-24 12:00</td>\n",
       "      <td id=\"T_2c363_row222_col1\" class=\"data row222 col1\" >4.7</td>\n",
       "      <td id=\"T_2c363_row222_col2\" class=\"data row222 col2\" >5º</td>\n",
       "      <td id=\"T_2c363_row222_col3\" class=\"data row222 col3\" >Greuther Fürth II</td>\n",
       "      <td id=\"T_2c363_row222_col4\" class=\"data row222 col4\" >25.2% - 1.21</td>\n",
       "      <td id=\"T_2c363_row222_col5\" class=\"data row222 col5\" >51.9% - 1.83</td>\n",
       "      <td id=\"T_2c363_row222_col6\" class=\"data row222 col6\" >SV Wacker Burghausen</td>\n",
       "      <td id=\"T_2c363_row222_col7\" class=\"data row222 col7\" >10º</td>\n",
       "      <td id=\"T_2c363_row222_col8\" class=\"data row222 col8\" >Regionalliga. Bayern,  Jornada 13</td>\n",
       "    </tr>\n",
       "    <tr>\n",
       "      <th id=\"T_2c363_level0_row223\" class=\"row_heading level0 row223\" >223</th>\n",
       "      <td id=\"T_2c363_row223_col0\" class=\"data row223 col0\" >2022-09-24 12:00</td>\n",
       "      <td id=\"T_2c363_row223_col1\" class=\"data row223 col1\" >3.9</td>\n",
       "      <td id=\"T_2c363_row223_col2\" class=\"data row223 col2\" >3º</td>\n",
       "      <td id=\"T_2c363_row223_col3\" class=\"data row223 col3\" >Nürnberg II</td>\n",
       "      <td id=\"T_2c363_row223_col4\" class=\"data row223 col4\" >51.8% - 1.93</td>\n",
       "      <td id=\"T_2c363_row223_col5\" class=\"data row223 col5\" >26% - 1.31</td>\n",
       "      <td id=\"T_2c363_row223_col6\" class=\"data row223 col6\" >Buchbach</td>\n",
       "      <td id=\"T_2c363_row223_col7\" class=\"data row223 col7\" >19º</td>\n",
       "      <td id=\"T_2c363_row223_col8\" class=\"data row223 col8\" >Regionalliga. Bayern,  Jornada 13</td>\n",
       "    </tr>\n",
       "    <tr>\n",
       "      <th id=\"T_2c363_level0_row224\" class=\"row_heading level0 row224\" >224</th>\n",
       "      <td id=\"T_2c363_row224_col0\" class=\"data row224 col0\" >2022-09-24 12:00</td>\n",
       "      <td id=\"T_2c363_row224_col1\" class=\"data row224 col1\" >2.1</td>\n",
       "      <td id=\"T_2c363_row224_col2\" class=\"data row224 col2\" >17º</td>\n",
       "      <td id=\"T_2c363_row224_col3\" class=\"data row224 col3\" >Rain / Lech</td>\n",
       "      <td id=\"T_2c363_row224_col4\" class=\"data row224 col4\" >36.5% - 1.85</td>\n",
       "      <td id=\"T_2c363_row224_col5\" class=\"data row224 col5\" >42.4% - 2</td>\n",
       "      <td id=\"T_2c363_row224_col6\" class=\"data row224 col6\" >Bayern München II</td>\n",
       "      <td id=\"T_2c363_row224_col7\" class=\"data row224 col7\" >2º</td>\n",
       "      <td id=\"T_2c363_row224_col8\" class=\"data row224 col8\" >Regionalliga. Bayern,  Jornada 13</td>\n",
       "    </tr>\n",
       "    <tr>\n",
       "      <th id=\"T_2c363_level0_row225\" class=\"row_heading level0 row225\" >225</th>\n",
       "      <td id=\"T_2c363_row225_col0\" class=\"data row225 col0\" >2022-09-24 12:00</td>\n",
       "      <td id=\"T_2c363_row225_col1\" class=\"data row225 col1\" >4.4</td>\n",
       "      <td id=\"T_2c363_row225_col2\" class=\"data row225 col2\" >13º</td>\n",
       "      <td id=\"T_2c363_row225_col3\" class=\"data row225 col3\" >Eichstätt</td>\n",
       "      <td id=\"T_2c363_row225_col4\" class=\"data row225 col4\" >36% - 1.51</td>\n",
       "      <td id=\"T_2c363_row225_col5\" class=\"data row225 col5\" >40.3% - 1.61</td>\n",
       "      <td id=\"T_2c363_row225_col6\" class=\"data row225 col6\" >Unterhaching</td>\n",
       "      <td id=\"T_2c363_row225_col7\" class=\"data row225 col7\" >1º</td>\n",
       "      <td id=\"T_2c363_row225_col8\" class=\"data row225 col8\" >Regionalliga. Bayern,  Jornada 13</td>\n",
       "    </tr>\n",
       "    <tr>\n",
       "      <th id=\"T_2c363_level0_row226\" class=\"row_heading level0 row226\" >226</th>\n",
       "      <td id=\"T_2c363_row226_col0\" class=\"data row226 col0\" >2022-09-24 12:00</td>\n",
       "      <td id=\"T_2c363_row226_col1\" class=\"data row226 col1\" >3</td>\n",
       "      <td id=\"T_2c363_row226_col2\" class=\"data row226 col2\" >9º</td>\n",
       "      <td id=\"T_2c363_row226_col3\" class=\"data row226 col3\" >Aubstadt</td>\n",
       "      <td id=\"T_2c363_row226_col4\" class=\"data row226 col4\" >51.6% - 2.06</td>\n",
       "      <td id=\"T_2c363_row226_col5\" class=\"data row226 col5\" >27.2% - 1.46</td>\n",
       "      <td id=\"T_2c363_row226_col6\" class=\"data row226 col6\" >Heimstetten</td>\n",
       "      <td id=\"T_2c363_row226_col7\" class=\"data row226 col7\" >15º</td>\n",
       "      <td id=\"T_2c363_row226_col8\" class=\"data row226 col8\" >Regionalliga. Bayern,  Jornada 13</td>\n",
       "    </tr>\n",
       "    <tr>\n",
       "      <th id=\"T_2c363_level0_row227\" class=\"row_heading level0 row227\" >227</th>\n",
       "      <td id=\"T_2c363_row227_col0\" class=\"data row227 col0\" >2022-09-24 12:00</td>\n",
       "      <td id=\"T_2c363_row227_col1\" class=\"data row227 col1\" >1.7</td>\n",
       "      <td id=\"T_2c363_row227_col2\" class=\"data row227 col2\" >16º</td>\n",
       "      <td id=\"T_2c363_row227_col3\" class=\"data row227 col3\" >Türkgücü München</td>\n",
       "      <td id=\"T_2c363_row227_col4\" class=\"data row227 col4\" >17.9% - 1.38</td>\n",
       "      <td id=\"T_2c363_row227_col5\" class=\"data row227 col5\" >65% - 2.68</td>\n",
       "      <td id=\"T_2c363_row227_col6\" class=\"data row227 col6\" >Vilzing</td>\n",
       "      <td id=\"T_2c363_row227_col7\" class=\"data row227 col7\" >4º</td>\n",
       "      <td id=\"T_2c363_row227_col8\" class=\"data row227 col8\" >Regionalliga. Bayern,  Jornada 13</td>\n",
       "    </tr>\n",
       "    <tr>\n",
       "      <th id=\"T_2c363_level0_row228\" class=\"row_heading level0 row228\" >228</th>\n",
       "      <td id=\"T_2c363_row228_col0\" class=\"data row228 col0\" >2022-09-24 12:00</td>\n",
       "      <td id=\"T_2c363_row228_col1\" class=\"data row228 col1\" >1.2</td>\n",
       "      <td id=\"T_2c363_row228_col2\" class=\"data row228 col2\" >12º</td>\n",
       "      <td id=\"T_2c363_row228_col3\" class=\"data row228 col3\" >SpVgg Ansbach</td>\n",
       "      <td id=\"T_2c363_row228_col4\" class=\"data row228 col4\" >57.4% - 2.65</td>\n",
       "      <td id=\"T_2c363_row228_col5\" class=\"data row228 col5\" >24.5% - 1.74</td>\n",
       "      <td id=\"T_2c363_row228_col6\" class=\"data row228 col6\" >Viktoria Aschaffenburg</td>\n",
       "      <td id=\"T_2c363_row228_col7\" class=\"data row228 col7\" >11º</td>\n",
       "      <td id=\"T_2c363_row228_col8\" class=\"data row228 col8\" >Regionalliga. Bayern,  Jornada 13</td>\n",
       "    </tr>\n",
       "    <tr>\n",
       "      <th id=\"T_2c363_level0_row229\" class=\"row_heading level0 row229\" >229</th>\n",
       "      <td id=\"T_2c363_row229_col0\" class=\"data row229 col0\" >2022-09-24 12:00</td>\n",
       "      <td id=\"T_2c363_row229_col1\" class=\"data row229 col1\" >5.1</td>\n",
       "      <td id=\"T_2c363_row229_col2\" class=\"data row229 col2\" >15º</td>\n",
       "      <td id=\"T_2c363_row229_col3\" class=\"data row229 col3\" >Alemannia Aachen</td>\n",
       "      <td id=\"T_2c363_row229_col4\" class=\"data row229 col4\" >30.5% - 1.32</td>\n",
       "      <td id=\"T_2c363_row229_col5\" class=\"data row229 col5\" >45.4% - 1.66</td>\n",
       "      <td id=\"T_2c363_row229_col6\" class=\"data row229 col6\" >Preußen Münster</td>\n",
       "      <td id=\"T_2c363_row229_col7\" class=\"data row229 col7\" >3º</td>\n",
       "      <td id=\"T_2c363_row229_col8\" class=\"data row229 col8\" >Regionalliga. West,  Jornada 4</td>\n",
       "    </tr>\n",
       "    <tr>\n",
       "      <th id=\"T_2c363_level0_row230\" class=\"row_heading level0 row230\" >230</th>\n",
       "      <td id=\"T_2c363_row230_col0\" class=\"data row230 col0\" >2022-09-24 12:00</td>\n",
       "      <td id=\"T_2c363_row230_col1\" class=\"data row230 col1\" >2.2</td>\n",
       "      <td id=\"T_2c363_row230_col2\" class=\"data row230 col2\" >8º</td>\n",
       "      <td id=\"T_2c363_row230_col3\" class=\"data row230 col3\" >Würzburger Kickers</td>\n",
       "      <td id=\"T_2c363_row230_col4\" class=\"data row230 col4\" >49% - 2.14</td>\n",
       "      <td id=\"T_2c363_row230_col5\" class=\"data row230 col5\" >30.2% - 1.66</td>\n",
       "      <td id=\"T_2c363_row230_col6\" class=\"data row230 col6\" >FC Augsburg II</td>\n",
       "      <td id=\"T_2c363_row230_col7\" class=\"data row230 col7\" >20º</td>\n",
       "      <td id=\"T_2c363_row230_col8\" class=\"data row230 col8\" >Regionalliga. Bayern,  Jornada 13</td>\n",
       "    </tr>\n",
       "    <tr>\n",
       "      <th id=\"T_2c363_level0_row231\" class=\"row_heading level0 row231\" >231</th>\n",
       "      <td id=\"T_2c363_row231_col0\" class=\"data row231 col0\" >2022-09-24 12:00</td>\n",
       "      <td id=\"T_2c363_row231_col1\" class=\"data row231 col1\" >6.6</td>\n",
       "      <td id=\"T_2c363_row231_col2\" class=\"data row231 col2\" >18º</td>\n",
       "      <td id=\"T_2c363_row231_col3\" class=\"data row231 col3\" >Hessen Kassel</td>\n",
       "      <td id=\"T_2c363_row231_col4\" class=\"data row231 col4\" >34.3% - 1.29</td>\n",
       "      <td id=\"T_2c363_row231_col5\" class=\"data row231 col5\" >40.1% - 1.42</td>\n",
       "      <td id=\"T_2c363_row231_col6\" class=\"data row231 col6\" >Kickers Offenbach FC</td>\n",
       "      <td id=\"T_2c363_row231_col7\" class=\"data row231 col7\" >9º</td>\n",
       "      <td id=\"T_2c363_row231_col8\" class=\"data row231 col8\" >Regionalliga. Sudwest,  Jornada 9</td>\n",
       "    </tr>\n",
       "    <tr>\n",
       "      <th id=\"T_2c363_level0_row232\" class=\"row_heading level0 row232\" >232</th>\n",
       "      <td id=\"T_2c363_row232_col0\" class=\"data row232 col0\" >2022-09-24 12:00</td>\n",
       "      <td id=\"T_2c363_row232_col1\" class=\"data row232 col1\" >3.5</td>\n",
       "      <td id=\"T_2c363_row232_col2\" class=\"data row232 col2\" >10º</td>\n",
       "      <td id=\"T_2c363_row232_col3\" class=\"data row232 col3\" >Hoffenheim II</td>\n",
       "      <td id=\"T_2c363_row232_col4\" class=\"data row232 col4\" >38.8% - 1.69</td>\n",
       "      <td id=\"T_2c363_row232_col5\" class=\"data row232 col5\" >38.4% - 1.67</td>\n",
       "      <td id=\"T_2c363_row232_col6\" class=\"data row232 col6\" >Eintracht Trier</td>\n",
       "      <td id=\"T_2c363_row232_col7\" class=\"data row232 col7\" >13º</td>\n",
       "      <td id=\"T_2c363_row232_col8\" class=\"data row232 col8\" >Regionalliga. Sudwest,  Jornada 9</td>\n",
       "    </tr>\n",
       "    <tr>\n",
       "      <th id=\"T_2c363_level0_row233\" class=\"row_heading level0 row233\" >233</th>\n",
       "      <td id=\"T_2c363_row233_col0\" class=\"data row233 col0\" >2022-09-24 12:00</td>\n",
       "      <td id=\"T_2c363_row233_col1\" class=\"data row233 col1\" >4.6</td>\n",
       "      <td id=\"T_2c363_row233_col2\" class=\"data row233 col2\" >12º</td>\n",
       "      <td id=\"T_2c363_row233_col3\" class=\"data row233 col3\" >VfR Aalen</td>\n",
       "      <td id=\"T_2c363_row233_col4\" class=\"data row233 col4\" >39% - 1.56</td>\n",
       "      <td id=\"T_2c363_row233_col5\" class=\"data row233 col5\" >37% - 1.52</td>\n",
       "      <td id=\"T_2c363_row233_col6\" class=\"data row233 col6\" >Ulm</td>\n",
       "      <td id=\"T_2c363_row233_col7\" class=\"data row233 col7\" >1º</td>\n",
       "      <td id=\"T_2c363_row233_col8\" class=\"data row233 col8\" >Regionalliga. Sudwest,  Jornada 9</td>\n",
       "    </tr>\n",
       "    <tr>\n",
       "      <th id=\"T_2c363_level0_row234\" class=\"row_heading level0 row234\" >234</th>\n",
       "      <td id=\"T_2c363_row234_col0\" class=\"data row234 col0\" >2022-09-24 12:00</td>\n",
       "      <td id=\"T_2c363_row234_col1\" class=\"data row234 col1\" >6.5</td>\n",
       "      <td id=\"T_2c363_row234_col2\" class=\"data row234 col2\" >6º</td>\n",
       "      <td id=\"T_2c363_row234_col3\" class=\"data row234 col3\" >Hankofen-Hailing</td>\n",
       "      <td id=\"T_2c363_row234_col4\" class=\"data row234 col4\" >42.6% - 1.48</td>\n",
       "      <td id=\"T_2c363_row234_col5\" class=\"data row234 col5\" >31.9% - 1.25</td>\n",
       "      <td id=\"T_2c363_row234_col6\" class=\"data row234 col6\" >Illertissen</td>\n",
       "      <td id=\"T_2c363_row234_col7\" class=\"data row234 col7\" >14º</td>\n",
       "      <td id=\"T_2c363_row234_col8\" class=\"data row234 col8\" >Regionalliga. Bayern,  Jornada 13</td>\n",
       "    </tr>\n",
       "    <tr>\n",
       "      <th id=\"T_2c363_level0_row235\" class=\"row_heading level0 row235\" >235</th>\n",
       "      <td id=\"T_2c363_row235_col0\" class=\"data row235 col0\" >2022-09-24 12:00</td>\n",
       "      <td id=\"T_2c363_row235_col1\" class=\"data row235 col1\" >1</td>\n",
       "      <td id=\"T_2c363_row235_col2\" class=\"data row235 col2\" >-</td>\n",
       "      <td id=\"T_2c363_row235_col3\" class=\"data row235 col3\" >Freiberg</td>\n",
       "      <td id=\"T_2c363_row235_col4\" class=\"data row235 col4\" >55.6% - 2.72</td>\n",
       "      <td id=\"T_2c363_row235_col5\" class=\"data row235 col5\" >26.5% - 1.9</td>\n",
       "      <td id=\"T_2c363_row235_col6\" class=\"data row235 col6\" >TSV Steinbach Haiger</td>\n",
       "      <td id=\"T_2c363_row235_col7\" class=\"data row235 col7\" >-</td>\n",
       "      <td id=\"T_2c363_row235_col8\" class=\"data row235 col8\" >Regionalliga. Sudwest,  Jornada 9</td>\n",
       "    </tr>\n",
       "    <tr>\n",
       "      <th id=\"T_2c363_level0_row236\" class=\"row_heading level0 row236\" >236</th>\n",
       "      <td id=\"T_2c363_row236_col0\" class=\"data row236 col0\" >2022-09-24 12:00</td>\n",
       "      <td id=\"T_2c363_row236_col1\" class=\"data row236 col1\" >1</td>\n",
       "      <td id=\"T_2c363_row236_col2\" class=\"data row236 col2\" >-</td>\n",
       "      <td id=\"T_2c363_row236_col3\" class=\"data row236 col3\" >Barockstadt</td>\n",
       "      <td id=\"T_2c363_row236_col4\" class=\"data row236 col4\" >44.8% - 2.42</td>\n",
       "      <td id=\"T_2c363_row236_col5\" class=\"data row236 col5\" >36.1% - 2.17</td>\n",
       "      <td id=\"T_2c363_row236_col6\" class=\"data row236 col6\" >Wormatia Worms</td>\n",
       "      <td id=\"T_2c363_row236_col7\" class=\"data row236 col7\" >-</td>\n",
       "      <td id=\"T_2c363_row236_col8\" class=\"data row236 col8\" >Regionalliga. Sudwest,  Jornada 9</td>\n",
       "    </tr>\n",
       "    <tr>\n",
       "      <th id=\"T_2c363_level0_row237\" class=\"row_heading level0 row237\" >237</th>\n",
       "      <td id=\"T_2c363_row237_col0\" class=\"data row237 col0\" >2022-09-24 12:00</td>\n",
       "      <td id=\"T_2c363_row237_col1\" class=\"data row237 col1\" >12.3</td>\n",
       "      <td id=\"T_2c363_row237_col2\" class=\"data row237 col2\" >17º</td>\n",
       "      <td id=\"T_2c363_row237_col3\" class=\"data row237 col3\" >RW Koblenz</td>\n",
       "      <td id=\"T_2c363_row237_col4\" class=\"data row237 col4\" >43.8% - 1.21</td>\n",
       "      <td id=\"T_2c363_row237_col5\" class=\"data row237 col5\" >26.8% - 0.88</td>\n",
       "      <td id=\"T_2c363_row237_col6\" class=\"data row237 col6\" >Bahlinger SC</td>\n",
       "      <td id=\"T_2c363_row237_col7\" class=\"data row237 col7\" >8º</td>\n",
       "      <td id=\"T_2c363_row237_col8\" class=\"data row237 col8\" >Regionalliga. Sudwest,  Jornada 9</td>\n",
       "    </tr>\n",
       "    <tr>\n",
       "      <th id=\"T_2c363_level0_row238\" class=\"row_heading level0 row238\" >238</th>\n",
       "      <td id=\"T_2c363_row238_col0\" class=\"data row238 col0\" >2022-09-24 14:00</td>\n",
       "      <td id=\"T_2c363_row238_col1\" class=\"data row238 col1\" >1.6</td>\n",
       "      <td id=\"T_2c363_row238_col2\" class=\"data row238 col2\" >9º</td>\n",
       "      <td id=\"T_2c363_row238_col3\" class=\"data row238 col3\" >Atlas Delmenhorst</td>\n",
       "      <td id=\"T_2c363_row238_col4\" class=\"data row238 col4\" >23.5% - 1.61</td>\n",
       "      <td id=\"T_2c363_row238_col5\" class=\"data row238 col5\" >58% - 2.55</td>\n",
       "      <td id=\"T_2c363_row238_col6\" class=\"data row238 col6\" >Weiche Flensburg</td>\n",
       "      <td id=\"T_2c363_row238_col7\" class=\"data row238 col7\" >4º</td>\n",
       "      <td id=\"T_2c363_row238_col8\" class=\"data row238 col8\" >Regionalliga. Nord,  Jornada 11</td>\n",
       "    </tr>\n",
       "    <tr>\n",
       "      <th id=\"T_2c363_level0_row239\" class=\"row_heading level0 row239\" >239</th>\n",
       "      <td id=\"T_2c363_row239_col0\" class=\"data row239 col0\" >2022-09-24 14:00</td>\n",
       "      <td id=\"T_2c363_row239_col1\" class=\"data row239 col1\" >6.4</td>\n",
       "      <td id=\"T_2c363_row239_col2\" class=\"data row239 col2\" >15º</td>\n",
       "      <td id=\"T_2c363_row239_col3\" class=\"data row239 col3\" >St. Pauli II</td>\n",
       "      <td id=\"T_2c363_row239_col4\" class=\"data row239 col4\" >50.7% - 1.66</td>\n",
       "      <td id=\"T_2c363_row239_col5\" class=\"data row239 col5\" >24.9% - 1.09</td>\n",
       "      <td id=\"T_2c363_row239_col6\" class=\"data row239 col6\" >Havelse</td>\n",
       "      <td id=\"T_2c363_row239_col7\" class=\"data row239 col7\" >18º</td>\n",
       "      <td id=\"T_2c363_row239_col8\" class=\"data row239 col8\" >Regionalliga. Nord,  Jornada 11</td>\n",
       "    </tr>\n",
       "    <tr>\n",
       "      <th id=\"T_2c363_level0_row240\" class=\"row_heading level0 row240\" >240</th>\n",
       "      <td id=\"T_2c363_row240_col0\" class=\"data row240 col0\" >2022-09-24 12:30</td>\n",
       "      <td id=\"T_2c363_row240_col1\" class=\"data row240 col1\" >3.9</td>\n",
       "      <td id=\"T_2c363_row240_col2\" class=\"data row240 col2\" >15º</td>\n",
       "      <td id=\"T_2c363_row240_col3\" class=\"data row240 col3\" >Harkemase Boys</td>\n",
       "      <td id=\"T_2c363_row240_col4\" class=\"data row240 col4\" >43.2% - 1.74</td>\n",
       "      <td id=\"T_2c363_row240_col5\" class=\"data row240 col5\" >33.7% - 1.51</td>\n",
       "      <td id=\"T_2c363_row240_col6\" class=\"data row240 col6\" >DVS'33</td>\n",
       "      <td id=\"T_2c363_row240_col7\" class=\"data row240 col7\" >13º</td>\n",
       "      <td id=\"T_2c363_row240_col8\" class=\"data row240 col8\" >Derde Divisie. Zaterdag,  Jornada 8</td>\n",
       "    </tr>\n",
       "    <tr>\n",
       "      <th id=\"T_2c363_level0_row241\" class=\"row_heading level0 row241\" >241</th>\n",
       "      <td id=\"T_2c363_row241_col0\" class=\"data row241 col0\" >2022-09-24 12:30</td>\n",
       "      <td id=\"T_2c363_row241_col1\" class=\"data row241 col1\" >3</td>\n",
       "      <td id=\"T_2c363_row241_col2\" class=\"data row241 col2\" >2º</td>\n",
       "      <td id=\"T_2c363_row241_col3\" class=\"data row241 col3\" >DOVO</td>\n",
       "      <td id=\"T_2c363_row241_col4\" class=\"data row241 col4\" >38.9% - 1.76</td>\n",
       "      <td id=\"T_2c363_row241_col5\" class=\"data row241 col5\" >38.8% - 1.76</td>\n",
       "      <td id=\"T_2c363_row241_col6\" class=\"data row241 col6\" >BVV Barendrecht</td>\n",
       "      <td id=\"T_2c363_row241_col7\" class=\"data row241 col7\" >5º</td>\n",
       "      <td id=\"T_2c363_row241_col8\" class=\"data row241 col8\" >Derde Divisie. Zaterdag,  Jornada 8</td>\n",
       "    </tr>\n",
       "    <tr>\n",
       "      <th id=\"T_2c363_level0_row242\" class=\"row_heading level0 row242\" >242</th>\n",
       "      <td id=\"T_2c363_row242_col0\" class=\"data row242 col0\" >2022-09-24 12:30</td>\n",
       "      <td id=\"T_2c363_row242_col1\" class=\"data row242 col1\" >2.9</td>\n",
       "      <td id=\"T_2c363_row242_col2\" class=\"data row242 col2\" >11º</td>\n",
       "      <td id=\"T_2c363_row242_col3\" class=\"data row242 col3\" >ACV</td>\n",
       "      <td id=\"T_2c363_row242_col4\" class=\"data row242 col4\" >23% - 1.35</td>\n",
       "      <td id=\"T_2c363_row242_col5\" class=\"data row242 col5\" >56.8% - 2.2</td>\n",
       "      <td id=\"T_2c363_row242_col6\" class=\"data row242 col6\" >Rijnvogels</td>\n",
       "      <td id=\"T_2c363_row242_col7\" class=\"data row242 col7\" >14º</td>\n",
       "      <td id=\"T_2c363_row242_col8\" class=\"data row242 col8\" >Derde Divisie. Zaterdag,  Jornada 8</td>\n",
       "    </tr>\n",
       "    <tr>\n",
       "      <th id=\"T_2c363_level0_row243\" class=\"row_heading level0 row243\" >243</th>\n",
       "      <td id=\"T_2c363_row243_col0\" class=\"data row243 col0\" >2022-09-24 12:30</td>\n",
       "      <td id=\"T_2c363_row243_col1\" class=\"data row243 col1\" >4.9</td>\n",
       "      <td id=\"T_2c363_row243_col2\" class=\"data row243 col2\" >16º</td>\n",
       "      <td id=\"T_2c363_row243_col3\" class=\"data row243 col3\" >VVOG</td>\n",
       "      <td id=\"T_2c363_row243_col4\" class=\"data row243 col4\" >47% - 1.71</td>\n",
       "      <td id=\"T_2c363_row243_col5\" class=\"data row243 col5\" >29.2% - 1.3</td>\n",
       "      <td id=\"T_2c363_row243_col6\" class=\"data row243 col6\" >Excelsior .31</td>\n",
       "      <td id=\"T_2c363_row243_col7\" class=\"data row243 col7\" >8º</td>\n",
       "      <td id=\"T_2c363_row243_col8\" class=\"data row243 col8\" >Derde Divisie. Zaterdag,  Jornada 8</td>\n",
       "    </tr>\n",
       "    <tr>\n",
       "      <th id=\"T_2c363_level0_row244\" class=\"row_heading level0 row244\" >244</th>\n",
       "      <td id=\"T_2c363_row244_col0\" class=\"data row244 col0\" >2022-09-24 12:30</td>\n",
       "      <td id=\"T_2c363_row244_col1\" class=\"data row244 col1\" >1.5</td>\n",
       "      <td id=\"T_2c363_row244_col2\" class=\"data row244 col2\" >-</td>\n",
       "      <td id=\"T_2c363_row244_col3\" class=\"data row244 col3\" >RKAV Volendam</td>\n",
       "      <td id=\"T_2c363_row244_col4\" class=\"data row244 col4\" >54.7% - 2.47</td>\n",
       "      <td id=\"T_2c363_row244_col5\" class=\"data row244 col5\" >26.3% - 1.7</td>\n",
       "      <td id=\"T_2c363_row244_col6\" class=\"data row244 col6\" >Urk</td>\n",
       "      <td id=\"T_2c363_row244_col7\" class=\"data row244 col7\" >-</td>\n",
       "      <td id=\"T_2c363_row244_col8\" class=\"data row244 col8\" >Derde Divisie. Zaterdag,  Jornada 8</td>\n",
       "    </tr>\n",
       "    <tr>\n",
       "      <th id=\"T_2c363_level0_row245\" class=\"row_heading level0 row245\" >245</th>\n",
       "      <td id=\"T_2c363_row245_col0\" class=\"data row245 col0\" >2022-09-24 13:00</td>\n",
       "      <td id=\"T_2c363_row245_col1\" class=\"data row245 col1\" >3.4</td>\n",
       "      <td id=\"T_2c363_row245_col2\" class=\"data row245 col2\" >-</td>\n",
       "      <td id=\"T_2c363_row245_col3\" class=\"data row245 col3\" >ASWH Ido-Ambacht</td>\n",
       "      <td id=\"T_2c363_row245_col4\" class=\"data row245 col4\" >40.3% - 1.73</td>\n",
       "      <td id=\"T_2c363_row245_col5\" class=\"data row245 col5\" >37% - 1.65</td>\n",
       "      <td id=\"T_2c363_row245_col6\" class=\"data row245 col6\" >GVVV</td>\n",
       "      <td id=\"T_2c363_row245_col7\" class=\"data row245 col7\" >-</td>\n",
       "      <td id=\"T_2c363_row245_col8\" class=\"data row245 col8\" >Derde Divisie. Zaterdag,  Jornada 8</td>\n",
       "    </tr>\n",
       "    <tr>\n",
       "      <th id=\"T_2c363_level0_row246\" class=\"row_heading level0 row246\" >246</th>\n",
       "      <td id=\"T_2c363_row246_col0\" class=\"data row246 col0\" >2022-09-24 13:00</td>\n",
       "      <td id=\"T_2c363_row246_col1\" class=\"data row246 col1\" >4</td>\n",
       "      <td id=\"T_2c363_row246_col2\" class=\"data row246 col2\" >4º</td>\n",
       "      <td id=\"T_2c363_row246_col3\" class=\"data row246 col3\" >Sparta Nijkerk</td>\n",
       "      <td id=\"T_2c363_row246_col4\" class=\"data row246 col4\" >54.6% - 1.98</td>\n",
       "      <td id=\"T_2c363_row246_col5\" class=\"data row246 col5\" >23.6% - 1.24</td>\n",
       "      <td id=\"T_2c363_row246_col6\" class=\"data row246 col6\" >SteDoCo</td>\n",
       "      <td id=\"T_2c363_row246_col7\" class=\"data row246 col7\" >3º</td>\n",
       "      <td id=\"T_2c363_row246_col8\" class=\"data row246 col8\" >Derde Divisie. Zaterdag,  Jornada 8</td>\n",
       "    </tr>\n",
       "    <tr>\n",
       "      <th id=\"T_2c363_level0_row247\" class=\"row_heading level0 row247\" >247</th>\n",
       "      <td id=\"T_2c363_row247_col0\" class=\"data row247 col0\" >2022-09-24 13:00</td>\n",
       "      <td id=\"T_2c363_row247_col1\" class=\"data row247 col1\" >11</td>\n",
       "      <td id=\"T_2c363_row247_col2\" class=\"data row247 col2\" >18º</td>\n",
       "      <td id=\"T_2c363_row247_col3\" class=\"data row247 col3\" >Ter Leede</td>\n",
       "      <td id=\"T_2c363_row247_col4\" class=\"data row247 col4\" >55.4% - 1.48</td>\n",
       "      <td id=\"T_2c363_row247_col5\" class=\"data row247 col5\" >18.2% - 0.72</td>\n",
       "      <td id=\"T_2c363_row247_col6\" class=\"data row247 col6\" >Staphorst</td>\n",
       "      <td id=\"T_2c363_row247_col7\" class=\"data row247 col7\" >17º</td>\n",
       "      <td id=\"T_2c363_row247_col8\" class=\"data row247 col8\" >Derde Divisie. Zaterdag,  Jornada 8</td>\n",
       "    </tr>\n",
       "    <tr>\n",
       "      <th id=\"T_2c363_level0_row248\" class=\"row_heading level0 row248\" >248</th>\n",
       "      <td id=\"T_2c363_row248_col0\" class=\"data row248 col0\" >2022-09-24 13:00</td>\n",
       "      <td id=\"T_2c363_row248_col1\" class=\"data row248 col1\" >2.2</td>\n",
       "      <td id=\"T_2c363_row248_col2\" class=\"data row248 col2\" >10º</td>\n",
       "      <td id=\"T_2c363_row248_col3\" class=\"data row248 col3\" >Sportlust 46</td>\n",
       "      <td id=\"T_2c363_row248_col4\" class=\"data row248 col4\" >48% - 2.12</td>\n",
       "      <td id=\"T_2c363_row248_col5\" class=\"data row248 col5\" >31.1% - 1.69</td>\n",
       "      <td id=\"T_2c363_row248_col6\" class=\"data row248 col6\" >Hoek</td>\n",
       "      <td id=\"T_2c363_row248_col7\" class=\"data row248 col7\" >9º</td>\n",
       "      <td id=\"T_2c363_row248_col8\" class=\"data row248 col8\" >Derde Divisie. Zaterdag,  Jornada 8</td>\n",
       "    </tr>\n",
       "    <tr>\n",
       "      <th id=\"T_2c363_level0_row249\" class=\"row_heading level0 row249\" >249</th>\n",
       "      <td id=\"T_2c363_row249_col0\" class=\"data row249 col0\" >2022-09-24 16:00</td>\n",
       "      <td id=\"T_2c363_row249_col1\" class=\"data row249 col1\" >2</td>\n",
       "      <td id=\"T_2c363_row249_col2\" class=\"data row249 col2\" >-</td>\n",
       "      <td id=\"T_2c363_row249_col3\" class=\"data row249 col3\" >Blauw Geel '38</td>\n",
       "      <td id=\"T_2c363_row249_col4\" class=\"data row249 col4\" >28.2% - 1.65</td>\n",
       "      <td id=\"T_2c363_row249_col5\" class=\"data row249 col5\" >51.7% - 2.26</td>\n",
       "      <td id=\"T_2c363_row249_col6\" class=\"data row249 col6\" >OJC Rosmalen</td>\n",
       "      <td id=\"T_2c363_row249_col7\" class=\"data row249 col7\" >-</td>\n",
       "      <td id=\"T_2c363_row249_col8\" class=\"data row249 col8\" >Derde Divisie. Zondag,  Jornada 8</td>\n",
       "    </tr>\n",
       "    <tr>\n",
       "      <th id=\"T_2c363_level0_row250\" class=\"row_heading level0 row250\" >250</th>\n",
       "      <td id=\"T_2c363_row250_col0\" class=\"data row250 col0\" >2022-09-24 16:00</td>\n",
       "      <td id=\"T_2c363_row250_col1\" class=\"data row250 col1\" >2.4</td>\n",
       "      <td id=\"T_2c363_row250_col2\" class=\"data row250 col2\" >3º</td>\n",
       "      <td id=\"T_2c363_row250_col3\" class=\"data row250 col3\" >VVSB</td>\n",
       "      <td id=\"T_2c363_row250_col4\" class=\"data row250 col4\" >42.6% - 1.95</td>\n",
       "      <td id=\"T_2c363_row250_col5\" class=\"data row250 col5\" >35.9% - 1.78</td>\n",
       "      <td id=\"T_2c363_row250_col6\" class=\"data row250 col6\" >TOGB</td>\n",
       "      <td id=\"T_2c363_row250_col7\" class=\"data row250 col7\" >6º</td>\n",
       "      <td id=\"T_2c363_row250_col8\" class=\"data row250 col8\" >Derde Divisie. Zondag,  Jornada 8</td>\n",
       "    </tr>\n",
       "    <tr>\n",
       "      <th id=\"T_2c363_level0_row251\" class=\"row_heading level0 row251\" >251</th>\n",
       "      <td id=\"T_2c363_row251_col0\" class=\"data row251 col0\" >2022-09-24 11:00</td>\n",
       "      <td id=\"T_2c363_row251_col1\" class=\"data row251 col1\" >8.1</td>\n",
       "      <td id=\"T_2c363_row251_col2\" class=\"data row251 col2\" >5º</td>\n",
       "      <td id=\"T_2c363_row251_col3\" class=\"data row251 col3\" >Sylvia</td>\n",
       "      <td id=\"T_2c363_row251_col4\" class=\"data row251 col4\" >34.4% - 1.21</td>\n",
       "      <td id=\"T_2c363_row251_col5\" class=\"data row251 col5\" >38.7% - 1.3</td>\n",
       "      <td id=\"T_2c363_row251_col6\" class=\"data row251 col6\" >Hammarby TFF</td>\n",
       "      <td id=\"T_2c363_row251_col7\" class=\"data row251 col7\" >9º</td>\n",
       "      <td id=\"T_2c363_row251_col8\" class=\"data row251 col8\" >Tercera Suecia. Norte,  Jornada 24</td>\n",
       "    </tr>\n",
       "    <tr>\n",
       "      <th id=\"T_2c363_level0_row252\" class=\"row_heading level0 row252\" >252</th>\n",
       "      <td id=\"T_2c363_row252_col0\" class=\"data row252 col0\" >2022-09-24 11:00</td>\n",
       "      <td id=\"T_2c363_row252_col1\" class=\"data row252 col1\" >2</td>\n",
       "      <td id=\"T_2c363_row252_col2\" class=\"data row252 col2\" >10º</td>\n",
       "      <td id=\"T_2c363_row252_col3\" class=\"data row252 col3\" >Torns</td>\n",
       "      <td id=\"T_2c363_row252_col4\" class=\"data row252 col4\" >46% - 2.11</td>\n",
       "      <td id=\"T_2c363_row252_col5\" class=\"data row252 col5\" >33.3% - 1.78</td>\n",
       "      <td id=\"T_2c363_row252_col6\" class=\"data row252 col6\" >Tvååker</td>\n",
       "      <td id=\"T_2c363_row252_col7\" class=\"data row252 col7\" >9º</td>\n",
       "      <td id=\"T_2c363_row252_col8\" class=\"data row252 col8\" >Tercera Suecia. Sur,  Jornada 24</td>\n",
       "    </tr>\n",
       "    <tr>\n",
       "      <th id=\"T_2c363_level0_row253\" class=\"row_heading level0 row253\" >253</th>\n",
       "      <td id=\"T_2c363_row253_col0\" class=\"data row253 col0\" >2022-09-24 14:00</td>\n",
       "      <td id=\"T_2c363_row253_col1\" class=\"data row253 col1\" >5.8</td>\n",
       "      <td id=\"T_2c363_row253_col2\" class=\"data row253 col2\" >15º</td>\n",
       "      <td id=\"T_2c363_row253_col3\" class=\"data row253 col3\" >BK Forward</td>\n",
       "      <td id=\"T_2c363_row253_col4\" class=\"data row253 col4\" >38.6% - 1.45</td>\n",
       "      <td id=\"T_2c363_row253_col5\" class=\"data row253 col5\" >36.4% - 1.4</td>\n",
       "      <td id=\"T_2c363_row253_col6\" class=\"data row253 col6\" >Täby</td>\n",
       "      <td id=\"T_2c363_row253_col7\" class=\"data row253 col7\" >14º</td>\n",
       "      <td id=\"T_2c363_row253_col8\" class=\"data row253 col8\" >Tercera Suecia. Norte,  Jornada 24</td>\n",
       "    </tr>\n",
       "    <tr>\n",
       "      <th id=\"T_2c363_level0_row254\" class=\"row_heading level0 row254\" >254</th>\n",
       "      <td id=\"T_2c363_row254_col0\" class=\"data row254 col0\" >2022-09-24 14:00</td>\n",
       "      <td id=\"T_2c363_row254_col1\" class=\"data row254 col1\" >2.7</td>\n",
       "      <td id=\"T_2c363_row254_col2\" class=\"data row254 col2\" >3º</td>\n",
       "      <td id=\"T_2c363_row254_col3\" class=\"data row254 col3\" >Sandvikens IF</td>\n",
       "      <td id=\"T_2c363_row254_col4\" class=\"data row254 col4\" >67% - 2.48</td>\n",
       "      <td id=\"T_2c363_row254_col5\" class=\"data row254 col5\" >15.4% - 1.12</td>\n",
       "      <td id=\"T_2c363_row254_col6\" class=\"data row254 col6\" >Haninge</td>\n",
       "      <td id=\"T_2c363_row254_col7\" class=\"data row254 col7\" >13º</td>\n",
       "      <td id=\"T_2c363_row254_col8\" class=\"data row254 col8\" >Tercera Suecia. Norte,  Jornada 24</td>\n",
       "    </tr>\n",
       "    <tr>\n",
       "      <th id=\"T_2c363_level0_row255\" class=\"row_heading level0 row255\" >255</th>\n",
       "      <td id=\"T_2c363_row255_col0\" class=\"data row255 col0\" >2022-09-24 14:00</td>\n",
       "      <td id=\"T_2c363_row255_col1\" class=\"data row255 col1\" >7.4</td>\n",
       "      <td id=\"T_2c363_row255_col2\" class=\"data row255 col2\" >3º</td>\n",
       "      <td id=\"T_2c363_row255_col3\" class=\"data row255 col3\" >IK Oddevold</td>\n",
       "      <td id=\"T_2c363_row255_col4\" class=\"data row255 col4\" >49.6% - 1.56</td>\n",
       "      <td id=\"T_2c363_row255_col5\" class=\"data row255 col5\" >25.1% - 1.03</td>\n",
       "      <td id=\"T_2c363_row255_col6\" class=\"data row255 col6\" >Åtvidabergs</td>\n",
       "      <td id=\"T_2c363_row255_col7\" class=\"data row255 col7\" >13º</td>\n",
       "      <td id=\"T_2c363_row255_col8\" class=\"data row255 col8\" >Tercera Suecia. Sur,  Jornada 24</td>\n",
       "    </tr>\n",
       "    <tr>\n",
       "      <th id=\"T_2c363_level0_row256\" class=\"row_heading level0 row256\" >256</th>\n",
       "      <td id=\"T_2c363_row256_col0\" class=\"data row256 col0\" >2022-09-24 14:00</td>\n",
       "      <td id=\"T_2c363_row256_col1\" class=\"data row256 col1\" >7.7</td>\n",
       "      <td id=\"T_2c363_row256_col2\" class=\"data row256 col2\" >12º</td>\n",
       "      <td id=\"T_2c363_row256_col3\" class=\"data row256 col3\" >Oskarshamns AIK</td>\n",
       "      <td id=\"T_2c363_row256_col4\" class=\"data row256 col4\" >54.9% - 1.66</td>\n",
       "      <td id=\"T_2c363_row256_col5\" class=\"data row256 col5\" >20.7% - 0.91</td>\n",
       "      <td id=\"T_2c363_row256_col6\" class=\"data row256 col6\" >Ängelholm</td>\n",
       "      <td id=\"T_2c363_row256_col7\" class=\"data row256 col7\" >8º</td>\n",
       "      <td id=\"T_2c363_row256_col8\" class=\"data row256 col8\" >Tercera Suecia. Sur,  Jornada 24</td>\n",
       "    </tr>\n",
       "    <tr>\n",
       "      <th id=\"T_2c363_level0_row257\" class=\"row_heading level0 row257\" >257</th>\n",
       "      <td id=\"T_2c363_row257_col0\" class=\"data row257 col0\" >2022-09-24 14:00</td>\n",
       "      <td id=\"T_2c363_row257_col1\" class=\"data row257 col1\" >6.8</td>\n",
       "      <td id=\"T_2c363_row257_col2\" class=\"data row257 col2\" >15º</td>\n",
       "      <td id=\"T_2c363_row257_col3\" class=\"data row257 col3\" >Qviding FIF</td>\n",
       "      <td id=\"T_2c363_row257_col4\" class=\"data row257 col4\" >30.8% - 1.2</td>\n",
       "      <td id=\"T_2c363_row257_col5\" class=\"data row257 col5\" >43.5% - 1.48</td>\n",
       "      <td id=\"T_2c363_row257_col6\" class=\"data row257 col6\" >Lunds</td>\n",
       "      <td id=\"T_2c363_row257_col7\" class=\"data row257 col7\" >7º</td>\n",
       "      <td id=\"T_2c363_row257_col8\" class=\"data row257 col8\" >Tercera Suecia. Sur,  Jornada 24</td>\n",
       "    </tr>\n",
       "    <tr>\n",
       "      <th id=\"T_2c363_level0_row258\" class=\"row_heading level0 row258\" >258</th>\n",
       "      <td id=\"T_2c363_row258_col0\" class=\"data row258 col0\" >2022-09-24 14:00</td>\n",
       "      <td id=\"T_2c363_row258_col1\" class=\"data row258 col1\" >10.1</td>\n",
       "      <td id=\"T_2c363_row258_col2\" class=\"data row258 col2\" >6º</td>\n",
       "      <td id=\"T_2c363_row258_col3\" class=\"data row258 col3\" >BK Olympic</td>\n",
       "      <td id=\"T_2c363_row258_col4\" class=\"data row258 col4\" >50% - 1.42</td>\n",
       "      <td id=\"T_2c363_row258_col5\" class=\"data row258 col5\" >23% - 0.87</td>\n",
       "      <td id=\"T_2c363_row258_col6\" class=\"data row258 col6\" >Trollhattan FC</td>\n",
       "      <td id=\"T_2c363_row258_col7\" class=\"data row258 col7\" >5º</td>\n",
       "      <td id=\"T_2c363_row258_col8\" class=\"data row258 col8\" >Tercera Suecia. Sur,  Jornada 24</td>\n",
       "    </tr>\n",
       "    <tr>\n",
       "      <th id=\"T_2c363_level0_row259\" class=\"row_heading level0 row259\" >259</th>\n",
       "      <td id=\"T_2c363_row259_col0\" class=\"data row259 col0\" >2022-09-24 14:00</td>\n",
       "      <td id=\"T_2c363_row259_col1\" class=\"data row259 col1\" >7.7</td>\n",
       "      <td id=\"T_2c363_row259_col2\" class=\"data row259 col2\" >16º</td>\n",
       "      <td id=\"T_2c363_row259_col3\" class=\"data row259 col3\" >IFK Malmö</td>\n",
       "      <td id=\"T_2c363_row259_col4\" class=\"data row259 col4\" >29.7% - 1.13</td>\n",
       "      <td id=\"T_2c363_row259_col5\" class=\"data row259 col5\" >44.1% - 1.44</td>\n",
       "      <td id=\"T_2c363_row259_col6\" class=\"data row259 col6\" >Vänersborgs IF</td>\n",
       "      <td id=\"T_2c363_row259_col7\" class=\"data row259 col7\" >11º</td>\n",
       "      <td id=\"T_2c363_row259_col8\" class=\"data row259 col8\" >Tercera Suecia. Sur,  Jornada 24</td>\n",
       "    </tr>\n",
       "    <tr>\n",
       "      <th id=\"T_2c363_level0_row260\" class=\"row_heading level0 row260\" >260</th>\n",
       "      <td id=\"T_2c363_row260_col0\" class=\"data row260 col0\" >2022-09-24 00:00:00</td>\n",
       "      <td id=\"T_2c363_row260_col1\" class=\"data row260 col1\" >8</td>\n",
       "      <td id=\"T_2c363_row260_col2\" class=\"data row260 col2\" >3º</td>\n",
       "      <td id=\"T_2c363_row260_col3\" class=\"data row260 col3\" >FC Chelyabinsk</td>\n",
       "      <td id=\"T_2c363_row260_col4\" class=\"data row260 col4\" >65.2% - 1.85</td>\n",
       "      <td id=\"T_2c363_row260_col5\" class=\"data row260 col5\" >13.1% - 0.68</td>\n",
       "      <td id=\"T_2c363_row260_col6\" class=\"data row260 col6\" >Dinamo Barnaul</td>\n",
       "      <td id=\"T_2c363_row260_col7\" class=\"data row260 col7\" >11º</td>\n",
       "      <td id=\"T_2c363_row260_col8\" class=\"data row260 col8\" >Tercera Rusia. Grupo 4,  Jornada 10</td>\n",
       "    </tr>\n",
       "    <tr>\n",
       "      <th id=\"T_2c363_level0_row261\" class=\"row_heading level0 row261\" >261</th>\n",
       "      <td id=\"T_2c363_row261_col0\" class=\"data row261 col0\" >2022-09-24 00:00:00</td>\n",
       "      <td id=\"T_2c363_row261_col1\" class=\"data row261 col1\" >3.4</td>\n",
       "      <td id=\"T_2c363_row261_col2\" class=\"data row261 col2\" >12º</td>\n",
       "      <td id=\"T_2c363_row261_col3\" class=\"data row261 col3\" >Ural II</td>\n",
       "      <td id=\"T_2c363_row261_col4\" class=\"data row261 col4\" >30.9% - 1.5</td>\n",
       "      <td id=\"T_2c363_row261_col5\" class=\"data row261 col5\" >46.8% - 1.88</td>\n",
       "      <td id=\"T_2c363_row261_col6\" class=\"data row261 col6\" >FC Irtysh Omsk</td>\n",
       "      <td id=\"T_2c363_row261_col7\" class=\"data row261 col7\" >4º</td>\n",
       "      <td id=\"T_2c363_row261_col8\" class=\"data row261 col8\" >Tercera Rusia. Grupo 4,  Jornada 10</td>\n",
       "    </tr>\n",
       "    <tr>\n",
       "      <th id=\"T_2c363_level0_row262\" class=\"row_heading level0 row262\" >262</th>\n",
       "      <td id=\"T_2c363_row262_col0\" class=\"data row262 col0\" >2022-09-23 23:30</td>\n",
       "      <td id=\"T_2c363_row262_col1\" class=\"data row262 col1\" >14.3</td>\n",
       "      <td id=\"T_2c363_row262_col2\" class=\"data row262 col2\" >10º</td>\n",
       "      <td id=\"T_2c363_row262_col3\" class=\"data row262 col3\" >General Caballero JLM</td>\n",
       "      <td id=\"T_2c363_row262_col4\" class=\"data row262 col4\" >23.8% - 0.76</td>\n",
       "      <td id=\"T_2c363_row262_col5\" class=\"data row262 col5\" >45.8% - 1.18</td>\n",
       "      <td id=\"T_2c363_row262_col6\" class=\"data row262 col6\" >Guaraní</td>\n",
       "      <td id=\"T_2c363_row262_col7\" class=\"data row262 col7\" >7º</td>\n",
       "      <td id=\"T_2c363_row262_col8\" class=\"data row262 col8\" >Clausura Paraguay.  Jornada 13</td>\n",
       "    </tr>\n",
       "    <tr>\n",
       "      <th id=\"T_2c363_level0_row263\" class=\"row_heading level0 row263\" >263</th>\n",
       "      <td id=\"T_2c363_row263_col0\" class=\"data row263 col0\" >2022-09-24 21:00</td>\n",
       "      <td id=\"T_2c363_row263_col1\" class=\"data row263 col1\" >17.3</td>\n",
       "      <td id=\"T_2c363_row263_col2\" class=\"data row263 col2\" >12º</td>\n",
       "      <td id=\"T_2c363_row263_col3\" class=\"data row263 col3\" >12 de Octubre</td>\n",
       "      <td id=\"T_2c363_row263_col4\" class=\"data row263 col4\" >32.4% - 0.86</td>\n",
       "      <td id=\"T_2c363_row263_col5\" class=\"data row263 col5\" >34.3% - 0.9</td>\n",
       "      <td id=\"T_2c363_row263_col6\" class=\"data row263 col6\" >Sol de América</td>\n",
       "      <td id=\"T_2c363_row263_col7\" class=\"data row263 col7\" >8º</td>\n",
       "      <td id=\"T_2c363_row263_col8\" class=\"data row263 col8\" >Clausura Paraguay.  Jornada 13</td>\n",
       "    </tr>\n",
       "    <tr>\n",
       "      <th id=\"T_2c363_level0_row264\" class=\"row_heading level0 row264\" >264</th>\n",
       "      <td id=\"T_2c363_row264_col0\" class=\"data row264 col0\" >2022-09-24 11:00</td>\n",
       "      <td id=\"T_2c363_row264_col1\" class=\"data row264 col1\" >0.9</td>\n",
       "      <td id=\"T_2c363_row264_col2\" class=\"data row264 col2\" >-</td>\n",
       "      <td id=\"T_2c363_row264_col3\" class=\"data row264 col3\" >Blumenthaler SV</td>\n",
       "      <td id=\"T_2c363_row264_col4\" class=\"data row264 col4\" >48% - 2.55</td>\n",
       "      <td id=\"T_2c363_row264_col5\" class=\"data row264 col5\" >33.3% - 2.14</td>\n",
       "      <td id=\"T_2c363_row264_col6\" class=\"data row264 col6\" >SV Hemelingen</td>\n",
       "      <td id=\"T_2c363_row264_col7\" class=\"data row264 col7\" >-</td>\n",
       "      <td id=\"T_2c363_row264_col8\" class=\"data row264 col8\" >Oberliga. Bremen,  Jornada 6</td>\n",
       "    </tr>\n",
       "    <tr>\n",
       "      <th id=\"T_2c363_level0_row265\" class=\"row_heading level0 row265\" >265</th>\n",
       "      <td id=\"T_2c363_row265_col0\" class=\"data row265 col0\" >2022-09-24 11:00</td>\n",
       "      <td id=\"T_2c363_row265_col1\" class=\"data row265 col1\" >1.2</td>\n",
       "      <td id=\"T_2c363_row265_col2\" class=\"data row265 col2\" >9º</td>\n",
       "      <td id=\"T_2c363_row265_col3\" class=\"data row265 col3\" >Dassendorf</td>\n",
       "      <td id=\"T_2c363_row265_col4\" class=\"data row265 col4\" >69.5% - 3</td>\n",
       "      <td id=\"T_2c363_row265_col5\" class=\"data row265 col5\" >15.3% - 1.42</td>\n",
       "      <td id=\"T_2c363_row265_col6\" class=\"data row265 col6\" >Tus Osdorf</td>\n",
       "      <td id=\"T_2c363_row265_col7\" class=\"data row265 col7\" >16º</td>\n",
       "      <td id=\"T_2c363_row265_col8\" class=\"data row265 col8\" >Oberliga. Hamburgo,  Jornada 11</td>\n",
       "    </tr>\n",
       "    <tr>\n",
       "      <th id=\"T_2c363_level0_row266\" class=\"row_heading level0 row266\" >266</th>\n",
       "      <td id=\"T_2c363_row266_col0\" class=\"data row266 col0\" >2022-09-24 11:00</td>\n",
       "      <td id=\"T_2c363_row266_col1\" class=\"data row266 col1\" >1.4</td>\n",
       "      <td id=\"T_2c363_row266_col2\" class=\"data row266 col2\" >-</td>\n",
       "      <td id=\"T_2c363_row266_col3\" class=\"data row266 col3\" >Werder Bremen III</td>\n",
       "      <td id=\"T_2c363_row266_col4\" class=\"data row266 col4\" >45.2% - 2.29</td>\n",
       "      <td id=\"T_2c363_row266_col5\" class=\"data row266 col5\" >35.1% - 2.01</td>\n",
       "      <td id=\"T_2c363_row266_col6\" class=\"data row266 col6\" >BTS Neustadt</td>\n",
       "      <td id=\"T_2c363_row266_col7\" class=\"data row266 col7\" >-</td>\n",
       "      <td id=\"T_2c363_row266_col8\" class=\"data row266 col8\" >Oberliga. Bremen,  Jornada 6</td>\n",
       "    </tr>\n",
       "    <tr>\n",
       "      <th id=\"T_2c363_level0_row267\" class=\"row_heading level0 row267\" >267</th>\n",
       "      <td id=\"T_2c363_row267_col0\" class=\"data row267 col0\" >2022-09-24 11:00</td>\n",
       "      <td id=\"T_2c363_row267_col1\" class=\"data row267 col1\" >4.7</td>\n",
       "      <td id=\"T_2c363_row267_col2\" class=\"data row267 col2\" >-</td>\n",
       "      <td id=\"T_2c363_row267_col3\" class=\"data row267 col3\" >Feucht SC</td>\n",
       "      <td id=\"T_2c363_row267_col4\" class=\"data row267 col4\" >34.8% - 1.45</td>\n",
       "      <td id=\"T_2c363_row267_col5\" class=\"data row267 col5\" >41.2% - 1.6</td>\n",
       "      <td id=\"T_2c363_row267_col6\" class=\"data row267 col6\" >Grossbardorf</td>\n",
       "      <td id=\"T_2c363_row267_col7\" class=\"data row267 col7\" >-</td>\n",
       "      <td id=\"T_2c363_row267_col8\" class=\"data row267 col8\" >Oberliga. Bayern Nord,  Jornada 13</td>\n",
       "    </tr>\n",
       "    <tr>\n",
       "      <th id=\"T_2c363_level0_row268\" class=\"row_heading level0 row268\" >268</th>\n",
       "      <td id=\"T_2c363_row268_col0\" class=\"data row268 col0\" >2022-09-24 11:30</td>\n",
       "      <td id=\"T_2c363_row268_col1\" class=\"data row268 col1\" >2.2</td>\n",
       "      <td id=\"T_2c363_row268_col2\" class=\"data row268 col2\" >-</td>\n",
       "      <td id=\"T_2c363_row268_col3\" class=\"data row268 col3\" >Bordesholm</td>\n",
       "      <td id=\"T_2c363_row268_col4\" class=\"data row268 col4\" >39.1% - 1.9</td>\n",
       "      <td id=\"T_2c363_row268_col5\" class=\"data row268 col5\" >39.7% - 1.92</td>\n",
       "      <td id=\"T_2c363_row268_col6\" class=\"data row268 col6\" >Pansdorf</td>\n",
       "      <td id=\"T_2c363_row268_col7\" class=\"data row268 col7\" >-</td>\n",
       "      <td id=\"T_2c363_row268_col8\" class=\"data row268 col8\" >Oberliga. Schleswig-Holstein,  Jornada 11</td>\n",
       "    </tr>\n",
       "    <tr>\n",
       "      <th id=\"T_2c363_level0_row269\" class=\"row_heading level0 row269\" >269</th>\n",
       "      <td id=\"T_2c363_row269_col0\" class=\"data row269 col0\" >2022-09-24 11:30</td>\n",
       "      <td id=\"T_2c363_row269_col1\" class=\"data row269 col1\" >4.4</td>\n",
       "      <td id=\"T_2c363_row269_col2\" class=\"data row269 col2\" >-</td>\n",
       "      <td id=\"T_2c363_row269_col3\" class=\"data row269 col3\" >Weiche Flensburg 08 II</td>\n",
       "      <td id=\"T_2c363_row269_col4\" class=\"data row269 col4\" >22.4% - 1.17</td>\n",
       "      <td id=\"T_2c363_row269_col5\" class=\"data row269 col5\" >55.7% - 1.96</td>\n",
       "      <td id=\"T_2c363_row269_col6\" class=\"data row269 col6\" >Inter Turkspor Kiel</td>\n",
       "      <td id=\"T_2c363_row269_col7\" class=\"data row269 col7\" >-</td>\n",
       "      <td id=\"T_2c363_row269_col8\" class=\"data row269 col8\" >Oberliga. Schleswig-Holstein,  Jornada 11</td>\n",
       "    </tr>\n",
       "    <tr>\n",
       "      <th id=\"T_2c363_level0_row270\" class=\"row_heading level0 row270\" >270</th>\n",
       "      <td id=\"T_2c363_row270_col0\" class=\"data row270 col0\" >2022-09-24 12:00</td>\n",
       "      <td id=\"T_2c363_row270_col1\" class=\"data row270 col1\" >1.6</td>\n",
       "      <td id=\"T_2c363_row270_col2\" class=\"data row270 col2\" >-</td>\n",
       "      <td id=\"T_2c363_row270_col3\" class=\"data row270 col3\" >Dornbreite Lübeck</td>\n",
       "      <td id=\"T_2c363_row270_col4\" class=\"data row270 col4\" >30.8% - 1.81</td>\n",
       "      <td id=\"T_2c363_row270_col5\" class=\"data row270 col5\" >49.3% - 2.3</td>\n",
       "      <td id=\"T_2c363_row270_col6\" class=\"data row270 col6\" >VfB Lübeck II</td>\n",
       "      <td id=\"T_2c363_row270_col7\" class=\"data row270 col7\" >-</td>\n",
       "      <td id=\"T_2c363_row270_col8\" class=\"data row270 col8\" >Oberliga. Schleswig-Holstein,  Jornada 11</td>\n",
       "    </tr>\n",
       "    <tr>\n",
       "      <th id=\"T_2c363_level0_row271\" class=\"row_heading level0 row271\" >271</th>\n",
       "      <td id=\"T_2c363_row271_col0\" class=\"data row271 col0\" >2022-09-24 12:00</td>\n",
       "      <td id=\"T_2c363_row271_col1\" class=\"data row271 col1\" >2.2</td>\n",
       "      <td id=\"T_2c363_row271_col2\" class=\"data row271 col2\" >2º</td>\n",
       "      <td id=\"T_2c363_row271_col3\" class=\"data row271 col3\" >Stuttgarter Kickers</td>\n",
       "      <td id=\"T_2c363_row271_col4\" class=\"data row271 col4\" >66% - 2.58</td>\n",
       "      <td id=\"T_2c363_row271_col5\" class=\"data row271 col5\" >16.7% - 1.25</td>\n",
       "      <td id=\"T_2c363_row271_col6\" class=\"data row271 col6\" >Neckarsulmer SU</td>\n",
       "      <td id=\"T_2c363_row271_col7\" class=\"data row271 col7\" >14º</td>\n",
       "      <td id=\"T_2c363_row271_col8\" class=\"data row271 col8\" >Oberliga. Baden-Württemberg,  Jornada 10</td>\n",
       "    </tr>\n",
       "    <tr>\n",
       "      <th id=\"T_2c363_level0_row272\" class=\"row_heading level0 row272\" >272</th>\n",
       "      <td id=\"T_2c363_row272_col0\" class=\"data row272 col0\" >2022-09-24 12:00</td>\n",
       "      <td id=\"T_2c363_row272_col1\" class=\"data row272 col1\" >2.1</td>\n",
       "      <td id=\"T_2c363_row272_col2\" class=\"data row272 col2\" >-</td>\n",
       "      <td id=\"T_2c363_row272_col3\" class=\"data row272 col3\" >Husumer SV</td>\n",
       "      <td id=\"T_2c363_row272_col4\" class=\"data row272 col4\" >21.5% - 1.42</td>\n",
       "      <td id=\"T_2c363_row272_col5\" class=\"data row272 col5\" >59.7% - 2.43</td>\n",
       "      <td id=\"T_2c363_row272_col6\" class=\"data row272 col6\" >SV Eichede</td>\n",
       "      <td id=\"T_2c363_row272_col7\" class=\"data row272 col7\" >-</td>\n",
       "      <td id=\"T_2c363_row272_col8\" class=\"data row272 col8\" >Oberliga. Schleswig-Holstein,  Jornada 11</td>\n",
       "    </tr>\n",
       "    <tr>\n",
       "      <th id=\"T_2c363_level0_row273\" class=\"row_heading level0 row273\" >273</th>\n",
       "      <td id=\"T_2c363_row273_col0\" class=\"data row273 col0\" >2022-09-24 12:00</td>\n",
       "      <td id=\"T_2c363_row273_col1\" class=\"data row273 col1\" >0.6</td>\n",
       "      <td id=\"T_2c363_row273_col2\" class=\"data row273 col2\" >-</td>\n",
       "      <td id=\"T_2c363_row273_col3\" class=\"data row273 col3\" >TuS Komet Arsten</td>\n",
       "      <td id=\"T_2c363_row273_col4\" class=\"data row273 col4\" >26.2% - 2.11</td>\n",
       "      <td id=\"T_2c363_row273_col5\" class=\"data row273 col5\" >57% - 3.03</td>\n",
       "      <td id=\"T_2c363_row273_col6\" class=\"data row273 col6\" >Brinkumer SV</td>\n",
       "      <td id=\"T_2c363_row273_col7\" class=\"data row273 col7\" >-</td>\n",
       "      <td id=\"T_2c363_row273_col8\" class=\"data row273 col8\" >Oberliga. Bremen,  Jornada 6</td>\n",
       "    </tr>\n",
       "    <tr>\n",
       "      <th id=\"T_2c363_level0_row274\" class=\"row_heading level0 row274\" >274</th>\n",
       "      <td id=\"T_2c363_row274_col0\" class=\"data row274 col0\" >2022-09-24 12:00</td>\n",
       "      <td id=\"T_2c363_row274_col1\" class=\"data row274 col1\" >4.9</td>\n",
       "      <td id=\"T_2c363_row274_col2\" class=\"data row274 col2\" >-</td>\n",
       "      <td id=\"T_2c363_row274_col3\" class=\"data row274 col3\" >Ismaning</td>\n",
       "      <td id=\"T_2c363_row274_col4\" class=\"data row274 col4\" >55.9% - 1.91</td>\n",
       "      <td id=\"T_2c363_row274_col5\" class=\"data row274 col5\" >21.9% - 1.11</td>\n",
       "      <td id=\"T_2c363_row274_col6\" class=\"data row274 col6\" >Memmingen</td>\n",
       "      <td id=\"T_2c363_row274_col7\" class=\"data row274 col7\" >-</td>\n",
       "      <td id=\"T_2c363_row274_col8\" class=\"data row274 col8\" >Oberliga. Bayern Sud,  Jornada 13</td>\n",
       "    </tr>\n",
       "    <tr>\n",
       "      <th id=\"T_2c363_level0_row275\" class=\"row_heading level0 row275\" >275</th>\n",
       "      <td id=\"T_2c363_row275_col0\" class=\"data row275 col0\" >2022-09-24 12:00</td>\n",
       "      <td id=\"T_2c363_row275_col1\" class=\"data row275 col1\" >3.2</td>\n",
       "      <td id=\"T_2c363_row275_col2\" class=\"data row275 col2\" >5º</td>\n",
       "      <td id=\"T_2c363_row275_col3\" class=\"data row275 col3\" >FC Giessen</td>\n",
       "      <td id=\"T_2c363_row275_col4\" class=\"data row275 col4\" >28.1% - 1.45</td>\n",
       "      <td id=\"T_2c363_row275_col5\" class=\"data row275 col5\" >50.2% - 1.99</td>\n",
       "      <td id=\"T_2c363_row275_col6\" class=\"data row275 col6\" >Viktoria Griesheim</td>\n",
       "      <td id=\"T_2c363_row275_col7\" class=\"data row275 col7\" >16º</td>\n",
       "      <td id=\"T_2c363_row275_col8\" class=\"data row275 col8\" >Oberliga. Hessen,  Jornada 11</td>\n",
       "    </tr>\n",
       "    <tr>\n",
       "      <th id=\"T_2c363_level0_row276\" class=\"row_heading level0 row276\" >276</th>\n",
       "      <td id=\"T_2c363_row276_col0\" class=\"data row276 col0\" >2022-09-24 12:00</td>\n",
       "      <td id=\"T_2c363_row276_col1\" class=\"data row276 col1\" >3.5</td>\n",
       "      <td id=\"T_2c363_row276_col2\" class=\"data row276 col2\" >-</td>\n",
       "      <td id=\"T_2c363_row276_col3\" class=\"data row276 col3\" >Heider SV</td>\n",
       "      <td id=\"T_2c363_row276_col4\" class=\"data row276 col4\" >50.9% - 1.96</td>\n",
       "      <td id=\"T_2c363_row276_col5\" class=\"data row276 col5\" >27.2% - 1.39</td>\n",
       "      <td id=\"T_2c363_row276_col6\" class=\"data row276 col6\" >SV Frisia 03</td>\n",
       "      <td id=\"T_2c363_row276_col7\" class=\"data row276 col7\" >-</td>\n",
       "      <td id=\"T_2c363_row276_col8\" class=\"data row276 col8\" >Oberliga. Schleswig-Holstein,  Jornada 11</td>\n",
       "    </tr>\n",
       "    <tr>\n",
       "      <th id=\"T_2c363_level0_row277\" class=\"row_heading level0 row277\" >277</th>\n",
       "      <td id=\"T_2c363_row277_col0\" class=\"data row277 col0\" >2022-09-24 12:00</td>\n",
       "      <td id=\"T_2c363_row277_col1\" class=\"data row277 col1\" >0.2</td>\n",
       "      <td id=\"T_2c363_row277_col2\" class=\"data row277 col2\" >-</td>\n",
       "      <td id=\"T_2c363_row277_col3\" class=\"data row277 col3\" >TSB Flensburg</td>\n",
       "      <td id=\"T_2c363_row277_col4\" class=\"data row277 col4\" >29.5% - 2.63</td>\n",
       "      <td id=\"T_2c363_row277_col5\" class=\"data row277 col5\" >54.8% - 3.45</td>\n",
       "      <td id=\"T_2c363_row277_col6\" class=\"data row277 col6\" >Kilia Kiel</td>\n",
       "      <td id=\"T_2c363_row277_col7\" class=\"data row277 col7\" >-</td>\n",
       "      <td id=\"T_2c363_row277_col8\" class=\"data row277 col8\" >Oberliga. Schleswig-Holstein,  Jornada 11</td>\n",
       "    </tr>\n",
       "    <tr>\n",
       "      <th id=\"T_2c363_level0_row278\" class=\"row_heading level0 row278\" >278</th>\n",
       "      <td id=\"T_2c363_row278_col0\" class=\"data row278 col0\" >2022-09-24 12:00</td>\n",
       "      <td id=\"T_2c363_row278_col1\" class=\"data row278 col1\" >1.2</td>\n",
       "      <td id=\"T_2c363_row278_col2\" class=\"data row278 col2\" >1º</td>\n",
       "      <td id=\"T_2c363_row278_col3\" class=\"data row278 col3\" >Eintracht Stadtallendorf</td>\n",
       "      <td id=\"T_2c363_row278_col4\" class=\"data row278 col4\" >49.5% - 2.45</td>\n",
       "      <td id=\"T_2c363_row278_col5\" class=\"data row278 col5\" >31.3% - 1.95</td>\n",
       "      <td id=\"T_2c363_row278_col6\" class=\"data row278 col6\" >Bayern Alzenau</td>\n",
       "      <td id=\"T_2c363_row278_col7\" class=\"data row278 col7\" >13º</td>\n",
       "      <td id=\"T_2c363_row278_col8\" class=\"data row278 col8\" >Oberliga. Hessen,  Jornada 11</td>\n",
       "    </tr>\n",
       "    <tr>\n",
       "      <th id=\"T_2c363_level0_row279\" class=\"row_heading level0 row279\" >279</th>\n",
       "      <td id=\"T_2c363_row279_col0\" class=\"data row279 col0\" >2022-09-24 12:00</td>\n",
       "      <td id=\"T_2c363_row279_col1\" class=\"data row279 col1\" >1.1</td>\n",
       "      <td id=\"T_2c363_row279_col2\" class=\"data row279 col2\" >1º</td>\n",
       "      <td id=\"T_2c363_row279_col3\" class=\"data row279 col3\" >Eintracht Bamberg</td>\n",
       "      <td id=\"T_2c363_row279_col4\" class=\"data row279 col4\" >54.2% - 2.65</td>\n",
       "      <td id=\"T_2c363_row279_col5\" class=\"data row279 col5\" >27.5% - 1.9</td>\n",
       "      <td id=\"T_2c363_row279_col6\" class=\"data row279 col6\" >Eltersdorf</td>\n",
       "      <td id=\"T_2c363_row279_col7\" class=\"data row279 col7\" >2º</td>\n",
       "      <td id=\"T_2c363_row279_col8\" class=\"data row279 col8\" >Oberliga. Bayern Nord,  Jornada 13</td>\n",
       "    </tr>\n",
       "    <tr>\n",
       "      <th id=\"T_2c363_level0_row280\" class=\"row_heading level0 row280\" >280</th>\n",
       "      <td id=\"T_2c363_row280_col0\" class=\"data row280 col0\" >2022-09-24 12:00</td>\n",
       "      <td id=\"T_2c363_row280_col1\" class=\"data row280 col1\" >1.6</td>\n",
       "      <td id=\"T_2c363_row280_col2\" class=\"data row280 col2\" >18º</td>\n",
       "      <td id=\"T_2c363_row280_col3\" class=\"data row280 col3\" >TSG Backnang</td>\n",
       "      <td id=\"T_2c363_row280_col4\" class=\"data row280 col4\" >70.4% - 2.88</td>\n",
       "      <td id=\"T_2c363_row280_col5\" class=\"data row280 col5\" >14.3% - 1.28</td>\n",
       "      <td id=\"T_2c363_row280_col6\" class=\"data row280 col6\" >CfR Pforzheim</td>\n",
       "      <td id=\"T_2c363_row280_col7\" class=\"data row280 col7\" >12º</td>\n",
       "      <td id=\"T_2c363_row280_col8\" class=\"data row280 col8\" >Oberliga. Baden-Württemberg,  Jornada 10</td>\n",
       "    </tr>\n",
       "    <tr>\n",
       "      <th id=\"T_2c363_level0_row281\" class=\"row_heading level0 row281\" >281</th>\n",
       "      <td id=\"T_2c363_row281_col0\" class=\"data row281 col0\" >2022-09-24 12:00</td>\n",
       "      <td id=\"T_2c363_row281_col1\" class=\"data row281 col1\" >8.2</td>\n",
       "      <td id=\"T_2c363_row281_col2\" class=\"data row281 col2\" >3º</td>\n",
       "      <td id=\"T_2c363_row281_col3\" class=\"data row281 col3\" >Schott Mainz</td>\n",
       "      <td id=\"T_2c363_row281_col4\" class=\"data row281 col4\" >79.7% - 2.15</td>\n",
       "      <td id=\"T_2c363_row281_col5\" class=\"data row281 col5\" >4.7% - 0.35</td>\n",
       "      <td id=\"T_2c363_row281_col6\" class=\"data row281 col6\" >Kirchberg</td>\n",
       "      <td id=\"T_2c363_row281_col7\" class=\"data row281 col7\" >22º</td>\n",
       "      <td id=\"T_2c363_row281_col8\" class=\"data row281 col8\" >Oberliga. Rheinland-Pfalz/Saar,  Jornada 9</td>\n",
       "    </tr>\n",
       "    <tr>\n",
       "      <th id=\"T_2c363_level0_row282\" class=\"row_heading level0 row282\" >282</th>\n",
       "      <td id=\"T_2c363_row282_col0\" class=\"data row282 col0\" >2022-09-24 12:00</td>\n",
       "      <td id=\"T_2c363_row282_col1\" class=\"data row282 col1\" >3.7</td>\n",
       "      <td id=\"T_2c363_row282_col2\" class=\"data row282 col2\" >-</td>\n",
       "      <td id=\"T_2c363_row282_col3\" class=\"data row282 col3\" >FC Deisenhofen</td>\n",
       "      <td id=\"T_2c363_row282_col4\" class=\"data row282 col4\" >51.5% - 1.95</td>\n",
       "      <td id=\"T_2c363_row282_col5\" class=\"data row282 col5\" >26.5% - 1.35</td>\n",
       "      <td id=\"T_2c363_row282_col6\" class=\"data row282 col6\" >TSV Schwaben Augsburg</td>\n",
       "      <td id=\"T_2c363_row282_col7\" class=\"data row282 col7\" >-</td>\n",
       "      <td id=\"T_2c363_row282_col8\" class=\"data row282 col8\" >Oberliga. Bayern Sud,  Jornada 13</td>\n",
       "    </tr>\n",
       "    <tr>\n",
       "      <th id=\"T_2c363_level0_row283\" class=\"row_heading level0 row283\" >283</th>\n",
       "      <td id=\"T_2c363_row283_col0\" class=\"data row283 col0\" >2022-09-24 12:00</td>\n",
       "      <td id=\"T_2c363_row283_col1\" class=\"data row283 col1\" >1.6</td>\n",
       "      <td id=\"T_2c363_row283_col2\" class=\"data row283 col2\" >14º</td>\n",
       "      <td id=\"T_2c363_row283_col3\" class=\"data row283 col3\" >Dachau</td>\n",
       "      <td id=\"T_2c363_row283_col4\" class=\"data row283 col4\" >19.9% - 1.49</td>\n",
       "      <td id=\"T_2c363_row283_col5\" class=\"data row283 col5\" >62.6% - 2.67</td>\n",
       "      <td id=\"T_2c363_row283_col6\" class=\"data row283 col6\" >TSV Nördlingen</td>\n",
       "      <td id=\"T_2c363_row283_col7\" class=\"data row283 col7\" >13º</td>\n",
       "      <td id=\"T_2c363_row283_col8\" class=\"data row283 col8\" >Oberliga. Bayern Sud,  Jornada 13</td>\n",
       "    </tr>\n",
       "    <tr>\n",
       "      <th id=\"T_2c363_level0_row284\" class=\"row_heading level0 row284\" >284</th>\n",
       "      <td id=\"T_2c363_row284_col0\" class=\"data row284 col0\" >2022-09-24 12:00</td>\n",
       "      <td id=\"T_2c363_row284_col1\" class=\"data row284 col1\" >3</td>\n",
       "      <td id=\"T_2c363_row284_col2\" class=\"data row284 col2\" >4º</td>\n",
       "      <td id=\"T_2c363_row284_col3\" class=\"data row284 col3\" >Göppinger SV</td>\n",
       "      <td id=\"T_2c363_row284_col4\" class=\"data row284 col4\" >44.4% - 1.88</td>\n",
       "      <td id=\"T_2c363_row284_col5\" class=\"data row284 col5\" >33.5% - 1.62</td>\n",
       "      <td id=\"T_2c363_row284_col6\" class=\"data row284 col6\" >Villingen</td>\n",
       "      <td id=\"T_2c363_row284_col7\" class=\"data row284 col7\" >13º</td>\n",
       "      <td id=\"T_2c363_row284_col8\" class=\"data row284 col8\" >Oberliga. Baden-Württemberg,  Jornada 10</td>\n",
       "    </tr>\n",
       "    <tr>\n",
       "      <th id=\"T_2c363_level0_row285\" class=\"row_heading level0 row285\" >285</th>\n",
       "      <td id=\"T_2c363_row285_col0\" class=\"data row285 col0\" >2022-09-24 12:00</td>\n",
       "      <td id=\"T_2c363_row285_col1\" class=\"data row285 col1\" >1.7</td>\n",
       "      <td id=\"T_2c363_row285_col2\" class=\"data row285 col2\" >-</td>\n",
       "      <td id=\"T_2c363_row285_col3\" class=\"data row285 col3\" >Vatan Sport</td>\n",
       "      <td id=\"T_2c363_row285_col4\" class=\"data row285 col4\" >40.7% - 2.06</td>\n",
       "      <td id=\"T_2c363_row285_col5\" class=\"data row285 col5\" >38.8% - 2.01</td>\n",
       "      <td id=\"T_2c363_row285_col6\" class=\"data row285 col6\" >Leher TS Bremerhaven</td>\n",
       "      <td id=\"T_2c363_row285_col7\" class=\"data row285 col7\" >-</td>\n",
       "      <td id=\"T_2c363_row285_col8\" class=\"data row285 col8\" >Oberliga. Bremen,  Jornada 6</td>\n",
       "    </tr>\n",
       "    <tr>\n",
       "      <th id=\"T_2c363_level0_row286\" class=\"row_heading level0 row286\" >286</th>\n",
       "      <td id=\"T_2c363_row286_col0\" class=\"data row286 col0\" >2022-09-24 12:30</td>\n",
       "      <td id=\"T_2c363_row286_col1\" class=\"data row286 col1\" >1.7</td>\n",
       "      <td id=\"T_2c363_row286_col2\" class=\"data row286 col2\" >-</td>\n",
       "      <td id=\"T_2c363_row286_col3\" class=\"data row286 col3\" >Mechtersheim</td>\n",
       "      <td id=\"T_2c363_row286_col4\" class=\"data row286 col4\" >40.8% - 2.08</td>\n",
       "      <td id=\"T_2c363_row286_col5\" class=\"data row286 col5\" >38.7% - 2.02</td>\n",
       "      <td id=\"T_2c363_row286_col6\" class=\"data row286 col6\" >Hertha Wiesbach</td>\n",
       "      <td id=\"T_2c363_row286_col7\" class=\"data row286 col7\" >-</td>\n",
       "      <td id=\"T_2c363_row286_col8\" class=\"data row286 col8\" >Oberliga. Rheinland-Pfalz/Saar,  Jornada 9</td>\n",
       "    </tr>\n",
       "    <tr>\n",
       "      <th id=\"T_2c363_level0_row287\" class=\"row_heading level0 row287\" >287</th>\n",
       "      <td id=\"T_2c363_row287_col0\" class=\"data row287 col0\" >2022-09-24 12:30</td>\n",
       "      <td id=\"T_2c363_row287_col1\" class=\"data row287 col1\" >4.2</td>\n",
       "      <td id=\"T_2c363_row287_col2\" class=\"data row287 col2\" >-</td>\n",
       "      <td id=\"T_2c363_row287_col3\" class=\"data row287 col3\" >Freiburger FC</td>\n",
       "      <td id=\"T_2c363_row287_col4\" class=\"data row287 col4\" >53.9% - 1.93</td>\n",
       "      <td id=\"T_2c363_row287_col5\" class=\"data row287 col5\" >24% - 1.23</td>\n",
       "      <td id=\"T_2c363_row287_col6\" class=\"data row287 col6\" >FSV Hollenbach</td>\n",
       "      <td id=\"T_2c363_row287_col7\" class=\"data row287 col7\" >-</td>\n",
       "      <td id=\"T_2c363_row287_col8\" class=\"data row287 col8\" >Oberliga. Baden-Württemberg,  Jornada 10</td>\n",
       "    </tr>\n",
       "    <tr>\n",
       "      <th id=\"T_2c363_level0_row288\" class=\"row_heading level0 row288\" >288</th>\n",
       "      <td id=\"T_2c363_row288_col0\" class=\"data row288 col0\" >2022-09-24 13:00</td>\n",
       "      <td id=\"T_2c363_row288_col1\" class=\"data row288 col1\" >3.4</td>\n",
       "      <td id=\"T_2c363_row288_col2\" class=\"data row288 col2\" >10º</td>\n",
       "      <td id=\"T_2c363_row288_col3\" class=\"data row288 col3\" >FC Holzhausen</td>\n",
       "      <td id=\"T_2c363_row288_col4\" class=\"data row288 col4\" >69.7% - 2.43</td>\n",
       "      <td id=\"T_2c363_row288_col5\" class=\"data row288 col5\" >13.1% - 0.96</td>\n",
       "      <td id=\"T_2c363_row288_col6\" class=\"data row288 col6\" >ATSV Mutschelbach</td>\n",
       "      <td id=\"T_2c363_row288_col7\" class=\"data row288 col7\" >3º</td>\n",
       "      <td id=\"T_2c363_row288_col8\" class=\"data row288 col8\" >Oberliga. Baden-Württemberg,  Jornada 10</td>\n",
       "    </tr>\n",
       "    <tr>\n",
       "      <th id=\"T_2c363_level0_row289\" class=\"row_heading level0 row289\" >289</th>\n",
       "      <td id=\"T_2c363_row289_col0\" class=\"data row289 col0\" >2022-09-24 13:00</td>\n",
       "      <td id=\"T_2c363_row289_col1\" class=\"data row289 col1\" >11</td>\n",
       "      <td id=\"T_2c363_row289_col2\" class=\"data row289 col2\" >-</td>\n",
       "      <td id=\"T_2c363_row289_col3\" class=\"data row289 col3\" >Oberneuland</td>\n",
       "      <td id=\"T_2c363_row289_col4\" class=\"data row289 col4\" >40.7% - 1.21</td>\n",
       "      <td id=\"T_2c363_row289_col5\" class=\"data row289 col5\" >30.4% - 1</td>\n",
       "      <td id=\"T_2c363_row289_col6\" class=\"data row289 col6\" >Woltmershausen</td>\n",
       "      <td id=\"T_2c363_row289_col7\" class=\"data row289 col7\" >-</td>\n",
       "      <td id=\"T_2c363_row289_col8\" class=\"data row289 col8\" >Oberliga. Bremen,  Jornada 6</td>\n",
       "    </tr>\n",
       "    <tr>\n",
       "      <th id=\"T_2c363_level0_row290\" class=\"row_heading level0 row290\" >290</th>\n",
       "      <td id=\"T_2c363_row290_col0\" class=\"data row290 col0\" >2022-09-24 13:00</td>\n",
       "      <td id=\"T_2c363_row290_col1\" class=\"data row290 col1\" >2.7</td>\n",
       "      <td id=\"T_2c363_row290_col2\" class=\"data row290 col2\" >-</td>\n",
       "      <td id=\"T_2c363_row290_col3\" class=\"data row290 col3\" >Fernwald</td>\n",
       "      <td id=\"T_2c363_row290_col4\" class=\"data row290 col4\" >61.4% - 2.35</td>\n",
       "      <td id=\"T_2c363_row290_col5\" class=\"data row290 col5\" >19.6% - 1.28</td>\n",
       "      <td id=\"T_2c363_row290_col6\" class=\"data row290 col6\" >Neuhof</td>\n",
       "      <td id=\"T_2c363_row290_col7\" class=\"data row290 col7\" >-</td>\n",
       "      <td id=\"T_2c363_row290_col8\" class=\"data row290 col8\" >Oberliga. Hessen,  Jornada 11</td>\n",
       "    </tr>\n",
       "    <tr>\n",
       "      <th id=\"T_2c363_level0_row291\" class=\"row_heading level0 row291\" >291</th>\n",
       "      <td id=\"T_2c363_row291_col0\" class=\"data row291 col0\" >2022-09-24 13:00</td>\n",
       "      <td id=\"T_2c363_row291_col1\" class=\"data row291 col1\" >2.3</td>\n",
       "      <td id=\"T_2c363_row291_col2\" class=\"data row291 col2\" >-</td>\n",
       "      <td id=\"T_2c363_row291_col3\" class=\"data row291 col3\" >Rot-Weiß Hadamar</td>\n",
       "      <td id=\"T_2c363_row291_col4\" class=\"data row291 col4\" >37.5% - 1.84</td>\n",
       "      <td id=\"T_2c363_row291_col5\" class=\"data row291 col5\" >41.1% - 1.92</td>\n",
       "      <td id=\"T_2c363_row291_col6\" class=\"data row291 col6\" >SV Steinbach 1920</td>\n",
       "      <td id=\"T_2c363_row291_col7\" class=\"data row291 col7\" >-</td>\n",
       "      <td id=\"T_2c363_row291_col8\" class=\"data row291 col8\" >Oberliga. Hessen,  Jornada 11</td>\n",
       "    </tr>\n",
       "    <tr>\n",
       "      <th id=\"T_2c363_level0_row292\" class=\"row_heading level0 row292\" >292</th>\n",
       "      <td id=\"T_2c363_row292_col0\" class=\"data row292 col0\" >2022-09-24 13:00</td>\n",
       "      <td id=\"T_2c363_row292_col1\" class=\"data row292 col1\" >3.2</td>\n",
       "      <td id=\"T_2c363_row292_col2\" class=\"data row292 col2\" >14º</td>\n",
       "      <td id=\"T_2c363_row292_col3\" class=\"data row292 col3\" >Waldgirmes</td>\n",
       "      <td id=\"T_2c363_row292_col4\" class=\"data row292 col4\" >50.5% - 2</td>\n",
       "      <td id=\"T_2c363_row292_col5\" class=\"data row292 col5\" >27.8% - 1.45</td>\n",
       "      <td id=\"T_2c363_row292_col6\" class=\"data row292 col6\" >Dietkirchen</td>\n",
       "      <td id=\"T_2c363_row292_col7\" class=\"data row292 col7\" >12º</td>\n",
       "      <td id=\"T_2c363_row292_col8\" class=\"data row292 col8\" >Oberliga. Hessen,  Jornada 11</td>\n",
       "    </tr>\n",
       "    <tr>\n",
       "      <th id=\"T_2c363_level0_row293\" class=\"row_heading level0 row293\" >293</th>\n",
       "      <td id=\"T_2c363_row293_col0\" class=\"data row293 col0\" >2022-09-24 13:00</td>\n",
       "      <td id=\"T_2c363_row293_col1\" class=\"data row293 col1\" >17.3</td>\n",
       "      <td id=\"T_2c363_row293_col2\" class=\"data row293 col2\" >-</td>\n",
       "      <td id=\"T_2c363_row293_col3\" class=\"data row293 col3\" >Bayern Hof</td>\n",
       "      <td id=\"T_2c363_row293_col4\" class=\"data row293 col4\" >26.4% - 0.75</td>\n",
       "      <td id=\"T_2c363_row293_col5\" class=\"data row293 col5\" >40.6% - 1.01</td>\n",
       "      <td id=\"T_2c363_row293_col6\" class=\"data row293 col6\" >Weiden</td>\n",
       "      <td id=\"T_2c363_row293_col7\" class=\"data row293 col7\" >-</td>\n",
       "      <td id=\"T_2c363_row293_col8\" class=\"data row293 col8\" >Oberliga. Bayern Nord,  Jornada 13</td>\n",
       "    </tr>\n",
       "    <tr>\n",
       "      <th id=\"T_2c363_level0_row294\" class=\"row_heading level0 row294\" >294</th>\n",
       "      <td id=\"T_2c363_row294_col0\" class=\"data row294 col0\" >2022-09-24 13:00</td>\n",
       "      <td id=\"T_2c363_row294_col1\" class=\"data row294 col1\" >0.6</td>\n",
       "      <td id=\"T_2c363_row294_col2\" class=\"data row294 col2\" >-</td>\n",
       "      <td id=\"T_2c363_row294_col3\" class=\"data row294 col3\" >OSC Bremerhaven</td>\n",
       "      <td id=\"T_2c363_row294_col4\" class=\"data row294 col4\" >40.5% - 2.52</td>\n",
       "      <td id=\"T_2c363_row294_col5\" class=\"data row294 col5\" >41.3% - 2.55</td>\n",
       "      <td id=\"T_2c363_row294_col6\" class=\"data row294 col6\" >Union Bremen</td>\n",
       "      <td id=\"T_2c363_row294_col7\" class=\"data row294 col7\" >-</td>\n",
       "      <td id=\"T_2c363_row294_col8\" class=\"data row294 col8\" >Oberliga. Bremen,  Jornada 6</td>\n",
       "    </tr>\n",
       "    <tr>\n",
       "      <th id=\"T_2c363_level0_row295\" class=\"row_heading level0 row295\" >295</th>\n",
       "      <td id=\"T_2c363_row295_col0\" class=\"data row295 col0\" >2022-09-24 13:00</td>\n",
       "      <td id=\"T_2c363_row295_col1\" class=\"data row295 col1\" >7.1</td>\n",
       "      <td id=\"T_2c363_row295_col2\" class=\"data row295 col2\" >-</td>\n",
       "      <td id=\"T_2c363_row295_col3\" class=\"data row295 col3\" >ASV Neumarkt</td>\n",
       "      <td id=\"T_2c363_row295_col4\" class=\"data row295 col4\" >50.7% - 1.61</td>\n",
       "      <td id=\"T_2c363_row295_col5\" class=\"data row295 col5\" >24.4% - 1.04</td>\n",
       "      <td id=\"T_2c363_row295_col6\" class=\"data row295 col6\" >1.FC Geesdorf</td>\n",
       "      <td id=\"T_2c363_row295_col7\" class=\"data row295 col7\" >-</td>\n",
       "      <td id=\"T_2c363_row295_col8\" class=\"data row295 col8\" >Oberliga. Bayern Nord,  Jornada 13</td>\n",
       "    </tr>\n",
       "    <tr>\n",
       "      <th id=\"T_2c363_level0_row296\" class=\"row_heading level0 row296\" >296</th>\n",
       "      <td id=\"T_2c363_row296_col0\" class=\"data row296 col0\" >2022-09-24 13:00</td>\n",
       "      <td id=\"T_2c363_row296_col1\" class=\"data row296 col1\" >8</td>\n",
       "      <td id=\"T_2c363_row296_col2\" class=\"data row296 col2\" >-</td>\n",
       "      <td id=\"T_2c363_row296_col3\" class=\"data row296 col3\" >Kirchanschöring</td>\n",
       "      <td id=\"T_2c363_row296_col4\" class=\"data row296 col4\" >34.8% - 1.23</td>\n",
       "      <td id=\"T_2c363_row296_col5\" class=\"data row296 col5\" >38.4% - 1.3</td>\n",
       "      <td id=\"T_2c363_row296_col6\" class=\"data row296 col6\" >Kottern</td>\n",
       "      <td id=\"T_2c363_row296_col7\" class=\"data row296 col7\" >-</td>\n",
       "      <td id=\"T_2c363_row296_col8\" class=\"data row296 col8\" >Oberliga. Bayern Sud,  Jornada 13</td>\n",
       "    </tr>\n",
       "    <tr>\n",
       "      <th id=\"T_2c363_level0_row297\" class=\"row_heading level0 row297\" >297</th>\n",
       "      <td id=\"T_2c363_row297_col0\" class=\"data row297 col0\" >2022-09-24 13:30</td>\n",
       "      <td id=\"T_2c363_row297_col1\" class=\"data row297 col1\" >7.7</td>\n",
       "      <td id=\"T_2c363_row297_col2\" class=\"data row297 col2\" >-</td>\n",
       "      <td id=\"T_2c363_row297_col3\" class=\"data row297 col3\" >Reutlingen</td>\n",
       "      <td id=\"T_2c363_row297_col4\" class=\"data row297 col4\" >46.7% - 1.49</td>\n",
       "      <td id=\"T_2c363_row297_col5\" class=\"data row297 col5\" >27.4% - 1.08</td>\n",
       "      <td id=\"T_2c363_row297_col6\" class=\"data row297 col6\" >1.FC Rielasingen-Arlen</td>\n",
       "      <td id=\"T_2c363_row297_col7\" class=\"data row297 col7\" >-</td>\n",
       "      <td id=\"T_2c363_row297_col8\" class=\"data row297 col8\" >Oberliga. Baden-Württemberg,  Jornada 10</td>\n",
       "    </tr>\n",
       "    <tr>\n",
       "      <th id=\"T_2c363_level0_row298\" class=\"row_heading level0 row298\" >298</th>\n",
       "      <td id=\"T_2c363_row298_col0\" class=\"data row298 col0\" >2022-09-24 13:30</td>\n",
       "      <td id=\"T_2c363_row298_col1\" class=\"data row298 col1\" >2.5</td>\n",
       "      <td id=\"T_2c363_row298_col2\" class=\"data row298 col2\" >11º</td>\n",
       "      <td id=\"T_2c363_row298_col3\" class=\"data row298 col3\" >Alemannia Waldalgesheim</td>\n",
       "      <td id=\"T_2c363_row298_col4\" class=\"data row298 col4\" >51.4% - 2.15</td>\n",
       "      <td id=\"T_2c363_row298_col5\" class=\"data row298 col5\" >27.9% - 1.55</td>\n",
       "      <td id=\"T_2c363_row298_col6\" class=\"data row298 col6\" >Engers 07</td>\n",
       "      <td id=\"T_2c363_row298_col7\" class=\"data row298 col7\" >5º</td>\n",
       "      <td id=\"T_2c363_row298_col8\" class=\"data row298 col8\" >Oberliga. Rheinland-Pfalz/Saar,  Jornada 9</td>\n",
       "    </tr>\n",
       "    <tr>\n",
       "      <th id=\"T_2c363_level0_row299\" class=\"row_heading level0 row299\" >299</th>\n",
       "      <td id=\"T_2c363_row299_col0\" class=\"data row299 col0\" >2022-09-24 13:30</td>\n",
       "      <td id=\"T_2c363_row299_col1\" class=\"data row299 col1\" >0.7</td>\n",
       "      <td id=\"T_2c363_row299_col2\" class=\"data row299 col2\" >12º</td>\n",
       "      <td id=\"T_2c363_row299_col3\" class=\"data row299 col3\" >FSV Jägersburg</td>\n",
       "      <td id=\"T_2c363_row299_col4\" class=\"data row299 col4\" >42% - 2.52</td>\n",
       "      <td id=\"T_2c363_row299_col5\" class=\"data row299 col5\" >39.6% - 2.45</td>\n",
       "      <td id=\"T_2c363_row299_col6\" class=\"data row299 col6\" >Dudenhofen</td>\n",
       "      <td id=\"T_2c363_row299_col7\" class=\"data row299 col7\" >17º</td>\n",
       "      <td id=\"T_2c363_row299_col8\" class=\"data row299 col8\" >Oberliga. Rheinland-Pfalz/Saar,  Jornada 9</td>\n",
       "    </tr>\n",
       "    <tr>\n",
       "      <th id=\"T_2c363_level0_row300\" class=\"row_heading level0 row300\" >300</th>\n",
       "      <td id=\"T_2c363_row300_col0\" class=\"data row300 col0\" >2022-09-24 13:30</td>\n",
       "      <td id=\"T_2c363_row300_col1\" class=\"data row300 col1\" >1.2</td>\n",
       "      <td id=\"T_2c363_row300_col2\" class=\"data row300 col2\" >-</td>\n",
       "      <td id=\"T_2c363_row300_col3\" class=\"data row300 col3\" >Diefflen</td>\n",
       "      <td id=\"T_2c363_row300_col4\" class=\"data row300 col4\" >51.9% - 2.53</td>\n",
       "      <td id=\"T_2c363_row300_col5\" class=\"data row300 col5\" >29.3% - 1.91</td>\n",
       "      <td id=\"T_2c363_row300_col6\" class=\"data row300 col6\" >SV 07 Elversberg II</td>\n",
       "      <td id=\"T_2c363_row300_col7\" class=\"data row300 col7\" >-</td>\n",
       "      <td id=\"T_2c363_row300_col8\" class=\"data row300 col8\" >Oberliga. Rheinland-Pfalz/Saar,  Jornada 9</td>\n",
       "    </tr>\n",
       "    <tr>\n",
       "      <th id=\"T_2c363_level0_row301\" class=\"row_heading level0 row301\" >301</th>\n",
       "      <td id=\"T_2c363_row301_col0\" class=\"data row301 col0\" >2022-09-24 13:30</td>\n",
       "      <td id=\"T_2c363_row301_col1\" class=\"data row301 col1\" >0.9</td>\n",
       "      <td id=\"T_2c363_row301_col2\" class=\"data row301 col2\" >8º</td>\n",
       "      <td id=\"T_2c363_row301_col3\" class=\"data row301 col3\" >Nottingen</td>\n",
       "      <td id=\"T_2c363_row301_col4\" class=\"data row301 col4\" >46.1% - 2.52</td>\n",
       "      <td id=\"T_2c363_row301_col5\" class=\"data row301 col5\" >35.1% - 2.21</td>\n",
       "      <td id=\"T_2c363_row301_col6\" class=\"data row301 col6\" >Ravensburg</td>\n",
       "      <td id=\"T_2c363_row301_col7\" class=\"data row301 col7\" >15º</td>\n",
       "      <td id=\"T_2c363_row301_col8\" class=\"data row301 col8\" >Oberliga. Baden-Württemberg,  Jornada 10</td>\n",
       "    </tr>\n",
       "    <tr>\n",
       "      <th id=\"T_2c363_level0_row302\" class=\"row_heading level0 row302\" >302</th>\n",
       "      <td id=\"T_2c363_row302_col0\" class=\"data row302 col0\" >2022-09-24 13:30</td>\n",
       "      <td id=\"T_2c363_row302_col1\" class=\"data row302 col1\" >4</td>\n",
       "      <td id=\"T_2c363_row302_col2\" class=\"data row302 col2\" >11º</td>\n",
       "      <td id=\"T_2c363_row302_col3\" class=\"data row302 col3\" >Bissingen</td>\n",
       "      <td id=\"T_2c363_row302_col4\" class=\"data row302 col4\" >46.7% - 1.8</td>\n",
       "      <td id=\"T_2c363_row302_col5\" class=\"data row302 col5\" >30.4% - 1.42</td>\n",
       "      <td id=\"T_2c363_row302_col6\" class=\"data row302 col6\" >Oberachern</td>\n",
       "      <td id=\"T_2c363_row302_col7\" class=\"data row302 col7\" >7º</td>\n",
       "      <td id=\"T_2c363_row302_col8\" class=\"data row302 col8\" >Oberliga. Baden-Württemberg,  Jornada 10</td>\n",
       "    </tr>\n",
       "    <tr>\n",
       "      <th id=\"T_2c363_level0_row303\" class=\"row_heading level0 row303\" >303</th>\n",
       "      <td id=\"T_2c363_row303_col0\" class=\"data row303 col0\" >2022-09-24 14:00</td>\n",
       "      <td id=\"T_2c363_row303_col1\" class=\"data row303 col1\" >9.9</td>\n",
       "      <td id=\"T_2c363_row303_col2\" class=\"data row303 col2\" >-</td>\n",
       "      <td id=\"T_2c363_row303_col3\" class=\"data row303 col3\" >Würzburger FV</td>\n",
       "      <td id=\"T_2c363_row303_col4\" class=\"data row303 col4\" >60.1% - 1.63</td>\n",
       "      <td id=\"T_2c363_row303_col5\" class=\"data row303 col5\" >15.5% - 0.69</td>\n",
       "      <td id=\"T_2c363_row303_col6\" class=\"data row303 col6\" >TSV Kornburg</td>\n",
       "      <td id=\"T_2c363_row303_col7\" class=\"data row303 col7\" >-</td>\n",
       "      <td id=\"T_2c363_row303_col8\" class=\"data row303 col8\" >Oberliga. Bayern Nord,  Jornada 13</td>\n",
       "    </tr>\n",
       "    <tr>\n",
       "      <th id=\"T_2c363_level0_row304\" class=\"row_heading level0 row304\" >304</th>\n",
       "      <td id=\"T_2c363_row304_col0\" class=\"data row304 col0\" >2022-09-24 14:00</td>\n",
       "      <td id=\"T_2c363_row304_col1\" class=\"data row304 col1\" >5</td>\n",
       "      <td id=\"T_2c363_row304_col2\" class=\"data row304 col2\" >-</td>\n",
       "      <td id=\"T_2c363_row304_col3\" class=\"data row304 col3\" >TSV Abtswind</td>\n",
       "      <td id=\"T_2c363_row304_col4\" class=\"data row304 col4\" >27.2% - 1.24</td>\n",
       "      <td id=\"T_2c363_row304_col5\" class=\"data row304 col5\" >49.3% - 1.75</td>\n",
       "      <td id=\"T_2c363_row304_col6\" class=\"data row304 col6\" >Ammerthal</td>\n",
       "      <td id=\"T_2c363_row304_col7\" class=\"data row304 col7\" >-</td>\n",
       "      <td id=\"T_2c363_row304_col8\" class=\"data row304 col8\" >Oberliga. Bayern Nord,  Jornada 13</td>\n",
       "    </tr>\n",
       "    <tr>\n",
       "      <th id=\"T_2c363_level0_row305\" class=\"row_heading level0 row305\" >305</th>\n",
       "      <td id=\"T_2c363_row305_col0\" class=\"data row305 col0\" >2022-09-24 14:00</td>\n",
       "      <td id=\"T_2c363_row305_col1\" class=\"data row305 col1\" >4.7</td>\n",
       "      <td id=\"T_2c363_row305_col2\" class=\"data row305 col2\" >-</td>\n",
       "      <td id=\"T_2c363_row305_col3\" class=\"data row305 col3\" >FSV Schöningen</td>\n",
       "      <td id=\"T_2c363_row305_col4\" class=\"data row305 col4\" >31.6% - 1.37</td>\n",
       "      <td id=\"T_2c363_row305_col5\" class=\"data row305 col5\" >44.6% - 1.67</td>\n",
       "      <td id=\"T_2c363_row305_col6\" class=\"data row305 col6\" >BW Papenburg</td>\n",
       "      <td id=\"T_2c363_row305_col7\" class=\"data row305 col7\" >-</td>\n",
       "      <td id=\"T_2c363_row305_col8\" class=\"data row305 col8\" >Oberliga. Niedersachsen,  Jornada 8</td>\n",
       "    </tr>\n",
       "    <tr>\n",
       "      <th id=\"T_2c363_level0_row306\" class=\"row_heading level0 row306\" >306</th>\n",
       "      <td id=\"T_2c363_row306_col0\" class=\"data row306 col0\" >2022-09-24 14:00</td>\n",
       "      <td id=\"T_2c363_row306_col1\" class=\"data row306 col1\" >0.7</td>\n",
       "      <td id=\"T_2c363_row306_col2\" class=\"data row306 col2\" >-</td>\n",
       "      <td id=\"T_2c363_row306_col3\" class=\"data row306 col3\" >Auersmacher</td>\n",
       "      <td id=\"T_2c363_row306_col4\" class=\"data row306 col4\" >59.6% - 3</td>\n",
       "      <td id=\"T_2c363_row306_col5\" class=\"data row306 col5\" >23.7% - 1.94</td>\n",
       "      <td id=\"T_2c363_row306_col6\" class=\"data row306 col6\" >Arminia Ludwigshafen</td>\n",
       "      <td id=\"T_2c363_row306_col7\" class=\"data row306 col7\" >-</td>\n",
       "      <td id=\"T_2c363_row306_col8\" class=\"data row306 col8\" >Oberliga. Rheinland-Pfalz/Saar,  Jornada 9</td>\n",
       "    </tr>\n",
       "    <tr>\n",
       "      <th id=\"T_2c363_level0_row307\" class=\"row_heading level0 row307\" >307</th>\n",
       "      <td id=\"T_2c363_row307_col0\" class=\"data row307 col0\" >2022-09-24 14:00</td>\n",
       "      <td id=\"T_2c363_row307_col1\" class=\"data row307 col1\" >1.5</td>\n",
       "      <td id=\"T_2c363_row307_col2\" class=\"data row307 col2\" >-</td>\n",
       "      <td id=\"T_2c363_row307_col3\" class=\"data row307 col3\" >Sportfreunde Eisbachtal</td>\n",
       "      <td id=\"T_2c363_row307_col4\" class=\"data row307 col4\" >67.2% - 2.8</td>\n",
       "      <td id=\"T_2c363_row307_col5\" class=\"data row307 col5\" >16.5% - 1.37</td>\n",
       "      <td id=\"T_2c363_row307_col6\" class=\"data row307 col6\" >Karbach</td>\n",
       "      <td id=\"T_2c363_row307_col7\" class=\"data row307 col7\" >-</td>\n",
       "      <td id=\"T_2c363_row307_col8\" class=\"data row307 col8\" >Oberliga. Rheinland-Pfalz/Saar,  Jornada 9</td>\n",
       "    </tr>\n",
       "    <tr>\n",
       "      <th id=\"T_2c363_level0_row308\" class=\"row_heading level0 row308\" >308</th>\n",
       "      <td id=\"T_2c363_row308_col0\" class=\"data row308 col0\" >2022-09-24 14:00</td>\n",
       "      <td id=\"T_2c363_row308_col1\" class=\"data row308 col1\" >12.2</td>\n",
       "      <td id=\"T_2c363_row308_col2\" class=\"data row308 col2\" >-</td>\n",
       "      <td id=\"T_2c363_row308_col3\" class=\"data row308 col3\" >FT Braunschweig</td>\n",
       "      <td id=\"T_2c363_row308_col4\" class=\"data row308 col4\" >33.5% - 1.02</td>\n",
       "      <td id=\"T_2c363_row308_col5\" class=\"data row308 col5\" >36.6% - 1.08</td>\n",
       "      <td id=\"T_2c363_row308_col6\" class=\"data row308 col6\" >MTV Eintracht Celle</td>\n",
       "      <td id=\"T_2c363_row308_col7\" class=\"data row308 col7\" >-</td>\n",
       "      <td id=\"T_2c363_row308_col8\" class=\"data row308 col8\" >Oberliga. Niedersachsen,  Jornada 8</td>\n",
       "    </tr>\n",
       "    <tr>\n",
       "      <th id=\"T_2c363_level0_row309\" class=\"row_heading level0 row309\" >309</th>\n",
       "      <td id=\"T_2c363_row309_col0\" class=\"data row309 col0\" >2022-09-24 14:00</td>\n",
       "      <td id=\"T_2c363_row309_col1\" class=\"data row309 col1\" >3</td>\n",
       "      <td id=\"T_2c363_row309_col2\" class=\"data row309 col2\" >-</td>\n",
       "      <td id=\"T_2c363_row309_col3\" class=\"data row309 col3\" >FC Erlensee</td>\n",
       "      <td id=\"T_2c363_row309_col4\" class=\"data row309 col4\" >60.5% - 2.26</td>\n",
       "      <td id=\"T_2c363_row309_col5\" class=\"data row309 col5\" >19.9% - 1.23</td>\n",
       "      <td id=\"T_2c363_row309_col6\" class=\"data row309 col6\" >Adler Weidenhausen</td>\n",
       "      <td id=\"T_2c363_row309_col7\" class=\"data row309 col7\" >-</td>\n",
       "      <td id=\"T_2c363_row309_col8\" class=\"data row309 col8\" >Oberliga. Hessen,  Jornada 11</td>\n",
       "    </tr>\n",
       "    <tr>\n",
       "      <th id=\"T_2c363_level0_row310\" class=\"row_heading level0 row310\" >310</th>\n",
       "      <td id=\"T_2c363_row310_col0\" class=\"data row310 col0\" >2022-09-24 14:00</td>\n",
       "      <td id=\"T_2c363_row310_col1\" class=\"data row310 col1\" >8.3</td>\n",
       "      <td id=\"T_2c363_row310_col2\" class=\"data row310 col2\" >-</td>\n",
       "      <td id=\"T_2c363_row310_col3\" class=\"data row310 col3\" >Schalding-Heining</td>\n",
       "      <td id=\"T_2c363_row310_col4\" class=\"data row310 col4\" >39.8% - 1.31</td>\n",
       "      <td id=\"T_2c363_row310_col5\" class=\"data row310 col5\" >33.2% - 1.17</td>\n",
       "      <td id=\"T_2c363_row310_col6\" class=\"data row310 col6\" >Türkspor Augsburg</td>\n",
       "      <td id=\"T_2c363_row310_col7\" class=\"data row310 col7\" >-</td>\n",
       "      <td id=\"T_2c363_row310_col8\" class=\"data row310 col8\" >Oberliga. Bayern Sud,  Jornada 13</td>\n",
       "    </tr>\n",
       "    <tr>\n",
       "      <th id=\"T_2c363_level0_row311\" class=\"row_heading level0 row311\" >311</th>\n",
       "      <td id=\"T_2c363_row311_col0\" class=\"data row311 col0\" >2022-09-24 15:00</td>\n",
       "      <td id=\"T_2c363_row311_col1\" class=\"data row311 col1\" >2.1</td>\n",
       "      <td id=\"T_2c363_row311_col2\" class=\"data row311 col2\" >2º</td>\n",
       "      <td id=\"T_2c363_row311_col3\" class=\"data row311 col3\" >Türkgücü Friedberg</td>\n",
       "      <td id=\"T_2c363_row311_col4\" class=\"data row311 col4\" >60.5% - 2.45</td>\n",
       "      <td id=\"T_2c363_row311_col5\" class=\"data row311 col5\" >20.8% - 1.4</td>\n",
       "      <td id=\"T_2c363_row311_col6\" class=\"data row311 col6\" >FC Hanau 93</td>\n",
       "      <td id=\"T_2c363_row311_col7\" class=\"data row311 col7\" >4º</td>\n",
       "      <td id=\"T_2c363_row311_col8\" class=\"data row311 col8\" >Oberliga. Hessen,  Jornada 11</td>\n",
       "    </tr>\n",
       "    <tr>\n",
       "      <th id=\"T_2c363_level0_row312\" class=\"row_heading level0 row312\" >312</th>\n",
       "      <td id=\"T_2c363_row312_col0\" class=\"data row312 col0\" >2022-09-24 16:00</td>\n",
       "      <td id=\"T_2c363_row312_col1\" class=\"data row312 col1\" >7.2</td>\n",
       "      <td id=\"T_2c363_row312_col2\" class=\"data row312 col2\" >5º</td>\n",
       "      <td id=\"T_2c363_row312_col3\" class=\"data row312 col3\" >KFC Uerdingen 05</td>\n",
       "      <td id=\"T_2c363_row312_col4\" class=\"data row312 col4\" >54.1% - 1.67</td>\n",
       "      <td id=\"T_2c363_row312_col5\" class=\"data row312 col5\" >21.6% - 0.96</td>\n",
       "      <td id=\"T_2c363_row312_col6\" class=\"data row312 col6\" >SC Velbert</td>\n",
       "      <td id=\"T_2c363_row312_col7\" class=\"data row312 col7\" >1º</td>\n",
       "      <td id=\"T_2c363_row312_col8\" class=\"data row312 col8\" >Oberliga. Niederrhein,  Jornada 10</td>\n",
       "    </tr>\n",
       "    <tr>\n",
       "      <th id=\"T_2c363_level0_row313\" class=\"row_heading level0 row313\" >313</th>\n",
       "      <td id=\"T_2c363_row313_col0\" class=\"data row313 col0\" >2022-09-24 16:00</td>\n",
       "      <td id=\"T_2c363_row313_col1\" class=\"data row313 col1\" >6.1</td>\n",
       "      <td id=\"T_2c363_row313_col2\" class=\"data row313 col2\" >-</td>\n",
       "      <td id=\"T_2c363_row313_col3\" class=\"data row313 col3\" >Ahrweiler</td>\n",
       "      <td id=\"T_2c363_row313_col4\" class=\"data row313 col4\" >13.7% - 0.79</td>\n",
       "      <td id=\"T_2c363_row313_col5\" class=\"data row313 col5\" >66% - 2.01</td>\n",
       "      <td id=\"T_2c363_row313_col6\" class=\"data row313 col6\" >Pfeddersheim</td>\n",
       "      <td id=\"T_2c363_row313_col7\" class=\"data row313 col7\" >-</td>\n",
       "      <td id=\"T_2c363_row313_col8\" class=\"data row313 col8\" >Oberliga. Rheinland-Pfalz/Saar,  Jornada 9</td>\n",
       "    </tr>\n",
       "    <tr>\n",
       "      <th id=\"T_2c363_level0_row314\" class=\"row_heading level0 row314\" >314</th>\n",
       "      <td id=\"T_2c363_row314_col0\" class=\"data row314 col0\" >2022-09-24 18:00</td>\n",
       "      <td id=\"T_2c363_row314_col1\" class=\"data row314 col1\" >0.3</td>\n",
       "      <td id=\"T_2c363_row314_col2\" class=\"data row314 col2\" >-</td>\n",
       "      <td id=\"T_2c363_row314_col3\" class=\"data row314 col3\" >Noruega Sub 21</td>\n",
       "      <td id=\"T_2c363_row314_col4\" class=\"data row314 col4\" >50.5% - 3.16</td>\n",
       "      <td id=\"T_2c363_row314_col5\" class=\"data row314 col5\" >32.9% - 2.62</td>\n",
       "      <td id=\"T_2c363_row314_col6\" class=\"data row314 col6\" >Suiza Sub 19</td>\n",
       "      <td id=\"T_2c363_row314_col7\" class=\"data row314 col7\" >-</td>\n",
       "      <td id=\"T_2c363_row314_col8\" class=\"data row314 col8\" >Amistosos Selecciones Sub 21.  Jornada 4</td>\n",
       "    </tr>\n",
       "    <tr>\n",
       "      <th id=\"T_2c363_level0_row315\" class=\"row_heading level0 row315\" >315</th>\n",
       "      <td id=\"T_2c363_row315_col0\" class=\"data row315 col0\" >2022-09-24 00:00:00</td>\n",
       "      <td id=\"T_2c363_row315_col1\" class=\"data row315 col1\" >11.4</td>\n",
       "      <td id=\"T_2c363_row315_col2\" class=\"data row315 col2\" >3º</td>\n",
       "      <td id=\"T_2c363_row315_col3\" class=\"data row315 col3\" >CR Belouizdad</td>\n",
       "      <td id=\"T_2c363_row315_col4\" class=\"data row315 col4\" >65% - 1.65</td>\n",
       "      <td id=\"T_2c363_row315_col5\" class=\"data row315 col5\" >11.4% - 0.52</td>\n",
       "      <td id=\"T_2c363_row315_col6\" class=\"data row315 col6\" >MC Alger</td>\n",
       "      <td id=\"T_2c363_row315_col7\" class=\"data row315 col7\" >9º</td>\n",
       "      <td id=\"T_2c363_row315_col8\" class=\"data row315 col8\" >Liga Argelia.  Jornada 5</td>\n",
       "    </tr>\n",
       "    <tr>\n",
       "      <th id=\"T_2c363_level0_row316\" class=\"row_heading level0 row316\" >316</th>\n",
       "      <td id=\"T_2c363_row316_col0\" class=\"data row316 col0\" >2022-09-24 00:00:00</td>\n",
       "      <td id=\"T_2c363_row316_col1\" class=\"data row316 col1\" >16.2</td>\n",
       "      <td id=\"T_2c363_row316_col2\" class=\"data row316 col2\" >8º</td>\n",
       "      <td id=\"T_2c363_row316_col3\" class=\"data row316 col3\" >Chlef</td>\n",
       "      <td id=\"T_2c363_row316_col4\" class=\"data row316 col4\" >39.6% - 1.02</td>\n",
       "      <td id=\"T_2c363_row316_col5\" class=\"data row316 col5\" >28.1% - 0.81</td>\n",
       "      <td id=\"T_2c363_row316_col6\" class=\"data row316 col6\" >ES Setif</td>\n",
       "      <td id=\"T_2c363_row316_col7\" class=\"data row316 col7\" >4º</td>\n",
       "      <td id=\"T_2c363_row316_col8\" class=\"data row316 col8\" >Liga Argelia.  Jornada 5</td>\n",
       "    </tr>\n",
       "    <tr>\n",
       "      <th id=\"T_2c363_level0_row317\" class=\"row_heading level0 row317\" >317</th>\n",
       "      <td id=\"T_2c363_row317_col0\" class=\"data row317 col0\" >2022-09-24 00:00:00</td>\n",
       "      <td id=\"T_2c363_row317_col1\" class=\"data row317 col1\" >4.9</td>\n",
       "      <td id=\"T_2c363_row317_col2\" class=\"data row317 col2\" >1º</td>\n",
       "      <td id=\"T_2c363_row317_col3\" class=\"data row317 col3\" >USM Alger</td>\n",
       "      <td id=\"T_2c363_row317_col4\" class=\"data row317 col4\" >57.3% - 1.94</td>\n",
       "      <td id=\"T_2c363_row317_col5\" class=\"data row317 col5\" >20.8% - 1.08</td>\n",
       "      <td id=\"T_2c363_row317_col6\" class=\"data row317 col6\" >Paradou</td>\n",
       "      <td id=\"T_2c363_row317_col7\" class=\"data row317 col7\" >10º</td>\n",
       "      <td id=\"T_2c363_row317_col8\" class=\"data row317 col8\" >Liga Argelia.  Jornada 5</td>\n",
       "    </tr>\n",
       "    <tr>\n",
       "      <th id=\"T_2c363_level0_row318\" class=\"row_heading level0 row318\" >318</th>\n",
       "      <td id=\"T_2c363_row318_col0\" class=\"data row318 col0\" >2022-09-24 00:00:00</td>\n",
       "      <td id=\"T_2c363_row318_col1\" class=\"data row318 col1\" >10.2</td>\n",
       "      <td id=\"T_2c363_row318_col2\" class=\"data row318 col2\" >2º</td>\n",
       "      <td id=\"T_2c363_row318_col3\" class=\"data row318 col3\" >CS Constantine</td>\n",
       "      <td id=\"T_2c363_row318_col4\" class=\"data row318 col4\" >69.3% - 1.79</td>\n",
       "      <td id=\"T_2c363_row318_col5\" class=\"data row318 col5\" >9.4% - 0.49</td>\n",
       "      <td id=\"T_2c363_row318_col6\" class=\"data row318 col6\" >MC Oran</td>\n",
       "      <td id=\"T_2c363_row318_col7\" class=\"data row318 col7\" >12º</td>\n",
       "      <td id=\"T_2c363_row318_col8\" class=\"data row318 col8\" >Liga Argelia.  Jornada 5</td>\n",
       "    </tr>\n",
       "    <tr>\n",
       "      <th id=\"T_2c363_level0_row319\" class=\"row_heading level0 row319\" >319</th>\n",
       "      <td id=\"T_2c363_row319_col0\" class=\"data row319 col0\" >2022-09-24 00:00:00</td>\n",
       "      <td id=\"T_2c363_row319_col1\" class=\"data row319 col1\" >8</td>\n",
       "      <td id=\"T_2c363_row319_col2\" class=\"data row319 col2\" >6º</td>\n",
       "      <td id=\"T_2c363_row319_col3\" class=\"data row319 col3\" >El Bayadh</td>\n",
       "      <td id=\"T_2c363_row319_col4\" class=\"data row319 col4\" >54.8% - 1.63</td>\n",
       "      <td id=\"T_2c363_row319_col5\" class=\"data row319 col5\" >20.5% - 0.89</td>\n",
       "      <td id=\"T_2c363_row319_col6\" class=\"data row319 col6\" >JS Kabylie</td>\n",
       "      <td id=\"T_2c363_row319_col7\" class=\"data row319 col7\" >16º</td>\n",
       "      <td id=\"T_2c363_row319_col8\" class=\"data row319 col8\" >Liga Argelia.  Jornada 5</td>\n",
       "    </tr>\n",
       "    <tr>\n",
       "      <th id=\"T_2c363_level0_row320\" class=\"row_heading level0 row320\" >320</th>\n",
       "      <td id=\"T_2c363_row320_col0\" class=\"data row320 col0\" >2022-09-24 00:00:00</td>\n",
       "      <td id=\"T_2c363_row320_col1\" class=\"data row320 col1\" >15.4</td>\n",
       "      <td id=\"T_2c363_row320_col2\" class=\"data row320 col2\" >14º</td>\n",
       "      <td id=\"T_2c363_row320_col3\" class=\"data row320 col3\" >NC Magra</td>\n",
       "      <td id=\"T_2c363_row320_col4\" class=\"data row320 col4\" >39.1% - 1.03</td>\n",
       "      <td id=\"T_2c363_row320_col5\" class=\"data row320 col5\" >29% - 0.84</td>\n",
       "      <td id=\"T_2c363_row320_col6\" class=\"data row320 col6\" >JS Saoura</td>\n",
       "      <td id=\"T_2c363_row320_col7\" class=\"data row320 col7\" >5º</td>\n",
       "      <td id=\"T_2c363_row320_col8\" class=\"data row320 col8\" >Liga Argelia.  Jornada 5</td>\n",
       "    </tr>\n",
       "    <tr>\n",
       "      <th id=\"T_2c363_level0_row321\" class=\"row_heading level0 row321\" >321</th>\n",
       "      <td id=\"T_2c363_row321_col0\" class=\"data row321 col0\" >2022-09-24 00:00:00</td>\n",
       "      <td id=\"T_2c363_row321_col1\" class=\"data row321 col1\" >3.4</td>\n",
       "      <td id=\"T_2c363_row321_col2\" class=\"data row321 col2\" >15º</td>\n",
       "      <td id=\"T_2c363_row321_col3\" class=\"data row321 col3\" >USM Khenchela</td>\n",
       "      <td id=\"T_2c363_row321_col4\" class=\"data row321 col4\" >66.6% - 2.34</td>\n",
       "      <td id=\"T_2c363_row321_col5\" class=\"data row321 col5\" >15.2% - 1.03</td>\n",
       "      <td id=\"T_2c363_row321_col6\" class=\"data row321 col6\" >HB Chelghoum Laid</td>\n",
       "      <td id=\"T_2c363_row321_col7\" class=\"data row321 col7\" >13º</td>\n",
       "      <td id=\"T_2c363_row321_col8\" class=\"data row321 col8\" >Liga Argelia.  Jornada 5</td>\n",
       "    </tr>\n",
       "    <tr>\n",
       "      <th id=\"T_2c363_level0_row322\" class=\"row_heading level0 row322\" >322</th>\n",
       "      <td id=\"T_2c363_row322_col0\" class=\"data row322 col0\" >2022-09-24 00:00:00</td>\n",
       "      <td id=\"T_2c363_row322_col1\" class=\"data row322 col1\" >7.8</td>\n",
       "      <td id=\"T_2c363_row322_col2\" class=\"data row322 col2\" >11º</td>\n",
       "      <td id=\"T_2c363_row322_col3\" class=\"data row322 col3\" >RC Arbaâ</td>\n",
       "      <td id=\"T_2c363_row322_col4\" class=\"data row322 col4\" >44.5% - 1.44</td>\n",
       "      <td id=\"T_2c363_row322_col5\" class=\"data row322 col5\" >29.2% - 1.11</td>\n",
       "      <td id=\"T_2c363_row322_col6\" class=\"data row322 col6\" >Biskra</td>\n",
       "      <td id=\"T_2c363_row322_col7\" class=\"data row322 col7\" >7º</td>\n",
       "      <td id=\"T_2c363_row322_col8\" class=\"data row322 col8\" >Liga Argelia.  Jornada 5</td>\n",
       "    </tr>\n",
       "    <tr>\n",
       "      <th id=\"T_2c363_level0_row323\" class=\"row_heading level0 row323\" >323</th>\n",
       "      <td id=\"T_2c363_row323_col0\" class=\"data row323 col0\" >2022-09-24 01:00</td>\n",
       "      <td id=\"T_2c363_row323_col1\" class=\"data row323 col1\" >7.5</td>\n",
       "      <td id=\"T_2c363_row323_col2\" class=\"data row323 col2\" >10º</td>\n",
       "      <td id=\"T_2c363_row323_col3\" class=\"data row323 col3\" >San Francisco</td>\n",
       "      <td id=\"T_2c363_row323_col4\" class=\"data row323 col4\" >35% - 1.26</td>\n",
       "      <td id=\"T_2c363_row323_col5\" class=\"data row323 col5\" >38.6% - 1.33</td>\n",
       "      <td id=\"T_2c363_row323_col6\" class=\"data row323 col6\" >Potros del Este</td>\n",
       "      <td id=\"T_2c363_row323_col7\" class=\"data row323 col7\" >5º</td>\n",
       "      <td id=\"T_2c363_row323_col8\" class=\"data row323 col8\" >LPF Panamá - Clausura.  Jornada 11</td>\n",
       "    </tr>\n",
       "    <tr>\n",
       "      <th id=\"T_2c363_level0_row324\" class=\"row_heading level0 row324\" >324</th>\n",
       "      <td id=\"T_2c363_row324_col0\" class=\"data row324 col0\" >2022-09-24 21:00</td>\n",
       "      <td id=\"T_2c363_row324_col1\" class=\"data row324 col1\" >10</td>\n",
       "      <td id=\"T_2c363_row324_col2\" class=\"data row324 col2\" >1º</td>\n",
       "      <td id=\"T_2c363_row324_col3\" class=\"data row324 col3\" >Independiente Chorrera</td>\n",
       "      <td id=\"T_2c363_row324_col4\" class=\"data row324 col4\" >32.8% - 1.09</td>\n",
       "      <td id=\"T_2c363_row324_col5\" class=\"data row324 col5\" >38.9% - 1.21</td>\n",
       "      <td id=\"T_2c363_row324_col6\" class=\"data row324 col6\" >Sporting San Miguelito</td>\n",
       "      <td id=\"T_2c363_row324_col7\" class=\"data row324 col7\" >4º</td>\n",
       "      <td id=\"T_2c363_row324_col8\" class=\"data row324 col8\" >LPF Panamá - Clausura.  Jornada 11</td>\n",
       "    </tr>\n",
       "    <tr>\n",
       "      <th id=\"T_2c363_level0_row325\" class=\"row_heading level0 row325\" >325</th>\n",
       "      <td id=\"T_2c363_row325_col0\" class=\"data row325 col0\" >2022-09-24 12:30</td>\n",
       "      <td id=\"T_2c363_row325_col1\" class=\"data row325 col1\" >14.3</td>\n",
       "      <td id=\"T_2c363_row325_col2\" class=\"data row325 col2\" >12º</td>\n",
       "      <td id=\"T_2c363_row325_col3\" class=\"data row325 col3\" >Ankaraspor</td>\n",
       "      <td id=\"T_2c363_row325_col4\" class=\"data row325 col4\" >43.4% - 1.14</td>\n",
       "      <td id=\"T_2c363_row325_col5\" class=\"data row325 col5\" >25.8% - 0.81</td>\n",
       "      <td id=\"T_2c363_row325_col6\" class=\"data row325 col6\" >Somaspor</td>\n",
       "      <td id=\"T_2c363_row325_col7\" class=\"data row325 col7\" >14º</td>\n",
       "      <td id=\"T_2c363_row325_col8\" class=\"data row325 col8\" >2. Lig. Blanco,  Jornada 6</td>\n",
       "    </tr>\n",
       "    <tr>\n",
       "      <th id=\"T_2c363_level0_row326\" class=\"row_heading level0 row326\" >326</th>\n",
       "      <td id=\"T_2c363_row326_col0\" class=\"data row326 col0\" >2022-09-24 13:00</td>\n",
       "      <td id=\"T_2c363_row326_col1\" class=\"data row326 col1\" >8.6</td>\n",
       "      <td id=\"T_2c363_row326_col2\" class=\"data row326 col2\" >17º</td>\n",
       "      <td id=\"T_2c363_row326_col3\" class=\"data row326 col3\" >Inegolspor</td>\n",
       "      <td id=\"T_2c363_row326_col4\" class=\"data row326 col4\" >42.8% - 1.36</td>\n",
       "      <td id=\"T_2c363_row326_col5\" class=\"data row326 col5\" >30.2% - 1.09</td>\n",
       "      <td id=\"T_2c363_row326_col6\" class=\"data row326 col6\" >Ispartaspor</td>\n",
       "      <td id=\"T_2c363_row326_col7\" class=\"data row326 col7\" >10º</td>\n",
       "      <td id=\"T_2c363_row326_col8\" class=\"data row326 col8\" >2. Lig. Blanco,  Jornada 6</td>\n",
       "    </tr>\n",
       "    <tr>\n",
       "      <th id=\"T_2c363_level0_row327\" class=\"row_heading level0 row327\" >327</th>\n",
       "      <td id=\"T_2c363_row327_col0\" class=\"data row327 col0\" >2022-09-24 13:00</td>\n",
       "      <td id=\"T_2c363_row327_col1\" class=\"data row327 col1\" >13.3</td>\n",
       "      <td id=\"T_2c363_row327_col2\" class=\"data row327 col2\" >17º</td>\n",
       "      <td id=\"T_2c363_row327_col3\" class=\"data row327 col3\" >Usakspor</td>\n",
       "      <td id=\"T_2c363_row327_col4\" class=\"data row327 col4\" >34.3% - 1</td>\n",
       "      <td id=\"T_2c363_row327_col5\" class=\"data row327 col5\" >35% - 1.01</td>\n",
       "      <td id=\"T_2c363_row327_col6\" class=\"data row327 col6\" >Kocaelispor</td>\n",
       "      <td id=\"T_2c363_row327_col7\" class=\"data row327 col7\" >5º</td>\n",
       "      <td id=\"T_2c363_row327_col8\" class=\"data row327 col8\" >2. Lig. Rojo,  Jornada 6</td>\n",
       "    </tr>\n",
       "    <tr>\n",
       "      <th id=\"T_2c363_level0_row328\" class=\"row_heading level0 row328\" >328</th>\n",
       "      <td id=\"T_2c363_row328_col0\" class=\"data row328 col0\" >2022-09-24 13:00</td>\n",
       "      <td id=\"T_2c363_row328_col1\" class=\"data row328 col1\" >1.3</td>\n",
       "      <td id=\"T_2c363_row328_col2\" class=\"data row328 col2\" >15º</td>\n",
       "      <td id=\"T_2c363_row328_col3\" class=\"data row328 col3\" >Erokspor</td>\n",
       "      <td id=\"T_2c363_row328_col4\" class=\"data row328 col4\" >82.4% - 3.39</td>\n",
       "      <td id=\"T_2c363_row328_col5\" class=\"data row328 col5\" >7% - 0.98</td>\n",
       "      <td id=\"T_2c363_row328_col6\" class=\"data row328 col6\" >Nazilli Belediyespor</td>\n",
       "      <td id=\"T_2c363_row328_col7\" class=\"data row328 col7\" >16º</td>\n",
       "      <td id=\"T_2c363_row328_col8\" class=\"data row328 col8\" >2. Lig. Blanco,  Jornada 6</td>\n",
       "    </tr>\n",
       "    <tr>\n",
       "      <th id=\"T_2c363_level0_row329\" class=\"row_heading level0 row329\" >329</th>\n",
       "      <td id=\"T_2c363_row329_col0\" class=\"data row329 col0\" >2022-09-24 16:00</td>\n",
       "      <td id=\"T_2c363_row329_col1\" class=\"data row329 col1\" >15.9</td>\n",
       "      <td id=\"T_2c363_row329_col2\" class=\"data row329 col2\" >16º</td>\n",
       "      <td id=\"T_2c363_row329_col3\" class=\"data row329 col3\" >Balikesirspor</td>\n",
       "      <td id=\"T_2c363_row329_col4\" class=\"data row329 col4\" >30% - 0.85</td>\n",
       "      <td id=\"T_2c363_row329_col5\" class=\"data row329 col5\" >37.6% - 0.99</td>\n",
       "      <td id=\"T_2c363_row329_col6\" class=\"data row329 col6\" >Ankara Demirspor</td>\n",
       "      <td id=\"T_2c363_row329_col7\" class=\"data row329 col7\" >13º</td>\n",
       "      <td id=\"T_2c363_row329_col8\" class=\"data row329 col8\" >2. Lig. Rojo,  Jornada 6</td>\n",
       "    </tr>\n",
       "  </tbody>\n",
       "</table>\n"
      ],
      "text/plain": [
       "<pandas.io.formats.style.Styler at 0x143c56a96d0>"
      ]
     },
     "execution_count": 7,
     "metadata": {},
     "output_type": "execute_result"
    }
   ],
   "source": [
    "df.style.set_properties(**{'text-align': 'left'}) "
   ]
  },
  {
   "cell_type": "code",
   "execution_count": null,
   "id": "8d9a32b0",
   "metadata": {},
   "outputs": [],
   "source": []
  }
 ],
 "metadata": {
  "kernelspec": {
   "display_name": "Python 3 (ipykernel)",
   "language": "python",
   "name": "python3"
  },
  "language_info": {
   "codemirror_mode": {
    "name": "ipython",
    "version": 3
   },
   "file_extension": ".py",
   "mimetype": "text/x-python",
   "name": "python",
   "nbconvert_exporter": "python",
   "pygments_lexer": "ipython3",
   "version": "3.9.12"
  }
 },
 "nbformat": 4,
 "nbformat_minor": 5
}
