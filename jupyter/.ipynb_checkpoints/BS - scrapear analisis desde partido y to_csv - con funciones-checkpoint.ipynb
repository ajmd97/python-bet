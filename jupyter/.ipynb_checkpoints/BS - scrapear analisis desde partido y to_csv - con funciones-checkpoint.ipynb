{
 "cells": [
  {
   "cell_type": "code",
   "execution_count": 1,
   "id": "f82d4473",
   "metadata": {},
   "outputs": [],
   "source": [
    "import requests\n",
    "from bs4 import BeautifulSoup\n",
    "import pandas as pd"
   ]
  },
  {
   "cell_type": "code",
   "execution_count": 2,
   "id": "ed67c71c",
   "metadata": {},
   "outputs": [],
   "source": [
    "# modificando el archivo que obtiene los analisis desde una web de un partido para \n",
    "# poner las funciones a parte del resto\n",
    "\n",
    "\n",
    "# def f_url_match(url_match):\n",
    "#     url_match = 'https://es.besoccer.com/partido/brentford/arsenal/202318282' \n",
    "#     return url_match\n",
    "# por ejemplo: https://es.besoccer.com/partido/brentford/arsenal/202318282 \n",
    "#input('Introduce la url del partido: ')\n",
    "\n",
    "# intentar hacer una función que sea la que pida la url con la intención de ponerlo en un if\n",
    "# para que si falla la url vuelva a pedirla con un input"
   ]
  },
  {
   "cell_type": "code",
   "execution_count": 3,
   "id": "546284d9",
   "metadata": {},
   "outputs": [],
   "source": [
    "def obtener_stats(func_stats):\n",
    "    stats_dict = {}\n",
    "    \n",
    "    date = func_stats.find('div', attrs={'class':'info match-link'})\n",
    "    if date:\n",
    "        stats_dict['date'] = date.get('starttime')\n",
    "    else:\n",
    "        stats_dict['date'] = None\n",
    " \n",
    "    draw = func_stats.find('div', attrs={'class':'content-box draw'}).find('div', attrs={'class':'cont'})\n",
    "    if draw:\n",
    "        stats_dict['draw'] = draw.get_text('/', strip=True)\n",
    "    else:\n",
    "        stats_dict['draw'] = None \n",
    "        \n",
    "    competition = func_stats.find('h3', attrs={'class':'competition'})\n",
    "    if competition:\n",
    "        stats_dict['competition'] = competition.get_text('/', strip=True)\n",
    "    else:\n",
    "        stats_dict['competition'] = None\n",
    "        \n",
    "    homeTeam = func_stats.find('p', attrs={'itemprop':'homeTeam'})\n",
    "    if homeTeam:\n",
    "        stats_dict['homeTeam'] = homeTeam.get_text('/', strip=True)\n",
    "    else:\n",
    "        stats_dict['homeTeam'] = None\n",
    "    \n",
    "    homeRank = func_stats.find('div', attrs={'class':'position t1'})\n",
    "    if homeRank:\n",
    "        stats_dict['homeRank'] = homeRank.get_text()\n",
    "    else:\n",
    "        stats_dict['homeRank'] = None    \n",
    "    \n",
    "    homeGoals = func_stats.find('div', attrs={'class':'content-box t-1'}).find('div', attrs={'class':'poss-box'})\n",
    "    if homeGoals:\n",
    "        stats_dict['homeGoals'] = homeGoals.get_text('/', strip=True)\n",
    "    else:\n",
    "        stats_dict['homeGoals'] = None     \n",
    "    \n",
    "    awayTeam = func_stats.find('p', attrs={'itemprop':'awayTeam'})\n",
    "    if awayTeam:\n",
    "        stats_dict['awayTeam'] = awayTeam.get_text('/', strip=True)\n",
    "    else:\n",
    "        stats_dict['awayTeam'] = None     \n",
    "        \n",
    "    awayRank = func_stats.find('div', attrs={'class':'position t2'})\n",
    "    if awayRank:\n",
    "        stats_dict['awayRank'] = awayRank.get_text()\n",
    "    else:\n",
    "        stats_dict['awayRank'] = None     \n",
    "        \n",
    "    awayGoals = func_stats.find('div', attrs={'class':'content-box t-2'}).find('div', attrs={'class':'poss-box'})\n",
    "    if awayGoals:\n",
    "        stats_dict['awayGoals'] = awayGoals.get_text('/', strip=True)\n",
    "    else:\n",
    "        stats_dict['awayGoals'] = None     \n",
    "   \n",
    "    \n",
    "    return stats_dict\n",
    "\n"
   ]
  },
  {
   "cell_type": "code",
   "execution_count": 4,
   "id": "040d808b",
   "metadata": {},
   "outputs": [
    {
     "name": "stdout",
     "output_type": "stream",
     "text": [
      "Introduce url de partido: https://es.besoccer.com/partido/brentford/arsenal/202318282\n"
     ]
    }
   ],
   "source": [
    "url_match = input('Introduce url de partido: ')\n",
    "\n",
    "# 'https://es.besoccer.com/partido/brentford/arsenal/202318282' "
   ]
  },
  {
   "cell_type": "code",
   "execution_count": 5,
   "id": "7e1a73c5",
   "metadata": {},
   "outputs": [],
   "source": [
    "r_match = requests.get(url_match)\n",
    "if r_match.status_code == 200:\n",
    "    s_match = BeautifulSoup(r_match.text, 'lxml')\n",
    "    find_analisis = s_match.find('div', attrs={'class':'menu-scroll'}).select('a[href*=\"analisis\"]')\n",
    "    analisis = find_analisis[0]\n",
    "    link_analisis = analisis.get('href')\n",
    "    r_link_analisis = requests.get(link_analisis)\n",
    "    s_link_analisis = BeautifulSoup(r_link_analisis.text, 'lxml')\n",
    "else:\n",
    "    print('La url ' + url_match + ' es incorrecta, por favor, introduzca una válida de nuevo.')\n",
    "    #f_url_match(url_match)\n",
    "        "
   ]
  },
  {
   "cell_type": "code",
   "execution_count": 6,
   "id": "a3bc289e",
   "metadata": {},
   "outputs": [
    {
     "data": {
      "text/plain": [
       "{'date': '2022-09-18T11:00:00+00:00',\n",
       " 'draw': '0-0/4.6%',\n",
       " 'competition': 'Premier League.  Jornada 8',\n",
       " 'homeTeam': 'Brentford',\n",
       " 'homeRank': '9º',\n",
       " 'homeGoals': '14.8%/Probabilidad gana/0.92/Goles esperados',\n",
       " 'awayTeam': 'Arsenal',\n",
       " 'awayRank': '2º',\n",
       " 'awayGoals': '65.9%/Probabilidad gana/2.17/Goles esperados'}"
      ]
     },
     "execution_count": 6,
     "metadata": {},
     "output_type": "execute_result"
    }
   ],
   "source": [
    "obtener_stats(s_link_analisis)\n"
   ]
  },
  {
   "cell_type": "code",
   "execution_count": 7,
   "id": "0425a5d7",
   "metadata": {},
   "outputs": [],
   "source": [
    "#df = pd.DataFrame(obtener_stats(s_link_analisis), index=list(range(0,1)))"
   ]
  },
  {
   "cell_type": "code",
   "execution_count": 8,
   "id": "740ee485",
   "metadata": {},
   "outputs": [],
   "source": [
    "df = pd.DataFrame(obtener_stats(s_link_analisis), index=list(range(len(find_analisis))))"
   ]
  },
  {
   "cell_type": "code",
   "execution_count": 9,
   "id": "f4173275",
   "metadata": {},
   "outputs": [],
   "source": [
    "name_csv = s_link_analisis.find('p', attrs={'itemprop':'homeTeam'}).get_text('/', strip=True)+\" - \"+s_link_analisis.find('p', attrs={'itemprop':'awayTeam'}).get_text('/', strip=True)"
   ]
  },
  {
   "cell_type": "code",
   "execution_count": 10,
   "id": "2cb745c4",
   "metadata": {},
   "outputs": [],
   "source": [
    "df.to_csv(f'{name_csv}.csv', header=False)"
   ]
  },
  {
   "cell_type": "code",
   "execution_count": 11,
   "id": "62855882",
   "metadata": {},
   "outputs": [
    {
     "data": {
      "text/html": [
       "<div>\n",
       "<style scoped>\n",
       "    .dataframe tbody tr th:only-of-type {\n",
       "        vertical-align: middle;\n",
       "    }\n",
       "\n",
       "    .dataframe tbody tr th {\n",
       "        vertical-align: top;\n",
       "    }\n",
       "\n",
       "    .dataframe thead th {\n",
       "        text-align: right;\n",
       "    }\n",
       "</style>\n",
       "<table border=\"1\" class=\"dataframe\">\n",
       "  <thead>\n",
       "    <tr style=\"text-align: right;\">\n",
       "      <th></th>\n",
       "      <th>date</th>\n",
       "      <th>draw</th>\n",
       "      <th>competition</th>\n",
       "      <th>homeTeam</th>\n",
       "      <th>homeRank</th>\n",
       "      <th>homeGoals</th>\n",
       "      <th>awayTeam</th>\n",
       "      <th>awayRank</th>\n",
       "      <th>awayGoals</th>\n",
       "    </tr>\n",
       "  </thead>\n",
       "  <tbody>\n",
       "    <tr>\n",
       "      <th>0</th>\n",
       "      <td>2022-09-18T11:00:00+00:00</td>\n",
       "      <td>0-0/4.6%</td>\n",
       "      <td>Premier League.  Jornada 8</td>\n",
       "      <td>Brentford</td>\n",
       "      <td>9º</td>\n",
       "      <td>14.8%/Probabilidad gana/0.92/Goles esperados</td>\n",
       "      <td>Arsenal</td>\n",
       "      <td>2º</td>\n",
       "      <td>65.9%/Probabilidad gana/2.17/Goles esperados</td>\n",
       "    </tr>\n",
       "  </tbody>\n",
       "</table>\n",
       "</div>"
      ],
      "text/plain": [
       "                        date      draw                 competition   homeTeam  \\\n",
       "0  2022-09-18T11:00:00+00:00  0-0/4.6%  Premier League.  Jornada 8  Brentford   \n",
       "\n",
       "  homeRank                                     homeGoals awayTeam awayRank  \\\n",
       "0       9º  14.8%/Probabilidad gana/0.92/Goles esperados  Arsenal       2º   \n",
       "\n",
       "                                      awayGoals  \n",
       "0  65.9%/Probabilidad gana/2.17/Goles esperados  "
      ]
     },
     "execution_count": 11,
     "metadata": {},
     "output_type": "execute_result"
    }
   ],
   "source": [
    "df.head()"
   ]
  },
  {
   "cell_type": "code",
   "execution_count": null,
   "id": "a41afcd1",
   "metadata": {},
   "outputs": [],
   "source": []
  },
  {
   "cell_type": "code",
   "execution_count": null,
   "id": "a49b62f3",
   "metadata": {},
   "outputs": [],
   "source": []
  }
 ],
 "metadata": {
  "kernelspec": {
   "display_name": "Python 3 (ipykernel)",
   "language": "python",
   "name": "python3"
  },
  "language_info": {
   "codemirror_mode": {
    "name": "ipython",
    "version": 3
   },
   "file_extension": ".py",
   "mimetype": "text/x-python",
   "name": "python",
   "nbconvert_exporter": "python",
   "pygments_lexer": "ipython3",
   "version": "3.9.12"
  }
 },
 "nbformat": 4,
 "nbformat_minor": 5
}
